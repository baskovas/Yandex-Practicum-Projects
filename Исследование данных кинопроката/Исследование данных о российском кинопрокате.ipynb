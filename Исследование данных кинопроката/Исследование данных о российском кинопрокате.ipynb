{
 "cells": [
  {
   "cell_type": "markdown",
   "metadata": {
    "id": "sIfNaMOxgFyK"
   },
   "source": [
    "## Исследование данных о российском кинопрокате\n",
    "\n"
   ]
  },
  {
   "cell_type": "markdown",
   "metadata": {},
   "source": [
    "**Цель исследования:** Нужно изучить рынок российского кинопроката и выявить текущие тренды. Обратить внимание на фильмы, которые получили государственную поддержку. Ответить на вопрос, насколько такие фильмы интересны зрителю."
   ]
  },
  {
   "cell_type": "markdown",
   "metadata": {
    "id": "3bSlkCsbgFyL"
   },
   "source": [
    "### Шаг 1. Импорт библиотек и загрузка данных "
   ]
  },
  {
   "cell_type": "code",
   "execution_count": 1,
   "metadata": {
    "id": "dw87FlzMgFyM"
   },
   "outputs": [],
   "source": [
    "import pandas as pd #импортируем библиотеки\n",
    "import numpy as np\n",
    "import matplotlib.pyplot as plt"
   ]
  },
  {
   "cell_type": "code",
   "execution_count": 2,
   "metadata": {},
   "outputs": [],
   "source": [
    "try:\n",
    "    movies = pd.read_csv('mkrf_movies.csv')  #загружаем данные из файла в переменную movies и shows\n",
    "    shows = pd.read_csv('mkrf_shows.csv')\n",
    "except:\n",
    "    movies = pd.read_csv('/datasets/mkrf_movies.csv')\n",
    "    shows = pd.read_csv('/datasets/mkrf_shows.csv')"
   ]
  },
  {
   "cell_type": "code",
   "execution_count": 3,
   "metadata": {
    "scrolled": true
   },
   "outputs": [
    {
     "data": {
      "text/html": [
       "<div>\n",
       "<style scoped>\n",
       "    .dataframe tbody tr th:only-of-type {\n",
       "        vertical-align: middle;\n",
       "    }\n",
       "\n",
       "    .dataframe tbody tr th {\n",
       "        vertical-align: top;\n",
       "    }\n",
       "\n",
       "    .dataframe thead th {\n",
       "        text-align: right;\n",
       "    }\n",
       "</style>\n",
       "<table border=\"1\" class=\"dataframe\">\n",
       "  <thead>\n",
       "    <tr style=\"text-align: right;\">\n",
       "      <th></th>\n",
       "      <th>title</th>\n",
       "      <th>puNumber</th>\n",
       "      <th>show_start_date</th>\n",
       "      <th>type</th>\n",
       "      <th>film_studio</th>\n",
       "      <th>production_country</th>\n",
       "      <th>director</th>\n",
       "      <th>producer</th>\n",
       "      <th>age_restriction</th>\n",
       "      <th>refundable_support</th>\n",
       "      <th>nonrefundable_support</th>\n",
       "      <th>budget</th>\n",
       "      <th>financing_source</th>\n",
       "      <th>ratings</th>\n",
       "      <th>genres</th>\n",
       "    </tr>\n",
       "  </thead>\n",
       "  <tbody>\n",
       "    <tr>\n",
       "      <td>0</td>\n",
       "      <td>Открытый простор</td>\n",
       "      <td>221048915</td>\n",
       "      <td>2015-11-27T12:00:00.000Z</td>\n",
       "      <td>Художественный</td>\n",
       "      <td>Тачстоун Пикчерз, Кобальт Пикчерз, Бикон Пикче...</td>\n",
       "      <td>США</td>\n",
       "      <td>Кевин Костнер</td>\n",
       "      <td>Дэвид Валдес, Кевин Костнер, Джейк Эбертс</td>\n",
       "      <td>«18+» - запрещено для детей</td>\n",
       "      <td>NaN</td>\n",
       "      <td>NaN</td>\n",
       "      <td>NaN</td>\n",
       "      <td>NaN</td>\n",
       "      <td>7.2</td>\n",
       "      <td>боевик,драма,мелодрама</td>\n",
       "    </tr>\n",
       "    <tr>\n",
       "      <td>1</td>\n",
       "      <td>Особо важное задание</td>\n",
       "      <td>111013716</td>\n",
       "      <td>2016-09-13T12:00:00.000Z</td>\n",
       "      <td>Художественный</td>\n",
       "      <td>Киностудия \"Мосфильм\"</td>\n",
       "      <td>СССР</td>\n",
       "      <td>Е.Матвеев</td>\n",
       "      <td>NaN</td>\n",
       "      <td>«6+» - для детей старше 6 лет</td>\n",
       "      <td>NaN</td>\n",
       "      <td>NaN</td>\n",
       "      <td>NaN</td>\n",
       "      <td>NaN</td>\n",
       "      <td>6.6</td>\n",
       "      <td>драма,военный</td>\n",
       "    </tr>\n",
       "    <tr>\n",
       "      <td>2</td>\n",
       "      <td>Особо опасен</td>\n",
       "      <td>221038416</td>\n",
       "      <td>2016-10-10T12:00:00.000Z</td>\n",
       "      <td>Художественный</td>\n",
       "      <td>Юниверсал Пикчерз, Кикстарт Продакшнз, Марк Пл...</td>\n",
       "      <td>США</td>\n",
       "      <td>Тимур Бекмамбетов</td>\n",
       "      <td>Джим Лемли, Джейсон Нетер, Марк Е.Платт, Яйн Смит</td>\n",
       "      <td>«18+» - запрещено для детей</td>\n",
       "      <td>NaN</td>\n",
       "      <td>NaN</td>\n",
       "      <td>NaN</td>\n",
       "      <td>NaN</td>\n",
       "      <td>6.8</td>\n",
       "      <td>фантастика,боевик,триллер</td>\n",
       "    </tr>\n",
       "    <tr>\n",
       "      <td>3</td>\n",
       "      <td>Особо опасен</td>\n",
       "      <td>221026916</td>\n",
       "      <td>2016-06-10T12:00:00.000Z</td>\n",
       "      <td>Художественный</td>\n",
       "      <td>Юниверсал Пикчерз, Кикстарт Продакшнз, Марк Пл...</td>\n",
       "      <td>США</td>\n",
       "      <td>Тимур Бекмамбетов</td>\n",
       "      <td>Джим Лемли, Джейсон Нетер, Марк Е.Платт, Яйн Смит</td>\n",
       "      <td>«18+» - запрещено для детей</td>\n",
       "      <td>NaN</td>\n",
       "      <td>NaN</td>\n",
       "      <td>NaN</td>\n",
       "      <td>NaN</td>\n",
       "      <td>6.8</td>\n",
       "      <td>фантастика,боевик,триллер</td>\n",
       "    </tr>\n",
       "    <tr>\n",
       "      <td>4</td>\n",
       "      <td>Особо опасен</td>\n",
       "      <td>221030815</td>\n",
       "      <td>2015-07-29T12:00:00.000Z</td>\n",
       "      <td>Художественный</td>\n",
       "      <td>Юниверсал Пикчерз, Кикстарт Продакшнз, Марк Пл...</td>\n",
       "      <td>США</td>\n",
       "      <td>Тимур Бекмамбетов</td>\n",
       "      <td>Джим Лемли, Джейсон Нетер, Марк Е.Платт, Яйн Смит</td>\n",
       "      <td>«18+» - запрещено для детей</td>\n",
       "      <td>NaN</td>\n",
       "      <td>NaN</td>\n",
       "      <td>NaN</td>\n",
       "      <td>NaN</td>\n",
       "      <td>6.8</td>\n",
       "      <td>фантастика,боевик,триллер</td>\n",
       "    </tr>\n",
       "  </tbody>\n",
       "</table>\n",
       "</div>"
      ],
      "text/plain": [
       "                  title   puNumber           show_start_date            type  \\\n",
       "0      Открытый простор  221048915  2015-11-27T12:00:00.000Z  Художественный   \n",
       "1  Особо важное задание  111013716  2016-09-13T12:00:00.000Z  Художественный   \n",
       "2          Особо опасен  221038416  2016-10-10T12:00:00.000Z  Художественный   \n",
       "3          Особо опасен  221026916  2016-06-10T12:00:00.000Z  Художественный   \n",
       "4          Особо опасен  221030815  2015-07-29T12:00:00.000Z  Художественный   \n",
       "\n",
       "                                         film_studio production_country  \\\n",
       "0  Тачстоун Пикчерз, Кобальт Пикчерз, Бикон Пикче...                США   \n",
       "1                              Киностудия \"Мосфильм\"               СССР   \n",
       "2  Юниверсал Пикчерз, Кикстарт Продакшнз, Марк Пл...                США   \n",
       "3  Юниверсал Пикчерз, Кикстарт Продакшнз, Марк Пл...                США   \n",
       "4  Юниверсал Пикчерз, Кикстарт Продакшнз, Марк Пл...                США   \n",
       "\n",
       "            director                                           producer  \\\n",
       "0      Кевин Костнер          Дэвид Валдес, Кевин Костнер, Джейк Эбертс   \n",
       "1          Е.Матвеев                                                NaN   \n",
       "2  Тимур Бекмамбетов  Джим Лемли, Джейсон Нетер, Марк Е.Платт, Яйн Смит   \n",
       "3  Тимур Бекмамбетов  Джим Лемли, Джейсон Нетер, Марк Е.Платт, Яйн Смит   \n",
       "4  Тимур Бекмамбетов  Джим Лемли, Джейсон Нетер, Марк Е.Платт, Яйн Смит   \n",
       "\n",
       "                 age_restriction  refundable_support  nonrefundable_support  \\\n",
       "0    «18+» - запрещено для детей                 NaN                    NaN   \n",
       "1  «6+» - для детей старше 6 лет                 NaN                    NaN   \n",
       "2    «18+» - запрещено для детей                 NaN                    NaN   \n",
       "3    «18+» - запрещено для детей                 NaN                    NaN   \n",
       "4    «18+» - запрещено для детей                 NaN                    NaN   \n",
       "\n",
       "   budget financing_source ratings                     genres  \n",
       "0     NaN              NaN     7.2     боевик,драма,мелодрама  \n",
       "1     NaN              NaN     6.6              драма,военный  \n",
       "2     NaN              NaN     6.8  фантастика,боевик,триллер  \n",
       "3     NaN              NaN     6.8  фантастика,боевик,триллер  \n",
       "4     NaN              NaN     6.8  фантастика,боевик,триллер  "
      ]
     },
     "execution_count": 3,
     "metadata": {},
     "output_type": "execute_result"
    }
   ],
   "source": [
    "movies.head()"
   ]
  },
  {
   "cell_type": "code",
   "execution_count": 4,
   "metadata": {},
   "outputs": [
    {
     "data": {
      "text/html": [
       "<div>\n",
       "<style scoped>\n",
       "    .dataframe tbody tr th:only-of-type {\n",
       "        vertical-align: middle;\n",
       "    }\n",
       "\n",
       "    .dataframe tbody tr th {\n",
       "        vertical-align: top;\n",
       "    }\n",
       "\n",
       "    .dataframe thead th {\n",
       "        text-align: right;\n",
       "    }\n",
       "</style>\n",
       "<table border=\"1\" class=\"dataframe\">\n",
       "  <thead>\n",
       "    <tr style=\"text-align: right;\">\n",
       "      <th></th>\n",
       "      <th>puNumber</th>\n",
       "      <th>box_office</th>\n",
       "    </tr>\n",
       "  </thead>\n",
       "  <tbody>\n",
       "    <tr>\n",
       "      <td>0</td>\n",
       "      <td>111000113</td>\n",
       "      <td>2.450000e+03</td>\n",
       "    </tr>\n",
       "    <tr>\n",
       "      <td>1</td>\n",
       "      <td>111000115</td>\n",
       "      <td>6.104000e+04</td>\n",
       "    </tr>\n",
       "    <tr>\n",
       "      <td>2</td>\n",
       "      <td>111000116</td>\n",
       "      <td>1.530300e+08</td>\n",
       "    </tr>\n",
       "    <tr>\n",
       "      <td>3</td>\n",
       "      <td>111000117</td>\n",
       "      <td>1.226096e+07</td>\n",
       "    </tr>\n",
       "    <tr>\n",
       "      <td>4</td>\n",
       "      <td>111000118</td>\n",
       "      <td>1.636841e+08</td>\n",
       "    </tr>\n",
       "  </tbody>\n",
       "</table>\n",
       "</div>"
      ],
      "text/plain": [
       "    puNumber    box_office\n",
       "0  111000113  2.450000e+03\n",
       "1  111000115  6.104000e+04\n",
       "2  111000116  1.530300e+08\n",
       "3  111000117  1.226096e+07\n",
       "4  111000118  1.636841e+08"
      ]
     },
     "execution_count": 4,
     "metadata": {},
     "output_type": "execute_result"
    }
   ],
   "source": [
    "shows.head() #первые пять значений датасета shows"
   ]
  },
  {
   "cell_type": "code",
   "execution_count": 5,
   "metadata": {},
   "outputs": [
    {
     "name": "stdout",
     "output_type": "stream",
     "text": [
      "<class 'pandas.core.frame.DataFrame'>\n",
      "RangeIndex: 3158 entries, 0 to 3157\n",
      "Data columns (total 2 columns):\n",
      "puNumber      3158 non-null int64\n",
      "box_office    3158 non-null float64\n",
      "dtypes: float64(1), int64(1)\n",
      "memory usage: 49.5 KB\n"
     ]
    }
   ],
   "source": [
    "shows.info() #получение сведений о датафрейме shows"
   ]
  },
  {
   "cell_type": "code",
   "execution_count": 6,
   "metadata": {},
   "outputs": [
    {
     "name": "stdout",
     "output_type": "stream",
     "text": [
      "<class 'pandas.core.frame.DataFrame'>\n",
      "RangeIndex: 7486 entries, 0 to 7485\n",
      "Data columns (total 15 columns):\n",
      "title                    7486 non-null object\n",
      "puNumber                 7486 non-null object\n",
      "show_start_date          7486 non-null object\n",
      "type                     7486 non-null object\n",
      "film_studio              7468 non-null object\n",
      "production_country       7484 non-null object\n",
      "director                 7477 non-null object\n",
      "producer                 6918 non-null object\n",
      "age_restriction          7486 non-null object\n",
      "refundable_support       332 non-null float64\n",
      "nonrefundable_support    332 non-null float64\n",
      "budget                   332 non-null float64\n",
      "financing_source         332 non-null object\n",
      "ratings                  6519 non-null object\n",
      "genres                   6510 non-null object\n",
      "dtypes: float64(3), object(12)\n",
      "memory usage: 877.4+ KB\n"
     ]
    }
   ],
   "source": [
    "movies.info() #получение сведений о датафрейме movies"
   ]
  },
  {
   "cell_type": "code",
   "execution_count": 7,
   "metadata": {},
   "outputs": [
    {
     "data": {
      "text/html": [
       "<div>\n",
       "<style scoped>\n",
       "    .dataframe tbody tr th:only-of-type {\n",
       "        vertical-align: middle;\n",
       "    }\n",
       "\n",
       "    .dataframe tbody tr th {\n",
       "        vertical-align: top;\n",
       "    }\n",
       "\n",
       "    .dataframe thead th {\n",
       "        text-align: right;\n",
       "    }\n",
       "</style>\n",
       "<table border=\"1\" class=\"dataframe\">\n",
       "  <thead>\n",
       "    <tr style=\"text-align: right;\">\n",
       "      <th></th>\n",
       "      <th>title</th>\n",
       "      <th>puNumber</th>\n",
       "      <th>show_start_date</th>\n",
       "      <th>type</th>\n",
       "      <th>film_studio</th>\n",
       "      <th>production_country</th>\n",
       "      <th>director</th>\n",
       "      <th>producer</th>\n",
       "      <th>age_restriction</th>\n",
       "      <th>refundable_support</th>\n",
       "      <th>nonrefundable_support</th>\n",
       "      <th>budget</th>\n",
       "      <th>financing_source</th>\n",
       "      <th>ratings</th>\n",
       "      <th>genres</th>\n",
       "      <th>box_office</th>\n",
       "    </tr>\n",
       "  </thead>\n",
       "  <tbody>\n",
       "    <tr>\n",
       "      <td>0</td>\n",
       "      <td>Открытый простор</td>\n",
       "      <td>221048915</td>\n",
       "      <td>2015-11-27T12:00:00.000Z</td>\n",
       "      <td>Художественный</td>\n",
       "      <td>Тачстоун Пикчерз, Кобальт Пикчерз, Бикон Пикче...</td>\n",
       "      <td>США</td>\n",
       "      <td>Кевин Костнер</td>\n",
       "      <td>Дэвид Валдес, Кевин Костнер, Джейк Эбертс</td>\n",
       "      <td>«18+» - запрещено для детей</td>\n",
       "      <td>NaN</td>\n",
       "      <td>NaN</td>\n",
       "      <td>NaN</td>\n",
       "      <td>NaN</td>\n",
       "      <td>7.2</td>\n",
       "      <td>боевик,драма,мелодрама</td>\n",
       "      <td>NaN</td>\n",
       "    </tr>\n",
       "    <tr>\n",
       "      <td>1</td>\n",
       "      <td>Особо важное задание</td>\n",
       "      <td>111013716</td>\n",
       "      <td>2016-09-13T12:00:00.000Z</td>\n",
       "      <td>Художественный</td>\n",
       "      <td>Киностудия \"Мосфильм\"</td>\n",
       "      <td>СССР</td>\n",
       "      <td>Е.Матвеев</td>\n",
       "      <td>NaN</td>\n",
       "      <td>«6+» - для детей старше 6 лет</td>\n",
       "      <td>NaN</td>\n",
       "      <td>NaN</td>\n",
       "      <td>NaN</td>\n",
       "      <td>NaN</td>\n",
       "      <td>6.6</td>\n",
       "      <td>драма,военный</td>\n",
       "      <td>NaN</td>\n",
       "    </tr>\n",
       "    <tr>\n",
       "      <td>2</td>\n",
       "      <td>Особо опасен</td>\n",
       "      <td>221038416</td>\n",
       "      <td>2016-10-10T12:00:00.000Z</td>\n",
       "      <td>Художественный</td>\n",
       "      <td>Юниверсал Пикчерз, Кикстарт Продакшнз, Марк Пл...</td>\n",
       "      <td>США</td>\n",
       "      <td>Тимур Бекмамбетов</td>\n",
       "      <td>Джим Лемли, Джейсон Нетер, Марк Е.Платт, Яйн Смит</td>\n",
       "      <td>«18+» - запрещено для детей</td>\n",
       "      <td>NaN</td>\n",
       "      <td>NaN</td>\n",
       "      <td>NaN</td>\n",
       "      <td>NaN</td>\n",
       "      <td>6.8</td>\n",
       "      <td>фантастика,боевик,триллер</td>\n",
       "      <td>NaN</td>\n",
       "    </tr>\n",
       "    <tr>\n",
       "      <td>3</td>\n",
       "      <td>Особо опасен</td>\n",
       "      <td>221026916</td>\n",
       "      <td>2016-06-10T12:00:00.000Z</td>\n",
       "      <td>Художественный</td>\n",
       "      <td>Юниверсал Пикчерз, Кикстарт Продакшнз, Марк Пл...</td>\n",
       "      <td>США</td>\n",
       "      <td>Тимур Бекмамбетов</td>\n",
       "      <td>Джим Лемли, Джейсон Нетер, Марк Е.Платт, Яйн Смит</td>\n",
       "      <td>«18+» - запрещено для детей</td>\n",
       "      <td>NaN</td>\n",
       "      <td>NaN</td>\n",
       "      <td>NaN</td>\n",
       "      <td>NaN</td>\n",
       "      <td>6.8</td>\n",
       "      <td>фантастика,боевик,триллер</td>\n",
       "      <td>NaN</td>\n",
       "    </tr>\n",
       "    <tr>\n",
       "      <td>4</td>\n",
       "      <td>Особо опасен</td>\n",
       "      <td>221030815</td>\n",
       "      <td>2015-07-29T12:00:00.000Z</td>\n",
       "      <td>Художественный</td>\n",
       "      <td>Юниверсал Пикчерз, Кикстарт Продакшнз, Марк Пл...</td>\n",
       "      <td>США</td>\n",
       "      <td>Тимур Бекмамбетов</td>\n",
       "      <td>Джим Лемли, Джейсон Нетер, Марк Е.Платт, Яйн Смит</td>\n",
       "      <td>«18+» - запрещено для детей</td>\n",
       "      <td>NaN</td>\n",
       "      <td>NaN</td>\n",
       "      <td>NaN</td>\n",
       "      <td>NaN</td>\n",
       "      <td>6.8</td>\n",
       "      <td>фантастика,боевик,триллер</td>\n",
       "      <td>NaN</td>\n",
       "    </tr>\n",
       "  </tbody>\n",
       "</table>\n",
       "</div>"
      ],
      "text/plain": [
       "                  title   puNumber           show_start_date            type  \\\n",
       "0      Открытый простор  221048915  2015-11-27T12:00:00.000Z  Художественный   \n",
       "1  Особо важное задание  111013716  2016-09-13T12:00:00.000Z  Художественный   \n",
       "2          Особо опасен  221038416  2016-10-10T12:00:00.000Z  Художественный   \n",
       "3          Особо опасен  221026916  2016-06-10T12:00:00.000Z  Художественный   \n",
       "4          Особо опасен  221030815  2015-07-29T12:00:00.000Z  Художественный   \n",
       "\n",
       "                                         film_studio production_country  \\\n",
       "0  Тачстоун Пикчерз, Кобальт Пикчерз, Бикон Пикче...                США   \n",
       "1                              Киностудия \"Мосфильм\"               СССР   \n",
       "2  Юниверсал Пикчерз, Кикстарт Продакшнз, Марк Пл...                США   \n",
       "3  Юниверсал Пикчерз, Кикстарт Продакшнз, Марк Пл...                США   \n",
       "4  Юниверсал Пикчерз, Кикстарт Продакшнз, Марк Пл...                США   \n",
       "\n",
       "            director                                           producer  \\\n",
       "0      Кевин Костнер          Дэвид Валдес, Кевин Костнер, Джейк Эбертс   \n",
       "1          Е.Матвеев                                                NaN   \n",
       "2  Тимур Бекмамбетов  Джим Лемли, Джейсон Нетер, Марк Е.Платт, Яйн Смит   \n",
       "3  Тимур Бекмамбетов  Джим Лемли, Джейсон Нетер, Марк Е.Платт, Яйн Смит   \n",
       "4  Тимур Бекмамбетов  Джим Лемли, Джейсон Нетер, Марк Е.Платт, Яйн Смит   \n",
       "\n",
       "                 age_restriction  refundable_support  nonrefundable_support  \\\n",
       "0    «18+» - запрещено для детей                 NaN                    NaN   \n",
       "1  «6+» - для детей старше 6 лет                 NaN                    NaN   \n",
       "2    «18+» - запрещено для детей                 NaN                    NaN   \n",
       "3    «18+» - запрещено для детей                 NaN                    NaN   \n",
       "4    «18+» - запрещено для детей                 NaN                    NaN   \n",
       "\n",
       "   budget financing_source ratings                     genres  box_office  \n",
       "0     NaN              NaN     7.2     боевик,драма,мелодрама         NaN  \n",
       "1     NaN              NaN     6.6              драма,военный         NaN  \n",
       "2     NaN              NaN     6.8  фантастика,боевик,триллер         NaN  \n",
       "3     NaN              NaN     6.8  фантастика,боевик,триллер         NaN  \n",
       "4     NaN              NaN     6.8  фантастика,боевик,триллер         NaN  "
      ]
     },
     "execution_count": 7,
     "metadata": {},
     "output_type": "execute_result"
    }
   ],
   "source": [
    "shows['puNumber'] = shows['puNumber'].astype('str') #приведение столбца puNumber к строковому типу данных\n",
    "movies = movies.merge(shows, on = 'puNumber', how = 'outer') #объединение датафреймов по столбцу puNumber\n",
    "movies.head()"
   ]
  },
  {
   "cell_type": "code",
   "execution_count": 8,
   "metadata": {},
   "outputs": [
    {
     "data": {
      "text/html": [
       "<div>\n",
       "<style scoped>\n",
       "    .dataframe tbody tr th:only-of-type {\n",
       "        vertical-align: middle;\n",
       "    }\n",
       "\n",
       "    .dataframe tbody tr th {\n",
       "        vertical-align: top;\n",
       "    }\n",
       "\n",
       "    .dataframe thead th {\n",
       "        text-align: right;\n",
       "    }\n",
       "</style>\n",
       "<table border=\"1\" class=\"dataframe\">\n",
       "  <thead>\n",
       "    <tr style=\"text-align: right;\">\n",
       "      <th></th>\n",
       "      <th>title</th>\n",
       "      <th>puNumber</th>\n",
       "      <th>show_start_date</th>\n",
       "      <th>type</th>\n",
       "      <th>film_studio</th>\n",
       "      <th>production_country</th>\n",
       "      <th>director</th>\n",
       "      <th>producer</th>\n",
       "      <th>age_restriction</th>\n",
       "      <th>refundable_support</th>\n",
       "      <th>nonrefundable_support</th>\n",
       "      <th>budget</th>\n",
       "      <th>financing_source</th>\n",
       "      <th>ratings</th>\n",
       "      <th>genres</th>\n",
       "      <th>box_office</th>\n",
       "    </tr>\n",
       "  </thead>\n",
       "  <tbody>\n",
       "    <tr>\n",
       "      <td>7481</td>\n",
       "      <td>Сад художника: Американский импрессионизм</td>\n",
       "      <td>126008019</td>\n",
       "      <td>2019-12-23T12:00:00.000Z</td>\n",
       "      <td>Прочие</td>\n",
       "      <td>Севен Артс Продакшнз</td>\n",
       "      <td>Великобритания</td>\n",
       "      <td>Фил Грабски</td>\n",
       "      <td>Фил Грабски</td>\n",
       "      <td>«12+» - для детей старше 12 лет</td>\n",
       "      <td>NaN</td>\n",
       "      <td>NaN</td>\n",
       "      <td>NaN</td>\n",
       "      <td>NaN</td>\n",
       "      <td>NaN</td>\n",
       "      <td>NaN</td>\n",
       "      <td>NaN</td>\n",
       "    </tr>\n",
       "    <tr>\n",
       "      <td>7482</td>\n",
       "      <td>Звериная ярость</td>\n",
       "      <td>121037819</td>\n",
       "      <td>2019-12-24T12:00:00.000Z</td>\n",
       "      <td>Художественный</td>\n",
       "      <td>Дэниел Гродник Продакшнз, Вандерфилм Медиа Кор...</td>\n",
       "      <td>США</td>\n",
       "      <td>Ник Пауэлл</td>\n",
       "      <td>Джефф Боулер, Дэниэл Гродник, Луильо Руис, Брэ...</td>\n",
       "      <td>«16+» - для детей старше 16 лет</td>\n",
       "      <td>NaN</td>\n",
       "      <td>NaN</td>\n",
       "      <td>NaN</td>\n",
       "      <td>NaN</td>\n",
       "      <td>5.4</td>\n",
       "      <td>боевик,триллер</td>\n",
       "      <td>NaN</td>\n",
       "    </tr>\n",
       "    <tr>\n",
       "      <td>7483</td>\n",
       "      <td>Щенячий патруль: Скорей спешим на помощь!</td>\n",
       "      <td>124010819</td>\n",
       "      <td>2019-12-28T12:00:00.000Z</td>\n",
       "      <td>Художественный</td>\n",
       "      <td>Никелодеон Анимейшн Студиос, Спин Мастер</td>\n",
       "      <td>США - Канада</td>\n",
       "      <td>Чарльз Е.Бастьен</td>\n",
       "      <td>Дженнифер Додж</td>\n",
       "      <td>«0+» - для любой зрительской аудитории</td>\n",
       "      <td>NaN</td>\n",
       "      <td>NaN</td>\n",
       "      <td>NaN</td>\n",
       "      <td>NaN</td>\n",
       "      <td>NaN</td>\n",
       "      <td>NaN</td>\n",
       "      <td>NaN</td>\n",
       "    </tr>\n",
       "    <tr>\n",
       "      <td>7484</td>\n",
       "      <td>Машины песенки. Серия \"Испанские мотивы\"</td>\n",
       "      <td>124010619</td>\n",
       "      <td>2019-12-30T12:00:00.000Z</td>\n",
       "      <td>Анимационный</td>\n",
       "      <td>Анимаккорд Лтд., ООО Студия \"АНИМАККОРД\"</td>\n",
       "      <td>Республика Кипр, Россия</td>\n",
       "      <td>А.Беляев</td>\n",
       "      <td>Д.Ловейко</td>\n",
       "      <td>«0+» - для любой зрительской аудитории</td>\n",
       "      <td>NaN</td>\n",
       "      <td>NaN</td>\n",
       "      <td>NaN</td>\n",
       "      <td>NaN</td>\n",
       "      <td>NaN</td>\n",
       "      <td>NaN</td>\n",
       "      <td>NaN</td>\n",
       "    </tr>\n",
       "    <tr>\n",
       "      <td>7485</td>\n",
       "      <td>Машины песенки. Серия \"Когда цветут кактусы\"</td>\n",
       "      <td>124010719</td>\n",
       "      <td>2019-12-30T12:00:00.000Z</td>\n",
       "      <td>Анимационный</td>\n",
       "      <td>Анимаккорд Лтд., ООО Студия \"АНИМАККОРД\"</td>\n",
       "      <td>Республика Кипр, Россия</td>\n",
       "      <td>И.Трусов</td>\n",
       "      <td>Д.Ловейко</td>\n",
       "      <td>«0+» - для любой зрительской аудитории</td>\n",
       "      <td>NaN</td>\n",
       "      <td>NaN</td>\n",
       "      <td>NaN</td>\n",
       "      <td>NaN</td>\n",
       "      <td>6.3</td>\n",
       "      <td>комедия,вестерн</td>\n",
       "      <td>NaN</td>\n",
       "    </tr>\n",
       "  </tbody>\n",
       "</table>\n",
       "</div>"
      ],
      "text/plain": [
       "                                             title   puNumber  \\\n",
       "7481     Сад художника: Американский импрессионизм  126008019   \n",
       "7482                               Звериная ярость  121037819   \n",
       "7483     Щенячий патруль: Скорей спешим на помощь!  124010819   \n",
       "7484      Машины песенки. Серия \"Испанские мотивы\"  124010619   \n",
       "7485  Машины песенки. Серия \"Когда цветут кактусы\"  124010719   \n",
       "\n",
       "               show_start_date             type  \\\n",
       "7481  2019-12-23T12:00:00.000Z           Прочие   \n",
       "7482  2019-12-24T12:00:00.000Z   Художественный   \n",
       "7483  2019-12-28T12:00:00.000Z   Художественный   \n",
       "7484  2019-12-30T12:00:00.000Z     Анимационный   \n",
       "7485  2019-12-30T12:00:00.000Z     Анимационный   \n",
       "\n",
       "                                            film_studio  \\\n",
       "7481                               Севен Артс Продакшнз   \n",
       "7482  Дэниел Гродник Продакшнз, Вандерфилм Медиа Кор...   \n",
       "7483           Никелодеон Анимейшн Студиос, Спин Мастер   \n",
       "7484           Анимаккорд Лтд., ООО Студия \"АНИМАККОРД\"   \n",
       "7485           Анимаккорд Лтд., ООО Студия \"АНИМАККОРД\"   \n",
       "\n",
       "           production_country          director  \\\n",
       "7481           Великобритания       Фил Грабски   \n",
       "7482                      США        Ник Пауэлл   \n",
       "7483             США - Канада  Чарльз Е.Бастьен   \n",
       "7484  Республика Кипр, Россия          А.Беляев   \n",
       "7485  Республика Кипр, Россия          И.Трусов   \n",
       "\n",
       "                                               producer  \\\n",
       "7481                                        Фил Грабски   \n",
       "7482  Джефф Боулер, Дэниэл Гродник, Луильо Руис, Брэ...   \n",
       "7483                                     Дженнифер Додж   \n",
       "7484                                          Д.Ловейко   \n",
       "7485                                          Д.Ловейко   \n",
       "\n",
       "                             age_restriction  refundable_support  \\\n",
       "7481         «12+» - для детей старше 12 лет                 NaN   \n",
       "7482         «16+» - для детей старше 16 лет                 NaN   \n",
       "7483  «0+» - для любой зрительской аудитории                 NaN   \n",
       "7484  «0+» - для любой зрительской аудитории                 NaN   \n",
       "7485  «0+» - для любой зрительской аудитории                 NaN   \n",
       "\n",
       "      nonrefundable_support  budget financing_source ratings           genres  \\\n",
       "7481                    NaN     NaN              NaN     NaN              NaN   \n",
       "7482                    NaN     NaN              NaN     5.4   боевик,триллер   \n",
       "7483                    NaN     NaN              NaN     NaN              NaN   \n",
       "7484                    NaN     NaN              NaN     NaN              NaN   \n",
       "7485                    NaN     NaN              NaN     6.3  комедия,вестерн   \n",
       "\n",
       "      box_office  \n",
       "7481         NaN  \n",
       "7482         NaN  \n",
       "7483         NaN  \n",
       "7484         NaN  \n",
       "7485         NaN  "
      ]
     },
     "execution_count": 8,
     "metadata": {},
     "output_type": "execute_result"
    }
   ],
   "source": [
    "movies.tail() #последние пять строк датафрейма"
   ]
  },
  {
   "cell_type": "code",
   "execution_count": 9,
   "metadata": {},
   "outputs": [
    {
     "data": {
      "text/html": [
       "<div>\n",
       "<style scoped>\n",
       "    .dataframe tbody tr th:only-of-type {\n",
       "        vertical-align: middle;\n",
       "    }\n",
       "\n",
       "    .dataframe tbody tr th {\n",
       "        vertical-align: top;\n",
       "    }\n",
       "\n",
       "    .dataframe thead th {\n",
       "        text-align: right;\n",
       "    }\n",
       "</style>\n",
       "<table border=\"1\" class=\"dataframe\">\n",
       "  <thead>\n",
       "    <tr style=\"text-align: right;\">\n",
       "      <th></th>\n",
       "      <th>title</th>\n",
       "      <th>puNumber</th>\n",
       "      <th>show_start_date</th>\n",
       "      <th>type</th>\n",
       "      <th>film_studio</th>\n",
       "      <th>production_country</th>\n",
       "      <th>director</th>\n",
       "      <th>producer</th>\n",
       "      <th>age_restriction</th>\n",
       "      <th>refundable_support</th>\n",
       "      <th>nonrefundable_support</th>\n",
       "      <th>budget</th>\n",
       "      <th>financing_source</th>\n",
       "      <th>ratings</th>\n",
       "      <th>genres</th>\n",
       "      <th>box_office</th>\n",
       "    </tr>\n",
       "  </thead>\n",
       "  <tbody>\n",
       "    <tr>\n",
       "      <td>2718</td>\n",
       "      <td>Про Петра и Павла</td>\n",
       "      <td>111004315</td>\n",
       "      <td>2015-04-14T12:00:00.000Z</td>\n",
       "      <td>Художественный</td>\n",
       "      <td>ООО \"Студия ГРИНСИТИ\"</td>\n",
       "      <td>Россия</td>\n",
       "      <td>Ю.Попович</td>\n",
       "      <td>А.Сафронов, О.Степанцова, В.Щербин</td>\n",
       "      <td>«6+» - для детей старше 6 лет</td>\n",
       "      <td>0.0</td>\n",
       "      <td>37000000.0</td>\n",
       "      <td>52860000.0</td>\n",
       "      <td>Министерство культуры</td>\n",
       "      <td>6.1</td>\n",
       "      <td>драма</td>\n",
       "      <td>241620.0</td>\n",
       "    </tr>\n",
       "    <tr>\n",
       "      <td>6272</td>\n",
       "      <td>Кулаков великого предела</td>\n",
       "      <td>112009218</td>\n",
       "      <td>2018-10-09T12:00:00.000Z</td>\n",
       "      <td>Документальный</td>\n",
       "      <td>ООО \"Студия Грин Фильм\"</td>\n",
       "      <td>Россия</td>\n",
       "      <td>В.Непевный</td>\n",
       "      <td>Е.Григорьев</td>\n",
       "      <td>«18+» - запрещено для детей</td>\n",
       "      <td>NaN</td>\n",
       "      <td>NaN</td>\n",
       "      <td>NaN</td>\n",
       "      <td>NaN</td>\n",
       "      <td>NaN</td>\n",
       "      <td>NaN</td>\n",
       "      <td>NaN</td>\n",
       "    </tr>\n",
       "    <tr>\n",
       "      <td>3645</td>\n",
       "      <td>МУЛЬТ в кино. Выпуск № 53</td>\n",
       "      <td>114001217</td>\n",
       "      <td>2017-05-04T12:00:00.000Z</td>\n",
       "      <td>Анимационный</td>\n",
       "      <td>ООО \"Мульт в кино\"</td>\n",
       "      <td>Россия</td>\n",
       "      <td>О.Семёнова</td>\n",
       "      <td>П.Смирнов</td>\n",
       "      <td>«0+» - для любой зрительской аудитории</td>\n",
       "      <td>NaN</td>\n",
       "      <td>NaN</td>\n",
       "      <td>NaN</td>\n",
       "      <td>NaN</td>\n",
       "      <td>3.9</td>\n",
       "      <td>мультфильм,детский</td>\n",
       "      <td>NaN</td>\n",
       "    </tr>\n",
       "    <tr>\n",
       "      <td>6013</td>\n",
       "      <td>Смысл жизни</td>\n",
       "      <td>111011018</td>\n",
       "      <td>2018-08-01T12:00:00.000Z</td>\n",
       "      <td>Художественный</td>\n",
       "      <td>ООО \"Студия Д.Куповых\"</td>\n",
       "      <td>Россия</td>\n",
       "      <td>Э.Бордуков, Г.Дульян, М.Тумова, Э.Жолнин, В.Ку...</td>\n",
       "      <td>А.Ермолин, Д.Куповых, Р.Хайрулин, Г.Дульян, М....</td>\n",
       "      <td>«18+» - запрещено для детей</td>\n",
       "      <td>NaN</td>\n",
       "      <td>NaN</td>\n",
       "      <td>NaN</td>\n",
       "      <td>NaN</td>\n",
       "      <td>7.7</td>\n",
       "      <td>мюзикл,комедия</td>\n",
       "      <td>NaN</td>\n",
       "    </tr>\n",
       "    <tr>\n",
       "      <td>4317</td>\n",
       "      <td>Семейка Джонсов</td>\n",
       "      <td>121015210</td>\n",
       "      <td>2010-08-11T12:00:00.000Z</td>\n",
       "      <td>Художественный</td>\n",
       "      <td>Эхо Лэйк Продакшнз, Зе Джонсез, Премьер Пикчерз</td>\n",
       "      <td>США</td>\n",
       "      <td>Деррик Борте</td>\n",
       "      <td>Адам Беттеридж, Деррик Борте</td>\n",
       "      <td>«16+» - для детей старше 16 лет</td>\n",
       "      <td>NaN</td>\n",
       "      <td>NaN</td>\n",
       "      <td>NaN</td>\n",
       "      <td>NaN</td>\n",
       "      <td>6.8</td>\n",
       "      <td>драма,мелодрама,комедия</td>\n",
       "      <td>NaN</td>\n",
       "    </tr>\n",
       "  </tbody>\n",
       "</table>\n",
       "</div>"
      ],
      "text/plain": [
       "                          title   puNumber           show_start_date  \\\n",
       "2718          Про Петра и Павла  111004315  2015-04-14T12:00:00.000Z   \n",
       "6272   Кулаков великого предела  112009218  2018-10-09T12:00:00.000Z   \n",
       "3645  МУЛЬТ в кино. Выпуск № 53  114001217  2017-05-04T12:00:00.000Z   \n",
       "6013                Смысл жизни  111011018  2018-08-01T12:00:00.000Z   \n",
       "4317            Семейка Джонсов  121015210  2010-08-11T12:00:00.000Z   \n",
       "\n",
       "                 type                                      film_studio  \\\n",
       "2718   Художественный                            ООО \"Студия ГРИНСИТИ\"   \n",
       "6272   Документальный                          ООО \"Студия Грин Фильм\"   \n",
       "3645     Анимационный                               ООО \"Мульт в кино\"   \n",
       "6013   Художественный                           ООО \"Студия Д.Куповых\"   \n",
       "4317   Художественный  Эхо Лэйк Продакшнз, Зе Джонсез, Премьер Пикчерз   \n",
       "\n",
       "     production_country                                           director  \\\n",
       "2718             Россия                                          Ю.Попович   \n",
       "6272             Россия                                         В.Непевный   \n",
       "3645             Россия                                         О.Семёнова   \n",
       "6013             Россия  Э.Бордуков, Г.Дульян, М.Тумова, Э.Жолнин, В.Ку...   \n",
       "4317                США                                       Деррик Борте   \n",
       "\n",
       "                                               producer  \\\n",
       "2718                 А.Сафронов, О.Степанцова, В.Щербин   \n",
       "6272                                        Е.Григорьев   \n",
       "3645                                          П.Смирнов   \n",
       "6013  А.Ермолин, Д.Куповых, Р.Хайрулин, Г.Дульян, М....   \n",
       "4317                       Адам Беттеридж, Деррик Борте   \n",
       "\n",
       "                             age_restriction  refundable_support  \\\n",
       "2718           «6+» - для детей старше 6 лет                 0.0   \n",
       "6272             «18+» - запрещено для детей                 NaN   \n",
       "3645  «0+» - для любой зрительской аудитории                 NaN   \n",
       "6013             «18+» - запрещено для детей                 NaN   \n",
       "4317         «16+» - для детей старше 16 лет                 NaN   \n",
       "\n",
       "      nonrefundable_support      budget       financing_source ratings  \\\n",
       "2718             37000000.0  52860000.0  Министерство культуры     6.1   \n",
       "6272                    NaN         NaN                    NaN     NaN   \n",
       "3645                    NaN         NaN                    NaN     3.9   \n",
       "6013                    NaN         NaN                    NaN     7.7   \n",
       "4317                    NaN         NaN                    NaN     6.8   \n",
       "\n",
       "                       genres  box_office  \n",
       "2718                    драма    241620.0  \n",
       "6272                      NaN         NaN  \n",
       "3645       мультфильм,детский         NaN  \n",
       "6013           мюзикл,комедия         NaN  \n",
       "4317  драма,мелодрама,комедия         NaN  "
      ]
     },
     "execution_count": 9,
     "metadata": {},
     "output_type": "execute_result"
    }
   ],
   "source": [
    "movies.sample(5) #случайные пять строк датафрейма"
   ]
  },
  {
   "cell_type": "markdown",
   "metadata": {
    "id": "KLDGpPG0gFyM"
   },
   "source": [
    "### Шаг 2. Предобработка данных"
   ]
  },
  {
   "cell_type": "markdown",
   "metadata": {
    "id": "ssWwKXsxgFyO"
   },
   "source": [
    "#### Шаг 2.1. Проверка типов данных"
   ]
  },
  {
   "cell_type": "code",
   "execution_count": 10,
   "metadata": {
    "id": "kVGSplJOgFyO"
   },
   "outputs": [
    {
     "name": "stdout",
     "output_type": "stream",
     "text": [
      "<class 'pandas.core.frame.DataFrame'>\n",
      "Int64Index: 7486 entries, 0 to 7485\n",
      "Data columns (total 16 columns):\n",
      "title                    7486 non-null object\n",
      "puNumber                 7486 non-null object\n",
      "show_start_date          7486 non-null object\n",
      "type                     7486 non-null object\n",
      "film_studio              7468 non-null object\n",
      "production_country       7484 non-null object\n",
      "director                 7477 non-null object\n",
      "producer                 6918 non-null object\n",
      "age_restriction          7486 non-null object\n",
      "refundable_support       332 non-null float64\n",
      "nonrefundable_support    332 non-null float64\n",
      "budget                   332 non-null float64\n",
      "financing_source         332 non-null object\n",
      "ratings                  6519 non-null object\n",
      "genres                   6510 non-null object\n",
      "box_office               3158 non-null float64\n",
      "dtypes: float64(4), object(12)\n",
      "memory usage: 994.2+ KB\n"
     ]
    }
   ],
   "source": [
    "movies.info() #получение сведений о датафрейме movies"
   ]
  },
  {
   "cell_type": "code",
   "execution_count": 11,
   "metadata": {
    "scrolled": true
   },
   "outputs": [
    {
     "data": {
      "text/plain": [
       "title                       0\n",
       "puNumber                    0\n",
       "show_start_date             0\n",
       "type                        0\n",
       "film_studio                18\n",
       "production_country          2\n",
       "director                    9\n",
       "producer                  568\n",
       "age_restriction             0\n",
       "refundable_support       7154\n",
       "nonrefundable_support    7154\n",
       "budget                   7154\n",
       "financing_source         7154\n",
       "ratings                   967\n",
       "genres                    976\n",
       "box_office               4328\n",
       "dtype: int64"
      ]
     },
     "execution_count": 11,
     "metadata": {},
     "output_type": "execute_result"
    }
   ],
   "source": [
    "movies.isna().sum() #количество пропущенных значений "
   ]
  },
  {
   "cell_type": "code",
   "execution_count": 12,
   "metadata": {},
   "outputs": [
    {
     "name": "stdout",
     "output_type": "stream",
     "text": [
      "production_country\n",
      "[' СССР', ' СССР ', ' СССР   ', '2019', 'CША', 'Австралия', 'Австралия - Великобритания - Бельгия - Индия', 'Австралия - Германия', 'Австралия - Ирландия', 'Австралия - Колумбия', 'Австралия - США', 'Австралия, Канада', 'Австралия, США', 'Австралия-Великобритания', 'Австралия-Ирландия', 'Австралия-США', 'Австралия-Турция-США', 'Австрия', 'Австрия - Германия', 'Австрия - Германия - Франция', 'Австрия - Люксембург', 'Австрия, Великобритания, Германия', 'Австрия-Германия-Франция', 'Австрия-Франция-Германия', 'Азербайджан-Россия', 'Аргентина', 'Аргентина - Бразилия', 'Аргентина - Испания', 'Аргентина - Испания - Уругвай', 'Аргентина - Мексика - Бразилия - Франция - США', 'Аргентина - Уругвай - Россия - Германия - Франция - Нидерланды', 'Аргентина - Франция - Испания', 'Аргентина, Испания', 'Аргентина-Испания', 'Армения', 'Армения - Германия', 'Армения - Казахстан', 'Армения-Россия', 'Бельгия', 'Бельгия - Германия - Люксембург', 'Бельгия - Германия - Люксембург - Франция', 'Бельгия - Испания - Канада - Нидерланды', 'Бельгия - Италия - Франция ', 'Бельгия - Люксембург', 'Бельгия - Люксембург - Франция - Швейцария', 'Бельгия - Нидерланды - Франция', 'Бельгия - США', 'Бельгия - Франция', 'Бельгия - Франция - Люксембург', 'Бельгия, Великобритания, США', 'Бельгия, Канада', 'Бельгия-Германия-Канада-Франция-США-Великобритания', 'Бельгия-Нидерланды', 'Бельгия-Франция', 'Бельгия-Франция-Италия', 'Болгария', 'Болгария - США', 'Болгария - Франция - Изриль', 'Босния и Герцеговина - Франция - Великобритания - Германия - Словения - Бельгия - Сербия', 'Бразилия', 'Бразилия - Германия - Порртугалия - Франция ', 'Бразилия - Испания', 'Бразилия - К;анада', 'Бразилия - Канада - США', 'Бразилия - Португалия - Франция', 'Бразилия - США', 'Бразилия - США - КНР ', 'Бразилия, Уругвай, Дания, Норвегия, Чили, Швеция', 'Великобритания', 'Великобритания ', 'Великобритания - Австралия - США', 'Великобритания - Австрия - Германия', 'Великобритания - Австрия - Франция - США', 'Великобритания - Аргентина - США - Франция - Россия - Испания', 'Великобритания - Германия', 'Великобритания - Германия - Нидерланды - Дания', 'Великобритания - Германия - США', 'Великобритания - Германия - Франция - Кипр - США', 'Великобритания - Гонконг - Венгрия - США - Ирландия', 'Великобритания - Дания', 'Великобритания - Израиль', 'Великобритания - Израиль - Франция - Япония - США', 'Великобритания - Ирландия', 'Великобритания - Ирландия - США', 'Великобритания - Ирландия - США ', 'Великобритания - Исландия - Испания - Швейцария - США', 'Великобритания - Испания', 'Великобритания - Испания - Германия', 'Великобритания - Испания - Италия - Латвия - Франция - Эстония', 'Великобритания - Испания - Непал - Индия - Венгрия - Гонконг - Германия - Дания - Бахрейн', 'Великобритания - Италия', 'Великобритания - Италия - Испания', 'Великобритания - Италия - Швейцария', 'Великобритания - КНР', 'Великобритания - Канада', 'Великобритания - Канада - США', 'Великобритания - Люксембург', 'Великобритания - Мексика - США', 'Великобритания - Нидерланды - Германия - Франция - Бельгия - Австрия ', 'Великобритания - Нидерланды - Франция - США', 'Великобритания - Нидерланды - Франция - Хорватия', 'Великобритания - Новая Зеландия', 'Великобритания - Норвегия - Дания - Германия', 'Великобритания - Норвегия - Кения - Хорватия', 'Великобритания - Польша', 'Великобритания - Польша - КНР - Индия - Норвегия', 'Великобритания - Пуэрто-Рико', 'Великобритания - Россия - КНР', 'Великобритания - Россия - Украина - США', 'Великобритания - Румыния', 'Великобритания - США', 'Великобритания - США - Австралия - Ирландия - Германия - Куба - Канада', 'Великобритания - США - Германия', 'Великобритания - США - Германия - Бельгия', 'Великобритания - США - Германия - Канада - Австралия', 'Великобритания - США - Индия', 'Великобритания - США - Канада', 'Великобритания - США - Канада - Бельгия - Нидерланды - Австрия - Германия', 'Великобритания - США - Канада - Нидерланды - Франция', 'Великобритания - США - Россия', 'Великобритания - США - Франция', 'Великобритания - США - Швейцария', 'Великобритания - Франция', 'Великобритания - Франция - Австрия - Швеция', 'Великобритания - Франция - Бельгия', 'Великобритания - Франция - Бельгия - Италия', 'Великобритания - Франция - Бельгия - США', 'Великобритания - Франция - Венгрия', 'Великобритания - Франция - Германия', 'Великобритания - Франция - Германия - США', 'Великобритания - Франция - Италия', 'Великобритания - Франция - Италия - Индия - Дания - КНР - Бангладеш - Камбоджа - Гаити - Уганда', 'Великобритания - Франция - Италия - США', 'Великобритания - Франция - Республика Кипр - Швейцария - США - Сербия', 'Великобритания - Франция - США', 'Великобритания - Франция - Швеция - Бельгия', 'Великобритания - Чехия - Франция', 'Великобритания - Чехия - Франция - Италия', 'Великобритания - ЮАР', 'Великобритания - Япония - США', 'Великобритания, Австралия', 'Великобритания, Германия, Дания, США', 'Великобритания, Канада', 'Великобритания, Канада, США', 'Великобритания, Нидерланды, Польша, Швейцария, Франция', 'Великобритания, Новая Зеландия', 'Великобритания, США', 'Великобритания, США, Испания', 'Великобритания, Франция', 'Великобритания, Франция, Бельгия', 'Великобритания, Швеция, США', 'Великобритания, Южная Корея, Канада, США, Индия, Китай, Япония', 'Великобритания, Япония, США', 'Великобритания-Австралия - США', 'Великобритания-Венгрия', 'Великобритания-Германия-Канада-ЮАР', 'Великобритания-США', 'Великобритания-США-Германия-КНР', 'Великобритания-США-Франция', 'Великобритания-Франция', 'Великобритания-Франция-Германия', 'Великобритания-Франция-Италия', 'Венгрия', 'Венгрия - Германия - Швеция', 'Венесуэла', 'Германия', 'Германия - Австралия', 'Германия - Австрия', 'Германия - Австрия - Ирландия', 'Германия - Австрия - Франция', 'Германия - Аргентина - Нидерланды - Чили', 'Германия - Бельгия', 'Германия - Бельгия - Великобритания', 'Германия - Бельгия - Люксембург - Ирландия', 'Германия - Бельгия - Люксембург - Норвегия', 'Германия - Бельгия - США -Франция', 'Германия - Великобритания', 'Германия - Великобритания - Австрия', 'Германия - Великобритания - Италия - Испания', 'Германия - Великобритания - США', 'Германия - Дания - Испания - Швеция - Канада - Эстония - Франция', 'Германия - Дания - Норвегия', 'Германия - Исландия', 'Германия - Италия', 'Германия - Италия - США', 'Германия - Италия - Франция', 'Германия - Канада', 'Германия - Китай', 'Германия - Люксембург - Бельгия', 'Германия - Люксембург - Дания', 'Германия - Люксембург - Франция', 'Германия - Нидерланды - Беларусь - Россия - Латвия', 'Германия - Нидерланды - ЮАР', 'Германия - Россия', 'Германия - США', 'Германия - США - Великобритания - Израиль', 'Германия - США - Великобритания - Ирландия', 'Германия - США - Франция - Испания', 'Германия - США - Швеция - Франция', 'Германия - Финляндия - Австралия', 'Германия - Франция', 'Германия - Франция -  Польша - Турция - Канада - Италия - Россия ', 'Германия - Франция - Австрия', 'Германия - Франция - Бельгия', 'Германия - Франция - Великобритания - Польша - США', 'Германия - Франция - Канада', 'Германия - Франция - Люксембург', 'Германия - Франция - Польша', 'Германия - Швейцария', 'Германия - Швейцария - Франция - Южная Корея - США', 'Германия, Австралия', 'Германия, Бельгия', 'Германия, Россия', 'Германия, США', 'Германия, Франция', 'Германия, Франция, Великобритания', 'Германия, Франция, США', 'Германия-Австрия', 'Германия-Австрия-Франция-Италия', 'Германия-Великобритания', 'Германия-Израиль', 'Германия-Италия- Шри-Ланка', 'Германия-Италия-Швейцария', 'Германия-Канада-Великобритания-Швейцария-Франция', 'Германия-Канада-Франция-Бельгия', 'Германия-Кения', 'Германия-США', 'Германия-Украина-Нидерланды', 'Германия-Франция-Великобритания', 'Германия-Франция-Великобритания-США', 'Германия-Франция-Польша', 'Германия-Швеция', 'Голландия', 'Гонконг', 'Гонконг - КНР', 'Гонконг - Сингапур - Таиланд - Великобритания', 'Гонконг, КНР', 'Греция', 'Греция - Германия - Франция', 'Греция - Россия', 'Грузия', 'Грузия - Россия - Украина - Хорватия - Германия', 'Грузия - Украина', 'Грузия - Франция - Люксембург', 'Грузия-Россия', 'Грузия-Франция', 'Дания', 'Дания - Австрия - Ирландия - Финляндия - Норвегия - Швеция - Нидерланды', 'Дания - Великобритания - ЮАР', 'Дания - Германия', 'Дания - Германия - Швеция', 'Дания - Исландия', 'Дания - Канада - Швеция - Франция - Германия - Великобритания - США', 'Дания - Латвия - Россия - США', 'Дания - Норвегия - Великобритания', 'Дания - США', 'Дания - Франция - Германия - Швеция', 'Дания - Франция - Италия - Бельгия - Нидерланды', 'Дания - Швейцария - Бельгия - Франция', 'Дания - Швеция', 'Дания - Швеция - Великобритания - Франция - Германия - Нидерланды - Норвегия - Финляндия', 'Дания - Швеция - Италия - Франция - Германия', 'Дания, Канада, Норвегия, Австралия, США', 'Дания, Норвегия, Венгрия, Чехия', 'Дания, Норвегия, Швеция, Исландия', 'Дания, Швеция, Великобритания, Франция, Германия, Норвегия, Финляндия, Нидерланды, Италия', 'Дания-Франция-Бельгия-Германия-Великобритания', 'Дания-Швеция-Франция-Германия', 'Израиль', 'Израиль - Германия - Польша - Бельгия - Франция - Люксембург', 'Израиль - Германия - Франция - Швейцария', 'Израиль - Франция', 'Израиль - Франция - Великобритания - Германия', 'Израиль - Франция - Германия - Палестина - США - Австрия - Великобритания', 'Израиль, Украина', 'Израиль-США-Франция', 'Индия', 'Индия - Великобритания', 'Индия - КНР', 'Индия - Мексика', 'Индия - США', 'Индонезия', 'Иран', 'Иран ', 'Иран, Франция', 'Ирландия', 'Ирландия - Великобритания - Канада', 'Ирландия - Великобритания - США', 'Ирландия - Великобритания - Франция - США', 'Ирландия - Великобритания - Франция - США - Германия - Нидерланды', 'Ирландия - Дания - Бельгия - Люксембург - Франция', 'Ирландия - США', 'Ирландия - Финляндия - Бельгия - Великобритания - США - Швейцария', 'Ирландия, Великобритания', 'Ирландия, Канада', 'Ирландия-Великобритания', 'Ирландия-Великобритания-Германия', 'Ирландия-Нидерланды-Франция-США-Великобритания', 'Исландия', 'Исландия - Финляндия', 'Исландия, Бельгия', 'Исландия-Ирландия-Германия', 'Испания', 'Испания - Аргентина', 'Испания - Аргентина - Индия - США', 'Испания - Бельгия - Франция - Португалия - Великобритания', 'Испания - Болгария - США', 'Испания - Великобритания - Франция', 'Испания - Германия - Нидерланды', 'Испания - Италия - Франция', 'Испания - Канада', 'Испания - Канада - Япония', 'Испания - Куба', 'Испания - Мальта', 'Испания - Мексика', 'Испания - США', 'Испания - США - Великобритания - Канада', 'Испания - США - Колумбия', 'Испания - Уругвай - Аргентина', 'Испания - Франция', 'Испания - Франция - Нидерланды - Германия - Бельгия - Великобритания - Канада', 'Испания - Франция - США - Великобритания - Бельгия', 'Испания - Швейцария - Великобритания - Германия - Новая Зеландия - Нидерланды - Канада', 'Испания, Ирландия, Бельгия, Франция', 'Испания, Франция, Великобритания, Дания, Бельгия, Германия', 'Испания, Франция, Италия', 'Испания-Аргентина', 'Испания-Канада', 'Испания-Колумбия', 'Испания-Мексика', 'Испания-Франция-Греция-Индия-США-Россия-Великобритания', 'Италия', 'Италия ', 'Италия - Аргентина - Словения ', 'Италия - Бельгия - Франция', 'Италия - Канада', 'Италия - Россия', 'Италия - США', 'Италия - Франция', 'Италия - Франция - Германия', 'Италия - Франция - Швейцария', 'Италия - Франция - Швейцария - Великобритания', 'Италия - Фрация - Бразилия - Германия', 'Италия - Швейцария - Германия', 'Италия, Германия', 'Италия, Испания', 'Италия, Франция', 'Италия, Франция, Германия', 'Италия-Великобритания', 'Италия-США', 'Италия-Франция', 'Италия-Франция-Великобритания', 'Италия-Швейцария', 'Италия-Швейцария-Франция-Германия ', 'КНР', 'КНР - Гонконг', 'КНР - Гонконг - США', 'КНР - Канада - США', 'КНР - США', 'КНР - США ', 'КНР - Сингапур', 'КНР - Франция', 'КНР, Индия, Гонконг, США', 'КНР, США', 'КНР-США', 'Казахстан', 'Канада', 'Канада - Германия', 'Канада - Испания', 'Канада - Италия', 'Канада - КНР', 'Канада - Мексика', 'Канада - Норвегия', 'Канада - США', 'Канада - США - Германия - Франция', 'Канада - США - Нидерланды - Великобритания - Аргентина', 'Канада - Франция', 'Канада - Франция - Великобритания', 'Канада - Франция - Испания', 'Канада - Франция - США - ОАЭ - Великобритания', 'Канада - Южная Корея', 'Канада, Великобритания', 'Канада, США', 'Канада, США, Каймановы острова', 'Канада, США, Норвегия', 'Канада, Франция, Италия, Швейцария, США', 'Канада- Испания', 'Канада-Бразилия-Япония', 'Канада-Великобритания', 'Канада-Германия', 'Канада-США', 'Канада-Франция', 'Канада-ЮАР', 'Канада-Южная Корея-США', 'Кения, Германия', 'Киргизия', 'Киргизия-Россия', 'Китай', 'Китай - Гонконг', 'Китай, Канада, США', 'Китай, США', 'Китай-Гонконг', 'Китай-Гонконг-США', 'Княжество Андорра - Украина', 'Колумбия', 'Колумбия - США', 'Корея', 'Латвия - Россия', 'Латвия - Франция', 'Ливан-США', 'Литва - Венгрия', 'Литва-Россия-Украина', 'Люксембург - Бельгия - Франция', 'Люксембург - Нидерланды - Испания - Великобритания - США - Италия', 'Македония - Франция - Великобритания', 'Малайзия', 'Малайзия - США', 'Мексика', 'Мексика - Аргентина - Великобритания', 'Мексика - Испания', 'Мексика - Испания - Дания - США', 'Мексика - Нидерланды - Германия - Франция', 'Мексика - США', 'Мексика - Тайвань - США', 'Мексика - Франция', 'Мексика - Франция - Нидерланды - Германия', 'Мексика - Чили', 'Мексика - Эквадор - Канада - США - Франция - Малайзия - Италия - Аргентина - Германия - Индия  ', 'Мексика, Франция, Германия, Дания, Швеция', 'Мексика-Аргентина', 'Монголия', 'Нидерланды', 'Нидерланды - Бельгия - Болгария', 'Нидерланды - Бельгия - Германия - Ирландия', 'Нидерланды - Бельгия - Люксембург', 'Нидерланды - Великобритания - Бельгия', 'Нидерланды - Россия', 'Нидерланды - Россия - Германия', 'Нидерланды - США - Германия - Канада - Франция - Ирландия - Великобритания', 'Нидерланды - Франция - Германия - Бельгия - Швеция - Великобритания', 'Нидерланды, Бельгия', 'Нидерланды, Бельгия, Люксембург', 'Нидерланды-Великобритания-Франция-Италия-Япония', 'Новая Зеландия', 'Новая Зеландия - КНР', 'Новая Зеландия - США', 'Норвегия', 'Норвегия - Азербайджан - Россия - Колумбия - Великобритания - Венгрия - Румыния - Франция - Грузия', 'Норвегия - Дания - Швеция', 'Норвегия - Исландия - США - Великобритания ', 'Норвегия - Нидерланды', 'Норвегия - США', 'Норвегия - Швеция', 'Норвегия - Швеция - Дания - Германия', 'Норвегия - Швеция - Россия', 'Норвегия, Швеция, Дания', 'Норвения', 'ОАЭ - США', 'Пакистан', 'Парагвай', 'Перу', 'Польша', 'Польша - Ирландия', 'Польша - Италия - Россия', 'Польша - Португалия - Франция - Великобритания', 'Польша - Франция', 'Польша - Франция - Великобритания', 'Польша - Франция - Испания - Бразилия - Швеция', 'Португалия', 'Португалия - Франция', 'Португалия, Франция, Польша, США', 'Пуэрто-Рико, Великобритания, США', 'Республика Армения', 'Республика Беларусь', 'Республика Беларусь, Германия, США, Россия', 'Республика Казахстан', 'Республика Кипр', 'Республика Кипр - Россия', 'Республика Кипр, Россия', 'Республика Кипр, США, Россия', 'Республика Кипр-Россия', 'Республика Корея', 'Республика Узбекистан', 'Россия', 'Россия - Азербайджан', 'Россия - Болгария', 'Россия - Германия', 'Россия - Германия - Украина', 'Россия - Германия - Швейцария', 'Россия - Грузия', 'Россия - Италия', 'Россия - Казахстан', 'Россия - Польша', 'Россия - Республика Кипр', 'Россия - США', 'Россия - Франция - Великобритания - Латвия', 'Россия - Эстония - Финляндия - Беларусь', 'Россия,  Испания', 'Россия, Австрия', 'Россия, Армения', 'Россия, Бельгия, Финляндия', 'Россия, Германия', 'Россия, Германия, Великобритания', 'Россия, Германия, Казахстан, Польша, Китай', 'Россия, Германия, Франция, Бельгия', 'Россия, Грузия, Испания', 'Россия, Грузия, Хорватия, Испания', 'Россия, Испания', 'Россия, Италия', 'Россия, Казахстан, США', 'Россия, Латвия, Чешская Республика', 'Россия, Нидерланды, Финляндия', 'Россия, Польша, Финляндия', 'Россия, Республика Беларусь', 'Россия, Республика Кипр', 'Россия, Румыния', 'Россия, Сербия', 'Россия, Таджикистан', 'Россия, Украина', 'Россия, Украина, Польша', 'Россия, Украина, Республика Беларусь, Литва', 'Россия, Франция, Германия, Бельгия', 'Россия, Франция, Латвия', 'Россия-Азербайджан', 'Россия-Беларусь', 'Россия-Белоруссия', 'Россия-Германия', 'Россия-Ирландия', 'Россия-Италия', 'Россия-Казахстан', 'Россия-Кипр', 'Россия-Китай', 'Россия-Польша', 'Россия-Польша-Голландия-Словакия', 'Россия-США', 'Россия-США-Канада-Люксембург', 'Россия-Словакия-Чехия', 'Россия-Украина', 'Россия-Украина-Германия', 'Россия-Франция', 'Румыния', 'Румыния - Франция - Бельгия', 'Румыния, ЮАР, Иран, Франция, Канада, Великобритания', 'Румыния-США', 'СССР', 'СССР ', 'СССР  ', 'СССР   ', 'СССР    ', 'СССР     ', 'СССР - ГДР - Польша - Италия', 'СССР - Италия', 'СССР - Швейцария - Франция', 'СССР, Албания', 'СССР, Афганистан', 'СССР, ВНР', 'СССР, Венгрия', 'СССР, Венгрия, ЧССР, ГДР', 'СССР, ГДР', 'СССР, Италия', 'СССР, Монголия', 'СССР, Польша', 'СССР, Россия', 'СССР, Румыния, Франция', 'СССР, ФРГ', 'СССР, ФРГ, Западный Берлин', 'СССР, Финляндия', 'СССР, Франция, Англия, Куба, ГДР', 'СССР, ЧССР, Западный Берлин, ПНР', 'СССР, Швеция', 'США', 'США ', 'США - Австралия', 'США - Австралия - Дания', 'США - Австралия - Индия', 'США - Австралия - Мексика', 'США - Австралия - Новая Зеландия - Великобритания', 'США - Австралия - Франция', 'США - Бельгия', 'США - Бельгия - Великобритания', 'США - Болгария - Мексика', 'США - Бразилия - Великобритания - Канада', 'США - Бразилия - Франция - Австралия - Великобритания - Германия', 'США - Великобритания', 'США - Великобритания ', 'США - Великобритания - Австралия', 'США - Великобритания - Болгария', 'США - Великобритания - Германия', 'США - Великобритания - Германия - - Швеция - Канада', 'США - Великобритания - Германия - Бельгия - Дания', 'США - Великобритания - Германия - Новая Зеландия - Бельгия - Франция', 'США - Великобритания - Ирландия', 'США - Великобритания - Исландия', 'США - Великобритания - Испания', 'США - Великобритания - Италия - Израиль - Сербия - Индия', 'США - Великобритания - КНР', 'США - Великобритания - Канада', 'США - Великобритания - Канада - КНР', 'США - Великобритания - Канада - Швеция', 'США - Великобритания - Новая Зеландия', 'США - Великобритания - Франция', 'США - Великобритания - Франция - Гонконг', 'США - Великобритания - Чехия', 'США - Великобритания - Швейцария - Франция', 'США - Великобритания - Швеция', 'США - Великобритания - Япония', 'США - Великобритания- Франция - Швеция', 'США - Венгрия - Великобритания', 'США - Вьетнам', 'США - Германия', 'США - Германия - Великобритания', 'США - Германия - Гонконг - Сингапур', 'США - Германия - КНР', 'США - Германия - Канада', 'США - Германия - Нидерланды', 'США - Германия - Франция', 'США - Германия - Франция - Великобритания - Канада ', 'США - Германия - Япония', 'США - Гонконг', 'США - Гонконг - КНР ', 'США - Дания', 'США - Индия', 'США - Индия - ОАЭ', 'США - Ирландия - Великобритания', 'США - Ирландия - Великобритания - Франция', 'США - Испания', 'США - Испания - Болгария', 'США - Испания - Франция', 'США - Испания - Франция - Великобритания', 'США - Италия', 'США - КНР', 'США - КНР - Индия - Ю.Корея', 'США - Канада', 'США - Канада - Аргентина', 'США - Канада - Афганистан - Бельгия - Франция', 'США - Канада - Великобритания', 'США - Канада - Германия', 'США - Канада - Германия - Франция', 'США - Канада - Индонезия', 'США - Канада - КНР', 'США - Канада - Россия - Франция - Чили - Ирландия', 'США - Канада - Франция - Индия', 'США - Канада - Япония - КНР', 'США - Китай', 'США - Колумбия', 'США - Колумбия - Испания', 'США - Мальта', 'США - Мексика', 'США - Нидерланды - Бельгия - Венгрия - Греция - Канада', 'США - Нидерланды - Финляндия - Великобритания - Италия', 'США - Новая Зеландия', 'США - Новая Зеландия - Япония', 'США - Норвегия', 'США - ОАЭ', 'США - Объединенные Арабские Эмираты', 'США - Пуэрто Рико', 'США - Пуэрто-Рико - Франция ', 'США - Россия', 'США - Россия - Польша - Германия - Пуэрто Рико', 'США - Россия - Франция', 'США - Румыния - Великобритания', 'США - Сингапур - Малайзия - Индонезия', 'США - Украина', 'США - Финляндия', 'США - Финляндия - Испания - Великобритания - Франция', 'США - Франция', 'США - Франция - Бельгия - Италия', 'США - Франция - Великобритания', 'США - Франция - Великобритания - Бразилия ', 'США - Франция - Германия', 'США - Франция - Германия - Канада - Австралия ', 'США - Франция - Испания - Великобритания', 'США - Франция - Канада - Великобритания', 'США - Франция - Канада - Германия - Австралия - Индия', 'США - Франция - Турция', 'США - Франция - ЮАР', 'США - Хорватия - Босния-Герцеговина', 'США - Чехия - Франция', 'США - Чили', 'США - Швейцария - Франция', 'США - Швеция', 'США - ЮАР', 'США - ЮАР - Гонконг', 'США - Южная Корея', 'США - Япония', 'США - Япония - Германия', 'США - Япония - Канада - Великобритания - Германия - Франция', 'США - Япония - Франция - Великобритания', 'США -Великобритания - Австралия', 'США -Германия', 'США, Великобритания', 'США, Великобритания, Ирландия, Люксембург', 'США, Великобритания, Люксембург', 'США, Великобритания, Франция', 'США, Германия', 'США, Гонконг ', 'США, Индия', 'США, Канада', 'США, Россия', 'США, Украина', 'США, Франция', 'США, Франция, Япония', 'США, Япония', 'США- Ю.Корея', 'США-Австралия', 'США-Аргентина', 'США-Бельгия', 'США-Великобритания', 'США-Великобритания-Австралия', 'США-Великобритания-Индия', 'США-Великобритания-Ирландия', 'США-Великобритания-Новая Зеландия', 'США-Великобритания-Франция', 'США-Великобритания-Чехия-Румыния', 'США-Венгрия', 'США-Германия', 'США-Германия-Австралия', 'США-Германия-Великобритания', 'США-Германия-Канада', 'США-Гонконг-Китай', 'США-Индия', 'США-Индонезия', 'США-Ирландия', 'США-Испания', 'США-Италия-Греция', 'США-Италия-Испания', 'США-Италия-Испания-Аргентина', 'США-КНР', 'США-Канада', 'США-Канада-Австралия', 'США-Канада-Бельгия', 'США-Канада-Италия', 'США-Канада-Франция', 'США-Китай', 'США-Колумбия', 'США-Мальта', 'США-Мексика', 'США-Нидерланды', 'США-ОАЭ', 'США-Россия', 'США-ФРГ-Россия', 'США-Франция', 'США-Франция-Великобритания-Австрия', 'США-Франция-Ирландия', 'США-Франция-Испания', 'США-Франция-Канада', 'США-ЮАР', 'США-Южная Корея-Новая Зеландия', 'США-Япония', 'США-Япония-Германия-Великобритания', 'США-Япония-Германия-Великобритания-Нидерланды', 'СЩА', 'Сербия - Великобритания - США', 'Сербия - Германия - Венгрия', 'Сербия - Словения - Хорватия - Черногория - Македония', 'Сингапур - Великобритания - Индонезия - Канада - США', 'Сша, Канада', 'Таиланд', 'Таиланд - КНР - США', 'Таиланд - США', 'Таиланд-Великобритания-Франция-Германия-Испания-Нидерланды', 'Турция', 'Турция - Германя - Франция', 'Турция - США', 'Украина', 'Украина - Германия - Латвия - Эстония', 'Украина - Нидерланды', 'Уругвай - Аргентина - Испания', 'Уругвай - Колумбия', 'Уругвай-Мексика-Германия ', 'Финляндия', 'Финляндия - Австрия - Россия', 'Финляндия - Великобритания - Германия', 'Финляндия - Германия', 'Финляндия - Дания - Германия - Ирландия', 'Финляндия - Исландия - Швеция', 'Финляндия - Канада', 'Финляндия - Польша', 'Финляндия - Франция - Германия', 'Финляндия - Швеция - Германия', 'Финляндия - Швеция - Норвегия', 'Финляндия, Латвия', 'Финляндия-Дания-Германия-Ирландия', 'Франция', 'Франция ', 'Франция -  Бельгия', 'Франция - Австрия', 'Франция - Австрия - Германия - Италия - США', 'Франция - Бельгия', 'Франция - Бельгия - Великобритания - Испания - Германия - США', 'Франция - Бельгия - Великобритания - США - Нидерланды - Канада', 'Франция - Бельгия - Испания', 'Франция - Бельгия - Канада', 'Франция - Бельгия - Люксембург', 'Франция - Бельгия - Чехия', 'Франция - Бельгия - Япония', 'Франция - Бенльгия', 'Франция - Бразилия', 'Франция - Бразилия - Италия', 'Франция - Великобритания', 'Франция - Великобритания - Багамские острова - США', 'Франция - Великобритания - Камбоджа - США - КНР', 'Франция - Великобритания - Нидерланды - Люксембург', 'Франция - Германия', 'Франция - Германия - Австрия', 'Франция - Германия - Бельгия', 'Франция - Германия - Италия', 'Франция - Германия - Литва - Нидерланды - Россия', 'Франция - Германия - Нидерланды', 'Франция - Германия - США', 'Франция - Германия - Турция - Катар', 'Франция - Германия - Швеция - США - Чехия - Словакия - Великобритания - Нидерланды', 'Франция - Греция', 'Франция - Дания', 'Франция - Дания - США', 'Франция - Дания - Швеция - КНР', 'Франция - Израиль - Германия', 'Франция - Ирландия - Швеция', 'Франция - Испания', 'Франция - Испания - Дания - Венгрия - Швейцария', 'Франция - Испания - Румыния - США - Бельгия', 'Франция - Испания - Тайвань', 'Франция - Италия', 'Франция - Италия - Бельгия - КНР', 'Франция - Италия - Бельгия - Люксембург', 'Франция - Италия - Великобритания - США', 'Франция - Италия - Иран', 'Франция - Италия - Швейцария', 'Франция - КНР', 'Франция - Канада', 'Франция - Канада - Бельгия', 'Франция - Канада - Н.Зеландия - США - Нидерланды - Германия - Швеция - Россия', 'Франция - Люксембург', 'Франция - Люксембург - Бельгия', 'Франция - Люксембург - Германия - Бельгия - Швейцария - Великобритания ', 'Франция - Македония', 'Франция - Мексика - США', 'Франция - Монако', 'Франция - Нидерланды', 'Франция - Польша - Бельгия', 'Франция - Португалия', 'Франция - Россия', 'Франция - Россия - Швейцария - Румыния - Венгрия', 'Франция - США', 'Франция - США - Бельгия', 'Франция - США - Великобритания - Колумбия - Бельгия - Россия', 'Франция - США - Норвегия - Дания', 'Франция - Сенегал - Бельгия', 'Франция - Украина - Грузия - Армения', 'Франция - Финляндия', 'Франция - Чехия - Бельгия', 'Франция - Чехия - Великобритания', 'Франция - Чили', 'Франция - Швейцария', 'Франция - Швейцария - Германия', 'Франция - Швеция - Дания - Норвегия', 'Франция -Бельгия', 'Франция, Бельгия', 'Франция, Бельгия, Люксембург', 'Франция, Германия', 'Франция, Канада', 'Франция, Люксембург, Бельгия', 'Франция, Новая Зеландия', 'Франция, Норвегия', 'Франция-Австралия', 'Франция-Аргентина', 'Франция-Бельгия', 'Франция-Бельгия-Канада', 'Франция-Великобритания', 'Франция-Великобритания - Германия', 'Франция-Великобритания-Чехия', 'Франция-Германия', 'Франция-Германия-Австрия', 'Франция-Германия-Великобритания', 'Франция-Германия-Италия', 'Франция-Гонконг-Ирландия', 'Франция-Грузия-Германия-Россия-Украина-Бельгия', 'Франция-Индия', 'Франция-Испания', 'Франция-Испания-Бельгия-Панама', 'Франция-Испания-Германия', 'Франция-Испания-Швейцария', 'Франция-Италия', 'Франция-Италия-Испания-Венгрия', 'Франция-КНР', 'Франция-Канада', 'Франция-Китай', 'Франция-Перу', 'Франция-Польша', 'Франция-Россия', 'Франция-Россия-Румыния-Италия-Бельгия', 'Франция-США', 'Франция-Украина', 'Хорватия', 'Чехия', 'Чехия - Германия', 'Чехия - Испания - США', 'Чехия - Словакия - Хорватия', 'Чехия-Великобритания-США', 'Чехословакия', 'Чили', 'Чили - Испания', 'Чили - Франция - США', 'Швейцария', 'Швейцария - Австрия', 'Швейцария - Великобритания', 'Швейцария - Израиль - Франция - Великобритания', 'Швейцария - КНР - США - Россия - Республика Корея - Великобритания', 'Швейцария - Люксембург', 'Швейцария - Франция', 'Швейцария, Великобритания, Франция, США, Ирландия', 'Швейцария-Австрия', 'Швейцария-Германия-ЮАР', 'Швейцария-Франция', 'Швеция', 'Швеция - Германия', 'Швеция - Германия - Дания - Норвегия', 'Швеция - Германия - Франция - Дания', 'Швеция - Германия - Франция - Норвегия', 'Швеция - Дания', 'Швеция - Дания - Финляндия', 'Швеция - Норвегия', 'Швеция - США', 'Швеция - Франция - Норвегия - Дания', 'Швеция, Норвегия, Финляндия, Франция', 'Швеция, Франция, Великобритания', 'Швеция-Куба', 'Швеция-Финляндия-Франция-Норвегия', 'Швеция-Франция', 'Швеция-Франция-Дания', 'Эстония', 'Эстония - Россия', 'ЮАР', 'ЮАР - США', 'Южная Корея', 'Южная Корея - КНР', 'Южная Корея - США', 'Южная Корея - США - Канада', 'Япония', 'Япония - Великобритания - Франция', 'Япония - Великобритания - Швейцария - Ирландия - Дания - Франция - Польша - Австралия - Канада  ', 'Япония - КНР - Южная Корея', 'Япония - Канада', 'Япония - США', 'Япония - Франция - США - Южная Корея - Турция', 'Япония, Великобритания', 'Япония, Великобритания, Австрия, Германия, Ю.Корея', 'Япония, США', 'Япония-Великобритания', 'Япония-США-Франция']\n",
      "\n",
      "ratings\n",
      "['1.0', '1.1', '1.2', '1.3', '1.4', '1.5', '1.6', '1.7', '1.8', '1.9', '19%', '2.1', '2.4', '2.5', '2.6', '2.7', '2.8', '2.9', '28%', '3.0', '3.1', '3.2', '3.3', '3.4', '3.5', '3.6', '3.7', '3.8', '3.9', '4.0', '4.1', '4.2', '4.3', '4.4', '4.5', '4.6', '4.7', '4.8', '4.9', '5.0', '5.1', '5.2', '5.3', '5.4', '5.5', '5.6', '5.7', '5.8', '5.9', '6.0', '6.1', '6.2', '6.3', '6.4', '6.5', '6.6', '6.7', '6.8', '6.9', '62%', '64%', '7.0', '7.1', '7.2', '7.3', '7.4', '7.5', '7.6', '7.7', '7.8', '7.9', '79%', '8.0', '8.1', '8.2', '8.3', '8.4', '8.5', '8.6', '8.7', '8.8', '8.9', '83%', '88%', '89%', '9.0', '9.1', '9.2', '90%', '91%', '94%', '97%', '98%', '99%']\n",
      "\n"
     ]
    }
   ],
   "source": [
    "list_columns = ['production_country', 'ratings'] \n",
    "\n",
    "for i in list_columns: #цикл для вывода уникальных значений в столбцах из списка list_columns\n",
    "    print(i)\n",
    "    print(sorted(movies[~movies[i].isna()][i].unique()))\n",
    "    print()"
   ]
  },
  {
   "cell_type": "code",
   "execution_count": 13,
   "metadata": {},
   "outputs": [
    {
     "data": {
      "text/html": [
       "<div>\n",
       "<style scoped>\n",
       "    .dataframe tbody tr th:only-of-type {\n",
       "        vertical-align: middle;\n",
       "    }\n",
       "\n",
       "    .dataframe tbody tr th {\n",
       "        vertical-align: top;\n",
       "    }\n",
       "\n",
       "    .dataframe thead th {\n",
       "        text-align: right;\n",
       "    }\n",
       "</style>\n",
       "<table border=\"1\" class=\"dataframe\">\n",
       "  <thead>\n",
       "    <tr style=\"text-align: right;\">\n",
       "      <th></th>\n",
       "      <th>title</th>\n",
       "      <th>puNumber</th>\n",
       "      <th>show_start_date</th>\n",
       "      <th>type</th>\n",
       "      <th>film_studio</th>\n",
       "      <th>production_country</th>\n",
       "      <th>director</th>\n",
       "      <th>producer</th>\n",
       "      <th>age_restriction</th>\n",
       "      <th>refundable_support</th>\n",
       "      <th>nonrefundable_support</th>\n",
       "      <th>budget</th>\n",
       "      <th>financing_source</th>\n",
       "      <th>ratings</th>\n",
       "      <th>genres</th>\n",
       "      <th>box_office</th>\n",
       "    </tr>\n",
       "  </thead>\n",
       "  <tbody>\n",
       "    <tr>\n",
       "      <td>7247</td>\n",
       "      <td>Дело Коллини</td>\n",
       "      <td>121027219</td>\n",
       "      <td>2019-09-19T12:00:00.000Z</td>\n",
       "      <td>Художественный</td>\n",
       "      <td>Константин Филм, Глобал Скрин, Севен Пикчерз Сван</td>\n",
       "      <td>2019</td>\n",
       "      <td>Марко Кройцпайнтнер</td>\n",
       "      <td>Мартин Московиц, Кристоф Мюллер, Марсель Хартг...</td>\n",
       "      <td>«16+» - для детей старше 16 лет</td>\n",
       "      <td>NaN</td>\n",
       "      <td>NaN</td>\n",
       "      <td>NaN</td>\n",
       "      <td>NaN</td>\n",
       "      <td>7.4</td>\n",
       "      <td>детектив,драма,криминал</td>\n",
       "      <td>NaN</td>\n",
       "    </tr>\n",
       "  </tbody>\n",
       "</table>\n",
       "</div>"
      ],
      "text/plain": [
       "             title   puNumber           show_start_date             type  \\\n",
       "7247  Дело Коллини  121027219  2019-09-19T12:00:00.000Z   Художественный   \n",
       "\n",
       "                                            film_studio production_country  \\\n",
       "7247  Константин Филм, Глобал Скрин, Севен Пикчерз Сван               2019   \n",
       "\n",
       "                 director                                           producer  \\\n",
       "7247  Марко Кройцпайнтнер  Мартин Московиц, Кристоф Мюллер, Марсель Хартг...   \n",
       "\n",
       "                      age_restriction  refundable_support  \\\n",
       "7247  «16+» - для детей старше 16 лет                 NaN   \n",
       "\n",
       "      nonrefundable_support  budget financing_source ratings  \\\n",
       "7247                    NaN     NaN              NaN     7.4   \n",
       "\n",
       "                       genres  box_office  \n",
       "7247  детектив,драма,криминал         NaN  "
      ]
     },
     "execution_count": 13,
     "metadata": {},
     "output_type": "execute_result"
    }
   ],
   "source": [
    "movies[movies['production_country'] == '2019'] #смотрю количество значений '2019' в столбце production_country"
   ]
  },
  {
   "cell_type": "code",
   "execution_count": 14,
   "metadata": {},
   "outputs": [
    {
     "data": {
      "text/plain": [
       "[' СССР',\n",
       " ' СССР ',\n",
       " ' СССР   ',\n",
       " 'CША',\n",
       " 'Австралия',\n",
       " 'Австралия - Великобритания - Бельгия - Индия',\n",
       " 'Австралия - Германия',\n",
       " 'Австралия - Ирландия',\n",
       " 'Австралия - Колумбия',\n",
       " 'Австралия - США',\n",
       " 'Австралия, Канада',\n",
       " 'Австралия, США',\n",
       " 'Австралия-Великобритания',\n",
       " 'Австралия-Ирландия',\n",
       " 'Австралия-США',\n",
       " 'Австралия-Турция-США',\n",
       " 'Австрия',\n",
       " 'Австрия - Германия',\n",
       " 'Австрия - Германия - Франция',\n",
       " 'Австрия - Люксембург',\n",
       " 'Австрия, Великобритания, Германия',\n",
       " 'Австрия-Германия-Франция',\n",
       " 'Австрия-Франция-Германия',\n",
       " 'Азербайджан-Россия',\n",
       " 'Аргентина',\n",
       " 'Аргентина - Бразилия',\n",
       " 'Аргентина - Испания',\n",
       " 'Аргентина - Испания - Уругвай',\n",
       " 'Аргентина - Мексика - Бразилия - Франция - США',\n",
       " 'Аргентина - Уругвай - Россия - Германия - Франция - Нидерланды',\n",
       " 'Аргентина - Франция - Испания',\n",
       " 'Аргентина, Испания',\n",
       " 'Аргентина-Испания',\n",
       " 'Армения',\n",
       " 'Армения - Германия',\n",
       " 'Армения - Казахстан',\n",
       " 'Армения-Россия',\n",
       " 'Бельгия',\n",
       " 'Бельгия - Германия - Люксембург',\n",
       " 'Бельгия - Германия - Люксембург - Франция',\n",
       " 'Бельгия - Испания - Канада - Нидерланды',\n",
       " 'Бельгия - Италия - Франция ',\n",
       " 'Бельгия - Люксембург',\n",
       " 'Бельгия - Люксембург - Франция - Швейцария',\n",
       " 'Бельгия - Нидерланды - Франция',\n",
       " 'Бельгия - США',\n",
       " 'Бельгия - Франция',\n",
       " 'Бельгия - Франция - Люксембург',\n",
       " 'Бельгия, Великобритания, США',\n",
       " 'Бельгия, Канада',\n",
       " 'Бельгия-Германия-Канада-Франция-США-Великобритания',\n",
       " 'Бельгия-Нидерланды',\n",
       " 'Бельгия-Франция',\n",
       " 'Бельгия-Франция-Италия',\n",
       " 'Болгария',\n",
       " 'Болгария - США',\n",
       " 'Болгария - Франция - Изриль',\n",
       " 'Босния и Герцеговина - Франция - Великобритания - Германия - Словения - Бельгия - Сербия',\n",
       " 'Бразилия',\n",
       " 'Бразилия - Германия - Порртугалия - Франция ',\n",
       " 'Бразилия - Испания',\n",
       " 'Бразилия - К;анада',\n",
       " 'Бразилия - Канада - США',\n",
       " 'Бразилия - Португалия - Франция',\n",
       " 'Бразилия - США',\n",
       " 'Бразилия - США - КНР ',\n",
       " 'Бразилия, Уругвай, Дания, Норвегия, Чили, Швеция',\n",
       " 'Великобритания',\n",
       " 'Великобритания ',\n",
       " 'Великобритания - Австралия - США',\n",
       " 'Великобритания - Австрия - Германия',\n",
       " 'Великобритания - Австрия - Франция - США',\n",
       " 'Великобритания - Аргентина - США - Франция - Россия - Испания',\n",
       " 'Великобритания - Германия',\n",
       " 'Великобритания - Германия - Нидерланды - Дания',\n",
       " 'Великобритания - Германия - США',\n",
       " 'Великобритания - Германия - Франция - Кипр - США',\n",
       " 'Великобритания - Гонконг - Венгрия - США - Ирландия',\n",
       " 'Великобритания - Дания',\n",
       " 'Великобритания - Израиль',\n",
       " 'Великобритания - Израиль - Франция - Япония - США',\n",
       " 'Великобритания - Ирландия',\n",
       " 'Великобритания - Ирландия - США',\n",
       " 'Великобритания - Ирландия - США ',\n",
       " 'Великобритания - Исландия - Испания - Швейцария - США',\n",
       " 'Великобритания - Испания',\n",
       " 'Великобритания - Испания - Германия',\n",
       " 'Великобритания - Испания - Италия - Латвия - Франция - Эстония',\n",
       " 'Великобритания - Испания - Непал - Индия - Венгрия - Гонконг - Германия - Дания - Бахрейн',\n",
       " 'Великобритания - Италия',\n",
       " 'Великобритания - Италия - Испания',\n",
       " 'Великобритания - Италия - Швейцария',\n",
       " 'Великобритания - КНР',\n",
       " 'Великобритания - Канада',\n",
       " 'Великобритания - Канада - США',\n",
       " 'Великобритания - Люксембург',\n",
       " 'Великобритания - Мексика - США',\n",
       " 'Великобритания - Нидерланды - Германия - Франция - Бельгия - Австрия ',\n",
       " 'Великобритания - Нидерланды - Франция - США',\n",
       " 'Великобритания - Нидерланды - Франция - Хорватия',\n",
       " 'Великобритания - Новая Зеландия',\n",
       " 'Великобритания - Норвегия - Дания - Германия',\n",
       " 'Великобритания - Норвегия - Кения - Хорватия',\n",
       " 'Великобритания - Польша',\n",
       " 'Великобритания - Польша - КНР - Индия - Норвегия',\n",
       " 'Великобритания - Пуэрто-Рико',\n",
       " 'Великобритания - Россия - КНР',\n",
       " 'Великобритания - Россия - Украина - США',\n",
       " 'Великобритания - Румыния',\n",
       " 'Великобритания - США',\n",
       " 'Великобритания - США - Австралия - Ирландия - Германия - Куба - Канада',\n",
       " 'Великобритания - США - Германия',\n",
       " 'Великобритания - США - Германия - Бельгия',\n",
       " 'Великобритания - США - Германия - Канада - Австралия',\n",
       " 'Великобритания - США - Индия',\n",
       " 'Великобритания - США - Канада',\n",
       " 'Великобритания - США - Канада - Бельгия - Нидерланды - Австрия - Германия',\n",
       " 'Великобритания - США - Канада - Нидерланды - Франция',\n",
       " 'Великобритания - США - Россия',\n",
       " 'Великобритания - США - Франция',\n",
       " 'Великобритания - США - Швейцария',\n",
       " 'Великобритания - Франция',\n",
       " 'Великобритания - Франция - Австрия - Швеция',\n",
       " 'Великобритания - Франция - Бельгия',\n",
       " 'Великобритания - Франция - Бельгия - Италия',\n",
       " 'Великобритания - Франция - Бельгия - США',\n",
       " 'Великобритания - Франция - Венгрия',\n",
       " 'Великобритания - Франция - Германия',\n",
       " 'Великобритания - Франция - Германия - США',\n",
       " 'Великобритания - Франция - Италия',\n",
       " 'Великобритания - Франция - Италия - Индия - Дания - КНР - Бангладеш - Камбоджа - Гаити - Уганда',\n",
       " 'Великобритания - Франция - Италия - США',\n",
       " 'Великобритания - Франция - Республика Кипр - Швейцария - США - Сербия',\n",
       " 'Великобритания - Франция - США',\n",
       " 'Великобритания - Франция - Швеция - Бельгия',\n",
       " 'Великобритания - Чехия - Франция',\n",
       " 'Великобритания - Чехия - Франция - Италия',\n",
       " 'Великобритания - ЮАР',\n",
       " 'Великобритания - Япония - США',\n",
       " 'Великобритания, Австралия',\n",
       " 'Великобритания, Германия, Дания, США',\n",
       " 'Великобритания, Канада',\n",
       " 'Великобритания, Канада, США',\n",
       " 'Великобритания, Нидерланды, Польша, Швейцария, Франция',\n",
       " 'Великобритания, Новая Зеландия',\n",
       " 'Великобритания, США',\n",
       " 'Великобритания, США, Испания',\n",
       " 'Великобритания, Франция',\n",
       " 'Великобритания, Франция, Бельгия',\n",
       " 'Великобритания, Швеция, США',\n",
       " 'Великобритания, Южная Корея, Канада, США, Индия, Китай, Япония',\n",
       " 'Великобритания, Япония, США',\n",
       " 'Великобритания-Австралия - США',\n",
       " 'Великобритания-Венгрия',\n",
       " 'Великобритания-Германия-Канада-ЮАР',\n",
       " 'Великобритания-США',\n",
       " 'Великобритания-США-Германия-КНР',\n",
       " 'Великобритания-США-Франция',\n",
       " 'Великобритания-Франция',\n",
       " 'Великобритания-Франция-Германия',\n",
       " 'Великобритания-Франция-Италия',\n",
       " 'Венгрия',\n",
       " 'Венгрия - Германия - Швеция',\n",
       " 'Венесуэла',\n",
       " 'Германия',\n",
       " 'Германия - Австралия',\n",
       " 'Германия - Австрия',\n",
       " 'Германия - Австрия - Ирландия',\n",
       " 'Германия - Австрия - Франция',\n",
       " 'Германия - Аргентина - Нидерланды - Чили',\n",
       " 'Германия - Бельгия',\n",
       " 'Германия - Бельгия - Великобритания',\n",
       " 'Германия - Бельгия - Люксембург - Ирландия',\n",
       " 'Германия - Бельгия - Люксембург - Норвегия',\n",
       " 'Германия - Бельгия - США -Франция',\n",
       " 'Германия - Великобритания',\n",
       " 'Германия - Великобритания - Австрия',\n",
       " 'Германия - Великобритания - Италия - Испания',\n",
       " 'Германия - Великобритания - США',\n",
       " 'Германия - Дания - Испания - Швеция - Канада - Эстония - Франция',\n",
       " 'Германия - Дания - Норвегия',\n",
       " 'Германия - Исландия',\n",
       " 'Германия - Италия',\n",
       " 'Германия - Италия - США',\n",
       " 'Германия - Италия - Франция',\n",
       " 'Германия - Канада',\n",
       " 'Германия - Китай',\n",
       " 'Германия - Люксембург - Бельгия',\n",
       " 'Германия - Люксембург - Дания',\n",
       " 'Германия - Люксембург - Франция',\n",
       " 'Германия - Нидерланды - Беларусь - Россия - Латвия',\n",
       " 'Германия - Нидерланды - ЮАР',\n",
       " 'Германия - Россия',\n",
       " 'Германия - США',\n",
       " 'Германия - США - Великобритания - Израиль',\n",
       " 'Германия - США - Великобритания - Ирландия',\n",
       " 'Германия - США - Франция - Испания',\n",
       " 'Германия - США - Швеция - Франция',\n",
       " 'Германия - Финляндия - Австралия',\n",
       " 'Германия - Франция',\n",
       " 'Германия - Франция -  Польша - Турция - Канада - Италия - Россия ',\n",
       " 'Германия - Франция - Австрия',\n",
       " 'Германия - Франция - Бельгия',\n",
       " 'Германия - Франция - Великобритания - Польша - США',\n",
       " 'Германия - Франция - Канада',\n",
       " 'Германия - Франция - Люксембург',\n",
       " 'Германия - Франция - Польша',\n",
       " 'Германия - Швейцария',\n",
       " 'Германия - Швейцария - Франция - Южная Корея - США',\n",
       " 'Германия, Австралия',\n",
       " 'Германия, Бельгия',\n",
       " 'Германия, Россия',\n",
       " 'Германия, США',\n",
       " 'Германия, Франция',\n",
       " 'Германия, Франция, Великобритания',\n",
       " 'Германия, Франция, США',\n",
       " 'Германия-Австрия',\n",
       " 'Германия-Австрия-Франция-Италия',\n",
       " 'Германия-Великобритания',\n",
       " 'Германия-Израиль',\n",
       " 'Германия-Италия- Шри-Ланка',\n",
       " 'Германия-Италия-Швейцария',\n",
       " 'Германия-Канада-Великобритания-Швейцария-Франция',\n",
       " 'Германия-Канада-Франция-Бельгия',\n",
       " 'Германия-Кения',\n",
       " 'Германия-США',\n",
       " 'Германия-Украина-Нидерланды',\n",
       " 'Германия-Франция-Великобритания',\n",
       " 'Германия-Франция-Великобритания-США',\n",
       " 'Германия-Франция-Польша',\n",
       " 'Германия-Швеция',\n",
       " 'Голландия',\n",
       " 'Гонконг',\n",
       " 'Гонконг - КНР',\n",
       " 'Гонконг - Сингапур - Таиланд - Великобритания',\n",
       " 'Гонконг, КНР',\n",
       " 'Греция',\n",
       " 'Греция - Германия - Франция',\n",
       " 'Греция - Россия',\n",
       " 'Грузия',\n",
       " 'Грузия - Россия - Украина - Хорватия - Германия',\n",
       " 'Грузия - Украина',\n",
       " 'Грузия - Франция - Люксембург',\n",
       " 'Грузия-Россия',\n",
       " 'Грузия-Франция',\n",
       " 'Дания',\n",
       " 'Дания - Австрия - Ирландия - Финляндия - Норвегия - Швеция - Нидерланды',\n",
       " 'Дания - Великобритания - ЮАР',\n",
       " 'Дания - Германия',\n",
       " 'Дания - Германия - Швеция',\n",
       " 'Дания - Исландия',\n",
       " 'Дания - Канада - Швеция - Франция - Германия - Великобритания - США',\n",
       " 'Дания - Латвия - Россия - США',\n",
       " 'Дания - Норвегия - Великобритания',\n",
       " 'Дания - США',\n",
       " 'Дания - Франция - Германия - Швеция',\n",
       " 'Дания - Франция - Италия - Бельгия - Нидерланды',\n",
       " 'Дания - Швейцария - Бельгия - Франция',\n",
       " 'Дания - Швеция',\n",
       " 'Дания - Швеция - Великобритания - Франция - Германия - Нидерланды - Норвегия - Финляндия',\n",
       " 'Дания - Швеция - Италия - Франция - Германия',\n",
       " 'Дания, Канада, Норвегия, Австралия, США',\n",
       " 'Дания, Норвегия, Венгрия, Чехия',\n",
       " 'Дания, Норвегия, Швеция, Исландия',\n",
       " 'Дания, Швеция, Великобритания, Франция, Германия, Норвегия, Финляндия, Нидерланды, Италия',\n",
       " 'Дания-Франция-Бельгия-Германия-Великобритания',\n",
       " 'Дания-Швеция-Франция-Германия',\n",
       " 'Израиль',\n",
       " 'Израиль - Германия - Польша - Бельгия - Франция - Люксембург',\n",
       " 'Израиль - Германия - Франция - Швейцария',\n",
       " 'Израиль - Франция',\n",
       " 'Израиль - Франция - Великобритания - Германия',\n",
       " 'Израиль - Франция - Германия - Палестина - США - Австрия - Великобритания',\n",
       " 'Израиль, Украина',\n",
       " 'Израиль-США-Франция',\n",
       " 'Индия',\n",
       " 'Индия - Великобритания',\n",
       " 'Индия - КНР',\n",
       " 'Индия - Мексика',\n",
       " 'Индия - США',\n",
       " 'Индонезия',\n",
       " 'Иран',\n",
       " 'Иран ',\n",
       " 'Иран, Франция',\n",
       " 'Ирландия',\n",
       " 'Ирландия - Великобритания - Канада',\n",
       " 'Ирландия - Великобритания - США',\n",
       " 'Ирландия - Великобритания - Франция - США',\n",
       " 'Ирландия - Великобритания - Франция - США - Германия - Нидерланды',\n",
       " 'Ирландия - Дания - Бельгия - Люксембург - Франция',\n",
       " 'Ирландия - США',\n",
       " 'Ирландия - Финляндия - Бельгия - Великобритания - США - Швейцария',\n",
       " 'Ирландия, Великобритания',\n",
       " 'Ирландия, Канада',\n",
       " 'Ирландия-Великобритания',\n",
       " 'Ирландия-Великобритания-Германия',\n",
       " 'Ирландия-Нидерланды-Франция-США-Великобритания',\n",
       " 'Исландия',\n",
       " 'Исландия - Финляндия',\n",
       " 'Исландия, Бельгия',\n",
       " 'Исландия-Ирландия-Германия',\n",
       " 'Испания',\n",
       " 'Испания - Аргентина',\n",
       " 'Испания - Аргентина - Индия - США',\n",
       " 'Испания - Бельгия - Франция - Португалия - Великобритания',\n",
       " 'Испания - Болгария - США',\n",
       " 'Испания - Великобритания - Франция',\n",
       " 'Испания - Германия - Нидерланды',\n",
       " 'Испания - Италия - Франция',\n",
       " 'Испания - Канада',\n",
       " 'Испания - Канада - Япония',\n",
       " 'Испания - Куба',\n",
       " 'Испания - Мальта',\n",
       " 'Испания - Мексика',\n",
       " 'Испания - США',\n",
       " 'Испания - США - Великобритания - Канада',\n",
       " 'Испания - США - Колумбия',\n",
       " 'Испания - Уругвай - Аргентина',\n",
       " 'Испания - Франция',\n",
       " 'Испания - Франция - Нидерланды - Германия - Бельгия - Великобритания - Канада',\n",
       " 'Испания - Франция - США - Великобритания - Бельгия',\n",
       " 'Испания - Швейцария - Великобритания - Германия - Новая Зеландия - Нидерланды - Канада',\n",
       " 'Испания, Ирландия, Бельгия, Франция',\n",
       " 'Испания, Франция, Великобритания, Дания, Бельгия, Германия',\n",
       " 'Испания, Франция, Италия',\n",
       " 'Испания-Аргентина',\n",
       " 'Испания-Канада',\n",
       " 'Испания-Колумбия',\n",
       " 'Испания-Мексика',\n",
       " 'Испания-Франция-Греция-Индия-США-Россия-Великобритания',\n",
       " 'Италия',\n",
       " 'Италия ',\n",
       " 'Италия - Аргентина - Словения ',\n",
       " 'Италия - Бельгия - Франция',\n",
       " 'Италия - Канада',\n",
       " 'Италия - Россия',\n",
       " 'Италия - США',\n",
       " 'Италия - Франция',\n",
       " 'Италия - Франция - Германия',\n",
       " 'Италия - Франция - Швейцария',\n",
       " 'Италия - Франция - Швейцария - Великобритания',\n",
       " 'Италия - Фрация - Бразилия - Германия',\n",
       " 'Италия - Швейцария - Германия',\n",
       " 'Италия, Германия',\n",
       " 'Италия, Испания',\n",
       " 'Италия, Франция',\n",
       " 'Италия, Франция, Германия',\n",
       " 'Италия-Великобритания',\n",
       " 'Италия-США',\n",
       " 'Италия-Франция',\n",
       " 'Италия-Франция-Великобритания',\n",
       " 'Италия-Швейцария',\n",
       " 'Италия-Швейцария-Франция-Германия ',\n",
       " 'КНР',\n",
       " 'КНР - Гонконг',\n",
       " 'КНР - Гонконг - США',\n",
       " 'КНР - Канада - США',\n",
       " 'КНР - США',\n",
       " 'КНР - США ',\n",
       " 'КНР - Сингапур',\n",
       " 'КНР - Франция',\n",
       " 'КНР, Индия, Гонконг, США',\n",
       " 'КНР, США',\n",
       " 'КНР-США',\n",
       " 'Казахстан',\n",
       " 'Канада',\n",
       " 'Канада - Германия',\n",
       " 'Канада - Испания',\n",
       " 'Канада - Италия',\n",
       " 'Канада - КНР',\n",
       " 'Канада - Мексика',\n",
       " 'Канада - Норвегия',\n",
       " 'Канада - США',\n",
       " 'Канада - США - Германия - Франция',\n",
       " 'Канада - США - Нидерланды - Великобритания - Аргентина',\n",
       " 'Канада - Франция',\n",
       " 'Канада - Франция - Великобритания',\n",
       " 'Канада - Франция - Испания',\n",
       " 'Канада - Франция - США - ОАЭ - Великобритания',\n",
       " 'Канада - Южная Корея',\n",
       " 'Канада, Великобритания',\n",
       " 'Канада, США',\n",
       " 'Канада, США, Каймановы острова',\n",
       " 'Канада, США, Норвегия',\n",
       " 'Канада, Франция, Италия, Швейцария, США',\n",
       " 'Канада- Испания',\n",
       " 'Канада-Бразилия-Япония',\n",
       " 'Канада-Великобритания',\n",
       " 'Канада-Германия',\n",
       " 'Канада-США',\n",
       " 'Канада-Франция',\n",
       " 'Канада-ЮАР',\n",
       " 'Канада-Южная Корея-США',\n",
       " 'Кения, Германия',\n",
       " 'Киргизия',\n",
       " 'Киргизия-Россия',\n",
       " 'Китай',\n",
       " 'Китай - Гонконг',\n",
       " 'Китай, Канада, США',\n",
       " 'Китай, США',\n",
       " 'Китай-Гонконг',\n",
       " 'Китай-Гонконг-США',\n",
       " 'Княжество Андорра - Украина',\n",
       " 'Колумбия',\n",
       " 'Колумбия - США',\n",
       " 'Корея',\n",
       " 'Латвия - Россия',\n",
       " 'Латвия - Франция',\n",
       " 'Ливан-США',\n",
       " 'Литва - Венгрия',\n",
       " 'Литва-Россия-Украина',\n",
       " 'Люксембург - Бельгия - Франция',\n",
       " 'Люксембург - Нидерланды - Испания - Великобритания - США - Италия',\n",
       " 'Македония - Франция - Великобритания',\n",
       " 'Малайзия',\n",
       " 'Малайзия - США',\n",
       " 'Мексика',\n",
       " 'Мексика - Аргентина - Великобритания',\n",
       " 'Мексика - Испания',\n",
       " 'Мексика - Испания - Дания - США',\n",
       " 'Мексика - Нидерланды - Германия - Франция',\n",
       " 'Мексика - США',\n",
       " 'Мексика - Тайвань - США',\n",
       " 'Мексика - Франция',\n",
       " 'Мексика - Франция - Нидерланды - Германия',\n",
       " 'Мексика - Чили',\n",
       " 'Мексика - Эквадор - Канада - США - Франция - Малайзия - Италия - Аргентина - Германия - Индия  ',\n",
       " 'Мексика, Франция, Германия, Дания, Швеция',\n",
       " 'Мексика-Аргентина',\n",
       " 'Монголия',\n",
       " 'Нидерланды',\n",
       " 'Нидерланды - Бельгия - Болгария',\n",
       " 'Нидерланды - Бельгия - Германия - Ирландия',\n",
       " 'Нидерланды - Бельгия - Люксембург',\n",
       " 'Нидерланды - Великобритания - Бельгия',\n",
       " 'Нидерланды - Россия',\n",
       " 'Нидерланды - Россия - Германия',\n",
       " 'Нидерланды - США - Германия - Канада - Франция - Ирландия - Великобритания',\n",
       " 'Нидерланды - Франция - Германия - Бельгия - Швеция - Великобритания',\n",
       " 'Нидерланды, Бельгия',\n",
       " 'Нидерланды, Бельгия, Люксембург',\n",
       " 'Нидерланды-Великобритания-Франция-Италия-Япония',\n",
       " 'Новая Зеландия',\n",
       " 'Новая Зеландия - КНР',\n",
       " 'Новая Зеландия - США',\n",
       " 'Норвегия',\n",
       " 'Норвегия - Азербайджан - Россия - Колумбия - Великобритания - Венгрия - Румыния - Франция - Грузия',\n",
       " 'Норвегия - Дания - Швеция',\n",
       " 'Норвегия - Исландия - США - Великобритания ',\n",
       " 'Норвегия - Нидерланды',\n",
       " 'Норвегия - США',\n",
       " 'Норвегия - Швеция',\n",
       " 'Норвегия - Швеция - Дания - Германия',\n",
       " 'Норвегия - Швеция - Россия',\n",
       " 'Норвегия, Швеция, Дания',\n",
       " 'Норвения',\n",
       " 'ОАЭ - США',\n",
       " 'Пакистан',\n",
       " 'Парагвай',\n",
       " 'Перу',\n",
       " 'Польша',\n",
       " 'Польша - Ирландия',\n",
       " 'Польша - Италия - Россия',\n",
       " 'Польша - Португалия - Франция - Великобритания',\n",
       " 'Польша - Франция',\n",
       " 'Польша - Франция - Великобритания',\n",
       " 'Польша - Франция - Испания - Бразилия - Швеция',\n",
       " 'Португалия',\n",
       " 'Португалия - Франция',\n",
       " 'Португалия, Франция, Польша, США',\n",
       " 'Пуэрто-Рико, Великобритания, США',\n",
       " 'Республика Армения',\n",
       " 'Республика Беларусь',\n",
       " 'Республика Беларусь, Германия, США, Россия',\n",
       " 'Республика Казахстан',\n",
       " 'Республика Кипр',\n",
       " 'Республика Кипр - Россия',\n",
       " 'Республика Кипр, Россия',\n",
       " 'Республика Кипр, США, Россия',\n",
       " 'Республика Кипр-Россия',\n",
       " 'Республика Корея',\n",
       " 'Республика Узбекистан',\n",
       " 'Россия',\n",
       " 'Россия - Азербайджан',\n",
       " 'Россия - Болгария',\n",
       " 'Россия - Германия',\n",
       " 'Россия - Германия - Украина',\n",
       " 'Россия - Германия - Швейцария',\n",
       " 'Россия - Грузия',\n",
       " 'Россия - Италия',\n",
       " 'Россия - Казахстан',\n",
       " 'Россия - Польша',\n",
       " 'Россия - Республика Кипр',\n",
       " 'Россия - США',\n",
       " 'Россия - Франция - Великобритания - Латвия',\n",
       " 'Россия - Эстония - Финляндия - Беларусь',\n",
       " 'Россия,  Испания',\n",
       " 'Россия, Австрия',\n",
       " 'Россия, Армения',\n",
       " 'Россия, Бельгия, Финляндия',\n",
       " 'Россия, Германия',\n",
       " 'Россия, Германия, Великобритания',\n",
       " 'Россия, Германия, Казахстан, Польша, Китай',\n",
       " 'Россия, Германия, Франция, Бельгия',\n",
       " 'Россия, Грузия, Испания',\n",
       " 'Россия, Грузия, Хорватия, Испания',\n",
       " 'Россия, Испания',\n",
       " 'Россия, Италия',\n",
       " 'Россия, Казахстан, США',\n",
       " 'Россия, Латвия, Чешская Республика',\n",
       " 'Россия, Нидерланды, Финляндия',\n",
       " 'Россия, Польша, Финляндия',\n",
       " 'Россия, Республика Беларусь',\n",
       " 'Россия, Республика Кипр',\n",
       " 'Россия, Румыния',\n",
       " 'Россия, Сербия',\n",
       " 'Россия, Таджикистан',\n",
       " 'Россия, Украина',\n",
       " 'Россия, Украина, Польша',\n",
       " 'Россия, Украина, Республика Беларусь, Литва',\n",
       " 'Россия, Франция, Германия, Бельгия',\n",
       " 'Россия, Франция, Латвия',\n",
       " 'Россия-Азербайджан',\n",
       " 'Россия-Беларусь',\n",
       " 'Россия-Белоруссия',\n",
       " 'Россия-Германия',\n",
       " 'Россия-Ирландия',\n",
       " 'Россия-Италия',\n",
       " 'Россия-Казахстан',\n",
       " 'Россия-Кипр',\n",
       " 'Россия-Китай',\n",
       " 'Россия-Польша',\n",
       " 'Россия-Польша-Голландия-Словакия',\n",
       " 'Россия-США',\n",
       " 'Россия-США-Канада-Люксембург',\n",
       " 'Россия-Словакия-Чехия',\n",
       " 'Россия-Украина',\n",
       " 'Россия-Украина-Германия',\n",
       " 'Россия-Франция',\n",
       " 'Румыния',\n",
       " 'Румыния - Франция - Бельгия',\n",
       " 'Румыния, ЮАР, Иран, Франция, Канада, Великобритания',\n",
       " 'Румыния-США',\n",
       " 'СССР',\n",
       " 'СССР ',\n",
       " 'СССР  ',\n",
       " 'СССР   ',\n",
       " 'СССР    ',\n",
       " 'СССР     ',\n",
       " 'СССР - ГДР - Польша - Италия',\n",
       " 'СССР - Италия',\n",
       " 'СССР - Швейцария - Франция',\n",
       " 'СССР, Албания',\n",
       " 'СССР, Афганистан',\n",
       " 'СССР, ВНР',\n",
       " 'СССР, Венгрия',\n",
       " 'СССР, Венгрия, ЧССР, ГДР',\n",
       " 'СССР, ГДР',\n",
       " 'СССР, Италия',\n",
       " 'СССР, Монголия',\n",
       " 'СССР, Польша',\n",
       " 'СССР, Россия',\n",
       " 'СССР, Румыния, Франция',\n",
       " 'СССР, ФРГ',\n",
       " 'СССР, ФРГ, Западный Берлин',\n",
       " 'СССР, Финляндия',\n",
       " 'СССР, Франция, Англия, Куба, ГДР',\n",
       " 'СССР, ЧССР, Западный Берлин, ПНР',\n",
       " 'СССР, Швеция',\n",
       " 'США',\n",
       " 'США ',\n",
       " 'США - Австралия',\n",
       " 'США - Австралия - Дания',\n",
       " 'США - Австралия - Индия',\n",
       " 'США - Австралия - Мексика',\n",
       " 'США - Австралия - Новая Зеландия - Великобритания',\n",
       " 'США - Австралия - Франция',\n",
       " 'США - Бельгия',\n",
       " 'США - Бельгия - Великобритания',\n",
       " 'США - Болгария - Мексика',\n",
       " 'США - Бразилия - Великобритания - Канада',\n",
       " 'США - Бразилия - Франция - Австралия - Великобритания - Германия',\n",
       " 'США - Великобритания',\n",
       " 'США - Великобритания ',\n",
       " 'США - Великобритания - Австралия',\n",
       " 'США - Великобритания - Болгария',\n",
       " 'США - Великобритания - Германия',\n",
       " 'США - Великобритания - Германия - - Швеция - Канада',\n",
       " 'США - Великобритания - Германия - Бельгия - Дания',\n",
       " 'США - Великобритания - Германия - Новая Зеландия - Бельгия - Франция',\n",
       " 'США - Великобритания - Ирландия',\n",
       " 'США - Великобритания - Исландия',\n",
       " 'США - Великобритания - Испания',\n",
       " 'США - Великобритания - Италия - Израиль - Сербия - Индия',\n",
       " 'США - Великобритания - КНР',\n",
       " 'США - Великобритания - Канада',\n",
       " 'США - Великобритания - Канада - КНР',\n",
       " 'США - Великобритания - Канада - Швеция',\n",
       " 'США - Великобритания - Новая Зеландия',\n",
       " 'США - Великобритания - Франция',\n",
       " 'США - Великобритания - Франция - Гонконг',\n",
       " 'США - Великобритания - Чехия',\n",
       " 'США - Великобритания - Швейцария - Франция',\n",
       " 'США - Великобритания - Швеция',\n",
       " 'США - Великобритания - Япония',\n",
       " 'США - Великобритания- Франция - Швеция',\n",
       " 'США - Венгрия - Великобритания',\n",
       " 'США - Вьетнам',\n",
       " 'США - Германия',\n",
       " 'США - Германия - Великобритания',\n",
       " 'США - Германия - Гонконг - Сингапур',\n",
       " 'США - Германия - КНР',\n",
       " 'США - Германия - Канада',\n",
       " 'США - Германия - Нидерланды',\n",
       " 'США - Германия - Франция',\n",
       " 'США - Германия - Франция - Великобритания - Канада ',\n",
       " 'США - Германия - Япония',\n",
       " 'США - Гонконг',\n",
       " 'США - Гонконг - КНР ',\n",
       " 'США - Дания',\n",
       " 'США - Индия',\n",
       " 'США - Индия - ОАЭ',\n",
       " 'США - Ирландия - Великобритания',\n",
       " 'США - Ирландия - Великобритания - Франция',\n",
       " 'США - Испания',\n",
       " 'США - Испания - Болгария',\n",
       " 'США - Испания - Франция',\n",
       " 'США - Испания - Франция - Великобритания',\n",
       " 'США - Италия',\n",
       " 'США - КНР',\n",
       " 'США - КНР - Индия - Ю.Корея',\n",
       " 'США - Канада',\n",
       " 'США - Канада - Аргентина',\n",
       " 'США - Канада - Афганистан - Бельгия - Франция',\n",
       " 'США - Канада - Великобритания',\n",
       " 'США - Канада - Германия',\n",
       " 'США - Канада - Германия - Франция',\n",
       " 'США - Канада - Индонезия',\n",
       " 'США - Канада - КНР',\n",
       " 'США - Канада - Россия - Франция - Чили - Ирландия',\n",
       " 'США - Канада - Франция - Индия',\n",
       " 'США - Канада - Япония - КНР',\n",
       " 'США - Китай',\n",
       " 'США - Колумбия',\n",
       " 'США - Колумбия - Испания',\n",
       " 'США - Мальта',\n",
       " 'США - Мексика',\n",
       " 'США - Нидерланды - Бельгия - Венгрия - Греция - Канада',\n",
       " 'США - Нидерланды - Финляндия - Великобритания - Италия',\n",
       " 'США - Новая Зеландия',\n",
       " 'США - Новая Зеландия - Япония',\n",
       " 'США - Норвегия',\n",
       " 'США - ОАЭ',\n",
       " 'США - Объединенные Арабские Эмираты',\n",
       " 'США - Пуэрто Рико',\n",
       " 'США - Пуэрто-Рико - Франция ',\n",
       " 'США - Россия',\n",
       " 'США - Россия - Польша - Германия - Пуэрто Рико',\n",
       " 'США - Россия - Франция',\n",
       " 'США - Румыния - Великобритания',\n",
       " 'США - Сингапур - Малайзия - Индонезия',\n",
       " 'США - Украина',\n",
       " 'США - Финляндия',\n",
       " 'США - Финляндия - Испания - Великобритания - Франция',\n",
       " 'США - Франция',\n",
       " 'США - Франция - Бельгия - Италия',\n",
       " 'США - Франция - Великобритания',\n",
       " 'США - Франция - Великобритания - Бразилия ',\n",
       " 'США - Франция - Германия',\n",
       " 'США - Франция - Германия - Канада - Австралия ',\n",
       " 'США - Франция - Испания - Великобритания',\n",
       " 'США - Франция - Канада - Великобритания',\n",
       " 'США - Франция - Канада - Германия - Австралия - Индия',\n",
       " 'США - Франция - Турция',\n",
       " 'США - Франция - ЮАР',\n",
       " 'США - Хорватия - Босния-Герцеговина',\n",
       " 'США - Чехия - Франция',\n",
       " 'США - Чили',\n",
       " 'США - Швейцария - Франция',\n",
       " 'США - Швеция',\n",
       " 'США - ЮАР',\n",
       " 'США - ЮАР - Гонконг',\n",
       " 'США - Южная Корея',\n",
       " 'США - Япония',\n",
       " 'США - Япония - Германия',\n",
       " 'США - Япония - Канада - Великобритания - Германия - Франция',\n",
       " 'США - Япония - Франция - Великобритания',\n",
       " 'США -Великобритания - Австралия',\n",
       " 'США -Германия',\n",
       " 'США, Великобритания',\n",
       " 'США, Великобритания, Ирландия, Люксембург',\n",
       " 'США, Великобритания, Люксембург',\n",
       " 'США, Великобритания, Франция',\n",
       " 'США, Германия',\n",
       " 'США, Гонконг ',\n",
       " 'США, Индия',\n",
       " 'США, Канада',\n",
       " 'США, Россия',\n",
       " 'США, Украина',\n",
       " 'США, Франция',\n",
       " 'США, Франция, Япония',\n",
       " 'США, Япония',\n",
       " 'США- Ю.Корея',\n",
       " 'США-Австралия',\n",
       " 'США-Аргентина',\n",
       " 'США-Бельгия',\n",
       " 'США-Великобритания',\n",
       " 'США-Великобритания-Австралия',\n",
       " 'США-Великобритания-Индия',\n",
       " 'США-Великобритания-Ирландия',\n",
       " 'США-Великобритания-Новая Зеландия',\n",
       " 'США-Великобритания-Франция',\n",
       " 'США-Великобритания-Чехия-Румыния',\n",
       " 'США-Венгрия',\n",
       " 'США-Германия',\n",
       " 'США-Германия-Австралия',\n",
       " 'США-Германия-Великобритания',\n",
       " 'США-Германия-Канада',\n",
       " 'США-Гонконг-Китай',\n",
       " 'США-Индия',\n",
       " 'США-Индонезия',\n",
       " 'США-Ирландия',\n",
       " 'США-Испания',\n",
       " 'США-Италия-Греция',\n",
       " 'США-Италия-Испания',\n",
       " 'США-Италия-Испания-Аргентина',\n",
       " 'США-КНР',\n",
       " 'США-Канада',\n",
       " 'США-Канада-Австралия',\n",
       " 'США-Канада-Бельгия',\n",
       " 'США-Канада-Италия',\n",
       " 'США-Канада-Франция',\n",
       " 'США-Китай',\n",
       " 'США-Колумбия',\n",
       " 'США-Мальта',\n",
       " 'США-Мексика',\n",
       " 'США-Нидерланды',\n",
       " 'США-ОАЭ',\n",
       " 'США-Россия',\n",
       " 'США-ФРГ-Россия',\n",
       " 'США-Франция',\n",
       " 'США-Франция-Великобритания-Австрия',\n",
       " 'США-Франция-Ирландия',\n",
       " 'США-Франция-Испания',\n",
       " 'США-Франция-Канада',\n",
       " 'США-ЮАР',\n",
       " 'США-Южная Корея-Новая Зеландия',\n",
       " 'США-Япония',\n",
       " 'США-Япония-Германия-Великобритания',\n",
       " 'США-Япония-Германия-Великобритания-Нидерланды',\n",
       " 'СЩА',\n",
       " 'Сербия - Великобритания - США',\n",
       " 'Сербия - Германия - Венгрия',\n",
       " 'Сербия - Словения - Хорватия - Черногория - Македония',\n",
       " 'Сингапур - Великобритания - Индонезия - Канада - США',\n",
       " 'Сша, Канада',\n",
       " 'Таиланд',\n",
       " 'Таиланд - КНР - США',\n",
       " 'Таиланд - США',\n",
       " 'Таиланд-Великобритания-Франция-Германия-Испания-Нидерланды',\n",
       " 'Турция',\n",
       " 'Турция - Германя - Франция',\n",
       " 'Турция - США',\n",
       " 'Украина',\n",
       " 'Украина - Германия - Латвия - Эстония',\n",
       " 'Украина - Нидерланды',\n",
       " 'Уругвай - Аргентина - Испания',\n",
       " 'Уругвай - Колумбия',\n",
       " 'Уругвай-Мексика-Германия ',\n",
       " 'Финляндия',\n",
       " 'Финляндия - Австрия - Россия',\n",
       " 'Финляндия - Великобритания - Германия',\n",
       " 'Финляндия - Германия',\n",
       " 'Финляндия - Дания - Германия - Ирландия',\n",
       " 'Финляндия - Исландия - Швеция',\n",
       " 'Финляндия - Канада',\n",
       " 'Финляндия - Польша',\n",
       " 'Финляндия - Франция - Германия',\n",
       " 'Финляндия - Швеция - Германия',\n",
       " 'Финляндия - Швеция - Норвегия',\n",
       " 'Финляндия, Латвия',\n",
       " 'Финляндия-Дания-Германия-Ирландия',\n",
       " 'Франция',\n",
       " 'Франция ',\n",
       " 'Франция -  Бельгия',\n",
       " 'Франция - Австрия',\n",
       " 'Франция - Австрия - Германия - Италия - США',\n",
       " 'Франция - Бельгия',\n",
       " 'Франция - Бельгия - Великобритания - Испания - Германия - США',\n",
       " 'Франция - Бельгия - Великобритания - США - Нидерланды - Канада',\n",
       " 'Франция - Бельгия - Испания',\n",
       " 'Франция - Бельгия - Канада',\n",
       " 'Франция - Бельгия - Люксембург',\n",
       " 'Франция - Бельгия - Чехия',\n",
       " 'Франция - Бельгия - Япония',\n",
       " 'Франция - Бенльгия',\n",
       " 'Франция - Бразилия',\n",
       " 'Франция - Бразилия - Италия',\n",
       " 'Франция - Великобритания',\n",
       " 'Франция - Великобритания - Багамские острова - США',\n",
       " 'Франция - Великобритания - Камбоджа - США - КНР',\n",
       " 'Франция - Великобритания - Нидерланды - Люксембург',\n",
       " 'Франция - Германия',\n",
       " 'Франция - Германия - Австрия',\n",
       " 'Франция - Германия - Бельгия',\n",
       " 'Франция - Германия - Италия',\n",
       " 'Франция - Германия - Литва - Нидерланды - Россия',\n",
       " 'Франция - Германия - Нидерланды',\n",
       " 'Франция - Германия - США',\n",
       " 'Франция - Германия - Турция - Катар',\n",
       " 'Франция - Германия - Швеция - США - Чехия - Словакия - Великобритания - Нидерланды',\n",
       " 'Франция - Греция',\n",
       " 'Франция - Дания',\n",
       " 'Франция - Дания - США',\n",
       " 'Франция - Дания - Швеция - КНР',\n",
       " 'Франция - Израиль - Германия',\n",
       " 'Франция - Ирландия - Швеция',\n",
       " 'Франция - Испания',\n",
       " 'Франция - Испания - Дания - Венгрия - Швейцария',\n",
       " 'Франция - Испания - Румыния - США - Бельгия',\n",
       " 'Франция - Испания - Тайвань',\n",
       " 'Франция - Италия',\n",
       " 'Франция - Италия - Бельгия - КНР',\n",
       " 'Франция - Италия - Бельгия - Люксембург',\n",
       " 'Франция - Италия - Великобритания - США',\n",
       " 'Франция - Италия - Иран',\n",
       " 'Франция - Италия - Швейцария',\n",
       " 'Франция - КНР',\n",
       " 'Франция - Канада',\n",
       " 'Франция - Канада - Бельгия',\n",
       " 'Франция - Канада - Н.Зеландия - США - Нидерланды - Германия - Швеция - Россия',\n",
       " 'Франция - Люксембург',\n",
       " 'Франция - Люксембург - Бельгия',\n",
       " 'Франция - Люксембург - Германия - Бельгия - Швейцария - Великобритания ',\n",
       " 'Франция - Македония',\n",
       " 'Франция - Мексика - США',\n",
       " 'Франция - Монако',\n",
       " 'Франция - Нидерланды',\n",
       " 'Франция - Польша - Бельгия',\n",
       " 'Франция - Португалия',\n",
       " 'Франция - Россия',\n",
       " 'Франция - Россия - Швейцария - Румыния - Венгрия',\n",
       " 'Франция - США',\n",
       " 'Франция - США - Бельгия',\n",
       " 'Франция - США - Великобритания - Колумбия - Бельгия - Россия',\n",
       " 'Франция - США - Норвегия - Дания',\n",
       " 'Франция - Сенегал - Бельгия',\n",
       " 'Франция - Украина - Грузия - Армения',\n",
       " 'Франция - Финляндия',\n",
       " 'Франция - Чехия - Бельгия',\n",
       " 'Франция - Чехия - Великобритания',\n",
       " 'Франция - Чили',\n",
       " 'Франция - Швейцария',\n",
       " 'Франция - Швейцария - Германия',\n",
       " 'Франция - Швеция - Дания - Норвегия',\n",
       " 'Франция -Бельгия',\n",
       " 'Франция, Бельгия',\n",
       " 'Франция, Бельгия, Люксембург',\n",
       " 'Франция, Германия',\n",
       " 'Франция, Канада',\n",
       " 'Франция, Люксембург, Бельгия',\n",
       " 'Франция, Новая Зеландия',\n",
       " 'Франция, Норвегия',\n",
       " 'Франция-Австралия',\n",
       " 'Франция-Аргентина',\n",
       " 'Франция-Бельгия',\n",
       " 'Франция-Бельгия-Канада',\n",
       " 'Франция-Великобритания',\n",
       " 'Франция-Великобритания - Германия',\n",
       " 'Франция-Великобритания-Чехия',\n",
       " 'Франция-Германия',\n",
       " 'Франция-Германия-Австрия',\n",
       " 'Франция-Германия-Великобритания',\n",
       " 'Франция-Германия-Италия',\n",
       " 'Франция-Гонконг-Ирландия',\n",
       " 'Франция-Грузия-Германия-Россия-Украина-Бельгия',\n",
       " 'Франция-Индия',\n",
       " 'Франция-Испания',\n",
       " 'Франция-Испания-Бельгия-Панама',\n",
       " 'Франция-Испания-Германия',\n",
       " 'Франция-Испания-Швейцария',\n",
       " 'Франция-Италия',\n",
       " 'Франция-Италия-Испания-Венгрия',\n",
       " 'Франция-КНР',\n",
       " 'Франция-Канада',\n",
       " 'Франция-Китай',\n",
       " 'Франция-Перу',\n",
       " 'Франция-Польша',\n",
       " 'Франция-Россия',\n",
       " 'Франция-Россия-Румыния-Италия-Бельгия',\n",
       " 'Франция-США',\n",
       " 'Франция-Украина',\n",
       " 'Хорватия',\n",
       " 'Чехия',\n",
       " 'Чехия - Германия',\n",
       " 'Чехия - Испания - США',\n",
       " 'Чехия - Словакия - Хорватия',\n",
       " 'Чехия-Великобритания-США',\n",
       " 'Чехословакия',\n",
       " 'Чили',\n",
       " 'Чили - Испания',\n",
       " 'Чили - Франция - США',\n",
       " 'Швейцария',\n",
       " 'Швейцария - Австрия',\n",
       " 'Швейцария - Великобритания',\n",
       " 'Швейцария - Израиль - Франция - Великобритания',\n",
       " 'Швейцария - КНР - США - Россия - Республика Корея - Великобритания',\n",
       " 'Швейцария - Люксембург',\n",
       " 'Швейцария - Франция',\n",
       " 'Швейцария, Великобритания, Франция, США, Ирландия',\n",
       " 'Швейцария-Австрия',\n",
       " 'Швейцария-Германия-ЮАР',\n",
       " 'Швейцария-Франция',\n",
       " 'Швеция',\n",
       " 'Швеция - Германия',\n",
       " 'Швеция - Германия - Дания - Норвегия',\n",
       " 'Швеция - Германия - Франция - Дания',\n",
       " 'Швеция - Германия - Франция - Норвегия',\n",
       " 'Швеция - Дания',\n",
       " 'Швеция - Дания - Финляндия',\n",
       " 'Швеция - Норвегия',\n",
       " 'Швеция - США',\n",
       " 'Швеция - Франция - Норвегия - Дания',\n",
       " 'Швеция, Норвегия, Финляндия, Франция',\n",
       " 'Швеция, Франция, Великобритания',\n",
       " 'Швеция-Куба',\n",
       " 'Швеция-Финляндия-Франция-Норвегия',\n",
       " 'Швеция-Франция',\n",
       " 'Швеция-Франция-Дания',\n",
       " 'Эстония',\n",
       " 'Эстония - Россия',\n",
       " 'ЮАР',\n",
       " 'ЮАР - США',\n",
       " 'Южная Корея',\n",
       " 'Южная Корея - КНР',\n",
       " 'Южная Корея - США',\n",
       " 'Южная Корея - США - Канада',\n",
       " 'Япония',\n",
       " 'Япония - Великобритания - Франция',\n",
       " 'Япония - Великобритания - Швейцария - Ирландия - Дания - Франция - Польша - Австралия - Канада  ',\n",
       " 'Япония - КНР - Южная Корея',\n",
       " 'Япония - Канада',\n",
       " 'Япония - США',\n",
       " 'Япония - Франция - США - Южная Корея - Турция',\n",
       " 'Япония, Великобритания',\n",
       " 'Япония, Великобритания, Австрия, Германия, Ю.Корея',\n",
       " 'Япония, США',\n",
       " 'Япония-Великобритания',\n",
       " 'Япония-США-Франция']"
      ]
     },
     "execution_count": 14,
     "metadata": {},
     "output_type": "execute_result"
    }
   ],
   "source": [
    "movies['production_country'] = movies['production_country'].replace('2019', 'Германия') \n",
    "#заменяю значение '2019' на 'Германия' в столбце production_country\n",
    "sorted(movies[~movies['production_country'].isna()]['production_country'].unique()) \n",
    "#уникальные значения столбца production_country"
   ]
  },
  {
   "cell_type": "code",
   "execution_count": 15,
   "metadata": {},
   "outputs": [
    {
     "data": {
      "text/plain": [
       "array(['7.2', '6.6', '6.8', '7.7', '8.3', '8.0', '7.8', '8.1', '7.1',\n",
       "       '6.0', '7.4', '5.8', '8.7', '6.3', '6.9', '5.0', '4.3', '7.3',\n",
       "       '7.0', '6.4', nan, '8.2', '7.5', '6.7', '7.9', '5.9', '6.2', '5.6',\n",
       "       '6.5', '2.4', '7.6', '6.1', '8.6', '8.5', '8.8', '5.5', '5.1',\n",
       "       '5.7', '5.4', 9.9, '4.4', '4.5', '5.3', '4.1', '8.4', '2.6', '3.8',\n",
       "       '4.6', '4.8', '4.0', '3.0', '1.6', '4.2', '5.2', '4.7', '4.9',\n",
       "       '3.9', '2.7', '3.3', '2.9', 2.8, '3.7', '1.4', '3.1', 9.7, '3.5',\n",
       "       '3.2', '2.8', '1.5', '2.1', '2.5', '9.2', '3.4', '1.1', '3.6', 8.3,\n",
       "       6.4, 9.1, 9.4, 6.2, 7.9, 9.0, 1.9, 8.8, '1.0', 8.9, '1.3', '1.9',\n",
       "       '1.8', '1.2', '1.7', '9.0', 9.8, '8.9', '9.1'], dtype=object)"
      ]
     },
     "execution_count": 15,
     "metadata": {},
     "output_type": "execute_result"
    }
   ],
   "source": [
    "for i in movies['ratings'].unique(): #цикл, который отбирает уникальные значения в процентах из столбца ratings\n",
    "    #и заменяет число с процентом на число о 1 до 10\n",
    "    if (type(i) == type(' ')) and ('%' in i):\n",
    "        new_rate = i.replace('%', '')\n",
    "        new_rate = float(new_rate) /10\n",
    "        movies['ratings'] = movies['ratings'].replace( i, new_rate)\n",
    "        #percent_list.append(i)\n",
    "        \n",
    "\n",
    "movies['ratings'].unique() #выводим уникальные значения в столбце ratings"
   ]
  },
  {
   "cell_type": "code",
   "execution_count": 16,
   "metadata": {},
   "outputs": [
    {
     "data": {
      "text/plain": [
       "title                     0.000000\n",
       "puNumber                  0.000000\n",
       "show_start_date           0.000000\n",
       "type                      0.000000\n",
       "film_studio               0.240449\n",
       "production_country        0.026717\n",
       "director                  0.120224\n",
       "producer                  7.587497\n",
       "age_restriction           0.000000\n",
       "refundable_support       95.565055\n",
       "nonrefundable_support    95.565055\n",
       "budget                   95.565055\n",
       "financing_source         95.565055\n",
       "ratings                  12.917446\n",
       "genres                   13.037670\n",
       "box_office               57.814587\n",
       "dtype: float64"
      ]
     },
     "execution_count": 16,
     "metadata": {},
     "output_type": "execute_result"
    }
   ],
   "source": [
    "movies['show_start_date'] = pd.to_datetime(movies['show_start_date'], format = '%Y-%m-%dT%H:%M:%S')\n",
    "#тип данных в стобце show_start_date на datetime\n",
    "movies['ratings'] = movies['ratings'].astype('float') #меняем тип данных в столбце ratings на float\n",
    "movies.isna().mean()*100 #"
   ]
  },
  {
   "cell_type": "code",
   "execution_count": 17,
   "metadata": {},
   "outputs": [
    {
     "name": "stdout",
     "output_type": "stream",
     "text": [
      "<class 'pandas.core.frame.DataFrame'>\n",
      "Int64Index: 7486 entries, 0 to 7485\n",
      "Data columns (total 16 columns):\n",
      "title                    7486 non-null object\n",
      "puNumber                 7486 non-null object\n",
      "show_start_date          7486 non-null datetime64[ns, UTC]\n",
      "type                     7486 non-null object\n",
      "film_studio              7468 non-null object\n",
      "production_country       7484 non-null object\n",
      "director                 7477 non-null object\n",
      "producer                 6918 non-null object\n",
      "age_restriction          7486 non-null object\n",
      "refundable_support       332 non-null float64\n",
      "nonrefundable_support    332 non-null float64\n",
      "budget                   332 non-null float64\n",
      "financing_source         332 non-null object\n",
      "ratings                  6519 non-null float64\n",
      "genres                   6510 non-null object\n",
      "box_office               3158 non-null float64\n",
      "dtypes: datetime64[ns, UTC](1), float64(5), object(10)\n",
      "memory usage: 994.2+ KB\n"
     ]
    }
   ],
   "source": [
    "movies.info() #проверяю изменения в типах данных"
   ]
  },
  {
   "cell_type": "markdown",
   "metadata": {},
   "source": [
    "**Вывод:**\n",
    "\n",
    "- Для приведения столбца ratings к типу float необходимо избавится от значений, которые нельзя будет перевести из строкового типа данных к типу float. В моем случае это значения с процентами, которые я с помощью цикла поместила в списоки заменила их на число от 1 до 10, убрав из строки процент и поделив полученное число на 10.\n",
    "\n",
    "- Привела столбец show_start_date к типу datetime.\n",
    "\n",
    "- Так же нетипичное значение было обнаружено в столбце production_country. В одной строке страна производства была равно 2019. Так как это только одна строка, то я решила заменить это значение на верное."
   ]
  },
  {
   "cell_type": "markdown",
   "metadata": {
    "id": "i0MOLbF-gFyP"
   },
   "source": [
    "#### Шаг 2.2. Заполнение пропусков в датафрейме"
   ]
  },
  {
   "cell_type": "code",
   "execution_count": 18,
   "metadata": {
    "id": "8MJD_lkngFyP"
   },
   "outputs": [
    {
     "data": {
      "text/plain": [
       "title                       0\n",
       "puNumber                    0\n",
       "show_start_date             0\n",
       "type                        0\n",
       "film_studio                18\n",
       "production_country          2\n",
       "director                    9\n",
       "producer                  568\n",
       "age_restriction             0\n",
       "refundable_support       7154\n",
       "nonrefundable_support    7154\n",
       "budget                   7154\n",
       "financing_source         7154\n",
       "ratings                   967\n",
       "genres                    976\n",
       "box_office               4328\n",
       "dtype: int64"
      ]
     },
     "execution_count": 18,
     "metadata": {},
     "output_type": "execute_result"
    }
   ],
   "source": [
    "movies.isna().sum() #смотрю количество пропусков по каждому столбцу"
   ]
  },
  {
   "cell_type": "code",
   "execution_count": 19,
   "metadata": {},
   "outputs": [
    {
     "data": {
      "text/plain": [
       "0"
      ]
     },
     "execution_count": 19,
     "metadata": {},
     "output_type": "execute_result"
    }
   ],
   "source": [
    "movies = movies.dropna(subset = ['director']) #удаляю строки с пропусками в столбце director\n",
    "movies['director'].isna().sum() #проверяю столбец director на пропуски"
   ]
  },
  {
   "cell_type": "code",
   "execution_count": 20,
   "metadata": {},
   "outputs": [
    {
     "data": {
      "text/html": [
       "<div>\n",
       "<style scoped>\n",
       "    .dataframe tbody tr th:only-of-type {\n",
       "        vertical-align: middle;\n",
       "    }\n",
       "\n",
       "    .dataframe tbody tr th {\n",
       "        vertical-align: top;\n",
       "    }\n",
       "\n",
       "    .dataframe thead th {\n",
       "        text-align: right;\n",
       "    }\n",
       "</style>\n",
       "<table border=\"1\" class=\"dataframe\">\n",
       "  <thead>\n",
       "    <tr style=\"text-align: right;\">\n",
       "      <th></th>\n",
       "      <th>title</th>\n",
       "      <th>puNumber</th>\n",
       "      <th>show_start_date</th>\n",
       "      <th>type</th>\n",
       "      <th>film_studio</th>\n",
       "      <th>production_country</th>\n",
       "      <th>director</th>\n",
       "      <th>producer</th>\n",
       "      <th>age_restriction</th>\n",
       "      <th>refundable_support</th>\n",
       "      <th>nonrefundable_support</th>\n",
       "      <th>budget</th>\n",
       "      <th>financing_source</th>\n",
       "      <th>ratings</th>\n",
       "      <th>genres</th>\n",
       "      <th>box_office</th>\n",
       "    </tr>\n",
       "  </thead>\n",
       "  <tbody>\n",
       "    <tr>\n",
       "      <td>3186</td>\n",
       "      <td>Детский юмористический киножурнал \"Ералаш. Ну ...</td>\n",
       "      <td>111001216</td>\n",
       "      <td>2016-02-09 12:00:00+00:00</td>\n",
       "      <td>Художественный</td>\n",
       "      <td>ООО \"Продюсерский центр ЕРАЛАШ\"</td>\n",
       "      <td>NaN</td>\n",
       "      <td>Р.Светлов, И.Магитон, А.Арутюнян, Л.Мирский, А...</td>\n",
       "      <td>ООО \"Продюсерский центр ЕРАЛАШ\"</td>\n",
       "      <td>«0+» - для любой зрительской аудитории</td>\n",
       "      <td>NaN</td>\n",
       "      <td>NaN</td>\n",
       "      <td>NaN</td>\n",
       "      <td>NaN</td>\n",
       "      <td>7.2</td>\n",
       "      <td>детский,комедия</td>\n",
       "      <td>194527.0</td>\n",
       "    </tr>\n",
       "  </tbody>\n",
       "</table>\n",
       "</div>"
      ],
      "text/plain": [
       "                                                  title   puNumber  \\\n",
       "3186  Детский юмористический киножурнал \"Ералаш. Ну ...  111001216   \n",
       "\n",
       "               show_start_date            type  \\\n",
       "3186 2016-02-09 12:00:00+00:00  Художественный   \n",
       "\n",
       "                          film_studio production_country  \\\n",
       "3186  ООО \"Продюсерский центр ЕРАЛАШ\"                NaN   \n",
       "\n",
       "                                               director  \\\n",
       "3186  Р.Светлов, И.Магитон, А.Арутюнян, Л.Мирский, А...   \n",
       "\n",
       "                             producer                         age_restriction  \\\n",
       "3186  ООО \"Продюсерский центр ЕРАЛАШ\"  «0+» - для любой зрительской аудитории   \n",
       "\n",
       "      refundable_support  nonrefundable_support  budget financing_source  \\\n",
       "3186                 NaN                    NaN     NaN              NaN   \n",
       "\n",
       "      ratings           genres  box_office  \n",
       "3186      7.2  детский,комедия    194527.0  "
      ]
     },
     "execution_count": 20,
     "metadata": {},
     "output_type": "execute_result"
    }
   ],
   "source": [
    "movies[movies['production_country'].isna()] #фильмы с неизвестной ситраной производства"
   ]
  },
  {
   "cell_type": "code",
   "execution_count": 21,
   "metadata": {},
   "outputs": [
    {
     "data": {
      "text/plain": [
       "title                       0\n",
       "puNumber                    0\n",
       "show_start_date             0\n",
       "type                        0\n",
       "film_studio                17\n",
       "production_country          0\n",
       "director                    0\n",
       "producer                  564\n",
       "age_restriction             0\n",
       "refundable_support       7145\n",
       "nonrefundable_support    7145\n",
       "budget                   7145\n",
       "financing_source         7145\n",
       "ratings                   961\n",
       "genres                    970\n",
       "box_office               4320\n",
       "dtype: int64"
      ]
     },
     "execution_count": 21,
     "metadata": {},
     "output_type": "execute_result"
    }
   ],
   "source": [
    "movies['production_country'] = movies['production_country'].fillna('СССР') #заполняю страну производства\n",
    "    \n",
    "movies.isna().sum() #проверяю уменьшилось ли количество пропусков"
   ]
  },
  {
   "cell_type": "markdown",
   "metadata": {},
   "source": [
    "**Вывод:** \n",
    "\n",
    "- В стобце film_studio всего 17 пропусков, так как этот столбец для исследования нам не особо нужен и важен, то я решила оставить пропуски.\n",
    "\n",
    "- В столбце director было 9 пропусков. Так как этот столбец важен для исследования и я с ним буду работать на следующих шагах, то я удалила строки с пропусками в этом столбце.\n",
    "\n",
    "- После удаления пропусков в стобце director остался один пропуск, я решила заполнить его.\n",
    "\n",
    "- В столбцах refundable_support, nonrefundable_support, budget и financing_source одинаковое количество пропусков. Думаю это связано с тем, что данные в столбце бюджет указаны, только для тех фильмов, которые получили гос. поддержку, в то время как столбцы refundable_support и nonrefundable_support это количество возвратных и невозвратных средств от гос. поддержки. Пропуски в этих столбцах я решила не заполнять.\n",
    "\n",
    "- В столбцах producer, ratings, genres так же есть пропуски, но я не вижу хорошего метода для заполнения пропусков в таких столбцах, поэтому пропуски в этих столбцах не заполняла."
   ]
  },
  {
   "cell_type": "markdown",
   "metadata": {
    "id": "4c6k1t9ygFyQ"
   },
   "source": [
    "#### Шаг 2.3. Проверка на дубликаты в датафрейме"
   ]
  },
  {
   "cell_type": "code",
   "execution_count": 22,
   "metadata": {
    "id": "aKck8RIdgFyQ"
   },
   "outputs": [
    {
     "data": {
      "text/plain": [
       "0"
      ]
     },
     "execution_count": 22,
     "metadata": {},
     "output_type": "execute_result"
    }
   ],
   "source": [
    "movies.duplicated().sum() #сумма дубликатов по всему датафрейму"
   ]
  },
  {
   "cell_type": "code",
   "execution_count": 23,
   "metadata": {},
   "outputs": [
    {
     "data": {
      "text/plain": [
       "714"
      ]
     },
     "execution_count": 23,
     "metadata": {},
     "output_type": "execute_result"
    }
   ],
   "source": [
    "movies['title'].duplicated().sum() #сумма дубликатов по столбцу title"
   ]
  },
  {
   "cell_type": "code",
   "execution_count": 24,
   "metadata": {},
   "outputs": [
    {
     "data": {
      "text/html": [
       "<div>\n",
       "<style scoped>\n",
       "    .dataframe tbody tr th:only-of-type {\n",
       "        vertical-align: middle;\n",
       "    }\n",
       "\n",
       "    .dataframe tbody tr th {\n",
       "        vertical-align: top;\n",
       "    }\n",
       "\n",
       "    .dataframe thead th {\n",
       "        text-align: right;\n",
       "    }\n",
       "</style>\n",
       "<table border=\"1\" class=\"dataframe\">\n",
       "  <thead>\n",
       "    <tr style=\"text-align: right;\">\n",
       "      <th></th>\n",
       "      <th>title</th>\n",
       "      <th>puNumber</th>\n",
       "      <th>show_start_date</th>\n",
       "      <th>type</th>\n",
       "      <th>film_studio</th>\n",
       "      <th>production_country</th>\n",
       "      <th>director</th>\n",
       "      <th>producer</th>\n",
       "      <th>age_restriction</th>\n",
       "      <th>refundable_support</th>\n",
       "      <th>nonrefundable_support</th>\n",
       "      <th>budget</th>\n",
       "      <th>financing_source</th>\n",
       "      <th>ratings</th>\n",
       "      <th>genres</th>\n",
       "      <th>box_office</th>\n",
       "    </tr>\n",
       "  </thead>\n",
       "  <tbody>\n",
       "    <tr>\n",
       "      <td>3</td>\n",
       "      <td>Особо опасен</td>\n",
       "      <td>221026916</td>\n",
       "      <td>2016-06-10 12:00:00+00:00</td>\n",
       "      <td>Художественный</td>\n",
       "      <td>Юниверсал Пикчерз, Кикстарт Продакшнз, Марк Пл...</td>\n",
       "      <td>США</td>\n",
       "      <td>Тимур Бекмамбетов</td>\n",
       "      <td>Джим Лемли, Джейсон Нетер, Марк Е.Платт, Яйн Смит</td>\n",
       "      <td>«18+» - запрещено для детей</td>\n",
       "      <td>NaN</td>\n",
       "      <td>NaN</td>\n",
       "      <td>NaN</td>\n",
       "      <td>NaN</td>\n",
       "      <td>6.8</td>\n",
       "      <td>фантастика,боевик,триллер</td>\n",
       "      <td>NaN</td>\n",
       "    </tr>\n",
       "    <tr>\n",
       "      <td>4</td>\n",
       "      <td>Особо опасен</td>\n",
       "      <td>221030815</td>\n",
       "      <td>2015-07-29 12:00:00+00:00</td>\n",
       "      <td>Художественный</td>\n",
       "      <td>Юниверсал Пикчерз, Кикстарт Продакшнз, Марк Пл...</td>\n",
       "      <td>США</td>\n",
       "      <td>Тимур Бекмамбетов</td>\n",
       "      <td>Джим Лемли, Джейсон Нетер, Марк Е.Платт, Яйн Смит</td>\n",
       "      <td>«18+» - запрещено для детей</td>\n",
       "      <td>NaN</td>\n",
       "      <td>NaN</td>\n",
       "      <td>NaN</td>\n",
       "      <td>NaN</td>\n",
       "      <td>6.8</td>\n",
       "      <td>фантастика,боевик,триллер</td>\n",
       "      <td>NaN</td>\n",
       "    </tr>\n",
       "    <tr>\n",
       "      <td>41</td>\n",
       "      <td>Алекс и Эмма</td>\n",
       "      <td>221004616</td>\n",
       "      <td>2016-02-09 12:00:00+00:00</td>\n",
       "      <td>Художественный</td>\n",
       "      <td>Эскейп Артистс, Франчайз Пикчерз, Рейнер-Грэйс...</td>\n",
       "      <td>США</td>\n",
       "      <td>Роб Райнер</td>\n",
       "      <td>Тодд Блэк, Элан Грейсман, Джереми Левен, Роб Р...</td>\n",
       "      <td>«16+» - для детей старше 16 лет</td>\n",
       "      <td>NaN</td>\n",
       "      <td>NaN</td>\n",
       "      <td>NaN</td>\n",
       "      <td>NaN</td>\n",
       "      <td>6.4</td>\n",
       "      <td>мелодрама,комедия</td>\n",
       "      <td>NaN</td>\n",
       "    </tr>\n",
       "    <tr>\n",
       "      <td>110</td>\n",
       "      <td>Гарри Поттер и орден Феникса /По роману Дж.К.Р...</td>\n",
       "      <td>121026316</td>\n",
       "      <td>2016-09-23 12:00:00+00:00</td>\n",
       "      <td>Художественный</td>\n",
       "      <td>Уорнер Бразерс, Хэйдей Филмз</td>\n",
       "      <td>США - Великобритания</td>\n",
       "      <td>Дэвид Йетс</td>\n",
       "      <td>Дэйвид Баррон, Дэйвид Хейман</td>\n",
       "      <td>«16+» - для детей старше 16 лет</td>\n",
       "      <td>NaN</td>\n",
       "      <td>NaN</td>\n",
       "      <td>NaN</td>\n",
       "      <td>NaN</td>\n",
       "      <td>7.7</td>\n",
       "      <td>фэнтези,приключения,семейный</td>\n",
       "      <td>759526.0</td>\n",
       "    </tr>\n",
       "    <tr>\n",
       "      <td>113</td>\n",
       "      <td>Гарри Поттер и узник Азкабана /По роману Дж.К....</td>\n",
       "      <td>121026116</td>\n",
       "      <td>2016-09-23 12:00:00+00:00</td>\n",
       "      <td>Художественный</td>\n",
       "      <td>Хэйдей Филмз, 1492 Пикчерз, Уорнер Бразерс</td>\n",
       "      <td>США</td>\n",
       "      <td>Альфонсо Куарон</td>\n",
       "      <td>Майкл Барната</td>\n",
       "      <td>«12+» - для детей старше 12 лет</td>\n",
       "      <td>NaN</td>\n",
       "      <td>NaN</td>\n",
       "      <td>NaN</td>\n",
       "      <td>NaN</td>\n",
       "      <td>8.2</td>\n",
       "      <td>фэнтези,приключения,семейный</td>\n",
       "      <td>1125302.0</td>\n",
       "    </tr>\n",
       "  </tbody>\n",
       "</table>\n",
       "</div>"
      ],
      "text/plain": [
       "                                                 title   puNumber  \\\n",
       "3                                         Особо опасен  221026916   \n",
       "4                                         Особо опасен  221030815   \n",
       "41                                        Алекс и Эмма  221004616   \n",
       "110  Гарри Поттер и орден Феникса /По роману Дж.К.Р...  121026316   \n",
       "113  Гарри Поттер и узник Азкабана /По роману Дж.К....  121026116   \n",
       "\n",
       "              show_start_date            type  \\\n",
       "3   2016-06-10 12:00:00+00:00  Художественный   \n",
       "4   2015-07-29 12:00:00+00:00  Художественный   \n",
       "41  2016-02-09 12:00:00+00:00  Художественный   \n",
       "110 2016-09-23 12:00:00+00:00  Художественный   \n",
       "113 2016-09-23 12:00:00+00:00  Художественный   \n",
       "\n",
       "                                           film_studio    production_country  \\\n",
       "3    Юниверсал Пикчерз, Кикстарт Продакшнз, Марк Пл...                   США   \n",
       "4    Юниверсал Пикчерз, Кикстарт Продакшнз, Марк Пл...                   США   \n",
       "41   Эскейп Артистс, Франчайз Пикчерз, Рейнер-Грэйс...                   США   \n",
       "110                       Уорнер Бразерс, Хэйдей Филмз  США - Великобритания   \n",
       "113         Хэйдей Филмз, 1492 Пикчерз, Уорнер Бразерс                   США   \n",
       "\n",
       "              director                                           producer  \\\n",
       "3    Тимур Бекмамбетов  Джим Лемли, Джейсон Нетер, Марк Е.Платт, Яйн Смит   \n",
       "4    Тимур Бекмамбетов  Джим Лемли, Джейсон Нетер, Марк Е.Платт, Яйн Смит   \n",
       "41          Роб Райнер  Тодд Блэк, Элан Грейсман, Джереми Левен, Роб Р...   \n",
       "110         Дэвид Йетс                       Дэйвид Баррон, Дэйвид Хейман   \n",
       "113    Альфонсо Куарон                                      Майкл Барната   \n",
       "\n",
       "                     age_restriction  refundable_support  \\\n",
       "3        «18+» - запрещено для детей                 NaN   \n",
       "4        «18+» - запрещено для детей                 NaN   \n",
       "41   «16+» - для детей старше 16 лет                 NaN   \n",
       "110  «16+» - для детей старше 16 лет                 NaN   \n",
       "113  «12+» - для детей старше 12 лет                 NaN   \n",
       "\n",
       "     nonrefundable_support  budget financing_source  ratings  \\\n",
       "3                      NaN     NaN              NaN      6.8   \n",
       "4                      NaN     NaN              NaN      6.8   \n",
       "41                     NaN     NaN              NaN      6.4   \n",
       "110                    NaN     NaN              NaN      7.7   \n",
       "113                    NaN     NaN              NaN      8.2   \n",
       "\n",
       "                           genres  box_office  \n",
       "3       фантастика,боевик,триллер         NaN  \n",
       "4       фантастика,боевик,триллер         NaN  \n",
       "41              мелодрама,комедия         NaN  \n",
       "110  фэнтези,приключения,семейный    759526.0  \n",
       "113  фэнтези,приключения,семейный   1125302.0  "
      ]
     },
     "execution_count": 24,
     "metadata": {},
     "output_type": "execute_result"
    }
   ],
   "source": [
    "movies[movies['title'].duplicated()].head() #первые пять строк из дубликатов по столбцу title"
   ]
  },
  {
   "cell_type": "code",
   "execution_count": 25,
   "metadata": {},
   "outputs": [
    {
     "data": {
      "text/html": [
       "<div>\n",
       "<style scoped>\n",
       "    .dataframe tbody tr th:only-of-type {\n",
       "        vertical-align: middle;\n",
       "    }\n",
       "\n",
       "    .dataframe tbody tr th {\n",
       "        vertical-align: top;\n",
       "    }\n",
       "\n",
       "    .dataframe thead th {\n",
       "        text-align: right;\n",
       "    }\n",
       "</style>\n",
       "<table border=\"1\" class=\"dataframe\">\n",
       "  <thead>\n",
       "    <tr style=\"text-align: right;\">\n",
       "      <th></th>\n",
       "      <th>title</th>\n",
       "      <th>show_start_date</th>\n",
       "      <th>type</th>\n",
       "      <th>film_studio</th>\n",
       "      <th>production_country</th>\n",
       "      <th>director</th>\n",
       "      <th>producer</th>\n",
       "      <th>age_restriction</th>\n",
       "      <th>refundable_support</th>\n",
       "      <th>nonrefundable_support</th>\n",
       "      <th>budget</th>\n",
       "      <th>financing_source</th>\n",
       "      <th>ratings</th>\n",
       "      <th>genres</th>\n",
       "      <th>box_office</th>\n",
       "    </tr>\n",
       "  </thead>\n",
       "  <tbody>\n",
       "    <tr>\n",
       "      <td>0</td>\n",
       "      <td>Открытый простор</td>\n",
       "      <td>2015-11-27 12:00:00+00:00</td>\n",
       "      <td>Художественный</td>\n",
       "      <td>Тачстоун Пикчерз, Кобальт Пикчерз, Бикон Пикче...</td>\n",
       "      <td>США</td>\n",
       "      <td>Кевин Костнер</td>\n",
       "      <td>Дэвид Валдес, Кевин Костнер, Джейк Эбертс</td>\n",
       "      <td>«18+» - запрещено для детей</td>\n",
       "      <td>NaN</td>\n",
       "      <td>NaN</td>\n",
       "      <td>NaN</td>\n",
       "      <td>NaN</td>\n",
       "      <td>7.2</td>\n",
       "      <td>боевик,драма,мелодрама</td>\n",
       "      <td>NaN</td>\n",
       "    </tr>\n",
       "    <tr>\n",
       "      <td>1</td>\n",
       "      <td>Особо важное задание</td>\n",
       "      <td>2016-09-13 12:00:00+00:00</td>\n",
       "      <td>Художественный</td>\n",
       "      <td>Киностудия \"Мосфильм\"</td>\n",
       "      <td>СССР</td>\n",
       "      <td>Е.Матвеев</td>\n",
       "      <td>NaN</td>\n",
       "      <td>«6+» - для детей старше 6 лет</td>\n",
       "      <td>NaN</td>\n",
       "      <td>NaN</td>\n",
       "      <td>NaN</td>\n",
       "      <td>NaN</td>\n",
       "      <td>6.6</td>\n",
       "      <td>драма,военный</td>\n",
       "      <td>NaN</td>\n",
       "    </tr>\n",
       "    <tr>\n",
       "      <td>2</td>\n",
       "      <td>Особо опасен</td>\n",
       "      <td>2016-10-10 12:00:00+00:00</td>\n",
       "      <td>Художественный</td>\n",
       "      <td>Юниверсал Пикчерз, Кикстарт Продакшнз, Марк Пл...</td>\n",
       "      <td>США</td>\n",
       "      <td>Тимур Бекмамбетов</td>\n",
       "      <td>Джим Лемли, Джейсон Нетер, Марк Е.Платт, Яйн Смит</td>\n",
       "      <td>«18+» - запрещено для детей</td>\n",
       "      <td>NaN</td>\n",
       "      <td>NaN</td>\n",
       "      <td>NaN</td>\n",
       "      <td>NaN</td>\n",
       "      <td>6.8</td>\n",
       "      <td>фантастика,боевик,триллер</td>\n",
       "      <td>NaN</td>\n",
       "    </tr>\n",
       "    <tr>\n",
       "      <td>3</td>\n",
       "      <td>Особо опасен</td>\n",
       "      <td>2016-06-10 12:00:00+00:00</td>\n",
       "      <td>Художественный</td>\n",
       "      <td>Юниверсал Пикчерз, Кикстарт Продакшнз, Марк Пл...</td>\n",
       "      <td>США</td>\n",
       "      <td>Тимур Бекмамбетов</td>\n",
       "      <td>Джим Лемли, Джейсон Нетер, Марк Е.Платт, Яйн Смит</td>\n",
       "      <td>«18+» - запрещено для детей</td>\n",
       "      <td>NaN</td>\n",
       "      <td>NaN</td>\n",
       "      <td>NaN</td>\n",
       "      <td>NaN</td>\n",
       "      <td>6.8</td>\n",
       "      <td>фантастика,боевик,триллер</td>\n",
       "      <td>NaN</td>\n",
       "    </tr>\n",
       "    <tr>\n",
       "      <td>4</td>\n",
       "      <td>Особо опасен</td>\n",
       "      <td>2015-07-29 12:00:00+00:00</td>\n",
       "      <td>Художественный</td>\n",
       "      <td>Юниверсал Пикчерз, Кикстарт Продакшнз, Марк Пл...</td>\n",
       "      <td>США</td>\n",
       "      <td>Тимур Бекмамбетов</td>\n",
       "      <td>Джим Лемли, Джейсон Нетер, Марк Е.Платт, Яйн Смит</td>\n",
       "      <td>«18+» - запрещено для детей</td>\n",
       "      <td>NaN</td>\n",
       "      <td>NaN</td>\n",
       "      <td>NaN</td>\n",
       "      <td>NaN</td>\n",
       "      <td>6.8</td>\n",
       "      <td>фантастика,боевик,триллер</td>\n",
       "      <td>NaN</td>\n",
       "    </tr>\n",
       "  </tbody>\n",
       "</table>\n",
       "</div>"
      ],
      "text/plain": [
       "                  title           show_start_date            type  \\\n",
       "0      Открытый простор 2015-11-27 12:00:00+00:00  Художественный   \n",
       "1  Особо важное задание 2016-09-13 12:00:00+00:00  Художественный   \n",
       "2          Особо опасен 2016-10-10 12:00:00+00:00  Художественный   \n",
       "3          Особо опасен 2016-06-10 12:00:00+00:00  Художественный   \n",
       "4          Особо опасен 2015-07-29 12:00:00+00:00  Художественный   \n",
       "\n",
       "                                         film_studio production_country  \\\n",
       "0  Тачстоун Пикчерз, Кобальт Пикчерз, Бикон Пикче...                США   \n",
       "1                              Киностудия \"Мосфильм\"               СССР   \n",
       "2  Юниверсал Пикчерз, Кикстарт Продакшнз, Марк Пл...                США   \n",
       "3  Юниверсал Пикчерз, Кикстарт Продакшнз, Марк Пл...                США   \n",
       "4  Юниверсал Пикчерз, Кикстарт Продакшнз, Марк Пл...                США   \n",
       "\n",
       "            director                                           producer  \\\n",
       "0      Кевин Костнер          Дэвид Валдес, Кевин Костнер, Джейк Эбертс   \n",
       "1          Е.Матвеев                                                NaN   \n",
       "2  Тимур Бекмамбетов  Джим Лемли, Джейсон Нетер, Марк Е.Платт, Яйн Смит   \n",
       "3  Тимур Бекмамбетов  Джим Лемли, Джейсон Нетер, Марк Е.Платт, Яйн Смит   \n",
       "4  Тимур Бекмамбетов  Джим Лемли, Джейсон Нетер, Марк Е.Платт, Яйн Смит   \n",
       "\n",
       "                 age_restriction  refundable_support  nonrefundable_support  \\\n",
       "0    «18+» - запрещено для детей                 NaN                    NaN   \n",
       "1  «6+» - для детей старше 6 лет                 NaN                    NaN   \n",
       "2    «18+» - запрещено для детей                 NaN                    NaN   \n",
       "3    «18+» - запрещено для детей                 NaN                    NaN   \n",
       "4    «18+» - запрещено для детей                 NaN                    NaN   \n",
       "\n",
       "   budget financing_source  ratings                     genres  box_office  \n",
       "0     NaN              NaN      7.2     боевик,драма,мелодрама         NaN  \n",
       "1     NaN              NaN      6.6              драма,военный         NaN  \n",
       "2     NaN              NaN      6.8  фантастика,боевик,триллер         NaN  \n",
       "3     NaN              NaN      6.8  фантастика,боевик,триллер         NaN  \n",
       "4     NaN              NaN      6.8  фантастика,боевик,триллер         NaN  "
      ]
     },
     "execution_count": 25,
     "metadata": {},
     "output_type": "execute_result"
    }
   ],
   "source": [
    "filtered_movies = movies.drop('puNumber', axis = 1) #создаю новый датафрейм такой же как movies, но без столбца puNumber\n",
    "filtered_movies.head()"
   ]
  },
  {
   "cell_type": "code",
   "execution_count": 26,
   "metadata": {},
   "outputs": [
    {
     "data": {
      "text/plain": [
       "5"
      ]
     },
     "execution_count": 26,
     "metadata": {},
     "output_type": "execute_result"
    }
   ],
   "source": [
    "filtered_movies.duplicated().sum() #количество дубликатов в новом датафрейме"
   ]
  },
  {
   "cell_type": "code",
   "execution_count": 27,
   "metadata": {},
   "outputs": [],
   "source": [
    "movies = movies.drop(filtered_movies[filtered_movies.duplicated()].index) \n",
    "#удаляю дубликаты, которые нашла в отфилтрованном датафрейме, из датафрейма movies"
   ]
  },
  {
   "cell_type": "markdown",
   "metadata": {},
   "source": [
    "**Вывод:** При поиске дубликатов, методом duplicated, по всему датафрейму их не было обнаружено. Но при поиске дубликатов по столбцу title, можно понять что у нас много фильмов с одинаковым названием, но другая информация о таких фильмах может отличаться (например дата выхода фильма в прокат). Но есть вариант, когда совпадать может не только название, но и вся остальная информация, кроме стобца puNumber. Поэтому я создала отфильтрованный датафрейм без столбца puNumber, и в отфильтрованном датафрейме было найдено пять дубликатов. Из датафрейма movies такие дубликаты были удалены методом drop, куда были переданы индексы дубликатов."
   ]
  },
  {
   "cell_type": "markdown",
   "metadata": {
    "id": "52fOPrEBgFyQ"
   },
   "source": [
    "#### Шаг 2.4. Проверка столбцов с категориальными значениями."
   ]
  },
  {
   "cell_type": "code",
   "execution_count": 28,
   "metadata": {},
   "outputs": [
    {
     "name": "stdout",
     "output_type": "stream",
     "text": [
      "type\n",
      "Количество уникальных значений до удаления пробелов: 8\n",
      "Количество уникальных значений после удаления пробелов: 6\n",
      "\n",
      "age_restriction\n",
      "Количество уникальных значений до удаления пробелов: 5\n",
      "Количество уникальных значений после удаления пробелов: 5\n",
      "\n",
      "production_country\n",
      "Количество уникальных значений до удаления пробелов: 949\n",
      "Количество уникальных значений после удаления пробелов: 933\n",
      "\n",
      "film_studio\n",
      "Количество уникальных значений до удаления пробелов: 5485\n",
      "Количество уникальных значений после удаления пробелов: 5457\n",
      "\n",
      "genres\n",
      "Количество уникальных значений до удаления пробелов: 742\n",
      "Количество уникальных значений после удаления пробелов: 742\n",
      "\n",
      "director\n",
      "Количество уникальных значений до удаления пробелов: 4811\n",
      "Количество уникальных значений после удаления пробелов: 4801\n",
      "\n",
      "producer\n",
      "Количество уникальных значений до удаления пробелов: 5344\n",
      "Количество уникальных значений после удаления пробелов: 5329\n",
      "\n"
     ]
    }
   ],
   "source": [
    "category_column = ['type', 'age_restriction', 'production_country', 'film_studio', 'genres', 'director', 'producer']\n",
    "\n",
    "for i in category_column: \n",
    "    #цикл для удаления пробелов в начале и в конце строки, выводит количество уникальных символов в столбце до удаления пробелов\n",
    "    #и после\n",
    "    print(i)\n",
    "    print('Количество уникальных значений до удаления пробелов:', movies[i].nunique())\n",
    "    movies[i] = movies[i].str.strip()\n",
    "    print('Количество уникальных значений после удаления пробелов:', movies[i].nunique())\n",
    "    print()"
   ]
  },
  {
   "cell_type": "code",
   "execution_count": 29,
   "metadata": {
    "scrolled": true
   },
   "outputs": [
    {
     "data": {
      "text/plain": [
       "array(['США', 'СССР', 'Франция', 'СССР, Венгрия',\n",
       "       'Германия-Великобритания', 'Великобритания - Италия',\n",
       "       'Чехословакия', 'США - Франция - Турция', 'Новая Зеландия',\n",
       "       'Канада - Франция - Испания', 'США-Германия',\n",
       "       'США - Великобритания', 'Великобритания', 'США - Германия',\n",
       "       'Франция - Мексика - США', 'Россия, Казахстан, США',\n",
       "       'СССР, Швеция', 'СССР, Франция, Англия, Куба, ГДР', 'Германия',\n",
       "       'Великобритания-США-Германия-КНР',\n",
       "       'СССР, ЧССР, Западный Берлин, ПНР', 'СССР, Италия', 'Гонконг, КНР',\n",
       "       'США - Франция', 'США - Япония - Франция - Великобритания',\n",
       "       'Гонконг - Сингапур - Таиланд - Великобритания', 'США-Канада',\n",
       "       'Франция - Италия - Великобритания - США', 'Франция - США',\n",
       "       'Ирландия-Великобритания-Германия', 'Чехия', 'США-Австралия',\n",
       "       'СССР, Финляндия', 'США-Франция-Великобритания-Австрия',\n",
       "       'США - Бельгия', 'США - Ирландия - Великобритания',\n",
       "       'Великобритания - США',\n",
       "       'Люксембург - Нидерланды - Испания - Великобритания - США - Италия',\n",
       "       'Великобритания - Франция - США', 'Новая Зеландия - США',\n",
       "       'США - Великобритания - Чехия',\n",
       "       'Канада - Франция - Великобритания', 'Ирландия',\n",
       "       'Великобритания - Германия - США',\n",
       "       'США - Франция - Великобритания', 'Япония', 'СССР, Польша',\n",
       "       'Франция - Испания', 'Канада-Франция', 'Германия - Италия - США',\n",
       "       'Аргентина - Бразилия', 'Дания - Швейцария - Бельгия - Франция',\n",
       "       'США - Испания', 'Германия - США',\n",
       "       'Франция - Австрия - Германия - Италия - США', 'Австрия',\n",
       "       'США - Канада - Германия', 'США - Канада',\n",
       "       'СССР - Швейцария - Франция', 'Россия - Казахстан', 'Гонконг',\n",
       "       'Италия', 'США - ОАЭ', 'Россия',\n",
       "       'США - Франция - Испания - Великобритания',\n",
       "       'Великобритания - Франция', 'США-Италия-Испания-Аргентина',\n",
       "       'Франция-Великобритания', 'КНР - Гонконг',\n",
       "       'Франция - Италия - Швейцария', 'США - Новая Зеландия',\n",
       "       'Франция - Бельгия', 'КНР', 'Германия - Великобритания - Австрия',\n",
       "       'Великобритания - Израиль - Франция - Япония - США', 'Швеция',\n",
       "       'Испания', 'Дания', 'Франция - Бельгия - Люксембург',\n",
       "       'США - Индия - ОАЭ',\n",
       "       'Германия-Канада-Великобритания-Швейцария-Франция',\n",
       "       'Мексика - Чили', 'Аргентина', 'Бразилия', 'Чили', 'Австралия',\n",
       "       'Португалия - Франция', 'США - ЮАР', 'Исландия-Ирландия-Германия',\n",
       "       'США-Индонезия', 'Южная Корея', 'Мексика - Испания - Дания - США',\n",
       "       'Великобритания-США', 'Франция - Италия', 'США-Франция',\n",
       "       'США - Венгрия - Великобритания', 'Бельгия-Франция-Италия',\n",
       "       'Чехия - Германия', 'Германия - Франция', 'США-Нидерланды',\n",
       "       'Украина', 'Великобритания - Германия', 'Франция-Бельгия',\n",
       "       'США-Франция-Испания', 'Италия - Франция', 'Канада',\n",
       "       'Швеция-Франция-Дания', 'Германия-Франция-Польша',\n",
       "       'Франция-Великобритания - Германия',\n",
       "       'США - Бразилия - Франция - Австралия - Великобритания - Германия',\n",
       "       'Германия-Австрия', 'Германия-Италия- Шри-Ланка',\n",
       "       'Великобритания - Испания',\n",
       "       'США - Великобритания - Канада - Швеция',\n",
       "       'Босния и Герцеговина - Франция - Великобритания - Германия - Словения - Бельгия - Сербия',\n",
       "       'Великобритания - Франция - Италия - США', 'США-ОАЭ',\n",
       "       'Испания - Франция', 'США-Великобритания', 'США-ЮАР',\n",
       "       'Великобритания-Австралия - США',\n",
       "       'Норвегия - Швеция - Дания - Германия', 'Норвегия', 'Швейцария',\n",
       "       'Греция - Германия - Франция', 'Норвения', 'Южная Корея - США',\n",
       "       'Чили - Франция - США', 'Австрия - Германия - Франция',\n",
       "       'Швеция - Дания', 'Великобритания - Франция - Бельгия - Италия',\n",
       "       'Франция - Германия', 'Грузия - Франция - Люксембург',\n",
       "       'США - Франция - Великобритания - Бразилия', 'США - КНР',\n",
       "       'Мексика - Франция', 'США - Германия - Гонконг - Сингапур',\n",
       "       'Финляндия - Австрия - Россия', 'Испания - Куба',\n",
       "       'Великобритания - ЮАР', 'Великобритания - Ирландия', 'Израиль',\n",
       "       'Бразилия - Германия - Порртугалия - Франция',\n",
       "       'Франция - Канада - Бельгия', 'Франция-Испания',\n",
       "       'Испания - Канада - Япония', 'Иран', 'Швеция-Куба',\n",
       "       'США-Великобритания-Ирландия', 'Гонконг - КНР', 'Нидерланды',\n",
       "       'Испания - Канада', 'Япония-Великобритания',\n",
       "       'Великобритания - Норвегия - Дания - Германия',\n",
       "       'Финляндия - Франция - Германия',\n",
       "       'Мексика - Франция - Нидерланды - Германия', 'США - Индия',\n",
       "       'США-Великобритания-Индия', 'США-Канада-Бельгия',\n",
       "       'Республика Узбекистан', 'Турция',\n",
       "       'Сербия - Словения - Хорватия - Черногория - Македония',\n",
       "       'Киргизия', 'Германия - Нидерланды - Беларусь - Россия - Латвия',\n",
       "       'Индия', 'Нидерланды - Россия - Германия',\n",
       "       'Великобритания - Нидерланды - Франция - Хорватия',\n",
       "       'Канада - Южная Корея',\n",
       "       'Великобритания - Польша - КНР - Индия - Норвегия',\n",
       "       'Япония - Франция - США - Южная Корея - Турция',\n",
       "       'Мексика - Аргентина - Великобритания', 'Израиль - Франция',\n",
       "       'Польша - Португалия - Франция - Великобритания',\n",
       "       'Австралия - США', 'Франция - Люксембург - Бельгия', 'Армения',\n",
       "       'Бельгия - Люксембург - Франция - Швейцария',\n",
       "       'США - Великобритания - Канада', 'Норвегия - Швеция',\n",
       "       'Канада - Франция', 'КНР - Гонконг - США',\n",
       "       'США - Сингапур - Малайзия - Индонезия', 'Германия - Россия',\n",
       "       'Япония - Канада', 'Финляндия - Дания - Германия - Ирландия',\n",
       "       'Франция - Люксембург - Германия - Бельгия - Швейцария - Великобритания',\n",
       "       'Канада - США', 'США-Италия-Испания', 'США-Испания',\n",
       "       'США - Швейцария - Франция', 'Испания - США - Колумбия',\n",
       "       'Канада-ЮАР', 'Франция - Россия',\n",
       "       'Германия - Финляндия - Австралия', 'Дания - Швеция', 'Бельгия',\n",
       "       'Германия - Франция - Австрия', 'Франция-Индия', 'ЮАР',\n",
       "       'Франция-Перу', 'Франция - Канада', 'Республика Беларусь',\n",
       "       'Великобритания - Австрия - Франция - США',\n",
       "       'Австрия-Германия-Франция', 'США-Россия', 'Германия-США',\n",
       "       'США - Южная Корея', 'Канада - КНР',\n",
       "       'Дания - Швеция - Италия - Франция - Германия',\n",
       "       'Франция-Италия-Испания-Венгрия', 'Франция - Германия - Бельгия',\n",
       "       'Франция-Великобритания-Чехия', 'Румыния - Франция - Бельгия',\n",
       "       'Болгария - Франция - Изриль',\n",
       "       'Израиль - Германия - Польша - Бельгия - Франция - Люксембург',\n",
       "       'Россия, Германия, Франция, Бельгия', 'Индонезия',\n",
       "       'Франция - Португалия', 'Великобритания - Пуэрто-Рико',\n",
       "       'СССР, ФРГ, Западный Берлин', 'Россия, Республика Беларусь',\n",
       "       'США, Великобритания', 'Франция - Австрия', 'Бельгия-Нидерланды',\n",
       "       'Великобритания - США - Индия', 'США - Великобритания - Австралия',\n",
       "       'Канада - Франция - США - ОАЭ - Великобритания',\n",
       "       'США - Австралия - Франция',\n",
       "       'Дания-Франция-Бельгия-Германия-Великобритания',\n",
       "       'Испания - Аргентина', 'Исландия - Финляндия',\n",
       "       'Россия-Польша-Голландия-Словакия', 'Дания - Германия - Швеция',\n",
       "       'Южная Корея - США - Канада', 'Таиланд', 'США-Мальта',\n",
       "       'США -Германия',\n",
       "       'Великобритания - Германия - Франция - Кипр - США', 'Мексика',\n",
       "       'США - Великобритания - Ирландия', 'США - Украина',\n",
       "       'США - Финляндия - Испания - Великобритания - Франция',\n",
       "       'Австралия-Великобритания',\n",
       "       'США - Канада - Афганистан - Бельгия - Франция',\n",
       "       'США - Великобритания - Германия - Новая Зеландия - Бельгия - Франция',\n",
       "       'Франция-Канада',\n",
       "       'Ирландия - Финляндия - Бельгия - Великобритания - США - Швейцария',\n",
       "       'Малайзия - США', 'Германия - Италия',\n",
       "       'США - Франция - Бельгия - Италия', 'Франция - Ирландия - Швеция',\n",
       "       'Азербайджан-Россия', 'Великобритания - Италия - Швейцария',\n",
       "       'США - Германия - Великобритания',\n",
       "       'Германия - Бельгия - США -Франция', 'США-Китай', 'Чили - Испания',\n",
       "       'Франция - Швейцария', 'Канада - Испания',\n",
       "       'США - Румыния - Великобритания', 'США - Япония',\n",
       "       'США - Россия - Франция', 'Франция-США', 'Парагвай',\n",
       "       'Германия - Канада', 'США - Канада - Великобритания',\n",
       "       'Финляндия - Канада', 'Уругвай-Мексика-Германия', 'США - Чили',\n",
       "       'Германия - Аргентина - Нидерланды - Чили',\n",
       "       'США - Канада - Индонезия', 'Армения - Казахстан', 'Финляндия',\n",
       "       'Испания - Италия - Франция',\n",
       "       'Бельгия - Испания - Канада - Нидерланды',\n",
       "       'Великобритания - Франция - Швеция - Бельгия',\n",
       "       'Мексика - Эквадор - Канада - США - Франция - Малайзия - Италия - Аргентина - Германия - Индия',\n",
       "       'Франция - Бенльгия', 'Индия - Великобритания',\n",
       "       'Япония - Великобритания - Франция',\n",
       "       'Испания - Уругвай - Аргентина',\n",
       "       'Франция - Италия - Бельгия - Люксембург',\n",
       "       'Франция - Украина - Грузия - Армения',\n",
       "       'Сербия - Германия - Венгрия', 'Франция-Польша', 'Румыния-США',\n",
       "       'Россия-Азербайджан',\n",
       "       'США - Нидерланды - Бельгия - Венгрия - Греция - Канада',\n",
       "       'Германия - Франция - Люксембург', 'США - Россия',\n",
       "       'Великобритания - США - Франция', 'США - Австралия - Дания',\n",
       "       'Бельгия-Франция', 'США-Мексика',\n",
       "       'Норвегия - Азербайджан - Россия - Колумбия - Великобритания - Венгрия - Румыния - Франция - Грузия',\n",
       "       'СЩА', 'Бразилия - Испания', 'Россия, Франция, Латвия',\n",
       "       'Нидерланды - США - Германия - Канада - Франция - Ирландия - Великобритания',\n",
       "       'Уругвай - Колумбия', 'США - Испания - Болгария',\n",
       "       'Армения - Германия', 'США - Великобритания- Франция - Швеция',\n",
       "       'США - Мексика', 'Австралия-Турция-США', 'Швеция - Германия',\n",
       "       'Польша - Италия - Россия', 'Франция - Бразилия',\n",
       "       'США - Канада - КНР', 'СССР, Венгрия, ЧССР, ГДР',\n",
       "       'Бельгия - Германия - Люксембург', 'США - Австралия',\n",
       "       'Бразилия - США', 'США - Великобритания - Канада - КНР',\n",
       "       'Франция - Чили',\n",
       "       'Франция - США - Великобритания - Колумбия - Бельгия - Россия',\n",
       "       'Дания - Великобритания - ЮАР', 'Россия-США-Канада-Люксембург',\n",
       "       'Россия - Республика Кипр', 'Германия - США - Швеция - Франция',\n",
       "       'Великобритания-Германия-Канада-ЮАР', 'Ирландия, Канада',\n",
       "       'Япония - Великобритания - Швейцария - Ирландия - Дания - Франция - Польша - Австралия - Канада',\n",
       "       'Великобритания, Канада', 'Бельгия - США',\n",
       "       'Великобритания - США - Россия', 'Россия-Украина',\n",
       "       'Германия - США - Великобритания - Израиль', 'Канада - Германия',\n",
       "       'США- Ю.Корея', 'Индия - Мексика',\n",
       "       'Великобритания - Франция - Республика Кипр - Швейцария - США - Сербия',\n",
       "       'Испания - Аргентина - Индия - США',\n",
       "       'Норвегия - Исландия - США - Великобритания',\n",
       "       'Турция - Германя - Франция', 'Германия - Великобритания',\n",
       "       'Австралия - Германия', 'Мексика - Испания',\n",
       "       'Великобритания - США - Германия - Бельгия',\n",
       "       'США - Чехия - Франция', 'Россия - Италия', 'Франция-Россия',\n",
       "       'Норвегия - Дания - Швеция', 'Франция - Швейцария - Германия',\n",
       "       'Грузия - Украина', 'Россия - Эстония - Финляндия - Беларусь',\n",
       "       'США - Франция - ЮАР', 'Великобритания - США - Швейцария',\n",
       "       'Канада-США', 'Мексика - Нидерланды - Германия - Франция',\n",
       "       'США - Испания - Франция', 'США - Великобритания - КНР',\n",
       "       'США-Франция-Канада',\n",
       "       'Япония, Великобритания, Австрия, Германия, Ю.Корея',\n",
       "       'Великобритания - Ирландия - США', 'Бельгия - Италия - Франция',\n",
       "       'Швейцария-Германия-ЮАР', 'Великобритания - США - Германия',\n",
       "       'Германия - Исландия', 'Испания - США', 'Хорватия',\n",
       "       'Финляндия - Исландия - Швеция',\n",
       "       'Канада - США - Германия - Франция',\n",
       "       'США - Великобритания - Испания', 'Ирландия-Великобритания',\n",
       "       'Аргентина - Испания', 'Австрия - Германия',\n",
       "       'Германия - Швейцария - Франция - Южная Корея - США',\n",
       "       'Украина - Нидерланды', 'Венгрия - Германия - Швеция',\n",
       "       'Германия - Франция -  Польша - Турция - Канада - Италия - Россия',\n",
       "       'СССР, Афганистан', 'СССР, Монголия', 'Россия-Кипр',\n",
       "       'Россия, Грузия, Испания',\n",
       "       'Великобритания - Нидерланды - Германия - Франция - Бельгия - Австрия',\n",
       "       'Испания - Великобритания - Франция',\n",
       "       'Дания - Норвегия - Великобритания',\n",
       "       'Бельгия - Франция - Люксембург',\n",
       "       'Италия - Франция - Швейцария - Великобритания',\n",
       "       'Франция - Бельгия - Великобритания - Испания - Германия - США',\n",
       "       'Швейцария - Израиль - Франция - Великобритания',\n",
       "       'Великобритания - США - Канада - Нидерланды - Франция',\n",
       "       'Россия, Италия', 'СССР, Албания',\n",
       "       'Россия, Украина, Республика Беларусь, Литва',\n",
       "       'Финляндия - Великобритания - Германия', 'Россия, Украина, Польша',\n",
       "       'Франция - Италия - Бельгия - КНР',\n",
       "       'Германия - Бельгия - Люксембург - Ирландия', 'КНР - Сингапур',\n",
       "       'Франция - Бельгия - Великобритания - США - Нидерланды - Канада',\n",
       "       'США - Россия - Польша - Германия - Пуэрто Рико',\n",
       "       'Франция - Бельгия - Канада', 'Мексика - США',\n",
       "       'США - Гонконг - КНР', 'Греция - Россия',\n",
       "       'Ирландия - Дания - Бельгия - Люксембург - Франция',\n",
       "       'Эстония - Россия',\n",
       "       'Великобритания - Исландия - Испания - Швейцария - США',\n",
       "       'Австралия - Великобритания - Бельгия - Индия',\n",
       "       'Швеция - Германия - Франция - Норвегия',\n",
       "       'Нидерланды - Бельгия - Германия - Ирландия',\n",
       "       'Нидерланды - Великобритания - Бельгия',\n",
       "       'США - Колумбия - Испания', 'Франция-Испания-Бельгия-Панама',\n",
       "       'США-Великобритания-Чехия-Румыния',\n",
       "       'Аргентина - Уругвай - Россия - Германия - Франция - Нидерланды',\n",
       "       'Швеция - Франция - Норвегия - Дания',\n",
       "       'Италия-Франция-Великобритания', 'Великобритания, Франция',\n",
       "       'Австралия, США', 'Венесуэла',\n",
       "       'Великобритания - США - Австралия - Ирландия - Германия - Куба - Канада',\n",
       "       'Южная Корея - КНР',\n",
       "       'Аргентина - Мексика - Бразилия - Франция - США', 'Швеция - США',\n",
       "       'Франция - Германия - Турция - Катар', 'Франция-Китай',\n",
       "       'Россия, Германия, Великобритания',\n",
       "       'Великобритания - Италия - Испания', 'Италия - Россия',\n",
       "       'Япония - КНР - Южная Корея', 'Россия, Германия',\n",
       "       'Россия-Ирландия', 'Македония - Франция - Великобритания',\n",
       "       'Франция - Бразилия - Италия', 'Россия-США', 'Армения-Россия',\n",
       "       'Россия, Румыния', 'Франция -  Бельгия', 'Грузия-Франция',\n",
       "       'ЮАР - США', 'Великобритания-США-Франция',\n",
       "       'Великобритания - США - Германия - Канада - Австралия',\n",
       "       'США-Ирландия', 'Россия, Республика Кипр',\n",
       "       'Германия - Люксембург - Франция', 'Россия-Франция',\n",
       "       'США - Нидерланды - Финляндия - Великобритания - Италия',\n",
       "       'Республика Кипр', 'Венгрия', 'Франция - США - Норвегия - Дания',\n",
       "       'Германия - Австрия - Ирландия', 'США - Финляндия',\n",
       "       'Италия-Великобритания', 'Россия, Испания',\n",
       "       'США - Великобритания - Болгария', 'Великобритания - Люксембург',\n",
       "       'Индия - США', 'США - Канада - Россия - Франция - Чили - Ирландия',\n",
       "       'Грузия-Россия',\n",
       "       'Дания - Австрия - Ирландия - Финляндия - Норвегия - Швеция - Нидерланды',\n",
       "       'США-КНР', 'Грузия', 'Австралия - Ирландия',\n",
       "       'Великобритания - Канада', 'Италия - Аргентина - Словения',\n",
       "       'Испания - Франция - Нидерланды - Германия - Бельгия - Великобритания - Канада',\n",
       "       'Франция - Чехия - Бельгия',\n",
       "       'Великобритания - Франция - Германия - США',\n",
       "       'Ирландия - Великобритания - Франция - США - Германия - Нидерланды',\n",
       "       'США - Канада - Япония - КНР', 'Италия-Франция',\n",
       "       'США - Великобритания - Исландия', 'Великобритания-Франция',\n",
       "       'Франция - Германия - Нидерланды',\n",
       "       'Франция - Германия - Швеция - США - Чехия - Словакия - Великобритания - Нидерланды',\n",
       "       'Франция - Канада - Н.Зеландия - США - Нидерланды - Германия - Швеция - Россия',\n",
       "       'Турция - США',\n",
       "       'Великобритания - США - Канада - Бельгия - Нидерланды - Австрия - Германия',\n",
       "       'Израиль - Франция - Германия - Палестина - США - Австрия - Великобритания',\n",
       "       'Аргентина - Франция - Испания', 'СССР, Россия',\n",
       "       'Великобритания - Франция - Италия - Индия - Дания - КНР - Бангладеш - Камбоджа - Гаити - Уганда',\n",
       "       'Италия - Франция - Швейцария',\n",
       "       'Ирландия - Великобритания - Канада', 'Перу', 'США - Норвегия',\n",
       "       'Испания-Канада', 'Китай-Гонконг', 'США - Германия - КНР',\n",
       "       'Великобритания - Новая Зеландия',\n",
       "       'Франция - Дания - Швеция - КНР',\n",
       "       'США - Великобритания - Германия - Бельгия - Дания',\n",
       "       'США - Франция - Канада - Германия - Австралия - Индия',\n",
       "       'СССР, Румыния, Франция', 'СССР, ГДР', 'Австралия-Ирландия',\n",
       "       'США - Китай', 'Великобритания - Франция - Австрия - Швеция',\n",
       "       'Россия, Таджикистан', 'Нидерланды - Бельгия - Болгария',\n",
       "       'Великобритания - Канада - США', 'Франция - Бельгия - Испания',\n",
       "       'Китай-Гонконг-США', 'Франция - Великобритания', 'США - Вьетнам',\n",
       "       'США - Германия - Франция', 'Германия - Франция - Бельгия',\n",
       "       'США - Италия',\n",
       "       'Германия - Дания - Испания - Швеция - Канада - Эстония - Франция',\n",
       "       'Княжество Андорра - Украина', 'Германия - Люксембург - Бельгия',\n",
       "       'Великобритания - Россия - Украина - США',\n",
       "       'Германия - Бельгия - Люксембург - Норвегия',\n",
       "       'США - Австралия - Новая Зеландия - Великобритания',\n",
       "       'США - Франция - Канада - Великобритания', 'Испания-Колумбия',\n",
       "       'Великобритания - Чехия - Франция', 'Россия, Украина', 'Исландия',\n",
       "       'Великобритания - Франция - Венгрия',\n",
       "       'Россия, Франция, Германия, Бельгия', 'Франция - Македония',\n",
       "       'Нидерланды - Франция - Германия - Бельгия - Швеция - Великобритания',\n",
       "       'Испания - США - Великобритания - Канада', 'Германия - Австрия',\n",
       "       'Республика Казахстан',\n",
       "       'Франция - Испания - Дания - Венгрия - Швейцария', 'Франция-КНР',\n",
       "       'США - Пуэрто-Рико - Франция', 'Мексика - Тайвань - США',\n",
       "       'Великобритания - Испания - Непал - Индия - Венгрия - Гонконг - Германия - Дания - Бахрейн',\n",
       "       'Великобритания - Аргентина - США - Франция - Россия - Испания',\n",
       "       'КНР - США', 'Италия - США', 'Финляндия - Швеция - Германия',\n",
       "       'Канада- Испания', 'Франция - Бельгия - Чехия',\n",
       "       'Франция-Бельгия-Канада', 'Франция - Германия - США',\n",
       "       'США - Дания', 'Индия - КНР', 'Чехия-Великобритания-США',\n",
       "       'США-ФРГ-Россия', 'Ирландия-Нидерланды-Франция-США-Великобритания',\n",
       "       'Россия, Грузия, Хорватия, Испания',\n",
       "       'Финляндия - Швеция - Норвегия', 'Сербия - Великобритания - США',\n",
       "       'США - Великобритания - Франция - Гонконг', 'Швейцария - Франция',\n",
       "       'Швейцария - Великобритания', 'ОАЭ - США',\n",
       "       'США - Франция - Германия - Канада - Австралия',\n",
       "       'Германия - Австралия', 'Иран, Франция',\n",
       "       'США - Великобритания - Новая Зеландия', 'США-Колумбия',\n",
       "       'США-Франция-Ирландия', 'Великобритания - Франция - Бельгия',\n",
       "       'США - Великобритания - Япония', 'США - Франция - Германия',\n",
       "       'Польша - Ирландия', 'Ирландия - Великобритания - Франция - США',\n",
       "       'США - Бельгия - Великобритания', 'СССР, ВНР',\n",
       "       'Испания - Франция - США - Великобритания - Бельгия',\n",
       "       'Франция - Дания - США', 'США - Гонконг', 'Бразилия - К;анада',\n",
       "       'Франция-Германия', 'США - Колумбия',\n",
       "       'США - Ирландия - Великобритания - Франция',\n",
       "       'Великобритания - США - Канада', 'Польша - Франция',\n",
       "       'Канада - США - Нидерланды - Великобритания - Аргентина',\n",
       "       'Великобритания - Дания', 'Франция - Бельгия - Япония',\n",
       "       'Россия,  Испания', 'Франция -Бельгия',\n",
       "       'США - Канада - Германия - Франция', 'США-Канада-Франция',\n",
       "       'Россия - Германия', 'Россия-Италия', 'Китай - Гонконг',\n",
       "       'Германия-Австрия-Франция-Италия', 'США-Япония',\n",
       "       'США - Германия - Канада', 'Испания-Мексика',\n",
       "       'США - Япония - Канада - Великобритания - Германия - Франция',\n",
       "       'США -Великобритания - Австралия', 'Россия-Украина-Германия',\n",
       "       'Израиль - Франция - Великобритания - Германия', 'Корея',\n",
       "       'Россия - Болгария', 'США-Индия',\n",
       "       'Германия-Канада-Франция-Бельгия', 'Германия-Кения',\n",
       "       'Франция - Монако', 'Франция-Испания-Швейцария',\n",
       "       'Австрия-Франция-Германия', 'Румыния',\n",
       "       'США-Великобритания-Франция', 'Канада-Великобритания',\n",
       "       'Канада-Бразилия-Япония', 'Германия - Дания - Норвегия',\n",
       "       'Дания - Германия', 'СССР - Италия',\n",
       "       'СССР - ГДР - Польша - Италия',\n",
       "       'США - Испания - Франция - Великобритания', 'Китай',\n",
       "       'Мексика-Аргентина',\n",
       "       'Германия - Великобритания - Италия - Испания',\n",
       "       'Франция-Германия-Великобритания', 'Россия - Германия - Швейцария',\n",
       "       'Франция-Австралия', 'Голландия', 'Швейцария-Франция',\n",
       "       'Россия-Белоруссия', 'Франция - Испания - Тайвань',\n",
       "       'США-Южная Корея-Новая Зеландия', 'Великобритания-Венгрия',\n",
       "       'Россия-Германия', 'Великобритания-Франция-Германия',\n",
       "       'Франция-Германия-Италия', 'Швеция-Финляндия-Франция-Норвегия',\n",
       "       'Франция-Италия', 'Германия-Израиль',\n",
       "       'Швеция - Германия - Дания - Норвегия', 'США-Бельгия',\n",
       "       'Франция-Гонконг-Ирландия', 'Эстония', 'Литва-Россия-Украина',\n",
       "       'Германия - Италия - Франция',\n",
       "       'Великобритания - Австрия - Германия', 'Бельгия - Франция',\n",
       "       'Россия-Казахстан', 'Испания - Мальта',\n",
       "       'Франция-Россия-Румыния-Италия-Бельгия', 'Россия - Польша',\n",
       "       'Испания - Мексика', 'США-Аргентина', 'Израиль-США-Франция',\n",
       "       'США - Новая Зеландия - Япония',\n",
       "       'Франция - Чехия - Великобритания', 'Россия-Польша',\n",
       "       'Германия-Франция-Великобритания', 'США-Германия-Канада',\n",
       "       'США-Гонконг-Китай', 'США - Великобритания - Германия',\n",
       "       'США-Канада-Австралия', 'Япония-США-Франция',\n",
       "       'Франция-Испания-Германия', 'США - Хорватия - Босния-Герцеговина',\n",
       "       'Великобритания - Чехия - Франция - Италия',\n",
       "       'США - Германия - Нидерланды', 'Германия - Франция - Канада',\n",
       "       'Франция-Грузия-Германия-Россия-Украина-Бельгия',\n",
       "       'Великобритания - Франция - Италия', 'Россия - США',\n",
       "       'Франция - Италия - Иран', 'Россия - Азербайджан', 'Греция',\n",
       "       'Дания - США', 'США-Великобритания-Новая Зеландия',\n",
       "       'США-Германия-Австралия', 'США-Канада-Италия',\n",
       "       'США - Япония - Германия', 'Австралия-США',\n",
       "       'Франция - Великобритания - Багамские острова - США',\n",
       "       'Швейцария - Люксембург', 'Швейцария - Австрия',\n",
       "       'Германия - Швейцария', 'Дания-Швеция-Франция-Германия', 'Польша',\n",
       "       'Швейцария-Австрия', 'Бразилия - Канада - США',\n",
       "       'Нидерланды - Россия', 'Португалия', 'Франция-Аргентина',\n",
       "       'Швеция-Франция', 'Франция-Украина', 'Германия-Украина-Нидерланды',\n",
       "       'Италия-Швейцария', 'США-Германия-Великобритания',\n",
       "       'Латвия - Россия', 'Германия-Франция-Великобритания-США',\n",
       "       'Канада - Италия', 'США - Объединенные Арабские Эмираты',\n",
       "       'США-Венгрия', 'Малайзия', 'Россия - Германия - Украина',\n",
       "       'США - Австралия - Мексика', 'Литва - Венгрия', 'Германия - Китай',\n",
       "       'Казахстан', 'Республика Корея',\n",
       "       'США - Германия - Франция - Великобритания - Канада',\n",
       "       'Бельгия - Германия - Люксембург - Франция', 'Франция - Греция',\n",
       "       'Италия - Канада', 'США - Великобритания - Франция',\n",
       "       'США-Италия-Греция', 'Германия - США - Великобритания - Ирландия',\n",
       "       'Великобритания - Франция - Германия',\n",
       "       'Германия - Нидерланды - ЮАР',\n",
       "       'США-Япония-Германия-Великобритания-Нидерланды',\n",
       "       'США-Япония-Германия-Великобритания',\n",
       "       'Германия - Франция - Польша',\n",
       "       'Таиланд-Великобритания-Франция-Германия-Испания-Нидерланды',\n",
       "       'Германия-Италия-Швейцария',\n",
       "       'Дания - Швеция - Великобритания - Франция - Германия - Нидерланды - Норвегия - Финляндия',\n",
       "       'Франция - Великобритания - Нидерланды - Люксембург',\n",
       "       'Нидерланды-Великобритания-Франция-Италия-Япония',\n",
       "       'Финляндия-Дания-Германия-Ирландия', 'Испания-Аргентина',\n",
       "       'Великобритания - Нидерланды - Франция - США', 'Канада - Мексика',\n",
       "       'США, Франция', 'Канада-Южная Корея-США',\n",
       "       'Великобритания - Франция - Бельгия - США', 'КНР - Канада - США',\n",
       "       'Италия - Франция - Германия',\n",
       "       'Швеция - Германия - Франция - Дания', 'Франция - США - Бельгия',\n",
       "       'Украина - Германия - Латвия - Эстония', 'Австрия - Люксембург',\n",
       "       'Великобритания - КНР', 'Монголия', 'Франция - Дания',\n",
       "       'Швеция - Дания - Финляндия',\n",
       "       'Сингапур - Великобритания - Индонезия - Канада - США',\n",
       "       'США - Германия - Япония', 'Таиланд - США', 'Франция - Нидерланды',\n",
       "       'Великобритания - Румыния', 'США - Мальта',\n",
       "       'Великобритания - Германия - Нидерланды - Дания',\n",
       "       'Франция - Германия - Литва - Нидерланды - Россия',\n",
       "       'США - ЮАР - Гонконг', 'Австралия - Колумбия',\n",
       "       'Великобритания - Польша', 'США - Великобритания - Швеция',\n",
       "       'Франция - Швеция - Дания - Норвегия', 'Болгария - США',\n",
       "       'СССР, ФРГ', 'Бельгия - Нидерланды - Франция',\n",
       "       'Финляндия - Германия', 'Болгария',\n",
       "       'Грузия - Россия - Украина - Хорватия - Германия',\n",
       "       'Франция - Люксембург', 'Франция - Германия - Австрия',\n",
       "       'Норвегия - США', 'Германия-Швеция', 'Франция - Германия - Италия',\n",
       "       'Франция-Германия-Австрия', 'КНР-США',\n",
       "       'Дания - Латвия - Россия - США', 'Финляндия - Польша',\n",
       "       'Германия - Бельгия', 'Германия - США - Франция - Испания',\n",
       "       'Бельгия-Германия-Канада-Франция-США-Великобритания',\n",
       "       'Нидерланды - Бельгия - Люксембург', 'Канада-Германия',\n",
       "       'Люксембург - Бельгия - Франция', 'США-Великобритания-Австралия',\n",
       "       'Великобритания, Новая Зеландия', 'Бельгия, Великобритания, США',\n",
       "       'Великобритания, Австралия', 'Исландия, Бельгия',\n",
       "       'Испания - Швейцария - Великобритания - Германия - Новая Зеландия - Нидерланды - Канада',\n",
       "       'Франция, Бельгия', 'Великобритания, США', 'Киргизия-Россия',\n",
       "       'Германия, США', 'Великобритания, США, Испания',\n",
       "       'Италия - Швейцария - Германия', 'Россия, Армения',\n",
       "       'Франция, Германия', 'Китай, Канада, США', 'Германия, Австралия',\n",
       "       'КНР, США', 'США, Великобритания, Люксембург',\n",
       "       'Испания, Ирландия, Бельгия, Франция',\n",
       "       'Великобритания - Гонконг - Венгрия - США - Ирландия',\n",
       "       'США - Пуэрто Рико', 'Аргентина - Испания - Уругвай',\n",
       "       'Израиль - Германия - Франция - Швейцария',\n",
       "       'Великобритания - Мексика - США', 'Испания - Болгария - США',\n",
       "       'Россия-Словакия-Чехия',\n",
       "       'Швейцария - КНР - США - Россия - Республика Корея - Великобритания',\n",
       "       'Россия, Нидерланды, Финляндия',\n",
       "       'Испания - Бельгия - Франция - Португалия - Великобритания',\n",
       "       'Бразилия - Португалия - Франция', 'Швеция - Норвегия',\n",
       "       'Франция - Польша - Бельгия', 'CША', 'Китай, США',\n",
       "       'Италия, Франция, Германия', 'Германия - Австрия - Франция',\n",
       "       'Чехия - Словакия - Хорватия', 'Россия, Польша, Финляндия',\n",
       "       'Россия, Латвия, Чешская Республика',\n",
       "       'Франция - Великобритания - Камбоджа - США - КНР',\n",
       "       'Чехия - Испания - США', 'Германия - Люксембург - Дания',\n",
       "       'Великобритания - Испания - Германия', 'Дания - Исландия',\n",
       "       'Германия, Франция, Великобритания',\n",
       "       'Великобритания - Испания - Италия - Латвия - Франция - Эстония',\n",
       "       'Дания, Швеция, Великобритания, Франция, Германия, Норвегия, Финляндия, Нидерланды, Италия',\n",
       "       'Польша - Франция - Великобритания',\n",
       "       'Дания, Норвегия, Венгрия, Чехия',\n",
       "       'Дания - Франция - Германия - Швеция',\n",
       "       'Великобритания, Швеция, США',\n",
       "       'Канада, Франция, Италия, Швейцария, США', 'США, Индия',\n",
       "       'США - Великобритания - Германия - - Швеция - Канада',\n",
       "       'Италия, Франция', 'Республика Беларусь, Германия, США, Россия',\n",
       "       'Италия-Швейцария-Франция-Германия',\n",
       "       'Россия - Франция - Великобритания - Латвия', 'Россия-Беларусь',\n",
       "       'Франция - Испания - Румыния - США - Бельгия', 'Италия-США',\n",
       "       'Россия, Австрия', 'Ирландия - Великобритания - США',\n",
       "       'Швейцария, Великобритания, Франция, США, Ирландия',\n",
       "       'Мексика, Франция, Германия, Дания, Швеция', 'Нидерланды, Бельгия',\n",
       "       'Швеция, Норвегия, Финляндия, Франция', 'Испания, Франция, Италия',\n",
       "       'Испания-Франция-Греция-Индия-США-Россия-Великобритания',\n",
       "       'Великобритания - Япония - США',\n",
       "       'Дания, Канада, Норвегия, Австралия, США', 'Аргентина, Испания',\n",
       "       'Россия, Германия, Казахстан, Польша, Китай',\n",
       "       'Португалия, Франция, Польша, США', 'США - Канада - Аргентина',\n",
       "       'Ливан-США', 'Япония - США', 'США, Гонконг',\n",
       "       'Франция - Россия - Швейцария - Румыния - Венгрия',\n",
       "       'Аргентина-Испания', 'Россия, Сербия', 'США - Болгария - Мексика',\n",
       "       'США - Великобритания - Швейцария - Франция',\n",
       "       'Таиланд - КНР - США',\n",
       "       'Великобритания, Нидерланды, Польша, Швейцария, Франция',\n",
       "       'Ирландия - США',\n",
       "       'Германия - Франция - Великобритания - Польша - США',\n",
       "       'Великобритания-Франция-Италия', 'США - Австралия - Индия',\n",
       "       'Франция - КНР', 'Великобритания - Израиль',\n",
       "       'Великобритания - Норвегия - Кения - Хорватия',\n",
       "       'США - Бразилия - Великобритания - Канада', 'Германия, Бельгия',\n",
       "       'Австралия, Канада', 'США, Великобритания, Франция',\n",
       "       'Кения, Германия', 'Нидерланды, Бельгия, Люксембург', 'Колумбия',\n",
       "       'Латвия - Франция', 'Ирландия, Великобритания',\n",
       "       'Франция - Израиль - Германия', 'Швеция, Франция, Великобритания',\n",
       "       'Бельгия - Люксембург', 'Германия - Бельгия - Великобритания',\n",
       "       'Испания, Франция, Великобритания, Дания, Бельгия, Германия',\n",
       "       'Румыния, ЮАР, Иран, Франция, Канада, Великобритания',\n",
       "       'Германия, Франция', 'США, Япония',\n",
       "       'США, Великобритания, Ирландия, Люксембург', 'Республика Армения',\n",
       "       'США, Франция, Япония', 'Япония, США', 'Канада, США',\n",
       "       'Республика Кипр - Россия',\n",
       "       'Дания - Франция - Италия - Бельгия - Нидерланды',\n",
       "       'Россия - Грузия', 'Италия, Германия', 'Норвегия, Швеция, Дания',\n",
       "       'Республика Кипр, Россия', 'КНР, Индия, Гонконг, США',\n",
       "       'Израиль, Украина', 'США, Россия', 'США - КНР - Индия - Ю.Корея',\n",
       "       'США - Швеция', 'Франция, Канада', 'Россия-Китай',\n",
       "       'Канада, Великобритания', 'США, Германия',\n",
       "       'Канада, США, Каймановы острова',\n",
       "       'Бразилия, Уругвай, Дания, Норвегия, Чили, Швеция',\n",
       "       'Пуэрто-Рико, Великобритания, США',\n",
       "       'Уругвай - Аргентина - Испания',\n",
       "       'США - Великобритания - Италия - Израиль - Сербия - Индия',\n",
       "       'США - Канада - Франция - Индия', 'Великобритания - Россия - КНР',\n",
       "       'Франция, Новая Зеландия', 'Франция, Люксембург, Бельгия',\n",
       "       'Канада, США, Норвегия', 'Италия, Испания',\n",
       "       'Испания - Германия - Нидерланды', 'Бразилия - США - КНР',\n",
       "       'Великобритания, Германия, Дания, США',\n",
       "       'Италия - Фрация - Бразилия - Германия',\n",
       "       'Норвегия - Швеция - Россия', 'Великобритания, Япония, США',\n",
       "       'Сша, Канада', 'Бельгия, Канада',\n",
       "       'Великобритания - Австралия - США', 'США, Канада',\n",
       "       'Франция - Финляндия', 'Колумбия - США',\n",
       "       'Великобритания, Франция, Бельгия', 'Норвегия - Нидерланды',\n",
       "       'Великобритания, Канада, США', 'Япония, Великобритания',\n",
       "       'Италия - Бельгия - Франция', 'Россия, Бельгия, Финляндия',\n",
       "       'США, Украина', 'Франция, Норвегия',\n",
       "       'Великобритания, Южная Корея, Канада, США, Индия, Китай, Япония',\n",
       "       'Канада - Норвегия', 'Республика Кипр-Россия', 'Германия, Россия',\n",
       "       'Польша - Франция - Испания - Бразилия - Швеция',\n",
       "       'Австрия, Великобритания, Германия', 'Франция - Сенегал - Бельгия',\n",
       "       'Франция, Бельгия, Люксембург', 'Финляндия, Латвия', 'Пакистан',\n",
       "       'Германия, Франция, США', 'Германия - Великобритания - США',\n",
       "       'КНР - Франция', 'Дания, Норвегия, Швеция, Исландия',\n",
       "       'Республика Кипр, США, Россия', 'Новая Зеландия - КНР',\n",
       "       'Дания - Канада - Швеция - Франция - Германия - Великобритания - США'],\n",
       "      dtype=object)"
      ]
     },
     "execution_count": 29,
     "metadata": {},
     "output_type": "execute_result"
    }
   ],
   "source": [
    "movies['production_country'].unique() #уникальные значения столбца production_country"
   ]
  },
  {
   "cell_type": "code",
   "execution_count": 30,
   "metadata": {},
   "outputs": [
    {
     "data": {
      "text/plain": [
       "817"
      ]
     },
     "execution_count": 30,
     "metadata": {},
     "output_type": "execute_result"
    }
   ],
   "source": [
    "movies['production_country'] = movies['production_country'].replace(' -', ',', regex = True)\n",
    "#замена тире на запятую в столбце production_country\n",
    "movies['production_country'] = movies['production_country'].replace('-', ', ', regex = True)\n",
    "movies['production_country'].nunique() #количество уникальных значений в столбце production_country"
   ]
  },
  {
   "cell_type": "code",
   "execution_count": 31,
   "metadata": {
    "scrolled": true
   },
   "outputs": [
    {
     "data": {
      "text/plain": [
       "array(['США', 'СССР', 'Франция', 'СССР, Венгрия',\n",
       "       'Германия, Великобритания', 'Великобритания, Италия',\n",
       "       'Чехословакия', 'США, Франция, Турция', 'Новая Зеландия',\n",
       "       'Канада, Франция, Испания', 'США, Германия', 'США, Великобритания',\n",
       "       'Великобритания', 'Франция, Мексика, США',\n",
       "       'Россия, Казахстан, США', 'СССР, Швеция',\n",
       "       'СССР, Франция, Англия, Куба, ГДР', 'Германия',\n",
       "       'Великобритания, США, Германия, КНР',\n",
       "       'СССР, ЧССР, Западный Берлин, ПНР', 'СССР, Италия', 'Гонконг, КНР',\n",
       "       'США, Франция', 'США, Япония, Франция, Великобритания',\n",
       "       'Гонконг, Сингапур, Таиланд, Великобритания', 'США, Канада',\n",
       "       'Франция, Италия, Великобритания, США', 'Франция, США',\n",
       "       'Ирландия, Великобритания, Германия', 'Чехия', 'США, Австралия',\n",
       "       'СССР, Финляндия', 'США, Франция, Великобритания, Австрия',\n",
       "       'США, Бельгия', 'США, Ирландия, Великобритания',\n",
       "       'Великобритания, США',\n",
       "       'Люксембург, Нидерланды, Испания, Великобритания, США, Италия',\n",
       "       'Великобритания, Франция, США', 'Новая Зеландия, США',\n",
       "       'США, Великобритания, Чехия', 'Канада, Франция, Великобритания',\n",
       "       'Ирландия', 'Великобритания, Германия, США',\n",
       "       'США, Франция, Великобритания', 'Япония', 'СССР, Польша',\n",
       "       'Франция, Испания', 'Канада, Франция', 'Германия, Италия, США',\n",
       "       'Аргентина, Бразилия', 'Дания, Швейцария, Бельгия, Франция',\n",
       "       'США, Испания', 'Германия, США',\n",
       "       'Франция, Австрия, Германия, Италия, США', 'Австрия',\n",
       "       'США, Канада, Германия', 'СССР, Швейцария, Франция',\n",
       "       'Россия, Казахстан', 'Гонконг', 'Италия', 'США, ОАЭ', 'Россия',\n",
       "       'США, Франция, Испания, Великобритания', 'Великобритания, Франция',\n",
       "       'США, Италия, Испания, Аргентина', 'Франция, Великобритания',\n",
       "       'КНР, Гонконг', 'Франция, Италия, Швейцария',\n",
       "       'США, Новая Зеландия', 'Франция, Бельгия', 'КНР',\n",
       "       'Германия, Великобритания, Австрия',\n",
       "       'Великобритания, Израиль, Франция, Япония, США', 'Швеция',\n",
       "       'Испания', 'Дания', 'Франция, Бельгия, Люксембург',\n",
       "       'США, Индия, ОАЭ',\n",
       "       'Германия, Канада, Великобритания, Швейцария, Франция',\n",
       "       'Мексика, Чили', 'Аргентина', 'Бразилия', 'Чили', 'Австралия',\n",
       "       'Португалия, Франция', 'США, ЮАР', 'Исландия, Ирландия, Германия',\n",
       "       'США, Индонезия', 'Южная Корея', 'Мексика, Испания, Дания, США',\n",
       "       'Франция, Италия', 'США, Венгрия, Великобритания',\n",
       "       'Бельгия, Франция, Италия', 'Чехия, Германия', 'Германия, Франция',\n",
       "       'США, Нидерланды', 'Украина', 'Великобритания, Германия',\n",
       "       'США, Франция, Испания', 'Италия, Франция', 'Канада',\n",
       "       'Швеция, Франция, Дания', 'Германия, Франция, Польша',\n",
       "       'Франция, Великобритания, Германия',\n",
       "       'США, Бразилия, Франция, Австралия, Великобритания, Германия',\n",
       "       'Германия, Австрия', 'Германия, Италия,  Шри, Ланка',\n",
       "       'Великобритания, Испания', 'США, Великобритания, Канада, Швеция',\n",
       "       'Босния и Герцеговина, Франция, Великобритания, Германия, Словения, Бельгия, Сербия',\n",
       "       'Великобритания, Франция, Италия, США', 'Испания, Франция',\n",
       "       'Великобритания, Австралия, США',\n",
       "       'Норвегия, Швеция, Дания, Германия', 'Норвегия', 'Швейцария',\n",
       "       'Греция, Германия, Франция', 'Норвения', 'Южная Корея, США',\n",
       "       'Чили, Франция, США', 'Австрия, Германия, Франция',\n",
       "       'Швеция, Дания', 'Великобритания, Франция, Бельгия, Италия',\n",
       "       'Франция, Германия', 'Грузия, Франция, Люксембург',\n",
       "       'США, Франция, Великобритания, Бразилия', 'США, КНР',\n",
       "       'Мексика, Франция', 'США, Германия, Гонконг, Сингапур',\n",
       "       'Финляндия, Австрия, Россия', 'Испания, Куба',\n",
       "       'Великобритания, ЮАР', 'Великобритания, Ирландия', 'Израиль',\n",
       "       'Бразилия, Германия, Порртугалия, Франция',\n",
       "       'Франция, Канада, Бельгия', 'Испания, Канада, Япония', 'Иран',\n",
       "       'Швеция, Куба', 'США, Великобритания, Ирландия', 'Нидерланды',\n",
       "       'Испания, Канада', 'Япония, Великобритания',\n",
       "       'Великобритания, Норвегия, Дания, Германия',\n",
       "       'Финляндия, Франция, Германия',\n",
       "       'Мексика, Франция, Нидерланды, Германия', 'США, Индия',\n",
       "       'США, Великобритания, Индия', 'США, Канада, Бельгия',\n",
       "       'Республика Узбекистан', 'Турция',\n",
       "       'Сербия, Словения, Хорватия, Черногория, Македония', 'Киргизия',\n",
       "       'Германия, Нидерланды, Беларусь, Россия, Латвия', 'Индия',\n",
       "       'Нидерланды, Россия, Германия',\n",
       "       'Великобритания, Нидерланды, Франция, Хорватия',\n",
       "       'Канада, Южная Корея',\n",
       "       'Великобритания, Польша, КНР, Индия, Норвегия',\n",
       "       'Япония, Франция, США, Южная Корея, Турция',\n",
       "       'Мексика, Аргентина, Великобритания', 'Израиль, Франция',\n",
       "       'Польша, Португалия, Франция, Великобритания', 'Австралия, США',\n",
       "       'Франция, Люксембург, Бельгия', 'Армения',\n",
       "       'Бельгия, Люксембург, Франция, Швейцария',\n",
       "       'США, Великобритания, Канада', 'Норвегия, Швеция',\n",
       "       'КНР, Гонконг, США', 'США, Сингапур, Малайзия, Индонезия',\n",
       "       'Германия, Россия', 'Япония, Канада',\n",
       "       'Финляндия, Дания, Германия, Ирландия',\n",
       "       'Франция, Люксембург, Германия, Бельгия, Швейцария, Великобритания',\n",
       "       'Канада, США', 'США, Италия, Испания', 'США, Швейцария, Франция',\n",
       "       'Испания, США, Колумбия', 'Канада, ЮАР', 'Франция, Россия',\n",
       "       'Германия, Финляндия, Австралия', 'Дания, Швеция', 'Бельгия',\n",
       "       'Германия, Франция, Австрия', 'Франция, Индия', 'ЮАР',\n",
       "       'Франция, Перу', 'Франция, Канада', 'Республика Беларусь',\n",
       "       'Великобритания, Австрия, Франция, США', 'США, Россия',\n",
       "       'США, Южная Корея', 'Канада, КНР',\n",
       "       'Дания, Швеция, Италия, Франция, Германия',\n",
       "       'Франция, Италия, Испания, Венгрия', 'Франция, Германия, Бельгия',\n",
       "       'Франция, Великобритания, Чехия', 'Румыния, Франция, Бельгия',\n",
       "       'Болгария, Франция, Изриль',\n",
       "       'Израиль, Германия, Польша, Бельгия, Франция, Люксембург',\n",
       "       'Россия, Германия, Франция, Бельгия', 'Индонезия',\n",
       "       'Франция, Португалия', 'Великобритания, Пуэрто, Рико',\n",
       "       'СССР, ФРГ, Западный Берлин', 'Россия, Республика Беларусь',\n",
       "       'Франция, Австрия', 'Бельгия, Нидерланды',\n",
       "       'Великобритания, США, Индия', 'США, Великобритания, Австралия',\n",
       "       'Канада, Франция, США, ОАЭ, Великобритания',\n",
       "       'США, Австралия, Франция',\n",
       "       'Дания, Франция, Бельгия, Германия, Великобритания',\n",
       "       'Испания, Аргентина', 'Исландия, Финляндия',\n",
       "       'Россия, Польша, Голландия, Словакия', 'Дания, Германия, Швеция',\n",
       "       'Южная Корея, США, Канада', 'Таиланд', 'США, Мальта',\n",
       "       'США,Германия', 'Великобритания, Германия, Франция, Кипр, США',\n",
       "       'Мексика', 'США, Украина',\n",
       "       'США, Финляндия, Испания, Великобритания, Франция',\n",
       "       'Австралия, Великобритания',\n",
       "       'США, Канада, Афганистан, Бельгия, Франция',\n",
       "       'США, Великобритания, Германия, Новая Зеландия, Бельгия, Франция',\n",
       "       'Ирландия, Финляндия, Бельгия, Великобритания, США, Швейцария',\n",
       "       'Малайзия, США', 'Германия, Италия',\n",
       "       'США, Франция, Бельгия, Италия', 'Франция, Ирландия, Швеция',\n",
       "       'Азербайджан, Россия', 'Великобритания, Италия, Швейцария',\n",
       "       'США, Германия, Великобритания', 'Германия, Бельгия, США,Франция',\n",
       "       'США, Китай', 'Чили, Испания', 'Франция, Швейцария',\n",
       "       'Канада, Испания', 'США, Румыния, Великобритания', 'США, Япония',\n",
       "       'США, Россия, Франция', 'Парагвай', 'Германия, Канада',\n",
       "       'США, Канада, Великобритания', 'Финляндия, Канада',\n",
       "       'Уругвай, Мексика, Германия', 'США, Чили',\n",
       "       'Германия, Аргентина, Нидерланды, Чили', 'США, Канада, Индонезия',\n",
       "       'Армения, Казахстан', 'Финляндия', 'Испания, Италия, Франция',\n",
       "       'Бельгия, Испания, Канада, Нидерланды',\n",
       "       'Великобритания, Франция, Швеция, Бельгия',\n",
       "       'Мексика, Эквадор, Канада, США, Франция, Малайзия, Италия, Аргентина, Германия, Индия',\n",
       "       'Франция, Бенльгия', 'Индия, Великобритания',\n",
       "       'Япония, Великобритания, Франция', 'Испания, Уругвай, Аргентина',\n",
       "       'Франция, Италия, Бельгия, Люксембург',\n",
       "       'Франция, Украина, Грузия, Армения', 'Сербия, Германия, Венгрия',\n",
       "       'Франция, Польша', 'Румыния, США', 'Россия, Азербайджан',\n",
       "       'США, Нидерланды, Бельгия, Венгрия, Греция, Канада',\n",
       "       'Германия, Франция, Люксембург', 'Великобритания, США, Франция',\n",
       "       'США, Австралия, Дания', 'Бельгия, Франция', 'США, Мексика',\n",
       "       'Норвегия, Азербайджан, Россия, Колумбия, Великобритания, Венгрия, Румыния, Франция, Грузия',\n",
       "       'СЩА', 'Бразилия, Испания', 'Россия, Франция, Латвия',\n",
       "       'Нидерланды, США, Германия, Канада, Франция, Ирландия, Великобритания',\n",
       "       'Уругвай, Колумбия', 'США, Испания, Болгария', 'Армения, Германия',\n",
       "       'США, Великобритания,  Франция, Швеция', 'Австралия, Турция, США',\n",
       "       'Швеция, Германия', 'Польша, Италия, Россия', 'Франция, Бразилия',\n",
       "       'США, Канада, КНР', 'СССР, Венгрия, ЧССР, ГДР',\n",
       "       'Бельгия, Германия, Люксембург', 'Бразилия, США',\n",
       "       'США, Великобритания, Канада, КНР', 'Франция, Чили',\n",
       "       'Франция, США, Великобритания, Колумбия, Бельгия, Россия',\n",
       "       'Дания, Великобритания, ЮАР', 'Россия, США, Канада, Люксембург',\n",
       "       'Россия, Республика Кипр', 'Германия, США, Швеция, Франция',\n",
       "       'Великобритания, Германия, Канада, ЮАР', 'Ирландия, Канада',\n",
       "       'Япония, Великобритания, Швейцария, Ирландия, Дания, Франция, Польша, Австралия, Канада',\n",
       "       'Великобритания, Канада', 'Бельгия, США',\n",
       "       'Великобритания, США, Россия', 'Россия, Украина',\n",
       "       'Германия, США, Великобритания, Израиль', 'Канада, Германия',\n",
       "       'США,  Ю.Корея', 'Индия, Мексика',\n",
       "       'Великобритания, Франция, Республика Кипр, Швейцария, США, Сербия',\n",
       "       'Испания, Аргентина, Индия, США',\n",
       "       'Норвегия, Исландия, США, Великобритания',\n",
       "       'Турция, Германя, Франция', 'Австралия, Германия',\n",
       "       'Мексика, Испания', 'Великобритания, США, Германия, Бельгия',\n",
       "       'США, Чехия, Франция', 'Россия, Италия', 'Норвегия, Дания, Швеция',\n",
       "       'Франция, Швейцария, Германия', 'Грузия, Украина',\n",
       "       'Россия, Эстония, Финляндия, Беларусь', 'США, Франция, ЮАР',\n",
       "       'Великобритания, США, Швейцария',\n",
       "       'Мексика, Нидерланды, Германия, Франция', 'США, Испания, Франция',\n",
       "       'США, Великобритания, КНР', 'США, Франция, Канада',\n",
       "       'Япония, Великобритания, Австрия, Германия, Ю.Корея',\n",
       "       'Великобритания, Ирландия, США', 'Бельгия, Италия, Франция',\n",
       "       'Швейцария, Германия, ЮАР', 'Великобритания, США, Германия',\n",
       "       'Германия, Исландия', 'Испания, США', 'Хорватия',\n",
       "       'Финляндия, Исландия, Швеция', 'Канада, США, Германия, Франция',\n",
       "       'США, Великобритания, Испания', 'Ирландия, Великобритания',\n",
       "       'Аргентина, Испания', 'Австрия, Германия',\n",
       "       'Германия, Швейцария, Франция, Южная Корея, США',\n",
       "       'Украина, Нидерланды', 'Венгрия, Германия, Швеция',\n",
       "       'Германия, Франция,  Польша, Турция, Канада, Италия, Россия',\n",
       "       'СССР, Афганистан', 'СССР, Монголия', 'Россия, Кипр',\n",
       "       'Россия, Грузия, Испания',\n",
       "       'Великобритания, Нидерланды, Германия, Франция, Бельгия, Австрия',\n",
       "       'Испания, Великобритания, Франция',\n",
       "       'Дания, Норвегия, Великобритания', 'Бельгия, Франция, Люксембург',\n",
       "       'Италия, Франция, Швейцария, Великобритания',\n",
       "       'Франция, Бельгия, Великобритания, Испания, Германия, США',\n",
       "       'Швейцария, Израиль, Франция, Великобритания',\n",
       "       'Великобритания, США, Канада, Нидерланды, Франция',\n",
       "       'СССР, Албания', 'Россия, Украина, Республика Беларусь, Литва',\n",
       "       'Финляндия, Великобритания, Германия', 'Россия, Украина, Польша',\n",
       "       'Франция, Италия, Бельгия, КНР',\n",
       "       'Германия, Бельгия, Люксембург, Ирландия', 'КНР, Сингапур',\n",
       "       'Франция, Бельгия, Великобритания, США, Нидерланды, Канада',\n",
       "       'США, Россия, Польша, Германия, Пуэрто Рико',\n",
       "       'Франция, Бельгия, Канада', 'Мексика, США', 'США, Гонконг, КНР',\n",
       "       'Греция, Россия', 'Ирландия, Дания, Бельгия, Люксембург, Франция',\n",
       "       'Эстония, Россия',\n",
       "       'Великобритания, Исландия, Испания, Швейцария, США',\n",
       "       'Австралия, Великобритания, Бельгия, Индия',\n",
       "       'Швеция, Германия, Франция, Норвегия',\n",
       "       'Нидерланды, Бельгия, Германия, Ирландия',\n",
       "       'Нидерланды, Великобритания, Бельгия', 'США, Колумбия, Испания',\n",
       "       'Франция, Испания, Бельгия, Панама',\n",
       "       'США, Великобритания, Чехия, Румыния',\n",
       "       'Аргентина, Уругвай, Россия, Германия, Франция, Нидерланды',\n",
       "       'Швеция, Франция, Норвегия, Дания',\n",
       "       'Италия, Франция, Великобритания', 'Венесуэла',\n",
       "       'Великобритания, США, Австралия, Ирландия, Германия, Куба, Канада',\n",
       "       'Южная Корея, КНР', 'Аргентина, Мексика, Бразилия, Франция, США',\n",
       "       'Швеция, США', 'Франция, Германия, Турция, Катар',\n",
       "       'Франция, Китай', 'Россия, Германия, Великобритания',\n",
       "       'Великобритания, Италия, Испания', 'Италия, Россия',\n",
       "       'Япония, КНР, Южная Корея', 'Россия, Германия', 'Россия, Ирландия',\n",
       "       'Македония, Франция, Великобритания', 'Франция, Бразилия, Италия',\n",
       "       'Россия, США', 'Армения, Россия', 'Россия, Румыния',\n",
       "       'Франция,  Бельгия', 'Грузия, Франция', 'ЮАР, США',\n",
       "       'Великобритания, США, Германия, Канада, Австралия',\n",
       "       'США, Ирландия', 'Германия, Люксембург, Франция',\n",
       "       'Россия, Франция',\n",
       "       'США, Нидерланды, Финляндия, Великобритания, Италия',\n",
       "       'Республика Кипр', 'Венгрия', 'Франция, США, Норвегия, Дания',\n",
       "       'Германия, Австрия, Ирландия', 'США, Финляндия',\n",
       "       'Италия, Великобритания', 'Россия, Испания',\n",
       "       'США, Великобритания, Болгария', 'Великобритания, Люксембург',\n",
       "       'Индия, США', 'США, Канада, Россия, Франция, Чили, Ирландия',\n",
       "       'Грузия, Россия',\n",
       "       'Дания, Австрия, Ирландия, Финляндия, Норвегия, Швеция, Нидерланды',\n",
       "       'Грузия', 'Австралия, Ирландия', 'Италия, Аргентина, Словения',\n",
       "       'Испания, Франция, Нидерланды, Германия, Бельгия, Великобритания, Канада',\n",
       "       'Франция, Чехия, Бельгия',\n",
       "       'Великобритания, Франция, Германия, США',\n",
       "       'Ирландия, Великобритания, Франция, США, Германия, Нидерланды',\n",
       "       'США, Канада, Япония, КНР', 'США, Великобритания, Исландия',\n",
       "       'Франция, Германия, Нидерланды',\n",
       "       'Франция, Германия, Швеция, США, Чехия, Словакия, Великобритания, Нидерланды',\n",
       "       'Франция, Канада, Н.Зеландия, США, Нидерланды, Германия, Швеция, Россия',\n",
       "       'Турция, США',\n",
       "       'Великобритания, США, Канада, Бельгия, Нидерланды, Австрия, Германия',\n",
       "       'Израиль, Франция, Германия, Палестина, США, Австрия, Великобритания',\n",
       "       'Аргентина, Франция, Испания', 'СССР, Россия',\n",
       "       'Великобритания, Франция, Италия, Индия, Дания, КНР, Бангладеш, Камбоджа, Гаити, Уганда',\n",
       "       'Италия, Франция, Швейцария', 'Ирландия, Великобритания, Канада',\n",
       "       'Перу', 'США, Норвегия', 'Китай, Гонконг', 'США, Германия, КНР',\n",
       "       'Великобритания, Новая Зеландия', 'Франция, Дания, Швеция, КНР',\n",
       "       'США, Великобритания, Германия, Бельгия, Дания',\n",
       "       'США, Франция, Канада, Германия, Австралия, Индия',\n",
       "       'СССР, Румыния, Франция', 'СССР, ГДР',\n",
       "       'Великобритания, Франция, Австрия, Швеция', 'Россия, Таджикистан',\n",
       "       'Нидерланды, Бельгия, Болгария', 'Великобритания, Канада, США',\n",
       "       'Франция, Бельгия, Испания', 'Китай, Гонконг, США', 'США, Вьетнам',\n",
       "       'США, Германия, Франция', 'Германия, Франция, Бельгия',\n",
       "       'США, Италия',\n",
       "       'Германия, Дания, Испания, Швеция, Канада, Эстония, Франция',\n",
       "       'Княжество Андорра, Украина', 'Германия, Люксембург, Бельгия',\n",
       "       'Великобритания, Россия, Украина, США',\n",
       "       'Германия, Бельгия, Люксембург, Норвегия',\n",
       "       'США, Австралия, Новая Зеландия, Великобритания',\n",
       "       'США, Франция, Канада, Великобритания', 'Испания, Колумбия',\n",
       "       'Великобритания, Чехия, Франция', 'Исландия',\n",
       "       'Великобритания, Франция, Венгрия',\n",
       "       'Россия, Франция, Германия, Бельгия', 'Франция, Македония',\n",
       "       'Нидерланды, Франция, Германия, Бельгия, Швеция, Великобритания',\n",
       "       'Испания, США, Великобритания, Канада', 'Республика Казахстан',\n",
       "       'Франция, Испания, Дания, Венгрия, Швейцария', 'Франция, КНР',\n",
       "       'США, Пуэрто, Рико, Франция', 'Мексика, Тайвань, США',\n",
       "       'Великобритания, Испания, Непал, Индия, Венгрия, Гонконг, Германия, Дания, Бахрейн',\n",
       "       'Великобритания, Аргентина, США, Франция, Россия, Испания',\n",
       "       'КНР, США', 'Италия, США', 'Финляндия, Швеция, Германия',\n",
       "       'Канада,  Испания', 'Франция, Бельгия, Чехия',\n",
       "       'Франция, Германия, США', 'США, Дания', 'Индия, КНР',\n",
       "       'Чехия, Великобритания, США', 'США, ФРГ, Россия',\n",
       "       'Ирландия, Нидерланды, Франция, США, Великобритания',\n",
       "       'Россия, Грузия, Хорватия, Испания', 'Финляндия, Швеция, Норвегия',\n",
       "       'Сербия, Великобритания, США',\n",
       "       'США, Великобритания, Франция, Гонконг', 'Швейцария, Франция',\n",
       "       'Швейцария, Великобритания', 'ОАЭ, США',\n",
       "       'США, Франция, Германия, Канада, Австралия', 'Германия, Австралия',\n",
       "       'Иран, Франция', 'США, Великобритания, Новая Зеландия',\n",
       "       'США, Колумбия', 'США, Франция, Ирландия',\n",
       "       'Великобритания, Франция, Бельгия', 'США, Великобритания, Япония',\n",
       "       'США, Франция, Германия', 'Польша, Ирландия',\n",
       "       'Ирландия, Великобритания, Франция, США',\n",
       "       'США, Бельгия, Великобритания', 'СССР, ВНР',\n",
       "       'Испания, Франция, США, Великобритания, Бельгия',\n",
       "       'Франция, Дания, США', 'США, Гонконг', 'Бразилия, К;анада',\n",
       "       'США, Ирландия, Великобритания, Франция',\n",
       "       'Великобритания, США, Канада', 'Польша, Франция',\n",
       "       'Канада, США, Нидерланды, Великобритания, Аргентина',\n",
       "       'Великобритания, Дания', 'Франция, Бельгия, Япония',\n",
       "       'Россия,  Испания', 'Франция,Бельгия',\n",
       "       'США, Канада, Германия, Франция', 'США, Канада, Франция',\n",
       "       'Германия, Австрия, Франция, Италия', 'США, Германия, Канада',\n",
       "       'Испания, Мексика',\n",
       "       'США, Япония, Канада, Великобритания, Германия, Франция',\n",
       "       'США,Великобритания, Австралия', 'Россия, Украина, Германия',\n",
       "       'Израиль, Франция, Великобритания, Германия', 'Корея',\n",
       "       'Россия, Болгария', 'Германия, Канада, Франция, Бельгия',\n",
       "       'Германия, Кения', 'Франция, Монако',\n",
       "       'Франция, Испания, Швейцария', 'Австрия, Франция, Германия',\n",
       "       'Румыния', 'США, Великобритания, Франция',\n",
       "       'Канада, Великобритания', 'Канада, Бразилия, Япония',\n",
       "       'Германия, Дания, Норвегия', 'Дания, Германия',\n",
       "       'СССР, ГДР, Польша, Италия',\n",
       "       'США, Испания, Франция, Великобритания', 'Китай',\n",
       "       'Мексика, Аргентина', 'Германия, Великобритания, Италия, Испания',\n",
       "       'Франция, Германия, Великобритания', 'Россия, Германия, Швейцария',\n",
       "       'Франция, Австралия', 'Голландия', 'Россия, Белоруссия',\n",
       "       'Франция, Испания, Тайвань', 'США, Южная Корея, Новая Зеландия',\n",
       "       'Великобритания, Венгрия', 'Великобритания, Франция, Германия',\n",
       "       'Франция, Германия, Италия',\n",
       "       'Швеция, Финляндия, Франция, Норвегия', 'Германия, Израиль',\n",
       "       'Швеция, Германия, Дания, Норвегия', 'Франция, Гонконг, Ирландия',\n",
       "       'Эстония', 'Литва, Россия, Украина', 'Германия, Италия, Франция',\n",
       "       'Великобритания, Австрия, Германия', 'Испания, Мальта',\n",
       "       'Франция, Россия, Румыния, Италия, Бельгия', 'Россия, Польша',\n",
       "       'США, Аргентина', 'Израиль, США, Франция',\n",
       "       'США, Новая Зеландия, Япония', 'Франция, Чехия, Великобритания',\n",
       "       'Германия, Франция, Великобритания', 'США, Гонконг, Китай',\n",
       "       'США, Великобритания, Германия', 'США, Канада, Австралия',\n",
       "       'Япония, США, Франция', 'Франция, Испания, Германия',\n",
       "       'США, Хорватия, Босния, Герцеговина',\n",
       "       'Великобритания, Чехия, Франция, Италия',\n",
       "       'США, Германия, Нидерланды', 'Германия, Франция, Канада',\n",
       "       'Франция, Грузия, Германия, Россия, Украина, Бельгия',\n",
       "       'Великобритания, Франция, Италия', 'Франция, Италия, Иран',\n",
       "       'Греция', 'Дания, США', 'США, Германия, Австралия',\n",
       "       'США, Канада, Италия', 'США, Япония, Германия',\n",
       "       'Франция, Великобритания, Багамские острова, США',\n",
       "       'Швейцария, Люксембург', 'Швейцария, Австрия',\n",
       "       'Германия, Швейцария', 'Дания, Швеция, Франция, Германия',\n",
       "       'Польша', 'Бразилия, Канада, США', 'Нидерланды, Россия',\n",
       "       'Португалия', 'Франция, Аргентина', 'Швеция, Франция',\n",
       "       'Франция, Украина', 'Германия, Украина, Нидерланды',\n",
       "       'Италия, Швейцария', 'Латвия, Россия',\n",
       "       'Германия, Франция, Великобритания, США', 'Канада, Италия',\n",
       "       'США, Объединенные Арабские Эмираты', 'США, Венгрия', 'Малайзия',\n",
       "       'Россия, Германия, Украина', 'США, Австралия, Мексика',\n",
       "       'Литва, Венгрия', 'Германия, Китай', 'Казахстан',\n",
       "       'Республика Корея',\n",
       "       'США, Германия, Франция, Великобритания, Канада',\n",
       "       'Бельгия, Германия, Люксембург, Франция', 'Франция, Греция',\n",
       "       'Италия, Канада', 'США, Италия, Греция',\n",
       "       'Германия, США, Великобритания, Ирландия',\n",
       "       'Германия, Нидерланды, ЮАР',\n",
       "       'США, Япония, Германия, Великобритания, Нидерланды',\n",
       "       'США, Япония, Германия, Великобритания',\n",
       "       'Таиланд, Великобритания, Франция, Германия, Испания, Нидерланды',\n",
       "       'Германия, Италия, Швейцария',\n",
       "       'Дания, Швеция, Великобритания, Франция, Германия, Нидерланды, Норвегия, Финляндия',\n",
       "       'Франция, Великобритания, Нидерланды, Люксембург',\n",
       "       'Нидерланды, Великобритания, Франция, Италия, Япония',\n",
       "       'Великобритания, Нидерланды, Франция, США', 'Канада, Мексика',\n",
       "       'Канада, Южная Корея, США',\n",
       "       'Великобритания, Франция, Бельгия, США', 'КНР, Канада, США',\n",
       "       'Италия, Франция, Германия', 'Швеция, Германия, Франция, Дания',\n",
       "       'Франция, США, Бельгия', 'Украина, Германия, Латвия, Эстония',\n",
       "       'Австрия, Люксембург', 'Великобритания, КНР', 'Монголия',\n",
       "       'Франция, Дания', 'Швеция, Дания, Финляндия',\n",
       "       'Сингапур, Великобритания, Индонезия, Канада, США',\n",
       "       'США, Германия, Япония', 'Таиланд, США', 'Франция, Нидерланды',\n",
       "       'Великобритания, Румыния',\n",
       "       'Великобритания, Германия, Нидерланды, Дания',\n",
       "       'Франция, Германия, Литва, Нидерланды, Россия',\n",
       "       'США, ЮАР, Гонконг', 'Австралия, Колумбия',\n",
       "       'Великобритания, Польша', 'США, Великобритания, Швеция',\n",
       "       'Франция, Швеция, Дания, Норвегия', 'Болгария, США', 'СССР, ФРГ',\n",
       "       'Бельгия, Нидерланды, Франция', 'Финляндия, Германия', 'Болгария',\n",
       "       'Грузия, Россия, Украина, Хорватия, Германия',\n",
       "       'Франция, Люксембург', 'Франция, Германия, Австрия',\n",
       "       'Норвегия, США', 'Германия, Швеция', 'Дания, Латвия, Россия, США',\n",
       "       'Финляндия, Польша', 'Германия, Бельгия',\n",
       "       'Германия, США, Франция, Испания',\n",
       "       'Бельгия, Германия, Канада, Франция, США, Великобритания',\n",
       "       'Нидерланды, Бельгия, Люксембург', 'Люксембург, Бельгия, Франция',\n",
       "       'Бельгия, Великобритания, США', 'Великобритания, Австралия',\n",
       "       'Исландия, Бельгия',\n",
       "       'Испания, Швейцария, Великобритания, Германия, Новая Зеландия, Нидерланды, Канада',\n",
       "       'Киргизия, Россия', 'Великобритания, США, Испания',\n",
       "       'Италия, Швейцария, Германия', 'Россия, Армения',\n",
       "       'Китай, Канада, США', 'США, Великобритания, Люксембург',\n",
       "       'Испания, Ирландия, Бельгия, Франция',\n",
       "       'Великобритания, Гонконг, Венгрия, США, Ирландия',\n",
       "       'США, Пуэрто Рико', 'Аргентина, Испания, Уругвай',\n",
       "       'Израиль, Германия, Франция, Швейцария',\n",
       "       'Великобритания, Мексика, США', 'Испания, Болгария, США',\n",
       "       'Россия, Словакия, Чехия',\n",
       "       'Швейцария, КНР, США, Россия, Республика Корея, Великобритания',\n",
       "       'Россия, Нидерланды, Финляндия',\n",
       "       'Испания, Бельгия, Франция, Португалия, Великобритания',\n",
       "       'Бразилия, Португалия, Франция', 'Швеция, Норвегия',\n",
       "       'Франция, Польша, Бельгия', 'CША', 'Китай, США',\n",
       "       'Германия, Австрия, Франция', 'Чехия, Словакия, Хорватия',\n",
       "       'Россия, Польша, Финляндия', 'Россия, Латвия, Чешская Республика',\n",
       "       'Франция, Великобритания, Камбоджа, США, КНР',\n",
       "       'Чехия, Испания, США', 'Германия, Люксембург, Дания',\n",
       "       'Великобритания, Испания, Германия', 'Дания, Исландия',\n",
       "       'Великобритания, Испания, Италия, Латвия, Франция, Эстония',\n",
       "       'Дания, Швеция, Великобритания, Франция, Германия, Норвегия, Финляндия, Нидерланды, Италия',\n",
       "       'Польша, Франция, Великобритания',\n",
       "       'Дания, Норвегия, Венгрия, Чехия',\n",
       "       'Дания, Франция, Германия, Швеция', 'Великобритания, Швеция, США',\n",
       "       'Канада, Франция, Италия, Швейцария, США',\n",
       "       'США, Великобритания, Германия,, Швеция, Канада',\n",
       "       'Республика Беларусь, Германия, США, Россия',\n",
       "       'Италия, Швейцария, Франция, Германия',\n",
       "       'Россия, Франция, Великобритания, Латвия', 'Россия, Беларусь',\n",
       "       'Франция, Испания, Румыния, США, Бельгия', 'Россия, Австрия',\n",
       "       'Ирландия, Великобритания, США',\n",
       "       'Швейцария, Великобритания, Франция, США, Ирландия',\n",
       "       'Мексика, Франция, Германия, Дания, Швеция', 'Нидерланды, Бельгия',\n",
       "       'Швеция, Норвегия, Финляндия, Франция', 'Испания, Франция, Италия',\n",
       "       'Испания, Франция, Греция, Индия, США, Россия, Великобритания',\n",
       "       'Великобритания, Япония, США',\n",
       "       'Дания, Канада, Норвегия, Австралия, США',\n",
       "       'Россия, Германия, Казахстан, Польша, Китай',\n",
       "       'Португалия, Франция, Польша, США', 'США, Канада, Аргентина',\n",
       "       'Ливан, США', 'Япония, США',\n",
       "       'Франция, Россия, Швейцария, Румыния, Венгрия', 'Россия, Сербия',\n",
       "       'США, Болгария, Мексика',\n",
       "       'США, Великобритания, Швейцария, Франция', 'Таиланд, КНР, США',\n",
       "       'Великобритания, Нидерланды, Польша, Швейцария, Франция',\n",
       "       'Ирландия, США', 'Германия, Франция, Великобритания, Польша, США',\n",
       "       'США, Австралия, Индия', 'Великобритания, Израиль',\n",
       "       'Великобритания, Норвегия, Кения, Хорватия',\n",
       "       'США, Бразилия, Великобритания, Канада', 'Австралия, Канада',\n",
       "       'Кения, Германия', 'Колумбия', 'Латвия, Франция',\n",
       "       'Франция, Израиль, Германия', 'Швеция, Франция, Великобритания',\n",
       "       'Бельгия, Люксембург', 'Германия, Бельгия, Великобритания',\n",
       "       'Испания, Франция, Великобритания, Дания, Бельгия, Германия',\n",
       "       'Румыния, ЮАР, Иран, Франция, Канада, Великобритания',\n",
       "       'США, Великобритания, Ирландия, Люксембург', 'Республика Армения',\n",
       "       'США, Франция, Япония', 'Республика Кипр, Россия',\n",
       "       'Дания, Франция, Италия, Бельгия, Нидерланды', 'Россия, Грузия',\n",
       "       'Италия, Германия', 'Норвегия, Швеция, Дания',\n",
       "       'КНР, Индия, Гонконг, США', 'Израиль, Украина',\n",
       "       'США, КНР, Индия, Ю.Корея', 'США, Швеция', 'Россия, Китай',\n",
       "       'Канада, США, Каймановы острова',\n",
       "       'Бразилия, Уругвай, Дания, Норвегия, Чили, Швеция',\n",
       "       'Пуэрто, Рико, Великобритания, США', 'Уругвай, Аргентина, Испания',\n",
       "       'США, Великобритания, Италия, Израиль, Сербия, Индия',\n",
       "       'США, Канада, Франция, Индия', 'Великобритания, Россия, КНР',\n",
       "       'Франция, Новая Зеландия', 'Канада, США, Норвегия',\n",
       "       'Италия, Испания', 'Испания, Германия, Нидерланды',\n",
       "       'Бразилия, США, КНР', 'Великобритания, Германия, Дания, США',\n",
       "       'Италия, Фрация, Бразилия, Германия', 'Норвегия, Швеция, Россия',\n",
       "       'Сша, Канада', 'Бельгия, Канада', 'Франция, Финляндия',\n",
       "       'Колумбия, США', 'Норвегия, Нидерланды',\n",
       "       'Италия, Бельгия, Франция', 'Россия, Бельгия, Финляндия',\n",
       "       'Франция, Норвегия',\n",
       "       'Великобритания, Южная Корея, Канада, США, Индия, Китай, Япония',\n",
       "       'Канада, Норвегия', 'Польша, Франция, Испания, Бразилия, Швеция',\n",
       "       'Австрия, Великобритания, Германия', 'Франция, Сенегал, Бельгия',\n",
       "       'Финляндия, Латвия', 'Пакистан', 'Германия, Франция, США',\n",
       "       'Германия, Великобритания, США', 'КНР, Франция',\n",
       "       'Дания, Норвегия, Швеция, Исландия',\n",
       "       'Республика Кипр, США, Россия', 'Новая Зеландия, КНР',\n",
       "       'Дания, Канада, Швеция, Франция, Германия, Великобритания, США'],\n",
       "      dtype=object)"
      ]
     },
     "execution_count": 31,
     "metadata": {},
     "output_type": "execute_result"
    }
   ],
   "source": [
    "movies['production_country'].unique() #уникальные значения в столбце production_country"
   ]
  },
  {
   "cell_type": "markdown",
   "metadata": {},
   "source": [
    "**Вывод:** \n",
    "- Во всех категориальных столбцах были удалены пробелы в начале и конце строки, за счет этого сократилось количество уникальных значений в столбцах.\n",
    "\n",
    "- В столбце production_country уникальные значения были приведены к единому виду заменой тире между значениями стран на запятые. Это также сократило количество уникальных значений в столбце production_country."
   ]
  },
  {
   "cell_type": "markdown",
   "metadata": {
    "id": "XFSN5lrEgFyR"
   },
   "source": [
    "#### Шаг 2.5. Проверка столбцов с количественными значениями"
   ]
  },
  {
   "cell_type": "code",
   "execution_count": 32,
   "metadata": {},
   "outputs": [
    {
     "data": {
      "text/plain": [
       "17"
      ]
     },
     "execution_count": 32,
     "metadata": {},
     "output_type": "execute_result"
    }
   ],
   "source": [
    "movies.query('nonrefundable_support + refundable_support > budget')['title'].count()\n",
    "#проверяю есть ли столбцы в которых сумма возвратной части долга и невозвратной больше, чем сам бюджет"
   ]
  },
  {
   "cell_type": "code",
   "execution_count": 33,
   "metadata": {},
   "outputs": [
    {
     "data": {
      "text/plain": [
       "0"
      ]
     },
     "execution_count": 33,
     "metadata": {},
     "output_type": "execute_result"
    }
   ],
   "source": [
    "def bool_type(row):\n",
    "    \"\"\"Функция, которая проверяет не меньше ли сумма невозвратного долга и возвратного, чем бюджет.\n",
    "        Если меньше возвращает сумму невозвратного и возвратного долга\"\"\"\n",
    "    \n",
    "    if row['nonrefundable_support'] + row['refundable_support'] > row['budget']:\n",
    "        return row['nonrefundable_support'] + row['refundable_support']\n",
    "    \n",
    "    return row['budget']\n",
    "\n",
    "movies['budget'] = movies.apply(bool_type, axis = 1) #применяю функцию к столбцу бюджет\n",
    "\n",
    "movies.query('nonrefundable_support + refundable_support > budget')['title'].count()\n",
    "#проверяю есть ли столбцы в которых сумма возвратной части долга и невозвратной больше, чем сам бюджет"
   ]
  },
  {
   "cell_type": "markdown",
   "metadata": {},
   "source": [
    "**Вывод:** В описании данных сказано, что столшбец budget включает в себя полный объем гос. поддержки, а значит ситуация когда сумма возвратной части поддержки и невозвратной больше, чем сам бюджет, невозможна. Поэтому с помощью функции заменила в столбце budget на сумму возвратной и невозвратнйо части гос. поддержки, но только при условии что эта сумма больше, чем значение в столбце budget."
   ]
  },
  {
   "cell_type": "markdown",
   "metadata": {
    "id": "Eu6oWp2CgFyS"
   },
   "source": [
    "#### Шаг 2.6. Создание новых столбцов с информацией о годе проката, с главным режисером, основным жанром фильма и с долей государственного бюджета."
   ]
  },
  {
   "cell_type": "code",
   "execution_count": 34,
   "metadata": {
    "id": "I-yd1DkWgFyT"
   },
   "outputs": [
    {
     "data": {
      "text/html": [
       "<div>\n",
       "<style scoped>\n",
       "    .dataframe tbody tr th:only-of-type {\n",
       "        vertical-align: middle;\n",
       "    }\n",
       "\n",
       "    .dataframe tbody tr th {\n",
       "        vertical-align: top;\n",
       "    }\n",
       "\n",
       "    .dataframe thead th {\n",
       "        text-align: right;\n",
       "    }\n",
       "</style>\n",
       "<table border=\"1\" class=\"dataframe\">\n",
       "  <thead>\n",
       "    <tr style=\"text-align: right;\">\n",
       "      <th></th>\n",
       "      <th>title</th>\n",
       "      <th>puNumber</th>\n",
       "      <th>show_start_date</th>\n",
       "      <th>type</th>\n",
       "      <th>film_studio</th>\n",
       "      <th>production_country</th>\n",
       "      <th>director</th>\n",
       "      <th>producer</th>\n",
       "      <th>age_restriction</th>\n",
       "      <th>refundable_support</th>\n",
       "      <th>nonrefundable_support</th>\n",
       "      <th>budget</th>\n",
       "      <th>financing_source</th>\n",
       "      <th>ratings</th>\n",
       "      <th>genres</th>\n",
       "      <th>box_office</th>\n",
       "      <th>year</th>\n",
       "    </tr>\n",
       "  </thead>\n",
       "  <tbody>\n",
       "    <tr>\n",
       "      <td>0</td>\n",
       "      <td>Открытый простор</td>\n",
       "      <td>221048915</td>\n",
       "      <td>2015-11-27 12:00:00+00:00</td>\n",
       "      <td>Художественный</td>\n",
       "      <td>Тачстоун Пикчерз, Кобальт Пикчерз, Бикон Пикче...</td>\n",
       "      <td>США</td>\n",
       "      <td>Кевин Костнер</td>\n",
       "      <td>Дэвид Валдес, Кевин Костнер, Джейк Эбертс</td>\n",
       "      <td>«18+» - запрещено для детей</td>\n",
       "      <td>NaN</td>\n",
       "      <td>NaN</td>\n",
       "      <td>NaN</td>\n",
       "      <td>NaN</td>\n",
       "      <td>7.2</td>\n",
       "      <td>боевик,драма,мелодрама</td>\n",
       "      <td>NaN</td>\n",
       "      <td>2015</td>\n",
       "    </tr>\n",
       "    <tr>\n",
       "      <td>1</td>\n",
       "      <td>Особо важное задание</td>\n",
       "      <td>111013716</td>\n",
       "      <td>2016-09-13 12:00:00+00:00</td>\n",
       "      <td>Художественный</td>\n",
       "      <td>Киностудия \"Мосфильм\"</td>\n",
       "      <td>СССР</td>\n",
       "      <td>Е.Матвеев</td>\n",
       "      <td>NaN</td>\n",
       "      <td>«6+» - для детей старше 6 лет</td>\n",
       "      <td>NaN</td>\n",
       "      <td>NaN</td>\n",
       "      <td>NaN</td>\n",
       "      <td>NaN</td>\n",
       "      <td>6.6</td>\n",
       "      <td>драма,военный</td>\n",
       "      <td>NaN</td>\n",
       "      <td>2016</td>\n",
       "    </tr>\n",
       "    <tr>\n",
       "      <td>2</td>\n",
       "      <td>Особо опасен</td>\n",
       "      <td>221038416</td>\n",
       "      <td>2016-10-10 12:00:00+00:00</td>\n",
       "      <td>Художественный</td>\n",
       "      <td>Юниверсал Пикчерз, Кикстарт Продакшнз, Марк Пл...</td>\n",
       "      <td>США</td>\n",
       "      <td>Тимур Бекмамбетов</td>\n",
       "      <td>Джим Лемли, Джейсон Нетер, Марк Е.Платт, Яйн Смит</td>\n",
       "      <td>«18+» - запрещено для детей</td>\n",
       "      <td>NaN</td>\n",
       "      <td>NaN</td>\n",
       "      <td>NaN</td>\n",
       "      <td>NaN</td>\n",
       "      <td>6.8</td>\n",
       "      <td>фантастика,боевик,триллер</td>\n",
       "      <td>NaN</td>\n",
       "      <td>2016</td>\n",
       "    </tr>\n",
       "    <tr>\n",
       "      <td>3</td>\n",
       "      <td>Особо опасен</td>\n",
       "      <td>221026916</td>\n",
       "      <td>2016-06-10 12:00:00+00:00</td>\n",
       "      <td>Художественный</td>\n",
       "      <td>Юниверсал Пикчерз, Кикстарт Продакшнз, Марк Пл...</td>\n",
       "      <td>США</td>\n",
       "      <td>Тимур Бекмамбетов</td>\n",
       "      <td>Джим Лемли, Джейсон Нетер, Марк Е.Платт, Яйн Смит</td>\n",
       "      <td>«18+» - запрещено для детей</td>\n",
       "      <td>NaN</td>\n",
       "      <td>NaN</td>\n",
       "      <td>NaN</td>\n",
       "      <td>NaN</td>\n",
       "      <td>6.8</td>\n",
       "      <td>фантастика,боевик,триллер</td>\n",
       "      <td>NaN</td>\n",
       "      <td>2016</td>\n",
       "    </tr>\n",
       "    <tr>\n",
       "      <td>4</td>\n",
       "      <td>Особо опасен</td>\n",
       "      <td>221030815</td>\n",
       "      <td>2015-07-29 12:00:00+00:00</td>\n",
       "      <td>Художественный</td>\n",
       "      <td>Юниверсал Пикчерз, Кикстарт Продакшнз, Марк Пл...</td>\n",
       "      <td>США</td>\n",
       "      <td>Тимур Бекмамбетов</td>\n",
       "      <td>Джим Лемли, Джейсон Нетер, Марк Е.Платт, Яйн Смит</td>\n",
       "      <td>«18+» - запрещено для детей</td>\n",
       "      <td>NaN</td>\n",
       "      <td>NaN</td>\n",
       "      <td>NaN</td>\n",
       "      <td>NaN</td>\n",
       "      <td>6.8</td>\n",
       "      <td>фантастика,боевик,триллер</td>\n",
       "      <td>NaN</td>\n",
       "      <td>2015</td>\n",
       "    </tr>\n",
       "  </tbody>\n",
       "</table>\n",
       "</div>"
      ],
      "text/plain": [
       "                  title   puNumber           show_start_date            type  \\\n",
       "0      Открытый простор  221048915 2015-11-27 12:00:00+00:00  Художественный   \n",
       "1  Особо важное задание  111013716 2016-09-13 12:00:00+00:00  Художественный   \n",
       "2          Особо опасен  221038416 2016-10-10 12:00:00+00:00  Художественный   \n",
       "3          Особо опасен  221026916 2016-06-10 12:00:00+00:00  Художественный   \n",
       "4          Особо опасен  221030815 2015-07-29 12:00:00+00:00  Художественный   \n",
       "\n",
       "                                         film_studio production_country  \\\n",
       "0  Тачстоун Пикчерз, Кобальт Пикчерз, Бикон Пикче...                США   \n",
       "1                              Киностудия \"Мосфильм\"               СССР   \n",
       "2  Юниверсал Пикчерз, Кикстарт Продакшнз, Марк Пл...                США   \n",
       "3  Юниверсал Пикчерз, Кикстарт Продакшнз, Марк Пл...                США   \n",
       "4  Юниверсал Пикчерз, Кикстарт Продакшнз, Марк Пл...                США   \n",
       "\n",
       "            director                                           producer  \\\n",
       "0      Кевин Костнер          Дэвид Валдес, Кевин Костнер, Джейк Эбертс   \n",
       "1          Е.Матвеев                                                NaN   \n",
       "2  Тимур Бекмамбетов  Джим Лемли, Джейсон Нетер, Марк Е.Платт, Яйн Смит   \n",
       "3  Тимур Бекмамбетов  Джим Лемли, Джейсон Нетер, Марк Е.Платт, Яйн Смит   \n",
       "4  Тимур Бекмамбетов  Джим Лемли, Джейсон Нетер, Марк Е.Платт, Яйн Смит   \n",
       "\n",
       "                 age_restriction  refundable_support  nonrefundable_support  \\\n",
       "0    «18+» - запрещено для детей                 NaN                    NaN   \n",
       "1  «6+» - для детей старше 6 лет                 NaN                    NaN   \n",
       "2    «18+» - запрещено для детей                 NaN                    NaN   \n",
       "3    «18+» - запрещено для детей                 NaN                    NaN   \n",
       "4    «18+» - запрещено для детей                 NaN                    NaN   \n",
       "\n",
       "   budget financing_source  ratings                     genres  box_office  \\\n",
       "0     NaN              NaN      7.2     боевик,драма,мелодрама         NaN   \n",
       "1     NaN              NaN      6.6              драма,военный         NaN   \n",
       "2     NaN              NaN      6.8  фантастика,боевик,триллер         NaN   \n",
       "3     NaN              NaN      6.8  фантастика,боевик,триллер         NaN   \n",
       "4     NaN              NaN      6.8  фантастика,боевик,триллер         NaN   \n",
       "\n",
       "   year  \n",
       "0  2015  \n",
       "1  2016  \n",
       "2  2016  \n",
       "3  2016  \n",
       "4  2015  "
      ]
     },
     "execution_count": 34,
     "metadata": {},
     "output_type": "execute_result"
    }
   ],
   "source": [
    "movies['year'] = movies['show_start_date'].dt.year #добавляю столбец с годом премьеры фильма\n",
    "movies.head()"
   ]
  },
  {
   "cell_type": "code",
   "execution_count": 35,
   "metadata": {
    "id": "LSbRZKbMgFyU"
   },
   "outputs": [],
   "source": [
    "def get_first_value(string, sep):\n",
    "    \"\"\"Функция для получения первого значения из столбца со строковыми типами данных\"\"\"\n",
    "    \n",
    "    if type(string) != type(np.nan): #если тип данных не float, то применяем к строке метод split и возвращаем первое значение \n",
    "        val_list = string.split(sep = sep) #из разделенной строки\n",
    "        return val_list[0]\n",
    "    \n",
    "    return np.nan #если тип данных float, то возвращаем Nan"
   ]
  },
  {
   "cell_type": "code",
   "execution_count": 36,
   "metadata": {},
   "outputs": [
    {
     "data": {
      "text/html": [
       "<div>\n",
       "<style scoped>\n",
       "    .dataframe tbody tr th:only-of-type {\n",
       "        vertical-align: middle;\n",
       "    }\n",
       "\n",
       "    .dataframe tbody tr th {\n",
       "        vertical-align: top;\n",
       "    }\n",
       "\n",
       "    .dataframe thead th {\n",
       "        text-align: right;\n",
       "    }\n",
       "</style>\n",
       "<table border=\"1\" class=\"dataframe\">\n",
       "  <thead>\n",
       "    <tr style=\"text-align: right;\">\n",
       "      <th></th>\n",
       "      <th>title</th>\n",
       "      <th>puNumber</th>\n",
       "      <th>show_start_date</th>\n",
       "      <th>type</th>\n",
       "      <th>film_studio</th>\n",
       "      <th>production_country</th>\n",
       "      <th>director</th>\n",
       "      <th>producer</th>\n",
       "      <th>age_restriction</th>\n",
       "      <th>refundable_support</th>\n",
       "      <th>nonrefundable_support</th>\n",
       "      <th>budget</th>\n",
       "      <th>financing_source</th>\n",
       "      <th>ratings</th>\n",
       "      <th>genres</th>\n",
       "      <th>box_office</th>\n",
       "      <th>year</th>\n",
       "      <th>head_director</th>\n",
       "      <th>main_genre</th>\n",
       "    </tr>\n",
       "  </thead>\n",
       "  <tbody>\n",
       "    <tr>\n",
       "      <td>0</td>\n",
       "      <td>Открытый простор</td>\n",
       "      <td>221048915</td>\n",
       "      <td>2015-11-27 12:00:00+00:00</td>\n",
       "      <td>Художественный</td>\n",
       "      <td>Тачстоун Пикчерз, Кобальт Пикчерз, Бикон Пикче...</td>\n",
       "      <td>США</td>\n",
       "      <td>Кевин Костнер</td>\n",
       "      <td>Дэвид Валдес, Кевин Костнер, Джейк Эбертс</td>\n",
       "      <td>«18+» - запрещено для детей</td>\n",
       "      <td>NaN</td>\n",
       "      <td>NaN</td>\n",
       "      <td>NaN</td>\n",
       "      <td>NaN</td>\n",
       "      <td>7.2</td>\n",
       "      <td>боевик,драма,мелодрама</td>\n",
       "      <td>NaN</td>\n",
       "      <td>2015</td>\n",
       "      <td>Кевин Костнер</td>\n",
       "      <td>боевик</td>\n",
       "    </tr>\n",
       "    <tr>\n",
       "      <td>1</td>\n",
       "      <td>Особо важное задание</td>\n",
       "      <td>111013716</td>\n",
       "      <td>2016-09-13 12:00:00+00:00</td>\n",
       "      <td>Художественный</td>\n",
       "      <td>Киностудия \"Мосфильм\"</td>\n",
       "      <td>СССР</td>\n",
       "      <td>Е.Матвеев</td>\n",
       "      <td>NaN</td>\n",
       "      <td>«6+» - для детей старше 6 лет</td>\n",
       "      <td>NaN</td>\n",
       "      <td>NaN</td>\n",
       "      <td>NaN</td>\n",
       "      <td>NaN</td>\n",
       "      <td>6.6</td>\n",
       "      <td>драма,военный</td>\n",
       "      <td>NaN</td>\n",
       "      <td>2016</td>\n",
       "      <td>Е.Матвеев</td>\n",
       "      <td>драма</td>\n",
       "    </tr>\n",
       "    <tr>\n",
       "      <td>2</td>\n",
       "      <td>Особо опасен</td>\n",
       "      <td>221038416</td>\n",
       "      <td>2016-10-10 12:00:00+00:00</td>\n",
       "      <td>Художественный</td>\n",
       "      <td>Юниверсал Пикчерз, Кикстарт Продакшнз, Марк Пл...</td>\n",
       "      <td>США</td>\n",
       "      <td>Тимур Бекмамбетов</td>\n",
       "      <td>Джим Лемли, Джейсон Нетер, Марк Е.Платт, Яйн Смит</td>\n",
       "      <td>«18+» - запрещено для детей</td>\n",
       "      <td>NaN</td>\n",
       "      <td>NaN</td>\n",
       "      <td>NaN</td>\n",
       "      <td>NaN</td>\n",
       "      <td>6.8</td>\n",
       "      <td>фантастика,боевик,триллер</td>\n",
       "      <td>NaN</td>\n",
       "      <td>2016</td>\n",
       "      <td>Тимур Бекмамбетов</td>\n",
       "      <td>фантастика</td>\n",
       "    </tr>\n",
       "    <tr>\n",
       "      <td>3</td>\n",
       "      <td>Особо опасен</td>\n",
       "      <td>221026916</td>\n",
       "      <td>2016-06-10 12:00:00+00:00</td>\n",
       "      <td>Художественный</td>\n",
       "      <td>Юниверсал Пикчерз, Кикстарт Продакшнз, Марк Пл...</td>\n",
       "      <td>США</td>\n",
       "      <td>Тимур Бекмамбетов</td>\n",
       "      <td>Джим Лемли, Джейсон Нетер, Марк Е.Платт, Яйн Смит</td>\n",
       "      <td>«18+» - запрещено для детей</td>\n",
       "      <td>NaN</td>\n",
       "      <td>NaN</td>\n",
       "      <td>NaN</td>\n",
       "      <td>NaN</td>\n",
       "      <td>6.8</td>\n",
       "      <td>фантастика,боевик,триллер</td>\n",
       "      <td>NaN</td>\n",
       "      <td>2016</td>\n",
       "      <td>Тимур Бекмамбетов</td>\n",
       "      <td>фантастика</td>\n",
       "    </tr>\n",
       "    <tr>\n",
       "      <td>4</td>\n",
       "      <td>Особо опасен</td>\n",
       "      <td>221030815</td>\n",
       "      <td>2015-07-29 12:00:00+00:00</td>\n",
       "      <td>Художественный</td>\n",
       "      <td>Юниверсал Пикчерз, Кикстарт Продакшнз, Марк Пл...</td>\n",
       "      <td>США</td>\n",
       "      <td>Тимур Бекмамбетов</td>\n",
       "      <td>Джим Лемли, Джейсон Нетер, Марк Е.Платт, Яйн Смит</td>\n",
       "      <td>«18+» - запрещено для детей</td>\n",
       "      <td>NaN</td>\n",
       "      <td>NaN</td>\n",
       "      <td>NaN</td>\n",
       "      <td>NaN</td>\n",
       "      <td>6.8</td>\n",
       "      <td>фантастика,боевик,триллер</td>\n",
       "      <td>NaN</td>\n",
       "      <td>2015</td>\n",
       "      <td>Тимур Бекмамбетов</td>\n",
       "      <td>фантастика</td>\n",
       "    </tr>\n",
       "  </tbody>\n",
       "</table>\n",
       "</div>"
      ],
      "text/plain": [
       "                  title   puNumber           show_start_date            type  \\\n",
       "0      Открытый простор  221048915 2015-11-27 12:00:00+00:00  Художественный   \n",
       "1  Особо важное задание  111013716 2016-09-13 12:00:00+00:00  Художественный   \n",
       "2          Особо опасен  221038416 2016-10-10 12:00:00+00:00  Художественный   \n",
       "3          Особо опасен  221026916 2016-06-10 12:00:00+00:00  Художественный   \n",
       "4          Особо опасен  221030815 2015-07-29 12:00:00+00:00  Художественный   \n",
       "\n",
       "                                         film_studio production_country  \\\n",
       "0  Тачстоун Пикчерз, Кобальт Пикчерз, Бикон Пикче...                США   \n",
       "1                              Киностудия \"Мосфильм\"               СССР   \n",
       "2  Юниверсал Пикчерз, Кикстарт Продакшнз, Марк Пл...                США   \n",
       "3  Юниверсал Пикчерз, Кикстарт Продакшнз, Марк Пл...                США   \n",
       "4  Юниверсал Пикчерз, Кикстарт Продакшнз, Марк Пл...                США   \n",
       "\n",
       "            director                                           producer  \\\n",
       "0      Кевин Костнер          Дэвид Валдес, Кевин Костнер, Джейк Эбертс   \n",
       "1          Е.Матвеев                                                NaN   \n",
       "2  Тимур Бекмамбетов  Джим Лемли, Джейсон Нетер, Марк Е.Платт, Яйн Смит   \n",
       "3  Тимур Бекмамбетов  Джим Лемли, Джейсон Нетер, Марк Е.Платт, Яйн Смит   \n",
       "4  Тимур Бекмамбетов  Джим Лемли, Джейсон Нетер, Марк Е.Платт, Яйн Смит   \n",
       "\n",
       "                 age_restriction  refundable_support  nonrefundable_support  \\\n",
       "0    «18+» - запрещено для детей                 NaN                    NaN   \n",
       "1  «6+» - для детей старше 6 лет                 NaN                    NaN   \n",
       "2    «18+» - запрещено для детей                 NaN                    NaN   \n",
       "3    «18+» - запрещено для детей                 NaN                    NaN   \n",
       "4    «18+» - запрещено для детей                 NaN                    NaN   \n",
       "\n",
       "   budget financing_source  ratings                     genres  box_office  \\\n",
       "0     NaN              NaN      7.2     боевик,драма,мелодрама         NaN   \n",
       "1     NaN              NaN      6.6              драма,военный         NaN   \n",
       "2     NaN              NaN      6.8  фантастика,боевик,триллер         NaN   \n",
       "3     NaN              NaN      6.8  фантастика,боевик,триллер         NaN   \n",
       "4     NaN              NaN      6.8  фантастика,боевик,триллер         NaN   \n",
       "\n",
       "   year      head_director  main_genre  \n",
       "0  2015      Кевин Костнер      боевик  \n",
       "1  2016          Е.Матвеев       драма  \n",
       "2  2016  Тимур Бекмамбетов  фантастика  \n",
       "3  2016  Тимур Бекмамбетов  фантастика  \n",
       "4  2015  Тимур Бекмамбетов  фантастика  "
      ]
     },
     "execution_count": 36,
     "metadata": {},
     "output_type": "execute_result"
    }
   ],
   "source": [
    "movies['head_director'] = movies['director'].apply( get_first_value, args = ',') #применяем функцию к столбцу director\n",
    "movies['main_genre'] = movies['genres'].apply( get_first_value, args = ',') #применяем функцию к столбцу genres\n",
    "movies.head()"
   ]
  },
  {
   "cell_type": "code",
   "execution_count": 37,
   "metadata": {},
   "outputs": [
    {
     "data": {
      "text/html": [
       "<div>\n",
       "<style scoped>\n",
       "    .dataframe tbody tr th:only-of-type {\n",
       "        vertical-align: middle;\n",
       "    }\n",
       "\n",
       "    .dataframe tbody tr th {\n",
       "        vertical-align: top;\n",
       "    }\n",
       "\n",
       "    .dataframe thead th {\n",
       "        text-align: right;\n",
       "    }\n",
       "</style>\n",
       "<table border=\"1\" class=\"dataframe\">\n",
       "  <thead>\n",
       "    <tr style=\"text-align: right;\">\n",
       "      <th></th>\n",
       "      <th>title</th>\n",
       "      <th>puNumber</th>\n",
       "      <th>show_start_date</th>\n",
       "      <th>type</th>\n",
       "      <th>film_studio</th>\n",
       "      <th>production_country</th>\n",
       "      <th>director</th>\n",
       "      <th>producer</th>\n",
       "      <th>age_restriction</th>\n",
       "      <th>refundable_support</th>\n",
       "      <th>nonrefundable_support</th>\n",
       "      <th>budget</th>\n",
       "      <th>financing_source</th>\n",
       "      <th>ratings</th>\n",
       "      <th>genres</th>\n",
       "      <th>box_office</th>\n",
       "      <th>year</th>\n",
       "      <th>head_director</th>\n",
       "      <th>main_genre</th>\n",
       "      <th>share_budget</th>\n",
       "    </tr>\n",
       "  </thead>\n",
       "  <tbody>\n",
       "    <tr>\n",
       "      <td>1281</td>\n",
       "      <td>Пока еще жива</td>\n",
       "      <td>111005313</td>\n",
       "      <td>2013-10-11 12:00:00+00:00</td>\n",
       "      <td>Художественный</td>\n",
       "      <td>АНО содействия развитию кинематографии \"Ангел-...</td>\n",
       "      <td>Россия</td>\n",
       "      <td>А.Атанесян</td>\n",
       "      <td>А.Атанесян, М.Бабаханов, Р.Бутко</td>\n",
       "      <td>«16+» - для детей старше 16 лет</td>\n",
       "      <td>0.0</td>\n",
       "      <td>26500000.0</td>\n",
       "      <td>79411900.0</td>\n",
       "      <td>Министерство культуры</td>\n",
       "      <td>8.1</td>\n",
       "      <td>драма,мелодрама</td>\n",
       "      <td>365353.6</td>\n",
       "      <td>2013</td>\n",
       "      <td>А.Атанесян</td>\n",
       "      <td>драма</td>\n",
       "      <td>0.333703</td>\n",
       "    </tr>\n",
       "    <tr>\n",
       "      <td>1448</td>\n",
       "      <td>Бесславные придурки</td>\n",
       "      <td>111003314</td>\n",
       "      <td>2014-03-28 12:00:00+00:00</td>\n",
       "      <td>Художественный</td>\n",
       "      <td>ООО \"Компания \"АТК-Студио\"</td>\n",
       "      <td>Россия</td>\n",
       "      <td>А.Якимчук</td>\n",
       "      <td>А.Тютрюмов</td>\n",
       "      <td>«12+» - для детей старше 12 лет</td>\n",
       "      <td>0.0</td>\n",
       "      <td>26000000.0</td>\n",
       "      <td>37142857.0</td>\n",
       "      <td>Министерство культуры</td>\n",
       "      <td>NaN</td>\n",
       "      <td>NaN</td>\n",
       "      <td>28140.0</td>\n",
       "      <td>2014</td>\n",
       "      <td>А.Якимчук</td>\n",
       "      <td>NaN</td>\n",
       "      <td>0.700000</td>\n",
       "    </tr>\n",
       "    <tr>\n",
       "      <td>1498</td>\n",
       "      <td>Невидимки</td>\n",
       "      <td>111004213</td>\n",
       "      <td>2013-09-10 12:00:00+00:00</td>\n",
       "      <td>Художественный</td>\n",
       "      <td>ООО \"Компания \"РЕАЛ-ДАКОТА\"</td>\n",
       "      <td>Россия</td>\n",
       "      <td>Р.Давлетьяров, С.Комаров</td>\n",
       "      <td>Р.Давлетьяров, А.Котелевский, А.Олейников</td>\n",
       "      <td>«12+» - для детей старше 12 лет</td>\n",
       "      <td>0.0</td>\n",
       "      <td>107847945.0</td>\n",
       "      <td>176023490.0</td>\n",
       "      <td>Фонд кино</td>\n",
       "      <td>5.3</td>\n",
       "      <td>комедия,фантастика</td>\n",
       "      <td>19957031.5</td>\n",
       "      <td>2013</td>\n",
       "      <td>Р.Давлетьяров</td>\n",
       "      <td>комедия</td>\n",
       "      <td>0.612691</td>\n",
       "    </tr>\n",
       "    <tr>\n",
       "      <td>1524</td>\n",
       "      <td>БЕРЦЫ</td>\n",
       "      <td>111004314</td>\n",
       "      <td>2014-05-05 12:00:00+00:00</td>\n",
       "      <td>Художественный</td>\n",
       "      <td>ООО \"Студия \"Пассажир\"</td>\n",
       "      <td>Россия</td>\n",
       "      <td>Е.Миндадзе (псевдоним Катя Шагалова)</td>\n",
       "      <td>Л.Антонова</td>\n",
       "      <td>«16+» - для детей старше 16 лет</td>\n",
       "      <td>0.0</td>\n",
       "      <td>28000000.0</td>\n",
       "      <td>40574140.0</td>\n",
       "      <td>Министерство культуры</td>\n",
       "      <td>4.2</td>\n",
       "      <td>драма</td>\n",
       "      <td>55917.5</td>\n",
       "      <td>2014</td>\n",
       "      <td>Е.Миндадзе (псевдоним Катя Шагалова)</td>\n",
       "      <td>драма</td>\n",
       "      <td>0.690095</td>\n",
       "    </tr>\n",
       "    <tr>\n",
       "      <td>1792</td>\n",
       "      <td>Братья Ч</td>\n",
       "      <td>111004414</td>\n",
       "      <td>2014-04-23 12:00:00+00:00</td>\n",
       "      <td>Художественный</td>\n",
       "      <td>ООО \"Студия \"Пассажир\"</td>\n",
       "      <td>Россия</td>\n",
       "      <td>М.Угаров</td>\n",
       "      <td>А.Миндадзе, Л.Антонова</td>\n",
       "      <td>«16+» - для детей старше 16 лет</td>\n",
       "      <td>0.0</td>\n",
       "      <td>25000000.0</td>\n",
       "      <td>40015122.0</td>\n",
       "      <td>Министерство культуры</td>\n",
       "      <td>6.4</td>\n",
       "      <td>драма</td>\n",
       "      <td>232100.0</td>\n",
       "      <td>2014</td>\n",
       "      <td>М.Угаров</td>\n",
       "      <td>драма</td>\n",
       "      <td>0.624764</td>\n",
       "    </tr>\n",
       "  </tbody>\n",
       "</table>\n",
       "</div>"
      ],
      "text/plain": [
       "                    title   puNumber           show_start_date  \\\n",
       "1281        Пока еще жива  111005313 2013-10-11 12:00:00+00:00   \n",
       "1448  Бесславные придурки  111003314 2014-03-28 12:00:00+00:00   \n",
       "1498            Невидимки  111004213 2013-09-10 12:00:00+00:00   \n",
       "1524                БЕРЦЫ  111004314 2014-05-05 12:00:00+00:00   \n",
       "1792             Братья Ч  111004414 2014-04-23 12:00:00+00:00   \n",
       "\n",
       "                type                                        film_studio  \\\n",
       "1281  Художественный  АНО содействия развитию кинематографии \"Ангел-...   \n",
       "1448  Художественный                         ООО \"Компания \"АТК-Студио\"   \n",
       "1498  Художественный                        ООО \"Компания \"РЕАЛ-ДАКОТА\"   \n",
       "1524  Художественный                             ООО \"Студия \"Пассажир\"   \n",
       "1792  Художественный                             ООО \"Студия \"Пассажир\"   \n",
       "\n",
       "     production_country                              director  \\\n",
       "1281             Россия                            А.Атанесян   \n",
       "1448             Россия                             А.Якимчук   \n",
       "1498             Россия              Р.Давлетьяров, С.Комаров   \n",
       "1524             Россия  Е.Миндадзе (псевдоним Катя Шагалова)   \n",
       "1792             Россия                              М.Угаров   \n",
       "\n",
       "                                       producer  \\\n",
       "1281           А.Атанесян, М.Бабаханов, Р.Бутко   \n",
       "1448                                 А.Тютрюмов   \n",
       "1498  Р.Давлетьяров, А.Котелевский, А.Олейников   \n",
       "1524                                 Л.Антонова   \n",
       "1792                     А.Миндадзе, Л.Антонова   \n",
       "\n",
       "                      age_restriction  refundable_support  \\\n",
       "1281  «16+» - для детей старше 16 лет                 0.0   \n",
       "1448  «12+» - для детей старше 12 лет                 0.0   \n",
       "1498  «12+» - для детей старше 12 лет                 0.0   \n",
       "1524  «16+» - для детей старше 16 лет                 0.0   \n",
       "1792  «16+» - для детей старше 16 лет                 0.0   \n",
       "\n",
       "      nonrefundable_support       budget       financing_source  ratings  \\\n",
       "1281             26500000.0   79411900.0  Министерство культуры      8.1   \n",
       "1448             26000000.0   37142857.0  Министерство культуры      NaN   \n",
       "1498            107847945.0  176023490.0              Фонд кино      5.3   \n",
       "1524             28000000.0   40574140.0  Министерство культуры      4.2   \n",
       "1792             25000000.0   40015122.0  Министерство культуры      6.4   \n",
       "\n",
       "                  genres  box_office  year  \\\n",
       "1281     драма,мелодрама    365353.6  2013   \n",
       "1448                 NaN     28140.0  2014   \n",
       "1498  комедия,фантастика  19957031.5  2013   \n",
       "1524               драма     55917.5  2014   \n",
       "1792               драма    232100.0  2014   \n",
       "\n",
       "                             head_director main_genre  share_budget  \n",
       "1281                            А.Атанесян      драма      0.333703  \n",
       "1448                             А.Якимчук        NaN      0.700000  \n",
       "1498                         Р.Давлетьяров    комедия      0.612691  \n",
       "1524  Е.Миндадзе (псевдоним Катя Шагалова)      драма      0.690095  \n",
       "1792                              М.Угаров      драма      0.624764  "
      ]
     },
     "execution_count": 37,
     "metadata": {},
     "output_type": "execute_result"
    }
   ],
   "source": [
    "def budget_share(row):\n",
    "    \"\"\"Функция для расчета доли гос. поддержки от общего бюджета фильма\"\"\"\n",
    "    \n",
    "    if row['budget'] > 0:\n",
    "        return (row['nonrefundable_support'] + row['refundable_support']) / row['budget'] \n",
    "    \n",
    "    return 0\n",
    "\n",
    "movies['share_budget'] = movies.apply(budget_share, axis = 1) #применяем функцию к датафрейму\n",
    "movies[movies['share_budget'] != 0].head()"
   ]
  },
  {
   "cell_type": "markdown",
   "metadata": {},
   "source": [
    "**Вывод:** В датасет movies были добавлены столбцы year, head_director, main_genre и share_budget:\n",
    "- year - год премьеры фильма.\n",
    "- head_director - имя главного режиссера.\n",
    "- main_genre - наименование основного жанра фильма.\n",
    "- share_budget - доля суммы невозвратной части и возвратной от общего бюджета."
   ]
  },
  {
   "cell_type": "markdown",
   "metadata": {
    "id": "6t4EukPLgFyV"
   },
   "source": [
    "### Шаг 3. Исследовательский анализ данных"
   ]
  },
  {
   "cell_type": "code",
   "execution_count": 38,
   "metadata": {
    "id": "ABeV47y7gFyW"
   },
   "outputs": [
    {
     "data": {
      "text/html": [
       "<div>\n",
       "<style scoped>\n",
       "    .dataframe tbody tr th:only-of-type {\n",
       "        vertical-align: middle;\n",
       "    }\n",
       "\n",
       "    .dataframe tbody tr th {\n",
       "        vertical-align: top;\n",
       "    }\n",
       "\n",
       "    .dataframe thead th {\n",
       "        text-align: right;\n",
       "    }\n",
       "</style>\n",
       "<table border=\"1\" class=\"dataframe\">\n",
       "  <thead>\n",
       "    <tr style=\"text-align: right;\">\n",
       "      <th></th>\n",
       "      <th>box_office_count</th>\n",
       "      <th>total_count</th>\n",
       "      <th>ratio</th>\n",
       "    </tr>\n",
       "    <tr>\n",
       "      <th>year</th>\n",
       "      <th></th>\n",
       "      <th></th>\n",
       "      <th></th>\n",
       "    </tr>\n",
       "  </thead>\n",
       "  <tbody>\n",
       "    <tr>\n",
       "      <td>2010</td>\n",
       "      <td>105</td>\n",
       "      <td>979</td>\n",
       "      <td>10.73</td>\n",
       "    </tr>\n",
       "    <tr>\n",
       "      <td>2011</td>\n",
       "      <td>109</td>\n",
       "      <td>620</td>\n",
       "      <td>17.58</td>\n",
       "    </tr>\n",
       "    <tr>\n",
       "      <td>2012</td>\n",
       "      <td>127</td>\n",
       "      <td>592</td>\n",
       "      <td>21.45</td>\n",
       "    </tr>\n",
       "    <tr>\n",
       "      <td>2013</td>\n",
       "      <td>184</td>\n",
       "      <td>628</td>\n",
       "      <td>29.30</td>\n",
       "    </tr>\n",
       "    <tr>\n",
       "      <td>2014</td>\n",
       "      <td>279</td>\n",
       "      <td>806</td>\n",
       "      <td>34.62</td>\n",
       "    </tr>\n",
       "    <tr>\n",
       "      <td>2015</td>\n",
       "      <td>465</td>\n",
       "      <td>705</td>\n",
       "      <td>65.96</td>\n",
       "    </tr>\n",
       "    <tr>\n",
       "      <td>2016</td>\n",
       "      <td>526</td>\n",
       "      <td>818</td>\n",
       "      <td>64.30</td>\n",
       "    </tr>\n",
       "    <tr>\n",
       "      <td>2017</td>\n",
       "      <td>357</td>\n",
       "      <td>505</td>\n",
       "      <td>70.69</td>\n",
       "    </tr>\n",
       "    <tr>\n",
       "      <td>2018</td>\n",
       "      <td>475</td>\n",
       "      <td>889</td>\n",
       "      <td>53.43</td>\n",
       "    </tr>\n",
       "    <tr>\n",
       "      <td>2019</td>\n",
       "      <td>530</td>\n",
       "      <td>930</td>\n",
       "      <td>56.99</td>\n",
       "    </tr>\n",
       "  </tbody>\n",
       "</table>\n",
       "</div>"
      ],
      "text/plain": [
       "      box_office_count  total_count  ratio\n",
       "year                                      \n",
       "2010               105          979  10.73\n",
       "2011               109          620  17.58\n",
       "2012               127          592  21.45\n",
       "2013               184          628  29.30\n",
       "2014               279          806  34.62\n",
       "2015               465          705  65.96\n",
       "2016               526          818  64.30\n",
       "2017               357          505  70.69\n",
       "2018               475          889  53.43\n",
       "2019               530          930  56.99"
      ]
     },
     "execution_count": 38,
     "metadata": {},
     "output_type": "execute_result"
    }
   ],
   "source": [
    "pvt_box_office = movies.pivot_table(index = 'year', values = ['title', 'box_office'] , aggfunc = 'count')\n",
    "#составляю сводную таблиц с количеством фильмов, для которых извесно был ли прокат в кинотеатре \n",
    "#и общим количеством фильмов\n",
    "pvt_box_office.columns = ['box_office_count', 'total_count']\n",
    "#переименовываю наименование колонок\n",
    "pvt_box_office['ratio'] = round(pvt_box_office['box_office_count'] / pvt_box_office['total_count'] * 100, 2)\n",
    "#добавляю столбец с долей фильмов, у которых был прокат в кинотеатре к общему количеству фильмов\n",
    "pvt_box_office"
   ]
  },
  {
   "cell_type": "code",
   "execution_count": 39,
   "metadata": {},
   "outputs": [
    {
     "data": {
      "text/html": [
       "<style  type=\"text/css\" >\n",
       "</style><table id=\"T_8bb08ef8_1e58_11ec_aa04_02420a390fe8\" ><thead>    <tr>        <th class=\"blank level0\" ></th>        <th class=\"col_heading level0 col0\" >box_office</th>    </tr>    <tr>        <th class=\"index_name level0\" >year</th>        <th class=\"blank\" ></th>    </tr></thead><tbody>\n",
       "                <tr>\n",
       "                        <th id=\"T_8bb08ef8_1e58_11ec_aa04_02420a390fe8level0_row0\" class=\"row_heading level0 row0\" >2010</th>\n",
       "                        <td id=\"T_8bb08ef8_1e58_11ec_aa04_02420a390fe8row0_col0\" class=\"data row0 col0\" >2428654.0</td>\n",
       "            </tr>\n",
       "            <tr>\n",
       "                        <th id=\"T_8bb08ef8_1e58_11ec_aa04_02420a390fe8level0_row1\" class=\"row_heading level0 row1\" >2011</th>\n",
       "                        <td id=\"T_8bb08ef8_1e58_11ec_aa04_02420a390fe8row1_col0\" class=\"data row1 col0\" >14102765.0</td>\n",
       "            </tr>\n",
       "            <tr>\n",
       "                        <th id=\"T_8bb08ef8_1e58_11ec_aa04_02420a390fe8level0_row2\" class=\"row_heading level0 row2\" >2012</th>\n",
       "                        <td id=\"T_8bb08ef8_1e58_11ec_aa04_02420a390fe8row2_col0\" class=\"data row2 col0\" >6911073.0</td>\n",
       "            </tr>\n",
       "            <tr>\n",
       "                        <th id=\"T_8bb08ef8_1e58_11ec_aa04_02420a390fe8level0_row3\" class=\"row_heading level0 row3\" >2013</th>\n",
       "                        <td id=\"T_8bb08ef8_1e58_11ec_aa04_02420a390fe8row3_col0\" class=\"data row3 col0\" >29799706.2</td>\n",
       "            </tr>\n",
       "            <tr>\n",
       "                        <th id=\"T_8bb08ef8_1e58_11ec_aa04_02420a390fe8level0_row4\" class=\"row_heading level0 row4\" >2014</th>\n",
       "                        <td id=\"T_8bb08ef8_1e58_11ec_aa04_02420a390fe8row4_col0\" class=\"data row4 col0\" >7444951859.2</td>\n",
       "            </tr>\n",
       "            <tr>\n",
       "                        <th id=\"T_8bb08ef8_1e58_11ec_aa04_02420a390fe8level0_row5\" class=\"row_heading level0 row5\" >2015</th>\n",
       "                        <td id=\"T_8bb08ef8_1e58_11ec_aa04_02420a390fe8row5_col0\" class=\"data row5 col0\" >39497365196.4</td>\n",
       "            </tr>\n",
       "            <tr>\n",
       "                        <th id=\"T_8bb08ef8_1e58_11ec_aa04_02420a390fe8level0_row6\" class=\"row_heading level0 row6\" >2016</th>\n",
       "                        <td id=\"T_8bb08ef8_1e58_11ec_aa04_02420a390fe8row6_col0\" class=\"data row6 col0\" >47866299741.9</td>\n",
       "            </tr>\n",
       "            <tr>\n",
       "                        <th id=\"T_8bb08ef8_1e58_11ec_aa04_02420a390fe8level0_row7\" class=\"row_heading level0 row7\" >2017</th>\n",
       "                        <td id=\"T_8bb08ef8_1e58_11ec_aa04_02420a390fe8row7_col0\" class=\"data row7 col0\" >48563707217.5</td>\n",
       "            </tr>\n",
       "            <tr>\n",
       "                        <th id=\"T_8bb08ef8_1e58_11ec_aa04_02420a390fe8level0_row8\" class=\"row_heading level0 row8\" >2018</th>\n",
       "                        <td id=\"T_8bb08ef8_1e58_11ec_aa04_02420a390fe8row8_col0\" class=\"data row8 col0\" >49668403134.3</td>\n",
       "            </tr>\n",
       "            <tr>\n",
       "                        <th id=\"T_8bb08ef8_1e58_11ec_aa04_02420a390fe8level0_row9\" class=\"row_heading level0 row9\" >2019</th>\n",
       "                        <td id=\"T_8bb08ef8_1e58_11ec_aa04_02420a390fe8row9_col0\" class=\"data row9 col0\" >48425708779.6</td>\n",
       "            </tr>\n",
       "    </tbody></table>"
      ],
      "text/plain": [
       "<pandas.io.formats.style.Styler at 0x7fbafed3a410>"
      ]
     },
     "execution_count": 39,
     "metadata": {},
     "output_type": "execute_result"
    }
   ],
   "source": [
    "pvt_sum = movies.pivot_table(index = 'year', \n",
    "                             values = ['box_office'] , \n",
    "                             aggfunc = 'sum')\n",
    "#сводная таблица с сумой сборов в кинотеатре за каждый год\n",
    "pvt_sum.style.format('{:.1f}', subset = 'box_office') #убираю экспоненту при выводе на экран"
   ]
  },
  {
   "cell_type": "code",
   "execution_count": 40,
   "metadata": {
    "id": "jmp-rgg9gFyY"
   },
   "outputs": [
    {
     "data": {
      "text/html": [
       "<style  type=\"text/css\" >\n",
       "</style><table id=\"T_8bb54218_1e58_11ec_aa04_02420a390fe8\" ><thead>    <tr>        <th class=\"blank level0\" ></th>        <th class=\"col_heading level0 col0\" >mean</th>        <th class=\"col_heading level0 col1\" >median</th>    </tr>    <tr>        <th class=\"blank level1\" ></th>        <th class=\"col_heading level1 col0\" >box_office</th>        <th class=\"col_heading level1 col1\" >box_office</th>    </tr>    <tr>        <th class=\"index_name level0\" >year</th>        <th class=\"blank\" ></th>        <th class=\"blank\" ></th>    </tr></thead><tbody>\n",
       "                <tr>\n",
       "                        <th id=\"T_8bb54218_1e58_11ec_aa04_02420a390fe8level0_row0\" class=\"row_heading level0 row0\" >2010</th>\n",
       "                        <td id=\"T_8bb54218_1e58_11ec_aa04_02420a390fe8row0_col0\" class=\"data row0 col0\" >23130.0</td>\n",
       "                        <td id=\"T_8bb54218_1e58_11ec_aa04_02420a390fe8row0_col1\" class=\"data row0 col1\" >1700.0</td>\n",
       "            </tr>\n",
       "            <tr>\n",
       "                        <th id=\"T_8bb54218_1e58_11ec_aa04_02420a390fe8level0_row1\" class=\"row_heading level0 row1\" >2011</th>\n",
       "                        <td id=\"T_8bb54218_1e58_11ec_aa04_02420a390fe8row1_col0\" class=\"data row1 col0\" >129383.2</td>\n",
       "                        <td id=\"T_8bb54218_1e58_11ec_aa04_02420a390fe8row1_col1\" class=\"data row1 col1\" >3000.0</td>\n",
       "            </tr>\n",
       "            <tr>\n",
       "                        <th id=\"T_8bb54218_1e58_11ec_aa04_02420a390fe8level0_row2\" class=\"row_heading level0 row2\" >2012</th>\n",
       "                        <td id=\"T_8bb54218_1e58_11ec_aa04_02420a390fe8row2_col0\" class=\"data row2 col0\" >54417.9</td>\n",
       "                        <td id=\"T_8bb54218_1e58_11ec_aa04_02420a390fe8row2_col1\" class=\"data row2 col1\" >5560.0</td>\n",
       "            </tr>\n",
       "            <tr>\n",
       "                        <th id=\"T_8bb54218_1e58_11ec_aa04_02420a390fe8level0_row3\" class=\"row_heading level0 row3\" >2013</th>\n",
       "                        <td id=\"T_8bb54218_1e58_11ec_aa04_02420a390fe8row3_col0\" class=\"data row3 col0\" >161954.9</td>\n",
       "                        <td id=\"T_8bb54218_1e58_11ec_aa04_02420a390fe8row3_col1\" class=\"data row3 col1\" >3522.5</td>\n",
       "            </tr>\n",
       "            <tr>\n",
       "                        <th id=\"T_8bb54218_1e58_11ec_aa04_02420a390fe8level0_row4\" class=\"row_heading level0 row4\" >2014</th>\n",
       "                        <td id=\"T_8bb54218_1e58_11ec_aa04_02420a390fe8row4_col0\" class=\"data row4 col0\" >26684415.3</td>\n",
       "                        <td id=\"T_8bb54218_1e58_11ec_aa04_02420a390fe8row4_col1\" class=\"data row4 col1\" >18160.0</td>\n",
       "            </tr>\n",
       "            <tr>\n",
       "                        <th id=\"T_8bb54218_1e58_11ec_aa04_02420a390fe8level0_row5\" class=\"row_heading level0 row5\" >2015</th>\n",
       "                        <td id=\"T_8bb54218_1e58_11ec_aa04_02420a390fe8row5_col0\" class=\"data row5 col0\" >84940570.3</td>\n",
       "                        <td id=\"T_8bb54218_1e58_11ec_aa04_02420a390fe8row5_col1\" class=\"data row5 col1\" >4920933.0</td>\n",
       "            </tr>\n",
       "            <tr>\n",
       "                        <th id=\"T_8bb54218_1e58_11ec_aa04_02420a390fe8level0_row6\" class=\"row_heading level0 row6\" >2016</th>\n",
       "                        <td id=\"T_8bb54218_1e58_11ec_aa04_02420a390fe8row6_col0\" class=\"data row6 col0\" >91000569.9</td>\n",
       "                        <td id=\"T_8bb54218_1e58_11ec_aa04_02420a390fe8row6_col1\" class=\"data row6 col1\" >3846679.4</td>\n",
       "            </tr>\n",
       "            <tr>\n",
       "                        <th id=\"T_8bb54218_1e58_11ec_aa04_02420a390fe8level0_row7\" class=\"row_heading level0 row7\" >2017</th>\n",
       "                        <td id=\"T_8bb54218_1e58_11ec_aa04_02420a390fe8row7_col0\" class=\"data row7 col0\" >136032793.3</td>\n",
       "                        <td id=\"T_8bb54218_1e58_11ec_aa04_02420a390fe8row7_col1\" class=\"data row7 col1\" >9968340.0</td>\n",
       "            </tr>\n",
       "            <tr>\n",
       "                        <th id=\"T_8bb54218_1e58_11ec_aa04_02420a390fe8level0_row8\" class=\"row_heading level0 row8\" >2018</th>\n",
       "                        <td id=\"T_8bb54218_1e58_11ec_aa04_02420a390fe8row8_col0\" class=\"data row8 col0\" >104565059.2</td>\n",
       "                        <td id=\"T_8bb54218_1e58_11ec_aa04_02420a390fe8row8_col1\" class=\"data row8 col1\" >8891102.2</td>\n",
       "            </tr>\n",
       "            <tr>\n",
       "                        <th id=\"T_8bb54218_1e58_11ec_aa04_02420a390fe8level0_row9\" class=\"row_heading level0 row9\" >2019</th>\n",
       "                        <td id=\"T_8bb54218_1e58_11ec_aa04_02420a390fe8row9_col0\" class=\"data row9 col0\" >91369261.8</td>\n",
       "                        <td id=\"T_8bb54218_1e58_11ec_aa04_02420a390fe8row9_col1\" class=\"data row9 col1\" >4627798.3</td>\n",
       "            </tr>\n",
       "    </tbody></table>"
      ],
      "text/plain": [
       "<pandas.io.formats.style.Styler at 0x7fbafe8951d0>"
      ]
     },
     "execution_count": 40,
     "metadata": {},
     "output_type": "execute_result"
    }
   ],
   "source": [
    "pvt_box_office = movies.pivot_table(index = 'year',\n",
    "                                   values = 'box_office', \n",
    "                                   aggfunc = ['mean','median'])\n",
    "#сводная таблица с средним и медианным значением сборов за каждый год\n",
    "\n",
    "pvt_box_office.style.format('{:.1f}', subset =['mean','median']) #убираю экспоненту при выводе на экран"
   ]
  },
  {
   "cell_type": "code",
   "execution_count": 41,
   "metadata": {},
   "outputs": [],
   "source": [
    "def pvt_plot(pvt, figsize, grid, title, xlabel, ylabel):\n",
    "    \"\"\"Функция для построения графиков\"\"\"\n",
    "    pvt.plot(figsize = figsize, grid = grid) \n",
    "    plt.title(title) #наименование графика\n",
    "    plt.xlabel(xlabel) #наименование оси x\n",
    "    plt.ylabel(ylabel) #наименование оси y\n",
    "    plt.show()"
   ]
  },
  {
   "cell_type": "code",
   "execution_count": 42,
   "metadata": {},
   "outputs": [
    {
     "data": {
      "image/png": "[encoded data removed]",
      "text/plain": [
       "<Figure size 720x360 with 1 Axes>"
      ]
     },
     "metadata": {
      "needs_background": "light"
     },
     "output_type": "display_data"
    }
   ],
   "source": [
    "pvt_plot(pvt_box_office, (10, 5), True, 'Средние и медианные значения сборов в рублях с 2010 по 2019 год',\n",
    "        'Год', 'Сборы, рублей') #строю график, используя функцию pvt_plot"
   ]
  },
  {
   "cell_type": "code",
   "execution_count": 43,
   "metadata": {
    "id": "jsSbEqfjgFya"
   },
   "outputs": [
    {
     "data": {
      "text/html": [
       "<style  type=\"text/css\" >\n",
       "</style><table id=\"T_8bfabdca_1e58_11ec_aa04_02420a390fe8\" ><thead>    <tr>        <th class=\"blank level0\" ></th>        <th class=\"col_heading level0 col0\" >0+</th>        <th class=\"col_heading level0 col1\" >12+</th>        <th class=\"col_heading level0 col2\" >16+</th>        <th class=\"col_heading level0 col3\" >18+</th>        <th class=\"col_heading level0 col4\" >6+</th>    </tr>    <tr>        <th class=\"index_name level0\" >year</th>        <th class=\"blank\" ></th>        <th class=\"blank\" ></th>        <th class=\"blank\" ></th>        <th class=\"blank\" ></th>        <th class=\"blank\" ></th>    </tr></thead><tbody>\n",
       "                <tr>\n",
       "                        <th id=\"T_8bfabdca_1e58_11ec_aa04_02420a390fe8level0_row0\" class=\"row_heading level0 row0\" >2015</th>\n",
       "                        <td id=\"T_8bfabdca_1e58_11ec_aa04_02420a390fe8row0_col0\" class=\"data row0 col0\" >379054578.4</td>\n",
       "                        <td id=\"T_8bfabdca_1e58_11ec_aa04_02420a390fe8row0_col1\" class=\"data row0 col1\" >13616082008.9</td>\n",
       "                        <td id=\"T_8bfabdca_1e58_11ec_aa04_02420a390fe8row0_col2\" class=\"data row0 col2\" >11368120870.3</td>\n",
       "                        <td id=\"T_8bfabdca_1e58_11ec_aa04_02420a390fe8row0_col3\" class=\"data row0 col3\" >5432308367.4</td>\n",
       "                        <td id=\"T_8bfabdca_1e58_11ec_aa04_02420a390fe8row0_col4\" class=\"data row0 col4\" >8701799371.4</td>\n",
       "            </tr>\n",
       "            <tr>\n",
       "                        <th id=\"T_8bfabdca_1e58_11ec_aa04_02420a390fe8level0_row1\" class=\"row_heading level0 row1\" >2016</th>\n",
       "                        <td id=\"T_8bfabdca_1e58_11ec_aa04_02420a390fe8row1_col0\" class=\"data row1 col0\" >150228848.7</td>\n",
       "                        <td id=\"T_8bfabdca_1e58_11ec_aa04_02420a390fe8row1_col1\" class=\"data row1 col1\" >12204446524.4</td>\n",
       "                        <td id=\"T_8bfabdca_1e58_11ec_aa04_02420a390fe8row1_col2\" class=\"data row1 col2\" >16664548541.7</td>\n",
       "                        <td id=\"T_8bfabdca_1e58_11ec_aa04_02420a390fe8row1_col3\" class=\"data row1 col3\" >6793929818.9</td>\n",
       "                        <td id=\"T_8bfabdca_1e58_11ec_aa04_02420a390fe8row1_col4\" class=\"data row1 col4\" >12053146008.2</td>\n",
       "            </tr>\n",
       "            <tr>\n",
       "                        <th id=\"T_8bfabdca_1e58_11ec_aa04_02420a390fe8level0_row2\" class=\"row_heading level0 row2\" >2017</th>\n",
       "                        <td id=\"T_8bfabdca_1e58_11ec_aa04_02420a390fe8row2_col0\" class=\"data row2 col0\" >229598930.0</td>\n",
       "                        <td id=\"T_8bfabdca_1e58_11ec_aa04_02420a390fe8row2_col1\" class=\"data row2 col1\" >7851427660.7</td>\n",
       "                        <td id=\"T_8bfabdca_1e58_11ec_aa04_02420a390fe8row2_col2\" class=\"data row2 col2\" >18745042900.1</td>\n",
       "                        <td id=\"T_8bfabdca_1e58_11ec_aa04_02420a390fe8row2_col3\" class=\"data row2 col3\" >9651495581.0</td>\n",
       "                        <td id=\"T_8bfabdca_1e58_11ec_aa04_02420a390fe8row2_col4\" class=\"data row2 col4\" >12086142145.8</td>\n",
       "            </tr>\n",
       "            <tr>\n",
       "                        <th id=\"T_8bfabdca_1e58_11ec_aa04_02420a390fe8level0_row3\" class=\"row_heading level0 row3\" >2018</th>\n",
       "                        <td id=\"T_8bfabdca_1e58_11ec_aa04_02420a390fe8row3_col0\" class=\"data row3 col0\" >32449002.1</td>\n",
       "                        <td id=\"T_8bfabdca_1e58_11ec_aa04_02420a390fe8row3_col1\" class=\"data row3 col1\" >14267291660.7</td>\n",
       "                        <td id=\"T_8bfabdca_1e58_11ec_aa04_02420a390fe8row3_col2\" class=\"data row3 col2\" >16503602347.0</td>\n",
       "                        <td id=\"T_8bfabdca_1e58_11ec_aa04_02420a390fe8row3_col3\" class=\"data row3 col3\" >8760085501.1</td>\n",
       "                        <td id=\"T_8bfabdca_1e58_11ec_aa04_02420a390fe8row3_col4\" class=\"data row3 col4\" >10104974623.4</td>\n",
       "            </tr>\n",
       "            <tr>\n",
       "                        <th id=\"T_8bfabdca_1e58_11ec_aa04_02420a390fe8level0_row4\" class=\"row_heading level0 row4\" >2019</th>\n",
       "                        <td id=\"T_8bfabdca_1e58_11ec_aa04_02420a390fe8row4_col0\" class=\"data row4 col0\" >17746066.8</td>\n",
       "                        <td id=\"T_8bfabdca_1e58_11ec_aa04_02420a390fe8row4_col1\" class=\"data row4 col1\" >12680198773.7</td>\n",
       "                        <td id=\"T_8bfabdca_1e58_11ec_aa04_02420a390fe8row4_col2\" class=\"data row4 col2\" >12753418984.6</td>\n",
       "                        <td id=\"T_8bfabdca_1e58_11ec_aa04_02420a390fe8row4_col3\" class=\"data row4 col3\" >10121796303.6</td>\n",
       "                        <td id=\"T_8bfabdca_1e58_11ec_aa04_02420a390fe8row4_col4\" class=\"data row4 col4\" >12852548650.9</td>\n",
       "            </tr>\n",
       "    </tbody></table>"
      ],
      "text/plain": [
       "<pandas.io.formats.style.Styler at 0x7fbb490132d0>"
      ]
     },
     "execution_count": 43,
     "metadata": {},
     "output_type": "execute_result"
    }
   ],
   "source": [
    "year = [2015, 2016, 2017, 2018, 2019]\n",
    "\n",
    "pvt_age = movies.query('year in @year').pivot_table(index = 'year', \n",
    "                                          columns = 'age_restriction',  \n",
    "                                          values = 'box_office',\n",
    "                                          aggfunc = 'sum')\n",
    "#сводная таблица о количестве сборов в зависимости от возрастного ограничения по годам\n",
    "\n",
    "pvt_age.columns = ['0+', '12+', '16+', '18+', '6+'] #переименовываю столбцы\n",
    "pvt_age.style.format('{:.1f}', subset = ['0+','12+','16+','18+', '6+']) #избавляюсь от экспоненты в числах"
   ]
  },
  {
   "cell_type": "code",
   "execution_count": 44,
   "metadata": {},
   "outputs": [
    {
     "data": {
      "image/png": "[encoded data removed]",
      "text/plain": [
       "<Figure size 1080x360 with 1 Axes>"
      ]
     },
     "metadata": {
      "needs_background": "light"
     },
     "output_type": "display_data"
    }
   ],
   "source": [
    "pvt_plot(pvt_age, (15, 5), True, 'Сумма сборов с 2015 по 2019 год в зависимости от возрастной категории',\n",
    "        'Год', 'Сумма сборов, рублей') #строю график, используя функцию pvt_plot"
   ]
  },
  {
   "cell_type": "code",
   "execution_count": 45,
   "metadata": {},
   "outputs": [
    {
     "data": {
      "text/html": [
       "<style  type=\"text/css\" >\n",
       "</style><table id=\"T_8c3336b4_1e58_11ec_aa04_02420a390fe8\" ><thead>    <tr>        <th class=\"blank level0\" ></th>        <th class=\"col_heading level0 col0\" >0+</th>        <th class=\"col_heading level0 col1\" >12+</th>        <th class=\"col_heading level0 col2\" >16+</th>        <th class=\"col_heading level0 col3\" >18+</th>        <th class=\"col_heading level0 col4\" >6+</th>    </tr>    <tr>        <th class=\"index_name level0\" >year</th>        <th class=\"blank\" ></th>        <th class=\"blank\" ></th>        <th class=\"blank\" ></th>        <th class=\"blank\" ></th>        <th class=\"blank\" ></th>    </tr></thead><tbody>\n",
       "                <tr>\n",
       "                        <th id=\"T_8c3336b4_1e58_11ec_aa04_02420a390fe8level0_row0\" class=\"row_heading level0 row0\" >2015</th>\n",
       "                        <td id=\"T_8c3336b4_1e58_11ec_aa04_02420a390fe8row0_col0\" class=\"data row0 col0\" >61040.0</td>\n",
       "                        <td id=\"T_8c3336b4_1e58_11ec_aa04_02420a390fe8row0_col1\" class=\"data row0 col1\" >2201135951.5</td>\n",
       "                        <td id=\"T_8c3336b4_1e58_11ec_aa04_02420a390fe8row0_col2\" class=\"data row0 col2\" >1544961755.0</td>\n",
       "                        <td id=\"T_8c3336b4_1e58_11ec_aa04_02420a390fe8row0_col3\" class=\"data row0 col3\" >55065093.6</td>\n",
       "                        <td id=\"T_8c3336b4_1e58_11ec_aa04_02420a390fe8row0_col4\" class=\"data row0 col4\" >1984061578.0</td>\n",
       "            </tr>\n",
       "            <tr>\n",
       "                        <th id=\"T_8c3336b4_1e58_11ec_aa04_02420a390fe8level0_row1\" class=\"row_heading level0 row1\" >2016</th>\n",
       "                        <td id=\"T_8c3336b4_1e58_11ec_aa04_02420a390fe8row1_col0\" class=\"data row1 col0\" >658870.0</td>\n",
       "                        <td id=\"T_8c3336b4_1e58_11ec_aa04_02420a390fe8row1_col1\" class=\"data row1 col1\" >2817273268.9</td>\n",
       "                        <td id=\"T_8c3336b4_1e58_11ec_aa04_02420a390fe8row1_col2\" class=\"data row1 col2\" >1257426526.7</td>\n",
       "                        <td id=\"T_8c3336b4_1e58_11ec_aa04_02420a390fe8row1_col3\" class=\"data row1 col3\" >1099917.5</td>\n",
       "                        <td id=\"T_8c3336b4_1e58_11ec_aa04_02420a390fe8row1_col4\" class=\"data row1 col4\" >2005249256.0</td>\n",
       "            </tr>\n",
       "            <tr>\n",
       "                        <th id=\"T_8c3336b4_1e58_11ec_aa04_02420a390fe8level0_row2\" class=\"row_heading level0 row2\" >2017</th>\n",
       "                        <td id=\"T_8c3336b4_1e58_11ec_aa04_02420a390fe8row2_col0\" class=\"data row2 col0\" >206478186.0</td>\n",
       "                        <td id=\"T_8c3336b4_1e58_11ec_aa04_02420a390fe8row2_col1\" class=\"data row2 col1\" >4027989670.2</td>\n",
       "                        <td id=\"T_8c3336b4_1e58_11ec_aa04_02420a390fe8row2_col2\" class=\"data row2 col2\" >1045648979.0</td>\n",
       "                        <td id=\"T_8c3336b4_1e58_11ec_aa04_02420a390fe8row2_col3\" class=\"data row2 col3\" >120109783.0</td>\n",
       "                        <td id=\"T_8c3336b4_1e58_11ec_aa04_02420a390fe8row2_col4\" class=\"data row2 col4\" >5464848682.8</td>\n",
       "            </tr>\n",
       "            <tr>\n",
       "                        <th id=\"T_8c3336b4_1e58_11ec_aa04_02420a390fe8level0_row3\" class=\"row_heading level0 row3\" >2018</th>\n",
       "                        <td id=\"T_8c3336b4_1e58_11ec_aa04_02420a390fe8row3_col0\" class=\"data row3 col0\" >nan</td>\n",
       "                        <td id=\"T_8c3336b4_1e58_11ec_aa04_02420a390fe8row3_col1\" class=\"data row3 col1\" >5883937243.8</td>\n",
       "                        <td id=\"T_8c3336b4_1e58_11ec_aa04_02420a390fe8row3_col2\" class=\"data row3 col2\" >2193975129.3</td>\n",
       "                        <td id=\"T_8c3336b4_1e58_11ec_aa04_02420a390fe8row3_col3\" class=\"data row3 col3\" >94650107.4</td>\n",
       "                        <td id=\"T_8c3336b4_1e58_11ec_aa04_02420a390fe8row3_col4\" class=\"data row3 col4\" >1761506529.8</td>\n",
       "            </tr>\n",
       "            <tr>\n",
       "                        <th id=\"T_8c3336b4_1e58_11ec_aa04_02420a390fe8level0_row4\" class=\"row_heading level0 row4\" >2019</th>\n",
       "                        <td id=\"T_8c3336b4_1e58_11ec_aa04_02420a390fe8row4_col0\" class=\"data row4 col0\" >0.0</td>\n",
       "                        <td id=\"T_8c3336b4_1e58_11ec_aa04_02420a390fe8row4_col1\" class=\"data row4 col1\" >4559753941.0</td>\n",
       "                        <td id=\"T_8c3336b4_1e58_11ec_aa04_02420a390fe8row4_col2\" class=\"data row4 col2\" >1603183457.2</td>\n",
       "                        <td id=\"T_8c3336b4_1e58_11ec_aa04_02420a390fe8row4_col3\" class=\"data row4 col3\" >199590037.5</td>\n",
       "                        <td id=\"T_8c3336b4_1e58_11ec_aa04_02420a390fe8row4_col4\" class=\"data row4 col4\" >2047100019.0</td>\n",
       "            </tr>\n",
       "    </tbody></table>"
      ],
      "text/plain": [
       "<pandas.io.formats.style.Styler at 0x7fbb48913250>"
      ]
     },
     "execution_count": 45,
     "metadata": {},
     "output_type": "execute_result"
    }
   ],
   "source": [
    "pvt_age_budget = movies.query('year in @year and budget > 0').pivot_table(index = 'year', \n",
    "                                                              columns = 'age_restriction',  \n",
    "                                                              values = 'box_office',\n",
    "                                                              aggfunc = 'sum')\n",
    "\n",
    "#сводная таблица о количестве сборов в зависимости от возрастного ограничения по годам для фильмов с гос. поддержкой\n",
    "\n",
    "pvt_age_budget.columns = ['0+', '12+', '16+', '18+', '6+'] #переименовываю столбцы\n",
    "pvt_age_budget.style.format('{:.1f}', subset = ['0+','12+','16+','18+', '6+']) #избавляюсь от экспоненты в числах"
   ]
  },
  {
   "cell_type": "code",
   "execution_count": 46,
   "metadata": {},
   "outputs": [
    {
     "data": {
      "image/png": "[encoded data removed]",
      "text/plain": [
       "<Figure size 1080x360 with 1 Axes>"
      ]
     },
     "metadata": {
      "needs_background": "light"
     },
     "output_type": "display_data"
    }
   ],
   "source": [
    "pvt_plot(pvt_age_budget, (15, 5), True, \n",
    "         'Сумма сборов с 2015 по 2019 год в зависимости от возрастной категории для фильмов с гос. поддержкой',\n",
    "        'Год', 'Сумма сборов, рублей') #строю график, используя функцию pvt_plot"
   ]
  },
  {
   "cell_type": "markdown",
   "metadata": {},
   "source": [
    "**Вывод:**\n",
    "- С 2010 по 2017 год доля фильмов, которые были в прокате в кинотеатрах росла. Но 2018 и 2019 году стала ниже, но все равно была больше 50%.\n",
    "\n",
    "- В 2018 году сумма сборов была максимальной за все время 49 мллиардов рублей, а самая минимальная сумма сборов была в 2010 году - 2 миллиона рублей.\n",
    "\n",
    "- С каждым годом средняя и медианная сумма сборов за год растет. Большой скачек произошел в 2015 году и 2017 году.\n",
    "\n",
    "- Средние значения сборов по годам выше, чем медианные. Но с 2013 года разница между срежним и медианным значением сильно увеличилась. Это может быть связано с большим разбросом между максимальной и минимальной суммой сборов за год. То есть начиная с 2013 начали появляться фильмы с значительно большей суммой сборов, чем у остальных фильмов в этом году.\n",
    "\n",
    "- В период с 2015 по 2019 год лидером по сумме сборов были фильмы в возрастной категории 16+. Самые низкие сборы у фильмов с рейтингом 0+, думаю это связано с тем, что такие фильмы мало интересны взрослым, взрослые люди на такие фильмы ходят в основном со своими маленькими детьми и то когда у родителей есть своюодное время, сам по себе без родителя ребенок на такой сеанс не попадет. В то время как на фильм категории 16+ могут ходить люди сильно старше 16 или даже младше, у подростков чаще всего больше свободного времени и они самостоятельно могут посетить фильм.\n",
    "\n",
    "- Для фильмов с гос. поддержкой сумма сборов для фильмов с категорией 12+ увнличивалась и с 2018 по 2019 год была выше, чем у фильмов с другими возрастными категориями. В 2017 году больше всего было сборов у фильмов с категорией 6+. "
   ]
  },
  {
   "cell_type": "markdown",
   "metadata": {
    "id": "l_Kg6Ku4gFya"
   },
   "source": [
    "### Шаг 4. Исследование фильмов, которые получили государственную поддержку"
   ]
  },
  {
   "cell_type": "code",
   "execution_count": 47,
   "metadata": {},
   "outputs": [
    {
     "data": {
      "text/html": [
       "<div>\n",
       "<style scoped>\n",
       "    .dataframe tbody tr th:only-of-type {\n",
       "        vertical-align: middle;\n",
       "    }\n",
       "\n",
       "    .dataframe tbody tr th {\n",
       "        vertical-align: top;\n",
       "    }\n",
       "\n",
       "    .dataframe thead th {\n",
       "        text-align: right;\n",
       "    }\n",
       "</style>\n",
       "<table border=\"1\" class=\"dataframe\">\n",
       "  <thead>\n",
       "    <tr style=\"text-align: right;\">\n",
       "      <th></th>\n",
       "      <th>box_office</th>\n",
       "      <th>budget</th>\n",
       "    </tr>\n",
       "    <tr>\n",
       "      <th>year</th>\n",
       "      <th></th>\n",
       "      <th></th>\n",
       "    </tr>\n",
       "  </thead>\n",
       "  <tbody>\n",
       "    <tr>\n",
       "      <td>2013</td>\n",
       "      <td>10161192.55</td>\n",
       "      <td>127717695.0</td>\n",
       "    </tr>\n",
       "    <tr>\n",
       "      <td>2014</td>\n",
       "      <td>5504517.85</td>\n",
       "      <td>61036441.5</td>\n",
       "    </tr>\n",
       "    <tr>\n",
       "      <td>2015</td>\n",
       "      <td>9200824.50</td>\n",
       "      <td>57493985.5</td>\n",
       "    </tr>\n",
       "    <tr>\n",
       "      <td>2016</td>\n",
       "      <td>17921115.61</td>\n",
       "      <td>69883049.0</td>\n",
       "    </tr>\n",
       "    <tr>\n",
       "      <td>2017</td>\n",
       "      <td>50451949.00</td>\n",
       "      <td>78096315.0</td>\n",
       "    </tr>\n",
       "    <tr>\n",
       "      <td>2018</td>\n",
       "      <td>27023390.31</td>\n",
       "      <td>90324563.5</td>\n",
       "    </tr>\n",
       "    <tr>\n",
       "      <td>2019</td>\n",
       "      <td>25977291.30</td>\n",
       "      <td>78388683.0</td>\n",
       "    </tr>\n",
       "  </tbody>\n",
       "</table>\n",
       "</div>"
      ],
      "text/plain": [
       "       box_office       budget\n",
       "year                          \n",
       "2013  10161192.55  127717695.0\n",
       "2014   5504517.85   61036441.5\n",
       "2015   9200824.50   57493985.5\n",
       "2016  17921115.61   69883049.0\n",
       "2017  50451949.00   78096315.0\n",
       "2018  27023390.31   90324563.5\n",
       "2019  25977291.30   78388683.0"
      ]
     },
     "execution_count": 47,
     "metadata": {},
     "output_type": "execute_result"
    }
   ],
   "source": [
    "pvt_bx_budget = movies.query('budget > 0').pivot_table(index = 'year', \n",
    "                                       values = ['budget', 'box_office'], \n",
    "                                       aggfunc = 'median')\n",
    "#медианная сумма сборов и бюджета для фильмов с гос. поддержкой\n",
    "pvt_bx_budget"
   ]
  },
  {
   "cell_type": "code",
   "execution_count": 48,
   "metadata": {},
   "outputs": [
    {
     "data": {
      "image/png": "[encoded data removed]",
      "text/plain": [
       "<Figure size 720x360 with 1 Axes>"
      ]
     },
     "metadata": {
      "needs_background": "light"
     },
     "output_type": "display_data"
    }
   ],
   "source": [
    "pvt_bx_budget.plot(figsize = (10, 5), grid = True)\n",
    "plt.title('Медианная сумма сборов и гос. поддержки с 2013 по 2019 год')\n",
    "plt.xlabel('Год')\n",
    "plt.ylabel('Рублей')\n",
    "plt.show()\n",
    "#строю график по медианной сумме сборов и бюджету фильмов с гос. поддержкой"
   ]
  },
  {
   "cell_type": "code",
   "execution_count": 49,
   "metadata": {},
   "outputs": [
    {
     "data": {
      "text/html": [
       "<div>\n",
       "<style scoped>\n",
       "    .dataframe tbody tr th:only-of-type {\n",
       "        vertical-align: middle;\n",
       "    }\n",
       "\n",
       "    .dataframe tbody tr th {\n",
       "        vertical-align: top;\n",
       "    }\n",
       "\n",
       "    .dataframe thead th {\n",
       "        text-align: right;\n",
       "    }\n",
       "</style>\n",
       "<table border=\"1\" class=\"dataframe\">\n",
       "  <thead>\n",
       "    <tr style=\"text-align: right;\">\n",
       "      <th></th>\n",
       "      <th>box_office</th>\n",
       "      <th>budget</th>\n",
       "      <th>division</th>\n",
       "    </tr>\n",
       "    <tr>\n",
       "      <th>year</th>\n",
       "      <th></th>\n",
       "      <th></th>\n",
       "      <th></th>\n",
       "    </tr>\n",
       "  </thead>\n",
       "  <tbody>\n",
       "    <tr>\n",
       "      <td>2013</td>\n",
       "      <td>10161192.55</td>\n",
       "      <td>127717695.0</td>\n",
       "      <td>12.569164</td>\n",
       "    </tr>\n",
       "    <tr>\n",
       "      <td>2014</td>\n",
       "      <td>5504517.85</td>\n",
       "      <td>61036441.5</td>\n",
       "      <td>11.088426</td>\n",
       "    </tr>\n",
       "    <tr>\n",
       "      <td>2015</td>\n",
       "      <td>9200824.50</td>\n",
       "      <td>57493985.5</td>\n",
       "      <td>6.248786</td>\n",
       "    </tr>\n",
       "    <tr>\n",
       "      <td>2016</td>\n",
       "      <td>17921115.61</td>\n",
       "      <td>69883049.0</td>\n",
       "      <td>3.899481</td>\n",
       "    </tr>\n",
       "    <tr>\n",
       "      <td>2017</td>\n",
       "      <td>50451949.00</td>\n",
       "      <td>78096315.0</td>\n",
       "      <td>1.547935</td>\n",
       "    </tr>\n",
       "    <tr>\n",
       "      <td>2018</td>\n",
       "      <td>27023390.31</td>\n",
       "      <td>90324563.5</td>\n",
       "      <td>3.342459</td>\n",
       "    </tr>\n",
       "    <tr>\n",
       "      <td>2019</td>\n",
       "      <td>25977291.30</td>\n",
       "      <td>78388683.0</td>\n",
       "      <td>3.017585</td>\n",
       "    </tr>\n",
       "  </tbody>\n",
       "</table>\n",
       "</div>"
      ],
      "text/plain": [
       "       box_office       budget   division\n",
       "year                                     \n",
       "2013  10161192.55  127717695.0  12.569164\n",
       "2014   5504517.85   61036441.5  11.088426\n",
       "2015   9200824.50   57493985.5   6.248786\n",
       "2016  17921115.61   69883049.0   3.899481\n",
       "2017  50451949.00   78096315.0   1.547935\n",
       "2018  27023390.31   90324563.5   3.342459\n",
       "2019  25977291.30   78388683.0   3.017585"
      ]
     },
     "execution_count": 49,
     "metadata": {},
     "output_type": "execute_result"
    }
   ],
   "source": [
    "pvt_bx_budget['division'] = pvt_bx_budget['budget'] / pvt_bx_budget['box_office']\n",
    "#добавила столбец, который показывает во сколько раз медианная сумма сборов меньше медианой суммы бюджета фильма, по годам\n",
    "pvt_bx_budget "
   ]
  },
  {
   "cell_type": "code",
   "execution_count": 50,
   "metadata": {
    "id": "W9QKpjUdgFyb"
   },
   "outputs": [
    {
     "data": {
      "text/html": [
       "<div>\n",
       "<style scoped>\n",
       "    .dataframe tbody tr th:only-of-type {\n",
       "        vertical-align: middle;\n",
       "    }\n",
       "\n",
       "    .dataframe tbody tr th {\n",
       "        vertical-align: top;\n",
       "    }\n",
       "\n",
       "    .dataframe thead th {\n",
       "        text-align: right;\n",
       "    }\n",
       "</style>\n",
       "<table border=\"1\" class=\"dataframe\">\n",
       "  <thead>\n",
       "    <tr style=\"text-align: right;\">\n",
       "      <th></th>\n",
       "      <th>budget_count</th>\n",
       "      <th>total_count</th>\n",
       "      <th>share</th>\n",
       "    </tr>\n",
       "    <tr>\n",
       "      <th>year</th>\n",
       "      <th></th>\n",
       "      <th></th>\n",
       "      <th></th>\n",
       "    </tr>\n",
       "  </thead>\n",
       "  <tbody>\n",
       "    <tr>\n",
       "      <td>2010</td>\n",
       "      <td>0</td>\n",
       "      <td>979</td>\n",
       "      <td>0.000000</td>\n",
       "    </tr>\n",
       "    <tr>\n",
       "      <td>2011</td>\n",
       "      <td>0</td>\n",
       "      <td>620</td>\n",
       "      <td>0.000000</td>\n",
       "    </tr>\n",
       "    <tr>\n",
       "      <td>2012</td>\n",
       "      <td>0</td>\n",
       "      <td>592</td>\n",
       "      <td>0.000000</td>\n",
       "    </tr>\n",
       "    <tr>\n",
       "      <td>2013</td>\n",
       "      <td>2</td>\n",
       "      <td>628</td>\n",
       "      <td>0.318471</td>\n",
       "    </tr>\n",
       "    <tr>\n",
       "      <td>2014</td>\n",
       "      <td>16</td>\n",
       "      <td>806</td>\n",
       "      <td>1.985112</td>\n",
       "    </tr>\n",
       "    <tr>\n",
       "      <td>2015</td>\n",
       "      <td>86</td>\n",
       "      <td>705</td>\n",
       "      <td>12.198582</td>\n",
       "    </tr>\n",
       "    <tr>\n",
       "      <td>2016</td>\n",
       "      <td>61</td>\n",
       "      <td>818</td>\n",
       "      <td>7.457213</td>\n",
       "    </tr>\n",
       "    <tr>\n",
       "      <td>2017</td>\n",
       "      <td>41</td>\n",
       "      <td>505</td>\n",
       "      <td>8.118812</td>\n",
       "    </tr>\n",
       "    <tr>\n",
       "      <td>2018</td>\n",
       "      <td>56</td>\n",
       "      <td>889</td>\n",
       "      <td>6.299213</td>\n",
       "    </tr>\n",
       "    <tr>\n",
       "      <td>2019</td>\n",
       "      <td>70</td>\n",
       "      <td>930</td>\n",
       "      <td>7.526882</td>\n",
       "    </tr>\n",
       "  </tbody>\n",
       "</table>\n",
       "</div>"
      ],
      "text/plain": [
       "      budget_count  total_count      share\n",
       "year                                      \n",
       "2010             0          979   0.000000\n",
       "2011             0          620   0.000000\n",
       "2012             0          592   0.000000\n",
       "2013             2          628   0.318471\n",
       "2014            16          806   1.985112\n",
       "2015            86          705  12.198582\n",
       "2016            61          818   7.457213\n",
       "2017            41          505   8.118812\n",
       "2018            56          889   6.299213\n",
       "2019            70          930   7.526882"
      ]
     },
     "execution_count": 50,
     "metadata": {},
     "output_type": "execute_result"
    }
   ],
   "source": [
    "pvt_budget = movies.pivot_table(index = 'year',                                 \n",
    "                   values = ['budget', 'title'],\n",
    "                   aggfunc = 'count')\n",
    "#сводная таблица с количеством фильмов, которые получили гос. поддержку и общим количеством фильмов, а также долей фильмов,\n",
    "#получивших гос. поддержку\n",
    "pvt_budget.columns = ['budget_count', 'total_count'] #изменяю наименования столбцов\n",
    "pvt_budget['share'] = pvt_budget['budget_count'] / pvt_budget['total_count'] *100 \n",
    "#добавляю столбец с долей фильмов, получивших гос. поддержку, от общего количества фильмов\n",
    "pvt_budget"
   ]
  },
  {
   "cell_type": "code",
   "execution_count": 51,
   "metadata": {},
   "outputs": [
    {
     "data": {
      "text/html": [
       "<div>\n",
       "<style scoped>\n",
       "    .dataframe tbody tr th:only-of-type {\n",
       "        vertical-align: middle;\n",
       "    }\n",
       "\n",
       "    .dataframe tbody tr th {\n",
       "        vertical-align: top;\n",
       "    }\n",
       "\n",
       "    .dataframe thead th {\n",
       "        text-align: right;\n",
       "    }\n",
       "</style>\n",
       "<table border=\"1\" class=\"dataframe\">\n",
       "  <thead>\n",
       "    <tr style=\"text-align: right;\">\n",
       "      <th></th>\n",
       "      <th>budget</th>\n",
       "    </tr>\n",
       "    <tr>\n",
       "      <th>year</th>\n",
       "      <th></th>\n",
       "    </tr>\n",
       "  </thead>\n",
       "  <tbody>\n",
       "    <tr>\n",
       "      <td>2010</td>\n",
       "      <td>0.000000e+00</td>\n",
       "    </tr>\n",
       "    <tr>\n",
       "      <td>2011</td>\n",
       "      <td>0.000000e+00</td>\n",
       "    </tr>\n",
       "    <tr>\n",
       "      <td>2012</td>\n",
       "      <td>0.000000e+00</td>\n",
       "    </tr>\n",
       "    <tr>\n",
       "      <td>2013</td>\n",
       "      <td>2.554354e+08</td>\n",
       "    </tr>\n",
       "    <tr>\n",
       "      <td>2014</td>\n",
       "      <td>1.302485e+09</td>\n",
       "    </tr>\n",
       "    <tr>\n",
       "      <td>2015</td>\n",
       "      <td>7.738669e+09</td>\n",
       "    </tr>\n",
       "    <tr>\n",
       "      <td>2016</td>\n",
       "      <td>7.554943e+09</td>\n",
       "    </tr>\n",
       "    <tr>\n",
       "      <td>2017</td>\n",
       "      <td>7.057173e+09</td>\n",
       "    </tr>\n",
       "    <tr>\n",
       "      <td>2018</td>\n",
       "      <td>7.000664e+09</td>\n",
       "    </tr>\n",
       "    <tr>\n",
       "      <td>2019</td>\n",
       "      <td>1.272287e+10</td>\n",
       "    </tr>\n",
       "  </tbody>\n",
       "</table>\n",
       "</div>"
      ],
      "text/plain": [
       "            budget\n",
       "year              \n",
       "2010  0.000000e+00\n",
       "2011  0.000000e+00\n",
       "2012  0.000000e+00\n",
       "2013  2.554354e+08\n",
       "2014  1.302485e+09\n",
       "2015  7.738669e+09\n",
       "2016  7.554943e+09\n",
       "2017  7.057173e+09\n",
       "2018  7.000664e+09\n",
       "2019  1.272287e+10"
      ]
     },
     "execution_count": 51,
     "metadata": {},
     "output_type": "execute_result"
    }
   ],
   "source": [
    "movies.pivot_table(index = 'year', values = 'budget', aggfunc = 'sum') \n",
    "#сводная таблица по сумме идущую на гос. поддержку каждый год"
   ]
  },
  {
   "cell_type": "code",
   "execution_count": 52,
   "metadata": {},
   "outputs": [
    {
     "data": {
      "text/html": [
       "<div>\n",
       "<style scoped>\n",
       "    .dataframe tbody tr th:only-of-type {\n",
       "        vertical-align: middle;\n",
       "    }\n",
       "\n",
       "    .dataframe tbody tr th {\n",
       "        vertical-align: top;\n",
       "    }\n",
       "\n",
       "    .dataframe thead th {\n",
       "        text-align: right;\n",
       "    }\n",
       "</style>\n",
       "<table border=\"1\" class=\"dataframe\">\n",
       "  <thead>\n",
       "    <tr style=\"text-align: right;\">\n",
       "      <th></th>\n",
       "      <th>mean_box_office</th>\n",
       "      <th>mean_ratings</th>\n",
       "      <th>median_box_office</th>\n",
       "      <th>median_ratings</th>\n",
       "    </tr>\n",
       "    <tr>\n",
       "      <th>year</th>\n",
       "      <th></th>\n",
       "      <th></th>\n",
       "      <th></th>\n",
       "      <th></th>\n",
       "    </tr>\n",
       "  </thead>\n",
       "  <tbody>\n",
       "    <tr>\n",
       "      <td>2013</td>\n",
       "      <td>1.016119e+07</td>\n",
       "      <td>6.700000</td>\n",
       "      <td>10161192.55</td>\n",
       "      <td>6.7</td>\n",
       "    </tr>\n",
       "    <tr>\n",
       "      <td>2014</td>\n",
       "      <td>6.358889e+07</td>\n",
       "      <td>6.006667</td>\n",
       "      <td>5504517.85</td>\n",
       "      <td>6.4</td>\n",
       "    </tr>\n",
       "    <tr>\n",
       "      <td>2015</td>\n",
       "      <td>6.806218e+07</td>\n",
       "      <td>6.139759</td>\n",
       "      <td>9200824.50</td>\n",
       "      <td>6.2</td>\n",
       "    </tr>\n",
       "    <tr>\n",
       "      <td>2016</td>\n",
       "      <td>1.013618e+08</td>\n",
       "      <td>5.677193</td>\n",
       "      <td>17921115.61</td>\n",
       "      <td>5.8</td>\n",
       "    </tr>\n",
       "    <tr>\n",
       "      <td>2017</td>\n",
       "      <td>2.785917e+08</td>\n",
       "      <td>6.000000</td>\n",
       "      <td>50451949.00</td>\n",
       "      <td>6.2</td>\n",
       "    </tr>\n",
       "    <tr>\n",
       "      <td>2018</td>\n",
       "      <td>1.773941e+08</td>\n",
       "      <td>6.001887</td>\n",
       "      <td>27023390.31</td>\n",
       "      <td>6.2</td>\n",
       "    </tr>\n",
       "    <tr>\n",
       "      <td>2019</td>\n",
       "      <td>1.401605e+08</td>\n",
       "      <td>6.176119</td>\n",
       "      <td>25977291.30</td>\n",
       "      <td>6.2</td>\n",
       "    </tr>\n",
       "  </tbody>\n",
       "</table>\n",
       "</div>"
      ],
      "text/plain": [
       "      mean_box_office  mean_ratings  median_box_office  median_ratings\n",
       "year                                                                  \n",
       "2013     1.016119e+07      6.700000        10161192.55             6.7\n",
       "2014     6.358889e+07      6.006667         5504517.85             6.4\n",
       "2015     6.806218e+07      6.139759         9200824.50             6.2\n",
       "2016     1.013618e+08      5.677193        17921115.61             5.8\n",
       "2017     2.785917e+08      6.000000        50451949.00             6.2\n",
       "2018     1.773941e+08      6.001887        27023390.31             6.2\n",
       "2019     1.401605e+08      6.176119        25977291.30             6.2"
      ]
     },
     "execution_count": 52,
     "metadata": {},
     "output_type": "execute_result"
    }
   ],
   "source": [
    "pvt_budget_rating = movies.query('budget > 0').pivot_table(index = 'year',\n",
    "                                                           values = ['ratings', 'box_office'],\n",
    "                                                           aggfunc = ['mean', 'median'])\n",
    "#сводная таблица по средним и медианным рейтингам и сборам фильмов с гос. поддержкой\n",
    "pvt_budget_rating.columns = ['mean_box_office', 'mean_ratings', 'median_box_office', 'median_ratings']\n",
    "#меняю название колонок\n",
    "pvt_budget_rating"
   ]
  },
  {
   "cell_type": "code",
   "execution_count": 53,
   "metadata": {},
   "outputs": [
    {
     "data": {
      "text/html": [
       "<div>\n",
       "<style scoped>\n",
       "    .dataframe tbody tr th:only-of-type {\n",
       "        vertical-align: middle;\n",
       "    }\n",
       "\n",
       "    .dataframe tbody tr th {\n",
       "        vertical-align: top;\n",
       "    }\n",
       "\n",
       "    .dataframe thead th {\n",
       "        text-align: right;\n",
       "    }\n",
       "</style>\n",
       "<table border=\"1\" class=\"dataframe\">\n",
       "  <thead>\n",
       "    <tr style=\"text-align: right;\">\n",
       "      <th></th>\n",
       "      <th>mean_box_office</th>\n",
       "      <th>mean_ratings</th>\n",
       "      <th>median_box_office</th>\n",
       "      <th>median_ratings</th>\n",
       "    </tr>\n",
       "    <tr>\n",
       "      <th>year</th>\n",
       "      <th></th>\n",
       "      <th></th>\n",
       "      <th></th>\n",
       "      <th></th>\n",
       "    </tr>\n",
       "  </thead>\n",
       "  <tbody>\n",
       "    <tr>\n",
       "      <td>2010</td>\n",
       "      <td>2.313004e+04</td>\n",
       "      <td>6.729373</td>\n",
       "      <td>1700.0</td>\n",
       "      <td>6.9</td>\n",
       "    </tr>\n",
       "    <tr>\n",
       "      <td>2011</td>\n",
       "      <td>1.293832e+05</td>\n",
       "      <td>6.530435</td>\n",
       "      <td>3000.0</td>\n",
       "      <td>6.7</td>\n",
       "    </tr>\n",
       "    <tr>\n",
       "      <td>2012</td>\n",
       "      <td>5.441790e+04</td>\n",
       "      <td>6.545155</td>\n",
       "      <td>5560.0</td>\n",
       "      <td>6.7</td>\n",
       "    </tr>\n",
       "    <tr>\n",
       "      <td>2013</td>\n",
       "      <td>5.207319e+04</td>\n",
       "      <td>6.511897</td>\n",
       "      <td>3475.0</td>\n",
       "      <td>6.6</td>\n",
       "    </tr>\n",
       "    <tr>\n",
       "      <td>2014</td>\n",
       "      <td>2.443928e+07</td>\n",
       "      <td>6.535773</td>\n",
       "      <td>16210.0</td>\n",
       "      <td>6.7</td>\n",
       "    </tr>\n",
       "    <tr>\n",
       "      <td>2015</td>\n",
       "      <td>8.871600e+07</td>\n",
       "      <td>6.357778</td>\n",
       "      <td>4796668.3</td>\n",
       "      <td>6.5</td>\n",
       "    </tr>\n",
       "    <tr>\n",
       "      <td>2016</td>\n",
       "      <td>8.966651e+07</td>\n",
       "      <td>6.424127</td>\n",
       "      <td>3597517.7</td>\n",
       "      <td>6.6</td>\n",
       "    </tr>\n",
       "    <tr>\n",
       "      <td>2017</td>\n",
       "      <td>1.185492e+08</td>\n",
       "      <td>6.344836</td>\n",
       "      <td>9487367.0</td>\n",
       "      <td>6.4</td>\n",
       "    </tr>\n",
       "    <tr>\n",
       "      <td>2018</td>\n",
       "      <td>9.483135e+07</td>\n",
       "      <td>6.433223</td>\n",
       "      <td>8292672.0</td>\n",
       "      <td>6.5</td>\n",
       "    </tr>\n",
       "    <tr>\n",
       "      <td>2019</td>\n",
       "      <td>8.514060e+07</td>\n",
       "      <td>6.538333</td>\n",
       "      <td>4211950.2</td>\n",
       "      <td>6.5</td>\n",
       "    </tr>\n",
       "  </tbody>\n",
       "</table>\n",
       "</div>"
      ],
      "text/plain": [
       "      mean_box_office  mean_ratings  median_box_office  median_ratings\n",
       "year                                                                  \n",
       "2010     2.313004e+04      6.729373             1700.0             6.9\n",
       "2011     1.293832e+05      6.530435             3000.0             6.7\n",
       "2012     5.441790e+04      6.545155             5560.0             6.7\n",
       "2013     5.207319e+04      6.511897             3475.0             6.6\n",
       "2014     2.443928e+07      6.535773            16210.0             6.7\n",
       "2015     8.871600e+07      6.357778          4796668.3             6.5\n",
       "2016     8.966651e+07      6.424127          3597517.7             6.6\n",
       "2017     1.185492e+08      6.344836          9487367.0             6.4\n",
       "2018     9.483135e+07      6.433223          8292672.0             6.5\n",
       "2019     8.514060e+07      6.538333          4211950.2             6.5"
      ]
     },
     "execution_count": 53,
     "metadata": {},
     "output_type": "execute_result"
    }
   ],
   "source": [
    "pvt_rating = movies[movies['budget'].isna()].pivot_table(index = 'year',\n",
    "                                                           values = ['ratings', 'box_office'],\n",
    "                                                           aggfunc = ['mean', 'median'])\n",
    "#сводная таблица для среднего и медианного количества рейтинго и сборов для всех фильмов без гос. поддержки\n",
    "pvt_rating.columns = ['mean_box_office', 'mean_ratings', 'median_box_office', 'median_ratings']\n",
    "#меняю название колонок\n",
    "pvt_rating"
   ]
  },
  {
   "cell_type": "code",
   "execution_count": 54,
   "metadata": {},
   "outputs": [
    {
     "data": {
      "image/png": "[encoded data removed]",
      "text/plain": [
       "<Figure size 720x360 with 1 Axes>"
      ]
     },
     "metadata": {
      "needs_background": "light"
     },
     "output_type": "display_data"
    }
   ],
   "source": [
    "fig = plt.figure(figsize = (10, 5))\n",
    "ax = fig.add_subplot(111)\n",
    "ax.grid()\n",
    "ax.plot(pvt_rating[pvt_rating.index >= 2013]['median_ratings'], label = 'Фильмы без гос. поддержки')\n",
    "ax.plot(pvt_budget_rating['median_ratings'], label = 'Фильмы с гос. поддержкой')\n",
    "ax.legend()\n",
    "ax.set_title('Медианное значение рейтинга с 2013 по 2019 год')\n",
    "ax.set_xlabel('Год')\n",
    "ax.set_ylabel('Рейтинг')\n",
    "plt.show()\n",
    "#построение графика для сравнения медианного значения рейтинга у фильмов без гос. поддержки и фильмами с гос. поддержкой"
   ]
  },
  {
   "cell_type": "code",
   "execution_count": 55,
   "metadata": {},
   "outputs": [
    {
     "data": {
      "image/png": "[encoded data removed]",
      "text/plain": [
       "<Figure size 720x360 with 1 Axes>"
      ]
     },
     "metadata": {
      "needs_background": "light"
     },
     "output_type": "display_data"
    }
   ],
   "source": [
    "fig = plt.figure(figsize = (10, 5))\n",
    "ax = fig.add_subplot(111)\n",
    "ax.grid()\n",
    "ax.plot(pvt_rating[pvt_rating.index >= 2013]['median_box_office'], label = 'Фильмы без гос. поддержки')\n",
    "ax.plot(pvt_budget_rating['median_box_office'], label = 'Фильмы с гос. поддержкой')\n",
    "ax.set_title('Медианное сумма сборов с 2013 по 2019 год')\n",
    "ax.set_xlabel('Год')\n",
    "ax.set_ylabel('Сумма сборов, рублей')\n",
    "ax.legend()\n",
    "plt.show()\n",
    "#построение графика для сравнения медианной суммы сборов у фильмов без гос. поддержки и фильмами с гос. поддержкой"
   ]
  },
  {
   "cell_type": "code",
   "execution_count": 56,
   "metadata": {},
   "outputs": [
    {
     "data": {
      "text/html": [
       "<div>\n",
       "<style scoped>\n",
       "    .dataframe tbody tr th:only-of-type {\n",
       "        vertical-align: middle;\n",
       "    }\n",
       "\n",
       "    .dataframe tbody tr th {\n",
       "        vertical-align: top;\n",
       "    }\n",
       "\n",
       "    .dataframe thead th {\n",
       "        text-align: right;\n",
       "    }\n",
       "</style>\n",
       "<table border=\"1\" class=\"dataframe\">\n",
       "  <thead>\n",
       "    <tr style=\"text-align: right;\">\n",
       "      <th></th>\n",
       "      <th>budget</th>\n",
       "    </tr>\n",
       "    <tr>\n",
       "      <th>production_country</th>\n",
       "      <th></th>\n",
       "    </tr>\n",
       "  </thead>\n",
       "  <tbody>\n",
       "    <tr>\n",
       "      <td>Россия</td>\n",
       "      <td>316</td>\n",
       "    </tr>\n",
       "    <tr>\n",
       "      <td>Россия, Армения</td>\n",
       "      <td>1</td>\n",
       "    </tr>\n",
       "    <tr>\n",
       "      <td>Россия, Бельгия, Финляндия</td>\n",
       "      <td>1</td>\n",
       "    </tr>\n",
       "    <tr>\n",
       "      <td>Россия, Германия</td>\n",
       "      <td>2</td>\n",
       "    </tr>\n",
       "    <tr>\n",
       "      <td>Россия, Германия, Великобритания</td>\n",
       "      <td>1</td>\n",
       "    </tr>\n",
       "    <tr>\n",
       "      <td>Россия, Германия, Казахстан, Польша, Китай</td>\n",
       "      <td>1</td>\n",
       "    </tr>\n",
       "    <tr>\n",
       "      <td>Россия, Грузия</td>\n",
       "      <td>1</td>\n",
       "    </tr>\n",
       "    <tr>\n",
       "      <td>Россия, Италия</td>\n",
       "      <td>2</td>\n",
       "    </tr>\n",
       "    <tr>\n",
       "      <td>Россия, Китай</td>\n",
       "      <td>1</td>\n",
       "    </tr>\n",
       "    <tr>\n",
       "      <td>Россия, Латвия, Чешская Республика</td>\n",
       "      <td>1</td>\n",
       "    </tr>\n",
       "    <tr>\n",
       "      <td>Россия, Сербия</td>\n",
       "      <td>1</td>\n",
       "    </tr>\n",
       "    <tr>\n",
       "      <td>Россия, Словакия, Чехия</td>\n",
       "      <td>1</td>\n",
       "    </tr>\n",
       "    <tr>\n",
       "      <td>Россия, Украина</td>\n",
       "      <td>1</td>\n",
       "    </tr>\n",
       "    <tr>\n",
       "      <td>Россия, Украина, Польша</td>\n",
       "      <td>1</td>\n",
       "    </tr>\n",
       "    <tr>\n",
       "      <td>Россия, Франция, Латвия</td>\n",
       "      <td>1</td>\n",
       "    </tr>\n",
       "  </tbody>\n",
       "</table>\n",
       "</div>"
      ],
      "text/plain": [
       "                                            budget\n",
       "production_country                                \n",
       "Россия                                         316\n",
       "Россия, Армения                                  1\n",
       "Россия, Бельгия, Финляндия                       1\n",
       "Россия, Германия                                 2\n",
       "Россия, Германия, Великобритания                 1\n",
       "Россия, Германия, Казахстан, Польша, Китай       1\n",
       "Россия, Грузия                                   1\n",
       "Россия, Италия                                   2\n",
       "Россия, Китай                                    1\n",
       "Россия, Латвия, Чешская Республика               1\n",
       "Россия, Сербия                                   1\n",
       "Россия, Словакия, Чехия                          1\n",
       "Россия, Украина                                  1\n",
       "Россия, Украина, Польша                          1\n",
       "Россия, Франция, Латвия                          1"
      ]
     },
     "execution_count": 56,
     "metadata": {},
     "output_type": "execute_result"
    }
   ],
   "source": [
    "pvt_country = movies.pivot_table(index = 'production_country',\n",
    "                   values = 'budget',\n",
    "                   aggfunc = 'count')\n",
    "#сводная таблица по количеству фильмов у разных стран\n",
    "pvt_country.query('budget != 0') #отбираем те, у которых гос. поддержка не равна нулю"
   ]
  },
  {
   "cell_type": "code",
   "execution_count": 57,
   "metadata": {},
   "outputs": [
    {
     "data": {
      "text/html": [
       "<div>\n",
       "<style scoped>\n",
       "    .dataframe tbody tr th:only-of-type {\n",
       "        vertical-align: middle;\n",
       "    }\n",
       "\n",
       "    .dataframe tbody tr th {\n",
       "        vertical-align: top;\n",
       "    }\n",
       "\n",
       "    .dataframe thead th {\n",
       "        text-align: right;\n",
       "    }\n",
       "</style>\n",
       "<table border=\"1\" class=\"dataframe\">\n",
       "  <thead>\n",
       "    <tr style=\"text-align: right;\">\n",
       "      <th></th>\n",
       "      <th>mean_box_office</th>\n",
       "      <th>mean_budget</th>\n",
       "      <th>mean_ratings</th>\n",
       "      <th>median_box_office</th>\n",
       "      <th>median_budget</th>\n",
       "      <th>median_ratings</th>\n",
       "    </tr>\n",
       "    <tr>\n",
       "      <th>main_genre</th>\n",
       "      <th></th>\n",
       "      <th></th>\n",
       "      <th></th>\n",
       "      <th></th>\n",
       "      <th></th>\n",
       "      <th></th>\n",
       "    </tr>\n",
       "  </thead>\n",
       "  <tbody>\n",
       "    <tr>\n",
       "      <td>аниме</td>\n",
       "      <td>4.130023e+07</td>\n",
       "      <td>NaN</td>\n",
       "      <td>7.477027</td>\n",
       "      <td>2.238131e+06</td>\n",
       "      <td>NaN</td>\n",
       "      <td>7.60</td>\n",
       "    </tr>\n",
       "    <tr>\n",
       "      <td>биография</td>\n",
       "      <td>9.057708e+07</td>\n",
       "      <td>1.763112e+08</td>\n",
       "      <td>7.012121</td>\n",
       "      <td>9.319952e+06</td>\n",
       "      <td>131000000.0</td>\n",
       "      <td>6.90</td>\n",
       "    </tr>\n",
       "    <tr>\n",
       "      <td>боевик</td>\n",
       "      <td>1.169435e+08</td>\n",
       "      <td>1.139061e+08</td>\n",
       "      <td>6.508914</td>\n",
       "      <td>1.081914e+07</td>\n",
       "      <td>115000000.0</td>\n",
       "      <td>6.70</td>\n",
       "    </tr>\n",
       "    <tr>\n",
       "      <td>вестерн</td>\n",
       "      <td>8.035216e+07</td>\n",
       "      <td>NaN</td>\n",
       "      <td>7.300000</td>\n",
       "      <td>1.825289e+06</td>\n",
       "      <td>NaN</td>\n",
       "      <td>7.90</td>\n",
       "    </tr>\n",
       "    <tr>\n",
       "      <td>военный</td>\n",
       "      <td>7.545350e+07</td>\n",
       "      <td>1.428785e+08</td>\n",
       "      <td>6.726087</td>\n",
       "      <td>7.400330e+06</td>\n",
       "      <td>109814241.0</td>\n",
       "      <td>6.65</td>\n",
       "    </tr>\n",
       "    <tr>\n",
       "      <td>детектив</td>\n",
       "      <td>1.168495e+08</td>\n",
       "      <td>2.396445e+08</td>\n",
       "      <td>6.646429</td>\n",
       "      <td>1.440789e+07</td>\n",
       "      <td>130000000.0</td>\n",
       "      <td>6.65</td>\n",
       "    </tr>\n",
       "    <tr>\n",
       "      <td>детский</td>\n",
       "      <td>2.169321e+05</td>\n",
       "      <td>4.597450e+07</td>\n",
       "      <td>6.114286</td>\n",
       "      <td>2.756900e+04</td>\n",
       "      <td>46940248.0</td>\n",
       "      <td>7.20</td>\n",
       "    </tr>\n",
       "    <tr>\n",
       "      <td>для взрослых</td>\n",
       "      <td>7.742100e+05</td>\n",
       "      <td>NaN</td>\n",
       "      <td>4.466667</td>\n",
       "      <td>7.742100e+05</td>\n",
       "      <td>NaN</td>\n",
       "      <td>4.10</td>\n",
       "    </tr>\n",
       "    <tr>\n",
       "      <td>документальный</td>\n",
       "      <td>2.351044e+06</td>\n",
       "      <td>NaN</td>\n",
       "      <td>7.237900</td>\n",
       "      <td>8.125810e+05</td>\n",
       "      <td>NaN</td>\n",
       "      <td>7.30</td>\n",
       "    </tr>\n",
       "    <tr>\n",
       "      <td>драма</td>\n",
       "      <td>2.756465e+07</td>\n",
       "      <td>1.196439e+08</td>\n",
       "      <td>6.766983</td>\n",
       "      <td>1.538252e+06</td>\n",
       "      <td>58447301.0</td>\n",
       "      <td>6.80</td>\n",
       "    </tr>\n",
       "    <tr>\n",
       "      <td>история</td>\n",
       "      <td>1.483708e+08</td>\n",
       "      <td>5.362656e+08</td>\n",
       "      <td>6.536000</td>\n",
       "      <td>3.792051e+06</td>\n",
       "      <td>499919649.0</td>\n",
       "      <td>6.40</td>\n",
       "    </tr>\n",
       "    <tr>\n",
       "      <td>комедия</td>\n",
       "      <td>6.579689e+07</td>\n",
       "      <td>8.311604e+07</td>\n",
       "      <td>5.986063</td>\n",
       "      <td>2.588386e+06</td>\n",
       "      <td>68375972.0</td>\n",
       "      <td>6.10</td>\n",
       "    </tr>\n",
       "    <tr>\n",
       "      <td>концерт</td>\n",
       "      <td>2.638980e+05</td>\n",
       "      <td>NaN</td>\n",
       "      <td>6.850000</td>\n",
       "      <td>2.638980e+05</td>\n",
       "      <td>NaN</td>\n",
       "      <td>8.15</td>\n",
       "    </tr>\n",
       "    <tr>\n",
       "      <td>короткометражка</td>\n",
       "      <td>7.361000e+04</td>\n",
       "      <td>NaN</td>\n",
       "      <td>6.630769</td>\n",
       "      <td>7.361000e+04</td>\n",
       "      <td>NaN</td>\n",
       "      <td>6.10</td>\n",
       "    </tr>\n",
       "    <tr>\n",
       "      <td>криминал</td>\n",
       "      <td>2.581209e+07</td>\n",
       "      <td>1.421983e+08</td>\n",
       "      <td>6.697436</td>\n",
       "      <td>5.377640e+05</td>\n",
       "      <td>59937470.0</td>\n",
       "      <td>6.70</td>\n",
       "    </tr>\n",
       "    <tr>\n",
       "      <td>мелодрама</td>\n",
       "      <td>1.970345e+07</td>\n",
       "      <td>6.273369e+07</td>\n",
       "      <td>6.522977</td>\n",
       "      <td>5.467505e+05</td>\n",
       "      <td>57767081.0</td>\n",
       "      <td>6.70</td>\n",
       "    </tr>\n",
       "    <tr>\n",
       "      <td>музыка</td>\n",
       "      <td>1.665820e+07</td>\n",
       "      <td>NaN</td>\n",
       "      <td>7.371429</td>\n",
       "      <td>2.009311e+06</td>\n",
       "      <td>NaN</td>\n",
       "      <td>7.20</td>\n",
       "    </tr>\n",
       "    <tr>\n",
       "      <td>мультфильм</td>\n",
       "      <td>1.090264e+08</td>\n",
       "      <td>1.875968e+08</td>\n",
       "      <td>6.275560</td>\n",
       "      <td>2.660830e+06</td>\n",
       "      <td>182659393.0</td>\n",
       "      <td>6.50</td>\n",
       "    </tr>\n",
       "    <tr>\n",
       "      <td>мюзикл</td>\n",
       "      <td>1.059269e+08</td>\n",
       "      <td>1.410494e+08</td>\n",
       "      <td>6.904687</td>\n",
       "      <td>8.949051e+06</td>\n",
       "      <td>145900470.5</td>\n",
       "      <td>7.05</td>\n",
       "    </tr>\n",
       "    <tr>\n",
       "      <td>приключения</td>\n",
       "      <td>6.586730e+07</td>\n",
       "      <td>4.821060e+08</td>\n",
       "      <td>6.398182</td>\n",
       "      <td>6.425710e+05</td>\n",
       "      <td>140005238.0</td>\n",
       "      <td>6.60</td>\n",
       "    </tr>\n",
       "    <tr>\n",
       "      <td>реальное ТВ</td>\n",
       "      <td>3.272110e+07</td>\n",
       "      <td>8.000000e+07</td>\n",
       "      <td>5.600000</td>\n",
       "      <td>3.272110e+07</td>\n",
       "      <td>80000000.0</td>\n",
       "      <td>5.60</td>\n",
       "    </tr>\n",
       "    <tr>\n",
       "      <td>семейный</td>\n",
       "      <td>7.010653e+07</td>\n",
       "      <td>9.097140e+07</td>\n",
       "      <td>5.950000</td>\n",
       "      <td>3.758455e+06</td>\n",
       "      <td>80000000.0</td>\n",
       "      <td>5.80</td>\n",
       "    </tr>\n",
       "    <tr>\n",
       "      <td>спорт</td>\n",
       "      <td>5.203648e+08</td>\n",
       "      <td>2.368230e+08</td>\n",
       "      <td>7.144444</td>\n",
       "      <td>8.608623e+07</td>\n",
       "      <td>90276774.0</td>\n",
       "      <td>7.00</td>\n",
       "    </tr>\n",
       "    <tr>\n",
       "      <td>триллер</td>\n",
       "      <td>3.547408e+07</td>\n",
       "      <td>9.006406e+07</td>\n",
       "      <td>6.589635</td>\n",
       "      <td>4.259314e+06</td>\n",
       "      <td>78422212.0</td>\n",
       "      <td>6.60</td>\n",
       "    </tr>\n",
       "    <tr>\n",
       "      <td>ужасы</td>\n",
       "      <td>6.226273e+07</td>\n",
       "      <td>5.638776e+07</td>\n",
       "      <td>5.658639</td>\n",
       "      <td>9.876765e+06</td>\n",
       "      <td>48664000.0</td>\n",
       "      <td>5.70</td>\n",
       "    </tr>\n",
       "    <tr>\n",
       "      <td>фантастика</td>\n",
       "      <td>2.913510e+08</td>\n",
       "      <td>2.221001e+08</td>\n",
       "      <td>6.643171</td>\n",
       "      <td>2.755207e+07</td>\n",
       "      <td>140025000.0</td>\n",
       "      <td>6.70</td>\n",
       "    </tr>\n",
       "    <tr>\n",
       "      <td>фильм-нуар</td>\n",
       "      <td>1.700000e+03</td>\n",
       "      <td>NaN</td>\n",
       "      <td>7.600000</td>\n",
       "      <td>1.700000e+03</td>\n",
       "      <td>NaN</td>\n",
       "      <td>7.60</td>\n",
       "    </tr>\n",
       "    <tr>\n",
       "      <td>фэнтези</td>\n",
       "      <td>1.840885e+08</td>\n",
       "      <td>2.127385e+08</td>\n",
       "      <td>6.590223</td>\n",
       "      <td>2.242675e+06</td>\n",
       "      <td>59560746.0</td>\n",
       "      <td>6.60</td>\n",
       "    </tr>\n",
       "  </tbody>\n",
       "</table>\n",
       "</div>"
      ],
      "text/plain": [
       "                 mean_box_office   mean_budget  mean_ratings  \\\n",
       "main_genre                                                     \n",
       "аниме               4.130023e+07           NaN      7.477027   \n",
       "биография           9.057708e+07  1.763112e+08      7.012121   \n",
       "боевик              1.169435e+08  1.139061e+08      6.508914   \n",
       "вестерн             8.035216e+07           NaN      7.300000   \n",
       "военный             7.545350e+07  1.428785e+08      6.726087   \n",
       "детектив            1.168495e+08  2.396445e+08      6.646429   \n",
       "детский             2.169321e+05  4.597450e+07      6.114286   \n",
       "для взрослых        7.742100e+05           NaN      4.466667   \n",
       "документальный      2.351044e+06           NaN      7.237900   \n",
       "драма               2.756465e+07  1.196439e+08      6.766983   \n",
       "история             1.483708e+08  5.362656e+08      6.536000   \n",
       "комедия             6.579689e+07  8.311604e+07      5.986063   \n",
       "концерт             2.638980e+05           NaN      6.850000   \n",
       "короткометражка     7.361000e+04           NaN      6.630769   \n",
       "криминал            2.581209e+07  1.421983e+08      6.697436   \n",
       "мелодрама           1.970345e+07  6.273369e+07      6.522977   \n",
       "музыка              1.665820e+07           NaN      7.371429   \n",
       "мультфильм          1.090264e+08  1.875968e+08      6.275560   \n",
       "мюзикл              1.059269e+08  1.410494e+08      6.904687   \n",
       "приключения         6.586730e+07  4.821060e+08      6.398182   \n",
       "реальное ТВ         3.272110e+07  8.000000e+07      5.600000   \n",
       "семейный            7.010653e+07  9.097140e+07      5.950000   \n",
       "спорт               5.203648e+08  2.368230e+08      7.144444   \n",
       "триллер             3.547408e+07  9.006406e+07      6.589635   \n",
       "ужасы               6.226273e+07  5.638776e+07      5.658639   \n",
       "фантастика          2.913510e+08  2.221001e+08      6.643171   \n",
       "фильм-нуар          1.700000e+03           NaN      7.600000   \n",
       "фэнтези             1.840885e+08  2.127385e+08      6.590223   \n",
       "\n",
       "                 median_box_office  median_budget  median_ratings  \n",
       "main_genre                                                         \n",
       "аниме                 2.238131e+06            NaN            7.60  \n",
       "биография             9.319952e+06    131000000.0            6.90  \n",
       "боевик                1.081914e+07    115000000.0            6.70  \n",
       "вестерн               1.825289e+06            NaN            7.90  \n",
       "военный               7.400330e+06    109814241.0            6.65  \n",
       "детектив              1.440789e+07    130000000.0            6.65  \n",
       "детский               2.756900e+04     46940248.0            7.20  \n",
       "для взрослых          7.742100e+05            NaN            4.10  \n",
       "документальный        8.125810e+05            NaN            7.30  \n",
       "драма                 1.538252e+06     58447301.0            6.80  \n",
       "история               3.792051e+06    499919649.0            6.40  \n",
       "комедия               2.588386e+06     68375972.0            6.10  \n",
       "концерт               2.638980e+05            NaN            8.15  \n",
       "короткометражка       7.361000e+04            NaN            6.10  \n",
       "криминал              5.377640e+05     59937470.0            6.70  \n",
       "мелодрама             5.467505e+05     57767081.0            6.70  \n",
       "музыка                2.009311e+06            NaN            7.20  \n",
       "мультфильм            2.660830e+06    182659393.0            6.50  \n",
       "мюзикл                8.949051e+06    145900470.5            7.05  \n",
       "приключения           6.425710e+05    140005238.0            6.60  \n",
       "реальное ТВ           3.272110e+07     80000000.0            5.60  \n",
       "семейный              3.758455e+06     80000000.0            5.80  \n",
       "спорт                 8.608623e+07     90276774.0            7.00  \n",
       "триллер               4.259314e+06     78422212.0            6.60  \n",
       "ужасы                 9.876765e+06     48664000.0            5.70  \n",
       "фантастика            2.755207e+07    140025000.0            6.70  \n",
       "фильм-нуар            1.700000e+03            NaN            7.60  \n",
       "фэнтези               2.242675e+06     59560746.0            6.60  "
      ]
     },
     "execution_count": 57,
     "metadata": {},
     "output_type": "execute_result"
    }
   ],
   "source": [
    "pvt_genre = movies.pivot_table(index = 'main_genre',\n",
    "                   values = ['box_office', 'ratings', 'budget'],\n",
    "                   aggfunc = ['mean', 'median'])\n",
    "#сводная таблица по медианному и среднему значению сборов и рейтингов по жанру за все время\n",
    "pvt_genre.columns = ['mean_box_office', 'mean_budget', 'mean_ratings',\n",
    "                     'median_box_office', 'median_budget', 'median_ratings']\n",
    "pvt_genre"
   ]
  },
  {
   "cell_type": "code",
   "execution_count": 58,
   "metadata": {},
   "outputs": [
    {
     "data": {
      "image/png": "[encoded data removed]",
      "text/plain": [
       "<Figure size 1080x504 with 1 Axes>"
      ]
     },
     "metadata": {
      "needs_background": "light"
     },
     "output_type": "display_data"
    }
   ],
   "source": [
    "sorted_pvt_genre = pvt_genre.sort_values(by = 'median_box_office', ascending = False)\n",
    "plt.figure(figsize = (15, 7))\n",
    "plt.xticks(rotation=90, ha='right')\n",
    "plt.grid()\n",
    "plt.title('Медианные сборы по жанрам')\n",
    "plt.xlabel('Жанр')\n",
    "plt.ylabel('Сумма сборов за все время, рублей')\n",
    "plt.bar(sorted_pvt_genre.index, sorted_pvt_genre['median_box_office'].values)\n",
    "plt.show()\n",
    "#строю стобчатую диаграмму с медианными сборами по жанрам"
   ]
  },
  {
   "cell_type": "code",
   "execution_count": 59,
   "metadata": {
    "scrolled": false
   },
   "outputs": [
    {
     "data": {
      "image/png": "[encoded data removed]",
      "text/plain": [
       "<Figure size 1080x504 with 1 Axes>"
      ]
     },
     "metadata": {
      "needs_background": "light"
     },
     "output_type": "display_data"
    }
   ],
   "source": [
    "sorted_pvt_genre = pvt_genre.sort_values(by = 'median_ratings', ascending = False)\n",
    "plt.figure(figsize = (15, 7))\n",
    "plt.xticks(rotation=90, ha='right')\n",
    "plt.grid()\n",
    "plt.title('Медианные рейтинги по жанрам')\n",
    "plt.xlabel('Жанр')\n",
    "plt.ylabel('Рейтинг')\n",
    "plt.bar(sorted_pvt_genre.index, sorted_pvt_genre['median_ratings'].values)\n",
    "plt.show()\n",
    "#строю стобчатую диаграмму с медианными рейтингами по жанрам"
   ]
  },
  {
   "cell_type": "code",
   "execution_count": 60,
   "metadata": {},
   "outputs": [
    {
     "data": {
      "image/png": "[encoded data removed]",
      "text/plain": [
       "<Figure size 1080x504 with 1 Axes>"
      ]
     },
     "metadata": {
      "needs_background": "light"
     },
     "output_type": "display_data"
    }
   ],
   "source": [
    "sorted_pvt_genre = pvt_genre.query('median_budget > 0').sort_values(by = 'median_budget', ascending = False)\n",
    "plt.figure(figsize = (15, 7))\n",
    "plt.xticks(rotation=90, ha='right')\n",
    "plt.grid()\n",
    "plt.title('Медианный бюджет по жанрам')\n",
    "plt.xlabel('Жанр')\n",
    "plt.ylabel('Сумма бюджета за все время, рублей')\n",
    "plt.bar(sorted_pvt_genre.index, sorted_pvt_genre['median_budget'].values)\n",
    "plt.show()\n",
    "#строю стобчатую диаграмму с медианным бюджетом по жанрам"
   ]
  },
  {
   "cell_type": "markdown",
   "metadata": {},
   "source": []
  },
  {
   "cell_type": "markdown",
   "metadata": {},
   "source": [
    "**Вывод:**\n",
    "\n",
    "- По графику \"Медианная сумма сборов и гос. поддержки с 2013 по 2019 год\" видно, что у фильмов, получивших гос. поддержку бюджет выше, чем сборы в кинотеатрах. В 2013 году медианное значение бюджета фильмов с гос. поддержкой в 12 раз больше, чем медианное значение сборов фильмов в кнотеатре (но в 2013 году, было всего два фильма получивших гос. поддержку, стоит это учесть). В 2017 год разрыв между бюджетом и сборами минимальный - бюджет фильмов всего в 1,5 раза больше, чем сборы в кинотеатрах.\n",
    "\n",
    "- Больше всего было выпушенно фильмов с гос. поддержкой в 2015 году - 12% от общего числа фильмов. Больше всего денег было выделенно на поддержку фильмов в 2019 году около 1,2 миллиарда рублей.\n",
    "\n",
    "- Начиная с 2013 и по 2016 год рейтинг фильмов с гос. поддержкой снижался. У фильмов без гос. поддержки так же видна тенденция на снижение рейтинга. По всем годам у фильмов без гос. поддержки рейтинг выше, чем у фильмов с гос. поддержкой, кроме 2013. Самый низкий рейтинг у фильмов с гос. поддержкой был в 2016 году - 5.8, самый высокий в 2013 году - 6.7. Самый низкий рейтинг у фильмов без гос. поддержки был в 2017 году - 6.4, самый высокий в 2014 году - 6.7\n",
    "\n",
    "- При том, что рейтинг фильмов с гос. поддержкой ниже, сборый у таких фильмов выше по всем годам. Начиная с 2013 года и по 2017 год сумма сборов резко увеличивается, но после 2017 года резко падает. У фильмов без гос. поддеожки сумма сборов с 2013 по 2017 год тоже увеличивается, но не такими большими темпами, в отличии от фильмов с гос. поддержкой. После 2017 года также идет небольшой спад в сумме сборов.\n",
    "\n",
    "- Страна, котрая оказала гос. поддержку самому большому количеству фильмов - Россия, она поддержала 314 фильмов. Остальые страны, которые оказывали гос. поддержку это Россия, но в партнерстве с другими странами.\n",
    "\n",
    "- Топ-3 жанра по сборам это: спорт, реальное ТВ и фантастика. Меньше всего получили жанры - короткометражка, детский, фильм-нуар. То что у жанра короткометражка одни из самых низких сборов можно объяснить тем, что фильмы такого жанра не так часто выходят в прокат в кинотеатрах.\n",
    "\n",
    "- Топ-3 жанра по рейтингу: концерт, вестерн и аниме. Самый низкий рейтин у жанров: для взрослых, реальное ТВ, ужасы. У жанров с меньшим количеством сборов оказались довольно высокие рейтинги, так у жанров - фильм-нуар, концерт и детский довольно высокие рейтинги.\n",
    "\n",
    "- В среднем большего всего бюджет у фильмов жанра - история, мультфильм, мюзикл. Меньше всего у фильмов жанра - детский, ужасы, мелодрама."
   ]
  },
  {
   "cell_type": "markdown",
   "metadata": {
    "id": "V2gYwMcPgFyd"
   },
   "source": [
    "### Шаг 5. Общий вывод"
   ]
  },
  {
   "cell_type": "markdown",
   "metadata": {},
   "source": [
    "Целью исследования было изучить фильмы с гос. поддержкой и текущие тренды Российского кинопроката:\n",
    "\n",
    "- У фильмов с гос. поддержкой бюджет выше, чем сборы в кинотеатрах. У фильмов с гос. поддержкой рейтинги ниже, чем у фильм без гос. поддержки. Но если сравнивать сборы в кинотеатрах у фильмов с гос. поддержко и без гос. поддержки, то у первых они выше.\n",
    "\n",
    "- Гос. поддержку фильмам оказывала в основном Росссия.\n",
    "\n",
    "- Большие бюджеты у фильмов жанра - история, мультфильм и мюзикл.\n",
    "\n",
    "Из этого можно сделать вывод, что фильмы с гос. поддержкой имеют хорошие сборы по сравнению с остальными, но они не покрывают бюджет потраченный на производство фильмов. И рейтинги у фильмов ниже с гос. поддержкой ниже, чем у фильмов без нее.\n",
    "\n",
    "Тренды кинопроката:\n",
    "\n",
    "- Жанры, которые лидируют по сборам имеют довольно низкие рейтинги. А жанры у котрых маленькие сборы входят в шестерку фильмов с самыми высокими рейтингами.\n",
    "\n",
    "- Лидируют по сумме сборов фильмы с рейтингом 16+, самая низкая сумма сборов у фильмов с рейтингами 0+.\n",
    "\n",
    "- С каждым годом средняя и медианная сумма сборов за год растет. Большой скачек произошел в 2015 году и 2017 году.\n",
    "\n",
    "- Среди фильмов, получивших гос. поддержку, возрастные категории с наибольшим количеством сборов - 12+ и 6+. В 2017 большая сумма сборов пришлась на фильмы категории 6+, для фильмов с гос. поддержкой, и в этом же году произошел скачек в повышени рейтинга таких фильмов и суммы сборов.\n",
    "\n",
    "\n"
   ]
  }
 ],
 "metadata": {
  "ExecuteTimeLog": [
   {
    "duration": 537,
    "start_time": "2021-07-07T10:12:08.634Z"
   },
   {
    "duration": 206,
    "start_time": "2021-07-07T10:12:30.191Z"
   },
   {
    "duration": 227,
    "start_time": "2021-07-07T10:12:33.078Z"
   },
   {
    "duration": 153,
    "start_time": "2021-07-07T10:13:42.146Z"
   },
   {
    "duration": 233,
    "start_time": "2021-07-07T10:30:09.252Z"
   },
   {
    "duration": 19,
    "start_time": "2021-07-07T10:30:15.577Z"
   },
   {
    "duration": 18,
    "start_time": "2021-07-07T10:30:57.348Z"
   },
   {
    "duration": 19,
    "start_time": "2021-07-07T10:31:17.452Z"
   },
   {
    "duration": 21,
    "start_time": "2021-07-07T10:31:32.227Z"
   },
   {
    "duration": 27,
    "start_time": "2021-07-07T10:32:06.588Z"
   },
   {
    "duration": 23,
    "start_time": "2021-07-07T10:32:43.645Z"
   },
   {
    "duration": 24,
    "start_time": "2021-07-07T10:33:06.948Z"
   },
   {
    "duration": 7,
    "start_time": "2021-07-07T10:33:28.558Z"
   },
   {
    "duration": 23,
    "start_time": "2021-07-07T10:33:43.761Z"
   },
   {
    "duration": 28,
    "start_time": "2021-07-07T10:34:13.466Z"
   },
   {
    "duration": 23,
    "start_time": "2021-07-07T10:35:56.187Z"
   },
   {
    "duration": 6,
    "start_time": "2021-07-07T10:36:48.182Z"
   },
   {
    "duration": 14,
    "start_time": "2021-07-07T10:37:49.641Z"
   },
   {
    "duration": 6,
    "start_time": "2021-07-07T10:38:06.694Z"
   },
   {
    "duration": 6,
    "start_time": "2021-07-07T10:38:13.493Z"
   },
   {
    "duration": 19,
    "start_time": "2021-07-07T10:38:44.056Z"
   },
   {
    "duration": 186,
    "start_time": "2021-07-07T10:48:35.618Z"
   },
   {
    "duration": 24,
    "start_time": "2021-07-07T10:48:51.498Z"
   },
   {
    "duration": 20,
    "start_time": "2021-07-07T10:48:59.415Z"
   },
   {
    "duration": 20,
    "start_time": "2021-07-07T10:53:02.195Z"
   },
   {
    "duration": 188,
    "start_time": "2021-07-07T10:54:40.486Z"
   },
   {
    "duration": 115,
    "start_time": "2021-07-07T10:54:52.552Z"
   },
   {
    "duration": 214,
    "start_time": "2021-07-07T10:54:56.354Z"
   },
   {
    "duration": 47,
    "start_time": "2021-07-07T10:54:58.282Z"
   },
   {
    "duration": 217,
    "start_time": "2021-07-07T10:59:16.075Z"
   },
   {
    "duration": 51,
    "start_time": "2021-07-07T10:59:16.243Z"
   },
   {
    "duration": 578,
    "start_time": "2021-07-07T10:59:18.774Z"
   },
   {
    "duration": 161,
    "start_time": "2021-07-07T10:59:21.238Z"
   },
   {
    "duration": 59,
    "start_time": "2021-07-07T10:59:21.453Z"
   },
   {
    "duration": 3,
    "start_time": "2021-07-07T11:02:10.786Z"
   },
   {
    "duration": 13,
    "start_time": "2021-07-07T11:07:07.722Z"
   },
   {
    "duration": 26,
    "start_time": "2021-07-07T11:07:17.958Z"
   },
   {
    "duration": 22,
    "start_time": "2021-07-07T11:08:17.939Z"
   },
   {
    "duration": 212,
    "start_time": "2021-07-07T11:08:19.665Z"
   },
   {
    "duration": 21,
    "start_time": "2021-07-07T11:08:29.945Z"
   },
   {
    "duration": 31,
    "start_time": "2021-07-07T11:08:38.899Z"
   },
   {
    "duration": 23,
    "start_time": "2021-07-07T11:08:54.527Z"
   },
   {
    "duration": 8,
    "start_time": "2021-07-07T11:18:55.974Z"
   },
   {
    "duration": 7,
    "start_time": "2021-07-07T11:19:03.639Z"
   },
   {
    "duration": 7,
    "start_time": "2021-07-07T11:19:06.444Z"
   },
   {
    "duration": 578,
    "start_time": "2021-07-07T12:09:59.576Z"
   },
   {
    "duration": 195,
    "start_time": "2021-07-07T12:10:00.156Z"
   },
   {
    "duration": 115,
    "start_time": "2021-07-07T12:10:00.353Z"
   },
   {
    "duration": 3,
    "start_time": "2021-07-07T12:10:00.470Z"
   },
   {
    "duration": 32,
    "start_time": "2021-07-07T12:10:00.474Z"
   },
   {
    "duration": 23,
    "start_time": "2021-07-07T12:10:00.508Z"
   },
   {
    "duration": 19,
    "start_time": "2021-07-07T12:10:00.533Z"
   },
   {
    "duration": 44,
    "start_time": "2021-07-07T12:10:00.553Z"
   },
   {
    "duration": 7,
    "start_time": "2021-07-07T12:10:00.600Z"
   },
   {
    "duration": 7,
    "start_time": "2021-07-07T12:19:45.761Z"
   },
   {
    "duration": 21,
    "start_time": "2021-07-07T12:21:35.482Z"
   },
   {
    "duration": 21,
    "start_time": "2021-07-07T12:29:23.569Z"
   },
   {
    "duration": 525,
    "start_time": "2021-07-07T12:29:44.542Z"
   },
   {
    "duration": 214,
    "start_time": "2021-07-07T12:29:45.069Z"
   },
   {
    "duration": 92,
    "start_time": "2021-07-07T12:29:45.285Z"
   },
   {
    "duration": 3,
    "start_time": "2021-07-07T12:29:45.379Z"
   },
   {
    "duration": 28,
    "start_time": "2021-07-07T12:29:45.384Z"
   },
   {
    "duration": 23,
    "start_time": "2021-07-07T12:29:45.413Z"
   },
   {
    "duration": 21,
    "start_time": "2021-07-07T12:29:45.437Z"
   },
   {
    "duration": 41,
    "start_time": "2021-07-07T12:29:45.460Z"
   },
   {
    "duration": 7,
    "start_time": "2021-07-07T12:29:45.502Z"
   },
   {
    "duration": 20,
    "start_time": "2021-07-07T12:29:45.511Z"
   },
   {
    "duration": 12,
    "start_time": "2021-07-07T12:34:02.800Z"
   },
   {
    "duration": 7,
    "start_time": "2021-07-07T12:35:10.479Z"
   },
   {
    "duration": 8,
    "start_time": "2021-07-07T12:35:22.440Z"
   },
   {
    "duration": 6,
    "start_time": "2021-07-07T12:35:35.649Z"
   },
   {
    "duration": 6,
    "start_time": "2021-07-07T12:35:43.107Z"
   },
   {
    "duration": 22,
    "start_time": "2021-07-07T12:38:03.029Z"
   },
   {
    "duration": 10,
    "start_time": "2021-07-07T12:38:06.592Z"
   },
   {
    "duration": 563,
    "start_time": "2021-07-07T12:38:46.493Z"
   },
   {
    "duration": 265,
    "start_time": "2021-07-07T12:38:47.058Z"
   },
   {
    "duration": 94,
    "start_time": "2021-07-07T12:38:47.325Z"
   },
   {
    "duration": 3,
    "start_time": "2021-07-07T12:38:47.422Z"
   },
   {
    "duration": 30,
    "start_time": "2021-07-07T12:38:47.427Z"
   },
   {
    "duration": 16,
    "start_time": "2021-07-07T12:38:53.305Z"
   },
   {
    "duration": 10,
    "start_time": "2021-07-07T12:38:53.499Z"
   },
   {
    "duration": 8,
    "start_time": "2021-07-07T12:39:48.161Z"
   },
   {
    "duration": 27,
    "start_time": "2021-07-07T12:41:17.629Z"
   },
   {
    "duration": 17,
    "start_time": "2021-07-07T12:41:17.867Z"
   },
   {
    "duration": 21,
    "start_time": "2021-07-07T12:41:19.310Z"
   },
   {
    "duration": 7,
    "start_time": "2021-07-07T12:41:19.544Z"
   },
   {
    "duration": 20,
    "start_time": "2021-07-07T12:41:20.504Z"
   },
   {
    "duration": 554,
    "start_time": "2021-07-07T12:56:23.696Z"
   },
   {
    "duration": 200,
    "start_time": "2021-07-07T12:56:25.234Z"
   },
   {
    "duration": 119,
    "start_time": "2021-07-07T12:56:25.480Z"
   },
   {
    "duration": 4,
    "start_time": "2021-07-07T12:56:25.762Z"
   },
   {
    "duration": 26,
    "start_time": "2021-07-07T12:56:27.172Z"
   },
   {
    "duration": 12,
    "start_time": "2021-07-07T12:56:29.051Z"
   },
   {
    "duration": 10,
    "start_time": "2021-07-07T12:56:29.291Z"
   },
   {
    "duration": 8,
    "start_time": "2021-07-07T12:56:29.623Z"
   },
   {
    "duration": 28,
    "start_time": "2021-07-07T12:56:32.137Z"
   },
   {
    "duration": 19,
    "start_time": "2021-07-07T12:56:39.785Z"
   },
   {
    "duration": 20,
    "start_time": "2021-07-07T12:56:44.297Z"
   },
   {
    "duration": 7,
    "start_time": "2021-07-07T12:56:45.392Z"
   },
   {
    "duration": 23,
    "start_time": "2021-07-07T12:56:46.615Z"
   },
   {
    "duration": 4,
    "start_time": "2021-07-07T12:57:06.625Z"
   },
   {
    "duration": 32,
    "start_time": "2021-07-07T12:57:36.690Z"
   },
   {
    "duration": 18,
    "start_time": "2021-07-07T12:58:00.149Z"
   },
   {
    "duration": 15,
    "start_time": "2021-07-07T12:59:16.793Z"
   },
   {
    "duration": 7,
    "start_time": "2021-07-07T13:19:22.624Z"
   },
   {
    "duration": 6,
    "start_time": "2021-07-07T14:17:33.527Z"
   },
   {
    "duration": 9,
    "start_time": "2021-07-07T14:17:48.409Z"
   },
   {
    "duration": 8,
    "start_time": "2021-07-07T14:20:13.060Z"
   },
   {
    "duration": 8,
    "start_time": "2021-07-07T14:20:37.957Z"
   },
   {
    "duration": 8,
    "start_time": "2021-07-07T14:20:47.470Z"
   },
   {
    "duration": 9,
    "start_time": "2021-07-07T14:20:54.503Z"
   },
   {
    "duration": 10,
    "start_time": "2021-07-07T14:28:57.763Z"
   },
   {
    "duration": 3,
    "start_time": "2021-07-07T14:30:23.377Z"
   },
   {
    "duration": 3,
    "start_time": "2021-07-07T14:30:36.489Z"
   },
   {
    "duration": 103,
    "start_time": "2021-07-07T14:30:52.351Z"
   },
   {
    "duration": 8,
    "start_time": "2021-07-07T14:30:54.763Z"
   },
   {
    "duration": 8,
    "start_time": "2021-07-07T14:31:29.301Z"
   },
   {
    "duration": 13,
    "start_time": "2021-07-07T14:31:44.516Z"
   },
   {
    "duration": 7,
    "start_time": "2021-07-07T14:33:10.972Z"
   },
   {
    "duration": 11,
    "start_time": "2021-07-07T14:33:27.780Z"
   },
   {
    "duration": 8,
    "start_time": "2021-07-07T14:34:44.588Z"
   },
   {
    "duration": 57,
    "start_time": "2021-07-07T14:35:59.042Z"
   },
   {
    "duration": 3,
    "start_time": "2021-07-07T14:36:28.168Z"
   },
   {
    "duration": 5,
    "start_time": "2021-07-07T14:36:46.254Z"
   },
   {
    "duration": 4,
    "start_time": "2021-07-07T14:36:52.714Z"
   },
   {
    "duration": 3,
    "start_time": "2021-07-07T14:36:56.612Z"
   },
   {
    "duration": 4,
    "start_time": "2021-07-07T14:36:57.049Z"
   },
   {
    "duration": 3,
    "start_time": "2021-07-07T14:39:21.214Z"
   },
   {
    "duration": 7,
    "start_time": "2021-07-07T14:39:52.406Z"
   },
   {
    "duration": 11,
    "start_time": "2021-07-07T14:39:58.576Z"
   },
   {
    "duration": 9,
    "start_time": "2021-07-07T14:40:26.301Z"
   },
   {
    "duration": 10,
    "start_time": "2021-07-07T14:40:31.704Z"
   },
   {
    "duration": 11,
    "start_time": "2021-07-07T14:40:36.249Z"
   },
   {
    "duration": 10,
    "start_time": "2021-07-07T14:40:39.783Z"
   },
   {
    "duration": 9,
    "start_time": "2021-07-07T14:40:48.558Z"
   },
   {
    "duration": 10,
    "start_time": "2021-07-07T14:40:57.143Z"
   },
   {
    "duration": 9,
    "start_time": "2021-07-07T14:41:06.074Z"
   },
   {
    "duration": 4324,
    "start_time": "2021-07-07T14:41:22.004Z"
   },
   {
    "duration": 11,
    "start_time": "2021-07-07T14:41:33.392Z"
   },
   {
    "duration": 9,
    "start_time": "2021-07-07T14:41:39.288Z"
   },
   {
    "duration": 569,
    "start_time": "2021-07-07T14:42:14.387Z"
   },
   {
    "duration": 197,
    "start_time": "2021-07-07T14:42:14.959Z"
   },
   {
    "duration": 84,
    "start_time": "2021-07-07T14:42:16.052Z"
   },
   {
    "duration": 4,
    "start_time": "2021-07-07T14:42:16.900Z"
   },
   {
    "duration": 27,
    "start_time": "2021-07-07T14:42:19.898Z"
   },
   {
    "duration": 12,
    "start_time": "2021-07-07T14:42:21.577Z"
   },
   {
    "duration": 9,
    "start_time": "2021-07-07T14:42:21.813Z"
   },
   {
    "duration": 9,
    "start_time": "2021-07-07T14:42:22.569Z"
   },
   {
    "duration": 29,
    "start_time": "2021-07-07T14:42:25.837Z"
   },
   {
    "duration": 20,
    "start_time": "2021-07-07T14:42:27.003Z"
   },
   {
    "duration": 21,
    "start_time": "2021-07-07T14:42:28.767Z"
   },
   {
    "duration": 7,
    "start_time": "2021-07-07T14:42:29.838Z"
   },
   {
    "duration": 4,
    "start_time": "2021-07-07T14:43:25.493Z"
   },
   {
    "duration": 7,
    "start_time": "2021-07-07T14:43:26.573Z"
   },
   {
    "duration": 10,
    "start_time": "2021-07-07T14:43:31.639Z"
   },
   {
    "duration": 9,
    "start_time": "2021-07-07T14:43:32.046Z"
   },
   {
    "duration": 10,
    "start_time": "2021-07-07T14:43:33.301Z"
   },
   {
    "duration": 12,
    "start_time": "2021-07-07T14:43:33.658Z"
   },
   {
    "duration": 8,
    "start_time": "2021-07-07T14:43:34.552Z"
   },
   {
    "duration": 9,
    "start_time": "2021-07-07T14:43:35.058Z"
   },
   {
    "duration": 12,
    "start_time": "2021-07-07T14:43:35.914Z"
   },
   {
    "duration": 17,
    "start_time": "2021-07-07T14:45:34.368Z"
   },
   {
    "duration": 512,
    "start_time": "2021-07-07T14:51:58.236Z"
   },
   {
    "duration": 223,
    "start_time": "2021-07-07T14:51:58.750Z"
   },
   {
    "duration": 93,
    "start_time": "2021-07-07T14:51:58.977Z"
   },
   {
    "duration": 4,
    "start_time": "2021-07-07T14:51:59.071Z"
   },
   {
    "duration": 37,
    "start_time": "2021-07-07T14:51:59.077Z"
   },
   {
    "duration": 18,
    "start_time": "2021-07-07T14:51:59.116Z"
   },
   {
    "duration": 10,
    "start_time": "2021-07-07T14:51:59.137Z"
   },
   {
    "duration": 8,
    "start_time": "2021-07-07T14:51:59.149Z"
   },
   {
    "duration": 54,
    "start_time": "2021-07-07T14:51:59.158Z"
   },
   {
    "duration": 18,
    "start_time": "2021-07-07T14:51:59.213Z"
   },
   {
    "duration": 22,
    "start_time": "2021-07-07T14:51:59.232Z"
   },
   {
    "duration": 36,
    "start_time": "2021-07-07T14:51:59.255Z"
   },
   {
    "duration": 7,
    "start_time": "2021-07-07T14:51:59.293Z"
   },
   {
    "duration": 10,
    "start_time": "2021-07-07T14:51:59.302Z"
   },
   {
    "duration": 9,
    "start_time": "2021-07-07T14:51:59.313Z"
   },
   {
    "duration": 11,
    "start_time": "2021-07-07T14:51:59.324Z"
   },
   {
    "duration": 8,
    "start_time": "2021-07-07T14:51:59.337Z"
   },
   {
    "duration": 46,
    "start_time": "2021-07-07T14:51:59.347Z"
   },
   {
    "duration": 22,
    "start_time": "2021-07-07T14:51:59.395Z"
   },
   {
    "duration": 24,
    "start_time": "2021-07-07T14:57:32.911Z"
   },
   {
    "duration": 7,
    "start_time": "2021-07-07T14:58:22.070Z"
   },
   {
    "duration": 4,
    "start_time": "2021-07-07T14:59:11.239Z"
   },
   {
    "duration": 25,
    "start_time": "2021-07-07T15:07:22.208Z"
   },
   {
    "duration": 16,
    "start_time": "2021-07-07T15:08:25.560Z"
   },
   {
    "duration": 15,
    "start_time": "2021-07-07T15:08:40.647Z"
   },
   {
    "duration": 14,
    "start_time": "2021-07-07T15:08:46.669Z"
   },
   {
    "duration": 533,
    "start_time": "2021-07-07T15:18:07.440Z"
   },
   {
    "duration": 173,
    "start_time": "2021-07-07T15:18:07.974Z"
   },
   {
    "duration": 84,
    "start_time": "2021-07-07T15:18:08.149Z"
   },
   {
    "duration": 3,
    "start_time": "2021-07-07T15:18:08.235Z"
   },
   {
    "duration": 30,
    "start_time": "2021-07-07T15:18:08.240Z"
   },
   {
    "duration": 22,
    "start_time": "2021-07-07T15:18:08.272Z"
   },
   {
    "duration": 11,
    "start_time": "2021-07-07T15:18:08.295Z"
   },
   {
    "duration": 11,
    "start_time": "2021-07-07T15:18:08.309Z"
   },
   {
    "duration": 40,
    "start_time": "2021-07-07T15:18:08.322Z"
   },
   {
    "duration": 42,
    "start_time": "2021-07-07T15:18:08.364Z"
   },
   {
    "duration": 22,
    "start_time": "2021-07-07T15:18:08.408Z"
   },
   {
    "duration": 5,
    "start_time": "2021-07-07T15:18:08.432Z"
   },
   {
    "duration": 13,
    "start_time": "2021-07-07T15:18:08.439Z"
   },
   {
    "duration": 9,
    "start_time": "2021-07-07T15:18:08.454Z"
   },
   {
    "duration": 32,
    "start_time": "2021-07-07T15:18:08.465Z"
   },
   {
    "duration": 10,
    "start_time": "2021-07-07T15:18:08.501Z"
   },
   {
    "duration": 7,
    "start_time": "2021-07-07T15:18:08.513Z"
   },
   {
    "duration": 11,
    "start_time": "2021-07-07T15:18:08.521Z"
   },
   {
    "duration": 17,
    "start_time": "2021-07-07T15:18:08.534Z"
   },
   {
    "duration": 44,
    "start_time": "2021-07-07T15:18:08.553Z"
   },
   {
    "duration": 22,
    "start_time": "2021-07-07T15:18:08.599Z"
   },
   {
    "duration": 61,
    "start_time": "2021-07-07T15:18:08.622Z"
   },
   {
    "duration": 7,
    "start_time": "2021-07-07T15:18:39.457Z"
   },
   {
    "duration": 5,
    "start_time": "2021-07-07T16:05:17.020Z"
   },
   {
    "duration": 5,
    "start_time": "2021-07-07T16:51:28.794Z"
   },
   {
    "duration": 546,
    "start_time": "2021-07-07T16:52:26.306Z"
   },
   {
    "duration": 203,
    "start_time": "2021-07-07T16:52:27.523Z"
   },
   {
    "duration": 85,
    "start_time": "2021-07-07T16:52:27.736Z"
   },
   {
    "duration": 4,
    "start_time": "2021-07-07T16:52:27.899Z"
   },
   {
    "duration": 25,
    "start_time": "2021-07-07T16:52:28.674Z"
   },
   {
    "duration": 8,
    "start_time": "2021-07-07T16:52:32.956Z"
   },
   {
    "duration": 18,
    "start_time": "2021-07-07T16:52:35.616Z"
   },
   {
    "duration": 6,
    "start_time": "2021-07-07T16:52:36.913Z"
   },
   {
    "duration": 11,
    "start_time": "2021-07-07T16:52:40.258Z"
   },
   {
    "duration": 10,
    "start_time": "2021-07-07T16:52:46.251Z"
   },
   {
    "duration": 8,
    "start_time": "2021-07-07T16:52:47.182Z"
   },
   {
    "duration": 27,
    "start_time": "2021-07-07T16:53:20.391Z"
   },
   {
    "duration": 20,
    "start_time": "2021-07-07T16:53:22.022Z"
   },
   {
    "duration": 23,
    "start_time": "2021-07-07T16:53:23.690Z"
   },
   {
    "duration": 8,
    "start_time": "2021-07-07T16:53:24.261Z"
   },
   {
    "duration": 4,
    "start_time": "2021-07-07T16:53:38.733Z"
   },
   {
    "duration": 7,
    "start_time": "2021-07-07T16:53:40.445Z"
   },
   {
    "duration": 11,
    "start_time": "2021-07-07T16:53:41.348Z"
   },
   {
    "duration": 13,
    "start_time": "2021-07-07T16:53:45.250Z"
   },
   {
    "duration": 12,
    "start_time": "2021-07-07T16:53:45.467Z"
   },
   {
    "duration": 4,
    "start_time": "2021-07-07T16:55:32.704Z"
   },
   {
    "duration": 12,
    "start_time": "2021-07-07T16:55:49.012Z"
   },
   {
    "duration": 18,
    "start_time": "2021-07-07T16:55:49.547Z"
   },
   {
    "duration": 611,
    "start_time": "2021-07-07T16:58:35.156Z"
   },
   {
    "duration": 200,
    "start_time": "2021-07-07T16:58:35.770Z"
   },
   {
    "duration": 86,
    "start_time": "2021-07-07T16:58:35.972Z"
   },
   {
    "duration": 3,
    "start_time": "2021-07-07T16:58:36.060Z"
   },
   {
    "duration": 27,
    "start_time": "2021-07-07T16:58:36.065Z"
   },
   {
    "duration": 8,
    "start_time": "2021-07-07T16:58:36.094Z"
   },
   {
    "duration": 17,
    "start_time": "2021-07-07T16:58:36.103Z"
   },
   {
    "duration": 5,
    "start_time": "2021-07-07T16:58:36.123Z"
   },
   {
    "duration": 11,
    "start_time": "2021-07-07T16:58:36.130Z"
   },
   {
    "duration": 7,
    "start_time": "2021-07-07T16:58:36.143Z"
   },
   {
    "duration": 37,
    "start_time": "2021-07-07T16:58:36.152Z"
   },
   {
    "duration": 27,
    "start_time": "2021-07-07T16:58:36.191Z"
   },
   {
    "duration": 19,
    "start_time": "2021-07-07T16:58:36.219Z"
   },
   {
    "duration": 49,
    "start_time": "2021-07-07T16:58:36.240Z"
   },
   {
    "duration": 6,
    "start_time": "2021-07-07T16:58:36.291Z"
   },
   {
    "duration": 3,
    "start_time": "2021-07-07T16:58:36.299Z"
   },
   {
    "duration": 13,
    "start_time": "2021-07-07T16:58:36.304Z"
   },
   {
    "duration": 10,
    "start_time": "2021-07-07T16:58:36.319Z"
   },
   {
    "duration": 10,
    "start_time": "2021-07-07T16:58:36.331Z"
   },
   {
    "duration": 44,
    "start_time": "2021-07-07T16:58:36.343Z"
   },
   {
    "duration": 4,
    "start_time": "2021-07-07T16:58:36.388Z"
   },
   {
    "duration": 13,
    "start_time": "2021-07-07T16:58:36.394Z"
   },
   {
    "duration": 16,
    "start_time": "2021-07-07T16:58:36.410Z"
   },
   {
    "duration": 8,
    "start_time": "2021-07-07T17:02:31.629Z"
   },
   {
    "duration": 8,
    "start_time": "2021-07-07T17:02:34.308Z"
   },
   {
    "duration": 6,
    "start_time": "2021-07-07T17:05:13.483Z"
   },
   {
    "duration": 17,
    "start_time": "2021-07-07T17:05:20.606Z"
   },
   {
    "duration": 7,
    "start_time": "2021-07-07T17:05:34.638Z"
   },
   {
    "duration": 3,
    "start_time": "2021-07-07T17:06:31.883Z"
   },
   {
    "duration": 570,
    "start_time": "2021-07-07T17:06:37.165Z"
   },
   {
    "duration": 174,
    "start_time": "2021-07-07T17:06:37.737Z"
   },
   {
    "duration": 47,
    "start_time": "2021-07-07T17:06:37.913Z"
   },
   {
    "duration": 3,
    "start_time": "2021-07-07T17:06:37.962Z"
   },
   {
    "duration": 27,
    "start_time": "2021-07-07T17:06:37.967Z"
   },
   {
    "duration": 7,
    "start_time": "2021-07-07T17:06:37.996Z"
   },
   {
    "duration": 16,
    "start_time": "2021-07-07T17:06:38.005Z"
   },
   {
    "duration": 6,
    "start_time": "2021-07-07T17:06:38.024Z"
   },
   {
    "duration": 12,
    "start_time": "2021-07-07T17:06:38.031Z"
   },
   {
    "duration": 41,
    "start_time": "2021-07-07T17:06:38.045Z"
   },
   {
    "duration": 8,
    "start_time": "2021-07-07T17:06:38.088Z"
   },
   {
    "duration": 26,
    "start_time": "2021-07-07T17:06:38.098Z"
   },
   {
    "duration": 17,
    "start_time": "2021-07-07T17:06:38.126Z"
   },
   {
    "duration": 43,
    "start_time": "2021-07-07T17:06:38.144Z"
   },
   {
    "duration": 6,
    "start_time": "2021-07-07T17:06:38.188Z"
   },
   {
    "duration": 5,
    "start_time": "2021-07-07T17:06:38.195Z"
   },
   {
    "duration": 9,
    "start_time": "2021-07-07T17:06:38.201Z"
   },
   {
    "duration": 12,
    "start_time": "2021-07-07T17:06:38.212Z"
   },
   {
    "duration": 11,
    "start_time": "2021-07-07T17:06:38.226Z"
   },
   {
    "duration": 47,
    "start_time": "2021-07-07T17:06:38.239Z"
   },
   {
    "duration": 4,
    "start_time": "2021-07-07T17:06:38.288Z"
   },
   {
    "duration": 13,
    "start_time": "2021-07-07T17:06:38.293Z"
   },
   {
    "duration": 5,
    "start_time": "2021-07-07T17:06:38.309Z"
   },
   {
    "duration": 18,
    "start_time": "2021-07-07T17:06:38.325Z"
   },
   {
    "duration": 20,
    "start_time": "2021-07-07T17:07:02.805Z"
   },
   {
    "duration": 19,
    "start_time": "2021-07-07T17:07:08.527Z"
   },
   {
    "duration": 19,
    "start_time": "2021-07-07T17:07:12.758Z"
   },
   {
    "duration": 22,
    "start_time": "2021-07-07T17:07:17.497Z"
   },
   {
    "duration": 19,
    "start_time": "2021-07-07T17:07:19.645Z"
   },
   {
    "duration": 10,
    "start_time": "2021-07-07T17:07:34.239Z"
   },
   {
    "duration": 17,
    "start_time": "2021-07-07T17:07:54.144Z"
   },
   {
    "duration": 14,
    "start_time": "2021-07-07T17:08:14.357Z"
   },
   {
    "duration": 616,
    "start_time": "2021-07-07T17:08:45.254Z"
   },
   {
    "duration": 178,
    "start_time": "2021-07-07T17:08:45.872Z"
   },
   {
    "duration": 60,
    "start_time": "2021-07-07T17:08:46.054Z"
   },
   {
    "duration": 3,
    "start_time": "2021-07-07T17:08:46.116Z"
   },
   {
    "duration": 26,
    "start_time": "2021-07-07T17:08:46.121Z"
   },
   {
    "duration": 7,
    "start_time": "2021-07-07T17:08:46.149Z"
   },
   {
    "duration": 17,
    "start_time": "2021-07-07T17:08:46.158Z"
   },
   {
    "duration": 14,
    "start_time": "2021-07-07T17:08:46.176Z"
   },
   {
    "duration": 17,
    "start_time": "2021-07-07T17:08:46.193Z"
   },
   {
    "duration": 9,
    "start_time": "2021-07-07T17:08:46.211Z"
   },
   {
    "duration": 21,
    "start_time": "2021-07-07T17:08:46.221Z"
   },
   {
    "duration": 49,
    "start_time": "2021-07-07T17:08:46.244Z"
   },
   {
    "duration": 24,
    "start_time": "2021-07-07T17:08:46.295Z"
   },
   {
    "duration": 22,
    "start_time": "2021-07-07T17:08:46.321Z"
   },
   {
    "duration": 6,
    "start_time": "2021-07-07T17:08:46.345Z"
   },
   {
    "duration": 5,
    "start_time": "2021-07-07T17:08:46.353Z"
   },
   {
    "duration": 13,
    "start_time": "2021-07-07T17:08:46.386Z"
   },
   {
    "duration": 12,
    "start_time": "2021-07-07T17:08:46.402Z"
   },
   {
    "duration": 10,
    "start_time": "2021-07-07T17:08:46.415Z"
   },
   {
    "duration": 7,
    "start_time": "2021-07-07T17:08:46.427Z"
   },
   {
    "duration": 8,
    "start_time": "2021-07-07T17:08:46.435Z"
   },
   {
    "duration": 68,
    "start_time": "2021-07-07T17:08:46.446Z"
   },
   {
    "duration": 13,
    "start_time": "2021-07-07T17:08:46.516Z"
   },
   {
    "duration": 78,
    "start_time": "2021-07-07T17:08:46.530Z"
   },
   {
    "duration": 40,
    "start_time": "2021-07-07T17:09:08.185Z"
   },
   {
    "duration": 16,
    "start_time": "2021-07-07T17:09:19.324Z"
   },
   {
    "duration": 21,
    "start_time": "2021-07-07T17:09:23.290Z"
   },
   {
    "duration": 13,
    "start_time": "2021-07-07T17:09:54.812Z"
   },
   {
    "duration": 13,
    "start_time": "2021-07-07T17:10:02.039Z"
   },
   {
    "duration": 10,
    "start_time": "2021-07-07T17:10:29.632Z"
   },
   {
    "duration": 13,
    "start_time": "2021-07-07T17:10:52.372Z"
   },
   {
    "duration": 13,
    "start_time": "2021-07-07T17:11:17.270Z"
   },
   {
    "duration": 13,
    "start_time": "2021-07-07T17:14:59.284Z"
   },
   {
    "duration": 547,
    "start_time": "2021-07-07T17:18:52.403Z"
   },
   {
    "duration": 163,
    "start_time": "2021-07-07T17:18:52.952Z"
   },
   {
    "duration": 44,
    "start_time": "2021-07-07T17:18:53.117Z"
   },
   {
    "duration": 3,
    "start_time": "2021-07-07T17:18:53.162Z"
   },
   {
    "duration": 26,
    "start_time": "2021-07-07T17:18:53.167Z"
   },
   {
    "duration": 6,
    "start_time": "2021-07-07T17:18:53.195Z"
   },
   {
    "duration": 15,
    "start_time": "2021-07-07T17:18:53.203Z"
   },
   {
    "duration": 5,
    "start_time": "2021-07-07T17:18:53.220Z"
   },
   {
    "duration": 11,
    "start_time": "2021-07-07T17:18:53.228Z"
   },
   {
    "duration": 9,
    "start_time": "2021-07-07T17:18:53.241Z"
   },
   {
    "duration": 41,
    "start_time": "2021-07-07T17:18:53.252Z"
   },
   {
    "duration": 33,
    "start_time": "2021-07-07T17:18:53.295Z"
   },
   {
    "duration": 19,
    "start_time": "2021-07-07T17:18:53.330Z"
   },
   {
    "duration": 49,
    "start_time": "2021-07-07T17:18:53.350Z"
   },
   {
    "duration": 5,
    "start_time": "2021-07-07T17:18:53.401Z"
   },
   {
    "duration": 5,
    "start_time": "2021-07-07T17:18:53.408Z"
   },
   {
    "duration": 11,
    "start_time": "2021-07-07T17:18:53.414Z"
   },
   {
    "duration": 9,
    "start_time": "2021-07-07T17:18:53.427Z"
   },
   {
    "duration": 10,
    "start_time": "2021-07-07T17:18:53.437Z"
   },
   {
    "duration": 39,
    "start_time": "2021-07-07T17:18:53.448Z"
   },
   {
    "duration": 26,
    "start_time": "2021-07-07T17:18:55.799Z"
   },
   {
    "duration": 598,
    "start_time": "2021-07-07T17:20:17.862Z"
   },
   {
    "duration": 161,
    "start_time": "2021-07-07T17:20:18.462Z"
   },
   {
    "duration": 45,
    "start_time": "2021-07-07T17:20:18.626Z"
   },
   {
    "duration": 4,
    "start_time": "2021-07-07T17:20:18.673Z"
   },
   {
    "duration": 38,
    "start_time": "2021-07-07T17:20:26.877Z"
   },
   {
    "duration": 7,
    "start_time": "2021-07-07T17:20:37.405Z"
   },
   {
    "duration": 19,
    "start_time": "2021-07-07T17:20:51.534Z"
   },
   {
    "duration": 5,
    "start_time": "2021-07-07T17:20:57.228Z"
   },
   {
    "duration": 7,
    "start_time": "2021-07-07T17:21:08.235Z"
   },
   {
    "duration": 19,
    "start_time": "2021-07-07T17:21:42.158Z"
   },
   {
    "duration": 14,
    "start_time": "2021-07-07T17:21:50.225Z"
   },
   {
    "duration": 22,
    "start_time": "2021-07-07T17:22:54.104Z"
   },
   {
    "duration": 5,
    "start_time": "2021-07-07T17:22:56.371Z"
   },
   {
    "duration": 14,
    "start_time": "2021-07-07T17:22:58.316Z"
   },
   {
    "duration": 5,
    "start_time": "2021-07-07T17:22:58.493Z"
   },
   {
    "duration": 35,
    "start_time": "2021-07-07T17:22:59.666Z"
   },
   {
    "duration": 6,
    "start_time": "2021-07-07T17:23:02.410Z"
   },
   {
    "duration": 611,
    "start_time": "2021-07-07T17:24:59.664Z"
   },
   {
    "duration": 178,
    "start_time": "2021-07-07T17:25:01.945Z"
   },
   {
    "duration": 47,
    "start_time": "2021-07-07T17:25:02.125Z"
   },
   {
    "duration": 2,
    "start_time": "2021-07-07T17:25:07.903Z"
   },
   {
    "duration": 254,
    "start_time": "2021-07-07T17:25:08.232Z"
   },
   {
    "duration": 182,
    "start_time": "2021-07-07T17:25:08.671Z"
   },
   {
    "duration": 6,
    "start_time": "2021-07-07T17:25:13.104Z"
   },
   {
    "duration": 36,
    "start_time": "2021-07-07T17:25:13.662Z"
   },
   {
    "duration": 7,
    "start_time": "2021-07-07T17:25:14.528Z"
   },
   {
    "duration": 24,
    "start_time": "2021-07-07T17:25:27.982Z"
   },
   {
    "duration": 3,
    "start_time": "2021-07-07T17:25:48.982Z"
   },
   {
    "duration": 165,
    "start_time": "2021-07-07T17:25:48.987Z"
   },
   {
    "duration": 50,
    "start_time": "2021-07-07T17:25:49.154Z"
   },
   {
    "duration": 4,
    "start_time": "2021-07-07T17:25:49.206Z"
   },
   {
    "duration": 26,
    "start_time": "2021-07-07T17:25:49.212Z"
   },
   {
    "duration": 7,
    "start_time": "2021-07-07T17:25:49.240Z"
   },
   {
    "duration": 16,
    "start_time": "2021-07-07T17:25:49.249Z"
   },
   {
    "duration": 22,
    "start_time": "2021-07-07T17:25:49.266Z"
   },
   {
    "duration": 16,
    "start_time": "2021-07-07T17:25:49.291Z"
   },
   {
    "duration": 9,
    "start_time": "2021-07-07T17:25:49.309Z"
   },
   {
    "duration": 7,
    "start_time": "2021-07-07T17:25:49.319Z"
   },
   {
    "duration": 28,
    "start_time": "2021-07-07T17:25:49.328Z"
   },
   {
    "duration": 44,
    "start_time": "2021-07-07T17:25:49.357Z"
   },
   {
    "duration": 22,
    "start_time": "2021-07-07T17:25:49.403Z"
   },
   {
    "duration": 7,
    "start_time": "2021-07-07T17:25:49.427Z"
   },
   {
    "duration": 3,
    "start_time": "2021-07-07T17:25:49.436Z"
   },
   {
    "duration": 44,
    "start_time": "2021-07-07T17:25:49.441Z"
   },
   {
    "duration": 12,
    "start_time": "2021-07-07T17:25:49.488Z"
   },
   {
    "duration": 13,
    "start_time": "2021-07-07T17:25:49.502Z"
   },
   {
    "duration": 10,
    "start_time": "2021-07-07T17:25:49.516Z"
   },
   {
    "duration": 62,
    "start_time": "2021-07-07T17:25:49.527Z"
   },
   {
    "duration": 26,
    "start_time": "2021-07-07T17:26:51.809Z"
   },
   {
    "duration": 26,
    "start_time": "2021-07-07T17:26:55.759Z"
   },
   {
    "duration": 26,
    "start_time": "2021-07-07T17:27:04.501Z"
   },
   {
    "duration": 25,
    "start_time": "2021-07-07T17:28:24.859Z"
   },
   {
    "duration": 21,
    "start_time": "2021-07-07T17:28:55.250Z"
   },
   {
    "duration": 21,
    "start_time": "2021-07-07T17:28:58.885Z"
   },
   {
    "duration": 7,
    "start_time": "2021-07-07T17:45:40.972Z"
   },
   {
    "duration": 13,
    "start_time": "2021-07-07T17:45:42.529Z"
   },
   {
    "duration": 27,
    "start_time": "2021-07-07T17:45:51.026Z"
   },
   {
    "duration": 518,
    "start_time": "2021-07-07T17:46:15.532Z"
   },
   {
    "duration": 235,
    "start_time": "2021-07-07T17:46:16.053Z"
   },
   {
    "duration": 80,
    "start_time": "2021-07-07T17:46:16.292Z"
   },
   {
    "duration": 5,
    "start_time": "2021-07-07T17:46:16.373Z"
   },
   {
    "duration": 26,
    "start_time": "2021-07-07T17:46:16.380Z"
   },
   {
    "duration": 7,
    "start_time": "2021-07-07T17:46:16.408Z"
   },
   {
    "duration": 16,
    "start_time": "2021-07-07T17:46:16.418Z"
   },
   {
    "duration": 5,
    "start_time": "2021-07-07T17:46:16.436Z"
   },
   {
    "duration": 13,
    "start_time": "2021-07-07T17:46:16.442Z"
   },
   {
    "duration": 35,
    "start_time": "2021-07-07T17:46:16.456Z"
   },
   {
    "duration": 8,
    "start_time": "2021-07-07T17:46:16.493Z"
   },
   {
    "duration": 28,
    "start_time": "2021-07-07T17:46:16.502Z"
   },
   {
    "duration": 17,
    "start_time": "2021-07-07T17:46:16.532Z"
   },
   {
    "duration": 44,
    "start_time": "2021-07-07T17:46:16.551Z"
   },
   {
    "duration": 6,
    "start_time": "2021-07-07T17:46:16.597Z"
   },
   {
    "duration": 4,
    "start_time": "2021-07-07T17:46:16.605Z"
   },
   {
    "duration": 9,
    "start_time": "2021-07-07T17:46:16.610Z"
   },
   {
    "duration": 9,
    "start_time": "2021-07-07T17:46:16.621Z"
   },
   {
    "duration": 10,
    "start_time": "2021-07-07T17:46:16.632Z"
   },
   {
    "duration": 43,
    "start_time": "2021-07-07T17:46:16.644Z"
   },
   {
    "duration": 26,
    "start_time": "2021-07-07T17:46:16.689Z"
   },
   {
    "duration": 19,
    "start_time": "2021-07-07T17:46:16.718Z"
   },
   {
    "duration": 8,
    "start_time": "2021-07-07T17:46:16.738Z"
   },
   {
    "duration": 43,
    "start_time": "2021-07-07T17:46:16.747Z"
   },
   {
    "duration": 19,
    "start_time": "2021-07-07T17:46:16.791Z"
   },
   {
    "duration": 9,
    "start_time": "2021-07-07T17:46:16.812Z"
   },
   {
    "duration": 60,
    "start_time": "2021-07-07T17:46:16.822Z"
   },
   {
    "duration": -8,
    "start_time": "2021-07-07T17:46:16.892Z"
   },
   {
    "duration": 12,
    "start_time": "2021-07-07T17:48:47.707Z"
   },
   {
    "duration": 553,
    "start_time": "2021-07-07T18:10:09.350Z"
   },
   {
    "duration": 230,
    "start_time": "2021-07-07T18:10:09.905Z"
   },
   {
    "duration": 97,
    "start_time": "2021-07-07T18:10:10.137Z"
   },
   {
    "duration": 5,
    "start_time": "2021-07-07T18:10:10.236Z"
   },
   {
    "duration": 29,
    "start_time": "2021-07-07T18:10:10.242Z"
   },
   {
    "duration": 7,
    "start_time": "2021-07-07T18:10:10.272Z"
   },
   {
    "duration": 15,
    "start_time": "2021-07-07T18:10:10.281Z"
   },
   {
    "duration": 4,
    "start_time": "2021-07-07T18:10:10.299Z"
   },
   {
    "duration": 14,
    "start_time": "2021-07-07T18:10:10.305Z"
   },
   {
    "duration": 8,
    "start_time": "2021-07-07T18:10:10.321Z"
   },
   {
    "duration": 8,
    "start_time": "2021-07-07T18:10:10.331Z"
   },
   {
    "duration": 56,
    "start_time": "2021-07-07T18:10:10.341Z"
   },
   {
    "duration": 19,
    "start_time": "2021-07-07T18:10:10.399Z"
   },
   {
    "duration": 23,
    "start_time": "2021-07-07T18:10:10.419Z"
   },
   {
    "duration": 6,
    "start_time": "2021-07-07T18:10:10.444Z"
   },
   {
    "duration": 9,
    "start_time": "2021-07-07T18:10:10.451Z"
   },
   {
    "duration": 30,
    "start_time": "2021-07-07T18:10:10.462Z"
   },
   {
    "duration": 9,
    "start_time": "2021-07-07T18:10:10.494Z"
   },
   {
    "duration": 14,
    "start_time": "2021-07-07T18:10:10.505Z"
   },
   {
    "duration": 7,
    "start_time": "2021-07-07T18:10:10.521Z"
   },
   {
    "duration": 26,
    "start_time": "2021-07-07T18:10:10.530Z"
   },
   {
    "duration": 44,
    "start_time": "2021-07-07T18:10:10.558Z"
   },
   {
    "duration": 7,
    "start_time": "2021-07-07T18:10:10.605Z"
   },
   {
    "duration": 11,
    "start_time": "2021-07-07T18:10:10.614Z"
   },
   {
    "duration": 19,
    "start_time": "2021-07-07T18:10:10.626Z"
   },
   {
    "duration": 44,
    "start_time": "2021-07-07T18:10:10.646Z"
   },
   {
    "duration": 516,
    "start_time": "2021-07-07T18:14:00.826Z"
   },
   {
    "duration": 230,
    "start_time": "2021-07-07T18:14:01.344Z"
   },
   {
    "duration": 105,
    "start_time": "2021-07-07T18:14:01.576Z"
   },
   {
    "duration": 5,
    "start_time": "2021-07-07T18:14:01.683Z"
   },
   {
    "duration": 46,
    "start_time": "2021-07-07T18:14:01.690Z"
   },
   {
    "duration": 7,
    "start_time": "2021-07-07T18:14:01.738Z"
   },
   {
    "duration": 20,
    "start_time": "2021-07-07T18:14:01.747Z"
   },
   {
    "duration": 16,
    "start_time": "2021-07-07T18:14:01.769Z"
   },
   {
    "duration": 14,
    "start_time": "2021-07-07T18:14:01.787Z"
   },
   {
    "duration": 15,
    "start_time": "2021-07-07T18:14:01.803Z"
   },
   {
    "duration": 12,
    "start_time": "2021-07-07T18:14:01.820Z"
   },
   {
    "duration": 35,
    "start_time": "2021-07-07T18:14:01.833Z"
   },
   {
    "duration": 31,
    "start_time": "2021-07-07T18:14:01.869Z"
   },
   {
    "duration": 37,
    "start_time": "2021-07-07T18:14:01.902Z"
   },
   {
    "duration": 8,
    "start_time": "2021-07-07T18:14:01.942Z"
   },
   {
    "duration": 16,
    "start_time": "2021-07-07T18:14:01.952Z"
   },
   {
    "duration": 13,
    "start_time": "2021-07-07T18:14:01.970Z"
   },
   {
    "duration": 32,
    "start_time": "2021-07-07T18:14:01.985Z"
   },
   {
    "duration": 11,
    "start_time": "2021-07-07T18:14:02.019Z"
   },
   {
    "duration": 22,
    "start_time": "2021-07-07T18:14:02.031Z"
   },
   {
    "duration": 27,
    "start_time": "2021-07-07T18:14:02.055Z"
   },
   {
    "duration": 18,
    "start_time": "2021-07-07T18:14:02.084Z"
   },
   {
    "duration": 18,
    "start_time": "2021-07-07T18:14:02.106Z"
   },
   {
    "duration": 11,
    "start_time": "2021-07-07T18:14:02.126Z"
   },
   {
    "duration": 21,
    "start_time": "2021-07-07T18:14:02.138Z"
   },
   {
    "duration": 32,
    "start_time": "2021-07-07T18:14:02.161Z"
   },
   {
    "duration": 28,
    "start_time": "2021-07-07T18:14:44.295Z"
   },
   {
    "duration": 6,
    "start_time": "2021-07-07T18:15:05.834Z"
   },
   {
    "duration": 511,
    "start_time": "2021-07-07T18:15:41.541Z"
   },
   {
    "duration": 183,
    "start_time": "2021-07-07T18:15:42.054Z"
   },
   {
    "duration": 50,
    "start_time": "2021-07-07T18:15:42.239Z"
   },
   {
    "duration": 5,
    "start_time": "2021-07-07T18:15:42.291Z"
   },
   {
    "duration": 48,
    "start_time": "2021-07-07T18:15:42.297Z"
   },
   {
    "duration": 8,
    "start_time": "2021-07-07T18:15:42.346Z"
   },
   {
    "duration": 17,
    "start_time": "2021-07-07T18:15:42.356Z"
   },
   {
    "duration": 15,
    "start_time": "2021-07-07T18:15:42.375Z"
   },
   {
    "duration": 12,
    "start_time": "2021-07-07T18:15:42.392Z"
   },
   {
    "duration": 7,
    "start_time": "2021-07-07T18:15:42.406Z"
   },
   {
    "duration": 7,
    "start_time": "2021-07-07T18:15:42.415Z"
   },
   {
    "duration": 29,
    "start_time": "2021-07-07T18:15:42.423Z"
   },
   {
    "duration": 43,
    "start_time": "2021-07-07T18:15:42.453Z"
   },
   {
    "duration": 18,
    "start_time": "2021-07-07T18:15:42.497Z"
   },
   {
    "duration": 6,
    "start_time": "2021-07-07T18:15:42.516Z"
   },
   {
    "duration": 3,
    "start_time": "2021-07-07T18:15:42.523Z"
   },
   {
    "duration": 18,
    "start_time": "2021-07-07T18:15:42.528Z"
   },
   {
    "duration": 10,
    "start_time": "2021-07-07T18:15:42.547Z"
   },
   {
    "duration": 36,
    "start_time": "2021-07-07T18:15:42.559Z"
   },
   {
    "duration": 8,
    "start_time": "2021-07-07T18:15:42.597Z"
   },
   {
    "duration": 28,
    "start_time": "2021-07-07T18:15:42.606Z"
   },
   {
    "duration": 52,
    "start_time": "2021-07-07T18:15:42.635Z"
   },
   {
    "duration": 7,
    "start_time": "2021-07-07T18:15:42.690Z"
   },
   {
    "duration": 10,
    "start_time": "2021-07-07T18:15:42.699Z"
   },
   {
    "duration": 19,
    "start_time": "2021-07-07T18:15:42.711Z"
   },
   {
    "duration": 9,
    "start_time": "2021-07-07T18:15:42.732Z"
   },
   {
    "duration": 5,
    "start_time": "2021-07-07T18:15:42.743Z"
   },
   {
    "duration": 1450,
    "start_time": "2021-07-07T18:15:51.984Z"
   },
   {
    "duration": 161,
    "start_time": "2021-07-07T18:15:53.435Z"
   },
   {
    "duration": 124,
    "start_time": "2021-07-07T18:15:53.598Z"
   },
   {
    "duration": 5,
    "start_time": "2021-07-07T18:15:53.724Z"
   },
   {
    "duration": 34,
    "start_time": "2021-07-07T18:15:53.730Z"
   },
   {
    "duration": 7,
    "start_time": "2021-07-07T18:15:53.765Z"
   },
   {
    "duration": 15,
    "start_time": "2021-07-07T18:15:53.773Z"
   },
   {
    "duration": 5,
    "start_time": "2021-07-07T18:15:53.791Z"
   },
   {
    "duration": 19,
    "start_time": "2021-07-07T18:15:53.798Z"
   },
   {
    "duration": 9,
    "start_time": "2021-07-07T18:15:53.818Z"
   },
   {
    "duration": 19,
    "start_time": "2021-07-07T18:15:53.828Z"
   },
   {
    "duration": 27,
    "start_time": "2021-07-07T18:15:53.848Z"
   },
   {
    "duration": 16,
    "start_time": "2021-07-07T18:15:53.884Z"
   },
   {
    "duration": 29,
    "start_time": "2021-07-07T18:15:53.901Z"
   },
   {
    "duration": 5,
    "start_time": "2021-07-07T18:15:53.932Z"
   },
   {
    "duration": 15,
    "start_time": "2021-07-07T18:15:53.939Z"
   },
   {
    "duration": 13,
    "start_time": "2021-07-07T18:15:53.956Z"
   },
   {
    "duration": 20,
    "start_time": "2021-07-07T18:15:53.971Z"
   },
   {
    "duration": 14,
    "start_time": "2021-07-07T18:15:53.992Z"
   },
   {
    "duration": 9,
    "start_time": "2021-07-07T18:15:54.009Z"
   },
   {
    "duration": 28,
    "start_time": "2021-07-07T18:15:54.020Z"
   },
   {
    "duration": 50,
    "start_time": "2021-07-07T18:15:54.051Z"
   },
   {
    "duration": 8,
    "start_time": "2021-07-07T18:15:54.105Z"
   },
   {
    "duration": 11,
    "start_time": "2021-07-07T18:15:54.115Z"
   },
   {
    "duration": 20,
    "start_time": "2021-07-07T18:15:54.128Z"
   },
   {
    "duration": 13,
    "start_time": "2021-07-07T18:15:54.184Z"
   },
   {
    "duration": 7,
    "start_time": "2021-07-07T18:15:54.199Z"
   },
   {
    "duration": 7,
    "start_time": "2021-07-07T18:17:08.042Z"
   },
   {
    "duration": 8,
    "start_time": "2021-07-07T18:17:21.008Z"
   },
   {
    "duration": 7,
    "start_time": "2021-07-07T18:17:29.003Z"
   },
   {
    "duration": 8,
    "start_time": "2021-07-07T18:17:32.492Z"
   },
   {
    "duration": 9,
    "start_time": "2021-07-07T18:17:41.758Z"
   },
   {
    "duration": 255,
    "start_time": "2021-07-07T18:20:20.897Z"
   },
   {
    "duration": 173,
    "start_time": "2021-07-07T18:20:26.636Z"
   },
   {
    "duration": 7,
    "start_time": "2021-07-07T18:21:47.164Z"
   },
   {
    "duration": 254,
    "start_time": "2021-07-07T18:23:08.703Z"
   },
   {
    "duration": 21,
    "start_time": "2021-07-07T18:23:22.506Z"
   },
   {
    "duration": 315,
    "start_time": "2021-07-07T18:25:54.801Z"
   },
   {
    "duration": 34,
    "start_time": "2021-07-07T18:26:51.817Z"
   },
   {
    "duration": 327,
    "start_time": "2021-07-07T18:26:56.147Z"
   },
   {
    "duration": 342,
    "start_time": "2021-07-07T18:27:15.887Z"
   },
   {
    "duration": 302,
    "start_time": "2021-07-07T18:28:18.569Z"
   },
   {
    "duration": 226,
    "start_time": "2021-07-07T18:29:20.879Z"
   },
   {
    "duration": 207,
    "start_time": "2021-07-07T18:29:58.114Z"
   },
   {
    "duration": 140,
    "start_time": "2021-07-07T18:32:04.372Z"
   },
   {
    "duration": 158,
    "start_time": "2021-07-07T18:32:32.508Z"
   },
   {
    "duration": 145,
    "start_time": "2021-07-07T18:32:41.365Z"
   },
   {
    "duration": 132,
    "start_time": "2021-07-07T18:32:45.199Z"
   },
   {
    "duration": 11,
    "start_time": "2021-07-07T18:35:24.679Z"
   },
   {
    "duration": 268,
    "start_time": "2021-07-07T18:36:16.145Z"
   },
   {
    "duration": 227,
    "start_time": "2021-07-07T18:37:04.918Z"
   },
   {
    "duration": 3,
    "start_time": "2021-07-07T18:37:33.012Z"
   },
   {
    "duration": 671,
    "start_time": "2021-07-07T18:37:38.295Z"
   },
   {
    "duration": 54,
    "start_time": "2021-07-07T18:37:53.406Z"
   },
   {
    "duration": 631,
    "start_time": "2021-07-07T18:37:56.463Z"
   },
   {
    "duration": 19,
    "start_time": "2021-07-07T18:39:40.535Z"
   },
   {
    "duration": 20,
    "start_time": "2021-07-07T18:40:12.236Z"
   },
   {
    "duration": 633,
    "start_time": "2021-07-07T18:42:00.398Z"
   },
   {
    "duration": 218,
    "start_time": "2021-07-07T18:42:01.033Z"
   },
   {
    "duration": 49,
    "start_time": "2021-07-07T18:42:01.253Z"
   },
   {
    "duration": 5,
    "start_time": "2021-07-07T18:42:01.303Z"
   },
   {
    "duration": 27,
    "start_time": "2021-07-07T18:42:01.310Z"
   },
   {
    "duration": 8,
    "start_time": "2021-07-07T18:42:01.339Z"
   },
   {
    "duration": 20,
    "start_time": "2021-07-07T18:42:01.348Z"
   },
   {
    "duration": 6,
    "start_time": "2021-07-07T18:42:01.386Z"
   },
   {
    "duration": 16,
    "start_time": "2021-07-07T18:42:01.394Z"
   },
   {
    "duration": 9,
    "start_time": "2021-07-07T18:42:01.411Z"
   },
   {
    "duration": 11,
    "start_time": "2021-07-07T18:42:01.421Z"
   },
   {
    "duration": 31,
    "start_time": "2021-07-07T18:42:01.434Z"
   },
   {
    "duration": 18,
    "start_time": "2021-07-07T18:42:01.485Z"
   },
   {
    "duration": 23,
    "start_time": "2021-07-07T18:42:01.505Z"
   },
   {
    "duration": 6,
    "start_time": "2021-07-07T18:42:01.530Z"
   },
   {
    "duration": 10,
    "start_time": "2021-07-07T18:42:01.538Z"
   },
   {
    "duration": 13,
    "start_time": "2021-07-07T18:42:01.550Z"
   },
   {
    "duration": 24,
    "start_time": "2021-07-07T18:42:01.564Z"
   },
   {
    "duration": 20,
    "start_time": "2021-07-07T18:42:01.590Z"
   },
   {
    "duration": 8,
    "start_time": "2021-07-07T18:42:01.611Z"
   },
   {
    "duration": 31,
    "start_time": "2021-07-07T18:42:01.620Z"
   },
   {
    "duration": 39,
    "start_time": "2021-07-07T18:42:01.653Z"
   },
   {
    "duration": 8,
    "start_time": "2021-07-07T18:42:01.696Z"
   },
   {
    "duration": 13,
    "start_time": "2021-07-07T18:42:01.705Z"
   },
   {
    "duration": 20,
    "start_time": "2021-07-07T18:42:01.720Z"
   },
   {
    "duration": 12,
    "start_time": "2021-07-07T18:42:01.741Z"
   },
   {
    "duration": 35,
    "start_time": "2021-07-07T18:42:01.755Z"
   },
   {
    "duration": 14,
    "start_time": "2021-07-07T18:42:01.792Z"
   },
   {
    "duration": 188,
    "start_time": "2021-07-07T18:42:01.808Z"
   },
   {
    "duration": 19,
    "start_time": "2021-07-07T18:42:01.998Z"
   },
   {
    "duration": 175,
    "start_time": "2021-07-07T18:42:02.019Z"
   },
   {
    "duration": 134,
    "start_time": "2021-07-07T18:42:02.196Z"
   },
   {
    "duration": 10,
    "start_time": "2021-07-07T18:42:02.331Z"
   },
   {
    "duration": 19,
    "start_time": "2021-07-07T18:42:02.343Z"
   },
   {
    "duration": 628,
    "start_time": "2021-07-07T18:46:30.701Z"
   },
   {
    "duration": 183,
    "start_time": "2021-07-07T18:46:31.331Z"
   },
   {
    "duration": 48,
    "start_time": "2021-07-07T18:46:31.516Z"
   },
   {
    "duration": 5,
    "start_time": "2021-07-07T18:46:31.566Z"
   },
   {
    "duration": 28,
    "start_time": "2021-07-07T18:46:31.572Z"
   },
   {
    "duration": 8,
    "start_time": "2021-07-07T18:46:31.602Z"
   },
   {
    "duration": 19,
    "start_time": "2021-07-07T18:46:31.611Z"
   },
   {
    "duration": 6,
    "start_time": "2021-07-07T18:46:31.633Z"
   },
   {
    "duration": 17,
    "start_time": "2021-07-07T18:46:31.642Z"
   },
   {
    "duration": 10,
    "start_time": "2021-07-07T18:46:31.684Z"
   },
   {
    "duration": 9,
    "start_time": "2021-07-07T18:46:31.695Z"
   },
   {
    "duration": 28,
    "start_time": "2021-07-07T18:46:31.705Z"
   },
   {
    "duration": 18,
    "start_time": "2021-07-07T18:46:31.735Z"
   },
   {
    "duration": 48,
    "start_time": "2021-07-07T18:46:31.755Z"
   },
   {
    "duration": 6,
    "start_time": "2021-07-07T18:46:31.804Z"
   },
   {
    "duration": 4,
    "start_time": "2021-07-07T18:46:31.812Z"
   },
   {
    "duration": 9,
    "start_time": "2021-07-07T18:46:31.817Z"
   },
   {
    "duration": 10,
    "start_time": "2021-07-07T18:46:31.827Z"
   },
   {
    "duration": 12,
    "start_time": "2021-07-07T18:46:31.838Z"
   },
   {
    "duration": 39,
    "start_time": "2021-07-07T18:46:31.851Z"
   },
   {
    "duration": 24,
    "start_time": "2021-07-07T18:46:31.892Z"
   },
   {
    "duration": 15,
    "start_time": "2021-07-07T18:46:31.918Z"
   },
   {
    "duration": 7,
    "start_time": "2021-07-07T18:46:31.936Z"
   },
   {
    "duration": 8,
    "start_time": "2021-07-07T18:46:31.944Z"
   },
   {
    "duration": 19,
    "start_time": "2021-07-07T18:46:31.984Z"
   },
   {
    "duration": 10,
    "start_time": "2021-07-07T18:46:32.004Z"
   },
   {
    "duration": 5,
    "start_time": "2021-07-07T18:46:32.016Z"
   },
   {
    "duration": 9,
    "start_time": "2021-07-07T18:46:32.023Z"
   },
   {
    "duration": 199,
    "start_time": "2021-07-07T18:46:32.033Z"
   },
   {
    "duration": 19,
    "start_time": "2021-07-07T18:46:32.234Z"
   },
   {
    "duration": 159,
    "start_time": "2021-07-07T18:46:32.255Z"
   },
   {
    "duration": 134,
    "start_time": "2021-07-07T18:46:32.416Z"
   },
   {
    "duration": 10,
    "start_time": "2021-07-07T18:46:32.552Z"
   },
   {
    "duration": 34,
    "start_time": "2021-07-07T18:46:32.563Z"
   },
   {
    "duration": 1039,
    "start_time": "2021-07-08T08:41:09.419Z"
   },
   {
    "duration": 333,
    "start_time": "2021-07-08T08:41:10.459Z"
   },
   {
    "duration": 173,
    "start_time": "2021-07-08T08:41:10.794Z"
   },
   {
    "duration": 5,
    "start_time": "2021-07-08T08:41:10.968Z"
   },
   {
    "duration": 25,
    "start_time": "2021-07-08T08:41:10.975Z"
   },
   {
    "duration": 9,
    "start_time": "2021-07-08T08:41:11.002Z"
   },
   {
    "duration": 18,
    "start_time": "2021-07-08T08:41:11.013Z"
   },
   {
    "duration": 6,
    "start_time": "2021-07-08T08:41:11.033Z"
   },
   {
    "duration": 44,
    "start_time": "2021-07-08T08:41:11.042Z"
   },
   {
    "duration": 10,
    "start_time": "2021-07-08T08:41:11.088Z"
   },
   {
    "duration": 9,
    "start_time": "2021-07-08T08:41:11.100Z"
   },
   {
    "duration": 27,
    "start_time": "2021-07-08T08:41:11.111Z"
   },
   {
    "duration": 46,
    "start_time": "2021-07-08T08:41:11.140Z"
   },
   {
    "duration": 17,
    "start_time": "2021-07-08T08:41:11.187Z"
   },
   {
    "duration": 6,
    "start_time": "2021-07-08T08:41:11.206Z"
   },
   {
    "duration": 5,
    "start_time": "2021-07-08T08:41:11.213Z"
   },
   {
    "duration": 10,
    "start_time": "2021-07-08T08:41:11.219Z"
   },
   {
    "duration": 9,
    "start_time": "2021-07-08T08:41:11.230Z"
   },
   {
    "duration": 45,
    "start_time": "2021-07-08T08:41:11.241Z"
   },
   {
    "duration": 7,
    "start_time": "2021-07-08T08:41:11.287Z"
   },
   {
    "duration": 24,
    "start_time": "2021-07-08T08:41:11.296Z"
   },
   {
    "duration": 16,
    "start_time": "2021-07-08T08:41:11.322Z"
   },
   {
    "duration": 7,
    "start_time": "2021-07-08T08:41:11.341Z"
   },
   {
    "duration": 41,
    "start_time": "2021-07-08T08:41:11.349Z"
   },
   {
    "duration": 17,
    "start_time": "2021-07-08T08:41:11.391Z"
   },
   {
    "duration": 9,
    "start_time": "2021-07-08T08:41:11.410Z"
   },
   {
    "duration": 5,
    "start_time": "2021-07-08T08:41:11.421Z"
   },
   {
    "duration": 6,
    "start_time": "2021-07-08T08:41:11.428Z"
   },
   {
    "duration": 198,
    "start_time": "2021-07-08T08:41:11.435Z"
   },
   {
    "duration": 18,
    "start_time": "2021-07-08T08:41:11.635Z"
   },
   {
    "duration": 155,
    "start_time": "2021-07-08T08:41:11.655Z"
   },
   {
    "duration": 138,
    "start_time": "2021-07-08T08:41:11.811Z"
   },
   {
    "duration": 10,
    "start_time": "2021-07-08T08:41:11.950Z"
   },
   {
    "duration": 29,
    "start_time": "2021-07-08T08:41:11.961Z"
   },
   {
    "duration": 171,
    "start_time": "2021-07-08T08:47:44.522Z"
   },
   {
    "duration": 124,
    "start_time": "2021-07-08T08:47:46.872Z"
   },
   {
    "duration": 191,
    "start_time": "2021-07-08T08:47:58.148Z"
   },
   {
    "duration": 191,
    "start_time": "2021-07-08T08:48:07.412Z"
   },
   {
    "duration": 261,
    "start_time": "2021-07-08T08:48:10.385Z"
   },
   {
    "duration": 255,
    "start_time": "2021-07-08T08:48:14.494Z"
   },
   {
    "duration": 219,
    "start_time": "2021-07-08T08:48:22.752Z"
   },
   {
    "duration": 173,
    "start_time": "2021-07-08T08:49:06.395Z"
   },
   {
    "duration": 180,
    "start_time": "2021-07-08T08:49:21.011Z"
   },
   {
    "duration": 6,
    "start_time": "2021-07-08T08:50:31.697Z"
   },
   {
    "duration": 10,
    "start_time": "2021-07-08T08:50:47.394Z"
   },
   {
    "duration": 11,
    "start_time": "2021-07-08T08:53:49.332Z"
   },
   {
    "duration": 171,
    "start_time": "2021-07-08T08:54:28.408Z"
   },
   {
    "duration": 636,
    "start_time": "2021-07-08T09:02:48.385Z"
   },
   {
    "duration": 227,
    "start_time": "2021-07-08T09:02:49.023Z"
   },
   {
    "duration": 104,
    "start_time": "2021-07-08T09:02:49.252Z"
   },
   {
    "duration": 5,
    "start_time": "2021-07-08T09:02:49.358Z"
   },
   {
    "duration": 27,
    "start_time": "2021-07-08T09:02:49.365Z"
   },
   {
    "duration": 8,
    "start_time": "2021-07-08T09:02:49.394Z"
   },
   {
    "duration": 18,
    "start_time": "2021-07-08T09:02:49.404Z"
   },
   {
    "duration": 6,
    "start_time": "2021-07-08T09:02:49.424Z"
   },
   {
    "duration": 11,
    "start_time": "2021-07-08T09:02:49.433Z"
   },
   {
    "duration": 13,
    "start_time": "2021-07-08T09:02:49.485Z"
   },
   {
    "duration": 9,
    "start_time": "2021-07-08T09:02:49.500Z"
   },
   {
    "duration": 38,
    "start_time": "2021-07-08T09:02:49.511Z"
   },
   {
    "duration": 42,
    "start_time": "2021-07-08T09:02:49.551Z"
   },
   {
    "duration": 21,
    "start_time": "2021-07-08T09:02:49.594Z"
   },
   {
    "duration": 6,
    "start_time": "2021-07-08T09:02:49.616Z"
   },
   {
    "duration": 3,
    "start_time": "2021-07-08T09:02:49.623Z"
   },
   {
    "duration": 9,
    "start_time": "2021-07-08T09:02:49.628Z"
   },
   {
    "duration": 52,
    "start_time": "2021-07-08T09:02:49.638Z"
   },
   {
    "duration": 11,
    "start_time": "2021-07-08T09:02:49.692Z"
   },
   {
    "duration": 8,
    "start_time": "2021-07-08T09:02:49.704Z"
   },
   {
    "duration": 27,
    "start_time": "2021-07-08T09:02:49.713Z"
   },
   {
    "duration": 59,
    "start_time": "2021-07-08T09:02:49.741Z"
   },
   {
    "duration": 8,
    "start_time": "2021-07-08T09:02:49.803Z"
   },
   {
    "duration": 14,
    "start_time": "2021-07-08T09:02:49.813Z"
   },
   {
    "duration": 20,
    "start_time": "2021-07-08T09:02:49.829Z"
   },
   {
    "duration": 44,
    "start_time": "2021-07-08T09:02:49.851Z"
   },
   {
    "duration": 14,
    "start_time": "2021-07-08T09:02:49.896Z"
   },
   {
    "duration": 221,
    "start_time": "2021-07-08T09:02:49.912Z"
   },
   {
    "duration": 6,
    "start_time": "2021-07-08T09:02:50.134Z"
   },
   {
    "duration": 206,
    "start_time": "2021-07-08T09:02:50.142Z"
   },
   {
    "duration": 19,
    "start_time": "2021-07-08T09:02:50.350Z"
   },
   {
    "duration": 21,
    "start_time": "2021-07-08T09:02:50.370Z"
   },
   {
    "duration": 20,
    "start_time": "2021-07-08T09:02:50.393Z"
   },
   {
    "duration": 5,
    "start_time": "2021-07-08T09:02:50.414Z"
   },
   {
    "duration": 5,
    "start_time": "2021-07-08T09:03:34.173Z"
   },
   {
    "duration": 6,
    "start_time": "2021-07-08T09:04:49.062Z"
   },
   {
    "duration": 9,
    "start_time": "2021-07-08T09:04:50.118Z"
   },
   {
    "duration": 14,
    "start_time": "2021-07-08T09:04:58.512Z"
   },
   {
    "duration": 9,
    "start_time": "2021-07-08T09:05:10.988Z"
   },
   {
    "duration": 11,
    "start_time": "2021-07-08T09:05:11.743Z"
   },
   {
    "duration": 7,
    "start_time": "2021-07-08T09:05:25.677Z"
   },
   {
    "duration": 13,
    "start_time": "2021-07-08T09:05:47.189Z"
   },
   {
    "duration": 13,
    "start_time": "2021-07-08T09:05:54.755Z"
   },
   {
    "duration": 4,
    "start_time": "2021-07-08T09:06:29.189Z"
   },
   {
    "duration": 244,
    "start_time": "2021-07-08T09:06:29.195Z"
   },
   {
    "duration": 91,
    "start_time": "2021-07-08T09:06:29.441Z"
   },
   {
    "duration": 4,
    "start_time": "2021-07-08T09:06:29.534Z"
   },
   {
    "duration": 28,
    "start_time": "2021-07-08T09:06:29.540Z"
   },
   {
    "duration": 6,
    "start_time": "2021-07-08T09:06:29.570Z"
   },
   {
    "duration": 18,
    "start_time": "2021-07-08T09:06:29.578Z"
   },
   {
    "duration": 5,
    "start_time": "2021-07-08T09:06:29.597Z"
   },
   {
    "duration": 13,
    "start_time": "2021-07-08T09:06:29.605Z"
   },
   {
    "duration": 8,
    "start_time": "2021-07-08T09:06:29.620Z"
   },
   {
    "duration": 7,
    "start_time": "2021-07-08T09:06:29.630Z"
   },
   {
    "duration": 63,
    "start_time": "2021-07-08T09:06:29.639Z"
   },
   {
    "duration": 17,
    "start_time": "2021-07-08T09:06:29.704Z"
   },
   {
    "duration": 20,
    "start_time": "2021-07-08T09:06:29.723Z"
   },
   {
    "duration": 6,
    "start_time": "2021-07-08T09:06:29.745Z"
   },
   {
    "duration": 3,
    "start_time": "2021-07-08T09:06:29.752Z"
   },
   {
    "duration": 7,
    "start_time": "2021-07-08T09:06:29.785Z"
   },
   {
    "duration": 11,
    "start_time": "2021-07-08T09:06:29.794Z"
   },
   {
    "duration": 15,
    "start_time": "2021-07-08T09:06:29.807Z"
   },
   {
    "duration": 8,
    "start_time": "2021-07-08T09:06:29.823Z"
   },
   {
    "duration": 70,
    "start_time": "2021-07-08T09:06:29.832Z"
   },
   {
    "duration": 17,
    "start_time": "2021-07-08T09:06:29.903Z"
   },
   {
    "duration": 9,
    "start_time": "2021-07-08T09:06:29.921Z"
   },
   {
    "duration": 9,
    "start_time": "2021-07-08T09:06:29.932Z"
   },
   {
    "duration": 57,
    "start_time": "2021-07-08T09:06:29.942Z"
   },
   {
    "duration": 11,
    "start_time": "2021-07-08T09:06:30.001Z"
   },
   {
    "duration": 19,
    "start_time": "2021-07-08T09:06:30.016Z"
   },
   {
    "duration": 217,
    "start_time": "2021-07-08T09:06:30.037Z"
   },
   {
    "duration": 6,
    "start_time": "2021-07-08T09:06:30.255Z"
   },
   {
    "duration": 205,
    "start_time": "2021-07-08T09:06:30.263Z"
   },
   {
    "duration": 27,
    "start_time": "2021-07-08T09:06:30.470Z"
   },
   {
    "duration": 11,
    "start_time": "2021-07-08T09:06:30.500Z"
   },
   {
    "duration": 31,
    "start_time": "2021-07-08T09:06:30.513Z"
   },
   {
    "duration": 18,
    "start_time": "2021-07-08T09:06:30.546Z"
   },
   {
    "duration": 11,
    "start_time": "2021-07-08T09:06:30.566Z"
   },
   {
    "duration": 19,
    "start_time": "2021-07-08T09:06:30.579Z"
   },
   {
    "duration": 20,
    "start_time": "2021-07-08T09:06:49.466Z"
   },
   {
    "duration": 9,
    "start_time": "2021-07-08T09:06:51.994Z"
   },
   {
    "duration": 20,
    "start_time": "2021-07-08T09:06:52.273Z"
   },
   {
    "duration": 246,
    "start_time": "2021-07-08T09:10:21.272Z"
   },
   {
    "duration": 84,
    "start_time": "2021-07-08T09:10:21.436Z"
   },
   {
    "duration": 7,
    "start_time": "2021-07-08T09:10:37.608Z"
   },
   {
    "duration": 189,
    "start_time": "2021-07-08T09:10:38.573Z"
   },
   {
    "duration": 185,
    "start_time": "2021-07-08T09:10:53.181Z"
   },
   {
    "duration": 11,
    "start_time": "2021-07-08T09:10:59.549Z"
   },
   {
    "duration": 42,
    "start_time": "2021-07-08T09:10:59.709Z"
   },
   {
    "duration": 12,
    "start_time": "2021-07-08T09:11:02.857Z"
   },
   {
    "duration": 28,
    "start_time": "2021-07-08T09:11:10.062Z"
   },
   {
    "duration": 249,
    "start_time": "2021-07-08T09:11:37.388Z"
   },
   {
    "duration": 232,
    "start_time": "2021-07-08T09:11:49.485Z"
   },
   {
    "duration": 453,
    "start_time": "2021-07-08T09:12:01.546Z"
   },
   {
    "duration": 440,
    "start_time": "2021-07-08T09:12:12.347Z"
   },
   {
    "duration": 213,
    "start_time": "2021-07-08T09:13:32.196Z"
   },
   {
    "duration": 172,
    "start_time": "2021-07-08T09:14:07.400Z"
   },
   {
    "duration": 185,
    "start_time": "2021-07-08T09:14:14.905Z"
   },
   {
    "duration": 209,
    "start_time": "2021-07-08T09:14:40.109Z"
   },
   {
    "duration": 201,
    "start_time": "2021-07-08T09:14:54.506Z"
   },
   {
    "duration": 622,
    "start_time": "2021-07-08T09:18:14.497Z"
   },
   {
    "duration": 220,
    "start_time": "2021-07-08T09:18:15.121Z"
   },
   {
    "duration": 79,
    "start_time": "2021-07-08T09:18:15.343Z"
   },
   {
    "duration": 4,
    "start_time": "2021-07-08T09:18:15.425Z"
   },
   {
    "duration": 24,
    "start_time": "2021-07-08T09:18:15.431Z"
   },
   {
    "duration": 8,
    "start_time": "2021-07-08T09:18:15.457Z"
   },
   {
    "duration": 16,
    "start_time": "2021-07-08T09:18:15.466Z"
   },
   {
    "duration": 5,
    "start_time": "2021-07-08T09:18:15.484Z"
   },
   {
    "duration": 10,
    "start_time": "2021-07-08T09:18:15.493Z"
   },
   {
    "duration": 8,
    "start_time": "2021-07-08T09:18:15.504Z"
   },
   {
    "duration": 7,
    "start_time": "2021-07-08T09:18:15.513Z"
   },
   {
    "duration": 26,
    "start_time": "2021-07-08T09:18:15.522Z"
   },
   {
    "duration": 49,
    "start_time": "2021-07-08T09:18:15.550Z"
   },
   {
    "duration": 21,
    "start_time": "2021-07-08T09:18:15.601Z"
   },
   {
    "duration": 8,
    "start_time": "2021-07-08T09:18:15.624Z"
   },
   {
    "duration": 3,
    "start_time": "2021-07-08T09:18:15.634Z"
   },
   {
    "duration": 8,
    "start_time": "2021-07-08T09:18:15.639Z"
   },
   {
    "duration": 45,
    "start_time": "2021-07-08T09:18:15.649Z"
   },
   {
    "duration": 13,
    "start_time": "2021-07-08T09:18:15.696Z"
   },
   {
    "duration": 10,
    "start_time": "2021-07-08T09:18:15.711Z"
   },
   {
    "duration": 64,
    "start_time": "2021-07-08T09:18:15.722Z"
   },
   {
    "duration": 19,
    "start_time": "2021-07-08T09:18:15.788Z"
   },
   {
    "duration": 9,
    "start_time": "2021-07-08T09:18:15.809Z"
   },
   {
    "duration": 9,
    "start_time": "2021-07-08T09:18:15.820Z"
   },
   {
    "duration": 18,
    "start_time": "2021-07-08T09:18:15.831Z"
   },
   {
    "duration": 43,
    "start_time": "2021-07-08T09:18:15.851Z"
   },
   {
    "duration": 12,
    "start_time": "2021-07-08T09:18:15.897Z"
   },
   {
    "duration": 219,
    "start_time": "2021-07-08T09:18:15.911Z"
   },
   {
    "duration": 8,
    "start_time": "2021-07-08T09:18:16.132Z"
   },
   {
    "duration": 199,
    "start_time": "2021-07-08T09:18:16.141Z"
   },
   {
    "duration": 18,
    "start_time": "2021-07-08T09:18:16.341Z"
   },
   {
    "duration": 24,
    "start_time": "2021-07-08T09:18:16.361Z"
   },
   {
    "duration": 24,
    "start_time": "2021-07-08T09:18:16.387Z"
   },
   {
    "duration": 211,
    "start_time": "2021-07-08T09:18:16.413Z"
   },
   {
    "duration": 18,
    "start_time": "2021-07-08T09:18:16.626Z"
   },
   {
    "duration": 596,
    "start_time": "2021-07-08T10:06:33.623Z"
   },
   {
    "duration": 181,
    "start_time": "2021-07-08T10:06:34.221Z"
   },
   {
    "duration": 176,
    "start_time": "2021-07-08T10:06:34.635Z"
   },
   {
    "duration": 239,
    "start_time": "2021-07-08T10:06:55.572Z"
   },
   {
    "duration": 6,
    "start_time": "2021-07-08T10:06:57.687Z"
   },
   {
    "duration": 4,
    "start_time": "2021-07-08T10:07:03.956Z"
   },
   {
    "duration": 4,
    "start_time": "2021-07-08T10:07:10.376Z"
   },
   {
    "duration": 4,
    "start_time": "2021-07-08T10:17:19.889Z"
   },
   {
    "duration": 3,
    "start_time": "2021-07-08T10:19:19.407Z"
   },
   {
    "duration": 197,
    "start_time": "2021-07-08T10:19:19.412Z"
   },
   {
    "duration": 127,
    "start_time": "2021-07-08T10:19:19.611Z"
   },
   {
    "duration": 4,
    "start_time": "2021-07-08T10:19:19.740Z"
   },
   {
    "duration": 27,
    "start_time": "2021-07-08T10:19:19.746Z"
   },
   {
    "duration": 7,
    "start_time": "2021-07-08T10:19:19.775Z"
   },
   {
    "duration": 30,
    "start_time": "2021-07-08T10:19:19.784Z"
   },
   {
    "duration": 7,
    "start_time": "2021-07-08T10:19:19.817Z"
   },
   {
    "duration": 26,
    "start_time": "2021-07-08T10:19:19.826Z"
   },
   {
    "duration": 18,
    "start_time": "2021-07-08T10:19:19.854Z"
   },
   {
    "duration": 14,
    "start_time": "2021-07-08T10:19:19.874Z"
   },
   {
    "duration": 48,
    "start_time": "2021-07-08T10:19:19.890Z"
   },
   {
    "duration": 17,
    "start_time": "2021-07-08T10:19:19.940Z"
   },
   {
    "duration": 38,
    "start_time": "2021-07-08T10:19:19.959Z"
   },
   {
    "duration": 8,
    "start_time": "2021-07-08T10:19:19.999Z"
   },
   {
    "duration": 15,
    "start_time": "2021-07-08T10:19:20.009Z"
   },
   {
    "duration": 22,
    "start_time": "2021-07-08T10:19:20.026Z"
   },
   {
    "duration": 10,
    "start_time": "2021-07-08T10:19:20.050Z"
   },
   {
    "duration": 10,
    "start_time": "2021-07-08T10:19:20.062Z"
   },
   {
    "duration": 20,
    "start_time": "2021-07-08T10:19:20.073Z"
   },
   {
    "duration": 29,
    "start_time": "2021-07-08T10:19:20.095Z"
   },
   {
    "duration": 17,
    "start_time": "2021-07-08T10:19:20.126Z"
   },
   {
    "duration": 40,
    "start_time": "2021-07-08T10:19:20.146Z"
   },
   {
    "duration": 15,
    "start_time": "2021-07-08T10:19:20.189Z"
   },
   {
    "duration": 19,
    "start_time": "2021-07-08T10:19:20.206Z"
   },
   {
    "duration": 10,
    "start_time": "2021-07-08T10:19:20.226Z"
   },
   {
    "duration": 11,
    "start_time": "2021-07-08T10:19:20.238Z"
   },
   {
    "duration": 297,
    "start_time": "2021-07-08T10:19:20.250Z"
   },
   {
    "duration": 6,
    "start_time": "2021-07-08T10:19:20.549Z"
   },
   {
    "duration": 191,
    "start_time": "2021-07-08T10:19:20.557Z"
   },
   {
    "duration": 19,
    "start_time": "2021-07-08T10:19:20.750Z"
   },
   {
    "duration": 20,
    "start_time": "2021-07-08T10:19:20.771Z"
   },
   {
    "duration": 15,
    "start_time": "2021-07-08T10:19:20.793Z"
   },
   {
    "duration": 222,
    "start_time": "2021-07-08T10:19:20.809Z"
   },
   {
    "duration": 20,
    "start_time": "2021-07-08T10:19:21.033Z"
   },
   {
    "duration": 27,
    "start_time": "2021-07-08T10:45:04.055Z"
   },
   {
    "duration": 8,
    "start_time": "2021-07-08T10:45:08.478Z"
   },
   {
    "duration": 8,
    "start_time": "2021-07-08T10:45:31.982Z"
   },
   {
    "duration": 10,
    "start_time": "2021-07-08T10:46:01.221Z"
   },
   {
    "duration": 17,
    "start_time": "2021-07-08T10:46:40.011Z"
   },
   {
    "duration": 193,
    "start_time": "2021-07-08T10:48:19.471Z"
   },
   {
    "duration": 225,
    "start_time": "2021-07-08T10:49:26.480Z"
   },
   {
    "duration": 204,
    "start_time": "2021-07-08T10:49:59.992Z"
   },
   {
    "duration": 435,
    "start_time": "2021-07-08T10:50:06.779Z"
   },
   {
    "duration": 199,
    "start_time": "2021-07-08T10:50:14.891Z"
   },
   {
    "duration": 204,
    "start_time": "2021-07-08T10:50:18.501Z"
   },
   {
    "duration": 244,
    "start_time": "2021-07-08T10:50:23.359Z"
   },
   {
    "duration": 192,
    "start_time": "2021-07-08T10:50:29.135Z"
   },
   {
    "duration": 218,
    "start_time": "2021-07-08T10:50:33.092Z"
   },
   {
    "duration": 207,
    "start_time": "2021-07-08T10:52:45.381Z"
   },
   {
    "duration": 5,
    "start_time": "2021-07-08T10:53:34.641Z"
   },
   {
    "duration": 196,
    "start_time": "2021-07-08T10:53:41.478Z"
   },
   {
    "duration": 43,
    "start_time": "2021-07-08T10:53:50.335Z"
   },
   {
    "duration": 32,
    "start_time": "2021-07-08T10:53:55.294Z"
   },
   {
    "duration": 55,
    "start_time": "2021-07-08T10:54:09.675Z"
   },
   {
    "duration": 16,
    "start_time": "2021-07-08T10:54:12.260Z"
   },
   {
    "duration": 15,
    "start_time": "2021-07-08T10:54:49.150Z"
   },
   {
    "duration": 20,
    "start_time": "2021-07-08T10:56:07.596Z"
   },
   {
    "duration": 16,
    "start_time": "2021-07-08T10:58:26.276Z"
   },
   {
    "duration": 22,
    "start_time": "2021-07-08T10:59:00.486Z"
   },
   {
    "duration": 18,
    "start_time": "2021-07-08T11:02:09.653Z"
   },
   {
    "duration": 10,
    "start_time": "2021-07-08T11:03:44.331Z"
   },
   {
    "duration": 10,
    "start_time": "2021-07-08T11:03:54.055Z"
   },
   {
    "duration": 12,
    "start_time": "2021-07-08T11:04:41.967Z"
   },
   {
    "duration": 24,
    "start_time": "2021-07-08T11:07:30.732Z"
   },
   {
    "duration": 6,
    "start_time": "2021-07-08T11:07:37.364Z"
   },
   {
    "duration": 16,
    "start_time": "2021-07-08T11:08:01.819Z"
   },
   {
    "duration": 17,
    "start_time": "2021-07-08T11:09:47.488Z"
   },
   {
    "duration": 246,
    "start_time": "2021-07-08T11:10:00.830Z"
   },
   {
    "duration": 18,
    "start_time": "2021-07-08T11:13:55.195Z"
   },
   {
    "duration": 204,
    "start_time": "2021-07-08T11:14:04.951Z"
   },
   {
    "duration": 19,
    "start_time": "2021-07-08T11:15:10.613Z"
   },
   {
    "duration": 680,
    "start_time": "2021-07-08T11:16:25.793Z"
   },
   {
    "duration": 451,
    "start_time": "2021-07-08T11:16:40.313Z"
   },
   {
    "duration": 469,
    "start_time": "2021-07-08T11:17:21.286Z"
   },
   {
    "duration": 20,
    "start_time": "2021-07-08T11:19:12.554Z"
   },
   {
    "duration": 35,
    "start_time": "2021-07-08T11:20:05.484Z"
   },
   {
    "duration": 53,
    "start_time": "2021-07-08T11:21:40.050Z"
   },
   {
    "duration": 13,
    "start_time": "2021-07-08T11:22:26.059Z"
   },
   {
    "duration": 19,
    "start_time": "2021-07-08T11:22:47.419Z"
   },
   {
    "duration": 25,
    "start_time": "2021-07-08T11:23:19.958Z"
   },
   {
    "duration": 29,
    "start_time": "2021-07-08T11:23:25.415Z"
   },
   {
    "duration": 10,
    "start_time": "2021-07-08T11:24:45.138Z"
   },
   {
    "duration": 19,
    "start_time": "2021-07-08T11:24:54.498Z"
   },
   {
    "duration": 12,
    "start_time": "2021-07-08T11:25:32.225Z"
   },
   {
    "duration": 19,
    "start_time": "2021-07-08T11:25:37.092Z"
   },
   {
    "duration": 17,
    "start_time": "2021-07-08T11:25:58.116Z"
   },
   {
    "duration": 15,
    "start_time": "2021-07-08T11:26:02.258Z"
   },
   {
    "duration": 8,
    "start_time": "2021-07-08T11:26:59.682Z"
   },
   {
    "duration": 184,
    "start_time": "2021-07-08T11:27:21.894Z"
   },
   {
    "duration": 8,
    "start_time": "2021-07-08T11:27:23.824Z"
   },
   {
    "duration": 202,
    "start_time": "2021-07-08T11:27:23.962Z"
   },
   {
    "duration": 360,
    "start_time": "2021-07-08T11:28:33.215Z"
   },
   {
    "duration": 231,
    "start_time": "2021-07-08T11:32:05.542Z"
   },
   {
    "duration": 607,
    "start_time": "2021-07-08T11:36:27.854Z"
   },
   {
    "duration": 241,
    "start_time": "2021-07-08T11:36:28.463Z"
   },
   {
    "duration": 67,
    "start_time": "2021-07-08T11:36:28.709Z"
   },
   {
    "duration": 5,
    "start_time": "2021-07-08T11:36:28.778Z"
   },
   {
    "duration": 32,
    "start_time": "2021-07-08T11:36:28.784Z"
   },
   {
    "duration": 11,
    "start_time": "2021-07-08T11:36:28.819Z"
   },
   {
    "duration": 20,
    "start_time": "2021-07-08T11:36:28.834Z"
   },
   {
    "duration": 36,
    "start_time": "2021-07-08T11:36:28.857Z"
   },
   {
    "duration": 16,
    "start_time": "2021-07-08T11:36:28.895Z"
   },
   {
    "duration": 14,
    "start_time": "2021-07-08T11:36:28.913Z"
   },
   {
    "duration": 9,
    "start_time": "2021-07-08T11:36:28.930Z"
   },
   {
    "duration": 55,
    "start_time": "2021-07-08T11:36:28.941Z"
   },
   {
    "duration": 27,
    "start_time": "2021-07-08T11:36:28.999Z"
   },
   {
    "duration": 30,
    "start_time": "2021-07-08T11:36:29.028Z"
   },
   {
    "duration": 31,
    "start_time": "2021-07-08T11:36:29.060Z"
   },
   {
    "duration": 3,
    "start_time": "2021-07-08T11:36:29.093Z"
   },
   {
    "duration": 12,
    "start_time": "2021-07-08T11:36:29.099Z"
   },
   {
    "duration": 11,
    "start_time": "2021-07-08T11:36:29.112Z"
   },
   {
    "duration": 12,
    "start_time": "2021-07-08T11:36:29.125Z"
   },
   {
    "duration": 9,
    "start_time": "2021-07-08T11:36:29.139Z"
   },
   {
    "duration": 31,
    "start_time": "2021-07-08T11:36:29.191Z"
   },
   {
    "duration": 17,
    "start_time": "2021-07-08T11:36:29.226Z"
   },
   {
    "duration": 7,
    "start_time": "2021-07-08T11:36:29.245Z"
   },
   {
    "duration": 10,
    "start_time": "2021-07-08T11:36:29.254Z"
   },
   {
    "duration": 30,
    "start_time": "2021-07-08T11:36:29.292Z"
   },
   {
    "duration": 11,
    "start_time": "2021-07-08T11:36:29.324Z"
   },
   {
    "duration": 11,
    "start_time": "2021-07-08T11:36:29.337Z"
   },
   {
    "duration": 230,
    "start_time": "2021-07-08T11:36:29.349Z"
   },
   {
    "duration": 13,
    "start_time": "2021-07-08T11:36:29.588Z"
   },
   {
    "duration": 205,
    "start_time": "2021-07-08T11:36:29.603Z"
   },
   {
    "duration": 20,
    "start_time": "2021-07-08T11:36:29.810Z"
   },
   {
    "duration": 9,
    "start_time": "2021-07-08T11:36:29.832Z"
   },
   {
    "duration": 16,
    "start_time": "2021-07-08T11:36:29.843Z"
   },
   {
    "duration": 283,
    "start_time": "2021-07-08T11:36:29.861Z"
   },
   {
    "duration": 50,
    "start_time": "2021-07-08T11:36:30.146Z"
   },
   {
    "duration": 14,
    "start_time": "2021-07-08T11:36:30.198Z"
   },
   {
    "duration": 11,
    "start_time": "2021-07-08T11:36:30.214Z"
   },
   {
    "duration": 245,
    "start_time": "2021-07-08T11:36:30.227Z"
   },
   {
    "duration": 439,
    "start_time": "2021-07-08T11:36:30.474Z"
   },
   {
    "duration": 210,
    "start_time": "2021-07-08T11:36:30.915Z"
   },
   {
    "duration": 15,
    "start_time": "2021-07-08T11:36:31.127Z"
   },
   {
    "duration": 17,
    "start_time": "2021-07-08T11:38:20.451Z"
   },
   {
    "duration": 642,
    "start_time": "2021-07-08T11:46:17.881Z"
   },
   {
    "duration": 210,
    "start_time": "2021-07-08T11:46:18.525Z"
   },
   {
    "duration": 104,
    "start_time": "2021-07-08T11:46:18.741Z"
   },
   {
    "duration": 8,
    "start_time": "2021-07-08T11:46:18.847Z"
   },
   {
    "duration": 25,
    "start_time": "2021-07-08T11:46:18.857Z"
   },
   {
    "duration": 14,
    "start_time": "2021-07-08T11:46:18.884Z"
   },
   {
    "duration": 22,
    "start_time": "2021-07-08T11:46:18.900Z"
   },
   {
    "duration": 5,
    "start_time": "2021-07-08T11:46:18.924Z"
   },
   {
    "duration": 13,
    "start_time": "2021-07-08T11:46:18.931Z"
   },
   {
    "duration": 45,
    "start_time": "2021-07-08T11:46:18.946Z"
   },
   {
    "duration": 12,
    "start_time": "2021-07-08T11:46:18.993Z"
   },
   {
    "duration": 38,
    "start_time": "2021-07-08T11:46:19.006Z"
   },
   {
    "duration": 50,
    "start_time": "2021-07-08T11:46:19.046Z"
   },
   {
    "duration": 29,
    "start_time": "2021-07-08T11:46:19.099Z"
   },
   {
    "duration": 7,
    "start_time": "2021-07-08T11:46:19.130Z"
   },
   {
    "duration": 3,
    "start_time": "2021-07-08T11:46:19.139Z"
   },
   {
    "duration": 11,
    "start_time": "2021-07-08T11:46:19.144Z"
   },
   {
    "duration": 40,
    "start_time": "2021-07-08T11:46:19.157Z"
   },
   {
    "duration": 15,
    "start_time": "2021-07-08T11:46:19.199Z"
   },
   {
    "duration": 10,
    "start_time": "2021-07-08T11:46:19.217Z"
   },
   {
    "duration": 68,
    "start_time": "2021-07-08T11:46:19.230Z"
   },
   {
    "duration": 17,
    "start_time": "2021-07-08T11:46:19.301Z"
   },
   {
    "duration": 7,
    "start_time": "2021-07-08T11:46:19.321Z"
   },
   {
    "duration": 11,
    "start_time": "2021-07-08T11:46:19.330Z"
   },
   {
    "duration": 59,
    "start_time": "2021-07-08T11:46:19.343Z"
   },
   {
    "duration": 17,
    "start_time": "2021-07-08T11:46:19.405Z"
   },
   {
    "duration": 16,
    "start_time": "2021-07-08T11:46:19.424Z"
   },
   {
    "duration": 252,
    "start_time": "2021-07-08T11:46:19.443Z"
   },
   {
    "duration": 9,
    "start_time": "2021-07-08T11:46:19.697Z"
   },
   {
    "duration": 224,
    "start_time": "2021-07-08T11:46:19.708Z"
   },
   {
    "duration": 21,
    "start_time": "2021-07-08T11:46:19.934Z"
   },
   {
    "duration": 9,
    "start_time": "2021-07-08T11:46:19.956Z"
   },
   {
    "duration": 32,
    "start_time": "2021-07-08T11:46:19.967Z"
   },
   {
    "duration": 288,
    "start_time": "2021-07-08T11:46:20.004Z"
   },
   {
    "duration": 23,
    "start_time": "2021-07-08T11:46:20.300Z"
   },
   {
    "duration": 11,
    "start_time": "2021-07-08T11:46:20.325Z"
   },
   {
    "duration": 11,
    "start_time": "2021-07-08T11:46:20.339Z"
   },
   {
    "duration": 259,
    "start_time": "2021-07-08T11:46:20.352Z"
   },
   {
    "duration": 438,
    "start_time": "2021-07-08T11:46:20.613Z"
   },
   {
    "duration": 207,
    "start_time": "2021-07-08T11:46:21.054Z"
   },
   {
    "duration": 27,
    "start_time": "2021-07-08T11:46:21.262Z"
   },
   {
    "duration": 19,
    "start_time": "2021-07-08T11:46:21.291Z"
   },
   {
    "duration": 820,
    "start_time": "2021-07-08T11:49:01.655Z"
   },
   {
    "duration": 372,
    "start_time": "2021-07-08T11:49:02.478Z"
   },
   {
    "duration": 98,
    "start_time": "2021-07-08T11:49:02.853Z"
   },
   {
    "duration": 6,
    "start_time": "2021-07-08T11:49:02.953Z"
   },
   {
    "duration": 39,
    "start_time": "2021-07-08T11:49:02.960Z"
   },
   {
    "duration": 9,
    "start_time": "2021-07-08T11:49:03.003Z"
   },
   {
    "duration": 23,
    "start_time": "2021-07-08T11:49:03.014Z"
   },
   {
    "duration": 6,
    "start_time": "2021-07-08T11:49:03.041Z"
   },
   {
    "duration": 20,
    "start_time": "2021-07-08T11:49:03.049Z"
   },
   {
    "duration": 18,
    "start_time": "2021-07-08T11:49:03.084Z"
   },
   {
    "duration": 14,
    "start_time": "2021-07-08T11:49:03.104Z"
   },
   {
    "duration": 39,
    "start_time": "2021-07-08T11:49:03.119Z"
   },
   {
    "duration": 38,
    "start_time": "2021-07-08T11:49:03.160Z"
   },
   {
    "duration": 26,
    "start_time": "2021-07-08T11:49:03.200Z"
   },
   {
    "duration": 7,
    "start_time": "2021-07-08T11:49:03.227Z"
   },
   {
    "duration": 4,
    "start_time": "2021-07-08T11:49:03.236Z"
   },
   {
    "duration": 15,
    "start_time": "2021-07-08T11:49:03.243Z"
   },
   {
    "duration": 21,
    "start_time": "2021-07-08T11:49:03.285Z"
   },
   {
    "duration": 17,
    "start_time": "2021-07-08T11:49:03.309Z"
   },
   {
    "duration": 10,
    "start_time": "2021-07-08T11:49:03.328Z"
   },
   {
    "duration": 65,
    "start_time": "2021-07-08T11:49:03.340Z"
   },
   {
    "duration": 18,
    "start_time": "2021-07-08T11:49:03.407Z"
   },
   {
    "duration": 8,
    "start_time": "2021-07-08T11:49:03.428Z"
   },
   {
    "duration": 15,
    "start_time": "2021-07-08T11:49:03.438Z"
   },
   {
    "duration": 40,
    "start_time": "2021-07-08T11:49:03.455Z"
   },
   {
    "duration": 12,
    "start_time": "2021-07-08T11:49:03.497Z"
   },
   {
    "duration": 29,
    "start_time": "2021-07-08T11:49:03.511Z"
   },
   {
    "duration": 285,
    "start_time": "2021-07-08T11:49:03.542Z"
   },
   {
    "duration": 8,
    "start_time": "2021-07-08T11:49:03.829Z"
   },
   {
    "duration": 227,
    "start_time": "2021-07-08T11:49:03.838Z"
   },
   {
    "duration": 40,
    "start_time": "2021-07-08T11:49:04.066Z"
   },
   {
    "duration": 10,
    "start_time": "2021-07-08T11:49:04.108Z"
   },
   {
    "duration": 26,
    "start_time": "2021-07-08T11:49:04.121Z"
   },
   {
    "duration": 290,
    "start_time": "2021-07-08T11:49:04.149Z"
   },
   {
    "duration": 26,
    "start_time": "2021-07-08T11:49:04.441Z"
   },
   {
    "duration": 31,
    "start_time": "2021-07-08T11:49:04.470Z"
   },
   {
    "duration": 14,
    "start_time": "2021-07-08T11:49:04.503Z"
   },
   {
    "duration": 259,
    "start_time": "2021-07-08T11:49:04.521Z"
   },
   {
    "duration": 480,
    "start_time": "2021-07-08T11:49:04.782Z"
   },
   {
    "duration": 225,
    "start_time": "2021-07-08T11:49:05.264Z"
   },
   {
    "duration": 22,
    "start_time": "2021-07-08T11:49:05.491Z"
   },
   {
    "duration": 24,
    "start_time": "2021-07-08T11:49:05.515Z"
   },
   {
    "duration": 634,
    "start_time": "2021-07-08T11:52:24.960Z"
   },
   {
    "duration": 199,
    "start_time": "2021-07-08T11:52:25.599Z"
   },
   {
    "duration": 106,
    "start_time": "2021-07-08T11:52:25.803Z"
   },
   {
    "duration": 7,
    "start_time": "2021-07-08T11:52:25.911Z"
   },
   {
    "duration": 29,
    "start_time": "2021-07-08T11:52:25.920Z"
   },
   {
    "duration": 7,
    "start_time": "2021-07-08T11:52:25.951Z"
   },
   {
    "duration": 26,
    "start_time": "2021-07-08T11:52:25.961Z"
   },
   {
    "duration": 11,
    "start_time": "2021-07-08T11:52:25.990Z"
   },
   {
    "duration": 29,
    "start_time": "2021-07-08T11:52:26.005Z"
   },
   {
    "duration": 9,
    "start_time": "2021-07-08T11:52:26.036Z"
   },
   {
    "duration": 8,
    "start_time": "2021-07-08T11:52:26.047Z"
   },
   {
    "duration": 63,
    "start_time": "2021-07-08T11:52:26.057Z"
   },
   {
    "duration": 17,
    "start_time": "2021-07-08T11:52:26.122Z"
   },
   {
    "duration": 43,
    "start_time": "2021-07-08T11:52:26.142Z"
   },
   {
    "duration": 17,
    "start_time": "2021-07-08T11:52:26.187Z"
   },
   {
    "duration": 5,
    "start_time": "2021-07-08T11:52:26.206Z"
   },
   {
    "duration": 12,
    "start_time": "2021-07-08T11:52:26.212Z"
   },
   {
    "duration": 11,
    "start_time": "2021-07-08T11:52:26.226Z"
   },
   {
    "duration": 12,
    "start_time": "2021-07-08T11:52:26.238Z"
   },
   {
    "duration": 38,
    "start_time": "2021-07-08T11:52:26.252Z"
   },
   {
    "duration": 40,
    "start_time": "2021-07-08T11:52:26.292Z"
   },
   {
    "duration": 17,
    "start_time": "2021-07-08T11:52:26.336Z"
   },
   {
    "duration": 39,
    "start_time": "2021-07-08T11:52:26.355Z"
   },
   {
    "duration": 11,
    "start_time": "2021-07-08T11:52:26.395Z"
   },
   {
    "duration": 23,
    "start_time": "2021-07-08T11:52:26.408Z"
   },
   {
    "duration": 12,
    "start_time": "2021-07-08T11:52:26.432Z"
   },
   {
    "duration": 41,
    "start_time": "2021-07-08T11:52:26.446Z"
   },
   {
    "duration": 215,
    "start_time": "2021-07-08T11:52:26.493Z"
   },
   {
    "duration": 8,
    "start_time": "2021-07-08T11:52:26.710Z"
   },
   {
    "duration": 228,
    "start_time": "2021-07-08T11:52:26.720Z"
   },
   {
    "duration": 18,
    "start_time": "2021-07-08T11:52:26.950Z"
   },
   {
    "duration": 35,
    "start_time": "2021-07-08T11:52:26.969Z"
   },
   {
    "duration": 23,
    "start_time": "2021-07-08T11:52:27.006Z"
   },
   {
    "duration": 258,
    "start_time": "2021-07-08T11:52:27.030Z"
   },
   {
    "duration": 24,
    "start_time": "2021-07-08T11:52:27.290Z"
   },
   {
    "duration": 12,
    "start_time": "2021-07-08T11:52:27.316Z"
   },
   {
    "duration": 10,
    "start_time": "2021-07-08T11:52:27.329Z"
   },
   {
    "duration": 298,
    "start_time": "2021-07-08T11:52:27.341Z"
   },
   {
    "duration": 436,
    "start_time": "2021-07-08T11:52:27.641Z"
   },
   {
    "duration": 216,
    "start_time": "2021-07-08T11:52:28.079Z"
   },
   {
    "duration": 20,
    "start_time": "2021-07-08T11:52:28.297Z"
   },
   {
    "duration": 17,
    "start_time": "2021-07-08T11:52:28.319Z"
   },
   {
    "duration": 650,
    "start_time": "2021-09-13T18:11:28.613Z"
   },
   {
    "duration": 285,
    "start_time": "2021-09-13T18:11:29.409Z"
   },
   {
    "duration": 23,
    "start_time": "2021-09-13T18:15:46.214Z"
   },
   {
    "duration": 7,
    "start_time": "2021-09-13T18:16:16.385Z"
   },
   {
    "duration": 370,
    "start_time": "2021-09-14T06:22:26.763Z"
   },
   {
    "duration": 7,
    "start_time": "2021-09-14T06:23:00.911Z"
   },
   {
    "duration": 11,
    "start_time": "2021-09-14T06:23:20.709Z"
   },
   {
    "duration": 23,
    "start_time": "2021-09-14T06:23:43.533Z"
   },
   {
    "duration": 10,
    "start_time": "2021-09-14T06:23:54.620Z"
   },
   {
    "duration": 5,
    "start_time": "2021-09-14T06:33:15.855Z"
   },
   {
    "duration": 528,
    "start_time": "2021-09-14T06:33:38.351Z"
   },
   {
    "duration": 6,
    "start_time": "2021-09-14T06:33:48.759Z"
   },
   {
    "duration": 1063,
    "start_time": "2021-09-14T06:55:34.248Z"
   },
   {
    "duration": 1089,
    "start_time": "2021-09-14T06:56:29.523Z"
   },
   {
    "duration": 6,
    "start_time": "2021-09-14T07:03:34.848Z"
   },
   {
    "duration": 32,
    "start_time": "2021-09-14T07:03:36.887Z"
   },
   {
    "duration": 11,
    "start_time": "2021-09-14T07:16:33.712Z"
   },
   {
    "duration": 10,
    "start_time": "2021-09-14T07:17:47.512Z"
   },
   {
    "duration": 30,
    "start_time": "2021-09-14T07:17:56.064Z"
   },
   {
    "duration": 22,
    "start_time": "2021-09-14T07:18:04.953Z"
   },
   {
    "duration": 10,
    "start_time": "2021-09-14T07:18:09.767Z"
   },
   {
    "duration": 23,
    "start_time": "2021-09-14T07:19:36.671Z"
   },
   {
    "duration": 602,
    "start_time": "2021-09-14T07:19:48.300Z"
   },
   {
    "duration": 292,
    "start_time": "2021-09-14T07:19:48.905Z"
   },
   {
    "duration": 22,
    "start_time": "2021-09-14T07:19:49.200Z"
   },
   {
    "duration": 9,
    "start_time": "2021-09-14T07:19:49.224Z"
   },
   {
    "duration": 9,
    "start_time": "2021-09-14T07:19:49.234Z"
   },
   {
    "duration": 12,
    "start_time": "2021-09-14T07:19:49.245Z"
   },
   {
    "duration": 9,
    "start_time": "2021-09-14T07:19:49.259Z"
   },
   {
    "duration": 7,
    "start_time": "2021-09-14T07:19:49.270Z"
   },
   {
    "duration": 30,
    "start_time": "2021-09-14T07:19:49.279Z"
   },
   {
    "duration": 38,
    "start_time": "2021-09-14T07:19:49.311Z"
   },
   {
    "duration": 7840,
    "start_time": "2021-09-14T07:32:36.901Z"
   },
   {
    "duration": 6,
    "start_time": "2021-09-14T07:32:57.940Z"
   },
   {
    "duration": 362,
    "start_time": "2021-09-14T07:37:35.641Z"
   },
   {
    "duration": 7,
    "start_time": "2021-09-14T07:37:50.706Z"
   },
   {
    "duration": 12,
    "start_time": "2021-09-14T07:42:31.065Z"
   },
   {
    "duration": 10,
    "start_time": "2021-09-14T08:22:32.523Z"
   },
   {
    "duration": 10,
    "start_time": "2021-09-14T08:36:29.146Z"
   },
   {
    "duration": 22,
    "start_time": "2021-09-14T08:36:56.212Z"
   },
   {
    "duration": 6,
    "start_time": "2021-09-14T08:38:02.308Z"
   },
   {
    "duration": 6,
    "start_time": "2021-09-14T08:38:08.435Z"
   },
   {
    "duration": 18,
    "start_time": "2021-09-14T08:38:20.187Z"
   },
   {
    "duration": 26,
    "start_time": "2021-09-14T08:39:00.793Z"
   },
   {
    "duration": 6,
    "start_time": "2021-09-14T08:40:07.659Z"
   },
   {
    "duration": 20,
    "start_time": "2021-09-14T08:40:28.018Z"
   },
   {
    "duration": 5,
    "start_time": "2021-09-14T10:57:08.490Z"
   },
   {
    "duration": 337,
    "start_time": "2021-09-14T11:07:30.269Z"
   },
   {
    "duration": 26,
    "start_time": "2021-09-14T11:07:37.829Z"
   },
   {
    "duration": 13,
    "start_time": "2021-09-14T11:07:50.607Z"
   },
   {
    "duration": 11,
    "start_time": "2021-09-14T11:07:56.557Z"
   },
   {
    "duration": 11,
    "start_time": "2021-09-14T11:08:02.342Z"
   },
   {
    "duration": 11,
    "start_time": "2021-09-14T11:08:11.461Z"
   },
   {
    "duration": 11,
    "start_time": "2021-09-14T11:08:20.733Z"
   },
   {
    "duration": 25,
    "start_time": "2021-09-14T11:08:34.214Z"
   },
   {
    "duration": 47,
    "start_time": "2021-09-14T11:08:43.030Z"
   },
   {
    "duration": 28,
    "start_time": "2021-09-14T11:08:56.118Z"
   },
   {
    "duration": 6865,
    "start_time": "2021-09-14T11:10:03.029Z"
   },
   {
    "duration": -89,
    "start_time": "2021-09-14T11:10:09.985Z"
   },
   {
    "duration": 7,
    "start_time": "2021-09-14T11:10:27.372Z"
   },
   {
    "duration": 5,
    "start_time": "2021-09-14T11:10:30.324Z"
   },
   {
    "duration": 7,
    "start_time": "2021-09-14T11:10:38.833Z"
   },
   {
    "duration": 5,
    "start_time": "2021-09-14T11:10:39.899Z"
   },
   {
    "duration": 5,
    "start_time": "2021-09-14T11:12:49.562Z"
   },
   {
    "duration": 8,
    "start_time": "2021-09-14T11:13:09.843Z"
   },
   {
    "duration": 5,
    "start_time": "2021-09-14T11:13:28.299Z"
   },
   {
    "duration": 5,
    "start_time": "2021-09-14T11:13:35.779Z"
   },
   {
    "duration": 5,
    "start_time": "2021-09-14T11:14:26.498Z"
   },
   {
    "duration": 9,
    "start_time": "2021-09-14T11:15:19.745Z"
   },
   {
    "duration": 5,
    "start_time": "2021-09-14T11:15:50.337Z"
   },
   {
    "duration": 266,
    "start_time": "2021-09-14T11:15:59.450Z"
   },
   {
    "duration": 8,
    "start_time": "2021-09-14T11:16:09.906Z"
   },
   {
    "duration": 300,
    "start_time": "2021-09-14T11:17:32.937Z"
   },
   {
    "duration": 7,
    "start_time": "2021-09-14T11:17:44.944Z"
   },
   {
    "duration": 9,
    "start_time": "2021-09-14T11:17:55.211Z"
   },
   {
    "duration": 10,
    "start_time": "2021-09-14T11:22:55.236Z"
   },
   {
    "duration": 10,
    "start_time": "2021-09-14T11:22:56.164Z"
   },
   {
    "duration": 5,
    "start_time": "2021-09-14T11:23:34.987Z"
   },
   {
    "duration": 7,
    "start_time": "2021-09-14T11:23:55.083Z"
   },
   {
    "duration": 15,
    "start_time": "2021-09-14T11:24:19.635Z"
   },
   {
    "duration": 9,
    "start_time": "2021-09-14T11:24:21.260Z"
   },
   {
    "duration": 6,
    "start_time": "2021-09-14T11:24:22.267Z"
   },
   {
    "duration": 6,
    "start_time": "2021-09-14T11:26:23.305Z"
   },
   {
    "duration": 7,
    "start_time": "2021-09-14T11:26:30.769Z"
   },
   {
    "duration": 282,
    "start_time": "2021-09-14T11:26:47.834Z"
   },
   {
    "duration": 277,
    "start_time": "2021-09-14T11:26:54.777Z"
   },
   {
    "duration": 6,
    "start_time": "2021-09-14T11:27:04.354Z"
   },
   {
    "duration": 13,
    "start_time": "2021-09-14T11:27:52.898Z"
   },
   {
    "duration": 7,
    "start_time": "2021-09-14T11:29:23.546Z"
   },
   {
    "duration": 10,
    "start_time": "2021-09-14T11:29:53.657Z"
   },
   {
    "duration": 15,
    "start_time": "2021-09-14T11:49:43.397Z"
   },
   {
    "duration": 14,
    "start_time": "2021-09-14T11:51:58.765Z"
   },
   {
    "duration": 15,
    "start_time": "2021-09-14T11:52:38.956Z"
   },
   {
    "duration": 21,
    "start_time": "2021-09-14T11:53:24.661Z"
   },
   {
    "duration": 12,
    "start_time": "2021-09-14T11:54:12.164Z"
   },
   {
    "duration": 30,
    "start_time": "2021-09-14T11:58:45.828Z"
   },
   {
    "duration": 596,
    "start_time": "2021-09-14T11:58:58.071Z"
   },
   {
    "duration": 275,
    "start_time": "2021-09-14T11:58:58.669Z"
   },
   {
    "duration": 22,
    "start_time": "2021-09-14T11:58:58.946Z"
   },
   {
    "duration": 8,
    "start_time": "2021-09-14T11:58:58.970Z"
   },
   {
    "duration": 9,
    "start_time": "2021-09-14T11:58:58.980Z"
   },
   {
    "duration": 14,
    "start_time": "2021-09-14T11:58:58.991Z"
   },
   {
    "duration": 42,
    "start_time": "2021-09-14T11:58:59.007Z"
   },
   {
    "duration": 6,
    "start_time": "2021-09-14T11:58:59.052Z"
   },
   {
    "duration": 28,
    "start_time": "2021-09-14T11:58:59.060Z"
   },
   {
    "duration": 13,
    "start_time": "2021-09-14T11:58:59.090Z"
   },
   {
    "duration": 7,
    "start_time": "2021-09-14T11:58:59.105Z"
   },
   {
    "duration": 32,
    "start_time": "2021-09-14T11:58:59.114Z"
   },
   {
    "duration": 10,
    "start_time": "2021-09-14T11:58:59.148Z"
   },
   {
    "duration": 26,
    "start_time": "2021-09-14T11:58:59.160Z"
   },
   {
    "duration": 53,
    "start_time": "2021-09-14T11:58:59.188Z"
   },
   {
    "duration": 6,
    "start_time": "2021-09-14T11:58:59.243Z"
   },
   {
    "duration": 8,
    "start_time": "2021-09-14T11:58:59.250Z"
   },
   {
    "duration": 38,
    "start_time": "2021-09-14T11:58:59.259Z"
   },
   {
    "duration": 5,
    "start_time": "2021-09-14T11:58:59.299Z"
   },
   {
    "duration": 22,
    "start_time": "2021-09-14T11:58:59.306Z"
   },
   {
    "duration": 28,
    "start_time": "2021-09-14T11:58:59.329Z"
   },
   {
    "duration": 12,
    "start_time": "2021-09-14T11:58:59.358Z"
   },
   {
    "duration": 4,
    "start_time": "2021-09-14T11:58:59.374Z"
   },
   {
    "duration": 13,
    "start_time": "2021-09-14T11:58:59.380Z"
   },
   {
    "duration": 12,
    "start_time": "2021-09-14T11:58:59.395Z"
   },
   {
    "duration": 19,
    "start_time": "2021-09-14T11:58:59.409Z"
   },
   {
    "duration": 42,
    "start_time": "2021-09-14T11:59:54.140Z"
   },
   {
    "duration": 607,
    "start_time": "2021-09-14T12:00:39.269Z"
   },
   {
    "duration": 271,
    "start_time": "2021-09-14T12:00:39.878Z"
   },
   {
    "duration": 22,
    "start_time": "2021-09-14T12:00:40.151Z"
   },
   {
    "duration": 11,
    "start_time": "2021-09-14T12:00:40.175Z"
   },
   {
    "duration": 20,
    "start_time": "2021-09-14T12:00:40.187Z"
   },
   {
    "duration": 23,
    "start_time": "2021-09-14T12:00:40.209Z"
   },
   {
    "duration": 22,
    "start_time": "2021-09-14T12:00:40.234Z"
   },
   {
    "duration": 6,
    "start_time": "2021-09-14T12:00:40.259Z"
   },
   {
    "duration": 30,
    "start_time": "2021-09-14T12:00:40.268Z"
   },
   {
    "duration": 13,
    "start_time": "2021-09-14T12:00:40.300Z"
   },
   {
    "duration": 8,
    "start_time": "2021-09-14T12:00:40.315Z"
   },
   {
    "duration": 26,
    "start_time": "2021-09-14T12:00:40.325Z"
   },
   {
    "duration": 11,
    "start_time": "2021-09-14T12:00:40.353Z"
   },
   {
    "duration": 23,
    "start_time": "2021-09-14T12:00:40.366Z"
   },
   {
    "duration": 51,
    "start_time": "2021-09-14T12:00:40.391Z"
   },
   {
    "duration": 6,
    "start_time": "2021-09-14T12:00:40.444Z"
   },
   {
    "duration": 8,
    "start_time": "2021-09-14T12:00:40.451Z"
   },
   {
    "duration": 42,
    "start_time": "2021-09-14T12:00:40.461Z"
   },
   {
    "duration": 5,
    "start_time": "2021-09-14T12:00:40.505Z"
   },
   {
    "duration": 38,
    "start_time": "2021-09-14T12:00:40.511Z"
   },
   {
    "duration": 18,
    "start_time": "2021-09-14T12:00:40.551Z"
   },
   {
    "duration": 15,
    "start_time": "2021-09-14T12:00:40.571Z"
   },
   {
    "duration": 6,
    "start_time": "2021-09-14T12:00:40.589Z"
   },
   {
    "duration": 9,
    "start_time": "2021-09-14T12:00:40.597Z"
   },
   {
    "duration": 11,
    "start_time": "2021-09-14T12:00:40.607Z"
   },
   {
    "duration": 27,
    "start_time": "2021-09-14T12:00:40.620Z"
   },
   {
    "duration": 13,
    "start_time": "2021-09-14T12:01:13.812Z"
   },
   {
    "duration": 24,
    "start_time": "2021-09-14T12:44:20.688Z"
   },
   {
    "duration": 28,
    "start_time": "2021-09-14T12:48:03.066Z"
   },
   {
    "duration": 28,
    "start_time": "2021-09-15T06:47:36.488Z"
   },
   {
    "duration": 465,
    "start_time": "2021-09-15T06:49:39.941Z"
   },
   {
    "duration": 7979,
    "start_time": "2021-09-15T06:49:54.293Z"
   },
   {
    "duration": 7590,
    "start_time": "2021-09-15T07:13:42.969Z"
   },
   {
    "duration": 16,
    "start_time": "2021-09-15T07:14:22.004Z"
   },
   {
    "duration": 21,
    "start_time": "2021-09-15T07:30:40.295Z"
   },
   {
    "duration": 17,
    "start_time": "2021-09-15T07:40:03.162Z"
   },
   {
    "duration": 18,
    "start_time": "2021-09-15T07:40:44.107Z"
   },
   {
    "duration": 14,
    "start_time": "2021-09-15T07:51:32.421Z"
   },
   {
    "duration": 17,
    "start_time": "2021-09-15T07:52:44.908Z"
   },
   {
    "duration": 20,
    "start_time": "2021-09-15T07:52:48.324Z"
   },
   {
    "duration": 11,
    "start_time": "2021-09-15T07:54:15.883Z"
   },
   {
    "duration": 271,
    "start_time": "2021-09-15T07:56:09.546Z"
   },
   {
    "duration": 16,
    "start_time": "2021-09-15T07:56:15.689Z"
   },
   {
    "duration": 31,
    "start_time": "2021-09-15T07:57:09.305Z"
   },
   {
    "duration": 299,
    "start_time": "2021-09-15T07:59:12.657Z"
   },
   {
    "duration": 31,
    "start_time": "2021-09-15T08:00:53.872Z"
   },
   {
    "duration": 30,
    "start_time": "2021-09-15T08:01:26.640Z"
   },
   {
    "duration": 902,
    "start_time": "2021-09-15T08:16:22.712Z"
   },
   {
    "duration": 131,
    "start_time": "2021-09-15T08:16:55.487Z"
   },
   {
    "duration": 32,
    "start_time": "2021-09-15T08:18:02.732Z"
   },
   {
    "duration": 26,
    "start_time": "2021-09-15T08:18:23.630Z"
   },
   {
    "duration": 672,
    "start_time": "2021-09-15T10:39:00.106Z"
   },
   {
    "duration": 287,
    "start_time": "2021-09-15T10:39:00.780Z"
   },
   {
    "duration": 24,
    "start_time": "2021-09-15T10:39:01.070Z"
   },
   {
    "duration": 33,
    "start_time": "2021-09-15T10:39:01.097Z"
   },
   {
    "duration": 30,
    "start_time": "2021-09-15T10:39:01.132Z"
   },
   {
    "duration": 46,
    "start_time": "2021-09-15T10:39:01.164Z"
   },
   {
    "duration": 37,
    "start_time": "2021-09-15T10:39:01.212Z"
   },
   {
    "duration": 17,
    "start_time": "2021-09-15T10:39:01.252Z"
   },
   {
    "duration": 47,
    "start_time": "2021-09-15T10:39:01.271Z"
   },
   {
    "duration": 36,
    "start_time": "2021-09-15T10:39:01.320Z"
   },
   {
    "duration": 47,
    "start_time": "2021-09-15T10:39:01.358Z"
   },
   {
    "duration": 44,
    "start_time": "2021-09-15T10:39:01.406Z"
   },
   {
    "duration": 18,
    "start_time": "2021-09-15T10:39:01.452Z"
   },
   {
    "duration": 65,
    "start_time": "2021-09-15T10:39:01.472Z"
   },
   {
    "duration": 92,
    "start_time": "2021-09-15T10:39:01.539Z"
   },
   {
    "duration": 33,
    "start_time": "2021-09-15T10:39:01.633Z"
   },
   {
    "duration": 8,
    "start_time": "2021-09-15T10:39:01.668Z"
   },
   {
    "duration": 56,
    "start_time": "2021-09-15T10:39:01.678Z"
   },
   {
    "duration": 10,
    "start_time": "2021-09-15T10:39:01.735Z"
   },
   {
    "duration": 21,
    "start_time": "2021-09-15T10:39:01.747Z"
   },
   {
    "duration": 24,
    "start_time": "2021-09-15T10:39:01.769Z"
   },
   {
    "duration": 33,
    "start_time": "2021-09-15T10:39:01.795Z"
   },
   {
    "duration": 15,
    "start_time": "2021-09-15T10:39:01.832Z"
   },
   {
    "duration": 35,
    "start_time": "2021-09-15T10:39:01.849Z"
   },
   {
    "duration": 30,
    "start_time": "2021-09-15T10:39:01.886Z"
   },
   {
    "duration": 40,
    "start_time": "2021-09-15T10:39:01.918Z"
   },
   {
    "duration": 25,
    "start_time": "2021-09-15T10:39:01.960Z"
   },
   {
    "duration": 3,
    "start_time": "2021-09-15T12:26:43.740Z"
   },
   {
    "duration": 319,
    "start_time": "2021-09-15T12:50:10.553Z"
   },
   {
    "duration": 1002,
    "start_time": "2021-09-15T13:07:24.623Z"
   },
   {
    "duration": 1056,
    "start_time": "2021-09-15T13:10:01.885Z"
   },
   {
    "duration": 1337,
    "start_time": "2021-09-15T13:14:16.014Z"
   },
   {
    "duration": 3,
    "start_time": "2021-09-15T13:14:38.063Z"
   },
   {
    "duration": 1464,
    "start_time": "2021-09-15T13:14:40.170Z"
   },
   {
    "duration": 1042,
    "start_time": "2021-09-15T13:14:50.525Z"
   },
   {
    "duration": 706,
    "start_time": "2021-09-15T13:22:21.294Z"
   },
   {
    "duration": 1196,
    "start_time": "2021-09-15T13:22:38.451Z"
   },
   {
    "duration": 1037,
    "start_time": "2021-09-15T13:22:52.357Z"
   },
   {
    "duration": 1381,
    "start_time": "2021-09-15T13:28:53.618Z"
   },
   {
    "duration": 1121,
    "start_time": "2021-09-15T13:29:16.619Z"
   },
   {
    "duration": 1140,
    "start_time": "2021-09-15T13:31:04.169Z"
   },
   {
    "duration": 298,
    "start_time": "2021-09-15T13:31:49.257Z"
   },
   {
    "duration": 335,
    "start_time": "2021-09-15T16:08:09.469Z"
   },
   {
    "duration": 1950,
    "start_time": "2021-09-15T16:08:44.752Z"
   },
   {
    "duration": 27,
    "start_time": "2021-09-15T16:15:35.979Z"
   },
   {
    "duration": 315,
    "start_time": "2021-09-15T16:29:03.186Z"
   },
   {
    "duration": 4,
    "start_time": "2021-09-15T16:29:13.761Z"
   },
   {
    "duration": 7,
    "start_time": "2021-09-15T16:29:44.615Z"
   },
   {
    "duration": 7557,
    "start_time": "2021-09-15T16:30:38.096Z"
   },
   {
    "duration": 4335,
    "start_time": "2021-09-15T16:31:08.108Z"
   },
   {
    "duration": 609,
    "start_time": "2021-09-15T16:31:24.039Z"
   },
   {
    "duration": 293,
    "start_time": "2021-09-15T16:31:24.650Z"
   },
   {
    "duration": 20,
    "start_time": "2021-09-15T16:31:24.945Z"
   },
   {
    "duration": 9,
    "start_time": "2021-09-15T16:31:24.966Z"
   },
   {
    "duration": 11,
    "start_time": "2021-09-15T16:31:24.977Z"
   },
   {
    "duration": 14,
    "start_time": "2021-09-15T16:31:24.989Z"
   },
   {
    "duration": 9,
    "start_time": "2021-09-15T16:31:25.005Z"
   },
   {
    "duration": 6,
    "start_time": "2021-09-15T16:31:25.041Z"
   },
   {
    "duration": 25,
    "start_time": "2021-09-15T16:31:25.049Z"
   },
   {
    "duration": 11,
    "start_time": "2021-09-15T16:31:25.076Z"
   },
   {
    "duration": 7,
    "start_time": "2021-09-15T16:31:25.089Z"
   },
   {
    "duration": 46,
    "start_time": "2021-09-15T16:31:25.098Z"
   },
   {
    "duration": 8,
    "start_time": "2021-09-15T16:31:25.145Z"
   },
   {
    "duration": 18,
    "start_time": "2021-09-15T16:31:25.155Z"
   },
   {
    "duration": 8,
    "start_time": "2021-09-15T16:31:25.175Z"
   },
   {
    "duration": 18,
    "start_time": "2021-09-15T16:31:25.185Z"
   },
   {
    "duration": 53,
    "start_time": "2021-09-15T16:31:25.204Z"
   },
   {
    "duration": 5,
    "start_time": "2021-09-15T16:31:25.259Z"
   },
   {
    "duration": 5,
    "start_time": "2021-09-15T16:31:25.265Z"
   },
   {
    "duration": 70,
    "start_time": "2021-09-15T16:31:25.271Z"
   },
   {
    "duration": 9,
    "start_time": "2021-09-15T16:31:25.343Z"
   },
   {
    "duration": 23,
    "start_time": "2021-09-15T16:31:25.353Z"
   },
   {
    "duration": 7,
    "start_time": "2021-09-15T16:31:25.380Z"
   },
   {
    "duration": 52,
    "start_time": "2021-09-15T16:31:25.389Z"
   },
   {
    "duration": 14,
    "start_time": "2021-09-15T16:31:25.443Z"
   },
   {
    "duration": 23,
    "start_time": "2021-09-15T16:31:25.459Z"
   },
   {
    "duration": 28,
    "start_time": "2021-09-15T16:31:25.484Z"
   },
   {
    "duration": 24,
    "start_time": "2021-09-15T16:31:25.541Z"
   },
   {
    "duration": 23,
    "start_time": "2021-09-15T16:31:25.567Z"
   },
   {
    "duration": 3,
    "start_time": "2021-09-15T16:31:25.591Z"
   },
   {
    "duration": 1723,
    "start_time": "2021-09-15T16:31:25.595Z"
   },
   {
    "duration": 308,
    "start_time": "2021-09-15T16:43:41.394Z"
   },
   {
    "duration": 638,
    "start_time": "2021-09-15T16:51:48.745Z"
   },
   {
    "duration": 290,
    "start_time": "2021-09-15T16:51:49.385Z"
   },
   {
    "duration": 19,
    "start_time": "2021-09-15T16:51:49.678Z"
   },
   {
    "duration": 6,
    "start_time": "2021-09-15T16:51:49.699Z"
   },
   {
    "duration": 14,
    "start_time": "2021-09-15T16:51:49.707Z"
   },
   {
    "duration": 15,
    "start_time": "2021-09-15T16:51:49.723Z"
   },
   {
    "duration": 11,
    "start_time": "2021-09-15T16:51:49.740Z"
   },
   {
    "duration": 4,
    "start_time": "2021-09-15T16:51:49.754Z"
   },
   {
    "duration": 27,
    "start_time": "2021-09-15T16:51:49.760Z"
   },
   {
    "duration": 11,
    "start_time": "2021-09-15T16:51:49.788Z"
   },
   {
    "duration": 7,
    "start_time": "2021-09-15T16:51:49.801Z"
   },
   {
    "duration": 35,
    "start_time": "2021-09-15T16:51:49.810Z"
   },
   {
    "duration": 9,
    "start_time": "2021-09-15T16:51:49.846Z"
   },
   {
    "duration": 19,
    "start_time": "2021-09-15T16:51:49.856Z"
   },
   {
    "duration": 392,
    "start_time": "2021-09-15T16:51:49.877Z"
   },
   {
    "duration": -17890,
    "start_time": "2021-09-15T16:52:08.161Z"
   },
   {
    "duration": -17903,
    "start_time": "2021-09-15T16:52:08.175Z"
   },
   {
    "duration": -17926,
    "start_time": "2021-09-15T16:52:08.199Z"
   },
   {
    "duration": -17998,
    "start_time": "2021-09-15T16:52:08.272Z"
   },
   {
    "duration": -18018,
    "start_time": "2021-09-15T16:52:08.293Z"
   },
   {
    "duration": -18037,
    "start_time": "2021-09-15T16:52:08.313Z"
   },
   {
    "duration": -18050,
    "start_time": "2021-09-15T16:52:08.327Z"
   },
   {
    "duration": -18076,
    "start_time": "2021-09-15T16:52:08.354Z"
   },
   {
    "duration": -18115,
    "start_time": "2021-09-15T16:52:08.394Z"
   },
   {
    "duration": -18126,
    "start_time": "2021-09-15T16:52:08.406Z"
   },
   {
    "duration": -18143,
    "start_time": "2021-09-15T16:52:08.424Z"
   },
   {
    "duration": -18156,
    "start_time": "2021-09-15T16:52:08.438Z"
   },
   {
    "duration": -18175,
    "start_time": "2021-09-15T16:52:08.458Z"
   },
   {
    "duration": -18190,
    "start_time": "2021-09-15T16:52:08.474Z"
   },
   {
    "duration": -18222,
    "start_time": "2021-09-15T16:52:08.507Z"
   },
   {
    "duration": -18233,
    "start_time": "2021-09-15T16:52:08.519Z"
   },
   {
    "duration": 346,
    "start_time": "2021-09-15T17:14:36.074Z"
   },
   {
    "duration": 341,
    "start_time": "2021-09-15T17:18:04.787Z"
   },
   {
    "duration": 9,
    "start_time": "2021-09-15T17:20:29.225Z"
   },
   {
    "duration": 3,
    "start_time": "2021-09-15T17:20:39.622Z"
   },
   {
    "duration": 888,
    "start_time": "2021-09-15T17:20:40.289Z"
   },
   {
    "duration": 2,
    "start_time": "2021-09-15T17:37:35.762Z"
   },
   {
    "duration": 8,
    "start_time": "2021-09-15T17:37:36.863Z"
   },
   {
    "duration": 28,
    "start_time": "2021-09-15T17:38:04.273Z"
   },
   {
    "duration": 2,
    "start_time": "2021-09-15T17:38:46.158Z"
   },
   {
    "duration": 797,
    "start_time": "2021-09-15T17:38:47.058Z"
   },
   {
    "duration": 3,
    "start_time": "2021-09-15T17:39:23.004Z"
   },
   {
    "duration": 1889,
    "start_time": "2021-09-15T17:39:23.655Z"
   },
   {
    "duration": 3,
    "start_time": "2021-09-15T17:39:58.517Z"
   },
   {
    "duration": 893,
    "start_time": "2021-09-15T17:39:59.600Z"
   },
   {
    "duration": 3,
    "start_time": "2021-09-15T17:47:12.605Z"
   },
   {
    "duration": 1792,
    "start_time": "2021-09-15T17:47:13.297Z"
   },
   {
    "duration": 3,
    "start_time": "2021-09-15T17:47:21.136Z"
   },
   {
    "duration": 863,
    "start_time": "2021-09-15T17:47:22.188Z"
   },
   {
    "duration": 3,
    "start_time": "2021-09-15T17:48:16.059Z"
   },
   {
    "duration": 9,
    "start_time": "2021-09-15T17:48:16.896Z"
   },
   {
    "duration": 28,
    "start_time": "2021-09-15T17:48:32.712Z"
   },
   {
    "duration": 4,
    "start_time": "2021-09-15T17:54:16.168Z"
   },
   {
    "duration": 1996,
    "start_time": "2021-09-15T17:54:19.215Z"
   },
   {
    "duration": 3,
    "start_time": "2021-09-15T17:54:31.841Z"
   },
   {
    "duration": 44,
    "start_time": "2021-09-15T17:54:33.896Z"
   },
   {
    "duration": 38,
    "start_time": "2021-09-15T18:16:14.649Z"
   },
   {
    "duration": 550,
    "start_time": "2021-09-16T06:17:34.284Z"
   },
   {
    "duration": 314,
    "start_time": "2021-09-16T06:17:34.838Z"
   },
   {
    "duration": 19,
    "start_time": "2021-09-16T06:17:35.154Z"
   },
   {
    "duration": 21,
    "start_time": "2021-09-16T06:17:35.174Z"
   },
   {
    "duration": 18,
    "start_time": "2021-09-16T06:17:35.197Z"
   },
   {
    "duration": 19,
    "start_time": "2021-09-16T06:17:35.217Z"
   },
   {
    "duration": 30,
    "start_time": "2021-09-16T06:17:35.238Z"
   },
   {
    "duration": 17,
    "start_time": "2021-09-16T06:17:35.271Z"
   },
   {
    "duration": 35,
    "start_time": "2021-09-16T06:17:35.290Z"
   },
   {
    "duration": 11,
    "start_time": "2021-09-16T06:17:35.327Z"
   },
   {
    "duration": 15,
    "start_time": "2021-09-16T06:17:35.340Z"
   },
   {
    "duration": 24,
    "start_time": "2021-09-16T06:17:35.356Z"
   },
   {
    "duration": 17,
    "start_time": "2021-09-16T06:17:35.382Z"
   },
   {
    "duration": 37,
    "start_time": "2021-09-16T06:17:35.401Z"
   },
   {
    "duration": 26,
    "start_time": "2021-09-16T06:17:35.440Z"
   },
   {
    "duration": 25,
    "start_time": "2021-09-16T06:17:35.468Z"
   },
   {
    "duration": 25,
    "start_time": "2021-09-16T06:17:35.495Z"
   },
   {
    "duration": 24,
    "start_time": "2021-09-16T06:17:35.522Z"
   },
   {
    "duration": 11,
    "start_time": "2021-09-16T06:17:35.547Z"
   },
   {
    "duration": 45,
    "start_time": "2021-09-16T06:17:35.560Z"
   },
   {
    "duration": 9,
    "start_time": "2021-09-16T06:17:35.607Z"
   },
   {
    "duration": 13,
    "start_time": "2021-09-16T06:17:35.643Z"
   },
   {
    "duration": 13,
    "start_time": "2021-09-16T06:17:35.658Z"
   },
   {
    "duration": 26,
    "start_time": "2021-09-16T06:17:35.672Z"
   },
   {
    "duration": 42,
    "start_time": "2021-09-16T06:17:35.700Z"
   },
   {
    "duration": 27,
    "start_time": "2021-09-16T06:17:35.743Z"
   },
   {
    "duration": 26,
    "start_time": "2021-09-16T06:17:35.771Z"
   },
   {
    "duration": 29,
    "start_time": "2021-09-16T06:17:35.798Z"
   },
   {
    "duration": 24,
    "start_time": "2021-09-16T06:17:35.841Z"
   },
   {
    "duration": 4,
    "start_time": "2021-09-16T06:17:35.867Z"
   },
   {
    "duration": 48,
    "start_time": "2021-09-16T06:17:35.873Z"
   },
   {
    "duration": 4,
    "start_time": "2021-09-16T07:03:01.087Z"
   },
   {
    "duration": 88,
    "start_time": "2021-09-16T07:03:01.944Z"
   },
   {
    "duration": 3,
    "start_time": "2021-09-16T07:03:29.741Z"
   },
   {
    "duration": 3,
    "start_time": "2021-09-16T07:04:42.332Z"
   },
   {
    "duration": 1885,
    "start_time": "2021-09-16T07:04:42.884Z"
   },
   {
    "duration": 3,
    "start_time": "2021-09-16T07:07:08.267Z"
   },
   {
    "duration": 2760,
    "start_time": "2021-09-16T07:07:08.884Z"
   },
   {
    "duration": 2096,
    "start_time": "2021-09-16T07:07:30.291Z"
   },
   {
    "duration": 1591,
    "start_time": "2021-09-16T07:08:00.970Z"
   },
   {
    "duration": 688,
    "start_time": "2021-09-16T07:08:15.780Z"
   },
   {
    "duration": 386,
    "start_time": "2021-09-16T07:08:16.470Z"
   },
   {
    "duration": 22,
    "start_time": "2021-09-16T07:08:16.858Z"
   },
   {
    "duration": 7,
    "start_time": "2021-09-16T07:08:16.882Z"
   },
   {
    "duration": 8,
    "start_time": "2021-09-16T07:08:16.891Z"
   },
   {
    "duration": 13,
    "start_time": "2021-09-16T07:08:16.901Z"
   },
   {
    "duration": 31,
    "start_time": "2021-09-16T07:08:16.916Z"
   },
   {
    "duration": 8,
    "start_time": "2021-09-16T07:08:16.952Z"
   },
   {
    "duration": 40,
    "start_time": "2021-09-16T07:08:16.963Z"
   },
   {
    "duration": 43,
    "start_time": "2021-09-16T07:08:17.006Z"
   },
   {
    "duration": 12,
    "start_time": "2021-09-16T07:08:17.051Z"
   },
   {
    "duration": 15,
    "start_time": "2021-09-16T07:08:17.065Z"
   },
   {
    "duration": 14,
    "start_time": "2021-09-16T07:08:17.082Z"
   },
   {
    "duration": 62,
    "start_time": "2021-09-16T07:08:17.098Z"
   },
   {
    "duration": 10,
    "start_time": "2021-09-16T07:08:17.162Z"
   },
   {
    "duration": 24,
    "start_time": "2021-09-16T07:08:17.174Z"
   },
   {
    "duration": 60,
    "start_time": "2021-09-16T07:08:17.199Z"
   },
   {
    "duration": 6,
    "start_time": "2021-09-16T07:08:17.261Z"
   },
   {
    "duration": 5,
    "start_time": "2021-09-16T07:08:17.269Z"
   },
   {
    "duration": 75,
    "start_time": "2021-09-16T07:08:17.276Z"
   },
   {
    "duration": 9,
    "start_time": "2021-09-16T07:08:17.353Z"
   },
   {
    "duration": 12,
    "start_time": "2021-09-16T07:08:17.364Z"
   },
   {
    "duration": 11,
    "start_time": "2021-09-16T07:08:17.379Z"
   },
   {
    "duration": 63,
    "start_time": "2021-09-16T07:08:17.393Z"
   },
   {
    "duration": 16,
    "start_time": "2021-09-16T07:08:17.458Z"
   },
   {
    "duration": 22,
    "start_time": "2021-09-16T07:08:17.476Z"
   },
   {
    "duration": 60,
    "start_time": "2021-09-16T07:08:17.501Z"
   },
   {
    "duration": 26,
    "start_time": "2021-09-16T07:08:17.563Z"
   },
   {
    "duration": 52,
    "start_time": "2021-09-16T07:08:17.592Z"
   },
   {
    "duration": 3,
    "start_time": "2021-09-16T07:08:17.646Z"
   },
   {
    "duration": 57,
    "start_time": "2021-09-16T07:08:17.651Z"
   },
   {
    "duration": 3,
    "start_time": "2021-09-16T07:08:17.710Z"
   },
   {
    "duration": 1619,
    "start_time": "2021-09-16T07:08:17.714Z"
   },
   {
    "duration": 601,
    "start_time": "2021-09-16T07:12:35.824Z"
   },
   {
    "duration": 287,
    "start_time": "2021-09-16T07:12:36.427Z"
   },
   {
    "duration": 18,
    "start_time": "2021-09-16T07:12:36.715Z"
   },
   {
    "duration": 11,
    "start_time": "2021-09-16T07:12:36.735Z"
   },
   {
    "duration": 7,
    "start_time": "2021-09-16T07:12:36.748Z"
   },
   {
    "duration": 11,
    "start_time": "2021-09-16T07:12:36.757Z"
   },
   {
    "duration": 9,
    "start_time": "2021-09-16T07:12:36.770Z"
   },
   {
    "duration": 6,
    "start_time": "2021-09-16T07:12:36.781Z"
   },
   {
    "duration": 27,
    "start_time": "2021-09-16T07:12:36.789Z"
   },
   {
    "duration": 29,
    "start_time": "2021-09-16T07:12:36.818Z"
   },
   {
    "duration": 9,
    "start_time": "2021-09-16T07:12:36.849Z"
   },
   {
    "duration": 11,
    "start_time": "2021-09-16T07:12:36.860Z"
   },
   {
    "duration": 9,
    "start_time": "2021-09-16T07:12:36.873Z"
   },
   {
    "duration": 17,
    "start_time": "2021-09-16T07:12:36.884Z"
   },
   {
    "duration": 46,
    "start_time": "2021-09-16T07:12:36.902Z"
   },
   {
    "duration": 26,
    "start_time": "2021-09-16T07:12:36.949Z"
   },
   {
    "duration": 23,
    "start_time": "2021-09-16T07:12:36.976Z"
   },
   {
    "duration": 5,
    "start_time": "2021-09-16T07:12:37.001Z"
   },
   {
    "duration": 5,
    "start_time": "2021-09-16T07:12:37.007Z"
   },
   {
    "duration": 60,
    "start_time": "2021-09-16T07:12:37.014Z"
   },
   {
    "duration": 7,
    "start_time": "2021-09-16T07:12:37.076Z"
   },
   {
    "duration": 15,
    "start_time": "2021-09-16T07:12:37.084Z"
   },
   {
    "duration": 8,
    "start_time": "2021-09-16T07:12:37.102Z"
   },
   {
    "duration": 49,
    "start_time": "2021-09-16T07:12:37.111Z"
   },
   {
    "duration": 13,
    "start_time": "2021-09-16T07:12:37.162Z"
   },
   {
    "duration": 24,
    "start_time": "2021-09-16T07:12:37.177Z"
   },
   {
    "duration": 47,
    "start_time": "2021-09-16T07:12:37.202Z"
   },
   {
    "duration": 22,
    "start_time": "2021-09-16T07:12:37.251Z"
   },
   {
    "duration": 20,
    "start_time": "2021-09-16T07:12:37.274Z"
   },
   {
    "duration": 3,
    "start_time": "2021-09-16T07:12:37.295Z"
   },
   {
    "duration": 60,
    "start_time": "2021-09-16T07:12:37.300Z"
   },
   {
    "duration": 3,
    "start_time": "2021-09-16T07:12:37.361Z"
   },
   {
    "duration": 1612,
    "start_time": "2021-09-16T07:12:37.365Z"
   },
   {
    "duration": 3,
    "start_time": "2021-09-16T07:14:17.915Z"
   },
   {
    "duration": 1616,
    "start_time": "2021-09-16T07:14:18.771Z"
   },
   {
    "duration": 574,
    "start_time": "2021-09-16T07:22:40.771Z"
   },
   {
    "duration": 302,
    "start_time": "2021-09-16T07:22:41.347Z"
   },
   {
    "duration": 19,
    "start_time": "2021-09-16T07:22:41.651Z"
   },
   {
    "duration": 9,
    "start_time": "2021-09-16T07:22:41.671Z"
   },
   {
    "duration": 8,
    "start_time": "2021-09-16T07:22:41.681Z"
   },
   {
    "duration": 12,
    "start_time": "2021-09-16T07:22:41.690Z"
   },
   {
    "duration": 9,
    "start_time": "2021-09-16T07:22:41.703Z"
   },
   {
    "duration": 5,
    "start_time": "2021-09-16T07:22:41.714Z"
   },
   {
    "duration": 23,
    "start_time": "2021-09-16T07:22:41.740Z"
   },
   {
    "duration": 11,
    "start_time": "2021-09-16T07:22:41.764Z"
   },
   {
    "duration": 8,
    "start_time": "2021-09-16T07:22:41.776Z"
   },
   {
    "duration": 11,
    "start_time": "2021-09-16T07:22:41.785Z"
   },
   {
    "duration": 8,
    "start_time": "2021-09-16T07:22:41.798Z"
   },
   {
    "duration": 49,
    "start_time": "2021-09-16T07:22:41.808Z"
   },
   {
    "duration": 9,
    "start_time": "2021-09-16T07:22:41.859Z"
   },
   {
    "duration": 18,
    "start_time": "2021-09-16T07:22:41.870Z"
   },
   {
    "duration": 22,
    "start_time": "2021-09-16T07:22:41.890Z"
   },
   {
    "duration": 30,
    "start_time": "2021-09-16T07:22:41.913Z"
   },
   {
    "duration": 3,
    "start_time": "2021-09-16T07:22:41.945Z"
   },
   {
    "duration": 35,
    "start_time": "2021-09-16T07:22:41.950Z"
   },
   {
    "duration": 7,
    "start_time": "2021-09-16T07:22:41.987Z"
   },
   {
    "duration": 14,
    "start_time": "2021-09-16T07:22:41.995Z"
   },
   {
    "duration": 8,
    "start_time": "2021-09-16T07:22:42.042Z"
   },
   {
    "duration": 25,
    "start_time": "2021-09-16T07:22:42.052Z"
   },
   {
    "duration": 13,
    "start_time": "2021-09-16T07:22:42.078Z"
   },
   {
    "duration": 21,
    "start_time": "2021-09-16T07:22:42.093Z"
   },
   {
    "duration": 51,
    "start_time": "2021-09-16T07:22:42.115Z"
   },
   {
    "duration": 22,
    "start_time": "2021-09-16T07:22:42.167Z"
   },
   {
    "duration": 22,
    "start_time": "2021-09-16T07:22:42.191Z"
   },
   {
    "duration": 27,
    "start_time": "2021-09-16T07:22:42.215Z"
   },
   {
    "duration": 39,
    "start_time": "2021-09-16T07:22:42.244Z"
   },
   {
    "duration": 4,
    "start_time": "2021-09-16T07:22:42.285Z"
   },
   {
    "duration": 1614,
    "start_time": "2021-09-16T07:22:42.291Z"
   },
   {
    "duration": 4,
    "start_time": "2021-09-16T07:24:31.446Z"
   },
   {
    "duration": 1349,
    "start_time": "2021-09-16T07:24:32.304Z"
   },
   {
    "duration": 4,
    "start_time": "2021-09-16T07:26:53.831Z"
   },
   {
    "duration": 1200,
    "start_time": "2021-09-16T07:26:54.275Z"
   },
   {
    "duration": 4,
    "start_time": "2021-09-16T07:29:36.085Z"
   },
   {
    "duration": 1247,
    "start_time": "2021-09-16T07:29:36.736Z"
   },
   {
    "duration": 3,
    "start_time": "2021-09-16T07:29:45.637Z"
   },
   {
    "duration": 319,
    "start_time": "2021-09-16T07:29:46.383Z"
   },
   {
    "duration": 5,
    "start_time": "2021-09-16T07:30:20.365Z"
   },
   {
    "duration": 2508,
    "start_time": "2021-09-16T07:30:20.797Z"
   },
   {
    "duration": 4,
    "start_time": "2021-09-16T07:33:00.420Z"
   },
   {
    "duration": 1854,
    "start_time": "2021-09-16T07:33:01.134Z"
   },
   {
    "duration": 4,
    "start_time": "2021-09-16T07:33:11.739Z"
   },
   {
    "duration": 2142,
    "start_time": "2021-09-16T07:33:12.389Z"
   },
   {
    "duration": 3,
    "start_time": "2021-09-16T07:35:21.290Z"
   },
   {
    "duration": 2085,
    "start_time": "2021-09-16T07:35:21.798Z"
   },
   {
    "duration": 3,
    "start_time": "2021-09-16T07:37:03.234Z"
   },
   {
    "duration": 341,
    "start_time": "2021-09-16T07:37:04.302Z"
   },
   {
    "duration": 3,
    "start_time": "2021-09-16T08:11:59.208Z"
   },
   {
    "duration": 875,
    "start_time": "2021-09-16T08:11:59.760Z"
   },
   {
    "duration": 3,
    "start_time": "2021-09-16T08:12:09.927Z"
   },
   {
    "duration": 370,
    "start_time": "2021-09-16T08:12:10.416Z"
   },
   {
    "duration": 3,
    "start_time": "2021-09-16T08:12:48.328Z"
   },
   {
    "duration": 1274,
    "start_time": "2021-09-16T08:12:49.047Z"
   },
   {
    "duration": 3,
    "start_time": "2021-09-16T08:27:00.553Z"
   },
   {
    "duration": 343,
    "start_time": "2021-09-16T08:27:01.317Z"
   },
   {
    "duration": 563,
    "start_time": "2021-09-16T08:27:13.778Z"
   },
   {
    "duration": 301,
    "start_time": "2021-09-16T08:27:14.342Z"
   },
   {
    "duration": 18,
    "start_time": "2021-09-16T08:27:14.645Z"
   },
   {
    "duration": 26,
    "start_time": "2021-09-16T08:27:14.665Z"
   },
   {
    "duration": 34,
    "start_time": "2021-09-16T08:27:14.693Z"
   },
   {
    "duration": 28,
    "start_time": "2021-09-16T08:27:14.729Z"
   },
   {
    "duration": 35,
    "start_time": "2021-09-16T08:27:14.759Z"
   },
   {
    "duration": 27,
    "start_time": "2021-09-16T08:27:14.797Z"
   },
   {
    "duration": 40,
    "start_time": "2021-09-16T08:27:14.826Z"
   },
   {
    "duration": 14,
    "start_time": "2021-09-16T08:27:14.868Z"
   },
   {
    "duration": 20,
    "start_time": "2021-09-16T08:27:14.884Z"
   },
   {
    "duration": 25,
    "start_time": "2021-09-16T08:27:14.906Z"
   },
   {
    "duration": 20,
    "start_time": "2021-09-16T08:27:14.932Z"
   },
   {
    "duration": 42,
    "start_time": "2021-09-16T08:27:14.954Z"
   },
   {
    "duration": 25,
    "start_time": "2021-09-16T08:27:14.998Z"
   },
   {
    "duration": 37,
    "start_time": "2021-09-16T08:27:15.025Z"
   },
   {
    "duration": 27,
    "start_time": "2021-09-16T08:27:15.064Z"
   },
   {
    "duration": 24,
    "start_time": "2021-09-16T08:27:15.092Z"
   },
   {
    "duration": 29,
    "start_time": "2021-09-16T08:27:15.117Z"
   },
   {
    "duration": 57,
    "start_time": "2021-09-16T08:27:15.148Z"
   },
   {
    "duration": 21,
    "start_time": "2021-09-16T08:27:15.207Z"
   },
   {
    "duration": 37,
    "start_time": "2021-09-16T08:27:15.229Z"
   },
   {
    "duration": 28,
    "start_time": "2021-09-16T08:27:15.269Z"
   },
   {
    "duration": 50,
    "start_time": "2021-09-16T08:27:15.299Z"
   },
   {
    "duration": 15,
    "start_time": "2021-09-16T08:27:15.351Z"
   },
   {
    "duration": 46,
    "start_time": "2021-09-16T08:27:15.367Z"
   },
   {
    "duration": 26,
    "start_time": "2021-09-16T08:27:15.414Z"
   },
   {
    "duration": 37,
    "start_time": "2021-09-16T08:27:15.441Z"
   },
   {
    "duration": 32,
    "start_time": "2021-09-16T08:27:15.479Z"
   },
   {
    "duration": 3,
    "start_time": "2021-09-16T08:27:15.513Z"
   },
   {
    "duration": 60,
    "start_time": "2021-09-16T08:27:15.517Z"
   },
   {
    "duration": 18,
    "start_time": "2021-09-16T08:27:15.579Z"
   },
   {
    "duration": 379,
    "start_time": "2021-09-16T08:27:15.599Z"
   },
   {
    "duration": 3,
    "start_time": "2021-09-16T08:32:42.791Z"
   },
   {
    "duration": 429,
    "start_time": "2021-09-16T08:32:43.260Z"
   },
   {
    "duration": 319,
    "start_time": "2021-09-16T08:33:40.293Z"
   },
   {
    "duration": 1675,
    "start_time": "2021-09-16T10:30:00.889Z"
   },
   {
    "duration": 3,
    "start_time": "2021-09-16T11:00:24.698Z"
   },
   {
    "duration": 1989,
    "start_time": "2021-09-16T11:00:25.746Z"
   },
   {
    "duration": 3,
    "start_time": "2021-09-16T11:00:37.290Z"
   },
   {
    "duration": 2323,
    "start_time": "2021-09-16T11:00:37.962Z"
   },
   {
    "duration": 4,
    "start_time": "2021-09-16T11:01:12.777Z"
   },
   {
    "duration": 1576,
    "start_time": "2021-09-16T11:01:13.258Z"
   },
   {
    "duration": 4,
    "start_time": "2021-09-16T11:01:35.216Z"
   },
   {
    "duration": 3129,
    "start_time": "2021-09-16T11:01:36.809Z"
   },
   {
    "duration": 111,
    "start_time": "2021-09-16T11:01:55.804Z"
   },
   {
    "duration": 173,
    "start_time": "2021-09-16T11:02:06.785Z"
   },
   {
    "duration": 2713,
    "start_time": "2021-09-16T11:02:07.445Z"
   },
   {
    "duration": 4,
    "start_time": "2021-09-16T11:04:20.280Z"
   },
   {
    "duration": 1729,
    "start_time": "2021-09-16T11:04:21.059Z"
   },
   {
    "duration": 3,
    "start_time": "2021-09-16T11:04:31.304Z"
   },
   {
    "duration": 28,
    "start_time": "2021-09-16T11:04:31.933Z"
   },
   {
    "duration": 26,
    "start_time": "2021-09-16T11:04:52.815Z"
   },
   {
    "duration": 10,
    "start_time": "2021-09-16T11:05:02.217Z"
   },
   {
    "duration": 13,
    "start_time": "2021-09-16T12:21:12.353Z"
   },
   {
    "duration": 431,
    "start_time": "2021-09-16T12:27:41.634Z"
   },
   {
    "duration": 869,
    "start_time": "2021-09-16T12:27:59.713Z"
   },
   {
    "duration": 169,
    "start_time": "2021-09-16T12:28:33.763Z"
   },
   {
    "duration": 171,
    "start_time": "2021-09-16T12:32:22.577Z"
   },
   {
    "duration": 178,
    "start_time": "2021-09-16T12:32:46.768Z"
   },
   {
    "duration": 172,
    "start_time": "2021-09-16T12:47:02.754Z"
   },
   {
    "duration": 297,
    "start_time": "2021-09-16T12:47:12.817Z"
   },
   {
    "duration": 287,
    "start_time": "2021-09-16T12:47:27.304Z"
   },
   {
    "duration": 122,
    "start_time": "2021-09-16T12:48:15.877Z"
   },
   {
    "duration": 15,
    "start_time": "2021-09-16T12:48:27.855Z"
   },
   {
    "duration": 8,
    "start_time": "2021-09-16T12:48:38.864Z"
   },
   {
    "duration": 11,
    "start_time": "2021-09-16T12:48:49.751Z"
   },
   {
    "duration": 108,
    "start_time": "2021-09-16T12:49:56.111Z"
   },
   {
    "duration": 106,
    "start_time": "2021-09-16T12:50:07.624Z"
   },
   {
    "duration": 102,
    "start_time": "2021-09-16T12:50:47.750Z"
   },
   {
    "duration": 4,
    "start_time": "2021-09-16T12:51:01.854Z"
   },
   {
    "duration": 773,
    "start_time": "2021-09-16T12:51:19.654Z"
   },
   {
    "duration": 167,
    "start_time": "2021-09-16T12:52:33.094Z"
   },
   {
    "duration": 172,
    "start_time": "2021-09-16T12:52:53.286Z"
   },
   {
    "duration": 182,
    "start_time": "2021-09-16T12:53:12.933Z"
   },
   {
    "duration": 220,
    "start_time": "2021-09-16T12:54:03.623Z"
   },
   {
    "duration": 204,
    "start_time": "2021-09-16T12:54:29.318Z"
   },
   {
    "duration": 948,
    "start_time": "2021-09-16T13:10:12.108Z"
   },
   {
    "duration": 104,
    "start_time": "2021-09-16T13:14:42.668Z"
   },
   {
    "duration": 16,
    "start_time": "2021-09-16T13:15:02.778Z"
   },
   {
    "duration": 17,
    "start_time": "2021-09-16T13:16:02.465Z"
   },
   {
    "duration": 12,
    "start_time": "2021-09-16T18:07:31.792Z"
   },
   {
    "duration": 13,
    "start_time": "2021-09-16T18:08:07.148Z"
   },
   {
    "duration": 11,
    "start_time": "2021-09-16T18:11:03.294Z"
   },
   {
    "duration": 15,
    "start_time": "2021-09-16T18:11:09.480Z"
   },
   {
    "duration": 17,
    "start_time": "2021-09-16T18:11:36.695Z"
   },
   {
    "duration": 32,
    "start_time": "2021-09-16T18:19:51.592Z"
   },
   {
    "duration": 83,
    "start_time": "2021-09-16T18:34:21.635Z"
   },
   {
    "duration": 87,
    "start_time": "2021-09-16T18:37:04.522Z"
   },
   {
    "duration": 921,
    "start_time": "2021-09-16T18:38:01.014Z"
   },
   {
    "duration": 267,
    "start_time": "2021-09-16T18:38:36.513Z"
   },
   {
    "duration": 91,
    "start_time": "2021-09-16T18:39:00.555Z"
   },
   {
    "duration": 90,
    "start_time": "2021-09-16T18:39:23.802Z"
   },
   {
    "duration": 87,
    "start_time": "2021-09-16T18:39:36.979Z"
   },
   {
    "duration": 96,
    "start_time": "2021-09-16T18:39:51.127Z"
   },
   {
    "duration": 87,
    "start_time": "2021-09-16T18:39:58.388Z"
   },
   {
    "duration": 35,
    "start_time": "2021-09-16T18:40:08.935Z"
   },
   {
    "duration": 20,
    "start_time": "2021-09-16T18:40:19.850Z"
   },
   {
    "duration": 21,
    "start_time": "2021-09-16T18:40:45.442Z"
   },
   {
    "duration": 21,
    "start_time": "2021-09-16T18:40:57.989Z"
   },
   {
    "duration": 19,
    "start_time": "2021-09-16T18:41:05.334Z"
   },
   {
    "duration": 20,
    "start_time": "2021-09-16T18:42:30.265Z"
   },
   {
    "duration": 20,
    "start_time": "2021-09-16T18:42:38.615Z"
   },
   {
    "duration": 23,
    "start_time": "2021-09-16T18:44:43.860Z"
   },
   {
    "duration": 14,
    "start_time": "2021-09-17T05:22:19.851Z"
   },
   {
    "duration": 12,
    "start_time": "2021-09-17T05:22:46.228Z"
   },
   {
    "duration": 92,
    "start_time": "2021-09-17T05:39:31.180Z"
   },
   {
    "duration": 259,
    "start_time": "2021-09-17T05:39:44.779Z"
   },
   {
    "duration": 20,
    "start_time": "2021-09-17T05:40:02.367Z"
   },
   {
    "duration": 255,
    "start_time": "2021-09-17T05:40:31.052Z"
   },
   {
    "duration": 291,
    "start_time": "2021-09-17T05:40:47.859Z"
   },
   {
    "duration": 13,
    "start_time": "2021-09-17T05:40:55.507Z"
   },
   {
    "duration": 12,
    "start_time": "2021-09-17T05:45:32.873Z"
   },
   {
    "duration": 13,
    "start_time": "2021-09-17T05:45:40.001Z"
   },
   {
    "duration": 12,
    "start_time": "2021-09-17T05:45:46.097Z"
   },
   {
    "duration": 17,
    "start_time": "2021-09-17T05:45:51.441Z"
   },
   {
    "duration": 14,
    "start_time": "2021-09-17T05:46:42.000Z"
   },
   {
    "duration": 12,
    "start_time": "2021-09-17T05:46:48.288Z"
   },
   {
    "duration": 19,
    "start_time": "2021-09-17T05:46:56.698Z"
   },
   {
    "duration": 23,
    "start_time": "2021-09-17T05:47:07.153Z"
   },
   {
    "duration": 23,
    "start_time": "2021-09-17T06:22:44.853Z"
   },
   {
    "duration": 317,
    "start_time": "2021-09-17T06:25:17.732Z"
   },
   {
    "duration": 309,
    "start_time": "2021-09-17T06:25:32.397Z"
   },
   {
    "duration": 144,
    "start_time": "2021-09-17T06:26:42.076Z"
   },
   {
    "duration": 293,
    "start_time": "2021-09-17T06:26:48.796Z"
   },
   {
    "duration": 26,
    "start_time": "2021-09-17T06:27:22.812Z"
   },
   {
    "duration": 23,
    "start_time": "2021-09-17T06:27:47.514Z"
   },
   {
    "duration": 18,
    "start_time": "2021-09-17T06:46:43.364Z"
   },
   {
    "duration": 20,
    "start_time": "2021-09-17T06:47:04.802Z"
   },
   {
    "duration": 20,
    "start_time": "2021-09-17T06:48:47.113Z"
   },
   {
    "duration": 24,
    "start_time": "2021-09-17T06:49:47.578Z"
   },
   {
    "duration": 269,
    "start_time": "2021-09-17T07:11:00.213Z"
   },
   {
    "duration": 20,
    "start_time": "2021-09-17T07:11:11.709Z"
   },
   {
    "duration": 257,
    "start_time": "2021-09-17T07:16:33.106Z"
   },
   {
    "duration": 254,
    "start_time": "2021-09-17T07:17:33.157Z"
   },
   {
    "duration": 13,
    "start_time": "2021-09-17T07:24:17.776Z"
   },
   {
    "duration": 794,
    "start_time": "2021-09-17T07:25:26.785Z"
   },
   {
    "duration": 27,
    "start_time": "2021-09-17T07:25:43.847Z"
   },
   {
    "duration": 270,
    "start_time": "2021-09-17T07:26:40.559Z"
   },
   {
    "duration": 283,
    "start_time": "2021-09-17T07:27:14.166Z"
   },
   {
    "duration": 325,
    "start_time": "2021-09-17T07:27:21.182Z"
   },
   {
    "duration": 21,
    "start_time": "2021-09-17T07:28:57.356Z"
   },
   {
    "duration": 23,
    "start_time": "2021-09-17T07:29:06.047Z"
   },
   {
    "duration": 14,
    "start_time": "2021-09-17T07:30:13.292Z"
   },
   {
    "duration": 14,
    "start_time": "2021-09-17T07:30:18.597Z"
   },
   {
    "duration": 14,
    "start_time": "2021-09-17T07:30:28.622Z"
   },
   {
    "duration": 85,
    "start_time": "2021-09-17T07:31:13.716Z"
   },
   {
    "duration": 20,
    "start_time": "2021-09-17T07:31:39.565Z"
   },
   {
    "duration": 20,
    "start_time": "2021-09-17T07:31:45.260Z"
   },
   {
    "duration": 18,
    "start_time": "2021-09-17T07:37:20.199Z"
   },
   {
    "duration": 18,
    "start_time": "2021-09-17T07:38:12.386Z"
   },
   {
    "duration": 29,
    "start_time": "2021-09-17T07:38:19.768Z"
   },
   {
    "duration": 20,
    "start_time": "2021-09-17T07:38:48.081Z"
   },
   {
    "duration": 22,
    "start_time": "2021-09-17T07:39:45.878Z"
   },
   {
    "duration": 20,
    "start_time": "2021-09-17T07:41:07.806Z"
   },
   {
    "duration": 1073,
    "start_time": "2021-09-17T07:41:50.871Z"
   },
   {
    "duration": 21,
    "start_time": "2021-09-17T07:42:14.840Z"
   },
   {
    "duration": 8141,
    "start_time": "2021-09-17T07:58:39.214Z"
   },
   {
    "duration": 347,
    "start_time": "2021-09-17T07:59:15.038Z"
   },
   {
    "duration": 346,
    "start_time": "2021-09-17T07:59:20.109Z"
   },
   {
    "duration": 301,
    "start_time": "2021-09-17T08:03:12.331Z"
   },
   {
    "duration": 7629,
    "start_time": "2021-09-17T08:04:01.348Z"
   },
   {
    "duration": 5035,
    "start_time": "2021-09-17T08:05:25.956Z"
   },
   {
    "duration": 18,
    "start_time": "2021-09-17T08:06:37.891Z"
   },
   {
    "duration": 24,
    "start_time": "2021-09-17T08:06:46.522Z"
   },
   {
    "duration": 294,
    "start_time": "2021-09-17T08:10:16.368Z"
   },
   {
    "duration": 26,
    "start_time": "2021-09-17T08:10:43.112Z"
   },
   {
    "duration": 22,
    "start_time": "2021-09-17T08:14:01.709Z"
   },
   {
    "duration": 20,
    "start_time": "2021-09-17T08:16:54.542Z"
   },
   {
    "duration": 241,
    "start_time": "2021-09-17T08:28:45.232Z"
   },
   {
    "duration": 2,
    "start_time": "2021-09-17T08:31:41.957Z"
   },
   {
    "duration": 342,
    "start_time": "2021-09-17T08:31:51.774Z"
   },
   {
    "duration": 453,
    "start_time": "2021-09-17T08:32:12.532Z"
   },
   {
    "duration": 544,
    "start_time": "2021-09-17T08:32:48.525Z"
   },
   {
    "duration": 510,
    "start_time": "2021-09-17T08:33:36.940Z"
   },
   {
    "duration": 364,
    "start_time": "2021-09-17T08:37:45.137Z"
   },
   {
    "duration": 382,
    "start_time": "2021-09-17T08:42:31.809Z"
   },
   {
    "duration": 529,
    "start_time": "2021-09-17T08:45:14.269Z"
   },
   {
    "duration": 270,
    "start_time": "2021-09-17T08:45:27.981Z"
   },
   {
    "duration": 343,
    "start_time": "2021-09-17T08:46:03.765Z"
   },
   {
    "duration": 258,
    "start_time": "2021-09-17T08:46:15.740Z"
   },
   {
    "duration": 273,
    "start_time": "2021-09-17T08:46:26.501Z"
   },
   {
    "duration": 632,
    "start_time": "2021-09-19T13:20:16.689Z"
   },
   {
    "duration": 250,
    "start_time": "2021-09-19T13:20:17.322Z"
   },
   {
    "duration": 15,
    "start_time": "2021-09-19T13:20:17.574Z"
   },
   {
    "duration": 8,
    "start_time": "2021-09-19T13:20:17.592Z"
   },
   {
    "duration": 11,
    "start_time": "2021-09-19T13:20:17.602Z"
   },
   {
    "duration": 16,
    "start_time": "2021-09-19T13:20:17.615Z"
   },
   {
    "duration": 12,
    "start_time": "2021-09-19T13:20:17.633Z"
   },
   {
    "duration": 8,
    "start_time": "2021-09-19T13:20:17.648Z"
   },
   {
    "duration": 27,
    "start_time": "2021-09-19T13:20:17.658Z"
   },
   {
    "duration": 13,
    "start_time": "2021-09-19T13:20:17.687Z"
   },
   {
    "duration": 43,
    "start_time": "2021-09-19T13:20:17.701Z"
   },
   {
    "duration": 10,
    "start_time": "2021-09-19T13:20:17.746Z"
   },
   {
    "duration": 9,
    "start_time": "2021-09-19T13:20:17.757Z"
   },
   {
    "duration": 18,
    "start_time": "2021-09-19T13:20:17.767Z"
   },
   {
    "duration": 11,
    "start_time": "2021-09-19T13:20:17.787Z"
   },
   {
    "duration": 61,
    "start_time": "2021-09-19T13:20:17.800Z"
   },
   {
    "duration": 27,
    "start_time": "2021-09-19T13:20:17.863Z"
   },
   {
    "duration": 6,
    "start_time": "2021-09-19T13:20:17.891Z"
   },
   {
    "duration": 5,
    "start_time": "2021-09-19T13:20:17.898Z"
   },
   {
    "duration": 75,
    "start_time": "2021-09-19T13:20:17.904Z"
   },
   {
    "duration": 9,
    "start_time": "2021-09-19T13:20:17.981Z"
   },
   {
    "duration": 14,
    "start_time": "2021-09-19T13:20:17.991Z"
   },
   {
    "duration": 10,
    "start_time": "2021-09-19T13:20:18.045Z"
   },
   {
    "duration": 27,
    "start_time": "2021-09-19T13:20:18.057Z"
   },
   {
    "duration": 952,
    "start_time": "2021-09-19T13:20:18.086Z"
   },
   {
    "duration": 12,
    "start_time": "2021-09-19T13:20:19.040Z"
   },
   {
    "duration": 3,
    "start_time": "2021-09-19T13:20:19.053Z"
   },
   {
    "duration": 11,
    "start_time": "2021-09-19T13:20:19.057Z"
   },
   {
    "duration": 5,
    "start_time": "2021-09-19T13:20:19.070Z"
   },
   {
    "duration": 28,
    "start_time": "2021-09-19T13:20:19.076Z"
   },
   {
    "duration": 3,
    "start_time": "2021-09-19T13:20:19.106Z"
   },
   {
    "duration": 62,
    "start_time": "2021-09-19T13:20:19.111Z"
   },
   {
    "duration": 23,
    "start_time": "2021-09-19T13:20:19.175Z"
   },
   {
    "duration": 45,
    "start_time": "2021-09-19T13:20:19.199Z"
   },
   {
    "duration": 536,
    "start_time": "2021-09-19T13:20:19.246Z"
   },
   {
    "duration": 22,
    "start_time": "2021-09-19T13:20:19.784Z"
   },
   {
    "duration": 40,
    "start_time": "2021-09-19T13:20:19.808Z"
   },
   {
    "duration": 429,
    "start_time": "2021-09-19T13:20:19.850Z"
   },
   {
    "duration": 92,
    "start_time": "2021-09-20T11:24:19.377Z"
   },
   {
    "duration": 22,
    "start_time": "2021-09-20T11:24:30.684Z"
   },
   {
    "duration": 24,
    "start_time": "2021-09-20T11:41:35.912Z"
   },
   {
    "duration": 349,
    "start_time": "2021-09-20T12:03:12.324Z"
   },
   {
    "duration": 286,
    "start_time": "2021-09-20T12:03:21.426Z"
   },
   {
    "duration": 148,
    "start_time": "2021-09-20T12:03:58.136Z"
   },
   {
    "duration": 28,
    "start_time": "2021-09-20T12:04:05.238Z"
   },
   {
    "duration": 25,
    "start_time": "2021-09-20T12:05:06.366Z"
   },
   {
    "duration": 28,
    "start_time": "2021-09-20T12:49:31.716Z"
   },
   {
    "duration": 8,
    "start_time": "2021-09-20T12:53:51.244Z"
   },
   {
    "duration": 12,
    "start_time": "2021-09-20T12:53:56.475Z"
   },
   {
    "duration": 81,
    "start_time": "2021-09-20T13:01:04.997Z"
   },
   {
    "duration": 13,
    "start_time": "2021-09-20T13:01:20.767Z"
   },
   {
    "duration": 10,
    "start_time": "2021-09-20T13:01:39.424Z"
   },
   {
    "duration": 16,
    "start_time": "2021-09-20T13:01:45.327Z"
   },
   {
    "duration": 16,
    "start_time": "2021-09-20T13:01:51.831Z"
   },
   {
    "duration": 17,
    "start_time": "2021-09-20T13:02:50.961Z"
   },
   {
    "duration": 15,
    "start_time": "2021-09-20T13:03:05.238Z"
   },
   {
    "duration": 494,
    "start_time": "2021-09-20T18:20:31.425Z"
   },
   {
    "duration": 910,
    "start_time": "2021-09-20T18:20:51.298Z"
   },
   {
    "duration": 364,
    "start_time": "2021-09-20T18:20:52.210Z"
   },
   {
    "duration": 27,
    "start_time": "2021-09-20T18:20:52.577Z"
   },
   {
    "duration": 24,
    "start_time": "2021-09-20T18:20:52.607Z"
   },
   {
    "duration": 24,
    "start_time": "2021-09-20T18:20:52.633Z"
   },
   {
    "duration": 27,
    "start_time": "2021-09-20T18:20:52.660Z"
   },
   {
    "duration": 18,
    "start_time": "2021-09-20T18:20:52.690Z"
   },
   {
    "duration": 18,
    "start_time": "2021-09-20T18:20:52.713Z"
   },
   {
    "duration": 49,
    "start_time": "2021-09-20T18:20:52.734Z"
   },
   {
    "duration": 18,
    "start_time": "2021-09-20T18:20:52.786Z"
   },
   {
    "duration": 12,
    "start_time": "2021-09-20T18:20:52.807Z"
   },
   {
    "duration": 47,
    "start_time": "2021-09-20T18:20:52.822Z"
   },
   {
    "duration": 22,
    "start_time": "2021-09-20T18:20:52.873Z"
   },
   {
    "duration": 74,
    "start_time": "2021-09-20T18:20:52.899Z"
   },
   {
    "duration": 24,
    "start_time": "2021-09-20T18:20:52.976Z"
   },
   {
    "duration": 36,
    "start_time": "2021-09-20T18:20:53.003Z"
   },
   {
    "duration": 57,
    "start_time": "2021-09-20T18:20:53.042Z"
   },
   {
    "duration": 11,
    "start_time": "2021-09-20T18:20:53.103Z"
   },
   {
    "duration": 48,
    "start_time": "2021-09-20T18:20:53.116Z"
   },
   {
    "duration": 82,
    "start_time": "2021-09-20T18:20:53.167Z"
   },
   {
    "duration": 19,
    "start_time": "2021-09-20T18:20:53.252Z"
   },
   {
    "duration": 28,
    "start_time": "2021-09-20T18:20:53.274Z"
   },
   {
    "duration": 33,
    "start_time": "2021-09-20T18:20:53.307Z"
   },
   {
    "duration": 40,
    "start_time": "2021-09-20T18:20:53.362Z"
   },
   {
    "duration": 1945,
    "start_time": "2021-09-20T18:20:53.405Z"
   },
   {
    "duration": 22,
    "start_time": "2021-09-20T18:20:55.353Z"
   },
   {
    "duration": 3,
    "start_time": "2021-09-20T18:20:55.378Z"
   },
   {
    "duration": 7,
    "start_time": "2021-09-20T18:20:55.384Z"
   },
   {
    "duration": 12,
    "start_time": "2021-09-20T18:20:55.394Z"
   },
   {
    "duration": 70,
    "start_time": "2021-09-20T18:20:55.409Z"
   },
   {
    "duration": 4,
    "start_time": "2021-09-20T18:20:55.482Z"
   },
   {
    "duration": 72,
    "start_time": "2021-09-20T18:20:55.489Z"
   },
   {
    "duration": 35,
    "start_time": "2021-09-20T18:20:55.563Z"
   },
   {
    "duration": 25,
    "start_time": "2021-09-20T18:20:55.600Z"
   },
   {
    "duration": 904,
    "start_time": "2021-09-20T18:20:55.628Z"
   },
   {
    "duration": 49,
    "start_time": "2021-09-20T18:20:56.535Z"
   },
   {
    "duration": 37,
    "start_time": "2021-09-20T18:20:56.586Z"
   },
   {
    "duration": 561,
    "start_time": "2021-09-20T18:20:56.626Z"
   },
   {
    "duration": 26,
    "start_time": "2021-09-20T18:20:57.190Z"
   },
   {
    "duration": 65,
    "start_time": "2021-09-20T18:20:57.218Z"
   },
   {
    "duration": 28,
    "start_time": "2021-09-20T18:53:55.163Z"
   },
   {
    "duration": 39,
    "start_time": "2021-09-20T18:57:22.044Z"
   },
   {
    "duration": 6,
    "start_time": "2021-09-20T19:00:35.999Z"
   },
   {
    "duration": 7,
    "start_time": "2021-09-20T19:00:42.750Z"
   },
   {
    "duration": 9,
    "start_time": "2021-09-20T19:00:51.199Z"
   },
   {
    "duration": 7,
    "start_time": "2021-09-20T19:01:00.777Z"
   },
   {
    "duration": 7,
    "start_time": "2021-09-20T19:01:11.596Z"
   },
   {
    "duration": 590,
    "start_time": "2021-09-20T19:02:37.328Z"
   },
   {
    "duration": 410,
    "start_time": "2021-09-20T19:03:11.084Z"
   },
   {
    "duration": 50,
    "start_time": "2021-09-20T19:04:26.853Z"
   },
   {
    "duration": 365,
    "start_time": "2021-09-20T19:05:05.761Z"
   },
   {
    "duration": 12,
    "start_time": "2021-09-20T19:06:40.890Z"
   },
   {
    "duration": 380,
    "start_time": "2021-09-20T19:07:01.863Z"
   },
   {
    "duration": 474,
    "start_time": "2021-09-20T19:08:18.671Z"
   },
   {
    "duration": 39,
    "start_time": "2021-09-20T19:12:40.714Z"
   },
   {
    "duration": 12,
    "start_time": "2021-09-20T19:12:46.780Z"
   },
   {
    "duration": 15,
    "start_time": "2021-09-20T19:12:58.477Z"
   },
   {
    "duration": 56,
    "start_time": "2021-09-20T19:13:50.802Z"
   },
   {
    "duration": 909,
    "start_time": "2021-09-20T19:14:32.912Z"
   },
   {
    "duration": 387,
    "start_time": "2021-09-20T19:14:33.823Z"
   },
   {
    "duration": 30,
    "start_time": "2021-09-20T19:14:34.213Z"
   },
   {
    "duration": 11,
    "start_time": "2021-09-20T19:14:34.245Z"
   },
   {
    "duration": 17,
    "start_time": "2021-09-20T19:14:34.258Z"
   },
   {
    "duration": 17,
    "start_time": "2021-09-20T19:14:34.278Z"
   },
   {
    "duration": 13,
    "start_time": "2021-09-20T19:14:34.298Z"
   },
   {
    "duration": 8,
    "start_time": "2021-09-20T19:14:34.316Z"
   },
   {
    "duration": 72,
    "start_time": "2021-09-20T19:14:34.328Z"
   },
   {
    "duration": 19,
    "start_time": "2021-09-20T19:14:34.403Z"
   },
   {
    "duration": 42,
    "start_time": "2021-09-20T19:14:34.424Z"
   },
   {
    "duration": 15,
    "start_time": "2021-09-20T19:14:34.469Z"
   },
   {
    "duration": 13,
    "start_time": "2021-09-20T19:14:34.487Z"
   },
   {
    "duration": 78,
    "start_time": "2021-09-20T19:14:34.502Z"
   },
   {
    "duration": 15,
    "start_time": "2021-09-20T19:14:34.582Z"
   },
   {
    "duration": 65,
    "start_time": "2021-09-20T19:14:34.600Z"
   },
   {
    "duration": 43,
    "start_time": "2021-09-20T19:14:34.667Z"
   },
   {
    "duration": 11,
    "start_time": "2021-09-20T19:14:34.713Z"
   },
   {
    "duration": 37,
    "start_time": "2021-09-20T19:14:34.727Z"
   },
   {
    "duration": 120,
    "start_time": "2021-09-20T19:14:34.767Z"
   },
   {
    "duration": 22,
    "start_time": "2021-09-20T19:14:34.890Z"
   },
   {
    "duration": 48,
    "start_time": "2021-09-20T19:14:34.916Z"
   },
   {
    "duration": 12,
    "start_time": "2021-09-20T19:14:34.969Z"
   },
   {
    "duration": 79,
    "start_time": "2021-09-20T19:14:34.984Z"
   },
   {
    "duration": 1942,
    "start_time": "2021-09-20T19:14:35.066Z"
   },
   {
    "duration": 15,
    "start_time": "2021-09-20T19:14:37.011Z"
   },
   {
    "duration": 4,
    "start_time": "2021-09-20T19:14:37.028Z"
   },
   {
    "duration": 3,
    "start_time": "2021-09-20T19:14:37.063Z"
   },
   {
    "duration": 8,
    "start_time": "2021-09-20T19:14:37.069Z"
   },
   {
    "duration": 54,
    "start_time": "2021-09-20T19:14:37.080Z"
   },
   {
    "duration": 26,
    "start_time": "2021-09-20T19:14:37.137Z"
   },
   {
    "duration": 72,
    "start_time": "2021-09-20T19:14:37.167Z"
   },
   {
    "duration": 61,
    "start_time": "2021-09-20T19:14:37.242Z"
   },
   {
    "duration": 28,
    "start_time": "2021-09-20T19:14:37.307Z"
   },
   {
    "duration": 1206,
    "start_time": "2021-09-20T19:14:37.338Z"
   },
   {
    "duration": 43,
    "start_time": "2021-09-20T19:14:38.547Z"
   },
   {
    "duration": 38,
    "start_time": "2021-09-20T19:14:38.592Z"
   },
   {
    "duration": 594,
    "start_time": "2021-09-20T19:14:38.633Z"
   },
   {
    "duration": 39,
    "start_time": "2021-09-20T19:14:39.229Z"
   },
   {
    "duration": 753,
    "start_time": "2021-09-20T19:14:39.270Z"
   },
   {
    "duration": -21887,
    "start_time": "2021-09-20T19:15:01.913Z"
   },
   {
    "duration": -21905,
    "start_time": "2021-09-20T19:15:01.933Z"
   },
   {
    "duration": 61,
    "start_time": "2021-09-20T19:14:52.218Z"
   },
   {
    "duration": 485,
    "start_time": "2021-09-20T19:15:30.590Z"
   },
   {
    "duration": 278,
    "start_time": "2021-09-21T05:28:20.113Z"
   },
   {
    "duration": 891,
    "start_time": "2021-09-21T05:28:28.017Z"
   },
   {
    "duration": 315,
    "start_time": "2021-09-21T05:28:28.910Z"
   },
   {
    "duration": 22,
    "start_time": "2021-09-21T05:28:29.228Z"
   },
   {
    "duration": 9,
    "start_time": "2021-09-21T05:28:29.252Z"
   },
   {
    "duration": 7,
    "start_time": "2021-09-21T05:28:29.263Z"
   },
   {
    "duration": 15,
    "start_time": "2021-09-21T05:28:29.272Z"
   },
   {
    "duration": 14,
    "start_time": "2021-09-21T05:28:29.289Z"
   },
   {
    "duration": 8,
    "start_time": "2021-09-21T05:28:29.306Z"
   },
   {
    "duration": 64,
    "start_time": "2021-09-21T05:28:29.316Z"
   },
   {
    "duration": 16,
    "start_time": "2021-09-21T05:28:29.383Z"
   },
   {
    "duration": 10,
    "start_time": "2021-09-21T05:28:29.401Z"
   },
   {
    "duration": 52,
    "start_time": "2021-09-21T05:28:29.413Z"
   },
   {
    "duration": 15,
    "start_time": "2021-09-21T05:28:29.467Z"
   },
   {
    "duration": 12,
    "start_time": "2021-09-21T05:28:29.484Z"
   },
   {
    "duration": 17,
    "start_time": "2021-09-21T05:28:29.497Z"
   },
   {
    "duration": 40,
    "start_time": "2021-09-21T05:28:29.516Z"
   },
   {
    "duration": 21,
    "start_time": "2021-09-21T05:28:29.557Z"
   },
   {
    "duration": 24,
    "start_time": "2021-09-21T05:28:29.580Z"
   },
   {
    "duration": 6,
    "start_time": "2021-09-21T05:28:29.606Z"
   },
   {
    "duration": 36,
    "start_time": "2021-09-21T05:28:29.613Z"
   },
   {
    "duration": 36,
    "start_time": "2021-09-21T05:28:29.651Z"
   },
   {
    "duration": 7,
    "start_time": "2021-09-21T05:28:29.689Z"
   },
   {
    "duration": 11,
    "start_time": "2021-09-21T05:28:29.700Z"
   },
   {
    "duration": 38,
    "start_time": "2021-09-21T05:28:29.713Z"
   },
   {
    "duration": 24,
    "start_time": "2021-09-21T05:28:29.753Z"
   },
   {
    "duration": 871,
    "start_time": "2021-09-21T05:28:29.779Z"
   },
   {
    "duration": 11,
    "start_time": "2021-09-21T05:28:30.651Z"
   },
   {
    "duration": 3,
    "start_time": "2021-09-21T05:28:30.664Z"
   },
   {
    "duration": 8,
    "start_time": "2021-09-21T05:28:30.668Z"
   },
   {
    "duration": 12,
    "start_time": "2021-09-21T05:28:30.677Z"
   },
   {
    "duration": 35,
    "start_time": "2021-09-21T05:28:30.690Z"
   },
   {
    "duration": 4,
    "start_time": "2021-09-21T05:28:30.726Z"
   },
   {
    "duration": 43,
    "start_time": "2021-09-21T05:28:30.731Z"
   },
   {
    "duration": 29,
    "start_time": "2021-09-21T05:28:30.776Z"
   },
   {
    "duration": 14,
    "start_time": "2021-09-21T05:28:30.807Z"
   },
   {
    "duration": 1858,
    "start_time": "2021-09-21T05:28:30.823Z"
   },
   {
    "duration": 21,
    "start_time": "2021-09-21T05:28:32.683Z"
   },
   {
    "duration": 24,
    "start_time": "2021-09-21T05:28:32.706Z"
   },
   {
    "duration": 301,
    "start_time": "2021-09-21T05:28:32.750Z"
   },
   {
    "duration": 18,
    "start_time": "2021-09-21T05:28:33.053Z"
   },
   {
    "duration": 328,
    "start_time": "2021-09-21T05:28:33.074Z"
   },
   {
    "duration": -125,
    "start_time": "2021-09-21T05:28:33.530Z"
   },
   {
    "duration": -138,
    "start_time": "2021-09-21T05:28:33.544Z"
   },
   {
    "duration": 8,
    "start_time": "2021-09-21T05:29:33.803Z"
   },
   {
    "duration": 10,
    "start_time": "2021-09-21T05:29:49.889Z"
   },
   {
    "duration": 257,
    "start_time": "2021-09-21T05:30:17.266Z"
   },
   {
    "duration": 9,
    "start_time": "2021-09-21T05:30:26.168Z"
   },
   {
    "duration": 10,
    "start_time": "2021-09-21T05:38:20.463Z"
   },
   {
    "duration": 11,
    "start_time": "2021-09-21T05:38:39.163Z"
   },
   {
    "duration": 5,
    "start_time": "2021-09-21T05:51:15.062Z"
   },
   {
    "duration": 255,
    "start_time": "2021-09-21T05:51:20.162Z"
   },
   {
    "duration": 5,
    "start_time": "2021-09-21T06:00:48.165Z"
   },
   {
    "duration": 264,
    "start_time": "2021-09-21T06:00:53.213Z"
   },
   {
    "duration": 252,
    "start_time": "2021-09-21T06:02:04.765Z"
   },
   {
    "duration": 20,
    "start_time": "2021-09-21T06:02:23.463Z"
   },
   {
    "duration": 824,
    "start_time": "2021-09-21T06:07:19.410Z"
   },
   {
    "duration": 278,
    "start_time": "2021-09-21T06:07:20.236Z"
   },
   {
    "duration": 24,
    "start_time": "2021-09-21T06:07:20.516Z"
   },
   {
    "duration": 8,
    "start_time": "2021-09-21T06:07:20.542Z"
   },
   {
    "duration": 8,
    "start_time": "2021-09-21T06:07:20.552Z"
   },
   {
    "duration": 16,
    "start_time": "2021-09-21T06:07:20.562Z"
   },
   {
    "duration": 12,
    "start_time": "2021-09-21T06:07:20.580Z"
   },
   {
    "duration": 15,
    "start_time": "2021-09-21T06:07:20.595Z"
   },
   {
    "duration": 43,
    "start_time": "2021-09-21T06:07:20.612Z"
   },
   {
    "duration": 13,
    "start_time": "2021-09-21T06:07:20.657Z"
   },
   {
    "duration": 3,
    "start_time": "2021-09-21T06:07:20.672Z"
   },
   {
    "duration": 16,
    "start_time": "2021-09-21T06:07:20.676Z"
   },
   {
    "duration": 346,
    "start_time": "2021-09-21T06:07:20.694Z"
   },
   {
    "duration": -124,
    "start_time": "2021-09-21T06:07:21.167Z"
   },
   {
    "duration": -135,
    "start_time": "2021-09-21T06:07:21.180Z"
   },
   {
    "duration": -137,
    "start_time": "2021-09-21T06:07:21.183Z"
   },
   {
    "duration": -141,
    "start_time": "2021-09-21T06:07:21.188Z"
   },
   {
    "duration": -142,
    "start_time": "2021-09-21T06:07:21.190Z"
   },
   {
    "duration": -143,
    "start_time": "2021-09-21T06:07:21.193Z"
   },
   {
    "duration": -146,
    "start_time": "2021-09-21T06:07:21.197Z"
   },
   {
    "duration": -147,
    "start_time": "2021-09-21T06:07:21.199Z"
   },
   {
    "duration": -184,
    "start_time": "2021-09-21T06:07:21.237Z"
   },
   {
    "duration": -185,
    "start_time": "2021-09-21T06:07:21.239Z"
   },
   {
    "duration": -185,
    "start_time": "2021-09-21T06:07:21.241Z"
   },
   {
    "duration": -186,
    "start_time": "2021-09-21T06:07:21.243Z"
   },
   {
    "duration": -187,
    "start_time": "2021-09-21T06:07:21.245Z"
   },
   {
    "duration": -186,
    "start_time": "2021-09-21T06:07:21.247Z"
   },
   {
    "duration": -187,
    "start_time": "2021-09-21T06:07:21.249Z"
   },
   {
    "duration": -193,
    "start_time": "2021-09-21T06:07:21.256Z"
   },
   {
    "duration": -195,
    "start_time": "2021-09-21T06:07:21.259Z"
   },
   {
    "duration": -195,
    "start_time": "2021-09-21T06:07:21.261Z"
   },
   {
    "duration": -196,
    "start_time": "2021-09-21T06:07:21.263Z"
   },
   {
    "duration": -196,
    "start_time": "2021-09-21T06:07:21.264Z"
   },
   {
    "duration": -202,
    "start_time": "2021-09-21T06:07:21.271Z"
   },
   {
    "duration": -203,
    "start_time": "2021-09-21T06:07:21.273Z"
   },
   {
    "duration": -203,
    "start_time": "2021-09-21T06:07:21.275Z"
   },
   {
    "duration": -205,
    "start_time": "2021-09-21T06:07:21.278Z"
   },
   {
    "duration": -205,
    "start_time": "2021-09-21T06:07:21.279Z"
   },
   {
    "duration": -205,
    "start_time": "2021-09-21T06:07:21.280Z"
   },
   {
    "duration": -205,
    "start_time": "2021-09-21T06:07:21.282Z"
   },
   {
    "duration": -206,
    "start_time": "2021-09-21T06:07:21.284Z"
   },
   {
    "duration": -207,
    "start_time": "2021-09-21T06:07:21.286Z"
   },
   {
    "duration": -207,
    "start_time": "2021-09-21T06:07:21.287Z"
   },
   {
    "duration": -208,
    "start_time": "2021-09-21T06:07:21.289Z"
   },
   {
    "duration": -208,
    "start_time": "2021-09-21T06:07:21.290Z"
   },
   {
    "duration": 253,
    "start_time": "2021-09-21T06:21:20.239Z"
   },
   {
    "duration": 270,
    "start_time": "2021-09-21T06:21:30.114Z"
   },
   {
    "duration": 738,
    "start_time": "2021-09-21T06:21:48.842Z"
   },
   {
    "duration": 264,
    "start_time": "2021-09-21T06:22:29.560Z"
   },
   {
    "duration": 7,
    "start_time": "2021-09-21T06:24:07.015Z"
   },
   {
    "duration": 857,
    "start_time": "2021-09-21T06:24:17.454Z"
   },
   {
    "duration": 1781,
    "start_time": "2021-09-21T06:24:49.504Z"
   },
   {
    "duration": 1930,
    "start_time": "2021-09-21T06:29:00.976Z"
   },
   {
    "duration": 2146,
    "start_time": "2021-09-21T06:29:21.408Z"
   },
   {
    "duration": 812,
    "start_time": "2021-09-21T06:29:37.568Z"
   },
   {
    "duration": 105,
    "start_time": "2021-09-21T06:30:36.062Z"
   },
   {
    "duration": 248,
    "start_time": "2021-09-21T06:30:37.284Z"
   },
   {
    "duration": 314,
    "start_time": "2021-09-21T06:30:55.861Z"
   },
   {
    "duration": 336,
    "start_time": "2021-09-21T06:31:53.499Z"
   },
   {
    "duration": 9,
    "start_time": "2021-09-21T06:32:04.109Z"
   },
   {
    "duration": 286,
    "start_time": "2021-09-21T06:32:11.875Z"
   },
   {
    "duration": 12,
    "start_time": "2021-09-21T06:32:21.899Z"
   },
   {
    "duration": 317,
    "start_time": "2021-09-21T06:32:22.554Z"
   },
   {
    "duration": 9,
    "start_time": "2021-09-21T06:32:37.707Z"
   },
   {
    "duration": 271,
    "start_time": "2021-09-21T06:32:38.314Z"
   },
   {
    "duration": 10,
    "start_time": "2021-09-21T06:32:57.026Z"
   },
   {
    "duration": 309,
    "start_time": "2021-09-21T06:32:57.667Z"
   },
   {
    "duration": 13,
    "start_time": "2021-09-21T06:33:08.796Z"
   },
   {
    "duration": 322,
    "start_time": "2021-09-21T06:33:09.227Z"
   },
   {
    "duration": 239,
    "start_time": "2021-09-21T06:33:55.298Z"
   },
   {
    "duration": 6,
    "start_time": "2021-09-21T06:34:09.010Z"
   },
   {
    "duration": 6,
    "start_time": "2021-09-21T06:34:30.586Z"
   },
   {
    "duration": 7,
    "start_time": "2021-09-21T06:35:47.609Z"
   },
   {
    "duration": 313,
    "start_time": "2021-09-21T06:35:48.698Z"
   },
   {
    "duration": 11,
    "start_time": "2021-09-21T06:36:16.217Z"
   },
   {
    "duration": 9,
    "start_time": "2021-09-21T06:36:20.207Z"
   },
   {
    "duration": 813,
    "start_time": "2021-09-21T06:36:33.055Z"
   },
   {
    "duration": 282,
    "start_time": "2021-09-21T06:36:33.871Z"
   },
   {
    "duration": 18,
    "start_time": "2021-09-21T06:36:34.156Z"
   },
   {
    "duration": 18,
    "start_time": "2021-09-21T06:36:34.176Z"
   },
   {
    "duration": 20,
    "start_time": "2021-09-21T06:36:34.196Z"
   },
   {
    "duration": 27,
    "start_time": "2021-09-21T06:36:34.218Z"
   },
   {
    "duration": 27,
    "start_time": "2021-09-21T06:36:34.247Z"
   },
   {
    "duration": 18,
    "start_time": "2021-09-21T06:36:34.276Z"
   },
   {
    "duration": 34,
    "start_time": "2021-09-21T06:36:34.296Z"
   },
   {
    "duration": 22,
    "start_time": "2021-09-21T06:36:34.332Z"
   },
   {
    "duration": 3,
    "start_time": "2021-09-21T06:36:34.356Z"
   },
   {
    "duration": 16,
    "start_time": "2021-09-21T06:36:34.361Z"
   },
   {
    "duration": 31,
    "start_time": "2021-09-21T06:36:34.379Z"
   },
   {
    "duration": 10,
    "start_time": "2021-09-21T06:36:34.412Z"
   },
   {
    "duration": 11,
    "start_time": "2021-09-21T06:36:34.424Z"
   },
   {
    "duration": 22,
    "start_time": "2021-09-21T06:36:34.437Z"
   },
   {
    "duration": 11,
    "start_time": "2021-09-21T06:36:34.461Z"
   },
   {
    "duration": 18,
    "start_time": "2021-09-21T06:36:34.473Z"
   },
   {
    "duration": 12,
    "start_time": "2021-09-21T06:36:34.492Z"
   },
   {
    "duration": 46,
    "start_time": "2021-09-21T06:36:34.506Z"
   },
   {
    "duration": 29,
    "start_time": "2021-09-21T06:36:34.554Z"
   },
   {
    "duration": 7,
    "start_time": "2021-09-21T06:36:34.586Z"
   },
   {
    "duration": 5,
    "start_time": "2021-09-21T06:36:34.598Z"
   },
   {
    "duration": 89,
    "start_time": "2021-09-21T06:36:34.606Z"
   },
   {
    "duration": 8,
    "start_time": "2021-09-21T06:36:34.697Z"
   },
   {
    "duration": 13,
    "start_time": "2021-09-21T06:36:34.707Z"
   },
   {
    "duration": 32,
    "start_time": "2021-09-21T06:36:34.722Z"
   },
   {
    "duration": 27,
    "start_time": "2021-09-21T06:36:34.756Z"
   },
   {
    "duration": 947,
    "start_time": "2021-09-21T06:36:34.784Z"
   },
   {
    "duration": 20,
    "start_time": "2021-09-21T06:36:35.733Z"
   },
   {
    "duration": 2,
    "start_time": "2021-09-21T06:36:35.755Z"
   },
   {
    "duration": 5,
    "start_time": "2021-09-21T06:36:35.759Z"
   },
   {
    "duration": 22,
    "start_time": "2021-09-21T06:36:35.766Z"
   },
   {
    "duration": 49,
    "start_time": "2021-09-21T06:36:35.790Z"
   },
   {
    "duration": 4,
    "start_time": "2021-09-21T06:36:35.841Z"
   },
   {
    "duration": 43,
    "start_time": "2021-09-21T06:36:35.846Z"
   },
   {
    "duration": 19,
    "start_time": "2021-09-21T06:36:35.891Z"
   },
   {
    "duration": 15,
    "start_time": "2021-09-21T06:36:35.912Z"
   },
   {
    "duration": 655,
    "start_time": "2021-09-21T06:36:35.929Z"
   },
   {
    "duration": 30,
    "start_time": "2021-09-21T06:36:36.587Z"
   },
   {
    "duration": 48,
    "start_time": "2021-09-21T06:36:36.619Z"
   },
   {
    "duration": 315,
    "start_time": "2021-09-21T06:36:36.669Z"
   },
   {
    "duration": 21,
    "start_time": "2021-09-21T06:36:36.986Z"
   },
   {
    "duration": 47,
    "start_time": "2021-09-21T06:36:37.009Z"
   },
   {
    "duration": 35,
    "start_time": "2021-09-21T06:36:37.058Z"
   },
   {
    "duration": 55,
    "start_time": "2021-09-21T06:36:37.096Z"
   },
   {
    "duration": 24,
    "start_time": "2021-09-21T06:37:55.345Z"
   },
   {
    "duration": 19,
    "start_time": "2021-09-21T06:41:17.958Z"
   },
   {
    "duration": 23,
    "start_time": "2021-09-21T06:43:04.325Z"
   },
   {
    "duration": 345,
    "start_time": "2021-09-21T06:43:20.701Z"
   },
   {
    "duration": 24,
    "start_time": "2021-09-21T06:43:27.460Z"
   },
   {
    "duration": 25,
    "start_time": "2021-09-21T06:44:00.942Z"
   },
   {
    "duration": 132,
    "start_time": "2021-09-21T07:06:20.560Z"
   },
   {
    "duration": 33,
    "start_time": "2021-09-21T07:47:04.683Z"
   },
   {
    "duration": 149,
    "start_time": "2021-09-21T07:47:23.841Z"
   },
   {
    "duration": 30,
    "start_time": "2021-09-21T07:47:41.973Z"
   },
   {
    "duration": 447,
    "start_time": "2021-09-21T07:47:53.554Z"
   },
   {
    "duration": 212,
    "start_time": "2021-09-21T07:48:13.625Z"
   },
   {
    "duration": 481,
    "start_time": "2021-09-21T07:49:02.689Z"
   },
   {
    "duration": 208,
    "start_time": "2021-09-21T07:49:20.529Z"
   },
   {
    "duration": 147,
    "start_time": "2021-09-21T07:49:28.530Z"
   },
   {
    "duration": 227,
    "start_time": "2021-09-21T07:50:45.247Z"
   },
   {
    "duration": 267,
    "start_time": "2021-09-21T07:50:53.822Z"
   },
   {
    "duration": 264,
    "start_time": "2021-09-21T07:52:15.406Z"
   },
   {
    "duration": 244,
    "start_time": "2021-09-21T07:52:37.870Z"
   },
   {
    "duration": 173,
    "start_time": "2021-09-21T07:52:57.357Z"
   },
   {
    "duration": 398,
    "start_time": "2021-09-21T07:53:34.205Z"
   },
   {
    "duration": 182,
    "start_time": "2021-09-21T07:54:34.188Z"
   },
   {
    "duration": 195,
    "start_time": "2021-09-21T07:55:26.468Z"
   },
   {
    "duration": 103,
    "start_time": "2021-09-21T07:57:25.591Z"
   },
   {
    "duration": 275,
    "start_time": "2021-09-21T07:57:31.667Z"
   },
   {
    "duration": 291,
    "start_time": "2021-09-21T07:57:48.229Z"
   },
   {
    "duration": 91,
    "start_time": "2021-09-21T08:21:16.493Z"
   },
   {
    "duration": 34,
    "start_time": "2021-09-21T08:21:23.366Z"
   },
   {
    "duration": 979,
    "start_time": "2021-09-21T08:22:38.301Z"
   },
   {
    "duration": 34,
    "start_time": "2021-09-21T08:23:10.628Z"
   },
   {
    "duration": 36,
    "start_time": "2021-09-21T08:24:50.780Z"
   },
   {
    "duration": 214,
    "start_time": "2021-09-21T08:25:14.923Z"
   },
   {
    "duration": 218,
    "start_time": "2021-09-21T08:26:22.194Z"
   },
   {
    "duration": 91,
    "start_time": "2021-09-21T08:33:39.537Z"
   },
   {
    "duration": 243,
    "start_time": "2021-09-21T08:33:44.861Z"
   },
   {
    "duration": 19,
    "start_time": "2021-09-21T08:33:54.158Z"
   },
   {
    "duration": 25,
    "start_time": "2021-09-21T08:34:02.391Z"
   },
   {
    "duration": 18,
    "start_time": "2021-09-21T11:31:13.969Z"
   },
   {
    "duration": 16,
    "start_time": "2021-09-21T11:31:44.946Z"
   },
   {
    "duration": 17,
    "start_time": "2021-09-21T11:31:49.641Z"
   },
   {
    "duration": 648,
    "start_time": "2021-09-21T11:55:36.591Z"
   },
   {
    "duration": 247,
    "start_time": "2021-09-21T11:55:37.241Z"
   },
   {
    "duration": 16,
    "start_time": "2021-09-21T11:55:37.490Z"
   },
   {
    "duration": 9,
    "start_time": "2021-09-21T11:55:37.508Z"
   },
   {
    "duration": 8,
    "start_time": "2021-09-21T11:55:37.518Z"
   },
   {
    "duration": 13,
    "start_time": "2021-09-21T11:55:37.527Z"
   },
   {
    "duration": 27,
    "start_time": "2021-09-21T11:55:37.541Z"
   },
   {
    "duration": 15,
    "start_time": "2021-09-21T11:55:37.570Z"
   },
   {
    "duration": 16,
    "start_time": "2021-09-21T11:55:37.587Z"
   },
   {
    "duration": 10,
    "start_time": "2021-09-21T11:55:37.605Z"
   },
   {
    "duration": 39,
    "start_time": "2021-09-21T11:55:37.616Z"
   },
   {
    "duration": 8,
    "start_time": "2021-09-21T11:55:37.657Z"
   },
   {
    "duration": 17,
    "start_time": "2021-09-21T11:55:37.667Z"
   },
   {
    "duration": 8,
    "start_time": "2021-09-21T11:55:37.686Z"
   },
   {
    "duration": 11,
    "start_time": "2021-09-21T11:55:37.696Z"
   },
   {
    "duration": 10,
    "start_time": "2021-09-21T11:55:37.709Z"
   },
   {
    "duration": 37,
    "start_time": "2021-09-21T11:55:37.720Z"
   },
   {
    "duration": 27,
    "start_time": "2021-09-21T11:55:37.758Z"
   },
   {
    "duration": 14,
    "start_time": "2021-09-21T11:55:37.787Z"
   },
   {
    "duration": 38,
    "start_time": "2021-09-21T11:55:37.802Z"
   },
   {
    "duration": 29,
    "start_time": "2021-09-21T11:55:37.842Z"
   },
   {
    "duration": 7,
    "start_time": "2021-09-21T11:55:37.873Z"
   },
   {
    "duration": 7,
    "start_time": "2021-09-21T11:55:37.884Z"
   },
   {
    "duration": 59,
    "start_time": "2021-09-21T11:55:37.892Z"
   },
   {
    "duration": 8,
    "start_time": "2021-09-21T11:55:37.952Z"
   },
   {
    "duration": 20,
    "start_time": "2021-09-21T11:55:37.962Z"
   },
   {
    "duration": 10,
    "start_time": "2021-09-21T11:55:37.983Z"
   },
   {
    "duration": 29,
    "start_time": "2021-09-21T11:55:37.994Z"
   },
   {
    "duration": 889,
    "start_time": "2021-09-21T11:55:38.025Z"
   },
   {
    "duration": 10,
    "start_time": "2021-09-21T11:55:38.916Z"
   },
   {
    "duration": 3,
    "start_time": "2021-09-21T11:55:38.928Z"
   },
   {
    "duration": 18,
    "start_time": "2021-09-21T11:55:38.932Z"
   },
   {
    "duration": 13,
    "start_time": "2021-09-21T11:55:38.952Z"
   },
   {
    "duration": 28,
    "start_time": "2021-09-21T11:55:38.967Z"
   },
   {
    "duration": 3,
    "start_time": "2021-09-21T11:55:38.997Z"
   },
   {
    "duration": 31,
    "start_time": "2021-09-21T11:55:39.002Z"
   },
   {
    "duration": 33,
    "start_time": "2021-09-21T11:55:39.035Z"
   },
   {
    "duration": 17,
    "start_time": "2021-09-21T11:55:39.070Z"
   },
   {
    "duration": 546,
    "start_time": "2021-09-21T11:55:39.089Z"
   },
   {
    "duration": 23,
    "start_time": "2021-09-21T11:55:39.637Z"
   },
   {
    "duration": 25,
    "start_time": "2021-09-21T11:55:39.662Z"
   },
   {
    "duration": 313,
    "start_time": "2021-09-21T11:55:39.688Z"
   },
   {
    "duration": 17,
    "start_time": "2021-09-21T11:55:40.003Z"
   },
   {
    "duration": 39,
    "start_time": "2021-09-21T11:55:40.022Z"
   },
   {
    "duration": 26,
    "start_time": "2021-09-21T11:55:40.063Z"
   },
   {
    "duration": 222,
    "start_time": "2021-09-21T11:55:40.090Z"
   },
   {
    "duration": 215,
    "start_time": "2021-09-21T11:55:40.313Z"
   },
   {
    "duration": 23,
    "start_time": "2021-09-21T11:55:40.530Z"
   },
   {
    "duration": 25,
    "start_time": "2021-09-21T11:55:40.554Z"
   },
   {
    "duration": 12,
    "start_time": "2021-09-21T11:57:42.943Z"
   },
   {
    "duration": 90,
    "start_time": "2021-09-21T11:57:52.849Z"
   },
   {
    "duration": 350,
    "start_time": "2021-09-21T11:58:01.232Z"
   },
   {
    "duration": 14,
    "start_time": "2021-09-21T11:58:59.016Z"
   },
   {
    "duration": 19,
    "start_time": "2021-09-21T11:59:45.633Z"
   },
   {
    "duration": 6,
    "start_time": "2021-09-21T12:00:20.011Z"
   },
   {
    "duration": 670,
    "start_time": "2021-09-21T12:02:02.600Z"
   },
   {
    "duration": 274,
    "start_time": "2021-09-21T12:02:03.272Z"
   },
   {
    "duration": 17,
    "start_time": "2021-09-21T12:02:03.548Z"
   },
   {
    "duration": 7,
    "start_time": "2021-09-21T12:02:03.567Z"
   },
   {
    "duration": 21,
    "start_time": "2021-09-21T12:02:03.576Z"
   },
   {
    "duration": 33,
    "start_time": "2021-09-21T12:02:03.599Z"
   },
   {
    "duration": 36,
    "start_time": "2021-09-21T12:02:03.634Z"
   },
   {
    "duration": 16,
    "start_time": "2021-09-21T12:02:03.674Z"
   },
   {
    "duration": 26,
    "start_time": "2021-09-21T12:02:03.693Z"
   },
   {
    "duration": 33,
    "start_time": "2021-09-21T12:02:03.721Z"
   },
   {
    "duration": 23,
    "start_time": "2021-09-21T12:02:03.756Z"
   },
   {
    "duration": 23,
    "start_time": "2021-09-21T12:02:03.781Z"
   },
   {
    "duration": 19,
    "start_time": "2021-09-21T12:02:03.806Z"
   },
   {
    "duration": 42,
    "start_time": "2021-09-21T12:02:03.827Z"
   },
   {
    "duration": 22,
    "start_time": "2021-09-21T12:02:03.871Z"
   },
   {
    "duration": 25,
    "start_time": "2021-09-21T12:02:03.895Z"
   },
   {
    "duration": 15,
    "start_time": "2021-09-21T12:02:03.922Z"
   },
   {
    "duration": 31,
    "start_time": "2021-09-21T12:02:03.939Z"
   },
   {
    "duration": 37,
    "start_time": "2021-09-21T12:02:03.972Z"
   },
   {
    "duration": 29,
    "start_time": "2021-09-21T12:02:04.011Z"
   },
   {
    "duration": 42,
    "start_time": "2021-09-21T12:02:04.042Z"
   },
   {
    "duration": 31,
    "start_time": "2021-09-21T12:02:04.086Z"
   },
   {
    "duration": 6,
    "start_time": "2021-09-21T12:02:04.121Z"
   },
   {
    "duration": 19,
    "start_time": "2021-09-21T12:02:04.130Z"
   },
   {
    "duration": 60,
    "start_time": "2021-09-21T12:02:04.151Z"
   },
   {
    "duration": 13,
    "start_time": "2021-09-21T12:02:04.213Z"
   },
   {
    "duration": 29,
    "start_time": "2021-09-21T12:02:04.228Z"
   },
   {
    "duration": 34,
    "start_time": "2021-09-21T12:02:04.259Z"
   },
   {
    "duration": 36,
    "start_time": "2021-09-21T12:02:04.294Z"
   },
   {
    "duration": 891,
    "start_time": "2021-09-21T12:02:04.332Z"
   },
   {
    "duration": 12,
    "start_time": "2021-09-21T12:02:05.225Z"
   },
   {
    "duration": 12,
    "start_time": "2021-09-21T12:02:05.238Z"
   },
   {
    "duration": 18,
    "start_time": "2021-09-21T12:02:05.252Z"
   },
   {
    "duration": 23,
    "start_time": "2021-09-21T12:02:05.272Z"
   },
   {
    "duration": 38,
    "start_time": "2021-09-21T12:02:05.297Z"
   },
   {
    "duration": 7,
    "start_time": "2021-09-21T12:02:05.337Z"
   },
   {
    "duration": 54,
    "start_time": "2021-09-21T12:02:05.346Z"
   },
   {
    "duration": 19,
    "start_time": "2021-09-21T12:02:05.402Z"
   },
   {
    "duration": 19,
    "start_time": "2021-09-21T12:02:05.423Z"
   },
   {
    "duration": 513,
    "start_time": "2021-09-21T12:02:05.444Z"
   },
   {
    "duration": 24,
    "start_time": "2021-09-21T12:02:05.959Z"
   },
   {
    "duration": 27,
    "start_time": "2021-09-21T12:02:05.985Z"
   },
   {
    "duration": 330,
    "start_time": "2021-09-21T12:02:06.014Z"
   },
   {
    "duration": 20,
    "start_time": "2021-09-21T12:02:06.346Z"
   },
   {
    "duration": 40,
    "start_time": "2021-09-21T12:02:06.368Z"
   },
   {
    "duration": 40,
    "start_time": "2021-09-21T12:02:06.410Z"
   },
   {
    "duration": 245,
    "start_time": "2021-09-21T12:02:06.452Z"
   },
   {
    "duration": 244,
    "start_time": "2021-09-21T12:02:06.699Z"
   },
   {
    "duration": 18,
    "start_time": "2021-09-21T12:02:06.945Z"
   },
   {
    "duration": 26,
    "start_time": "2021-09-21T12:02:06.964Z"
   },
   {
    "duration": 362,
    "start_time": "2021-09-21T12:05:37.493Z"
   },
   {
    "duration": 274,
    "start_time": "2021-09-21T12:06:52.332Z"
   },
   {
    "duration": 256,
    "start_time": "2021-09-21T12:07:17.507Z"
   },
   {
    "duration": 264,
    "start_time": "2021-09-21T12:07:33.795Z"
   },
   {
    "duration": 302,
    "start_time": "2021-09-21T12:07:46.172Z"
   },
   {
    "duration": 12,
    "start_time": "2021-09-21T12:08:17.690Z"
   },
   {
    "duration": 4,
    "start_time": "2021-09-21T12:08:25.467Z"
   },
   {
    "duration": 5,
    "start_time": "2021-09-21T12:08:37.289Z"
   },
   {
    "duration": 5,
    "start_time": "2021-09-21T12:09:01.714Z"
   },
   {
    "duration": 12,
    "start_time": "2021-09-21T12:09:29.641Z"
   },
   {
    "duration": 648,
    "start_time": "2021-09-21T12:09:41.777Z"
   },
   {
    "duration": 275,
    "start_time": "2021-09-21T12:09:42.427Z"
   },
   {
    "duration": 18,
    "start_time": "2021-09-21T12:09:42.704Z"
   },
   {
    "duration": 21,
    "start_time": "2021-09-21T12:09:42.725Z"
   },
   {
    "duration": 17,
    "start_time": "2021-09-21T12:09:42.748Z"
   },
   {
    "duration": 15,
    "start_time": "2021-09-21T12:09:42.767Z"
   },
   {
    "duration": 33,
    "start_time": "2021-09-21T12:09:42.784Z"
   },
   {
    "duration": 16,
    "start_time": "2021-09-21T12:09:42.821Z"
   },
   {
    "duration": 27,
    "start_time": "2021-09-21T12:09:42.840Z"
   },
   {
    "duration": 12,
    "start_time": "2021-09-21T12:09:42.868Z"
   },
   {
    "duration": 13,
    "start_time": "2021-09-21T12:09:42.881Z"
   },
   {
    "duration": 13,
    "start_time": "2021-09-21T12:09:42.895Z"
   },
   {
    "duration": 46,
    "start_time": "2021-09-21T12:09:42.909Z"
   },
   {
    "duration": 355,
    "start_time": "2021-09-21T12:09:42.958Z"
   },
   {
    "duration": -82,
    "start_time": "2021-09-21T12:09:43.399Z"
   },
   {
    "duration": -89,
    "start_time": "2021-09-21T12:09:43.407Z"
   },
   {
    "duration": -91,
    "start_time": "2021-09-21T12:09:43.410Z"
   },
   {
    "duration": -93,
    "start_time": "2021-09-21T12:09:43.413Z"
   },
   {
    "duration": -94,
    "start_time": "2021-09-21T12:09:43.415Z"
   },
   {
    "duration": -96,
    "start_time": "2021-09-21T12:09:43.418Z"
   },
   {
    "duration": -95,
    "start_time": "2021-09-21T12:09:43.419Z"
   },
   {
    "duration": -97,
    "start_time": "2021-09-21T12:09:43.422Z"
   },
   {
    "duration": -98,
    "start_time": "2021-09-21T12:09:43.424Z"
   },
   {
    "duration": -99,
    "start_time": "2021-09-21T12:09:43.426Z"
   },
   {
    "duration": -100,
    "start_time": "2021-09-21T12:09:43.428Z"
   },
   {
    "duration": -107,
    "start_time": "2021-09-21T12:09:43.436Z"
   },
   {
    "duration": -109,
    "start_time": "2021-09-21T12:09:43.440Z"
   },
   {
    "duration": -110,
    "start_time": "2021-09-21T12:09:43.442Z"
   },
   {
    "duration": -111,
    "start_time": "2021-09-21T12:09:43.444Z"
   },
   {
    "duration": -111,
    "start_time": "2021-09-21T12:09:43.446Z"
   },
   {
    "duration": -111,
    "start_time": "2021-09-21T12:09:43.447Z"
   },
   {
    "duration": -111,
    "start_time": "2021-09-21T12:09:43.449Z"
   },
   {
    "duration": -111,
    "start_time": "2021-09-21T12:09:43.450Z"
   },
   {
    "duration": -112,
    "start_time": "2021-09-21T12:09:43.452Z"
   },
   {
    "duration": -113,
    "start_time": "2021-09-21T12:09:43.454Z"
   },
   {
    "duration": -116,
    "start_time": "2021-09-21T12:09:43.458Z"
   },
   {
    "duration": -116,
    "start_time": "2021-09-21T12:09:43.459Z"
   },
   {
    "duration": -117,
    "start_time": "2021-09-21T12:09:43.461Z"
   },
   {
    "duration": -117,
    "start_time": "2021-09-21T12:09:43.463Z"
   },
   {
    "duration": -118,
    "start_time": "2021-09-21T12:09:43.465Z"
   },
   {
    "duration": -119,
    "start_time": "2021-09-21T12:09:43.467Z"
   },
   {
    "duration": -120,
    "start_time": "2021-09-21T12:09:43.469Z"
   },
   {
    "duration": -120,
    "start_time": "2021-09-21T12:09:43.470Z"
   },
   {
    "duration": -121,
    "start_time": "2021-09-21T12:09:43.473Z"
   },
   {
    "duration": -121,
    "start_time": "2021-09-21T12:09:43.474Z"
   },
   {
    "duration": -122,
    "start_time": "2021-09-21T12:09:43.476Z"
   },
   {
    "duration": -121,
    "start_time": "2021-09-21T12:09:43.477Z"
   },
   {
    "duration": -121,
    "start_time": "2021-09-21T12:09:43.479Z"
   },
   {
    "duration": -127,
    "start_time": "2021-09-21T12:09:43.486Z"
   },
   {
    "duration": 771,
    "start_time": "2021-09-21T12:10:04.211Z"
   },
   {
    "duration": 321,
    "start_time": "2021-09-21T12:10:04.984Z"
   },
   {
    "duration": 19,
    "start_time": "2021-09-21T12:10:05.308Z"
   },
   {
    "duration": 11,
    "start_time": "2021-09-21T12:10:05.329Z"
   },
   {
    "duration": 8,
    "start_time": "2021-09-21T12:10:05.342Z"
   },
   {
    "duration": 14,
    "start_time": "2021-09-21T12:10:05.352Z"
   },
   {
    "duration": 31,
    "start_time": "2021-09-21T12:10:05.368Z"
   },
   {
    "duration": 16,
    "start_time": "2021-09-21T12:10:05.400Z"
   },
   {
    "duration": 45,
    "start_time": "2021-09-21T12:10:05.419Z"
   },
   {
    "duration": 13,
    "start_time": "2021-09-21T12:10:05.467Z"
   },
   {
    "duration": 11,
    "start_time": "2021-09-21T12:10:05.483Z"
   },
   {
    "duration": 17,
    "start_time": "2021-09-21T12:10:05.496Z"
   },
   {
    "duration": 5,
    "start_time": "2021-09-21T12:10:05.515Z"
   },
   {
    "duration": 355,
    "start_time": "2021-09-21T12:10:05.521Z"
   },
   {
    "duration": -86,
    "start_time": "2021-09-21T12:10:05.965Z"
   },
   {
    "duration": -88,
    "start_time": "2021-09-21T12:10:05.968Z"
   },
   {
    "duration": -89,
    "start_time": "2021-09-21T12:10:05.970Z"
   },
   {
    "duration": -97,
    "start_time": "2021-09-21T12:10:05.979Z"
   },
   {
    "duration": -99,
    "start_time": "2021-09-21T12:10:05.982Z"
   },
   {
    "duration": -100,
    "start_time": "2021-09-21T12:10:05.984Z"
   },
   {
    "duration": -101,
    "start_time": "2021-09-21T12:10:05.986Z"
   },
   {
    "duration": -104,
    "start_time": "2021-09-21T12:10:05.990Z"
   },
   {
    "duration": -110,
    "start_time": "2021-09-21T12:10:05.998Z"
   },
   {
    "duration": -112,
    "start_time": "2021-09-21T12:10:06.001Z"
   },
   {
    "duration": -112,
    "start_time": "2021-09-21T12:10:06.002Z"
   },
   {
    "duration": -114,
    "start_time": "2021-09-21T12:10:06.005Z"
   },
   {
    "duration": -121,
    "start_time": "2021-09-21T12:10:06.013Z"
   },
   {
    "duration": -123,
    "start_time": "2021-09-21T12:10:06.016Z"
   },
   {
    "duration": -125,
    "start_time": "2021-09-21T12:10:06.019Z"
   },
   {
    "duration": -129,
    "start_time": "2021-09-21T12:10:06.024Z"
   },
   {
    "duration": -136,
    "start_time": "2021-09-21T12:10:06.032Z"
   },
   {
    "duration": -138,
    "start_time": "2021-09-21T12:10:06.035Z"
   },
   {
    "duration": -141,
    "start_time": "2021-09-21T12:10:06.039Z"
   },
   {
    "duration": -150,
    "start_time": "2021-09-21T12:10:06.049Z"
   },
   {
    "duration": -151,
    "start_time": "2021-09-21T12:10:06.051Z"
   },
   {
    "duration": -152,
    "start_time": "2021-09-21T12:10:06.053Z"
   },
   {
    "duration": -160,
    "start_time": "2021-09-21T12:10:06.062Z"
   },
   {
    "duration": -162,
    "start_time": "2021-09-21T12:10:06.065Z"
   },
   {
    "duration": -163,
    "start_time": "2021-09-21T12:10:06.067Z"
   },
   {
    "duration": -164,
    "start_time": "2021-09-21T12:10:06.069Z"
   },
   {
    "duration": -168,
    "start_time": "2021-09-21T12:10:06.074Z"
   },
   {
    "duration": -175,
    "start_time": "2021-09-21T12:10:06.082Z"
   },
   {
    "duration": -177,
    "start_time": "2021-09-21T12:10:06.085Z"
   },
   {
    "duration": -179,
    "start_time": "2021-09-21T12:10:06.088Z"
   },
   {
    "duration": -188,
    "start_time": "2021-09-21T12:10:06.098Z"
   },
   {
    "duration": -191,
    "start_time": "2021-09-21T12:10:06.101Z"
   },
   {
    "duration": -191,
    "start_time": "2021-09-21T12:10:06.102Z"
   },
   {
    "duration": -195,
    "start_time": "2021-09-21T12:10:06.107Z"
   },
   {
    "duration": -201,
    "start_time": "2021-09-21T12:10:06.114Z"
   },
   {
    "duration": 16,
    "start_time": "2021-09-21T12:11:38.578Z"
   },
   {
    "duration": 12,
    "start_time": "2021-09-21T12:15:29.865Z"
   },
   {
    "duration": 17,
    "start_time": "2021-09-21T12:15:34.768Z"
   },
   {
    "duration": 4,
    "start_time": "2021-09-21T12:18:03.807Z"
   },
   {
    "duration": 237,
    "start_time": "2021-09-21T12:18:38.166Z"
   },
   {
    "duration": 256,
    "start_time": "2021-09-21T12:19:52.870Z"
   },
   {
    "duration": 8,
    "start_time": "2021-09-21T12:20:10.143Z"
   },
   {
    "duration": 22,
    "start_time": "2021-09-21T12:20:24.510Z"
   },
   {
    "duration": 864,
    "start_time": "2021-09-21T12:33:53.054Z"
   },
   {
    "duration": 279,
    "start_time": "2021-09-21T12:33:53.921Z"
   },
   {
    "duration": 25,
    "start_time": "2021-09-21T12:33:54.203Z"
   },
   {
    "duration": 9,
    "start_time": "2021-09-21T12:33:54.230Z"
   },
   {
    "duration": 15,
    "start_time": "2021-09-21T12:33:54.241Z"
   },
   {
    "duration": 19,
    "start_time": "2021-09-21T12:33:54.259Z"
   },
   {
    "duration": 33,
    "start_time": "2021-09-21T12:33:54.280Z"
   },
   {
    "duration": 16,
    "start_time": "2021-09-21T12:33:54.316Z"
   },
   {
    "duration": 23,
    "start_time": "2021-09-21T12:33:54.350Z"
   },
   {
    "duration": 10,
    "start_time": "2021-09-21T12:33:54.375Z"
   },
   {
    "duration": 10,
    "start_time": "2021-09-21T12:33:54.387Z"
   },
   {
    "duration": 52,
    "start_time": "2021-09-21T12:33:54.399Z"
   },
   {
    "duration": 22,
    "start_time": "2021-09-21T12:33:54.454Z"
   },
   {
    "duration": 21,
    "start_time": "2021-09-21T12:33:54.478Z"
   },
   {
    "duration": 53,
    "start_time": "2021-09-21T12:33:54.501Z"
   },
   {
    "duration": 344,
    "start_time": "2021-09-21T12:33:54.559Z"
   },
   {
    "duration": -92,
    "start_time": "2021-09-21T12:33:54.999Z"
   },
   {
    "duration": -97,
    "start_time": "2021-09-21T12:33:55.006Z"
   },
   {
    "duration": -102,
    "start_time": "2021-09-21T12:33:55.012Z"
   },
   {
    "duration": -105,
    "start_time": "2021-09-21T12:33:55.016Z"
   },
   {
    "duration": -108,
    "start_time": "2021-09-21T12:33:55.021Z"
   },
   {
    "duration": -110,
    "start_time": "2021-09-21T12:33:55.024Z"
   },
   {
    "duration": -112,
    "start_time": "2021-09-21T12:33:55.027Z"
   },
   {
    "duration": -113,
    "start_time": "2021-09-21T12:33:55.030Z"
   },
   {
    "duration": -114,
    "start_time": "2021-09-21T12:33:55.032Z"
   },
   {
    "duration": -114,
    "start_time": "2021-09-21T12:33:55.033Z"
   },
   {
    "duration": -114,
    "start_time": "2021-09-21T12:33:55.035Z"
   },
   {
    "duration": -115,
    "start_time": "2021-09-21T12:33:55.037Z"
   },
   {
    "duration": -115,
    "start_time": "2021-09-21T12:33:55.038Z"
   },
   {
    "duration": -117,
    "start_time": "2021-09-21T12:33:55.042Z"
   },
   {
    "duration": -121,
    "start_time": "2021-09-21T12:33:55.047Z"
   },
   {
    "duration": -122,
    "start_time": "2021-09-21T12:33:55.049Z"
   },
   {
    "duration": -123,
    "start_time": "2021-09-21T12:33:55.051Z"
   },
   {
    "duration": -122,
    "start_time": "2021-09-21T12:33:55.053Z"
   },
   {
    "duration": -123,
    "start_time": "2021-09-21T12:33:55.055Z"
   },
   {
    "duration": -130,
    "start_time": "2021-09-21T12:33:55.063Z"
   },
   {
    "duration": -131,
    "start_time": "2021-09-21T12:33:55.066Z"
   },
   {
    "duration": -133,
    "start_time": "2021-09-21T12:33:55.069Z"
   },
   {
    "duration": -134,
    "start_time": "2021-09-21T12:33:55.071Z"
   },
   {
    "duration": -138,
    "start_time": "2021-09-21T12:33:55.077Z"
   },
   {
    "duration": -140,
    "start_time": "2021-09-21T12:33:55.080Z"
   },
   {
    "duration": -142,
    "start_time": "2021-09-21T12:33:55.083Z"
   },
   {
    "duration": -141,
    "start_time": "2021-09-21T12:33:55.084Z"
   },
   {
    "duration": -142,
    "start_time": "2021-09-21T12:33:55.086Z"
   },
   {
    "duration": -142,
    "start_time": "2021-09-21T12:33:55.087Z"
   },
   {
    "duration": -138,
    "start_time": "2021-09-21T12:33:55.089Z"
   },
   {
    "duration": -137,
    "start_time": "2021-09-21T12:33:55.090Z"
   },
   {
    "duration": -140,
    "start_time": "2021-09-21T12:33:55.094Z"
   },
   {
    "duration": -140,
    "start_time": "2021-09-21T12:33:55.096Z"
   },
   {
    "duration": -137,
    "start_time": "2021-09-21T12:33:55.097Z"
   },
   {
    "duration": -138,
    "start_time": "2021-09-21T12:33:55.099Z"
   },
   {
    "duration": 12,
    "start_time": "2021-09-21T12:34:18.359Z"
   },
   {
    "duration": 7612,
    "start_time": "2021-09-21T12:34:57.882Z"
   },
   {
    "duration": 12,
    "start_time": "2021-09-21T12:35:52.635Z"
   },
   {
    "duration": 10,
    "start_time": "2021-09-21T12:36:00.651Z"
   },
   {
    "duration": 16,
    "start_time": "2021-09-21T12:36:13.626Z"
   },
   {
    "duration": 11,
    "start_time": "2021-09-21T12:44:07.269Z"
   },
   {
    "duration": 11,
    "start_time": "2021-09-21T13:40:50.677Z"
   },
   {
    "duration": 20,
    "start_time": "2021-09-21T13:40:55.254Z"
   },
   {
    "duration": 13,
    "start_time": "2021-09-21T13:41:06.134Z"
   },
   {
    "duration": 16,
    "start_time": "2021-09-21T13:46:47.283Z"
   },
   {
    "duration": 5,
    "start_time": "2021-09-21T13:50:02.416Z"
   },
   {
    "duration": 10,
    "start_time": "2021-09-21T13:50:13.009Z"
   },
   {
    "duration": 368,
    "start_time": "2021-09-22T10:24:18.727Z"
   },
   {
    "duration": 806,
    "start_time": "2021-09-22T10:24:26.668Z"
   },
   {
    "duration": 381,
    "start_time": "2021-09-22T10:24:27.477Z"
   },
   {
    "duration": 26,
    "start_time": "2021-09-22T10:24:27.861Z"
   },
   {
    "duration": 11,
    "start_time": "2021-09-22T10:24:27.889Z"
   },
   {
    "duration": 13,
    "start_time": "2021-09-22T10:24:27.902Z"
   },
   {
    "duration": 19,
    "start_time": "2021-09-22T10:24:27.917Z"
   },
   {
    "duration": 44,
    "start_time": "2021-09-22T10:24:27.938Z"
   },
   {
    "duration": 43,
    "start_time": "2021-09-22T10:24:27.986Z"
   },
   {
    "duration": 26,
    "start_time": "2021-09-22T10:24:28.032Z"
   },
   {
    "duration": 14,
    "start_time": "2021-09-22T10:24:28.061Z"
   },
   {
    "duration": 45,
    "start_time": "2021-09-22T10:24:28.079Z"
   },
   {
    "duration": 17,
    "start_time": "2021-09-22T10:24:28.127Z"
   },
   {
    "duration": 23,
    "start_time": "2021-09-22T10:24:28.146Z"
   },
   {
    "duration": 69,
    "start_time": "2021-09-22T10:24:28.171Z"
   },
   {
    "duration": 24,
    "start_time": "2021-09-22T10:24:28.242Z"
   },
   {
    "duration": 23,
    "start_time": "2021-09-22T10:24:28.268Z"
   },
   {
    "duration": 15,
    "start_time": "2021-09-22T10:24:28.316Z"
   },
   {
    "duration": 13,
    "start_time": "2021-09-22T10:24:28.333Z"
   },
   {
    "duration": 13,
    "start_time": "2021-09-22T10:24:28.348Z"
   },
   {
    "duration": 61,
    "start_time": "2021-09-22T10:24:28.364Z"
   },
   {
    "duration": 11,
    "start_time": "2021-09-22T10:24:28.428Z"
   },
   {
    "duration": 21,
    "start_time": "2021-09-22T10:24:28.442Z"
   },
   {
    "duration": 57,
    "start_time": "2021-09-22T10:24:28.468Z"
   },
   {
    "duration": 42,
    "start_time": "2021-09-22T10:24:28.528Z"
   },
   {
    "duration": 8,
    "start_time": "2021-09-22T10:24:28.573Z"
   },
   {
    "duration": 6,
    "start_time": "2021-09-22T10:24:28.616Z"
   },
   {
    "duration": 56,
    "start_time": "2021-09-22T10:24:28.624Z"
   },
   {
    "duration": 43,
    "start_time": "2021-09-22T10:24:28.683Z"
   },
   {
    "duration": 18,
    "start_time": "2021-09-22T10:24:28.728Z"
   },
   {
    "duration": 11,
    "start_time": "2021-09-22T10:24:28.749Z"
   },
   {
    "duration": 54,
    "start_time": "2021-09-22T10:24:28.762Z"
   },
   {
    "duration": 1806,
    "start_time": "2021-09-22T10:24:28.818Z"
   },
   {
    "duration": 11,
    "start_time": "2021-09-22T10:24:30.627Z"
   },
   {
    "duration": 20,
    "start_time": "2021-09-22T10:24:30.641Z"
   },
   {
    "duration": 20,
    "start_time": "2021-09-22T10:24:30.664Z"
   },
   {
    "duration": 16,
    "start_time": "2021-09-22T10:24:30.686Z"
   },
   {
    "duration": 58,
    "start_time": "2021-09-22T10:24:30.705Z"
   },
   {
    "duration": 5,
    "start_time": "2021-09-22T10:24:30.765Z"
   },
   {
    "duration": 68,
    "start_time": "2021-09-22T10:24:30.772Z"
   },
   {
    "duration": 38,
    "start_time": "2021-09-22T10:24:30.842Z"
   },
   {
    "duration": 34,
    "start_time": "2021-09-22T10:24:30.882Z"
   },
   {
    "duration": 755,
    "start_time": "2021-09-22T10:24:30.918Z"
   },
   {
    "duration": 40,
    "start_time": "2021-09-22T10:24:31.676Z"
   },
   {
    "duration": 35,
    "start_time": "2021-09-22T10:24:31.719Z"
   },
   {
    "duration": 512,
    "start_time": "2021-09-22T10:24:31.756Z"
   },
   {
    "duration": 23,
    "start_time": "2021-09-22T10:24:32.271Z"
   },
   {
    "duration": 54,
    "start_time": "2021-09-22T10:24:32.296Z"
   },
   {
    "duration": 1319,
    "start_time": "2021-09-22T10:24:32.352Z"
   },
   {
    "duration": -95,
    "start_time": "2021-09-22T10:24:33.769Z"
   },
   {
    "duration": -96,
    "start_time": "2021-09-22T10:24:33.771Z"
   },
   {
    "duration": -96,
    "start_time": "2021-09-22T10:24:33.773Z"
   },
   {
    "duration": -100,
    "start_time": "2021-09-22T10:24:33.778Z"
   },
   {
    "duration": 8,
    "start_time": "2021-09-22T10:49:47.537Z"
   },
   {
    "duration": 32,
    "start_time": "2021-09-22T10:49:59.194Z"
   },
   {
    "duration": 19,
    "start_time": "2021-09-22T10:50:50.978Z"
   },
   {
    "duration": 41,
    "start_time": "2021-09-22T11:04:31.705Z"
   },
   {
    "duration": 31,
    "start_time": "2021-09-22T11:05:04.321Z"
   },
   {
    "duration": 42,
    "start_time": "2021-09-22T11:09:10.080Z"
   },
   {
    "duration": 58,
    "start_time": "2021-09-22T11:09:22.408Z"
   },
   {
    "duration": 965,
    "start_time": "2021-09-22T11:15:12.029Z"
   },
   {
    "duration": 355,
    "start_time": "2021-09-22T11:15:12.996Z"
   },
   {
    "duration": 27,
    "start_time": "2021-09-22T11:15:13.357Z"
   },
   {
    "duration": 18,
    "start_time": "2021-09-22T11:15:13.386Z"
   },
   {
    "duration": 14,
    "start_time": "2021-09-22T11:15:13.406Z"
   },
   {
    "duration": 20,
    "start_time": "2021-09-22T11:15:13.422Z"
   },
   {
    "duration": 41,
    "start_time": "2021-09-22T11:15:13.446Z"
   },
   {
    "duration": 44,
    "start_time": "2021-09-22T11:15:13.491Z"
   },
   {
    "duration": 31,
    "start_time": "2021-09-22T11:15:13.537Z"
   },
   {
    "duration": 14,
    "start_time": "2021-09-22T11:15:13.570Z"
   },
   {
    "duration": 38,
    "start_time": "2021-09-22T11:15:13.586Z"
   },
   {
    "duration": 22,
    "start_time": "2021-09-22T11:15:13.626Z"
   },
   {
    "duration": 23,
    "start_time": "2021-09-22T11:15:13.651Z"
   },
   {
    "duration": 30,
    "start_time": "2021-09-22T11:15:13.716Z"
   },
   {
    "duration": 17,
    "start_time": "2021-09-22T11:15:13.748Z"
   },
   {
    "duration": 50,
    "start_time": "2021-09-22T11:15:13.768Z"
   },
   {
    "duration": 13,
    "start_time": "2021-09-22T11:15:13.821Z"
   },
   {
    "duration": 15,
    "start_time": "2021-09-22T11:15:13.837Z"
   },
   {
    "duration": 12,
    "start_time": "2021-09-22T11:15:13.855Z"
   },
   {
    "duration": 56,
    "start_time": "2021-09-22T11:15:13.870Z"
   },
   {
    "duration": 27,
    "start_time": "2021-09-22T11:15:13.928Z"
   },
   {
    "duration": 29,
    "start_time": "2021-09-22T11:15:13.960Z"
   },
   {
    "duration": 24,
    "start_time": "2021-09-22T11:15:13.992Z"
   },
   {
    "duration": 27,
    "start_time": "2021-09-22T11:15:14.018Z"
   },
   {
    "duration": 35,
    "start_time": "2021-09-22T11:15:14.048Z"
   },
   {
    "duration": 48,
    "start_time": "2021-09-22T11:15:14.086Z"
   },
   {
    "duration": 41,
    "start_time": "2021-09-22T11:15:14.136Z"
   },
   {
    "duration": 121,
    "start_time": "2021-09-22T11:18:40.456Z"
   },
   {
    "duration": 25,
    "start_time": "2021-09-22T11:20:36.672Z"
   },
   {
    "duration": 27,
    "start_time": "2021-09-22T11:21:01.118Z"
   },
   {
    "duration": 6,
    "start_time": "2021-09-22T11:22:38.968Z"
   },
   {
    "duration": 23,
    "start_time": "2021-09-22T11:28:21.869Z"
   },
   {
    "duration": 26,
    "start_time": "2021-09-22T11:31:27.393Z"
   },
   {
    "duration": 48,
    "start_time": "2021-09-22T11:31:35.077Z"
   },
   {
    "duration": 25,
    "start_time": "2021-09-22T11:31:56.610Z"
   },
   {
    "duration": 55,
    "start_time": "2021-09-22T12:16:03.523Z"
   },
   {
    "duration": 833,
    "start_time": "2021-09-22T12:16:29.564Z"
   },
   {
    "duration": 385,
    "start_time": "2021-09-22T12:16:30.401Z"
   },
   {
    "duration": 26,
    "start_time": "2021-09-22T12:16:30.789Z"
   },
   {
    "duration": 19,
    "start_time": "2021-09-22T12:16:30.818Z"
   },
   {
    "duration": 15,
    "start_time": "2021-09-22T12:16:30.839Z"
   },
   {
    "duration": 33,
    "start_time": "2021-09-22T12:16:30.857Z"
   },
   {
    "duration": 47,
    "start_time": "2021-09-22T12:16:30.893Z"
   },
   {
    "duration": 24,
    "start_time": "2021-09-22T12:16:30.944Z"
   },
   {
    "duration": 49,
    "start_time": "2021-09-22T12:16:30.972Z"
   },
   {
    "duration": 17,
    "start_time": "2021-09-22T12:16:31.024Z"
   },
   {
    "duration": 18,
    "start_time": "2021-09-22T12:16:31.044Z"
   },
   {
    "duration": 17,
    "start_time": "2021-09-22T12:16:31.065Z"
   },
   {
    "duration": 24,
    "start_time": "2021-09-22T12:16:31.117Z"
   },
   {
    "duration": 35,
    "start_time": "2021-09-22T12:16:31.144Z"
   },
   {
    "duration": 51,
    "start_time": "2021-09-22T12:16:31.181Z"
   },
   {
    "duration": 24,
    "start_time": "2021-09-22T12:16:31.235Z"
   },
   {
    "duration": 14,
    "start_time": "2021-09-22T12:16:31.261Z"
   },
   {
    "duration": 44,
    "start_time": "2021-09-22T12:16:31.277Z"
   },
   {
    "duration": 14,
    "start_time": "2021-09-22T12:16:31.323Z"
   },
   {
    "duration": 37,
    "start_time": "2021-09-22T12:16:31.339Z"
   },
   {
    "duration": 40,
    "start_time": "2021-09-22T12:16:31.379Z"
   },
   {
    "duration": 30,
    "start_time": "2021-09-22T12:16:31.421Z"
   },
   {
    "duration": 7,
    "start_time": "2021-09-22T12:16:31.456Z"
   },
   {
    "duration": 56,
    "start_time": "2021-09-22T12:16:31.466Z"
   },
   {
    "duration": 27,
    "start_time": "2021-09-22T12:16:31.525Z"
   },
   {
    "duration": 43,
    "start_time": "2021-09-22T12:16:31.554Z"
   },
   {
    "duration": 35,
    "start_time": "2021-09-22T12:16:31.600Z"
   },
   {
    "duration": 52,
    "start_time": "2021-09-22T12:16:31.637Z"
   },
   {
    "duration": 33,
    "start_time": "2021-09-22T12:16:31.692Z"
   },
   {
    "duration": 18,
    "start_time": "2021-09-22T12:16:31.727Z"
   },
   {
    "duration": 19,
    "start_time": "2021-09-22T12:16:31.747Z"
   },
   {
    "duration": 48,
    "start_time": "2021-09-22T12:16:31.768Z"
   },
   {
    "duration": 1834,
    "start_time": "2021-09-22T12:16:31.819Z"
   },
   {
    "duration": 10,
    "start_time": "2021-09-22T12:16:33.655Z"
   },
   {
    "duration": 15,
    "start_time": "2021-09-22T12:16:33.667Z"
   },
   {
    "duration": 6,
    "start_time": "2021-09-22T12:16:33.684Z"
   },
   {
    "duration": 6,
    "start_time": "2021-09-22T12:16:33.692Z"
   },
   {
    "duration": 39,
    "start_time": "2021-09-22T12:16:33.717Z"
   },
   {
    "duration": 4,
    "start_time": "2021-09-22T12:16:33.759Z"
   },
   {
    "duration": 73,
    "start_time": "2021-09-22T12:16:33.765Z"
   },
   {
    "duration": 31,
    "start_time": "2021-09-22T12:16:33.840Z"
   },
   {
    "duration": 52,
    "start_time": "2021-09-22T12:16:33.873Z"
   },
   {
    "duration": 760,
    "start_time": "2021-09-22T12:16:33.927Z"
   },
   {
    "duration": 59,
    "start_time": "2021-09-22T12:16:34.691Z"
   },
   {
    "duration": 74,
    "start_time": "2021-09-22T12:16:34.753Z"
   },
   {
    "duration": 562,
    "start_time": "2021-09-22T12:16:34.830Z"
   },
   {
    "duration": 33,
    "start_time": "2021-09-22T12:16:35.395Z"
   },
   {
    "duration": 37,
    "start_time": "2021-09-22T12:16:35.430Z"
   },
   {
    "duration": 1356,
    "start_time": "2021-09-22T12:16:35.470Z"
   },
   {
    "duration": -98,
    "start_time": "2021-09-22T12:16:36.927Z"
   },
   {
    "duration": -102,
    "start_time": "2021-09-22T12:16:36.932Z"
   },
   {
    "duration": -103,
    "start_time": "2021-09-22T12:16:36.935Z"
   },
   {
    "duration": -102,
    "start_time": "2021-09-22T12:16:36.936Z"
   },
   {
    "duration": 1842,
    "start_time": "2021-09-22T12:39:27.959Z"
   },
   {
    "duration": 871,
    "start_time": "2021-09-22T12:41:02.077Z"
   },
   {
    "duration": 2529,
    "start_time": "2021-09-22T12:41:02.951Z"
   },
   {
    "duration": 41,
    "start_time": "2021-09-22T12:41:05.487Z"
   },
   {
    "duration": 12,
    "start_time": "2021-09-22T12:41:05.530Z"
   },
   {
    "duration": 13,
    "start_time": "2021-09-22T12:41:05.545Z"
   },
   {
    "duration": 19,
    "start_time": "2021-09-22T12:41:05.561Z"
   },
   {
    "duration": 82,
    "start_time": "2021-09-22T12:41:05.583Z"
   },
   {
    "duration": 24,
    "start_time": "2021-09-22T12:41:05.669Z"
   },
   {
    "duration": 31,
    "start_time": "2021-09-22T12:41:05.718Z"
   },
   {
    "duration": 16,
    "start_time": "2021-09-22T12:41:05.751Z"
   },
   {
    "duration": 50,
    "start_time": "2021-09-22T12:41:05.769Z"
   },
   {
    "duration": 16,
    "start_time": "2021-09-22T12:41:05.821Z"
   },
   {
    "duration": 22,
    "start_time": "2021-09-22T12:41:05.840Z"
   },
   {
    "duration": 68,
    "start_time": "2021-09-22T12:41:05.865Z"
   },
   {
    "duration": 40,
    "start_time": "2021-09-22T12:41:05.936Z"
   },
   {
    "duration": 23,
    "start_time": "2021-09-22T12:41:05.979Z"
   },
   {
    "duration": 14,
    "start_time": "2021-09-22T12:41:06.017Z"
   },
   {
    "duration": 12,
    "start_time": "2021-09-22T12:41:06.034Z"
   },
   {
    "duration": 14,
    "start_time": "2021-09-22T12:41:06.049Z"
   },
   {
    "duration": 64,
    "start_time": "2021-09-22T12:41:06.065Z"
   },
   {
    "duration": 14,
    "start_time": "2021-09-22T12:41:06.132Z"
   },
   {
    "duration": 39,
    "start_time": "2021-09-22T12:41:06.149Z"
   },
   {
    "duration": 34,
    "start_time": "2021-09-22T12:41:06.191Z"
   },
   {
    "duration": 30,
    "start_time": "2021-09-22T12:41:06.228Z"
   },
   {
    "duration": 62,
    "start_time": "2021-09-22T12:41:06.261Z"
   },
   {
    "duration": 27,
    "start_time": "2021-09-22T12:41:06.331Z"
   },
   {
    "duration": 58,
    "start_time": "2021-09-22T12:41:06.361Z"
   },
   {
    "duration": 56,
    "start_time": "2021-09-22T12:41:06.421Z"
   },
   {
    "duration": 40,
    "start_time": "2021-09-22T12:41:06.480Z"
   },
   {
    "duration": 19,
    "start_time": "2021-09-22T12:41:06.522Z"
   },
   {
    "duration": 18,
    "start_time": "2021-09-22T12:41:06.543Z"
   },
   {
    "duration": 1916,
    "start_time": "2021-09-22T12:41:06.563Z"
   },
   {
    "duration": 13,
    "start_time": "2021-09-22T12:41:08.482Z"
   },
   {
    "duration": 18,
    "start_time": "2021-09-22T12:41:08.498Z"
   },
   {
    "duration": 5,
    "start_time": "2021-09-22T12:41:08.519Z"
   },
   {
    "duration": 14,
    "start_time": "2021-09-22T12:41:08.527Z"
   },
   {
    "duration": 57,
    "start_time": "2021-09-22T12:41:08.543Z"
   },
   {
    "duration": 14,
    "start_time": "2021-09-22T12:41:08.603Z"
   },
   {
    "duration": 58,
    "start_time": "2021-09-22T12:41:08.619Z"
   },
   {
    "duration": 43,
    "start_time": "2021-09-22T12:41:08.679Z"
   },
   {
    "duration": 25,
    "start_time": "2021-09-22T12:41:08.725Z"
   },
   {
    "duration": 756,
    "start_time": "2021-09-22T12:41:08.753Z"
   },
   {
    "duration": 34,
    "start_time": "2021-09-22T12:41:09.512Z"
   },
   {
    "duration": 36,
    "start_time": "2021-09-22T12:41:09.548Z"
   },
   {
    "duration": 564,
    "start_time": "2021-09-22T12:41:09.586Z"
   },
   {
    "duration": 33,
    "start_time": "2021-09-22T12:41:10.154Z"
   },
   {
    "duration": 57,
    "start_time": "2021-09-22T12:41:10.190Z"
   },
   {
    "duration": 43,
    "start_time": "2021-09-22T12:41:10.249Z"
   },
   {
    "duration": 355,
    "start_time": "2021-09-22T12:41:10.294Z"
   },
   {
    "duration": 367,
    "start_time": "2021-09-22T12:41:10.652Z"
   },
   {
    "duration": 22,
    "start_time": "2021-09-22T12:41:11.021Z"
   },
   {
    "duration": 47,
    "start_time": "2021-09-22T12:41:11.045Z"
   },
   {
    "duration": 938,
    "start_time": "2021-09-22T12:41:48.518Z"
   },
   {
    "duration": 352,
    "start_time": "2021-09-22T12:41:49.459Z"
   },
   {
    "duration": 28,
    "start_time": "2021-09-22T12:41:49.814Z"
   },
   {
    "duration": 27,
    "start_time": "2021-09-22T12:41:49.844Z"
   },
   {
    "duration": 32,
    "start_time": "2021-09-22T12:41:49.873Z"
   },
   {
    "duration": 32,
    "start_time": "2021-09-22T12:41:49.908Z"
   },
   {
    "duration": 51,
    "start_time": "2021-09-22T12:41:49.942Z"
   },
   {
    "duration": 24,
    "start_time": "2021-09-22T12:41:49.997Z"
   },
   {
    "duration": 40,
    "start_time": "2021-09-22T12:41:50.024Z"
   },
   {
    "duration": 15,
    "start_time": "2021-09-22T12:41:50.067Z"
   },
   {
    "duration": 24,
    "start_time": "2021-09-22T12:41:50.084Z"
   },
   {
    "duration": 22,
    "start_time": "2021-09-22T12:41:50.117Z"
   },
   {
    "duration": 31,
    "start_time": "2021-09-22T12:41:50.142Z"
   },
   {
    "duration": 52,
    "start_time": "2021-09-22T12:41:50.176Z"
   },
   {
    "duration": 17,
    "start_time": "2021-09-22T12:41:50.230Z"
   },
   {
    "duration": 38,
    "start_time": "2021-09-22T12:41:50.249Z"
   },
   {
    "duration": 34,
    "start_time": "2021-09-22T12:41:50.290Z"
   },
   {
    "duration": 26,
    "start_time": "2021-09-22T12:41:50.327Z"
   },
   {
    "duration": 28,
    "start_time": "2021-09-22T12:41:50.355Z"
   },
   {
    "duration": 35,
    "start_time": "2021-09-22T12:41:50.386Z"
   },
   {
    "duration": 29,
    "start_time": "2021-09-22T12:41:50.424Z"
   },
   {
    "duration": 42,
    "start_time": "2021-09-22T12:41:50.457Z"
   },
   {
    "duration": 13,
    "start_time": "2021-09-22T12:41:50.506Z"
   },
   {
    "duration": 40,
    "start_time": "2021-09-22T12:41:50.524Z"
   },
   {
    "duration": 31,
    "start_time": "2021-09-22T12:41:50.567Z"
   },
   {
    "duration": 44,
    "start_time": "2021-09-22T12:41:50.601Z"
   },
   {
    "duration": 24,
    "start_time": "2021-09-22T12:41:50.647Z"
   },
   {
    "duration": 73,
    "start_time": "2021-09-22T12:41:50.673Z"
   },
   {
    "duration": 12,
    "start_time": "2021-09-22T12:41:50.748Z"
   },
   {
    "duration": 27,
    "start_time": "2021-09-22T12:41:50.763Z"
   },
   {
    "duration": 34,
    "start_time": "2021-09-22T12:41:50.792Z"
   },
   {
    "duration": 44,
    "start_time": "2021-09-22T12:41:50.828Z"
   },
   {
    "duration": 1753,
    "start_time": "2021-09-22T12:41:50.875Z"
   },
   {
    "duration": 13,
    "start_time": "2021-09-22T12:41:52.631Z"
   },
   {
    "duration": 7,
    "start_time": "2021-09-22T12:41:52.647Z"
   },
   {
    "duration": 9,
    "start_time": "2021-09-22T12:41:52.656Z"
   },
   {
    "duration": 7,
    "start_time": "2021-09-22T12:41:52.667Z"
   },
   {
    "duration": 68,
    "start_time": "2021-09-22T12:41:52.677Z"
   },
   {
    "duration": 4,
    "start_time": "2021-09-22T12:41:52.747Z"
   },
   {
    "duration": 68,
    "start_time": "2021-09-22T12:41:52.754Z"
   },
   {
    "duration": 30,
    "start_time": "2021-09-22T12:41:52.825Z"
   },
   {
    "duration": 23,
    "start_time": "2021-09-22T12:41:52.857Z"
   },
   {
    "duration": 764,
    "start_time": "2021-09-22T12:41:52.882Z"
   },
   {
    "duration": 35,
    "start_time": "2021-09-22T12:41:53.649Z"
   },
   {
    "duration": 58,
    "start_time": "2021-09-22T12:41:53.687Z"
   },
   {
    "duration": 533,
    "start_time": "2021-09-22T12:41:53.747Z"
   },
   {
    "duration": 43,
    "start_time": "2021-09-22T12:41:54.283Z"
   },
   {
    "duration": 38,
    "start_time": "2021-09-22T12:41:54.328Z"
   },
   {
    "duration": 63,
    "start_time": "2021-09-22T12:41:54.369Z"
   },
   {
    "duration": 374,
    "start_time": "2021-09-22T12:41:54.434Z"
   },
   {
    "duration": 408,
    "start_time": "2021-09-22T12:41:54.811Z"
   },
   {
    "duration": 26,
    "start_time": "2021-09-22T12:41:55.222Z"
   },
   {
    "duration": 70,
    "start_time": "2021-09-22T12:41:55.250Z"
   },
   {
    "duration": 906,
    "start_time": "2021-09-22T12:44:29.593Z"
   },
   {
    "duration": 355,
    "start_time": "2021-09-22T12:44:30.502Z"
   },
   {
    "duration": 26,
    "start_time": "2021-09-22T12:44:30.859Z"
   },
   {
    "duration": 23,
    "start_time": "2021-09-22T12:44:30.888Z"
   },
   {
    "duration": 25,
    "start_time": "2021-09-22T12:44:30.913Z"
   },
   {
    "duration": 26,
    "start_time": "2021-09-22T12:44:30.941Z"
   },
   {
    "duration": 56,
    "start_time": "2021-09-22T12:44:30.969Z"
   },
   {
    "duration": 24,
    "start_time": "2021-09-22T12:44:31.029Z"
   },
   {
    "duration": 50,
    "start_time": "2021-09-22T12:44:31.057Z"
   },
   {
    "duration": 19,
    "start_time": "2021-09-22T12:44:31.109Z"
   },
   {
    "duration": 21,
    "start_time": "2021-09-22T12:44:31.131Z"
   },
   {
    "duration": 34,
    "start_time": "2021-09-22T12:44:31.155Z"
   },
   {
    "duration": 40,
    "start_time": "2021-09-22T12:44:31.191Z"
   },
   {
    "duration": 60,
    "start_time": "2021-09-22T12:44:31.233Z"
   },
   {
    "duration": 24,
    "start_time": "2021-09-22T12:44:31.295Z"
   },
   {
    "duration": 44,
    "start_time": "2021-09-22T12:44:31.322Z"
   },
   {
    "duration": 26,
    "start_time": "2021-09-22T12:44:31.369Z"
   },
   {
    "duration": 17,
    "start_time": "2021-09-22T12:44:31.397Z"
   },
   {
    "duration": 22,
    "start_time": "2021-09-22T12:44:31.416Z"
   },
   {
    "duration": 34,
    "start_time": "2021-09-22T12:44:31.441Z"
   },
   {
    "duration": 30,
    "start_time": "2021-09-22T12:44:31.477Z"
   },
   {
    "duration": 39,
    "start_time": "2021-09-22T12:44:31.509Z"
   },
   {
    "duration": 7,
    "start_time": "2021-09-22T12:44:31.554Z"
   },
   {
    "duration": 40,
    "start_time": "2021-09-22T12:44:31.565Z"
   },
   {
    "duration": 36,
    "start_time": "2021-09-22T12:44:31.607Z"
   },
   {
    "duration": 44,
    "start_time": "2021-09-22T12:44:31.646Z"
   },
   {
    "duration": 36,
    "start_time": "2021-09-22T12:44:31.692Z"
   },
   {
    "duration": 59,
    "start_time": "2021-09-22T12:44:31.731Z"
   },
   {
    "duration": 33,
    "start_time": "2021-09-22T12:44:31.792Z"
   },
   {
    "duration": 44,
    "start_time": "2021-09-22T12:44:31.828Z"
   },
   {
    "duration": 20,
    "start_time": "2021-09-22T12:44:31.874Z"
   },
   {
    "duration": 1810,
    "start_time": "2021-09-22T12:44:31.897Z"
   },
   {
    "duration": 11,
    "start_time": "2021-09-22T12:44:33.717Z"
   },
   {
    "duration": 10,
    "start_time": "2021-09-22T12:44:33.730Z"
   },
   {
    "duration": 5,
    "start_time": "2021-09-22T12:44:33.742Z"
   },
   {
    "duration": 6,
    "start_time": "2021-09-22T12:44:33.749Z"
   },
   {
    "duration": 64,
    "start_time": "2021-09-22T12:44:33.757Z"
   },
   {
    "duration": 4,
    "start_time": "2021-09-22T12:44:33.823Z"
   },
   {
    "duration": 52,
    "start_time": "2021-09-22T12:44:33.829Z"
   },
   {
    "duration": 57,
    "start_time": "2021-09-22T12:44:33.884Z"
   },
   {
    "duration": 25,
    "start_time": "2021-09-22T12:44:33.944Z"
   },
   {
    "duration": 804,
    "start_time": "2021-09-22T12:44:33.972Z"
   },
   {
    "duration": 46,
    "start_time": "2021-09-22T12:44:34.780Z"
   },
   {
    "duration": 38,
    "start_time": "2021-09-22T12:44:34.829Z"
   },
   {
    "duration": 527,
    "start_time": "2021-09-22T12:44:34.869Z"
   },
   {
    "duration": 35,
    "start_time": "2021-09-22T12:44:35.398Z"
   },
   {
    "duration": 37,
    "start_time": "2021-09-22T12:44:35.436Z"
   },
   {
    "duration": 1695,
    "start_time": "2021-09-22T12:44:35.476Z"
   },
   {
    "duration": -83,
    "start_time": "2021-09-22T12:44:37.256Z"
   },
   {
    "duration": -86,
    "start_time": "2021-09-22T12:44:37.261Z"
   },
   {
    "duration": -88,
    "start_time": "2021-09-22T12:44:37.264Z"
   },
   {
    "duration": -87,
    "start_time": "2021-09-22T12:44:37.265Z"
   },
   {
    "duration": 17,
    "start_time": "2021-09-22T12:45:19.991Z"
   },
   {
    "duration": 53,
    "start_time": "2021-09-22T12:51:11.651Z"
   },
   {
    "duration": 13,
    "start_time": "2021-09-22T12:51:20.305Z"
   },
   {
    "duration": 12,
    "start_time": "2021-09-22T12:51:29.111Z"
   },
   {
    "duration": 9,
    "start_time": "2021-09-22T12:51:43.247Z"
   },
   {
    "duration": 909,
    "start_time": "2021-09-22T12:51:58.327Z"
   },
   {
    "duration": 330,
    "start_time": "2021-09-22T12:51:59.239Z"
   },
   {
    "duration": 28,
    "start_time": "2021-09-22T12:51:59.572Z"
   },
   {
    "duration": 10,
    "start_time": "2021-09-22T12:51:59.603Z"
   },
   {
    "duration": 17,
    "start_time": "2021-09-22T12:51:59.616Z"
   },
   {
    "duration": 15,
    "start_time": "2021-09-22T12:51:59.636Z"
   },
   {
    "duration": 64,
    "start_time": "2021-09-22T12:51:59.654Z"
   },
   {
    "duration": 26,
    "start_time": "2021-09-22T12:51:59.721Z"
   },
   {
    "duration": 29,
    "start_time": "2021-09-22T12:51:59.750Z"
   },
   {
    "duration": 48,
    "start_time": "2021-09-22T12:51:59.781Z"
   },
   {
    "duration": 13,
    "start_time": "2021-09-22T12:51:59.831Z"
   },
   {
    "duration": 17,
    "start_time": "2021-09-22T12:51:59.847Z"
   },
   {
    "duration": 56,
    "start_time": "2021-09-22T12:51:59.866Z"
   },
   {
    "duration": 33,
    "start_time": "2021-09-22T12:51:59.924Z"
   },
   {
    "duration": 22,
    "start_time": "2021-09-22T12:51:59.959Z"
   },
   {
    "duration": 51,
    "start_time": "2021-09-22T12:51:59.983Z"
   },
   {
    "duration": 16,
    "start_time": "2021-09-22T12:52:00.036Z"
   },
   {
    "duration": 24,
    "start_time": "2021-09-22T12:52:00.055Z"
   },
   {
    "duration": 39,
    "start_time": "2021-09-22T12:52:00.082Z"
   },
   {
    "duration": 24,
    "start_time": "2021-09-22T12:52:00.123Z"
   },
   {
    "duration": 27,
    "start_time": "2021-09-22T12:52:00.150Z"
   },
   {
    "duration": 59,
    "start_time": "2021-09-22T12:52:00.180Z"
   },
   {
    "duration": 9,
    "start_time": "2021-09-22T12:52:00.247Z"
   },
   {
    "duration": 42,
    "start_time": "2021-09-22T12:52:00.259Z"
   },
   {
    "duration": 27,
    "start_time": "2021-09-22T12:52:00.317Z"
   },
   {
    "duration": 44,
    "start_time": "2021-09-22T12:52:00.346Z"
   },
   {
    "duration": 37,
    "start_time": "2021-09-22T12:52:00.392Z"
   },
   {
    "duration": 57,
    "start_time": "2021-09-22T12:52:00.431Z"
   },
   {
    "duration": 35,
    "start_time": "2021-09-22T12:52:00.490Z"
   },
   {
    "duration": 44,
    "start_time": "2021-09-22T12:52:00.528Z"
   },
   {
    "duration": 37,
    "start_time": "2021-09-22T12:52:00.574Z"
   },
   {
    "duration": 28,
    "start_time": "2021-09-22T12:52:00.614Z"
   },
   {
    "duration": 1801,
    "start_time": "2021-09-22T12:52:00.645Z"
   },
   {
    "duration": 10,
    "start_time": "2021-09-22T12:52:02.449Z"
   },
   {
    "duration": 61,
    "start_time": "2021-09-22T12:52:02.462Z"
   },
   {
    "duration": 5,
    "start_time": "2021-09-22T12:52:02.526Z"
   },
   {
    "duration": 66,
    "start_time": "2021-09-22T12:52:02.534Z"
   },
   {
    "duration": 40,
    "start_time": "2021-09-22T12:52:02.602Z"
   },
   {
    "duration": 23,
    "start_time": "2021-09-22T12:52:02.644Z"
   },
   {
    "duration": 752,
    "start_time": "2021-09-22T12:52:02.670Z"
   },
   {
    "duration": 34,
    "start_time": "2021-09-22T12:52:03.425Z"
   },
   {
    "duration": 60,
    "start_time": "2021-09-22T12:52:03.462Z"
   },
   {
    "duration": 510,
    "start_time": "2021-09-22T12:52:03.524Z"
   },
   {
    "duration": 24,
    "start_time": "2021-09-22T12:52:04.037Z"
   },
   {
    "duration": 64,
    "start_time": "2021-09-22T12:52:04.064Z"
   },
   {
    "duration": 1965,
    "start_time": "2021-09-22T12:52:04.131Z"
   },
   {
    "duration": -90,
    "start_time": "2021-09-22T12:52:06.189Z"
   },
   {
    "duration": -92,
    "start_time": "2021-09-22T12:52:06.193Z"
   },
   {
    "duration": -94,
    "start_time": "2021-09-22T12:52:06.196Z"
   },
   {
    "duration": -94,
    "start_time": "2021-09-22T12:52:06.198Z"
   },
   {
    "duration": 1862,
    "start_time": "2021-09-22T12:52:30.480Z"
   },
   {
    "duration": 1823,
    "start_time": "2021-09-22T12:52:44.943Z"
   },
   {
    "duration": 27,
    "start_time": "2021-09-22T13:05:25.112Z"
   },
   {
    "duration": 29,
    "start_time": "2021-09-22T13:10:49.725Z"
   },
   {
    "duration": 6033,
    "start_time": "2021-09-22T13:13:10.941Z"
   },
   {
    "duration": 1587,
    "start_time": "2021-09-22T13:13:29.869Z"
   },
   {
    "duration": 1632,
    "start_time": "2021-09-22T13:13:45.796Z"
   },
   {
    "duration": 50,
    "start_time": "2021-09-22T13:14:21.811Z"
   },
   {
    "duration": 2694,
    "start_time": "2021-09-22T13:30:46.308Z"
   },
   {
    "duration": 813,
    "start_time": "2021-09-22T13:41:18.251Z"
   },
   {
    "duration": 364,
    "start_time": "2021-09-22T13:41:19.067Z"
   },
   {
    "duration": 29,
    "start_time": "2021-09-22T13:41:19.437Z"
   },
   {
    "duration": 13,
    "start_time": "2021-09-22T13:41:19.469Z"
   },
   {
    "duration": 31,
    "start_time": "2021-09-22T13:41:19.485Z"
   },
   {
    "duration": 20,
    "start_time": "2021-09-22T13:41:19.518Z"
   },
   {
    "duration": 79,
    "start_time": "2021-09-22T13:41:19.544Z"
   },
   {
    "duration": 25,
    "start_time": "2021-09-22T13:41:19.626Z"
   },
   {
    "duration": 38,
    "start_time": "2021-09-22T13:41:19.654Z"
   },
   {
    "duration": 17,
    "start_time": "2021-09-22T13:41:19.716Z"
   },
   {
    "duration": 16,
    "start_time": "2021-09-22T13:41:19.736Z"
   },
   {
    "duration": 21,
    "start_time": "2021-09-22T13:41:19.755Z"
   },
   {
    "duration": 56,
    "start_time": "2021-09-22T13:41:19.778Z"
   },
   {
    "duration": 45,
    "start_time": "2021-09-22T13:41:19.837Z"
   },
   {
    "duration": 58,
    "start_time": "2021-09-22T13:41:19.885Z"
   },
   {
    "duration": 34,
    "start_time": "2021-09-22T13:41:19.946Z"
   },
   {
    "duration": 43,
    "start_time": "2021-09-22T13:41:19.983Z"
   },
   {
    "duration": 12,
    "start_time": "2021-09-22T13:41:20.029Z"
   },
   {
    "duration": 17,
    "start_time": "2021-09-22T13:41:20.044Z"
   },
   {
    "duration": 58,
    "start_time": "2021-09-22T13:41:20.064Z"
   },
   {
    "duration": 20,
    "start_time": "2021-09-22T13:41:20.125Z"
   },
   {
    "duration": 30,
    "start_time": "2021-09-22T13:41:20.150Z"
   },
   {
    "duration": 36,
    "start_time": "2021-09-22T13:41:20.182Z"
   },
   {
    "duration": 31,
    "start_time": "2021-09-22T13:41:20.221Z"
   },
   {
    "duration": 26,
    "start_time": "2021-09-22T13:41:20.254Z"
   },
   {
    "duration": 51,
    "start_time": "2021-09-22T13:41:20.283Z"
   },
   {
    "duration": 24,
    "start_time": "2021-09-22T13:41:20.337Z"
   },
   {
    "duration": 87,
    "start_time": "2021-09-22T13:41:20.364Z"
   },
   {
    "duration": 12,
    "start_time": "2021-09-22T13:41:20.453Z"
   },
   {
    "duration": 49,
    "start_time": "2021-09-22T13:41:20.467Z"
   },
   {
    "duration": 11,
    "start_time": "2021-09-22T13:41:20.519Z"
   },
   {
    "duration": 21,
    "start_time": "2021-09-22T13:41:20.533Z"
   },
   {
    "duration": 1844,
    "start_time": "2021-09-22T13:41:20.557Z"
   },
   {
    "duration": 37,
    "start_time": "2021-09-22T13:41:22.404Z"
   },
   {
    "duration": 6,
    "start_time": "2021-09-22T13:41:22.445Z"
   },
   {
    "duration": 80,
    "start_time": "2021-09-22T13:41:22.454Z"
   },
   {
    "duration": 10588,
    "start_time": "2021-09-22T13:41:22.537Z"
   },
   {
    "duration": -89,
    "start_time": "2021-09-22T13:41:33.216Z"
   },
   {
    "duration": -91,
    "start_time": "2021-09-22T13:41:33.220Z"
   },
   {
    "duration": -95,
    "start_time": "2021-09-22T13:41:33.225Z"
   },
   {
    "duration": -96,
    "start_time": "2021-09-22T13:41:33.227Z"
   },
   {
    "duration": -96,
    "start_time": "2021-09-22T13:41:33.229Z"
   },
   {
    "duration": -99,
    "start_time": "2021-09-22T13:41:33.233Z"
   },
   {
    "duration": -101,
    "start_time": "2021-09-22T13:41:33.236Z"
   },
   {
    "duration": -101,
    "start_time": "2021-09-22T13:41:33.238Z"
   },
   {
    "duration": -102,
    "start_time": "2021-09-22T13:41:33.240Z"
   },
   {
    "duration": -102,
    "start_time": "2021-09-22T13:41:33.242Z"
   },
   {
    "duration": -102,
    "start_time": "2021-09-22T13:41:33.244Z"
   },
   {
    "duration": -109,
    "start_time": "2021-09-22T13:41:33.252Z"
   },
   {
    "duration": 1660,
    "start_time": "2021-09-22T13:41:42.580Z"
   },
   {
    "duration": 1611,
    "start_time": "2021-09-22T13:42:04.341Z"
   },
   {
    "duration": 32,
    "start_time": "2021-09-22T18:50:39.820Z"
   },
   {
    "duration": 914,
    "start_time": "2021-09-22T18:51:00.441Z"
   },
   {
    "duration": 46,
    "start_time": "2021-09-22T18:51:20.461Z"
   },
   {
    "duration": 35,
    "start_time": "2021-09-22T18:52:37.556Z"
   },
   {
    "duration": 34,
    "start_time": "2021-09-22T18:52:45.370Z"
   },
   {
    "duration": 343,
    "start_time": "2021-09-22T18:52:54.631Z"
   },
   {
    "duration": 43,
    "start_time": "2021-09-22T18:53:39.208Z"
   },
   {
    "duration": 481,
    "start_time": "2021-09-22T18:53:40.404Z"
   },
   {
    "duration": 397,
    "start_time": "2021-09-22T18:55:48.466Z"
   },
   {
    "duration": 459,
    "start_time": "2021-09-22T18:56:12.669Z"
   },
   {
    "duration": 705,
    "start_time": "2021-09-22T19:06:22.144Z"
   },
   {
    "duration": 426,
    "start_time": "2021-09-22T19:06:32.240Z"
   },
   {
    "duration": 916,
    "start_time": "2021-09-22T19:06:50.648Z"
   },
   {
    "duration": 906,
    "start_time": "2021-09-22T19:07:05.433Z"
   },
   {
    "duration": 451,
    "start_time": "2021-09-22T19:07:24.702Z"
   },
   {
    "duration": 32,
    "start_time": "2021-09-22T19:08:21.991Z"
   },
   {
    "duration": 33,
    "start_time": "2021-09-22T19:08:35.858Z"
   },
   {
    "duration": 432,
    "start_time": "2021-09-22T19:09:13.728Z"
   },
   {
    "duration": 426,
    "start_time": "2021-09-22T19:09:23.300Z"
   },
   {
    "duration": 415,
    "start_time": "2021-09-22T19:09:36.894Z"
   },
   {
    "duration": 26,
    "start_time": "2021-09-22T19:12:09.760Z"
   },
   {
    "duration": 26,
    "start_time": "2021-09-22T19:19:41.815Z"
   },
   {
    "duration": 364,
    "start_time": "2021-09-22T19:19:47.792Z"
   },
   {
    "duration": 25,
    "start_time": "2021-09-22T19:20:06.419Z"
   },
   {
    "duration": 8,
    "start_time": "2021-09-22T19:20:10.598Z"
   },
   {
    "duration": 127,
    "start_time": "2021-09-22T19:21:04.756Z"
   },
   {
    "duration": 40,
    "start_time": "2021-09-22T19:21:25.736Z"
   },
   {
    "duration": 667,
    "start_time": "2021-09-22T19:21:31.802Z"
   },
   {
    "duration": 413,
    "start_time": "2021-09-22T19:25:47.600Z"
   },
   {
    "duration": 6,
    "start_time": "2021-09-22T19:25:56.410Z"
   },
   {
    "duration": 663,
    "start_time": "2021-09-22T19:25:57.390Z"
   },
   {
    "duration": 43,
    "start_time": "2021-09-22T19:26:34.885Z"
   },
   {
    "duration": 6,
    "start_time": "2021-09-22T19:26:37.970Z"
   },
   {
    "duration": 580,
    "start_time": "2021-09-22T19:26:38.695Z"
   },
   {
    "duration": 5,
    "start_time": "2021-09-22T19:30:00.574Z"
   },
   {
    "duration": 411,
    "start_time": "2021-09-22T19:30:01.499Z"
   },
   {
    "duration": 482,
    "start_time": "2021-09-22T19:31:06.045Z"
   },
   {
    "duration": 24,
    "start_time": "2021-09-22T20:22:05.779Z"
   },
   {
    "duration": 903,
    "start_time": "2021-09-22T20:27:18.686Z"
   },
   {
    "duration": 399,
    "start_time": "2021-09-22T20:27:19.592Z"
   },
   {
    "duration": 27,
    "start_time": "2021-09-22T20:27:19.994Z"
   },
   {
    "duration": 10,
    "start_time": "2021-09-22T20:27:20.023Z"
   },
   {
    "duration": 17,
    "start_time": "2021-09-22T20:27:20.035Z"
   },
   {
    "duration": 21,
    "start_time": "2021-09-22T20:27:20.055Z"
   },
   {
    "duration": 77,
    "start_time": "2021-09-22T20:27:20.078Z"
   },
   {
    "duration": 24,
    "start_time": "2021-09-22T20:27:20.158Z"
   },
   {
    "duration": 53,
    "start_time": "2021-09-22T20:27:20.185Z"
   },
   {
    "duration": 13,
    "start_time": "2021-09-22T20:27:20.240Z"
   },
   {
    "duration": 11,
    "start_time": "2021-09-22T20:27:20.256Z"
   },
   {
    "duration": 58,
    "start_time": "2021-09-22T20:27:20.269Z"
   },
   {
    "duration": 22,
    "start_time": "2021-09-22T20:27:20.329Z"
   },
   {
    "duration": 68,
    "start_time": "2021-09-22T20:27:20.353Z"
   },
   {
    "duration": 17,
    "start_time": "2021-09-22T20:27:20.424Z"
   },
   {
    "duration": 23,
    "start_time": "2021-09-22T20:27:20.444Z"
   },
   {
    "duration": 55,
    "start_time": "2021-09-22T20:27:20.470Z"
   },
   {
    "duration": 12,
    "start_time": "2021-09-22T20:27:20.527Z"
   },
   {
    "duration": 15,
    "start_time": "2021-09-22T20:27:20.542Z"
   },
   {
    "duration": 60,
    "start_time": "2021-09-22T20:27:20.559Z"
   },
   {
    "duration": 15,
    "start_time": "2021-09-22T20:27:20.622Z"
   },
   {
    "duration": 31,
    "start_time": "2021-09-22T20:27:20.640Z"
   },
   {
    "duration": 8,
    "start_time": "2021-09-22T20:27:20.720Z"
   },
   {
    "duration": 30,
    "start_time": "2021-09-22T20:27:20.732Z"
   },
   {
    "duration": 70,
    "start_time": "2021-09-22T20:27:20.766Z"
   },
   {
    "duration": 27,
    "start_time": "2021-09-22T20:27:20.838Z"
   },
   {
    "duration": 59,
    "start_time": "2021-09-22T20:27:20.868Z"
   },
   {
    "duration": 60,
    "start_time": "2021-09-22T20:27:20.929Z"
   },
   {
    "duration": 14,
    "start_time": "2021-09-22T20:27:21.015Z"
   },
   {
    "duration": 29,
    "start_time": "2021-09-22T20:27:21.032Z"
   },
   {
    "duration": 18,
    "start_time": "2021-09-22T20:27:21.064Z"
   },
   {
    "duration": 44,
    "start_time": "2021-09-22T20:27:21.084Z"
   },
   {
    "duration": 1764,
    "start_time": "2021-09-22T20:27:21.130Z"
   },
   {
    "duration": 39,
    "start_time": "2021-09-22T20:27:22.896Z"
   },
   {
    "duration": 4,
    "start_time": "2021-09-22T20:27:22.937Z"
   },
   {
    "duration": 75,
    "start_time": "2021-09-22T20:27:22.944Z"
   },
   {
    "duration": 1606,
    "start_time": "2021-09-22T20:27:23.022Z"
   },
   {
    "duration": 25,
    "start_time": "2021-09-22T20:27:24.630Z"
   },
   {
    "duration": 722,
    "start_time": "2021-09-22T20:27:24.657Z"
   },
   {
    "duration": 47,
    "start_time": "2021-09-22T20:27:25.382Z"
   },
   {
    "duration": 5,
    "start_time": "2021-09-22T20:27:25.431Z"
   },
   {
    "duration": 448,
    "start_time": "2021-09-22T20:27:25.439Z"
   },
   {
    "duration": 50,
    "start_time": "2021-09-22T20:27:25.889Z"
   },
   {
    "duration": 501,
    "start_time": "2021-09-22T20:27:25.942Z"
   },
   {
    "duration": 24,
    "start_time": "2021-09-22T20:27:26.445Z"
   },
   {
    "duration": 66,
    "start_time": "2021-09-22T20:27:26.471Z"
   },
   {
    "duration": 37,
    "start_time": "2021-09-22T20:27:26.540Z"
   },
   {
    "duration": 386,
    "start_time": "2021-09-22T20:27:26.579Z"
   },
   {
    "duration": 367,
    "start_time": "2021-09-22T20:27:26.968Z"
   },
   {
    "duration": 22,
    "start_time": "2021-09-22T20:27:27.338Z"
   },
   {
    "duration": 69,
    "start_time": "2021-09-22T20:27:27.362Z"
   },
   {
    "duration": 804,
    "start_time": "2021-09-22T20:44:55.181Z"
   },
   {
    "duration": 365,
    "start_time": "2021-09-22T20:46:07.256Z"
   },
   {
    "duration": 704,
    "start_time": "2021-09-22T20:46:31.377Z"
   },
   {
    "duration": 719,
    "start_time": "2021-09-22T20:46:36.938Z"
   },
   {
    "duration": 736,
    "start_time": "2021-09-22T20:48:01.822Z"
   },
   {
    "duration": 377,
    "start_time": "2021-09-22T20:48:08.705Z"
   },
   {
    "duration": 391,
    "start_time": "2021-09-22T20:48:46.225Z"
   },
   {
    "duration": 401,
    "start_time": "2021-09-22T20:49:38.323Z"
   },
   {
    "duration": 419,
    "start_time": "2021-09-22T20:49:53.322Z"
   },
   {
    "duration": 819,
    "start_time": "2021-09-22T20:55:33.639Z"
   },
   {
    "duration": 40,
    "start_time": "2021-09-22T20:57:00.263Z"
   },
   {
    "duration": 602,
    "start_time": "2021-09-22T20:57:43.546Z"
   },
   {
    "duration": 768,
    "start_time": "2021-09-22T20:58:33.128Z"
   },
   {
    "duration": 602,
    "start_time": "2021-09-22T21:00:48.501Z"
   },
   {
    "duration": 1738,
    "start_time": "2021-09-22T21:01:32.897Z"
   },
   {
    "duration": 98,
    "start_time": "2021-09-22T21:02:51.839Z"
   },
   {
    "duration": 625,
    "start_time": "2021-09-22T21:02:58.714Z"
   },
   {
    "duration": 6,
    "start_time": "2021-09-22T21:04:03.778Z"
   },
   {
    "duration": 7,
    "start_time": "2021-09-22T21:04:11.570Z"
   },
   {
    "duration": 600,
    "start_time": "2021-09-22T21:04:53.978Z"
   },
   {
    "duration": 4,
    "start_time": "2021-09-22T21:04:59.396Z"
   },
   {
    "duration": 992,
    "start_time": "2021-09-22T21:05:31.989Z"
   },
   {
    "duration": 326,
    "start_time": "2021-09-22T21:05:32.983Z"
   },
   {
    "duration": 27,
    "start_time": "2021-09-22T21:05:33.315Z"
   },
   {
    "duration": 20,
    "start_time": "2021-09-22T21:05:33.344Z"
   },
   {
    "duration": 18,
    "start_time": "2021-09-22T21:05:33.367Z"
   },
   {
    "duration": 37,
    "start_time": "2021-09-22T21:05:33.387Z"
   },
   {
    "duration": 41,
    "start_time": "2021-09-22T21:05:33.428Z"
   },
   {
    "duration": 55,
    "start_time": "2021-09-22T21:05:33.472Z"
   },
   {
    "duration": 29,
    "start_time": "2021-09-22T21:05:33.529Z"
   },
   {
    "duration": 56,
    "start_time": "2021-09-22T21:05:33.560Z"
   },
   {
    "duration": 13,
    "start_time": "2021-09-22T21:05:33.619Z"
   },
   {
    "duration": 20,
    "start_time": "2021-09-22T21:05:33.634Z"
   },
   {
    "duration": 74,
    "start_time": "2021-09-22T21:05:33.657Z"
   },
   {
    "duration": 31,
    "start_time": "2021-09-22T21:05:33.733Z"
   },
   {
    "duration": 52,
    "start_time": "2021-09-22T21:05:33.766Z"
   },
   {
    "duration": 23,
    "start_time": "2021-09-22T21:05:33.821Z"
   },
   {
    "duration": 14,
    "start_time": "2021-09-22T21:05:33.846Z"
   },
   {
    "duration": 54,
    "start_time": "2021-09-22T21:05:33.863Z"
   },
   {
    "duration": 13,
    "start_time": "2021-09-22T21:05:33.920Z"
   },
   {
    "duration": 22,
    "start_time": "2021-09-22T21:05:33.936Z"
   },
   {
    "duration": 55,
    "start_time": "2021-09-22T21:05:33.961Z"
   },
   {
    "duration": 32,
    "start_time": "2021-09-22T21:05:34.022Z"
   },
   {
    "duration": 7,
    "start_time": "2021-09-22T21:05:34.057Z"
   },
   {
    "duration": 63,
    "start_time": "2021-09-22T21:05:34.067Z"
   },
   {
    "duration": 26,
    "start_time": "2021-09-22T21:05:34.133Z"
   },
   {
    "duration": 56,
    "start_time": "2021-09-22T21:05:34.161Z"
   },
   {
    "duration": 24,
    "start_time": "2021-09-22T21:05:34.219Z"
   },
   {
    "duration": 84,
    "start_time": "2021-09-22T21:05:34.245Z"
   },
   {
    "duration": 12,
    "start_time": "2021-09-22T21:05:34.331Z"
   },
   {
    "duration": 19,
    "start_time": "2021-09-22T21:05:34.345Z"
   },
   {
    "duration": 52,
    "start_time": "2021-09-22T21:05:34.367Z"
   },
   {
    "duration": 11,
    "start_time": "2021-09-22T21:05:34.421Z"
   },
   {
    "duration": 1741,
    "start_time": "2021-09-22T21:05:34.434Z"
   },
   {
    "duration": 41,
    "start_time": "2021-09-22T21:05:36.177Z"
   },
   {
    "duration": 4,
    "start_time": "2021-09-22T21:05:36.220Z"
   },
   {
    "duration": 50,
    "start_time": "2021-09-22T21:05:36.226Z"
   },
   {
    "duration": 1574,
    "start_time": "2021-09-22T21:05:36.278Z"
   },
   {
    "duration": 24,
    "start_time": "2021-09-22T21:05:37.855Z"
   },
   {
    "duration": 725,
    "start_time": "2021-09-22T21:05:37.881Z"
   },
   {
    "duration": 36,
    "start_time": "2021-09-22T21:05:38.617Z"
   },
   {
    "duration": 5,
    "start_time": "2021-09-22T21:05:38.656Z"
   },
   {
    "duration": 458,
    "start_time": "2021-09-22T21:05:38.664Z"
   },
   {
    "duration": 36,
    "start_time": "2021-09-22T21:05:39.124Z"
   },
   {
    "duration": 565,
    "start_time": "2021-09-22T21:05:39.162Z"
   },
   {
    "duration": 29,
    "start_time": "2021-09-22T21:05:39.730Z"
   },
   {
    "duration": 66,
    "start_time": "2021-09-22T21:05:39.761Z"
   },
   {
    "duration": 38,
    "start_time": "2021-09-22T21:05:39.829Z"
   },
   {
    "duration": 396,
    "start_time": "2021-09-22T21:05:39.869Z"
   },
   {
    "duration": 385,
    "start_time": "2021-09-22T21:05:40.268Z"
   },
   {
    "duration": 22,
    "start_time": "2021-09-22T21:05:40.655Z"
   },
   {
    "duration": 69,
    "start_time": "2021-09-22T21:05:40.679Z"
   },
   {
    "duration": 5,
    "start_time": "2021-09-22T21:05:40.751Z"
   },
   {
    "duration": 893,
    "start_time": "2021-09-22T21:06:21.619Z"
   },
   {
    "duration": 317,
    "start_time": "2021-09-22T21:06:22.515Z"
   },
   {
    "duration": 27,
    "start_time": "2021-09-22T21:06:22.835Z"
   },
   {
    "duration": 10,
    "start_time": "2021-09-22T21:06:22.865Z"
   },
   {
    "duration": 14,
    "start_time": "2021-09-22T21:06:22.878Z"
   },
   {
    "duration": 19,
    "start_time": "2021-09-22T21:06:22.916Z"
   },
   {
    "duration": 82,
    "start_time": "2021-09-22T21:06:22.938Z"
   },
   {
    "duration": 25,
    "start_time": "2021-09-22T21:06:23.025Z"
   },
   {
    "duration": 75,
    "start_time": "2021-09-22T21:06:23.054Z"
   },
   {
    "duration": 18,
    "start_time": "2021-09-22T21:06:23.132Z"
   },
   {
    "duration": 16,
    "start_time": "2021-09-22T21:06:23.152Z"
   },
   {
    "duration": 58,
    "start_time": "2021-09-22T21:06:23.172Z"
   },
   {
    "duration": 25,
    "start_time": "2021-09-22T21:06:23.233Z"
   },
   {
    "duration": 76,
    "start_time": "2021-09-22T21:06:23.261Z"
   },
   {
    "duration": 23,
    "start_time": "2021-09-22T21:06:23.341Z"
   },
   {
    "duration": 73,
    "start_time": "2021-09-22T21:06:23.367Z"
   },
   {
    "duration": 19,
    "start_time": "2021-09-22T21:06:23.444Z"
   },
   {
    "duration": 57,
    "start_time": "2021-09-22T21:06:23.466Z"
   },
   {
    "duration": 16,
    "start_time": "2021-09-22T21:06:23.527Z"
   },
   {
    "duration": 24,
    "start_time": "2021-09-22T21:06:23.546Z"
   },
   {
    "duration": 56,
    "start_time": "2021-09-22T21:06:23.573Z"
   },
   {
    "duration": 29,
    "start_time": "2021-09-22T21:06:23.632Z"
   },
   {
    "duration": 52,
    "start_time": "2021-09-22T21:06:23.666Z"
   },
   {
    "duration": 28,
    "start_time": "2021-09-22T21:06:23.721Z"
   },
   {
    "duration": 28,
    "start_time": "2021-09-22T21:06:23.751Z"
   },
   {
    "duration": 25,
    "start_time": "2021-09-22T21:06:23.816Z"
   },
   {
    "duration": 24,
    "start_time": "2021-09-22T21:06:23.843Z"
   },
   {
    "duration": 86,
    "start_time": "2021-09-22T21:06:23.869Z"
   },
   {
    "duration": 12,
    "start_time": "2021-09-22T21:06:23.957Z"
   },
   {
    "duration": 51,
    "start_time": "2021-09-22T21:06:23.971Z"
   },
   {
    "duration": 11,
    "start_time": "2021-09-22T21:06:24.025Z"
   },
   {
    "duration": 10,
    "start_time": "2021-09-22T21:06:24.039Z"
   },
   {
    "duration": 1914,
    "start_time": "2021-09-22T21:06:24.052Z"
   },
   {
    "duration": 25,
    "start_time": "2021-09-22T21:06:25.969Z"
   },
   {
    "duration": 21,
    "start_time": "2021-09-22T21:06:25.996Z"
   },
   {
    "duration": 54,
    "start_time": "2021-09-22T21:06:26.019Z"
   },
   {
    "duration": 1614,
    "start_time": "2021-09-22T21:06:26.076Z"
   },
   {
    "duration": 37,
    "start_time": "2021-09-22T21:06:27.692Z"
   },
   {
    "duration": 692,
    "start_time": "2021-09-22T21:06:27.732Z"
   },
   {
    "duration": 37,
    "start_time": "2021-09-22T21:06:28.427Z"
   },
   {
    "duration": 15,
    "start_time": "2021-09-22T21:06:28.466Z"
   },
   {
    "duration": 432,
    "start_time": "2021-09-22T21:06:28.484Z"
   },
   {
    "duration": 36,
    "start_time": "2021-09-22T21:06:28.919Z"
   },
   {
    "duration": 501,
    "start_time": "2021-09-22T21:06:28.957Z"
   },
   {
    "duration": 24,
    "start_time": "2021-09-22T21:06:29.461Z"
   },
   {
    "duration": 61,
    "start_time": "2021-09-22T21:06:29.488Z"
   },
   {
    "duration": 84,
    "start_time": "2021-09-22T21:06:29.551Z"
   },
   {
    "duration": 482,
    "start_time": "2021-09-22T21:06:29.637Z"
   },
   {
    "duration": 395,
    "start_time": "2021-09-22T21:06:30.121Z"
   },
   {
    "duration": 23,
    "start_time": "2021-09-22T21:06:30.519Z"
   },
   {
    "duration": 40,
    "start_time": "2021-09-22T21:06:30.545Z"
   },
   {
    "duration": 6,
    "start_time": "2021-09-22T21:06:30.617Z"
   },
   {
    "duration": 885,
    "start_time": "2021-09-22T21:07:28.797Z"
   },
   {
    "duration": 334,
    "start_time": "2021-09-22T21:07:29.684Z"
   },
   {
    "duration": 29,
    "start_time": "2021-09-22T21:07:30.022Z"
   },
   {
    "duration": 10,
    "start_time": "2021-09-22T21:07:30.053Z"
   },
   {
    "duration": 50,
    "start_time": "2021-09-22T21:07:30.066Z"
   },
   {
    "duration": 15,
    "start_time": "2021-09-22T21:07:30.119Z"
   },
   {
    "duration": 43,
    "start_time": "2021-09-22T21:07:30.137Z"
   },
   {
    "duration": 26,
    "start_time": "2021-09-22T21:07:30.216Z"
   },
   {
    "duration": 27,
    "start_time": "2021-09-22T21:07:30.246Z"
   },
   {
    "duration": 52,
    "start_time": "2021-09-22T21:07:30.276Z"
   },
   {
    "duration": 17,
    "start_time": "2021-09-22T21:07:30.331Z"
   },
   {
    "duration": 33,
    "start_time": "2021-09-22T21:07:30.351Z"
   },
   {
    "duration": 46,
    "start_time": "2021-09-22T21:07:30.386Z"
   },
   {
    "duration": 50,
    "start_time": "2021-09-22T21:07:30.434Z"
   },
   {
    "duration": 52,
    "start_time": "2021-09-22T21:07:30.487Z"
   },
   {
    "duration": 24,
    "start_time": "2021-09-22T21:07:30.542Z"
   },
   {
    "duration": 22,
    "start_time": "2021-09-22T21:07:30.568Z"
   },
   {
    "duration": 33,
    "start_time": "2021-09-22T21:07:30.593Z"
   },
   {
    "duration": 29,
    "start_time": "2021-09-22T21:07:30.629Z"
   },
   {
    "duration": 41,
    "start_time": "2021-09-22T21:07:30.661Z"
   },
   {
    "duration": 28,
    "start_time": "2021-09-22T21:07:30.704Z"
   },
   {
    "duration": 35,
    "start_time": "2021-09-22T21:07:30.735Z"
   },
   {
    "duration": 8,
    "start_time": "2021-09-22T21:07:30.776Z"
   },
   {
    "duration": 57,
    "start_time": "2021-09-22T21:07:30.787Z"
   },
   {
    "duration": 36,
    "start_time": "2021-09-22T21:07:30.847Z"
   },
   {
    "duration": 51,
    "start_time": "2021-09-22T21:07:30.885Z"
   },
   {
    "duration": 30,
    "start_time": "2021-09-22T21:07:30.939Z"
   },
   {
    "duration": 95,
    "start_time": "2021-09-22T21:07:30.972Z"
   },
   {
    "duration": 48,
    "start_time": "2021-09-22T21:07:31.070Z"
   },
   {
    "duration": 20,
    "start_time": "2021-09-22T21:07:31.121Z"
   },
   {
    "duration": 18,
    "start_time": "2021-09-22T21:07:31.143Z"
   },
   {
    "duration": 12,
    "start_time": "2021-09-22T21:07:31.164Z"
   },
   {
    "duration": 2073,
    "start_time": "2021-09-22T21:07:31.216Z"
   },
   {
    "duration": 37,
    "start_time": "2021-09-22T21:07:33.292Z"
   },
   {
    "duration": 5,
    "start_time": "2021-09-22T21:07:33.331Z"
   },
   {
    "duration": 55,
    "start_time": "2021-09-22T21:07:33.338Z"
   },
   {
    "duration": 1700,
    "start_time": "2021-09-22T21:07:33.417Z"
   },
   {
    "duration": 24,
    "start_time": "2021-09-22T21:07:35.120Z"
   },
   {
    "duration": 716,
    "start_time": "2021-09-22T21:07:35.147Z"
   },
   {
    "duration": 58,
    "start_time": "2021-09-22T21:07:35.866Z"
   },
   {
    "duration": 4,
    "start_time": "2021-09-22T21:07:35.926Z"
   },
   {
    "duration": 436,
    "start_time": "2021-09-22T21:07:35.932Z"
   },
   {
    "duration": 54,
    "start_time": "2021-09-22T21:07:36.370Z"
   },
   {
    "duration": 495,
    "start_time": "2021-09-22T21:07:36.426Z"
   },
   {
    "duration": 23,
    "start_time": "2021-09-22T21:07:36.923Z"
   },
   {
    "duration": 67,
    "start_time": "2021-09-22T21:07:36.949Z"
   },
   {
    "duration": 36,
    "start_time": "2021-09-22T21:07:37.018Z"
   },
   {
    "duration": 381,
    "start_time": "2021-09-22T21:07:37.057Z"
   },
   {
    "duration": 398,
    "start_time": "2021-09-22T21:07:37.441Z"
   },
   {
    "duration": 27,
    "start_time": "2021-09-22T21:07:37.843Z"
   },
   {
    "duration": 76,
    "start_time": "2021-09-22T21:07:37.873Z"
   },
   {
    "duration": 7,
    "start_time": "2021-09-22T21:07:37.952Z"
   },
   {
    "duration": 901,
    "start_time": "2021-09-22T21:08:20.207Z"
   },
   {
    "duration": 323,
    "start_time": "2021-09-22T21:08:21.111Z"
   },
   {
    "duration": 27,
    "start_time": "2021-09-22T21:08:21.437Z"
   },
   {
    "duration": 9,
    "start_time": "2021-09-22T21:08:21.467Z"
   },
   {
    "duration": 11,
    "start_time": "2021-09-22T21:08:21.479Z"
   },
   {
    "duration": 16,
    "start_time": "2021-09-22T21:08:21.517Z"
   },
   {
    "duration": 50,
    "start_time": "2021-09-22T21:08:21.536Z"
   },
   {
    "duration": 49,
    "start_time": "2021-09-22T21:08:21.590Z"
   },
   {
    "duration": 27,
    "start_time": "2021-09-22T21:08:21.642Z"
   },
   {
    "duration": 56,
    "start_time": "2021-09-22T21:08:21.671Z"
   },
   {
    "duration": 14,
    "start_time": "2021-09-22T21:08:21.729Z"
   },
   {
    "duration": 17,
    "start_time": "2021-09-22T21:08:21.745Z"
   },
   {
    "duration": 68,
    "start_time": "2021-09-22T21:08:21.765Z"
   },
   {
    "duration": 34,
    "start_time": "2021-09-22T21:08:21.835Z"
   },
   {
    "duration": 54,
    "start_time": "2021-09-22T21:08:21.871Z"
   },
   {
    "duration": 24,
    "start_time": "2021-09-22T21:08:21.928Z"
   },
   {
    "duration": 16,
    "start_time": "2021-09-22T21:08:21.954Z"
   },
   {
    "duration": 49,
    "start_time": "2021-09-22T21:08:21.972Z"
   },
   {
    "duration": 14,
    "start_time": "2021-09-22T21:08:22.024Z"
   },
   {
    "duration": 25,
    "start_time": "2021-09-22T21:08:22.040Z"
   },
   {
    "duration": 60,
    "start_time": "2021-09-22T21:08:22.067Z"
   },
   {
    "duration": 30,
    "start_time": "2021-09-22T21:08:22.129Z"
   },
   {
    "duration": 8,
    "start_time": "2021-09-22T21:08:22.165Z"
   },
   {
    "duration": 68,
    "start_time": "2021-09-22T21:08:22.176Z"
   },
   {
    "duration": 29,
    "start_time": "2021-09-22T21:08:22.246Z"
   },
   {
    "duration": 61,
    "start_time": "2021-09-22T21:08:22.277Z"
   },
   {
    "duration": 24,
    "start_time": "2021-09-22T21:08:22.340Z"
   },
   {
    "duration": 83,
    "start_time": "2021-09-22T21:08:22.367Z"
   },
   {
    "duration": 13,
    "start_time": "2021-09-22T21:08:22.452Z"
   },
   {
    "duration": 55,
    "start_time": "2021-09-22T21:08:22.467Z"
   },
   {
    "duration": 12,
    "start_time": "2021-09-22T21:08:22.525Z"
   },
   {
    "duration": 9,
    "start_time": "2021-09-22T21:08:22.539Z"
   },
   {
    "duration": 1828,
    "start_time": "2021-09-22T21:08:22.551Z"
   },
   {
    "duration": 46,
    "start_time": "2021-09-22T21:08:24.382Z"
   },
   {
    "duration": 5,
    "start_time": "2021-09-22T21:08:24.430Z"
   },
   {
    "duration": 78,
    "start_time": "2021-09-22T21:08:24.438Z"
   },
   {
    "duration": 1629,
    "start_time": "2021-09-22T21:08:24.520Z"
   },
   {
    "duration": 26,
    "start_time": "2021-09-22T21:08:26.152Z"
   },
   {
    "duration": 745,
    "start_time": "2021-09-22T21:08:26.180Z"
   },
   {
    "duration": 40,
    "start_time": "2021-09-22T21:08:26.929Z"
   },
   {
    "duration": 7,
    "start_time": "2021-09-22T21:08:26.972Z"
   },
   {
    "duration": 490,
    "start_time": "2021-09-22T21:08:26.981Z"
   },
   {
    "duration": 53,
    "start_time": "2021-09-22T21:08:27.473Z"
   },
   {
    "duration": 499,
    "start_time": "2021-09-22T21:08:27.529Z"
   },
   {
    "duration": 28,
    "start_time": "2021-09-22T21:08:28.030Z"
   },
   {
    "duration": 82,
    "start_time": "2021-09-22T21:08:28.061Z"
   },
   {
    "duration": 44,
    "start_time": "2021-09-22T21:08:28.147Z"
   },
   {
    "duration": 391,
    "start_time": "2021-09-22T21:08:28.194Z"
   },
   {
    "duration": 391,
    "start_time": "2021-09-22T21:08:28.588Z"
   },
   {
    "duration": 52,
    "start_time": "2021-09-22T21:08:28.982Z"
   },
   {
    "duration": 43,
    "start_time": "2021-09-22T21:08:29.037Z"
   },
   {
    "duration": 35,
    "start_time": "2021-09-22T21:08:29.083Z"
   },
   {
    "duration": 587,
    "start_time": "2021-09-22T21:09:05.256Z"
   },
   {
    "duration": 284,
    "start_time": "2021-09-22T21:09:21.283Z"
   },
   {
    "duration": 8,
    "start_time": "2021-09-22T21:10:34.105Z"
   },
   {
    "duration": 302,
    "start_time": "2021-09-22T21:13:18.297Z"
   },
   {
    "duration": 409,
    "start_time": "2021-09-22T21:13:25.610Z"
   },
   {
    "duration": 383,
    "start_time": "2021-09-22T21:13:31.699Z"
   },
   {
    "duration": 6,
    "start_time": "2021-09-22T21:14:43.668Z"
   },
   {
    "duration": 430,
    "start_time": "2021-09-22T21:14:56.946Z"
   },
   {
    "duration": 304,
    "start_time": "2021-09-22T21:15:59.468Z"
   },
   {
    "duration": 769,
    "start_time": "2021-09-22T21:16:07.441Z"
   },
   {
    "duration": 436,
    "start_time": "2021-09-22T21:16:40.286Z"
   },
   {
    "duration": 305,
    "start_time": "2021-09-22T21:17:05.459Z"
   },
   {
    "duration": 419,
    "start_time": "2021-09-22T21:17:27.899Z"
   },
   {
    "duration": 309,
    "start_time": "2021-09-22T21:17:47.107Z"
   },
   {
    "duration": 508,
    "start_time": "2021-09-22T21:18:06.803Z"
   },
   {
    "duration": 529,
    "start_time": "2021-09-22T21:18:32.137Z"
   },
   {
    "duration": 555,
    "start_time": "2021-09-22T21:18:55.389Z"
   },
   {
    "duration": 541,
    "start_time": "2021-09-22T21:19:05.059Z"
   },
   {
    "duration": 115,
    "start_time": "2021-09-22T21:19:27.835Z"
   },
   {
    "duration": 562,
    "start_time": "2021-09-22T21:19:34.190Z"
   },
   {
    "duration": 434,
    "start_time": "2021-09-22T21:19:58.918Z"
   },
   {
    "duration": 425,
    "start_time": "2021-09-22T21:20:20.340Z"
   },
   {
    "duration": 436,
    "start_time": "2021-09-22T21:20:30.000Z"
   },
   {
    "duration": 530,
    "start_time": "2021-09-22T21:22:12.013Z"
   },
   {
    "duration": 621,
    "start_time": "2021-09-22T21:22:25.168Z"
   },
   {
    "duration": 566,
    "start_time": "2021-09-22T21:22:44.697Z"
   },
   {
    "duration": 665,
    "start_time": "2021-09-22T21:24:12.290Z"
   },
   {
    "duration": 573,
    "start_time": "2021-09-22T21:24:22.149Z"
   },
   {
    "duration": 597,
    "start_time": "2021-09-22T21:24:53.608Z"
   },
   {
    "duration": 611,
    "start_time": "2021-09-22T21:26:04.060Z"
   },
   {
    "duration": 617,
    "start_time": "2021-09-22T21:27:52.171Z"
   },
   {
    "duration": 619,
    "start_time": "2021-09-22T21:28:47.470Z"
   },
   {
    "duration": 333,
    "start_time": "2021-09-22T21:29:57.321Z"
   },
   {
    "duration": 648,
    "start_time": "2021-09-22T21:30:10.776Z"
   },
   {
    "duration": 638,
    "start_time": "2021-09-22T21:31:31.926Z"
   },
   {
    "duration": 390,
    "start_time": "2021-09-22T21:42:08.857Z"
   },
   {
    "duration": 311,
    "start_time": "2021-09-22T21:42:32.875Z"
   },
   {
    "duration": 108,
    "start_time": "2021-09-22T21:43:22.564Z"
   },
   {
    "duration": 363,
    "start_time": "2021-09-22T21:43:28.632Z"
   },
   {
    "duration": 374,
    "start_time": "2021-09-22T21:44:14.121Z"
   },
   {
    "duration": 477,
    "start_time": "2021-09-22T21:44:28.656Z"
   },
   {
    "duration": 674,
    "start_time": "2021-09-22T21:45:53.809Z"
   },
   {
    "duration": 386,
    "start_time": "2021-09-22T21:46:06.684Z"
   },
   {
    "duration": 404,
    "start_time": "2021-09-22T21:46:30.779Z"
   },
   {
    "duration": 955,
    "start_time": "2021-09-23T06:35:17.323Z"
   },
   {
    "duration": 432,
    "start_time": "2021-09-23T06:35:18.281Z"
   },
   {
    "duration": 27,
    "start_time": "2021-09-23T06:35:18.716Z"
   },
   {
    "duration": 24,
    "start_time": "2021-09-23T06:35:18.746Z"
   },
   {
    "duration": 30,
    "start_time": "2021-09-23T06:35:18.772Z"
   },
   {
    "duration": 30,
    "start_time": "2021-09-23T06:35:18.805Z"
   },
   {
    "duration": 48,
    "start_time": "2021-09-23T06:35:18.837Z"
   },
   {
    "duration": 33,
    "start_time": "2021-09-23T06:35:18.889Z"
   },
   {
    "duration": 47,
    "start_time": "2021-09-23T06:35:18.925Z"
   },
   {
    "duration": 16,
    "start_time": "2021-09-23T06:35:18.974Z"
   },
   {
    "duration": 29,
    "start_time": "2021-09-23T06:35:18.992Z"
   },
   {
    "duration": 27,
    "start_time": "2021-09-23T06:35:19.023Z"
   },
   {
    "duration": 36,
    "start_time": "2021-09-23T06:35:19.053Z"
   },
   {
    "duration": 73,
    "start_time": "2021-09-23T06:35:19.092Z"
   },
   {
    "duration": 19,
    "start_time": "2021-09-23T06:35:19.168Z"
   },
   {
    "duration": 27,
    "start_time": "2021-09-23T06:35:19.190Z"
   },
   {
    "duration": 14,
    "start_time": "2021-09-23T06:35:19.220Z"
   },
   {
    "duration": 28,
    "start_time": "2021-09-23T06:35:19.236Z"
   },
   {
    "duration": 29,
    "start_time": "2021-09-23T06:35:19.267Z"
   },
   {
    "duration": 32,
    "start_time": "2021-09-23T06:35:19.299Z"
   },
   {
    "duration": 21,
    "start_time": "2021-09-23T06:35:19.334Z"
   },
   {
    "duration": 46,
    "start_time": "2021-09-23T06:35:19.357Z"
   },
   {
    "duration": 12,
    "start_time": "2021-09-23T06:35:19.409Z"
   },
   {
    "duration": 31,
    "start_time": "2021-09-23T06:35:19.424Z"
   },
   {
    "duration": 28,
    "start_time": "2021-09-23T06:35:19.457Z"
   },
   {
    "duration": 53,
    "start_time": "2021-09-23T06:35:19.488Z"
   },
   {
    "duration": 26,
    "start_time": "2021-09-23T06:35:19.544Z"
   },
   {
    "duration": 83,
    "start_time": "2021-09-23T06:35:19.572Z"
   },
   {
    "duration": 17,
    "start_time": "2021-09-23T06:35:19.658Z"
   },
   {
    "duration": 51,
    "start_time": "2021-09-23T06:35:19.678Z"
   },
   {
    "duration": 15,
    "start_time": "2021-09-23T06:35:19.732Z"
   },
   {
    "duration": 12,
    "start_time": "2021-09-23T06:35:19.749Z"
   },
   {
    "duration": 2096,
    "start_time": "2021-09-23T06:35:19.764Z"
   },
   {
    "duration": 26,
    "start_time": "2021-09-23T06:35:21.863Z"
   },
   {
    "duration": 24,
    "start_time": "2021-09-23T06:35:21.892Z"
   },
   {
    "duration": 54,
    "start_time": "2021-09-23T06:35:21.919Z"
   },
   {
    "duration": 1624,
    "start_time": "2021-09-23T06:35:21.976Z"
   },
   {
    "duration": 31,
    "start_time": "2021-09-23T06:35:23.602Z"
   },
   {
    "duration": 973,
    "start_time": "2021-09-23T06:35:23.635Z"
   },
   {
    "duration": 41,
    "start_time": "2021-09-23T06:35:24.615Z"
   },
   {
    "duration": 5,
    "start_time": "2021-09-23T06:35:24.658Z"
   },
   {
    "duration": 454,
    "start_time": "2021-09-23T06:35:24.666Z"
   },
   {
    "duration": 38,
    "start_time": "2021-09-23T06:35:25.123Z"
   },
   {
    "duration": 508,
    "start_time": "2021-09-23T06:35:25.163Z"
   },
   {
    "duration": 398,
    "start_time": "2021-09-23T06:35:25.674Z"
   },
   {
    "duration": 44,
    "start_time": "2021-09-23T06:35:26.076Z"
   },
   {
    "duration": 40,
    "start_time": "2021-09-23T06:35:26.123Z"
   },
   {
    "duration": 72,
    "start_time": "2021-09-23T06:35:26.167Z"
   },
   {
    "duration": 378,
    "start_time": "2021-09-23T06:35:26.241Z"
   },
   {
    "duration": 394,
    "start_time": "2021-09-23T06:35:26.622Z"
   },
   {
    "duration": 25,
    "start_time": "2021-09-23T06:35:27.018Z"
   },
   {
    "duration": 70,
    "start_time": "2021-09-23T06:35:27.046Z"
   },
   {
    "duration": 648,
    "start_time": "2021-09-23T06:35:27.118Z"
   },
   {
    "duration": 685,
    "start_time": "2021-09-23T06:35:27.768Z"
   },
   {
    "duration": 26,
    "start_time": "2021-09-23T08:55:19.173Z"
   },
   {
    "duration": 27,
    "start_time": "2021-09-23T08:55:35.358Z"
   },
   {
    "duration": 465,
    "start_time": "2021-09-23T10:51:15.120Z"
   },
   {
    "duration": 838,
    "start_time": "2021-09-23T10:51:26.266Z"
   },
   {
    "duration": 2237,
    "start_time": "2021-09-23T10:51:36.694Z"
   },
   {
    "duration": 914,
    "start_time": "2021-09-23T10:51:38.934Z"
   },
   {
    "duration": 26,
    "start_time": "2021-09-23T10:51:39.851Z"
   },
   {
    "duration": 12,
    "start_time": "2021-09-23T10:51:39.880Z"
   },
   {
    "duration": 9,
    "start_time": "2021-09-23T10:51:39.894Z"
   },
   {
    "duration": 26,
    "start_time": "2021-09-23T10:51:39.906Z"
   },
   {
    "duration": 44,
    "start_time": "2021-09-23T10:51:39.934Z"
   },
   {
    "duration": 53,
    "start_time": "2021-09-23T10:51:39.980Z"
   },
   {
    "duration": 42,
    "start_time": "2021-09-23T10:51:40.039Z"
   },
   {
    "duration": 55,
    "start_time": "2021-09-23T10:51:40.085Z"
   },
   {
    "duration": 17,
    "start_time": "2021-09-23T10:51:40.142Z"
   },
   {
    "duration": 15,
    "start_time": "2021-09-23T10:51:40.162Z"
   },
   {
    "duration": 43,
    "start_time": "2021-09-23T10:51:40.179Z"
   },
   {
    "duration": 39,
    "start_time": "2021-09-23T10:51:40.226Z"
   },
   {
    "duration": 39,
    "start_time": "2021-09-23T10:51:40.268Z"
   },
   {
    "duration": 36,
    "start_time": "2021-09-23T10:51:40.310Z"
   },
   {
    "duration": 16,
    "start_time": "2021-09-23T10:51:40.349Z"
   },
   {
    "duration": 13,
    "start_time": "2021-09-23T10:51:40.368Z"
   },
   {
    "duration": 48,
    "start_time": "2021-09-23T10:51:40.384Z"
   },
   {
    "duration": 23,
    "start_time": "2021-09-23T10:51:40.435Z"
   },
   {
    "duration": 19,
    "start_time": "2021-09-23T10:51:40.460Z"
   },
   {
    "duration": 65,
    "start_time": "2021-09-23T10:51:40.482Z"
   },
   {
    "duration": 9,
    "start_time": "2021-09-23T10:51:40.550Z"
   },
   {
    "duration": 61,
    "start_time": "2021-09-23T10:51:40.562Z"
   },
   {
    "duration": 35,
    "start_time": "2021-09-23T10:51:40.627Z"
   },
   {
    "duration": 27,
    "start_time": "2021-09-23T10:51:40.664Z"
   },
   {
    "duration": 41,
    "start_time": "2021-09-23T10:51:40.720Z"
   },
   {
    "duration": 85,
    "start_time": "2021-09-23T10:51:40.765Z"
   },
   {
    "duration": 13,
    "start_time": "2021-09-23T10:51:40.852Z"
   },
   {
    "duration": 28,
    "start_time": "2021-09-23T10:51:40.868Z"
   },
   {
    "duration": 20,
    "start_time": "2021-09-23T10:51:40.916Z"
   },
   {
    "duration": 10,
    "start_time": "2021-09-23T10:51:40.939Z"
   },
   {
    "duration": 2045,
    "start_time": "2021-09-23T10:51:40.952Z"
   },
   {
    "duration": 42,
    "start_time": "2021-09-23T10:51:42.999Z"
   },
   {
    "duration": 5,
    "start_time": "2021-09-23T10:51:43.043Z"
   },
   {
    "duration": 76,
    "start_time": "2021-09-23T10:51:43.050Z"
   },
   {
    "duration": 1716,
    "start_time": "2021-09-23T10:51:43.129Z"
   },
   {
    "duration": 25,
    "start_time": "2021-09-23T10:51:44.847Z"
   },
   {
    "duration": 769,
    "start_time": "2021-09-23T10:51:44.874Z"
   },
   {
    "duration": 38,
    "start_time": "2021-09-23T10:51:45.647Z"
   },
   {
    "duration": 10,
    "start_time": "2021-09-23T10:51:45.687Z"
   },
   {
    "duration": 527,
    "start_time": "2021-09-23T10:51:45.732Z"
   },
   {
    "duration": 36,
    "start_time": "2021-09-23T10:51:46.262Z"
   },
   {
    "duration": 520,
    "start_time": "2021-09-23T10:51:46.329Z"
   },
   {
    "duration": 27,
    "start_time": "2021-09-23T10:51:46.853Z"
   },
   {
    "duration": 450,
    "start_time": "2021-09-23T10:51:46.882Z"
   },
   {
    "duration": 6,
    "start_time": "2021-09-23T10:51:47.335Z"
   },
   {
    "duration": 31,
    "start_time": "2021-09-23T10:51:47.343Z"
   },
   {
    "duration": 61,
    "start_time": "2021-09-23T10:51:47.377Z"
   },
   {
    "duration": 40,
    "start_time": "2021-09-23T10:51:47.440Z"
   },
   {
    "duration": 397,
    "start_time": "2021-09-23T10:51:47.482Z"
   },
   {
    "duration": 444,
    "start_time": "2021-09-23T10:51:47.881Z"
   },
   {
    "duration": 24,
    "start_time": "2021-09-23T10:51:48.328Z"
   },
   {
    "duration": 69,
    "start_time": "2021-09-23T10:51:48.355Z"
   },
   {
    "duration": 689,
    "start_time": "2021-09-23T10:51:48.427Z"
   },
   {
    "duration": 727,
    "start_time": "2021-09-23T10:51:49.120Z"
   },
   {
    "duration": 15,
    "start_time": "2021-09-23T10:52:04.526Z"
   },
   {
    "duration": 401,
    "start_time": "2021-09-23T11:03:29.083Z"
   },
   {
    "duration": 27,
    "start_time": "2021-09-23T11:03:36.603Z"
   },
   {
    "duration": 27,
    "start_time": "2021-09-23T12:21:48.985Z"
   },
   {
    "duration": 35,
    "start_time": "2021-09-23T12:22:08.429Z"
   },
   {
    "duration": 33,
    "start_time": "2021-09-23T12:23:15.630Z"
   },
   {
    "duration": 479,
    "start_time": "2021-09-23T12:23:22.679Z"
   },
   {
    "duration": 574,
    "start_time": "2021-09-23T12:25:14.046Z"
   },
   {
    "duration": 938,
    "start_time": "2021-09-23T12:58:29.606Z"
   },
   {
    "duration": 399,
    "start_time": "2021-09-23T12:58:30.547Z"
   },
   {
    "duration": 28,
    "start_time": "2021-09-23T12:58:30.949Z"
   },
   {
    "duration": 26,
    "start_time": "2021-09-23T12:58:30.979Z"
   },
   {
    "duration": 22,
    "start_time": "2021-09-23T12:58:31.008Z"
   },
   {
    "duration": 47,
    "start_time": "2021-09-23T12:58:31.032Z"
   },
   {
    "duration": 70,
    "start_time": "2021-09-23T12:58:31.082Z"
   },
   {
    "duration": 51,
    "start_time": "2021-09-23T12:58:31.157Z"
   },
   {
    "duration": 53,
    "start_time": "2021-09-23T12:58:31.211Z"
   },
   {
    "duration": 17,
    "start_time": "2021-09-23T12:58:31.267Z"
   },
   {
    "duration": 27,
    "start_time": "2021-09-23T12:58:31.287Z"
   },
   {
    "duration": 64,
    "start_time": "2021-09-23T12:58:31.317Z"
   },
   {
    "duration": 42,
    "start_time": "2021-09-23T12:58:31.383Z"
   },
   {
    "duration": 38,
    "start_time": "2021-09-23T12:58:31.428Z"
   },
   {
    "duration": 41,
    "start_time": "2021-09-23T12:58:31.469Z"
   },
   {
    "duration": 24,
    "start_time": "2021-09-23T12:58:31.517Z"
   },
   {
    "duration": 15,
    "start_time": "2021-09-23T12:58:31.544Z"
   },
   {
    "duration": 13,
    "start_time": "2021-09-23T12:58:31.562Z"
   },
   {
    "duration": 49,
    "start_time": "2021-09-23T12:58:31.577Z"
   },
   {
    "duration": 54,
    "start_time": "2021-09-23T12:58:31.628Z"
   },
   {
    "duration": 18,
    "start_time": "2021-09-23T12:58:31.685Z"
   },
   {
    "duration": 41,
    "start_time": "2021-09-23T12:58:31.705Z"
   },
   {
    "duration": 14,
    "start_time": "2021-09-23T12:58:31.751Z"
   },
   {
    "duration": 30,
    "start_time": "2021-09-23T12:58:31.768Z"
   },
   {
    "duration": 47,
    "start_time": "2021-09-23T12:58:31.801Z"
   },
   {
    "duration": 44,
    "start_time": "2021-09-23T12:58:31.851Z"
   },
   {
    "duration": 45,
    "start_time": "2021-09-23T12:58:31.898Z"
   },
   {
    "duration": 82,
    "start_time": "2021-09-23T12:58:31.946Z"
   },
   {
    "duration": 12,
    "start_time": "2021-09-23T12:58:32.031Z"
   },
   {
    "duration": 42,
    "start_time": "2021-09-23T12:58:32.048Z"
   },
   {
    "duration": 26,
    "start_time": "2021-09-23T12:58:32.092Z"
   },
   {
    "duration": 19,
    "start_time": "2021-09-23T12:58:32.121Z"
   },
   {
    "duration": 1884,
    "start_time": "2021-09-23T12:58:32.143Z"
   },
   {
    "duration": 87,
    "start_time": "2021-09-23T12:58:34.031Z"
   },
   {
    "duration": 5,
    "start_time": "2021-09-23T12:58:34.121Z"
   },
   {
    "duration": 66,
    "start_time": "2021-09-23T12:58:34.129Z"
   },
   {
    "duration": 2186,
    "start_time": "2021-09-23T12:58:34.197Z"
   },
   {
    "duration": 33,
    "start_time": "2021-09-23T12:58:36.385Z"
   },
   {
    "duration": 2374,
    "start_time": "2021-09-23T12:58:36.421Z"
   },
   {
    "duration": 49,
    "start_time": "2021-09-23T12:58:38.798Z"
   },
   {
    "duration": 5,
    "start_time": "2021-09-23T12:58:38.850Z"
   },
   {
    "duration": 574,
    "start_time": "2021-09-23T12:58:38.858Z"
   },
   {
    "duration": 37,
    "start_time": "2021-09-23T12:58:39.435Z"
   },
   {
    "duration": 658,
    "start_time": "2021-09-23T12:58:39.475Z"
   },
   {
    "duration": 46,
    "start_time": "2021-09-23T12:58:40.136Z"
   },
   {
    "duration": 583,
    "start_time": "2021-09-23T12:58:40.185Z"
   },
   {
    "duration": 47,
    "start_time": "2021-09-23T12:58:40.771Z"
   },
   {
    "duration": 874,
    "start_time": "2021-09-23T12:58:40.821Z"
   },
   {
    "duration": 27,
    "start_time": "2021-09-23T12:58:41.698Z"
   },
   {
    "duration": 42,
    "start_time": "2021-09-23T12:58:41.728Z"
   },
   {
    "duration": 47,
    "start_time": "2021-09-23T12:58:41.773Z"
   },
   {
    "duration": 40,
    "start_time": "2021-09-23T12:58:41.823Z"
   },
   {
    "duration": 70,
    "start_time": "2021-09-23T12:58:41.866Z"
   },
   {
    "duration": 387,
    "start_time": "2021-09-23T12:58:41.939Z"
   },
   {
    "duration": 444,
    "start_time": "2021-09-23T12:58:42.329Z"
   },
   {
    "duration": 43,
    "start_time": "2021-09-23T12:58:42.775Z"
   },
   {
    "duration": 162,
    "start_time": "2021-09-23T12:58:42.820Z"
   },
   {
    "duration": 814,
    "start_time": "2021-09-23T12:58:42.984Z"
   },
   {
    "duration": 760,
    "start_time": "2021-09-23T12:58:43.801Z"
   },
   {
    "duration": 97,
    "start_time": "2021-09-24T08:27:50.585Z"
   },
   {
    "duration": 92,
    "start_time": "2021-09-24T08:30:31.094Z"
   },
   {
    "duration": 98,
    "start_time": "2021-09-24T08:33:32.091Z"
   },
   {
    "duration": 94,
    "start_time": "2021-09-24T08:36:27.947Z"
   },
   {
    "duration": 90,
    "start_time": "2021-09-24T08:37:29.258Z"
   },
   {
    "duration": 82,
    "start_time": "2021-09-24T08:38:56.683Z"
   },
   {
    "duration": 98,
    "start_time": "2021-09-24T08:40:34.259Z"
   },
   {
    "duration": 92,
    "start_time": "2021-09-24T08:42:30.823Z"
   },
   {
    "duration": 82,
    "start_time": "2021-09-24T08:43:12.627Z"
   },
   {
    "duration": 104,
    "start_time": "2021-09-24T08:48:00.952Z"
   },
   {
    "duration": 91,
    "start_time": "2021-09-24T08:54:15.646Z"
   },
   {
    "duration": 312,
    "start_time": "2021-09-25T19:49:16.248Z"
   },
   {
    "duration": 712,
    "start_time": "2021-09-25T19:49:24.911Z"
   },
   {
    "duration": 293,
    "start_time": "2021-09-25T19:49:25.625Z"
   },
   {
    "duration": 18,
    "start_time": "2021-09-25T19:49:25.922Z"
   },
   {
    "duration": 6,
    "start_time": "2021-09-25T19:49:25.942Z"
   },
   {
    "duration": 9,
    "start_time": "2021-09-25T19:49:25.949Z"
   },
   {
    "duration": 12,
    "start_time": "2021-09-25T19:49:25.959Z"
   },
   {
    "duration": 27,
    "start_time": "2021-09-25T19:49:25.974Z"
   },
   {
    "duration": 48,
    "start_time": "2021-09-25T19:49:26.003Z"
   },
   {
    "duration": 19,
    "start_time": "2021-09-25T19:49:26.053Z"
   },
   {
    "duration": 11,
    "start_time": "2021-09-25T19:49:26.073Z"
   },
   {
    "duration": 9,
    "start_time": "2021-09-25T19:49:26.086Z"
   },
   {
    "duration": 54,
    "start_time": "2021-09-25T19:49:26.096Z"
   },
   {
    "duration": 14,
    "start_time": "2021-09-25T19:49:26.152Z"
   },
   {
    "duration": 26,
    "start_time": "2021-09-25T19:49:26.168Z"
   },
   {
    "duration": 325,
    "start_time": "2021-09-25T19:49:26.196Z"
   },
   {
    "duration": -6273,
    "start_time": "2021-09-25T19:49:32.797Z"
   },
   {
    "duration": -6293,
    "start_time": "2021-09-25T19:49:32.818Z"
   },
   {
    "duration": -6306,
    "start_time": "2021-09-25T19:49:32.833Z"
   },
   {
    "duration": -6403,
    "start_time": "2021-09-25T19:49:32.931Z"
   },
   {
    "duration": -6562,
    "start_time": "2021-09-25T19:49:33.091Z"
   },
   {
    "duration": -6613,
    "start_time": "2021-09-25T19:49:33.143Z"
   },
   {
    "duration": -6637,
    "start_time": "2021-09-25T19:49:33.168Z"
   },
   {
    "duration": -6651,
    "start_time": "2021-09-25T19:49:33.183Z"
   },
   {
    "duration": -6678,
    "start_time": "2021-09-25T19:49:33.211Z"
   },
   {
    "duration": -6692,
    "start_time": "2021-09-25T19:49:33.226Z"
   },
   {
    "duration": -6755,
    "start_time": "2021-09-25T19:49:33.290Z"
   },
   {
    "duration": -6769,
    "start_time": "2021-09-25T19:49:33.305Z"
   },
   {
    "duration": -6798,
    "start_time": "2021-09-25T19:49:33.335Z"
   },
   {
    "duration": -6810,
    "start_time": "2021-09-25T19:49:33.348Z"
   },
   {
    "duration": -6831,
    "start_time": "2021-09-25T19:49:33.371Z"
   },
   {
    "duration": -6882,
    "start_time": "2021-09-25T19:49:33.423Z"
   },
   {
    "duration": -7156,
    "start_time": "2021-09-25T19:49:33.698Z"
   },
   {
    "duration": -7220,
    "start_time": "2021-09-25T19:49:33.763Z"
   },
   {
    "duration": -7240,
    "start_time": "2021-09-25T19:49:33.784Z"
   },
   {
    "duration": -7269,
    "start_time": "2021-09-25T19:49:33.814Z"
   },
   {
    "duration": -7285,
    "start_time": "2021-09-25T19:49:33.831Z"
   },
   {
    "duration": -7332,
    "start_time": "2021-09-25T19:49:33.879Z"
   },
   {
    "duration": -7374,
    "start_time": "2021-09-25T19:49:33.922Z"
   },
   {
    "duration": -7388,
    "start_time": "2021-09-25T19:49:33.937Z"
   },
   {
    "duration": -7428,
    "start_time": "2021-09-25T19:49:33.978Z"
   },
   {
    "duration": -7649,
    "start_time": "2021-09-25T19:49:34.200Z"
   },
   {
    "duration": -7758,
    "start_time": "2021-09-25T19:49:34.310Z"
   },
   {
    "duration": -7776,
    "start_time": "2021-09-25T19:49:34.329Z"
   },
   {
    "duration": -7790,
    "start_time": "2021-09-25T19:49:34.344Z"
   },
   {
    "duration": -7805,
    "start_time": "2021-09-25T19:49:34.360Z"
   },
   {
    "duration": -7817,
    "start_time": "2021-09-25T19:49:34.373Z"
   },
   {
    "duration": -7835,
    "start_time": "2021-09-25T19:49:34.392Z"
   },
   {
    "duration": -7848,
    "start_time": "2021-09-25T19:49:34.406Z"
   },
   {
    "duration": -7886,
    "start_time": "2021-09-25T19:49:34.445Z"
   },
   {
    "duration": -7903,
    "start_time": "2021-09-25T19:49:34.463Z"
   },
   {
    "duration": -7919,
    "start_time": "2021-09-25T19:49:34.480Z"
   },
   {
    "duration": -7932,
    "start_time": "2021-09-25T19:49:34.494Z"
   },
   {
    "duration": -7948,
    "start_time": "2021-09-25T19:49:34.511Z"
   },
   {
    "duration": -7974,
    "start_time": "2021-09-25T19:49:34.538Z"
   },
   {
    "duration": -8028,
    "start_time": "2021-09-25T19:49:34.593Z"
   },
   {
    "duration": -8051,
    "start_time": "2021-09-25T19:49:34.617Z"
   },
   {
    "duration": -8067,
    "start_time": "2021-09-25T19:49:34.634Z"
   },
   {
    "duration": -8095,
    "start_time": "2021-09-25T19:49:34.663Z"
   },
   {
    "duration": -8399,
    "start_time": "2021-09-25T19:49:34.968Z"
   },
   {
    "duration": 274,
    "start_time": "2021-09-25T19:50:05.431Z"
   },
   {
    "duration": 274,
    "start_time": "2021-09-25T19:50:42.269Z"
   },
   {
    "duration": 17,
    "start_time": "2021-09-25T19:52:57.388Z"
   },
   {
    "duration": 6,
    "start_time": "2021-09-25T19:53:06.860Z"
   },
   {
    "duration": 7,
    "start_time": "2021-09-25T19:53:36.874Z"
   },
   {
    "duration": 694,
    "start_time": "2021-09-25T19:53:49.943Z"
   },
   {
    "duration": 272,
    "start_time": "2021-09-25T19:53:50.638Z"
   },
   {
    "duration": 18,
    "start_time": "2021-09-25T19:53:50.911Z"
   },
   {
    "duration": 10,
    "start_time": "2021-09-25T19:53:50.931Z"
   },
   {
    "duration": 8,
    "start_time": "2021-09-25T19:53:50.943Z"
   },
   {
    "duration": 22,
    "start_time": "2021-09-25T19:53:50.953Z"
   },
   {
    "duration": 33,
    "start_time": "2021-09-25T19:53:50.977Z"
   },
   {
    "duration": 31,
    "start_time": "2021-09-25T19:53:51.014Z"
   },
   {
    "duration": 19,
    "start_time": "2021-09-25T19:53:51.048Z"
   },
   {
    "duration": 14,
    "start_time": "2021-09-25T19:53:51.069Z"
   },
   {
    "duration": 12,
    "start_time": "2021-09-25T19:53:51.085Z"
   },
   {
    "duration": 55,
    "start_time": "2021-09-25T19:53:51.099Z"
   },
   {
    "duration": 17,
    "start_time": "2021-09-25T19:53:51.156Z"
   },
   {
    "duration": 20,
    "start_time": "2021-09-25T19:53:51.175Z"
   },
   {
    "duration": 50,
    "start_time": "2021-09-25T19:53:51.197Z"
   },
   {
    "duration": 386,
    "start_time": "2021-09-25T19:53:51.249Z"
   },
   {
    "duration": -10804,
    "start_time": "2021-09-25T19:54:02.443Z"
   },
   {
    "duration": -10830,
    "start_time": "2021-09-25T19:54:02.470Z"
   },
   {
    "duration": -10856,
    "start_time": "2021-09-25T19:54:02.497Z"
   },
   {
    "duration": -10884,
    "start_time": "2021-09-25T19:54:02.526Z"
   },
   {
    "duration": -10937,
    "start_time": "2021-09-25T19:54:02.580Z"
   },
   {
    "duration": -10964,
    "start_time": "2021-09-25T19:54:02.608Z"
   },
   {
    "duration": -11012,
    "start_time": "2021-09-25T19:54:02.658Z"
   },
   {
    "duration": -11218,
    "start_time": "2021-09-25T19:54:02.864Z"
   },
   {
    "duration": -11311,
    "start_time": "2021-09-25T19:54:02.959Z"
   },
   {
    "duration": -11554,
    "start_time": "2021-09-25T19:54:03.203Z"
   },
   {
    "duration": -11722,
    "start_time": "2021-09-25T19:54:03.372Z"
   },
   {
    "duration": -11801,
    "start_time": "2021-09-25T19:54:03.452Z"
   },
   {
    "duration": -12052,
    "start_time": "2021-09-25T19:54:03.704Z"
   },
   {
    "duration": -12120,
    "start_time": "2021-09-25T19:54:03.773Z"
   },
   {
    "duration": -12135,
    "start_time": "2021-09-25T19:54:03.789Z"
   },
   {
    "duration": -12159,
    "start_time": "2021-09-25T19:54:03.814Z"
   },
   {
    "duration": -12186,
    "start_time": "2021-09-25T19:54:03.841Z"
   },
   {
    "duration": -12202,
    "start_time": "2021-09-25T19:54:03.859Z"
   },
   {
    "duration": -12247,
    "start_time": "2021-09-25T19:54:03.905Z"
   },
   {
    "duration": -12268,
    "start_time": "2021-09-25T19:54:03.927Z"
   },
   {
    "duration": -12286,
    "start_time": "2021-09-25T19:54:03.946Z"
   },
   {
    "duration": -12301,
    "start_time": "2021-09-25T19:54:03.962Z"
   },
   {
    "duration": -12316,
    "start_time": "2021-09-25T19:54:03.978Z"
   },
   {
    "duration": -12331,
    "start_time": "2021-09-25T19:54:03.994Z"
   },
   {
    "duration": -12387,
    "start_time": "2021-09-25T19:54:04.051Z"
   },
   {
    "duration": -12406,
    "start_time": "2021-09-25T19:54:04.071Z"
   },
   {
    "duration": -12420,
    "start_time": "2021-09-25T19:54:04.086Z"
   },
   {
    "duration": -12436,
    "start_time": "2021-09-25T19:54:04.103Z"
   },
   {
    "duration": -12452,
    "start_time": "2021-09-25T19:54:04.120Z"
   },
   {
    "duration": -12489,
    "start_time": "2021-09-25T19:54:04.158Z"
   },
   {
    "duration": -12532,
    "start_time": "2021-09-25T19:54:04.202Z"
   },
   {
    "duration": -12686,
    "start_time": "2021-09-25T19:54:04.357Z"
   },
   {
    "duration": -12766,
    "start_time": "2021-09-25T19:54:04.438Z"
   },
   {
    "duration": -12785,
    "start_time": "2021-09-25T19:54:04.458Z"
   },
   {
    "duration": -12805,
    "start_time": "2021-09-25T19:54:04.479Z"
   },
   {
    "duration": -12821,
    "start_time": "2021-09-25T19:54:04.496Z"
   },
   {
    "duration": -12833,
    "start_time": "2021-09-25T19:54:04.509Z"
   },
   {
    "duration": -12849,
    "start_time": "2021-09-25T19:54:04.526Z"
   },
   {
    "duration": -12890,
    "start_time": "2021-09-25T19:54:04.568Z"
   },
   {
    "duration": -12904,
    "start_time": "2021-09-25T19:54:04.583Z"
   },
   {
    "duration": -12927,
    "start_time": "2021-09-25T19:54:04.607Z"
   },
   {
    "duration": -12942,
    "start_time": "2021-09-25T19:54:04.623Z"
   },
   {
    "duration": -12975,
    "start_time": "2021-09-25T19:54:04.657Z"
   },
   {
    "duration": 695,
    "start_time": "2021-09-25T19:54:55.922Z"
   },
   {
    "duration": 273,
    "start_time": "2021-09-25T19:54:56.619Z"
   },
   {
    "duration": 18,
    "start_time": "2021-09-25T19:54:56.894Z"
   },
   {
    "duration": 9,
    "start_time": "2021-09-25T19:54:56.914Z"
   },
   {
    "duration": 9,
    "start_time": "2021-09-25T19:54:56.925Z"
   },
   {
    "duration": 13,
    "start_time": "2021-09-25T19:54:56.936Z"
   },
   {
    "duration": 28,
    "start_time": "2021-09-25T19:54:56.951Z"
   },
   {
    "duration": 15,
    "start_time": "2021-09-25T19:54:56.981Z"
   },
   {
    "duration": 22,
    "start_time": "2021-09-25T19:54:56.998Z"
   },
   {
    "duration": 31,
    "start_time": "2021-09-25T19:54:57.022Z"
   },
   {
    "duration": 11,
    "start_time": "2021-09-25T19:54:57.055Z"
   },
   {
    "duration": 14,
    "start_time": "2021-09-25T19:54:57.069Z"
   },
   {
    "duration": 62,
    "start_time": "2021-09-25T19:54:57.085Z"
   },
   {
    "duration": 23,
    "start_time": "2021-09-25T19:54:57.149Z"
   },
   {
    "duration": 21,
    "start_time": "2021-09-25T19:54:57.174Z"
   },
   {
    "duration": 62,
    "start_time": "2021-09-25T19:54:57.197Z"
   },
   {
    "duration": 14,
    "start_time": "2021-09-25T19:54:57.261Z"
   },
   {
    "duration": 11,
    "start_time": "2021-09-25T19:54:57.277Z"
   },
   {
    "duration": 13,
    "start_time": "2021-09-25T19:54:57.290Z"
   },
   {
    "duration": 18,
    "start_time": "2021-09-25T19:54:57.345Z"
   },
   {
    "duration": 14,
    "start_time": "2021-09-25T19:54:57.365Z"
   },
   {
    "duration": 23,
    "start_time": "2021-09-25T19:54:57.381Z"
   },
   {
    "duration": 36,
    "start_time": "2021-09-25T19:54:57.408Z"
   },
   {
    "duration": 21,
    "start_time": "2021-09-25T19:54:57.448Z"
   },
   {
    "duration": 20,
    "start_time": "2021-09-25T19:54:57.471Z"
   },
   {
    "duration": 60,
    "start_time": "2021-09-25T19:54:57.493Z"
   },
   {
    "duration": 19,
    "start_time": "2021-09-25T19:54:57.555Z"
   },
   {
    "duration": 35,
    "start_time": "2021-09-25T19:54:57.576Z"
   },
   {
    "duration": 37,
    "start_time": "2021-09-25T19:54:57.613Z"
   },
   {
    "duration": 14,
    "start_time": "2021-09-25T19:54:57.652Z"
   },
   {
    "duration": 15,
    "start_time": "2021-09-25T19:54:57.668Z"
   },
   {
    "duration": 10,
    "start_time": "2021-09-25T19:54:57.685Z"
   },
   {
    "duration": 894,
    "start_time": "2021-09-25T19:54:57.697Z"
   },
   {
    "duration": 18,
    "start_time": "2021-09-25T19:54:58.593Z"
   },
   {
    "duration": 5,
    "start_time": "2021-09-25T19:54:58.613Z"
   },
   {
    "duration": 55,
    "start_time": "2021-09-25T19:54:58.620Z"
   },
   {
    "duration": 811,
    "start_time": "2021-09-25T19:54:58.678Z"
   },
   {
    "duration": 18,
    "start_time": "2021-09-25T19:54:59.491Z"
   },
   {
    "duration": 532,
    "start_time": "2021-09-25T19:54:59.511Z"
   },
   {
    "duration": 25,
    "start_time": "2021-09-25T19:55:00.046Z"
   },
   {
    "duration": 5,
    "start_time": "2021-09-25T19:55:00.073Z"
   },
   {
    "duration": 313,
    "start_time": "2021-09-25T19:55:00.080Z"
   },
   {
    "duration": 48,
    "start_time": "2021-09-25T19:55:00.396Z"
   },
   {
    "duration": 305,
    "start_time": "2021-09-25T19:55:00.447Z"
   },
   {
    "duration": 23,
    "start_time": "2021-09-25T19:55:00.753Z"
   },
   {
    "duration": 308,
    "start_time": "2021-09-25T19:55:00.778Z"
   },
   {
    "duration": 17,
    "start_time": "2021-09-25T19:55:01.088Z"
   },
   {
    "duration": 251,
    "start_time": "2021-09-25T19:55:01.107Z"
   },
   {
    "duration": 10,
    "start_time": "2021-09-25T19:55:01.360Z"
   },
   {
    "duration": 34,
    "start_time": "2021-09-25T19:55:01.373Z"
   },
   {
    "duration": 18,
    "start_time": "2021-09-25T19:55:01.409Z"
   },
   {
    "duration": 27,
    "start_time": "2021-09-25T19:55:01.444Z"
   },
   {
    "duration": 29,
    "start_time": "2021-09-25T19:55:01.473Z"
   },
   {
    "duration": 253,
    "start_time": "2021-09-25T19:55:01.504Z"
   },
   {
    "duration": 233,
    "start_time": "2021-09-25T19:55:01.759Z"
   },
   {
    "duration": 18,
    "start_time": "2021-09-25T19:55:01.993Z"
   },
   {
    "duration": 50,
    "start_time": "2021-09-25T19:55:02.014Z"
   },
   {
    "duration": 398,
    "start_time": "2021-09-25T19:55:02.067Z"
   },
   {
    "duration": 484,
    "start_time": "2021-09-25T19:55:02.467Z"
   },
   {
    "duration": 723,
    "start_time": "2021-09-25T19:56:08.434Z"
   },
   {
    "duration": 292,
    "start_time": "2021-09-25T19:56:09.159Z"
   },
   {
    "duration": 18,
    "start_time": "2021-09-25T19:56:09.453Z"
   },
   {
    "duration": 9,
    "start_time": "2021-09-25T19:56:09.473Z"
   },
   {
    "duration": 8,
    "start_time": "2021-09-25T19:56:09.484Z"
   },
   {
    "duration": 13,
    "start_time": "2021-09-25T19:56:09.493Z"
   },
   {
    "duration": 58,
    "start_time": "2021-09-25T19:56:09.508Z"
   },
   {
    "duration": 15,
    "start_time": "2021-09-25T19:56:09.569Z"
   },
   {
    "duration": 19,
    "start_time": "2021-09-25T19:56:09.586Z"
   },
   {
    "duration": 42,
    "start_time": "2021-09-25T19:56:09.607Z"
   },
   {
    "duration": 10,
    "start_time": "2021-09-25T19:56:09.651Z"
   },
   {
    "duration": 13,
    "start_time": "2021-09-25T19:56:09.662Z"
   },
   {
    "duration": 14,
    "start_time": "2021-09-25T19:56:09.677Z"
   },
   {
    "duration": 63,
    "start_time": "2021-09-25T19:56:09.693Z"
   },
   {
    "duration": 17,
    "start_time": "2021-09-25T19:56:09.757Z"
   },
   {
    "duration": 27,
    "start_time": "2021-09-25T19:56:09.776Z"
   },
   {
    "duration": 40,
    "start_time": "2021-09-25T19:56:09.805Z"
   },
   {
    "duration": 10,
    "start_time": "2021-09-25T19:56:09.846Z"
   },
   {
    "duration": 9,
    "start_time": "2021-09-25T19:56:09.858Z"
   },
   {
    "duration": 15,
    "start_time": "2021-09-25T19:56:09.869Z"
   },
   {
    "duration": 14,
    "start_time": "2021-09-25T19:56:09.886Z"
   },
   {
    "duration": 57,
    "start_time": "2021-09-25T19:56:09.901Z"
   },
   {
    "duration": 5,
    "start_time": "2021-09-25T19:56:09.962Z"
   },
   {
    "duration": 19,
    "start_time": "2021-09-25T19:56:09.970Z"
   },
   {
    "duration": 18,
    "start_time": "2021-09-25T19:56:09.991Z"
   },
   {
    "duration": 21,
    "start_time": "2021-09-25T19:56:10.043Z"
   },
   {
    "duration": 21,
    "start_time": "2021-09-25T19:56:10.066Z"
   },
   {
    "duration": 74,
    "start_time": "2021-09-25T19:56:10.089Z"
   },
   {
    "duration": 9,
    "start_time": "2021-09-25T19:56:10.165Z"
   },
   {
    "duration": 17,
    "start_time": "2021-09-25T19:56:10.176Z"
   },
   {
    "duration": 14,
    "start_time": "2021-09-25T19:56:10.194Z"
   },
   {
    "duration": 37,
    "start_time": "2021-09-25T19:56:10.210Z"
   },
   {
    "duration": 939,
    "start_time": "2021-09-25T19:56:10.249Z"
   },
   {
    "duration": 18,
    "start_time": "2021-09-25T19:56:11.190Z"
   },
   {
    "duration": 3,
    "start_time": "2021-09-25T19:56:11.209Z"
   },
   {
    "duration": 57,
    "start_time": "2021-09-25T19:56:11.214Z"
   },
   {
    "duration": 817,
    "start_time": "2021-09-25T19:56:11.272Z"
   },
   {
    "duration": 17,
    "start_time": "2021-09-25T19:56:12.090Z"
   },
   {
    "duration": 1437,
    "start_time": "2021-09-25T19:56:12.108Z"
   },
   {
    "duration": 24,
    "start_time": "2021-09-25T19:56:13.547Z"
   },
   {
    "duration": 5,
    "start_time": "2021-09-25T19:56:13.573Z"
   },
   {
    "duration": 289,
    "start_time": "2021-09-25T19:56:13.580Z"
   },
   {
    "duration": 27,
    "start_time": "2021-09-25T19:56:13.871Z"
   },
   {
    "duration": 315,
    "start_time": "2021-09-25T19:56:13.900Z"
   },
   {
    "duration": 38,
    "start_time": "2021-09-25T19:56:14.217Z"
   },
   {
    "duration": 299,
    "start_time": "2021-09-25T19:56:14.258Z"
   },
   {
    "duration": 16,
    "start_time": "2021-09-25T19:56:14.559Z"
   },
   {
    "duration": 249,
    "start_time": "2021-09-25T19:56:14.577Z"
   },
   {
    "duration": 17,
    "start_time": "2021-09-25T19:56:14.828Z"
   },
   {
    "duration": 25,
    "start_time": "2021-09-25T19:56:14.847Z"
   },
   {
    "duration": 13,
    "start_time": "2021-09-25T19:56:14.874Z"
   },
   {
    "duration": 27,
    "start_time": "2021-09-25T19:56:14.888Z"
   },
   {
    "duration": 46,
    "start_time": "2021-09-25T19:56:14.917Z"
   },
   {
    "duration": 241,
    "start_time": "2021-09-25T19:56:14.965Z"
   },
   {
    "duration": 238,
    "start_time": "2021-09-25T19:56:15.208Z"
   },
   {
    "duration": 15,
    "start_time": "2021-09-25T19:56:15.448Z"
   },
   {
    "duration": 27,
    "start_time": "2021-09-25T19:56:15.465Z"
   },
   {
    "duration": 419,
    "start_time": "2021-09-25T19:56:15.493Z"
   },
   {
    "duration": 473,
    "start_time": "2021-09-25T19:56:15.914Z"
   },
   {
    "duration": 26,
    "start_time": "2021-09-25T20:24:21.836Z"
   },
   {
    "duration": 18,
    "start_time": "2021-09-25T20:24:44.500Z"
   },
   {
    "duration": 1174,
    "start_time": "2021-09-25T22:38:34.709Z"
   },
   {
    "duration": 42,
    "start_time": "2021-09-25T22:39:20.945Z"
   },
   {
    "duration": 40,
    "start_time": "2021-09-25T22:40:20.385Z"
   },
   {
    "duration": 516,
    "start_time": "2021-09-25T22:41:27.623Z"
   },
   {
    "duration": 516,
    "start_time": "2021-09-25T22:42:44.580Z"
   },
   {
    "duration": 470,
    "start_time": "2021-09-25T22:43:18.531Z"
   },
   {
    "duration": 726,
    "start_time": "2021-09-25T23:30:14.636Z"
   },
   {
    "duration": 312,
    "start_time": "2021-09-25T23:30:15.364Z"
   },
   {
    "duration": 16,
    "start_time": "2021-09-25T23:30:15.679Z"
   },
   {
    "duration": 11,
    "start_time": "2021-09-25T23:30:15.697Z"
   },
   {
    "duration": 9,
    "start_time": "2021-09-25T23:30:15.710Z"
   },
   {
    "duration": 14,
    "start_time": "2021-09-25T23:30:15.721Z"
   },
   {
    "duration": 31,
    "start_time": "2021-09-25T23:30:15.736Z"
   },
   {
    "duration": 15,
    "start_time": "2021-09-25T23:30:15.770Z"
   },
   {
    "duration": 19,
    "start_time": "2021-09-25T23:30:15.787Z"
   },
   {
    "duration": 39,
    "start_time": "2021-09-25T23:30:15.808Z"
   },
   {
    "duration": 17,
    "start_time": "2021-09-25T23:30:15.850Z"
   },
   {
    "duration": 13,
    "start_time": "2021-09-25T23:30:15.869Z"
   },
   {
    "duration": 15,
    "start_time": "2021-09-25T23:30:15.884Z"
   },
   {
    "duration": 59,
    "start_time": "2021-09-25T23:30:15.900Z"
   },
   {
    "duration": 19,
    "start_time": "2021-09-25T23:30:15.961Z"
   },
   {
    "duration": 77,
    "start_time": "2021-09-25T23:30:15.983Z"
   },
   {
    "duration": 12,
    "start_time": "2021-09-25T23:30:16.062Z"
   },
   {
    "duration": 9,
    "start_time": "2021-09-25T23:30:16.075Z"
   },
   {
    "duration": 10,
    "start_time": "2021-09-25T23:30:16.086Z"
   },
   {
    "duration": 51,
    "start_time": "2021-09-25T23:30:16.098Z"
   },
   {
    "duration": 17,
    "start_time": "2021-09-25T23:30:16.151Z"
   },
   {
    "duration": 28,
    "start_time": "2021-09-25T23:30:16.170Z"
   },
   {
    "duration": 5,
    "start_time": "2021-09-25T23:30:16.202Z"
   },
   {
    "duration": 29,
    "start_time": "2021-09-25T23:30:16.245Z"
   },
   {
    "duration": 22,
    "start_time": "2021-09-25T23:30:16.277Z"
   },
   {
    "duration": 21,
    "start_time": "2021-09-25T23:30:16.301Z"
   },
   {
    "duration": 22,
    "start_time": "2021-09-25T23:30:16.351Z"
   },
   {
    "duration": 38,
    "start_time": "2021-09-25T23:30:16.375Z"
   },
   {
    "duration": 33,
    "start_time": "2021-09-25T23:30:16.414Z"
   },
   {
    "duration": 22,
    "start_time": "2021-09-25T23:30:16.449Z"
   },
   {
    "duration": 9,
    "start_time": "2021-09-25T23:30:16.473Z"
   },
   {
    "duration": 11,
    "start_time": "2021-09-25T23:30:16.484Z"
   },
   {
    "duration": 1020,
    "start_time": "2021-09-25T23:30:16.497Z"
   },
   {
    "duration": 29,
    "start_time": "2021-09-25T23:30:17.519Z"
   },
   {
    "duration": 5,
    "start_time": "2021-09-25T23:30:17.550Z"
   },
   {
    "duration": 43,
    "start_time": "2021-09-25T23:30:17.557Z"
   },
   {
    "duration": 947,
    "start_time": "2021-09-25T23:30:17.602Z"
   },
   {
    "duration": 19,
    "start_time": "2021-09-25T23:30:18.551Z"
   },
   {
    "duration": 553,
    "start_time": "2021-09-25T23:30:18.572Z"
   },
   {
    "duration": 31,
    "start_time": "2021-09-25T23:30:19.128Z"
   },
   {
    "duration": 3,
    "start_time": "2021-09-25T23:30:19.162Z"
   },
   {
    "duration": 415,
    "start_time": "2021-09-25T23:30:19.167Z"
   },
   {
    "duration": 26,
    "start_time": "2021-09-25T23:30:19.584Z"
   },
   {
    "duration": 334,
    "start_time": "2021-09-25T23:30:19.612Z"
   },
   {
    "duration": 33,
    "start_time": "2021-09-25T23:30:19.949Z"
   },
   {
    "duration": 531,
    "start_time": "2021-09-25T23:30:19.985Z"
   },
   {
    "duration": 19,
    "start_time": "2021-09-25T23:30:20.518Z"
   },
   {
    "duration": 351,
    "start_time": "2021-09-25T23:30:20.538Z"
   },
   {
    "duration": 11,
    "start_time": "2021-09-25T23:30:20.891Z"
   },
   {
    "duration": 22,
    "start_time": "2021-09-25T23:30:20.904Z"
   },
   {
    "duration": 22,
    "start_time": "2021-09-25T23:30:20.928Z"
   },
   {
    "duration": 34,
    "start_time": "2021-09-25T23:30:20.953Z"
   },
   {
    "duration": 38,
    "start_time": "2021-09-25T23:30:20.989Z"
   },
   {
    "duration": 257,
    "start_time": "2021-09-25T23:30:21.029Z"
   },
   {
    "duration": 264,
    "start_time": "2021-09-25T23:30:21.288Z"
   },
   {
    "duration": 24,
    "start_time": "2021-09-25T23:30:21.554Z"
   },
   {
    "duration": 33,
    "start_time": "2021-09-25T23:30:21.580Z"
   },
   {
    "duration": 769,
    "start_time": "2021-09-25T23:30:21.615Z"
   },
   {
    "duration": 613,
    "start_time": "2021-09-25T23:30:22.387Z"
   },
   {
    "duration": 377,
    "start_time": "2021-09-25T23:30:23.003Z"
   },
   {
    "duration": 124,
    "start_time": "2021-09-26T20:55:04.448Z"
   }
  ],
  "colab": {
   "name": "DA+. Сборный проект 1. Шаблон (1).ipynb",
   "provenance": []
  },
  "kernelspec": {
   "display_name": "Python 3",
   "language": "python",
   "name": "python3"
  },
  "language_info": {
   "codemirror_mode": {
    "name": "ipython",
    "version": 3
   },
   "file_extension": ".py",
   "mimetype": "text/x-python",
   "name": "python",
   "nbconvert_exporter": "python",
   "pygments_lexer": "ipython3",
   "version": "3.7.6"
  },
  "toc": {
   "base_numbering": 1,
   "nav_menu": {},
   "number_sections": true,
   "sideBar": true,
   "skip_h1_title": true,
   "title_cell": "Table of Contents",
   "title_sidebar": "Contents",
   "toc_cell": false,
   "toc_position": {
    "height": "calc(100% - 180px)",
    "left": "10px",
    "top": "150px",
    "width": "376px"
   },
   "toc_section_display": true,
   "toc_window_display": true
  }
 },
 "nbformat": 4,
 "nbformat_minor": 1
}
