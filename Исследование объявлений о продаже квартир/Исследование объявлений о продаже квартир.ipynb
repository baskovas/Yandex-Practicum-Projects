{
 "cells": [
  {
   "cell_type": "markdown",
   "metadata": {},
   "source": [
    "## Изучение данных из файла"
   ]
  },
  {
   "cell_type": "code",
   "execution_count": 1,
   "metadata": {},
   "outputs": [],
   "source": [
    "import pandas as pd #импортирую все необходимые для проекта библиотеки: pandas, numpy, matplotlib\n",
    "import numpy as np\n",
    "import matplotlib.pyplot as plt"
   ]
  },
  {
   "cell_type": "code",
   "execution_count": 2,
   "metadata": {},
   "outputs": [],
   "source": [
    "try:\n",
    "    data = pd.read_csv('real_estate_data.csv', sep = '\\t')   #открываем файл \n",
    "except:\n",
    "    data = pd.read_csv('/datasets/real_estate_data.csv', sep = '\\t')"
   ]
  },
  {
   "cell_type": "code",
   "execution_count": 3,
   "metadata": {},
   "outputs": [
    {
     "name": "stdout",
     "output_type": "stream",
     "text": [
      "<class 'pandas.core.frame.DataFrame'>\n",
      "RangeIndex: 23699 entries, 0 to 23698\n",
      "Data columns (total 22 columns):\n",
      "total_images            23699 non-null int64\n",
      "last_price              23699 non-null float64\n",
      "total_area              23699 non-null float64\n",
      "first_day_exposition    23699 non-null object\n",
      "rooms                   23699 non-null int64\n",
      "ceiling_height          14504 non-null float64\n",
      "floors_total            23613 non-null float64\n",
      "living_area             21796 non-null float64\n",
      "floor                   23699 non-null int64\n",
      "is_apartment            2775 non-null object\n",
      "studio                  23699 non-null bool\n",
      "open_plan               23699 non-null bool\n",
      "kitchen_area            21421 non-null float64\n",
      "balcony                 12180 non-null float64\n",
      "locality_name           23650 non-null object\n",
      "airports_nearest        18157 non-null float64\n",
      "cityCenters_nearest     18180 non-null float64\n",
      "parks_around3000        18181 non-null float64\n",
      "parks_nearest           8079 non-null float64\n",
      "ponds_around3000        18181 non-null float64\n",
      "ponds_nearest           9110 non-null float64\n",
      "days_exposition         20518 non-null float64\n",
      "dtypes: bool(2), float64(14), int64(3), object(3)\n",
      "memory usage: 3.7+ MB\n"
     ]
    }
   ],
   "source": [
    "data.info() #получение общей информации о данных"
   ]
  },
  {
   "cell_type": "code",
   "execution_count": 4,
   "metadata": {},
   "outputs": [
    {
     "data": {
      "text/html": [
       "<div>\n",
       "<style scoped>\n",
       "    .dataframe tbody tr th:only-of-type {\n",
       "        vertical-align: middle;\n",
       "    }\n",
       "\n",
       "    .dataframe tbody tr th {\n",
       "        vertical-align: top;\n",
       "    }\n",
       "\n",
       "    .dataframe thead th {\n",
       "        text-align: right;\n",
       "    }\n",
       "</style>\n",
       "<table border=\"1\" class=\"dataframe\">\n",
       "  <thead>\n",
       "    <tr style=\"text-align: right;\">\n",
       "      <th></th>\n",
       "      <th>count</th>\n",
       "      <th>mean</th>\n",
       "      <th>std</th>\n",
       "      <th>min</th>\n",
       "      <th>25%</th>\n",
       "      <th>50%</th>\n",
       "      <th>75%</th>\n",
       "      <th>max</th>\n",
       "    </tr>\n",
       "  </thead>\n",
       "  <tbody>\n",
       "    <tr>\n",
       "      <td>total_images</td>\n",
       "      <td>23699.0</td>\n",
       "      <td>9.858475e+00</td>\n",
       "      <td>5.682529e+00</td>\n",
       "      <td>0.0</td>\n",
       "      <td>6.00</td>\n",
       "      <td>9.00</td>\n",
       "      <td>14.0</td>\n",
       "      <td>50.0</td>\n",
       "    </tr>\n",
       "    <tr>\n",
       "      <td>last_price</td>\n",
       "      <td>23699.0</td>\n",
       "      <td>6.541549e+06</td>\n",
       "      <td>1.088701e+07</td>\n",
       "      <td>12190.0</td>\n",
       "      <td>3400000.00</td>\n",
       "      <td>4650000.00</td>\n",
       "      <td>6800000.0</td>\n",
       "      <td>763000000.0</td>\n",
       "    </tr>\n",
       "    <tr>\n",
       "      <td>total_area</td>\n",
       "      <td>23699.0</td>\n",
       "      <td>6.034865e+01</td>\n",
       "      <td>3.565408e+01</td>\n",
       "      <td>12.0</td>\n",
       "      <td>40.00</td>\n",
       "      <td>52.00</td>\n",
       "      <td>69.9</td>\n",
       "      <td>900.0</td>\n",
       "    </tr>\n",
       "    <tr>\n",
       "      <td>rooms</td>\n",
       "      <td>23699.0</td>\n",
       "      <td>2.070636e+00</td>\n",
       "      <td>1.078405e+00</td>\n",
       "      <td>0.0</td>\n",
       "      <td>1.00</td>\n",
       "      <td>2.00</td>\n",
       "      <td>3.0</td>\n",
       "      <td>19.0</td>\n",
       "    </tr>\n",
       "    <tr>\n",
       "      <td>ceiling_height</td>\n",
       "      <td>14504.0</td>\n",
       "      <td>2.771499e+00</td>\n",
       "      <td>1.261056e+00</td>\n",
       "      <td>1.0</td>\n",
       "      <td>2.52</td>\n",
       "      <td>2.65</td>\n",
       "      <td>2.8</td>\n",
       "      <td>100.0</td>\n",
       "    </tr>\n",
       "    <tr>\n",
       "      <td>floors_total</td>\n",
       "      <td>23613.0</td>\n",
       "      <td>1.067382e+01</td>\n",
       "      <td>6.597173e+00</td>\n",
       "      <td>1.0</td>\n",
       "      <td>5.00</td>\n",
       "      <td>9.00</td>\n",
       "      <td>16.0</td>\n",
       "      <td>60.0</td>\n",
       "    </tr>\n",
       "    <tr>\n",
       "      <td>living_area</td>\n",
       "      <td>21796.0</td>\n",
       "      <td>3.445785e+01</td>\n",
       "      <td>2.203045e+01</td>\n",
       "      <td>2.0</td>\n",
       "      <td>18.60</td>\n",
       "      <td>30.00</td>\n",
       "      <td>42.3</td>\n",
       "      <td>409.7</td>\n",
       "    </tr>\n",
       "    <tr>\n",
       "      <td>floor</td>\n",
       "      <td>23699.0</td>\n",
       "      <td>5.892358e+00</td>\n",
       "      <td>4.885249e+00</td>\n",
       "      <td>1.0</td>\n",
       "      <td>2.00</td>\n",
       "      <td>4.00</td>\n",
       "      <td>8.0</td>\n",
       "      <td>33.0</td>\n",
       "    </tr>\n",
       "    <tr>\n",
       "      <td>kitchen_area</td>\n",
       "      <td>21421.0</td>\n",
       "      <td>1.056981e+01</td>\n",
       "      <td>5.905438e+00</td>\n",
       "      <td>1.3</td>\n",
       "      <td>7.00</td>\n",
       "      <td>9.10</td>\n",
       "      <td>12.0</td>\n",
       "      <td>112.0</td>\n",
       "    </tr>\n",
       "    <tr>\n",
       "      <td>balcony</td>\n",
       "      <td>12180.0</td>\n",
       "      <td>1.150082e+00</td>\n",
       "      <td>1.071300e+00</td>\n",
       "      <td>0.0</td>\n",
       "      <td>0.00</td>\n",
       "      <td>1.00</td>\n",
       "      <td>2.0</td>\n",
       "      <td>5.0</td>\n",
       "    </tr>\n",
       "    <tr>\n",
       "      <td>airports_nearest</td>\n",
       "      <td>18157.0</td>\n",
       "      <td>2.879367e+04</td>\n",
       "      <td>1.263088e+04</td>\n",
       "      <td>0.0</td>\n",
       "      <td>18585.00</td>\n",
       "      <td>26726.00</td>\n",
       "      <td>37273.0</td>\n",
       "      <td>84869.0</td>\n",
       "    </tr>\n",
       "    <tr>\n",
       "      <td>cityCenters_nearest</td>\n",
       "      <td>18180.0</td>\n",
       "      <td>1.419128e+04</td>\n",
       "      <td>8.608386e+03</td>\n",
       "      <td>181.0</td>\n",
       "      <td>9238.00</td>\n",
       "      <td>13098.50</td>\n",
       "      <td>16293.0</td>\n",
       "      <td>65968.0</td>\n",
       "    </tr>\n",
       "    <tr>\n",
       "      <td>parks_around3000</td>\n",
       "      <td>18181.0</td>\n",
       "      <td>6.114075e-01</td>\n",
       "      <td>8.020736e-01</td>\n",
       "      <td>0.0</td>\n",
       "      <td>0.00</td>\n",
       "      <td>0.00</td>\n",
       "      <td>1.0</td>\n",
       "      <td>3.0</td>\n",
       "    </tr>\n",
       "    <tr>\n",
       "      <td>parks_nearest</td>\n",
       "      <td>8079.0</td>\n",
       "      <td>4.908046e+02</td>\n",
       "      <td>3.423180e+02</td>\n",
       "      <td>1.0</td>\n",
       "      <td>288.00</td>\n",
       "      <td>455.00</td>\n",
       "      <td>612.0</td>\n",
       "      <td>3190.0</td>\n",
       "    </tr>\n",
       "    <tr>\n",
       "      <td>ponds_around3000</td>\n",
       "      <td>18181.0</td>\n",
       "      <td>7.702547e-01</td>\n",
       "      <td>9.383456e-01</td>\n",
       "      <td>0.0</td>\n",
       "      <td>0.00</td>\n",
       "      <td>1.00</td>\n",
       "      <td>1.0</td>\n",
       "      <td>3.0</td>\n",
       "    </tr>\n",
       "    <tr>\n",
       "      <td>ponds_nearest</td>\n",
       "      <td>9110.0</td>\n",
       "      <td>5.179809e+02</td>\n",
       "      <td>2.777206e+02</td>\n",
       "      <td>13.0</td>\n",
       "      <td>294.00</td>\n",
       "      <td>502.00</td>\n",
       "      <td>729.0</td>\n",
       "      <td>1344.0</td>\n",
       "    </tr>\n",
       "    <tr>\n",
       "      <td>days_exposition</td>\n",
       "      <td>20518.0</td>\n",
       "      <td>1.808886e+02</td>\n",
       "      <td>2.197280e+02</td>\n",
       "      <td>1.0</td>\n",
       "      <td>45.00</td>\n",
       "      <td>95.00</td>\n",
       "      <td>232.0</td>\n",
       "      <td>1580.0</td>\n",
       "    </tr>\n",
       "  </tbody>\n",
       "</table>\n",
       "</div>"
      ],
      "text/plain": [
       "                       count          mean           std      min         25%  \\\n",
       "total_images         23699.0  9.858475e+00  5.682529e+00      0.0        6.00   \n",
       "last_price           23699.0  6.541549e+06  1.088701e+07  12190.0  3400000.00   \n",
       "total_area           23699.0  6.034865e+01  3.565408e+01     12.0       40.00   \n",
       "rooms                23699.0  2.070636e+00  1.078405e+00      0.0        1.00   \n",
       "ceiling_height       14504.0  2.771499e+00  1.261056e+00      1.0        2.52   \n",
       "floors_total         23613.0  1.067382e+01  6.597173e+00      1.0        5.00   \n",
       "living_area          21796.0  3.445785e+01  2.203045e+01      2.0       18.60   \n",
       "floor                23699.0  5.892358e+00  4.885249e+00      1.0        2.00   \n",
       "kitchen_area         21421.0  1.056981e+01  5.905438e+00      1.3        7.00   \n",
       "balcony              12180.0  1.150082e+00  1.071300e+00      0.0        0.00   \n",
       "airports_nearest     18157.0  2.879367e+04  1.263088e+04      0.0    18585.00   \n",
       "cityCenters_nearest  18180.0  1.419128e+04  8.608386e+03    181.0     9238.00   \n",
       "parks_around3000     18181.0  6.114075e-01  8.020736e-01      0.0        0.00   \n",
       "parks_nearest         8079.0  4.908046e+02  3.423180e+02      1.0      288.00   \n",
       "ponds_around3000     18181.0  7.702547e-01  9.383456e-01      0.0        0.00   \n",
       "ponds_nearest         9110.0  5.179809e+02  2.777206e+02     13.0      294.00   \n",
       "days_exposition      20518.0  1.808886e+02  2.197280e+02      1.0       45.00   \n",
       "\n",
       "                            50%        75%          max  \n",
       "total_images               9.00       14.0         50.0  \n",
       "last_price           4650000.00  6800000.0  763000000.0  \n",
       "total_area                52.00       69.9        900.0  \n",
       "rooms                      2.00        3.0         19.0  \n",
       "ceiling_height             2.65        2.8        100.0  \n",
       "floors_total               9.00       16.0         60.0  \n",
       "living_area               30.00       42.3        409.7  \n",
       "floor                      4.00        8.0         33.0  \n",
       "kitchen_area               9.10       12.0        112.0  \n",
       "balcony                    1.00        2.0          5.0  \n",
       "airports_nearest       26726.00    37273.0      84869.0  \n",
       "cityCenters_nearest    13098.50    16293.0      65968.0  \n",
       "parks_around3000           0.00        1.0          3.0  \n",
       "parks_nearest            455.00      612.0       3190.0  \n",
       "ponds_around3000           1.00        1.0          3.0  \n",
       "ponds_nearest            502.00      729.0       1344.0  \n",
       "days_exposition           95.00      232.0       1580.0  "
      ]
     },
     "execution_count": 4,
     "metadata": {},
     "output_type": "execute_result"
    }
   ],
   "source": [
    "data.describe().T #статистика по датасету"
   ]
  },
  {
   "cell_type": "code",
   "execution_count": 5,
   "metadata": {},
   "outputs": [
    {
     "data": {
      "text/html": [
       "<div>\n",
       "<style scoped>\n",
       "    .dataframe tbody tr th:only-of-type {\n",
       "        vertical-align: middle;\n",
       "    }\n",
       "\n",
       "    .dataframe tbody tr th {\n",
       "        vertical-align: top;\n",
       "    }\n",
       "\n",
       "    .dataframe thead th {\n",
       "        text-align: right;\n",
       "    }\n",
       "</style>\n",
       "<table border=\"1\" class=\"dataframe\">\n",
       "  <thead>\n",
       "    <tr style=\"text-align: right;\">\n",
       "      <th></th>\n",
       "      <th>total_images</th>\n",
       "      <th>last_price</th>\n",
       "      <th>total_area</th>\n",
       "      <th>first_day_exposition</th>\n",
       "      <th>rooms</th>\n",
       "      <th>ceiling_height</th>\n",
       "      <th>floors_total</th>\n",
       "      <th>living_area</th>\n",
       "      <th>floor</th>\n",
       "      <th>is_apartment</th>\n",
       "      <th>...</th>\n",
       "      <th>kitchen_area</th>\n",
       "      <th>balcony</th>\n",
       "      <th>locality_name</th>\n",
       "      <th>airports_nearest</th>\n",
       "      <th>cityCenters_nearest</th>\n",
       "      <th>parks_around3000</th>\n",
       "      <th>parks_nearest</th>\n",
       "      <th>ponds_around3000</th>\n",
       "      <th>ponds_nearest</th>\n",
       "      <th>days_exposition</th>\n",
       "    </tr>\n",
       "  </thead>\n",
       "  <tbody>\n",
       "    <tr>\n",
       "      <td>0</td>\n",
       "      <td>20</td>\n",
       "      <td>13000000.0</td>\n",
       "      <td>108.0</td>\n",
       "      <td>2019-03-07T00:00:00</td>\n",
       "      <td>3</td>\n",
       "      <td>2.70</td>\n",
       "      <td>16.0</td>\n",
       "      <td>51.0</td>\n",
       "      <td>8</td>\n",
       "      <td>NaN</td>\n",
       "      <td>...</td>\n",
       "      <td>25.0</td>\n",
       "      <td>NaN</td>\n",
       "      <td>Санкт-Петербург</td>\n",
       "      <td>18863.0</td>\n",
       "      <td>16028.0</td>\n",
       "      <td>1.0</td>\n",
       "      <td>482.0</td>\n",
       "      <td>2.0</td>\n",
       "      <td>755.0</td>\n",
       "      <td>NaN</td>\n",
       "    </tr>\n",
       "    <tr>\n",
       "      <td>1</td>\n",
       "      <td>7</td>\n",
       "      <td>3350000.0</td>\n",
       "      <td>40.4</td>\n",
       "      <td>2018-12-04T00:00:00</td>\n",
       "      <td>1</td>\n",
       "      <td>NaN</td>\n",
       "      <td>11.0</td>\n",
       "      <td>18.6</td>\n",
       "      <td>1</td>\n",
       "      <td>NaN</td>\n",
       "      <td>...</td>\n",
       "      <td>11.0</td>\n",
       "      <td>2.0</td>\n",
       "      <td>посёлок Шушары</td>\n",
       "      <td>12817.0</td>\n",
       "      <td>18603.0</td>\n",
       "      <td>0.0</td>\n",
       "      <td>NaN</td>\n",
       "      <td>0.0</td>\n",
       "      <td>NaN</td>\n",
       "      <td>81.0</td>\n",
       "    </tr>\n",
       "    <tr>\n",
       "      <td>2</td>\n",
       "      <td>10</td>\n",
       "      <td>5196000.0</td>\n",
       "      <td>56.0</td>\n",
       "      <td>2015-08-20T00:00:00</td>\n",
       "      <td>2</td>\n",
       "      <td>NaN</td>\n",
       "      <td>5.0</td>\n",
       "      <td>34.3</td>\n",
       "      <td>4</td>\n",
       "      <td>NaN</td>\n",
       "      <td>...</td>\n",
       "      <td>8.3</td>\n",
       "      <td>0.0</td>\n",
       "      <td>Санкт-Петербург</td>\n",
       "      <td>21741.0</td>\n",
       "      <td>13933.0</td>\n",
       "      <td>1.0</td>\n",
       "      <td>90.0</td>\n",
       "      <td>2.0</td>\n",
       "      <td>574.0</td>\n",
       "      <td>558.0</td>\n",
       "    </tr>\n",
       "    <tr>\n",
       "      <td>3</td>\n",
       "      <td>0</td>\n",
       "      <td>64900000.0</td>\n",
       "      <td>159.0</td>\n",
       "      <td>2015-07-24T00:00:00</td>\n",
       "      <td>3</td>\n",
       "      <td>NaN</td>\n",
       "      <td>14.0</td>\n",
       "      <td>NaN</td>\n",
       "      <td>9</td>\n",
       "      <td>NaN</td>\n",
       "      <td>...</td>\n",
       "      <td>NaN</td>\n",
       "      <td>0.0</td>\n",
       "      <td>Санкт-Петербург</td>\n",
       "      <td>28098.0</td>\n",
       "      <td>6800.0</td>\n",
       "      <td>2.0</td>\n",
       "      <td>84.0</td>\n",
       "      <td>3.0</td>\n",
       "      <td>234.0</td>\n",
       "      <td>424.0</td>\n",
       "    </tr>\n",
       "    <tr>\n",
       "      <td>4</td>\n",
       "      <td>2</td>\n",
       "      <td>10000000.0</td>\n",
       "      <td>100.0</td>\n",
       "      <td>2018-06-19T00:00:00</td>\n",
       "      <td>2</td>\n",
       "      <td>3.03</td>\n",
       "      <td>14.0</td>\n",
       "      <td>32.0</td>\n",
       "      <td>13</td>\n",
       "      <td>NaN</td>\n",
       "      <td>...</td>\n",
       "      <td>41.0</td>\n",
       "      <td>NaN</td>\n",
       "      <td>Санкт-Петербург</td>\n",
       "      <td>31856.0</td>\n",
       "      <td>8098.0</td>\n",
       "      <td>2.0</td>\n",
       "      <td>112.0</td>\n",
       "      <td>1.0</td>\n",
       "      <td>48.0</td>\n",
       "      <td>121.0</td>\n",
       "    </tr>\n",
       "  </tbody>\n",
       "</table>\n",
       "<p>5 rows × 22 columns</p>\n",
       "</div>"
      ],
      "text/plain": [
       "   total_images  last_price  total_area first_day_exposition  rooms  \\\n",
       "0            20  13000000.0       108.0  2019-03-07T00:00:00      3   \n",
       "1             7   3350000.0        40.4  2018-12-04T00:00:00      1   \n",
       "2            10   5196000.0        56.0  2015-08-20T00:00:00      2   \n",
       "3             0  64900000.0       159.0  2015-07-24T00:00:00      3   \n",
       "4             2  10000000.0       100.0  2018-06-19T00:00:00      2   \n",
       "\n",
       "   ceiling_height  floors_total  living_area  floor is_apartment  ...  \\\n",
       "0            2.70          16.0         51.0      8          NaN  ...   \n",
       "1             NaN          11.0         18.6      1          NaN  ...   \n",
       "2             NaN           5.0         34.3      4          NaN  ...   \n",
       "3             NaN          14.0          NaN      9          NaN  ...   \n",
       "4            3.03          14.0         32.0     13          NaN  ...   \n",
       "\n",
       "   kitchen_area  balcony    locality_name  airports_nearest  \\\n",
       "0          25.0      NaN  Санкт-Петербург           18863.0   \n",
       "1          11.0      2.0   посёлок Шушары           12817.0   \n",
       "2           8.3      0.0  Санкт-Петербург           21741.0   \n",
       "3           NaN      0.0  Санкт-Петербург           28098.0   \n",
       "4          41.0      NaN  Санкт-Петербург           31856.0   \n",
       "\n",
       "  cityCenters_nearest  parks_around3000  parks_nearest  ponds_around3000  \\\n",
       "0             16028.0               1.0          482.0               2.0   \n",
       "1             18603.0               0.0            NaN               0.0   \n",
       "2             13933.0               1.0           90.0               2.0   \n",
       "3              6800.0               2.0           84.0               3.0   \n",
       "4              8098.0               2.0          112.0               1.0   \n",
       "\n",
       "   ponds_nearest  days_exposition  \n",
       "0          755.0              NaN  \n",
       "1            NaN             81.0  \n",
       "2          574.0            558.0  \n",
       "3          234.0            424.0  \n",
       "4           48.0            121.0  \n",
       "\n",
       "[5 rows x 22 columns]"
      ]
     },
     "execution_count": 5,
     "metadata": {},
     "output_type": "execute_result"
    }
   ],
   "source": [
    "data.head() #вывод первых пяти строк в датафрейме"
   ]
  },
  {
   "cell_type": "code",
   "execution_count": 6,
   "metadata": {},
   "outputs": [
    {
     "data": {
      "text/html": [
       "<div>\n",
       "<style scoped>\n",
       "    .dataframe tbody tr th:only-of-type {\n",
       "        vertical-align: middle;\n",
       "    }\n",
       "\n",
       "    .dataframe tbody tr th {\n",
       "        vertical-align: top;\n",
       "    }\n",
       "\n",
       "    .dataframe thead th {\n",
       "        text-align: right;\n",
       "    }\n",
       "</style>\n",
       "<table border=\"1\" class=\"dataframe\">\n",
       "  <thead>\n",
       "    <tr style=\"text-align: right;\">\n",
       "      <th></th>\n",
       "      <th>total_images</th>\n",
       "      <th>last_price</th>\n",
       "      <th>total_area</th>\n",
       "      <th>first_day_exposition</th>\n",
       "      <th>rooms</th>\n",
       "      <th>ceiling_height</th>\n",
       "      <th>floors_total</th>\n",
       "      <th>living_area</th>\n",
       "      <th>floor</th>\n",
       "      <th>is_apartment</th>\n",
       "      <th>...</th>\n",
       "      <th>kitchen_area</th>\n",
       "      <th>balcony</th>\n",
       "      <th>locality_name</th>\n",
       "      <th>airports_nearest</th>\n",
       "      <th>cityCenters_nearest</th>\n",
       "      <th>parks_around3000</th>\n",
       "      <th>parks_nearest</th>\n",
       "      <th>ponds_around3000</th>\n",
       "      <th>ponds_nearest</th>\n",
       "      <th>days_exposition</th>\n",
       "    </tr>\n",
       "  </thead>\n",
       "  <tbody>\n",
       "    <tr>\n",
       "      <td>23694</td>\n",
       "      <td>9</td>\n",
       "      <td>9700000.0</td>\n",
       "      <td>133.81</td>\n",
       "      <td>2017-03-21T00:00:00</td>\n",
       "      <td>3</td>\n",
       "      <td>3.7</td>\n",
       "      <td>5.0</td>\n",
       "      <td>73.3</td>\n",
       "      <td>3</td>\n",
       "      <td>NaN</td>\n",
       "      <td>...</td>\n",
       "      <td>13.83</td>\n",
       "      <td>NaN</td>\n",
       "      <td>Санкт-Петербург</td>\n",
       "      <td>24665.0</td>\n",
       "      <td>4232.0</td>\n",
       "      <td>1.0</td>\n",
       "      <td>796.0</td>\n",
       "      <td>3.0</td>\n",
       "      <td>381.0</td>\n",
       "      <td>NaN</td>\n",
       "    </tr>\n",
       "    <tr>\n",
       "      <td>23695</td>\n",
       "      <td>14</td>\n",
       "      <td>3100000.0</td>\n",
       "      <td>59.00</td>\n",
       "      <td>2018-01-15T00:00:00</td>\n",
       "      <td>3</td>\n",
       "      <td>NaN</td>\n",
       "      <td>5.0</td>\n",
       "      <td>38.0</td>\n",
       "      <td>4</td>\n",
       "      <td>NaN</td>\n",
       "      <td>...</td>\n",
       "      <td>8.50</td>\n",
       "      <td>NaN</td>\n",
       "      <td>Тосно</td>\n",
       "      <td>NaN</td>\n",
       "      <td>NaN</td>\n",
       "      <td>NaN</td>\n",
       "      <td>NaN</td>\n",
       "      <td>NaN</td>\n",
       "      <td>NaN</td>\n",
       "      <td>45.0</td>\n",
       "    </tr>\n",
       "    <tr>\n",
       "      <td>23696</td>\n",
       "      <td>18</td>\n",
       "      <td>2500000.0</td>\n",
       "      <td>56.70</td>\n",
       "      <td>2018-02-11T00:00:00</td>\n",
       "      <td>2</td>\n",
       "      <td>NaN</td>\n",
       "      <td>3.0</td>\n",
       "      <td>29.7</td>\n",
       "      <td>1</td>\n",
       "      <td>NaN</td>\n",
       "      <td>...</td>\n",
       "      <td>NaN</td>\n",
       "      <td>NaN</td>\n",
       "      <td>село Рождествено</td>\n",
       "      <td>NaN</td>\n",
       "      <td>NaN</td>\n",
       "      <td>NaN</td>\n",
       "      <td>NaN</td>\n",
       "      <td>NaN</td>\n",
       "      <td>NaN</td>\n",
       "      <td>NaN</td>\n",
       "    </tr>\n",
       "    <tr>\n",
       "      <td>23697</td>\n",
       "      <td>13</td>\n",
       "      <td>11475000.0</td>\n",
       "      <td>76.75</td>\n",
       "      <td>2017-03-28T00:00:00</td>\n",
       "      <td>2</td>\n",
       "      <td>3.0</td>\n",
       "      <td>17.0</td>\n",
       "      <td>NaN</td>\n",
       "      <td>12</td>\n",
       "      <td>NaN</td>\n",
       "      <td>...</td>\n",
       "      <td>23.30</td>\n",
       "      <td>2.0</td>\n",
       "      <td>Санкт-Петербург</td>\n",
       "      <td>39140.0</td>\n",
       "      <td>10364.0</td>\n",
       "      <td>2.0</td>\n",
       "      <td>173.0</td>\n",
       "      <td>3.0</td>\n",
       "      <td>196.0</td>\n",
       "      <td>602.0</td>\n",
       "    </tr>\n",
       "    <tr>\n",
       "      <td>23698</td>\n",
       "      <td>4</td>\n",
       "      <td>1350000.0</td>\n",
       "      <td>32.30</td>\n",
       "      <td>2017-07-21T00:00:00</td>\n",
       "      <td>1</td>\n",
       "      <td>2.5</td>\n",
       "      <td>5.0</td>\n",
       "      <td>12.3</td>\n",
       "      <td>1</td>\n",
       "      <td>NaN</td>\n",
       "      <td>...</td>\n",
       "      <td>9.00</td>\n",
       "      <td>NaN</td>\n",
       "      <td>поселок Новый Учхоз</td>\n",
       "      <td>NaN</td>\n",
       "      <td>NaN</td>\n",
       "      <td>NaN</td>\n",
       "      <td>NaN</td>\n",
       "      <td>NaN</td>\n",
       "      <td>NaN</td>\n",
       "      <td>NaN</td>\n",
       "    </tr>\n",
       "  </tbody>\n",
       "</table>\n",
       "<p>5 rows × 22 columns</p>\n",
       "</div>"
      ],
      "text/plain": [
       "       total_images  last_price  total_area first_day_exposition  rooms  \\\n",
       "23694             9   9700000.0      133.81  2017-03-21T00:00:00      3   \n",
       "23695            14   3100000.0       59.00  2018-01-15T00:00:00      3   \n",
       "23696            18   2500000.0       56.70  2018-02-11T00:00:00      2   \n",
       "23697            13  11475000.0       76.75  2017-03-28T00:00:00      2   \n",
       "23698             4   1350000.0       32.30  2017-07-21T00:00:00      1   \n",
       "\n",
       "       ceiling_height  floors_total  living_area  floor is_apartment  ...  \\\n",
       "23694             3.7           5.0         73.3      3          NaN  ...   \n",
       "23695             NaN           5.0         38.0      4          NaN  ...   \n",
       "23696             NaN           3.0         29.7      1          NaN  ...   \n",
       "23697             3.0          17.0          NaN     12          NaN  ...   \n",
       "23698             2.5           5.0         12.3      1          NaN  ...   \n",
       "\n",
       "       kitchen_area  balcony        locality_name  airports_nearest  \\\n",
       "23694         13.83      NaN      Санкт-Петербург           24665.0   \n",
       "23695          8.50      NaN                Тосно               NaN   \n",
       "23696           NaN      NaN     село Рождествено               NaN   \n",
       "23697         23.30      2.0      Санкт-Петербург           39140.0   \n",
       "23698          9.00      NaN  поселок Новый Учхоз               NaN   \n",
       "\n",
       "      cityCenters_nearest  parks_around3000  parks_nearest  ponds_around3000  \\\n",
       "23694              4232.0               1.0          796.0               3.0   \n",
       "23695                 NaN               NaN            NaN               NaN   \n",
       "23696                 NaN               NaN            NaN               NaN   \n",
       "23697             10364.0               2.0          173.0               3.0   \n",
       "23698                 NaN               NaN            NaN               NaN   \n",
       "\n",
       "       ponds_nearest  days_exposition  \n",
       "23694          381.0              NaN  \n",
       "23695            NaN             45.0  \n",
       "23696            NaN              NaN  \n",
       "23697          196.0            602.0  \n",
       "23698            NaN              NaN  \n",
       "\n",
       "[5 rows x 22 columns]"
      ]
     },
     "execution_count": 6,
     "metadata": {},
     "output_type": "execute_result"
    }
   ],
   "source": [
    "data.tail() #вывод последних пяти строк датасета"
   ]
  },
  {
   "cell_type": "code",
   "execution_count": 7,
   "metadata": {},
   "outputs": [
    {
     "data": {
      "text/html": [
       "<div>\n",
       "<style scoped>\n",
       "    .dataframe tbody tr th:only-of-type {\n",
       "        vertical-align: middle;\n",
       "    }\n",
       "\n",
       "    .dataframe tbody tr th {\n",
       "        vertical-align: top;\n",
       "    }\n",
       "\n",
       "    .dataframe thead th {\n",
       "        text-align: right;\n",
       "    }\n",
       "</style>\n",
       "<table border=\"1\" class=\"dataframe\">\n",
       "  <thead>\n",
       "    <tr style=\"text-align: right;\">\n",
       "      <th></th>\n",
       "      <th>total_images</th>\n",
       "      <th>last_price</th>\n",
       "      <th>total_area</th>\n",
       "      <th>first_day_exposition</th>\n",
       "      <th>rooms</th>\n",
       "      <th>ceiling_height</th>\n",
       "      <th>floors_total</th>\n",
       "      <th>living_area</th>\n",
       "      <th>floor</th>\n",
       "      <th>is_apartment</th>\n",
       "      <th>...</th>\n",
       "      <th>kitchen_area</th>\n",
       "      <th>balcony</th>\n",
       "      <th>locality_name</th>\n",
       "      <th>airports_nearest</th>\n",
       "      <th>cityCenters_nearest</th>\n",
       "      <th>parks_around3000</th>\n",
       "      <th>parks_nearest</th>\n",
       "      <th>ponds_around3000</th>\n",
       "      <th>ponds_nearest</th>\n",
       "      <th>days_exposition</th>\n",
       "    </tr>\n",
       "  </thead>\n",
       "  <tbody>\n",
       "    <tr>\n",
       "      <td>11365</td>\n",
       "      <td>10</td>\n",
       "      <td>6450000.0</td>\n",
       "      <td>56.0</td>\n",
       "      <td>2018-04-25T00:00:00</td>\n",
       "      <td>2</td>\n",
       "      <td>3.20</td>\n",
       "      <td>5.0</td>\n",
       "      <td>30.0</td>\n",
       "      <td>5</td>\n",
       "      <td>NaN</td>\n",
       "      <td>...</td>\n",
       "      <td>16.0</td>\n",
       "      <td>NaN</td>\n",
       "      <td>Санкт-Петербург</td>\n",
       "      <td>27809.0</td>\n",
       "      <td>6657.0</td>\n",
       "      <td>2.0</td>\n",
       "      <td>374.0</td>\n",
       "      <td>2.0</td>\n",
       "      <td>757.0</td>\n",
       "      <td>84.0</td>\n",
       "    </tr>\n",
       "    <tr>\n",
       "      <td>9116</td>\n",
       "      <td>4</td>\n",
       "      <td>5200000.0</td>\n",
       "      <td>39.2</td>\n",
       "      <td>2016-07-14T00:00:00</td>\n",
       "      <td>1</td>\n",
       "      <td>NaN</td>\n",
       "      <td>25.0</td>\n",
       "      <td>20.1</td>\n",
       "      <td>9</td>\n",
       "      <td>False</td>\n",
       "      <td>...</td>\n",
       "      <td>10.7</td>\n",
       "      <td>0.0</td>\n",
       "      <td>Санкт-Петербург</td>\n",
       "      <td>9354.0</td>\n",
       "      <td>13149.0</td>\n",
       "      <td>1.0</td>\n",
       "      <td>541.0</td>\n",
       "      <td>1.0</td>\n",
       "      <td>333.0</td>\n",
       "      <td>95.0</td>\n",
       "    </tr>\n",
       "    <tr>\n",
       "      <td>3464</td>\n",
       "      <td>20</td>\n",
       "      <td>6550000.0</td>\n",
       "      <td>91.0</td>\n",
       "      <td>2018-09-02T00:00:00</td>\n",
       "      <td>3</td>\n",
       "      <td>2.75</td>\n",
       "      <td>23.0</td>\n",
       "      <td>49.5</td>\n",
       "      <td>8</td>\n",
       "      <td>NaN</td>\n",
       "      <td>...</td>\n",
       "      <td>13.7</td>\n",
       "      <td>NaN</td>\n",
       "      <td>Всеволожск</td>\n",
       "      <td>NaN</td>\n",
       "      <td>NaN</td>\n",
       "      <td>NaN</td>\n",
       "      <td>NaN</td>\n",
       "      <td>NaN</td>\n",
       "      <td>NaN</td>\n",
       "      <td>NaN</td>\n",
       "    </tr>\n",
       "    <tr>\n",
       "      <td>17431</td>\n",
       "      <td>10</td>\n",
       "      <td>4600000.0</td>\n",
       "      <td>44.0</td>\n",
       "      <td>2018-12-10T00:00:00</td>\n",
       "      <td>1</td>\n",
       "      <td>2.80</td>\n",
       "      <td>19.0</td>\n",
       "      <td>16.0</td>\n",
       "      <td>7</td>\n",
       "      <td>NaN</td>\n",
       "      <td>...</td>\n",
       "      <td>10.0</td>\n",
       "      <td>1.0</td>\n",
       "      <td>Санкт-Петербург</td>\n",
       "      <td>19964.0</td>\n",
       "      <td>13496.0</td>\n",
       "      <td>2.0</td>\n",
       "      <td>595.0</td>\n",
       "      <td>1.0</td>\n",
       "      <td>774.0</td>\n",
       "      <td>36.0</td>\n",
       "    </tr>\n",
       "    <tr>\n",
       "      <td>9968</td>\n",
       "      <td>10</td>\n",
       "      <td>6800000.0</td>\n",
       "      <td>79.0</td>\n",
       "      <td>2019-01-28T00:00:00</td>\n",
       "      <td>3</td>\n",
       "      <td>3.00</td>\n",
       "      <td>5.0</td>\n",
       "      <td>56.0</td>\n",
       "      <td>1</td>\n",
       "      <td>NaN</td>\n",
       "      <td>...</td>\n",
       "      <td>8.0</td>\n",
       "      <td>NaN</td>\n",
       "      <td>Санкт-Петербург</td>\n",
       "      <td>28195.0</td>\n",
       "      <td>7042.0</td>\n",
       "      <td>0.0</td>\n",
       "      <td>NaN</td>\n",
       "      <td>0.0</td>\n",
       "      <td>NaN</td>\n",
       "      <td>16.0</td>\n",
       "    </tr>\n",
       "  </tbody>\n",
       "</table>\n",
       "<p>5 rows × 22 columns</p>\n",
       "</div>"
      ],
      "text/plain": [
       "       total_images  last_price  total_area first_day_exposition  rooms  \\\n",
       "11365            10   6450000.0        56.0  2018-04-25T00:00:00      2   \n",
       "9116              4   5200000.0        39.2  2016-07-14T00:00:00      1   \n",
       "3464             20   6550000.0        91.0  2018-09-02T00:00:00      3   \n",
       "17431            10   4600000.0        44.0  2018-12-10T00:00:00      1   \n",
       "9968             10   6800000.0        79.0  2019-01-28T00:00:00      3   \n",
       "\n",
       "       ceiling_height  floors_total  living_area  floor is_apartment  ...  \\\n",
       "11365            3.20           5.0         30.0      5          NaN  ...   \n",
       "9116              NaN          25.0         20.1      9        False  ...   \n",
       "3464             2.75          23.0         49.5      8          NaN  ...   \n",
       "17431            2.80          19.0         16.0      7          NaN  ...   \n",
       "9968             3.00           5.0         56.0      1          NaN  ...   \n",
       "\n",
       "       kitchen_area  balcony    locality_name  airports_nearest  \\\n",
       "11365          16.0      NaN  Санкт-Петербург           27809.0   \n",
       "9116           10.7      0.0  Санкт-Петербург            9354.0   \n",
       "3464           13.7      NaN       Всеволожск               NaN   \n",
       "17431          10.0      1.0  Санкт-Петербург           19964.0   \n",
       "9968            8.0      NaN  Санкт-Петербург           28195.0   \n",
       "\n",
       "      cityCenters_nearest  parks_around3000  parks_nearest  ponds_around3000  \\\n",
       "11365              6657.0               2.0          374.0               2.0   \n",
       "9116              13149.0               1.0          541.0               1.0   \n",
       "3464                  NaN               NaN            NaN               NaN   \n",
       "17431             13496.0               2.0          595.0               1.0   \n",
       "9968               7042.0               0.0            NaN               0.0   \n",
       "\n",
       "       ponds_nearest  days_exposition  \n",
       "11365          757.0             84.0  \n",
       "9116           333.0             95.0  \n",
       "3464             NaN              NaN  \n",
       "17431          774.0             36.0  \n",
       "9968             NaN             16.0  \n",
       "\n",
       "[5 rows x 22 columns]"
      ]
     },
     "execution_count": 7,
     "metadata": {},
     "output_type": "execute_result"
    }
   ],
   "source": [
    "data.sample(5) #пять случайных строк из датасета"
   ]
  },
  {
   "cell_type": "code",
   "execution_count": 8,
   "metadata": {},
   "outputs": [
    {
     "data": {
      "text/plain": [
       "array(['Санкт-Петербург', 'посёлок Шушары', 'городской посёлок Янино-1',\n",
       "       'посёлок Парголово', 'посёлок Мурино', 'Ломоносов', 'Сертолово',\n",
       "       'Петергоф', 'Пушкин', 'деревня Кудрово', 'Коммунар', 'Колпино',\n",
       "       'поселок городского типа Красный Бор', 'Гатчина', 'поселок Мурино',\n",
       "       'деревня Фёдоровское', 'Выборг', 'Кронштадт', 'Кировск',\n",
       "       'деревня Новое Девяткино', 'посёлок Металлострой',\n",
       "       'посёлок городского типа Лебяжье',\n",
       "       'посёлок городского типа Сиверский', 'поселок Молодцово',\n",
       "       'поселок городского типа Кузьмоловский',\n",
       "       'садовое товарищество Новая Ропша', 'Павловск',\n",
       "       'деревня Пикколово', 'Всеволожск', 'Волхов', 'Кингисепп',\n",
       "       'Приозерск', 'Сестрорецк', 'деревня Куттузи', 'посёлок Аннино',\n",
       "       'поселок городского типа Ефимовский', 'посёлок Плодовое',\n",
       "       'деревня Заклинье', 'поселок Торковичи', 'поселок Первомайское',\n",
       "       'Красное Село', 'посёлок Понтонный', 'Сясьстрой', 'деревня Старая',\n",
       "       'деревня Лесколово', 'посёлок Новый Свет', 'Сланцы',\n",
       "       'село Путилово', 'Ивангород', 'Мурино', 'Шлиссельбург',\n",
       "       'Никольское', 'Зеленогорск', 'Сосновый Бор', 'поселок Новый Свет',\n",
       "       'деревня Оржицы', 'деревня Кальтино', 'Кудрово',\n",
       "       'поселок Романовка', 'посёлок Бугры', 'поселок Бугры',\n",
       "       'поселок городского типа Рощино', 'Кириши', 'Луга', 'Волосово',\n",
       "       'Отрадное', 'село Павлово', 'поселок Оредеж', 'село Копорье',\n",
       "       'посёлок городского типа Красный Бор', 'посёлок Молодёжное',\n",
       "       'Тихвин', 'посёлок Победа', 'деревня Нурма',\n",
       "       'поселок городского типа Синявино', 'Тосно',\n",
       "       'посёлок городского типа Кузьмоловский', 'посёлок Стрельна',\n",
       "       'Бокситогорск', 'посёлок Александровская', 'деревня Лопухинка',\n",
       "       'Пикалёво', 'поселок Терволово',\n",
       "       'поселок городского типа Советский', 'Подпорожье',\n",
       "       'посёлок Петровское', 'посёлок городского типа Токсово',\n",
       "       'поселок Сельцо', 'посёлок городского типа Вырица',\n",
       "       'деревня Кипень', 'деревня Келози', 'деревня Вартемяги',\n",
       "       'посёлок Тельмана', 'поселок Севастьяново',\n",
       "       'городской поселок Большая Ижора', nan,\n",
       "       'городской посёлок Павлово', 'деревня Агалатово',\n",
       "       'посёлок Новогорелово', 'городской посёлок Лесогорский',\n",
       "       'деревня Лаголово', 'поселок Цвелодубово',\n",
       "       'поселок городского типа Рахья', 'поселок городского типа Вырица',\n",
       "       'деревня Белогорка', 'поселок Заводской',\n",
       "       'городской посёлок Новоселье', 'деревня Большие Колпаны',\n",
       "       'деревня Горбунки', 'деревня Батово', 'деревня Заневка',\n",
       "       'деревня Иссад', 'Приморск', 'городской посёлок Фёдоровское',\n",
       "       'деревня Мистолово', 'Новая Ладога', 'поселок Зимитицы',\n",
       "       'поселок Барышево', 'деревня Разметелево',\n",
       "       'поселок городского типа имени Свердлова', 'деревня Пеники',\n",
       "       'поселок Рябово', 'деревня Пудомяги', 'поселок станции Корнево',\n",
       "       'деревня Низино', 'деревня Бегуницы', 'посёлок Поляны',\n",
       "       'городской посёлок Мга', 'поселок Елизаветино',\n",
       "       'посёлок городского типа Кузнечное', 'деревня Колтуши',\n",
       "       'поселок Запорожское', 'посёлок городского типа Рощино',\n",
       "       'деревня Гостилицы', 'деревня Малое Карлино',\n",
       "       'посёлок Мичуринское', 'посёлок городского типа имени Морозова',\n",
       "       'посёлок Песочный', 'посёлок Сосново', 'деревня Аро',\n",
       "       'поселок Ильичёво', 'посёлок городского типа Тайцы',\n",
       "       'деревня Малое Верево', 'деревня Извара', 'поселок станции Вещево',\n",
       "       'село Паша', 'деревня Калитино',\n",
       "       'посёлок городского типа Ульяновка', 'деревня Чудской Бор',\n",
       "       'поселок городского типа Дубровка', 'деревня Мины',\n",
       "       'поселок Войсковицы', 'посёлок городского типа имени Свердлова',\n",
       "       'деревня Коркино', 'посёлок Ропша',\n",
       "       'поселок городского типа Приладожский', 'посёлок Щеглово',\n",
       "       'посёлок Гаврилово', 'Лодейное Поле', 'деревня Рабитицы',\n",
       "       'поселок городского типа Никольский', 'деревня Кузьмолово',\n",
       "       'деревня Малые Колпаны', 'поселок Тельмана',\n",
       "       'посёлок Петро-Славянка', 'городской посёлок Назия',\n",
       "       'посёлок Репино', 'посёлок Ильичёво', 'поселок Углово',\n",
       "       'поселок Старая Малукса', 'садовое товарищество Рахья',\n",
       "       'поселок Аннино', 'поселок Победа', 'деревня Меньково',\n",
       "       'деревня Старые Бегуницы', 'посёлок Сапёрный', 'поселок Семрино',\n",
       "       'поселок Гаврилово', 'поселок Глажево', 'поселок Кобринское',\n",
       "       'деревня Гарболово', 'деревня Юкки',\n",
       "       'поселок станции Приветнинское', 'деревня Мануйлово',\n",
       "       'деревня Пчева', 'поселок Поляны', 'поселок Цвылёво',\n",
       "       'поселок Мельниково', 'посёлок Пудость', 'посёлок Усть-Луга',\n",
       "       'Светогорск', 'Любань', 'поселок Селезнёво',\n",
       "       'поселок городского типа Рябово', 'Каменногорск', 'деревня Кривко',\n",
       "       'поселок Глебычево', 'деревня Парицы', 'поселок Жилпосёлок',\n",
       "       'посёлок городского типа Мга', 'городской поселок Янино-1',\n",
       "       'посёлок Войскорово', 'село Никольское', 'посёлок Терволово',\n",
       "       'поселок Стеклянный', 'посёлок городского типа Важины',\n",
       "       'посёлок Мыза-Ивановка', 'село Русско-Высоцкое',\n",
       "       'поселок городского типа Лебяжье',\n",
       "       'поселок городского типа Форносово', 'село Старая Ладога',\n",
       "       'поселок Житково', 'городской посёлок Виллози', 'деревня Лампово',\n",
       "       'деревня Шпаньково', 'деревня Лаврики', 'посёлок Сумино',\n",
       "       'посёлок Возрождение', 'деревня Старосиверская',\n",
       "       'посёлок Кикерино', 'поселок Возрождение',\n",
       "       'деревня Старое Хинколово', 'посёлок Пригородный',\n",
       "       'посёлок Торфяное', 'городской посёлок Будогощь',\n",
       "       'поселок Суходолье', 'поселок Красная Долина', 'деревня Хапо-Ое',\n",
       "       'поселок городского типа Дружная Горка', 'поселок Лисий Нос',\n",
       "       'деревня Яльгелево', 'посёлок Стеклянный', 'село Рождествено',\n",
       "       'деревня Старополье', 'посёлок Левашово', 'деревня Сяськелево',\n",
       "       'деревня Камышовка',\n",
       "       'садоводческое некоммерческое товарищество Лесная Поляна',\n",
       "       'деревня Хязельки', 'поселок Жилгородок',\n",
       "       'посёлок городского типа Павлово', 'деревня Ялгино',\n",
       "       'поселок Новый Учхоз', 'городской посёлок Рощино',\n",
       "       'поселок Гончарово', 'поселок Почап', 'посёлок Сапёрное',\n",
       "       'посёлок Платформа 69-й километр', 'поселок Каложицы',\n",
       "       'деревня Фалилеево', 'деревня Пельгора',\n",
       "       'поселок городского типа Лесогорский', 'деревня Торошковичи',\n",
       "       'посёлок Белоостров', 'посёлок Алексеевка', 'поселок Серебрянский',\n",
       "       'поселок Лукаши', 'поселок Петровское', 'деревня Щеглово',\n",
       "       'поселок Мичуринское', 'деревня Тарасово', 'поселок Кингисеппский',\n",
       "       'посёлок при железнодорожной станции Вещево', 'поселок Ушаки',\n",
       "       'деревня Котлы', 'деревня Сижно', 'деревня Торосово',\n",
       "       'посёлок Форт Красная Горка', 'поселок городского типа Токсово',\n",
       "       'деревня Новолисино', 'посёлок станции Громово', 'деревня Глинка',\n",
       "       'посёлок Мельниково', 'поселок городского типа Назия',\n",
       "       'деревня Старая Пустошь', 'поселок Коммунары', 'поселок Починок',\n",
       "       'посёлок городского типа Вознесенье', 'деревня Разбегаево',\n",
       "       'посёлок городского типа Рябово', 'поселок Гладкое',\n",
       "       'посёлок при железнодорожной станции Приветнинское',\n",
       "       'поселок Тёсово-4', 'посёлок Жилгородок', 'деревня Бор',\n",
       "       'посёлок Коробицыно', 'деревня Большая Вруда', 'деревня Курковицы',\n",
       "       'посёлок Лисий Нос', 'городской посёлок Советский',\n",
       "       'посёлок Кобралово', 'деревня Суоранда', 'поселок Кобралово',\n",
       "       'поселок городского типа Кондратьево',\n",
       "       'коттеджный поселок Счастье', 'поселок Любань', 'деревня Реброво',\n",
       "       'деревня Зимитицы', 'деревня Тойворово', 'поселок Семиозерье',\n",
       "       'поселок Лесное', 'поселок Совхозный', 'поселок Усть-Луга',\n",
       "       'посёлок Ленинское', 'посёлок Суйда',\n",
       "       'посёлок городского типа Форносово', 'деревня Нижние Осельки',\n",
       "       'посёлок станции Свирь', 'поселок Перово', 'Высоцк',\n",
       "       'поселок Гарболово', 'село Шум', 'поселок Котельский',\n",
       "       'поселок станции Лужайка', 'деревня Большая Пустомержа',\n",
       "       'поселок Красносельское', 'деревня Вахнова Кара', 'деревня Пижма',\n",
       "       'коттеджный поселок Кивеннапа Север', 'поселок Коробицыно',\n",
       "       'поселок Ромашки', 'посёлок Перово', 'деревня Каськово',\n",
       "       'деревня Куровицы', 'посёлок Плоское', 'поселок Сумино',\n",
       "       'поселок городского типа Большая Ижора', 'поселок Кирпичное',\n",
       "       'деревня Ям-Тесово', 'деревня Раздолье', 'деревня Терпилицы',\n",
       "       'посёлок Шугозеро', 'деревня Ваганово', 'поселок Пушное',\n",
       "       'садовое товарищество Садко', 'посёлок Усть-Ижора',\n",
       "       'деревня Выскатка', 'городской посёлок Свирьстрой',\n",
       "       'поселок Громово', 'деревня Кисельня', 'посёлок Старая Малукса',\n",
       "       'деревня Трубников Бор', 'поселок Калитино',\n",
       "       'посёлок Высокоключевой', 'садовое товарищество Приладожский',\n",
       "       'посёлок Пансионат Зелёный Бор', 'деревня Ненимяки',\n",
       "       'поселок Пансионат Зелёный Бор', 'деревня Снегирёвка',\n",
       "       'деревня Рапполово', 'деревня Пустынка', 'поселок Рабитицы',\n",
       "       'деревня Большой Сабск', 'деревня Русско', 'деревня Лупполово',\n",
       "       'деревня Большое Рейзино', 'деревня Малая Романовка',\n",
       "       'поселок Дружноселье', 'поселок Пчевжа', 'поселок Володарское',\n",
       "       'деревня Нижняя', 'коттеджный посёлок Лесное', 'деревня Тихковицы',\n",
       "       'деревня Борисова Грива', 'посёлок Дзержинского'], dtype=object)"
      ]
     },
     "execution_count": 8,
     "metadata": {},
     "output_type": "execute_result"
    }
   ],
   "source": [
    "data['locality_name'].unique() #уникальные значения в столбце locality_name"
   ]
  },
  {
   "cell_type": "code",
   "execution_count": 9,
   "metadata": {},
   "outputs": [
    {
     "data": {
      "text/plain": [
       "total_images                0\n",
       "last_price                  0\n",
       "total_area                  0\n",
       "first_day_exposition        0\n",
       "rooms                       0\n",
       "ceiling_height           9195\n",
       "floors_total               86\n",
       "living_area              1903\n",
       "floor                       0\n",
       "is_apartment            20924\n",
       "studio                      0\n",
       "open_plan                   0\n",
       "kitchen_area             2278\n",
       "balcony                 11519\n",
       "locality_name              49\n",
       "airports_nearest         5542\n",
       "cityCenters_nearest      5519\n",
       "parks_around3000         5518\n",
       "parks_nearest           15620\n",
       "ponds_around3000         5518\n",
       "ponds_nearest           14589\n",
       "days_exposition          3181\n",
       "dtype: int64"
      ]
     },
     "execution_count": 9,
     "metadata": {},
     "output_type": "execute_result"
    }
   ],
   "source": [
    "data.isna().sum() #количество пропущенных значений в столбцах"
   ]
  },
  {
   "cell_type": "code",
   "execution_count": 10,
   "metadata": {},
   "outputs": [
    {
     "data": {
      "text/plain": [
       "total_images             0.000000\n",
       "last_price               0.000000\n",
       "total_area               0.000000\n",
       "first_day_exposition     0.000000\n",
       "rooms                    0.000000\n",
       "ceiling_height          38.799105\n",
       "floors_total             0.362885\n",
       "living_area              8.029875\n",
       "floor                    0.000000\n",
       "is_apartment            88.290645\n",
       "studio                   0.000000\n",
       "open_plan                0.000000\n",
       "kitchen_area             9.612220\n",
       "balcony                 48.605426\n",
       "locality_name            0.206760\n",
       "airports_nearest        23.384953\n",
       "cityCenters_nearest     23.287902\n",
       "parks_around3000        23.283683\n",
       "parks_nearest           65.909954\n",
       "ponds_around3000        23.283683\n",
       "ponds_nearest           61.559559\n",
       "days_exposition         13.422507\n",
       "dtype: float64"
      ]
     },
     "execution_count": 10,
     "metadata": {},
     "output_type": "execute_result"
    }
   ],
   "source": [
    "data.isna().mean() *100 #количество пропущенных значений в столбцах в процентном соотношении"
   ]
  },
  {
   "cell_type": "markdown",
   "metadata": {},
   "source": [
    "**Вывод:** при изучении общей информации о датафрейме были обнаружены следующие проблемы в данных:\n",
    "- очень большое количество пропусков в некоторых столбцах, некоторые из них нужно будет заполнить, а некоторые оставить как есть\n",
    "- в столбце locality_name слово \"поселок\" иногда написано с буквой \"ё\", а иногда с \"е\", необходибо будет привести к единому виду\n",
    "- некоторые из столбцов нужно будет привести к целочисленному типу данных "
   ]
  },
  {
   "cell_type": "markdown",
   "metadata": {},
   "source": []
  },
  {
   "cell_type": "markdown",
   "metadata": {},
   "source": [
    "## Предобработка данных"
   ]
  },
  {
   "cell_type": "code",
   "execution_count": 11,
   "metadata": {},
   "outputs": [
    {
     "name": "stderr",
     "output_type": "stream",
     "text": [
      "/opt/conda/lib/python3.7/site-packages/numpy/lib/nanfunctions.py:1111: RuntimeWarning: Mean of empty slice\n",
      "  return np.nanmean(a, axis, out=out, keepdims=keepdims)\n"
     ]
    },
    {
     "data": {
      "text/plain": [
       "total_images                0\n",
       "last_price                  0\n",
       "total_area                  0\n",
       "first_day_exposition        0\n",
       "rooms                       0\n",
       "ceiling_height            121\n",
       "floors_total                0\n",
       "living_area                17\n",
       "floor                       0\n",
       "is_apartment                0\n",
       "studio                      0\n",
       "open_plan                   0\n",
       "kitchen_area               19\n",
       "balcony                     0\n",
       "locality_name               0\n",
       "airports_nearest         5534\n",
       "cityCenters_nearest      5511\n",
       "parks_around3000         5510\n",
       "parks_nearest           15586\n",
       "ponds_around3000         5510\n",
       "ponds_nearest           14565\n",
       "days_exposition            80\n",
       "dtype: int64"
      ]
     },
     "execution_count": 11,
     "metadata": {},
     "output_type": "execute_result"
    }
   ],
   "source": [
    "data['balcony'] = data['balcony'].fillna(0) #заменяю пропуски в столбце balcony на 0\n",
    "\n",
    "data['is_apartment'] = data['is_apartment'].fillna(False) #заменяю пропуски в столбце is_apartment на False\n",
    "\n",
    "columns = ['ceiling_height', 'days_exposition', 'floors_total', 'kitchen_area', 'living_area']\n",
    "\n",
    "for i in columns:  #цикл, которые заполняет пропуски в столбцах медианным значением по населенному пункту\n",
    "    data[i] = data.groupby('locality_name')[i].apply(lambda x: x.fillna(x.median()))\n",
    "    \n",
    "\n",
    "data = data.dropna(subset = ['locality_name']) #удаляем оставшиеся пропуски в колонке floors_total\n",
    "\n",
    "data.isna().sum() #проверяю количество пропусков"
   ]
  },
  {
   "cell_type": "code",
   "execution_count": 12,
   "metadata": {},
   "outputs": [
    {
     "name": "stdout",
     "output_type": "stream",
     "text": [
      "<class 'pandas.core.frame.DataFrame'>\n",
      "Int64Index: 23650 entries, 0 to 23698\n",
      "Data columns (total 22 columns):\n",
      "total_images            23650 non-null int64\n",
      "last_price              23650 non-null float64\n",
      "total_area              23650 non-null float64\n",
      "first_day_exposition    23650 non-null datetime64[ns]\n",
      "rooms                   23650 non-null int64\n",
      "ceiling_height          23529 non-null float64\n",
      "floors_total            23650 non-null int64\n",
      "living_area             23633 non-null float64\n",
      "floor                   23650 non-null int64\n",
      "is_apartment            23650 non-null bool\n",
      "studio                  23650 non-null bool\n",
      "open_plan               23650 non-null bool\n",
      "kitchen_area            23631 non-null float64\n",
      "balcony                 23650 non-null int64\n",
      "locality_name           23650 non-null object\n",
      "airports_nearest        18116 non-null float64\n",
      "cityCenters_nearest     18139 non-null float64\n",
      "parks_around3000        18140 non-null float64\n",
      "parks_nearest           8064 non-null float64\n",
      "ponds_around3000        18140 non-null float64\n",
      "ponds_nearest           9085 non-null float64\n",
      "days_exposition         23570 non-null float64\n",
      "dtypes: bool(3), datetime64[ns](1), float64(12), int64(5), object(1)\n",
      "memory usage: 3.7+ MB\n"
     ]
    }
   ],
   "source": [
    "data['first_day_exposition'] = pd.to_datetime(data['first_day_exposition'], format = '%Y-%m-%dT%H:%M:%S')\n",
    "#приводим столбец first_day_exposition в тип данных da\n",
    "data['floors_total'] = data['floors_total'].astype('int') #приводим столбец floors_total в целочисленный тип данных\n",
    "data['balcony'] = data['balcony'].astype('int') #приводим столбец balcony в целочисленный тип данных\n",
    "\n",
    "data.info() #смотрим изменения в типах данных у столбцов"
   ]
  },
  {
   "cell_type": "code",
   "execution_count": 13,
   "metadata": {},
   "outputs": [
    {
     "name": "stdout",
     "output_type": "stream",
     "text": [
      "<class 'pandas.core.frame.DataFrame'>\n",
      "Int64Index: 23650 entries, 0 to 23698\n",
      "Data columns (total 22 columns):\n",
      "total_images            23650 non-null int8\n",
      "last_price              23650 non-null float64\n",
      "total_area              23650 non-null float64\n",
      "first_day_exposition    23650 non-null datetime64[ns]\n",
      "rooms                   23650 non-null int8\n",
      "ceiling_height          23529 non-null float64\n",
      "floors_total            23650 non-null int8\n",
      "living_area             23633 non-null float64\n",
      "floor                   23650 non-null int8\n",
      "is_apartment            23650 non-null bool\n",
      "studio                  23650 non-null bool\n",
      "open_plan               23650 non-null bool\n",
      "kitchen_area            23631 non-null float64\n",
      "balcony                 23650 non-null int8\n",
      "locality_name           23650 non-null object\n",
      "airports_nearest        18116 non-null float64\n",
      "cityCenters_nearest     18139 non-null float64\n",
      "parks_around3000        18140 non-null float64\n",
      "parks_nearest           8064 non-null float64\n",
      "ponds_around3000        18140 non-null float64\n",
      "ponds_nearest           9085 non-null float64\n",
      "days_exposition         23570 non-null float64\n",
      "dtypes: bool(3), datetime64[ns](1), float64(12), int8(5), object(1)\n",
      "memory usage: 2.9+ MB\n"
     ]
    }
   ],
   "source": [
    "data['floors_total'] = data['floors_total'].astype('int8') #приводим столбец floors_total в целочисленный тип данных\n",
    "data['balcony'] = data['balcony'].astype('int8')\n",
    "data['floor'] = data['floor'].astype('int8')\n",
    "data['total_images'] = data['total_images'].astype('int8')\n",
    "data['rooms'] = data['rooms'].astype('int8')\n",
    "data.info()"
   ]
  },
  {
   "cell_type": "markdown",
   "metadata": {},
   "source": [
    "<div class=\"alert alert-block alert-info\">\n",
    "<b>Fixed:</b> \n",
    "    \n",
    "Постаралась сделать более подходящие типы данных, объем памяти уменьшился на 22%."
   ]
  },
  {
   "cell_type": "code",
   "execution_count": 14,
   "metadata": {},
   "outputs": [
    {
     "data": {
      "text/plain": [
       "['Бокситогорск',\n",
       " 'Волосово',\n",
       " 'Волхов',\n",
       " 'Всеволожск',\n",
       " 'Выборг',\n",
       " 'Высоцк',\n",
       " 'Гатчина',\n",
       " 'Зеленогорск',\n",
       " 'Ивангород',\n",
       " 'Каменногорск',\n",
       " 'Кингисепп',\n",
       " 'Кириши',\n",
       " 'Кировск',\n",
       " 'Колпино',\n",
       " 'Коммунар',\n",
       " 'Красное Село',\n",
       " 'Кронштадт',\n",
       " 'Кудрово',\n",
       " 'Лодейное Поле',\n",
       " 'Ломоносов',\n",
       " 'Луга',\n",
       " 'Любань',\n",
       " 'Мурино',\n",
       " 'Никольское',\n",
       " 'Новая Ладога',\n",
       " 'Отрадное',\n",
       " 'Павловск',\n",
       " 'Петергоф',\n",
       " 'Пикалево',\n",
       " 'Подпорожье',\n",
       " 'Приморск',\n",
       " 'Приозерск',\n",
       " 'Пушкин',\n",
       " 'Санкт-Петербург',\n",
       " 'Светогорск',\n",
       " 'Сертолово',\n",
       " 'Сестрорецк',\n",
       " 'Сланцы',\n",
       " 'Сосновый Бор',\n",
       " 'Сясьстрой',\n",
       " 'Тихвин',\n",
       " 'Тосно',\n",
       " 'Шлиссельбург',\n",
       " 'городской поселок Большая Ижора',\n",
       " 'городской поселок Будогощь',\n",
       " 'городской поселок Виллози',\n",
       " 'городской поселок Лесогорский',\n",
       " 'городской поселок Мга',\n",
       " 'городской поселок Назия',\n",
       " 'городской поселок Новоселье',\n",
       " 'городской поселок Павлово',\n",
       " 'городской поселок Рощино',\n",
       " 'городской поселок Свирьстрой',\n",
       " 'городской поселок Советский',\n",
       " 'городской поселок Федоровское',\n",
       " 'городской поселок Янино-1',\n",
       " 'деревня Агалатово',\n",
       " 'деревня Аро',\n",
       " 'деревня Батово',\n",
       " 'деревня Бегуницы',\n",
       " 'деревня Белогорка',\n",
       " 'деревня Большая Вруда',\n",
       " 'деревня Большая Пустомержа',\n",
       " 'деревня Большие Колпаны',\n",
       " 'деревня Большое Рейзино',\n",
       " 'деревня Большой Сабск',\n",
       " 'деревня Бор',\n",
       " 'деревня Борисова Грива',\n",
       " 'деревня Ваганово',\n",
       " 'деревня Вартемяги',\n",
       " 'деревня Вахнова Кара',\n",
       " 'деревня Выскатка',\n",
       " 'деревня Гарболово',\n",
       " 'деревня Глинка',\n",
       " 'деревня Горбунки',\n",
       " 'деревня Гостилицы',\n",
       " 'деревня Заклинье',\n",
       " 'деревня Заневка',\n",
       " 'деревня Зимитицы',\n",
       " 'деревня Извара',\n",
       " 'деревня Иссад',\n",
       " 'деревня Калитино',\n",
       " 'деревня Кальтино',\n",
       " 'деревня Камышовка',\n",
       " 'деревня Каськово',\n",
       " 'деревня Келози',\n",
       " 'деревня Кипень',\n",
       " 'деревня Кисельня',\n",
       " 'деревня Колтуши',\n",
       " 'деревня Коркино',\n",
       " 'деревня Котлы',\n",
       " 'деревня Кривко',\n",
       " 'деревня Кудрово',\n",
       " 'деревня Кузьмолово',\n",
       " 'деревня Курковицы',\n",
       " 'деревня Куровицы',\n",
       " 'деревня Куттузи',\n",
       " 'деревня Лаврики',\n",
       " 'деревня Лаголово',\n",
       " 'деревня Лампово',\n",
       " 'деревня Лесколово',\n",
       " 'деревня Лопухинка',\n",
       " 'деревня Лупполово',\n",
       " 'деревня Малая Романовка',\n",
       " 'деревня Малое Верево',\n",
       " 'деревня Малое Карлино',\n",
       " 'деревня Малые Колпаны',\n",
       " 'деревня Мануйлово',\n",
       " 'деревня Меньково',\n",
       " 'деревня Мины',\n",
       " 'деревня Мистолово',\n",
       " 'деревня Ненимяки',\n",
       " 'деревня Нижние Осельки',\n",
       " 'деревня Нижняя',\n",
       " 'деревня Низино',\n",
       " 'деревня Новое Девяткино',\n",
       " 'деревня Новолисино',\n",
       " 'деревня Нурма',\n",
       " 'деревня Оржицы',\n",
       " 'деревня Парицы',\n",
       " 'деревня Пельгора',\n",
       " 'деревня Пеники',\n",
       " 'деревня Пижма',\n",
       " 'деревня Пикколово',\n",
       " 'деревня Пудомяги',\n",
       " 'деревня Пустынка',\n",
       " 'деревня Пчева',\n",
       " 'деревня Рабитицы',\n",
       " 'деревня Разбегаево',\n",
       " 'деревня Раздолье',\n",
       " 'деревня Разметелево',\n",
       " 'деревня Рапполово',\n",
       " 'деревня Реброво',\n",
       " 'деревня Русско',\n",
       " 'деревня Сижно',\n",
       " 'деревня Снегиревка',\n",
       " 'деревня Старая',\n",
       " 'деревня Старая Пустошь',\n",
       " 'деревня Старое Хинколово',\n",
       " 'деревня Старополье',\n",
       " 'деревня Старосиверская',\n",
       " 'деревня Старые Бегуницы',\n",
       " 'деревня Суоранда',\n",
       " 'деревня Сяськелево',\n",
       " 'деревня Тарасово',\n",
       " 'деревня Терпилицы',\n",
       " 'деревня Тихковицы',\n",
       " 'деревня Тойворово',\n",
       " 'деревня Торосово',\n",
       " 'деревня Торошковичи',\n",
       " 'деревня Трубников Бор',\n",
       " 'деревня Фалилеево',\n",
       " 'деревня Федоровское',\n",
       " 'деревня Хапо-Ое',\n",
       " 'деревня Хязельки',\n",
       " 'деревня Чудской Бор',\n",
       " 'деревня Шпаньково',\n",
       " 'деревня Щеглово',\n",
       " 'деревня Юкки',\n",
       " 'деревня Ялгино',\n",
       " 'деревня Яльгелево',\n",
       " 'деревня Ям-Тесово',\n",
       " 'коттеджный поселок Кивеннапа Север',\n",
       " 'коттеджный поселок Лесное',\n",
       " 'коттеджный поселок Счастье',\n",
       " 'поселок Александровская',\n",
       " 'поселок Алексеевка',\n",
       " 'поселок Аннино',\n",
       " 'поселок Барышево',\n",
       " 'поселок Белоостров',\n",
       " 'поселок Бугры',\n",
       " 'поселок Возрождение',\n",
       " 'поселок Войсковицы',\n",
       " 'поселок Войскорово',\n",
       " 'поселок Володарское',\n",
       " 'поселок Высокоключевой',\n",
       " 'поселок Гаврилово',\n",
       " 'поселок Гарболово',\n",
       " 'поселок Гладкое',\n",
       " 'поселок Глажево',\n",
       " 'поселок Глебычево',\n",
       " 'поселок Гончарово',\n",
       " 'поселок Громово',\n",
       " 'поселок Дзержинского',\n",
       " 'поселок Дружноселье',\n",
       " 'поселок Елизаветино',\n",
       " 'поселок Жилгородок',\n",
       " 'поселок Жилпоселок',\n",
       " 'поселок Житково',\n",
       " 'поселок Заводской',\n",
       " 'поселок Запорожское',\n",
       " 'поселок Зимитицы',\n",
       " 'поселок Ильичево',\n",
       " 'поселок Калитино',\n",
       " 'поселок Каложицы',\n",
       " 'поселок Кикерино',\n",
       " 'поселок Кингисеппский',\n",
       " 'поселок Кирпичное',\n",
       " 'поселок Кобралово',\n",
       " 'поселок Кобринское',\n",
       " 'поселок Коммунары',\n",
       " 'поселок Коробицыно',\n",
       " 'поселок Котельский',\n",
       " 'поселок Красная Долина',\n",
       " 'поселок Красносельское',\n",
       " 'поселок Левашово',\n",
       " 'поселок Ленинское',\n",
       " 'поселок Лесное',\n",
       " 'поселок Лисий Нос',\n",
       " 'поселок Лукаши',\n",
       " 'поселок Любань',\n",
       " 'поселок Мельниково',\n",
       " 'поселок Металлострой',\n",
       " 'поселок Мичуринское',\n",
       " 'поселок Молодежное',\n",
       " 'поселок Молодцово',\n",
       " 'поселок Мурино',\n",
       " 'поселок Мыза-Ивановка',\n",
       " 'поселок Новогорелово',\n",
       " 'поселок Новый Свет',\n",
       " 'поселок Новый Учхоз',\n",
       " 'поселок Оредеж',\n",
       " 'поселок Пансионат Зеленый Бор',\n",
       " 'поселок Парголово',\n",
       " 'поселок Первомайское',\n",
       " 'поселок Перово',\n",
       " 'поселок Песочный',\n",
       " 'поселок Петро-Славянка',\n",
       " 'поселок Петровское',\n",
       " 'поселок Платформа 69-й километр',\n",
       " 'поселок Плодовое',\n",
       " 'поселок Плоское',\n",
       " 'поселок Победа',\n",
       " 'поселок Поляны',\n",
       " 'поселок Понтонный',\n",
       " 'поселок Почап',\n",
       " 'поселок Починок',\n",
       " 'поселок Пригородный',\n",
       " 'поселок Пудость',\n",
       " 'поселок Пушное',\n",
       " 'поселок Пчевжа',\n",
       " 'поселок Рабитицы',\n",
       " 'поселок Репино',\n",
       " 'поселок Романовка',\n",
       " 'поселок Ромашки',\n",
       " 'поселок Ропша',\n",
       " 'поселок Рябово',\n",
       " 'поселок Саперное',\n",
       " 'поселок Саперный',\n",
       " 'поселок Севастьяново',\n",
       " 'поселок Селезнево',\n",
       " 'поселок Сельцо',\n",
       " 'поселок Семиозерье',\n",
       " 'поселок Семрино',\n",
       " 'поселок Серебрянский',\n",
       " 'поселок Совхозный',\n",
       " 'поселок Сосново',\n",
       " 'поселок Старая Малукса',\n",
       " 'поселок Стеклянный',\n",
       " 'поселок Стрельна',\n",
       " 'поселок Суйда',\n",
       " 'поселок Сумино',\n",
       " 'поселок Суходолье',\n",
       " 'поселок Тельмана',\n",
       " 'поселок Терволово',\n",
       " 'поселок Тесово-4',\n",
       " 'поселок Торковичи',\n",
       " 'поселок Торфяное',\n",
       " 'поселок Углово',\n",
       " 'поселок Усть-Ижора',\n",
       " 'поселок Усть-Луга',\n",
       " 'поселок Ушаки',\n",
       " 'поселок Форт Красная Горка',\n",
       " 'поселок Цвелодубово',\n",
       " 'поселок Цвылево',\n",
       " 'поселок Шугозеро',\n",
       " 'поселок Шушары',\n",
       " 'поселок Щеглово',\n",
       " 'поселок городского типа Большая Ижора',\n",
       " 'поселок городского типа Важины',\n",
       " 'поселок городского типа Вознесенье',\n",
       " 'поселок городского типа Вырица',\n",
       " 'поселок городского типа Дружная Горка',\n",
       " 'поселок городского типа Дубровка',\n",
       " 'поселок городского типа Ефимовский',\n",
       " 'поселок городского типа Кондратьево',\n",
       " 'поселок городского типа Красный Бор',\n",
       " 'поселок городского типа Кузнечное',\n",
       " 'поселок городского типа Кузьмоловский',\n",
       " 'поселок городского типа Лебяжье',\n",
       " 'поселок городского типа Лесогорский',\n",
       " 'поселок городского типа Мга',\n",
       " 'поселок городского типа Назия',\n",
       " 'поселок городского типа Никольский',\n",
       " 'поселок городского типа Павлово',\n",
       " 'поселок городского типа Приладожский',\n",
       " 'поселок городского типа Рахья',\n",
       " 'поселок городского типа Рощино',\n",
       " 'поселок городского типа Рябово',\n",
       " 'поселок городского типа Сиверский',\n",
       " 'поселок городского типа Синявино',\n",
       " 'поселок городского типа Советский',\n",
       " 'поселок городского типа Тайцы',\n",
       " 'поселок городского типа Токсово',\n",
       " 'поселок городского типа Ульяновка',\n",
       " 'поселок городского типа Форносово',\n",
       " 'поселок городского типа имени Морозова',\n",
       " 'поселок городского типа имени Свердлова',\n",
       " 'поселок при железнодорожной станции Вещево',\n",
       " 'поселок при железнодорожной станции Приветнинское',\n",
       " 'поселок станции Вещево',\n",
       " 'поселок станции Громово',\n",
       " 'поселок станции Корнево',\n",
       " 'поселок станции Лужайка',\n",
       " 'поселок станции Приветнинское',\n",
       " 'поселок станции Свирь',\n",
       " 'садоводческое некоммерческое товарищество Лесная Поляна',\n",
       " 'садовое товарищество Новая Ропша',\n",
       " 'садовое товарищество Приладожский',\n",
       " 'садовое товарищество Рахья',\n",
       " 'садовое товарищество Садко',\n",
       " 'село Копорье',\n",
       " 'село Никольское',\n",
       " 'село Павлово',\n",
       " 'село Паша',\n",
       " 'село Путилово',\n",
       " 'село Рождествено',\n",
       " 'село Русско-Высоцкое',\n",
       " 'село Старая Ладога',\n",
       " 'село Шум']"
      ]
     },
     "execution_count": 14,
     "metadata": {},
     "output_type": "execute_result"
    }
   ],
   "source": [
    "data['locality_name'] = data['locality_name'].replace('ё', 'е', regex = True) #заменяю букву 'ё' на 'е'\n",
    "data['locality_name'] = data['locality_name'].replace('e', 'е', regex = True) \n",
    "sorted(data['locality_name'].unique())"
   ]
  },
  {
   "cell_type": "code",
   "execution_count": 15,
   "metadata": {},
   "outputs": [
    {
     "data": {
      "text/plain": [
       "array(['Санкт-Петербург', 'Шушары', 'Янино-1', 'Парголово', 'Мурино',\n",
       "       'Ломоносов', 'Сертолово', 'Петергоф', 'Пушкин', 'Кудрово',\n",
       "       'Коммунар', 'Колпино', 'Красный Бор', 'Гатчина', 'Федоровское',\n",
       "       'Выборг', 'Кронштадт', 'Кировск', 'Новое Девяткино',\n",
       "       'Металлострой', 'Лебяжье', 'Сиверский', 'Молодцово',\n",
       "       'Кузьмоловский', 'Новая Ропша', 'Павловск', 'Пикколово',\n",
       "       'Всеволожск', 'Волхов', 'Кингисепп', 'Приозерск', 'Сестрорецк',\n",
       "       'Куттузи', 'Аннино', 'Ефимовский', 'Плодовое', 'Заклинье',\n",
       "       'Торковичи', 'Первомайское', 'Красное Село', 'Понтонный',\n",
       "       'Сясьстрой', 'Старая', 'Лесколово', 'Новый Свет', 'Сланцы',\n",
       "       'Путилово', 'Ивангород', 'Шлиссельбург', 'Никольское',\n",
       "       'Зеленогорск', 'Сосновый Бор', 'Оржицы', 'Кальтино', 'Романовка',\n",
       "       'Бугры', 'Рощино', 'Кириши', 'Луга', 'Волосово', 'Отрадное',\n",
       "       'Павлово', 'Оредеж', 'Копорье', 'Молодежное', 'Тихвин', 'Победа',\n",
       "       'Нурма', 'Синявино', 'Тосно', 'Стрельна', 'Бокситогорск',\n",
       "       'Александровская', 'Лопухинка', 'Пикалево', 'Терволово',\n",
       "       'Советский', 'Подпорожье', 'Петровское', 'Токсово', 'Сельцо',\n",
       "       'Вырица', 'Кипень', 'Келози', 'Вартемяги', 'Тельмана',\n",
       "       'Севастьяново', 'Большая Ижора', 'Агалатово', 'Новогорелово',\n",
       "       'Лесогорский', 'Лаголово', 'Цвелодубово', 'Рахья', 'Белогорка',\n",
       "       'Заводской', 'Новоселье', 'Большие Колпаны', 'Горбунки', 'Батово',\n",
       "       'Заневка', 'Иссад', 'Приморск', 'Мистолово', 'Новая Ладога',\n",
       "       'Зимитицы', 'Барышево', 'Разметелево', 'Свердлова', 'Пеники',\n",
       "       'Рябово', 'Пудомяги', 'Корнево', 'Низино', 'Бегуницы', 'Поляны',\n",
       "       'Мга', 'Елизаветино', 'Кузнечное', 'Колтуши', 'Запорожское',\n",
       "       'Гостилицы', 'Малое Карлино', 'Мичуринское', 'Морозова',\n",
       "       'Песочный', 'Сосново', 'Аро', 'Ильичево', 'Тайцы', 'Малое Верево',\n",
       "       'Извара', 'Вещево', 'Паша', 'Калитино', 'Ульяновка', 'Чудской Бор',\n",
       "       'Дубровка', 'Мины', 'Войсковицы', 'Коркино', 'Ропша',\n",
       "       'Приладожский', 'Щеглово', 'Гаврилово', 'Лодейное Поле',\n",
       "       'Рабитицы', 'Никольский', 'Кузьмолово', 'Малые Колпаны',\n",
       "       'Петро-Славянка', 'Назия', 'Репино', 'Углово', 'Старая Малукса',\n",
       "       'Меньково', 'Старые Бегуницы', 'Саперный', 'Семрино', 'Глажево',\n",
       "       'Кобринское', 'Гарболово', 'Юкки', 'Приветнинское', 'Мануйлово',\n",
       "       'Пчева', 'Цвылево', 'Мельниково', 'Пудость', 'Усть-Луга',\n",
       "       'Светогорск', 'Любань', 'Селезнево', 'Каменногорск', 'Кривко',\n",
       "       'Глебычево', 'Парицы', 'Жилпоселок', 'Войскорово', 'Стеклянный',\n",
       "       'Важины', 'Мыза-Ивановка', 'Русско-Высоцкое', 'Форносово',\n",
       "       'Старая Ладога', 'Житково', 'Виллози', 'Лампово', 'Шпаньково',\n",
       "       'Лаврики', 'Сумино', 'Возрождение', 'Старосиверская', 'Кикерино',\n",
       "       'Старое Хинколово', 'Пригородный', 'Торфяное', 'Будогощь',\n",
       "       'Суходолье', 'Красная Долина', 'Хапо-Ое', 'Дружная Горка',\n",
       "       'Лисий Нос', 'Яльгелево', 'Рождествено', 'Старополье', 'Левашово',\n",
       "       'Сяськелево', 'Камышовка', 'Лесная Поляна', 'Хязельки',\n",
       "       'Жилгородок', 'Ялгино', 'Новый Учхоз', 'Гончарово', 'Почап',\n",
       "       'Саперное', 'Платформа 69-й километр', 'Каложицы', 'Фалилеево',\n",
       "       'Пельгора', 'Торошковичи', 'Белоостров', 'Алексеевка',\n",
       "       'Серебрянский', 'Лукаши', 'Тарасово', 'Кингисеппский', 'Ушаки',\n",
       "       'Котлы', 'Сижно', 'Торосово', 'Форт Красная Горка', 'Новолисино',\n",
       "       'Громово', 'Глинка', 'Старая Пустошь', 'Коммунары', 'Починок',\n",
       "       'Вознесенье', 'Разбегаево', 'Гладкое', 'Тесово-4', 'Бор',\n",
       "       'Коробицыно', 'Большая Вруда', 'Курковицы', 'Кобралово',\n",
       "       'Суоранда', 'Кондратьево', 'Счастье', 'Реброво', 'Тойворово',\n",
       "       'Семиозерье', 'Лесное', 'Совхозный', 'Ленинское', 'Суйда',\n",
       "       'Нижние Осельки', 'Свирь', 'Перово', 'Высоцк', 'Шум', 'Котельский',\n",
       "       'Лужайка', 'Большая Пустомержа', 'Красносельское', 'Вахнова Кара',\n",
       "       'Пижма', 'Кивеннапа Север', 'Ромашки', 'Каськово', 'Куровицы',\n",
       "       'Плоское', 'Кирпичное', 'Ям-Тесово', 'Раздолье', 'Терпилицы',\n",
       "       'Шугозеро', 'Ваганово', 'Пушное', 'Садко', 'Усть-Ижора',\n",
       "       'Выскатка', 'Свирьстрой', 'Кисельня', 'Трубников Бор',\n",
       "       'Высокоключевой', 'Пансионат Зеленый Бор', 'Ненимяки',\n",
       "       'Снегиревка', 'Рапполово', 'Пустынка', 'Большой Сабск', 'Русско',\n",
       "       'Лупполово', 'Большое Рейзино', 'Малая Романовка', 'Дружноселье',\n",
       "       'Пчевжа', 'Володарское', 'Нижняя', 'Тихковицы', 'Борисова Грива',\n",
       "       'Дзержинского'], dtype=object)"
      ]
     },
     "execution_count": 15,
     "metadata": {},
     "output_type": "execute_result"
    }
   ],
   "source": [
    "loyality_list = ['коттеджный поселок ', 'городской поселок ', 'поселок городского типа имени ', 'поселок городского типа ', \n",
    "                 'при железнодорожной станции ', 'посeлок при железнодорожной станции ', 'деревня ', 'деревня ', \n",
    "                 'поселок станции ', 'садоводческое некоммерческое товарищество ', 'садовое товарищество ', 'село ', 'поселок ']\n",
    "\n",
    "for i in loyality_list:\n",
    "    data['locality_name'] = data['locality_name'].replace(i, '', regex = True) #убираю все слова из списка loyality_list\n",
    "\n",
    "#data.loc[data['locality_name'].str.contains('Мурино', case=False), 'locality_name'] = 'Мурино'\n",
    "data['locality_name'].unique()"
   ]
  },
  {
   "cell_type": "code",
   "execution_count": 16,
   "metadata": {},
   "outputs": [
    {
     "data": {
      "text/plain": [
       "0"
      ]
     },
     "execution_count": 16,
     "metadata": {},
     "output_type": "execute_result"
    }
   ],
   "source": [
    "data.duplicated().sum() #проверка на явные дубликаты"
   ]
  },
  {
   "cell_type": "markdown",
   "metadata": {},
   "source": [
    "**Вывод:** \n",
    "\n",
    "- в столбцах 'ceiling_height', 'days_exposition', 'floors_total', 'kitchen_area', 'living_area' пропуски были заполнены медианным значением по населенному пункту. Пропуски в этих столбцах все равно остались, но их стало меньше. Пропуски в столбце locality_name были удалены, так как таких пропусков было не много и исследовать данные без информации о место положении, в этом случае не имеет смысла.\n",
    "\n",
    "- в стобцах balcony и is_apartment заполнила пропуски значениями 0 и False соответственно. Пропуски в этих столбцах могут быть связаны с тем, что такие значения как наличие балкона или является квартира аппартаментами - необязательны, их можно просто не выбирать. Хоть на самом сайте, при создании объявления можно выбрать \"Нет\" в ответ на вопрос о наличии балкона, думаю, что многие пользователи просто оставляют это поле незаполненным.\n",
    "\n",
    "- стобец first_day_exposition был переведен в формат datetime, в последствии это поможет просто выделить в данных месяц и год. Столбцы balcony и floors_total были переведены в целочисленный тип данных. Данные о наличии балкона и о количестве этажей в доме не могут быть дробным числом, и во избежание при работе с даннымии неожиданных ошибок, лучше перевести данные столбцы в целочисленный тип.\n",
    "\n",
    "- явных дубликатов в данных нет.\n",
    "\n",
    "- в столбце loyality_list все наименования были приведены к единому образцу."
   ]
  },
  {
   "cell_type": "markdown",
   "metadata": {},
   "source": [
    "## Расчёты и добавление результатов в таблицу"
   ]
  },
  {
   "cell_type": "code",
   "execution_count": 17,
   "metadata": {
    "scrolled": true
   },
   "outputs": [
    {
     "data": {
      "text/html": [
       "<div>\n",
       "<style scoped>\n",
       "    .dataframe tbody tr th:only-of-type {\n",
       "        vertical-align: middle;\n",
       "    }\n",
       "\n",
       "    .dataframe tbody tr th {\n",
       "        vertical-align: top;\n",
       "    }\n",
       "\n",
       "    .dataframe thead th {\n",
       "        text-align: right;\n",
       "    }\n",
       "</style>\n",
       "<table border=\"1\" class=\"dataframe\">\n",
       "  <thead>\n",
       "    <tr style=\"text-align: right;\">\n",
       "      <th></th>\n",
       "      <th>total_images</th>\n",
       "      <th>last_price</th>\n",
       "      <th>total_area</th>\n",
       "      <th>first_day_exposition</th>\n",
       "      <th>rooms</th>\n",
       "      <th>ceiling_height</th>\n",
       "      <th>floors_total</th>\n",
       "      <th>living_area</th>\n",
       "      <th>floor</th>\n",
       "      <th>is_apartment</th>\n",
       "      <th>...</th>\n",
       "      <th>parks_nearest</th>\n",
       "      <th>ponds_around3000</th>\n",
       "      <th>ponds_nearest</th>\n",
       "      <th>days_exposition</th>\n",
       "      <th>price_per_meter</th>\n",
       "      <th>week_day</th>\n",
       "      <th>year</th>\n",
       "      <th>month</th>\n",
       "      <th>ratio_living_total</th>\n",
       "      <th>ratio_kitchen_total</th>\n",
       "    </tr>\n",
       "  </thead>\n",
       "  <tbody>\n",
       "    <tr>\n",
       "      <td>0</td>\n",
       "      <td>20</td>\n",
       "      <td>13000000.0</td>\n",
       "      <td>108.0</td>\n",
       "      <td>2019-03-07</td>\n",
       "      <td>3</td>\n",
       "      <td>2.70</td>\n",
       "      <td>16</td>\n",
       "      <td>51.0</td>\n",
       "      <td>8</td>\n",
       "      <td>False</td>\n",
       "      <td>...</td>\n",
       "      <td>482.0</td>\n",
       "      <td>2.0</td>\n",
       "      <td>755.0</td>\n",
       "      <td>95.0</td>\n",
       "      <td>120370.370370</td>\n",
       "      <td>3</td>\n",
       "      <td>2019</td>\n",
       "      <td>3</td>\n",
       "      <td>0.472</td>\n",
       "      <td>0.231</td>\n",
       "    </tr>\n",
       "    <tr>\n",
       "      <td>1</td>\n",
       "      <td>7</td>\n",
       "      <td>3350000.0</td>\n",
       "      <td>40.4</td>\n",
       "      <td>2018-12-04</td>\n",
       "      <td>1</td>\n",
       "      <td>2.63</td>\n",
       "      <td>11</td>\n",
       "      <td>18.6</td>\n",
       "      <td>1</td>\n",
       "      <td>False</td>\n",
       "      <td>...</td>\n",
       "      <td>NaN</td>\n",
       "      <td>0.0</td>\n",
       "      <td>NaN</td>\n",
       "      <td>81.0</td>\n",
       "      <td>82920.792079</td>\n",
       "      <td>1</td>\n",
       "      <td>2018</td>\n",
       "      <td>12</td>\n",
       "      <td>0.460</td>\n",
       "      <td>0.272</td>\n",
       "    </tr>\n",
       "    <tr>\n",
       "      <td>2</td>\n",
       "      <td>10</td>\n",
       "      <td>5196000.0</td>\n",
       "      <td>56.0</td>\n",
       "      <td>2015-08-20</td>\n",
       "      <td>2</td>\n",
       "      <td>2.70</td>\n",
       "      <td>5</td>\n",
       "      <td>34.3</td>\n",
       "      <td>4</td>\n",
       "      <td>False</td>\n",
       "      <td>...</td>\n",
       "      <td>90.0</td>\n",
       "      <td>2.0</td>\n",
       "      <td>574.0</td>\n",
       "      <td>558.0</td>\n",
       "      <td>92785.714286</td>\n",
       "      <td>3</td>\n",
       "      <td>2015</td>\n",
       "      <td>8</td>\n",
       "      <td>0.612</td>\n",
       "      <td>0.148</td>\n",
       "    </tr>\n",
       "    <tr>\n",
       "      <td>3</td>\n",
       "      <td>0</td>\n",
       "      <td>64900000.0</td>\n",
       "      <td>159.0</td>\n",
       "      <td>2015-07-24</td>\n",
       "      <td>3</td>\n",
       "      <td>2.70</td>\n",
       "      <td>14</td>\n",
       "      <td>31.3</td>\n",
       "      <td>9</td>\n",
       "      <td>False</td>\n",
       "      <td>...</td>\n",
       "      <td>84.0</td>\n",
       "      <td>3.0</td>\n",
       "      <td>234.0</td>\n",
       "      <td>424.0</td>\n",
       "      <td>408176.100629</td>\n",
       "      <td>4</td>\n",
       "      <td>2015</td>\n",
       "      <td>7</td>\n",
       "      <td>0.197</td>\n",
       "      <td>0.062</td>\n",
       "    </tr>\n",
       "    <tr>\n",
       "      <td>4</td>\n",
       "      <td>2</td>\n",
       "      <td>10000000.0</td>\n",
       "      <td>100.0</td>\n",
       "      <td>2018-06-19</td>\n",
       "      <td>2</td>\n",
       "      <td>3.03</td>\n",
       "      <td>14</td>\n",
       "      <td>32.0</td>\n",
       "      <td>13</td>\n",
       "      <td>False</td>\n",
       "      <td>...</td>\n",
       "      <td>112.0</td>\n",
       "      <td>1.0</td>\n",
       "      <td>48.0</td>\n",
       "      <td>121.0</td>\n",
       "      <td>100000.000000</td>\n",
       "      <td>1</td>\n",
       "      <td>2018</td>\n",
       "      <td>6</td>\n",
       "      <td>0.320</td>\n",
       "      <td>0.410</td>\n",
       "    </tr>\n",
       "  </tbody>\n",
       "</table>\n",
       "<p>5 rows × 28 columns</p>\n",
       "</div>"
      ],
      "text/plain": [
       "   total_images  last_price  total_area first_day_exposition  rooms  \\\n",
       "0            20  13000000.0       108.0           2019-03-07      3   \n",
       "1             7   3350000.0        40.4           2018-12-04      1   \n",
       "2            10   5196000.0        56.0           2015-08-20      2   \n",
       "3             0  64900000.0       159.0           2015-07-24      3   \n",
       "4             2  10000000.0       100.0           2018-06-19      2   \n",
       "\n",
       "   ceiling_height  floors_total  living_area  floor  is_apartment  ...  \\\n",
       "0            2.70            16         51.0      8         False  ...   \n",
       "1            2.63            11         18.6      1         False  ...   \n",
       "2            2.70             5         34.3      4         False  ...   \n",
       "3            2.70            14         31.3      9         False  ...   \n",
       "4            3.03            14         32.0     13         False  ...   \n",
       "\n",
       "   parks_nearest  ponds_around3000  ponds_nearest  days_exposition  \\\n",
       "0          482.0               2.0          755.0             95.0   \n",
       "1            NaN               0.0            NaN             81.0   \n",
       "2           90.0               2.0          574.0            558.0   \n",
       "3           84.0               3.0          234.0            424.0   \n",
       "4          112.0               1.0           48.0            121.0   \n",
       "\n",
       "  price_per_meter  week_day  year  month  ratio_living_total  \\\n",
       "0   120370.370370         3  2019      3               0.472   \n",
       "1    82920.792079         1  2018     12               0.460   \n",
       "2    92785.714286         3  2015      8               0.612   \n",
       "3   408176.100629         4  2015      7               0.197   \n",
       "4   100000.000000         1  2018      6               0.320   \n",
       "\n",
       "   ratio_kitchen_total  \n",
       "0                0.231  \n",
       "1                0.272  \n",
       "2                0.148  \n",
       "3                0.062  \n",
       "4                0.410  \n",
       "\n",
       "[5 rows x 28 columns]"
      ]
     },
     "execution_count": 17,
     "metadata": {},
     "output_type": "execute_result"
    }
   ],
   "source": [
    "data['price_per_meter'] = data['last_price'] / data['total_area'] \n",
    "#добавление столбца с информацией о стоимости квадратного метра\n",
    "\n",
    "data['week_day'] = data['first_day_exposition'].dt.weekday #добавляем стобец с днем недели\n",
    "\n",
    "data['year'] = data['first_day_exposition'].dt.year  #добавляем столбец с годом, когда было выложено объявление\n",
    "data['month'] = data['first_day_exposition'].dt.month #добавляем столбец с месяцем\n",
    "\n",
    "data['ratio_living_total'] = round(data['living_area']/data['total_area'], 3) \n",
    "#столбец с информацией о соотношении жилой и общей площади\n",
    "data['ratio_kitchen_total'] = round(data['kitchen_area']/data['total_area'], 3)\n",
    "#столбец с информацией о соотношении кухни и общей площади\n",
    "\n",
    "data.head()"
   ]
  },
  {
   "cell_type": "code",
   "execution_count": 18,
   "metadata": {},
   "outputs": [],
   "source": [
    "def floors(row): #функция, которая определяет этаж \"первый\", \"последний\", \"другой\"\n",
    "    \"\"\"Функция для определения этажа\"\"\"\n",
    "    \n",
    "    if row['floor'] == 1:\n",
    "        return 'первый'\n",
    "    \n",
    "    elif row['floor'] == row['floors_total']:\n",
    "        return 'последний'\n",
    "    \n",
    "    return 'другой'"
   ]
  },
  {
   "cell_type": "code",
   "execution_count": 19,
   "metadata": {},
   "outputs": [
    {
     "data": {
      "text/plain": [
       "array(['другой', 'первый', 'последний'], dtype=object)"
      ]
     },
     "execution_count": 19,
     "metadata": {},
     "output_type": "execute_result"
    }
   ],
   "source": [
    "data['floor_category'] = data.apply(floors, axis = 1) #создаю столбец с каегорией этажа\n",
    "data['floor_category'].unique()"
   ]
  },
  {
   "cell_type": "markdown",
   "metadata": {},
   "source": [
    "**Вывод:** Были добавлены столбы с информацией о стоимости квадратного метра, соотношении жилой и общей плрщади, соотношении кухни и общей площади; стобцы с годом размещения объявления и месяцем, а так же дополнительный столбец с категорией этажа."
   ]
  },
  {
   "cell_type": "markdown",
   "metadata": {},
   "source": [
    "## Исследовательский анализ данных"
   ]
  },
  {
   "cell_type": "code",
   "execution_count": 20,
   "metadata": {},
   "outputs": [
    {
     "data": {
      "image/png": "[encoded data removed]",
      "text/plain": [
       "<Figure size 720x360 with 1 Axes>"
      ]
     },
     "metadata": {
      "needs_background": "light"
     },
     "output_type": "display_data"
    },
    {
     "data": {
      "image/png": "[encoded data removed]",
      "text/plain": [
       "<Figure size 720x360 with 1 Axes>"
      ]
     },
     "metadata": {
      "needs_background": "light"
     },
     "output_type": "display_data"
    },
    {
     "data": {
      "image/png": "[encoded data removed]",
      "text/plain": [
       "<Figure size 720x360 with 1 Axes>"
      ]
     },
     "metadata": {
      "needs_background": "light"
     },
     "output_type": "display_data"
    },
    {
     "data": {
      "image/png": "[encoded data removed]",
      "text/plain": [
       "<Figure size 720x360 with 1 Axes>"
      ]
     },
     "metadata": {
      "needs_background": "light"
     },
     "output_type": "display_data"
    }
   ],
   "source": [
    "parametrs = ['last_price', 'total_area', 'rooms', 'ceiling_height'] #список параметров, которые буду исследовать\n",
    "label = ['Цена квартир', 'Площадь квартир', 'Количество комнат в квартирах', 'Высота потолков в квартирах']\n",
    "units = [', млрд.',  ', кв. метров', ', шт.', ', метров']\n",
    "\n",
    "for i in range(len(parametrs)):  #цикл, который строит гистограммы по всем параметрам в списке parametrs\n",
    "    data[parametrs[i]].plot(kind = 'hist', bins = data[parametrs[i]].nunique(),\n",
    "                        grid = True, \n",
    "                        title = label[i] +' за период с 2014 по 2019 год',\n",
    "                        figsize = (10, 5))\n",
    "    plt.xlabel(label[i] + units[i])\n",
    "    plt.ylabel('Частота')\n",
    "    plt.show()"
   ]
  },
  {
   "cell_type": "code",
   "execution_count": 21,
   "metadata": {},
   "outputs": [
    {
     "name": "stdout",
     "output_type": "stream",
     "text": [
      "count    2.365000e+04\n",
      "mean     6.541127e+06\n",
      "std      1.089640e+07\n",
      "min      1.219000e+04\n",
      "25%      3.400000e+06\n",
      "50%      4.650000e+06\n",
      "75%      6.799000e+06\n",
      "max      7.630000e+08\n",
      "Name: last_price, dtype: float64\n",
      "\n",
      "count    23650.000000\n",
      "mean        60.329069\n",
      "std         35.661808\n",
      "min         12.000000\n",
      "25%         40.000000\n",
      "50%         52.000000\n",
      "75%         69.700000\n",
      "max        900.000000\n",
      "Name: total_area, dtype: float64\n",
      "\n",
      "count    23650.000000\n",
      "mean         2.070106\n",
      "std          1.078620\n",
      "min          0.000000\n",
      "25%          1.000000\n",
      "50%          2.000000\n",
      "75%          3.000000\n",
      "max         19.000000\n",
      "Name: rooms, dtype: float64\n",
      "\n",
      "count    23529.000000\n",
      "mean         2.733949\n",
      "std          1.012964\n",
      "min          1.000000\n",
      "25%          2.550000\n",
      "50%          2.700000\n",
      "75%          2.700000\n",
      "max        100.000000\n",
      "Name: ceiling_height, dtype: float64\n",
      "\n"
     ]
    }
   ],
   "source": [
    "for i in parametrs:  #статистика по параметрам\n",
    "    print(data[i].describe())\n",
    "    print()"
   ]
  },
  {
   "cell_type": "code",
   "execution_count": 22,
   "metadata": {},
   "outputs": [
    {
     "data": {
      "image/png": "[encoded data removed]",
      "text/plain": [
       "<Figure size 432x288 with 1 Axes>"
      ]
     },
     "metadata": {
      "needs_background": "light"
     },
     "output_type": "display_data"
    },
    {
     "data": {
      "image/png": "[encoded data removed]",
      "text/plain": [
       "<Figure size 432x288 with 1 Axes>"
      ]
     },
     "metadata": {
      "needs_background": "light"
     },
     "output_type": "display_data"
    },
    {
     "data": {
      "image/png": "[encoded data removed]",
      "text/plain": [
       "<Figure size 432x288 with 1 Axes>"
      ]
     },
     "metadata": {
      "needs_background": "light"
     },
     "output_type": "display_data"
    },
    {
     "data": {
      "image/png": "[encoded data removed]",
      "text/plain": [
       "<Figure size 432x288 with 1 Axes>"
      ]
     },
     "metadata": {
      "needs_background": "light"
     },
     "output_type": "display_data"
    }
   ],
   "source": [
    "for i in parametrs:  #ящик с усами по всем параметрам от минимального значения до максимального по оси y\n",
    "    data.boxplot(i)\n",
    "    plt.ylim(data[i].min(), data[i].max())\n",
    "    plt.show()"
   ]
  },
  {
   "cell_type": "code",
   "execution_count": 23,
   "metadata": {},
   "outputs": [
    {
     "data": {
      "image/png": "[encoded data removed]",
      "text/plain": [
       "<Figure size 432x288 with 1 Axes>"
      ]
     },
     "metadata": {
      "needs_background": "light"
     },
     "output_type": "display_data"
    },
    {
     "data": {
      "image/png": "[encoded data removed]",
      "text/plain": [
       "<Figure size 432x288 with 1 Axes>"
      ]
     },
     "metadata": {
      "needs_background": "light"
     },
     "output_type": "display_data"
    },
    {
     "data": {
      "image/png": "[encoded data removed]",
      "text/plain": [
       "<Figure size 432x288 with 1 Axes>"
      ]
     },
     "metadata": {
      "needs_background": "light"
     },
     "output_type": "display_data"
    },
    {
     "data": {
      "image/png": "[encoded data removed]",
      "text/plain": [
       "<Figure size 432x288 with 1 Axes>"
      ]
     },
     "metadata": {
      "needs_background": "light"
     },
     "output_type": "display_data"
    }
   ],
   "source": [
    "for i in parametrs:  #ящик с усами по всем параметрам от минимального значения до 95 процентиля по оси y\n",
    "    data.boxplot(i)\n",
    "    plt.ylim(data[i].min(), np.nanpercentile(data[i], 95))\n",
    "    plt.show()"
   ]
  },
  {
   "cell_type": "code",
   "execution_count": 24,
   "metadata": {
    "scrolled": true
   },
   "outputs": [
    {
     "data": {
      "text/html": [
       "<div>\n",
       "<style scoped>\n",
       "    .dataframe tbody tr th:only-of-type {\n",
       "        vertical-align: middle;\n",
       "    }\n",
       "\n",
       "    .dataframe tbody tr th {\n",
       "        vertical-align: top;\n",
       "    }\n",
       "\n",
       "    .dataframe thead th {\n",
       "        text-align: right;\n",
       "    }\n",
       "</style>\n",
       "<table border=\"1\" class=\"dataframe\">\n",
       "  <thead>\n",
       "    <tr style=\"text-align: right;\">\n",
       "      <th></th>\n",
       "      <th>total_images</th>\n",
       "      <th>last_price</th>\n",
       "      <th>total_area</th>\n",
       "      <th>first_day_exposition</th>\n",
       "      <th>rooms</th>\n",
       "      <th>ceiling_height</th>\n",
       "      <th>floors_total</th>\n",
       "      <th>living_area</th>\n",
       "      <th>floor</th>\n",
       "      <th>is_apartment</th>\n",
       "      <th>...</th>\n",
       "      <th>ponds_around3000</th>\n",
       "      <th>ponds_nearest</th>\n",
       "      <th>days_exposition</th>\n",
       "      <th>price_per_meter</th>\n",
       "      <th>week_day</th>\n",
       "      <th>year</th>\n",
       "      <th>month</th>\n",
       "      <th>ratio_living_total</th>\n",
       "      <th>ratio_kitchen_total</th>\n",
       "      <th>floor_category</th>\n",
       "    </tr>\n",
       "  </thead>\n",
       "  <tbody>\n",
       "    <tr>\n",
       "      <td>144</td>\n",
       "      <td>1</td>\n",
       "      <td>2450000.0</td>\n",
       "      <td>27.00</td>\n",
       "      <td>2017-03-30</td>\n",
       "      <td>0</td>\n",
       "      <td>2.70</td>\n",
       "      <td>24</td>\n",
       "      <td>15.50</td>\n",
       "      <td>2</td>\n",
       "      <td>False</td>\n",
       "      <td>...</td>\n",
       "      <td>NaN</td>\n",
       "      <td>NaN</td>\n",
       "      <td>181.0</td>\n",
       "      <td>90740.740741</td>\n",
       "      <td>3</td>\n",
       "      <td>2017</td>\n",
       "      <td>3</td>\n",
       "      <td>0.574</td>\n",
       "      <td>0.385</td>\n",
       "      <td>другой</td>\n",
       "    </tr>\n",
       "    <tr>\n",
       "      <td>349</td>\n",
       "      <td>4</td>\n",
       "      <td>2320000.0</td>\n",
       "      <td>25.00</td>\n",
       "      <td>2017-09-27</td>\n",
       "      <td>0</td>\n",
       "      <td>2.75</td>\n",
       "      <td>14</td>\n",
       "      <td>17.00</td>\n",
       "      <td>1</td>\n",
       "      <td>False</td>\n",
       "      <td>...</td>\n",
       "      <td>NaN</td>\n",
       "      <td>NaN</td>\n",
       "      <td>45.0</td>\n",
       "      <td>92800.000000</td>\n",
       "      <td>2</td>\n",
       "      <td>2017</td>\n",
       "      <td>9</td>\n",
       "      <td>0.680</td>\n",
       "      <td>0.418</td>\n",
       "      <td>первый</td>\n",
       "    </tr>\n",
       "    <tr>\n",
       "      <td>440</td>\n",
       "      <td>8</td>\n",
       "      <td>2480000.0</td>\n",
       "      <td>27.11</td>\n",
       "      <td>2018-03-12</td>\n",
       "      <td>0</td>\n",
       "      <td>2.70</td>\n",
       "      <td>17</td>\n",
       "      <td>24.75</td>\n",
       "      <td>4</td>\n",
       "      <td>False</td>\n",
       "      <td>...</td>\n",
       "      <td>2.0</td>\n",
       "      <td>982.0</td>\n",
       "      <td>64.0</td>\n",
       "      <td>91479.158982</td>\n",
       "      <td>0</td>\n",
       "      <td>2018</td>\n",
       "      <td>3</td>\n",
       "      <td>0.913</td>\n",
       "      <td>0.365</td>\n",
       "      <td>другой</td>\n",
       "    </tr>\n",
       "    <tr>\n",
       "      <td>508</td>\n",
       "      <td>0</td>\n",
       "      <td>3375000.0</td>\n",
       "      <td>34.40</td>\n",
       "      <td>2017-03-28</td>\n",
       "      <td>0</td>\n",
       "      <td>2.64</td>\n",
       "      <td>26</td>\n",
       "      <td>24.30</td>\n",
       "      <td>19</td>\n",
       "      <td>False</td>\n",
       "      <td>...</td>\n",
       "      <td>1.0</td>\n",
       "      <td>593.0</td>\n",
       "      <td>430.0</td>\n",
       "      <td>98110.465116</td>\n",
       "      <td>1</td>\n",
       "      <td>2017</td>\n",
       "      <td>3</td>\n",
       "      <td>0.706</td>\n",
       "      <td>0.320</td>\n",
       "      <td>другой</td>\n",
       "    </tr>\n",
       "    <tr>\n",
       "      <td>608</td>\n",
       "      <td>2</td>\n",
       "      <td>1850000.0</td>\n",
       "      <td>25.00</td>\n",
       "      <td>2019-02-20</td>\n",
       "      <td>0</td>\n",
       "      <td>2.63</td>\n",
       "      <td>10</td>\n",
       "      <td>28.20</td>\n",
       "      <td>7</td>\n",
       "      <td>False</td>\n",
       "      <td>...</td>\n",
       "      <td>NaN</td>\n",
       "      <td>NaN</td>\n",
       "      <td>29.0</td>\n",
       "      <td>74000.000000</td>\n",
       "      <td>2</td>\n",
       "      <td>2019</td>\n",
       "      <td>2</td>\n",
       "      <td>1.128</td>\n",
       "      <td>0.432</td>\n",
       "      <td>другой</td>\n",
       "    </tr>\n",
       "    <tr>\n",
       "      <td>...</td>\n",
       "      <td>...</td>\n",
       "      <td>...</td>\n",
       "      <td>...</td>\n",
       "      <td>...</td>\n",
       "      <td>...</td>\n",
       "      <td>...</td>\n",
       "      <td>...</td>\n",
       "      <td>...</td>\n",
       "      <td>...</td>\n",
       "      <td>...</td>\n",
       "      <td>...</td>\n",
       "      <td>...</td>\n",
       "      <td>...</td>\n",
       "      <td>...</td>\n",
       "      <td>...</td>\n",
       "      <td>...</td>\n",
       "      <td>...</td>\n",
       "      <td>...</td>\n",
       "      <td>...</td>\n",
       "      <td>...</td>\n",
       "      <td>...</td>\n",
       "    </tr>\n",
       "    <tr>\n",
       "      <td>23210</td>\n",
       "      <td>7</td>\n",
       "      <td>3200000.0</td>\n",
       "      <td>26.00</td>\n",
       "      <td>2017-09-01</td>\n",
       "      <td>0</td>\n",
       "      <td>2.70</td>\n",
       "      <td>25</td>\n",
       "      <td>18.00</td>\n",
       "      <td>16</td>\n",
       "      <td>False</td>\n",
       "      <td>...</td>\n",
       "      <td>1.0</td>\n",
       "      <td>623.0</td>\n",
       "      <td>14.0</td>\n",
       "      <td>123076.923077</td>\n",
       "      <td>4</td>\n",
       "      <td>2017</td>\n",
       "      <td>9</td>\n",
       "      <td>0.692</td>\n",
       "      <td>0.381</td>\n",
       "      <td>другой</td>\n",
       "    </tr>\n",
       "    <tr>\n",
       "      <td>23442</td>\n",
       "      <td>0</td>\n",
       "      <td>2500000.0</td>\n",
       "      <td>27.70</td>\n",
       "      <td>2017-09-28</td>\n",
       "      <td>0</td>\n",
       "      <td>2.70</td>\n",
       "      <td>24</td>\n",
       "      <td>18.00</td>\n",
       "      <td>4</td>\n",
       "      <td>False</td>\n",
       "      <td>...</td>\n",
       "      <td>NaN</td>\n",
       "      <td>NaN</td>\n",
       "      <td>4.0</td>\n",
       "      <td>90252.707581</td>\n",
       "      <td>3</td>\n",
       "      <td>2017</td>\n",
       "      <td>9</td>\n",
       "      <td>0.650</td>\n",
       "      <td>0.375</td>\n",
       "      <td>другой</td>\n",
       "    </tr>\n",
       "    <tr>\n",
       "      <td>23554</td>\n",
       "      <td>15</td>\n",
       "      <td>3350000.0</td>\n",
       "      <td>26.00</td>\n",
       "      <td>2018-09-07</td>\n",
       "      <td>0</td>\n",
       "      <td>2.70</td>\n",
       "      <td>19</td>\n",
       "      <td>31.30</td>\n",
       "      <td>8</td>\n",
       "      <td>False</td>\n",
       "      <td>...</td>\n",
       "      <td>2.0</td>\n",
       "      <td>112.0</td>\n",
       "      <td>31.0</td>\n",
       "      <td>128846.153846</td>\n",
       "      <td>4</td>\n",
       "      <td>2018</td>\n",
       "      <td>9</td>\n",
       "      <td>1.204</td>\n",
       "      <td>0.381</td>\n",
       "      <td>другой</td>\n",
       "    </tr>\n",
       "    <tr>\n",
       "      <td>23592</td>\n",
       "      <td>10</td>\n",
       "      <td>1450000.0</td>\n",
       "      <td>29.00</td>\n",
       "      <td>2017-11-11</td>\n",
       "      <td>0</td>\n",
       "      <td>2.56</td>\n",
       "      <td>9</td>\n",
       "      <td>18.00</td>\n",
       "      <td>8</td>\n",
       "      <td>False</td>\n",
       "      <td>...</td>\n",
       "      <td>NaN</td>\n",
       "      <td>NaN</td>\n",
       "      <td>82.0</td>\n",
       "      <td>50000.000000</td>\n",
       "      <td>5</td>\n",
       "      <td>2017</td>\n",
       "      <td>11</td>\n",
       "      <td>0.621</td>\n",
       "      <td>0.286</td>\n",
       "      <td>другой</td>\n",
       "    </tr>\n",
       "    <tr>\n",
       "      <td>23637</td>\n",
       "      <td>8</td>\n",
       "      <td>2350000.0</td>\n",
       "      <td>26.00</td>\n",
       "      <td>2018-06-26</td>\n",
       "      <td>0</td>\n",
       "      <td>2.65</td>\n",
       "      <td>25</td>\n",
       "      <td>17.00</td>\n",
       "      <td>4</td>\n",
       "      <td>False</td>\n",
       "      <td>...</td>\n",
       "      <td>NaN</td>\n",
       "      <td>NaN</td>\n",
       "      <td>207.0</td>\n",
       "      <td>90384.615385</td>\n",
       "      <td>1</td>\n",
       "      <td>2018</td>\n",
       "      <td>6</td>\n",
       "      <td>0.654</td>\n",
       "      <td>0.383</td>\n",
       "      <td>другой</td>\n",
       "    </tr>\n",
       "  </tbody>\n",
       "</table>\n",
       "<p>197 rows × 29 columns</p>\n",
       "</div>"
      ],
      "text/plain": [
       "       total_images  last_price  total_area first_day_exposition  rooms  \\\n",
       "144               1   2450000.0       27.00           2017-03-30      0   \n",
       "349               4   2320000.0       25.00           2017-09-27      0   \n",
       "440               8   2480000.0       27.11           2018-03-12      0   \n",
       "508               0   3375000.0       34.40           2017-03-28      0   \n",
       "608               2   1850000.0       25.00           2019-02-20      0   \n",
       "...             ...         ...         ...                  ...    ...   \n",
       "23210             7   3200000.0       26.00           2017-09-01      0   \n",
       "23442             0   2500000.0       27.70           2017-09-28      0   \n",
       "23554            15   3350000.0       26.00           2018-09-07      0   \n",
       "23592            10   1450000.0       29.00           2017-11-11      0   \n",
       "23637             8   2350000.0       26.00           2018-06-26      0   \n",
       "\n",
       "       ceiling_height  floors_total  living_area  floor  is_apartment  ...  \\\n",
       "144              2.70            24        15.50      2         False  ...   \n",
       "349              2.75            14        17.00      1         False  ...   \n",
       "440              2.70            17        24.75      4         False  ...   \n",
       "508              2.64            26        24.30     19         False  ...   \n",
       "608              2.63            10        28.20      7         False  ...   \n",
       "...               ...           ...          ...    ...           ...  ...   \n",
       "23210            2.70            25        18.00     16         False  ...   \n",
       "23442            2.70            24        18.00      4         False  ...   \n",
       "23554            2.70            19        31.30      8         False  ...   \n",
       "23592            2.56             9        18.00      8         False  ...   \n",
       "23637            2.65            25        17.00      4         False  ...   \n",
       "\n",
       "       ponds_around3000  ponds_nearest  days_exposition  price_per_meter  \\\n",
       "144                 NaN            NaN            181.0     90740.740741   \n",
       "349                 NaN            NaN             45.0     92800.000000   \n",
       "440                 2.0          982.0             64.0     91479.158982   \n",
       "508                 1.0          593.0            430.0     98110.465116   \n",
       "608                 NaN            NaN             29.0     74000.000000   \n",
       "...                 ...            ...              ...              ...   \n",
       "23210               1.0          623.0             14.0    123076.923077   \n",
       "23442               NaN            NaN              4.0     90252.707581   \n",
       "23554               2.0          112.0             31.0    128846.153846   \n",
       "23592               NaN            NaN             82.0     50000.000000   \n",
       "23637               NaN            NaN            207.0     90384.615385   \n",
       "\n",
       "      week_day  year  month  ratio_living_total  ratio_kitchen_total  \\\n",
       "144          3  2017      3               0.574                0.385   \n",
       "349          2  2017      9               0.680                0.418   \n",
       "440          0  2018      3               0.913                0.365   \n",
       "508          1  2017      3               0.706                0.320   \n",
       "608          2  2019      2               1.128                0.432   \n",
       "...        ...   ...    ...                 ...                  ...   \n",
       "23210        4  2017      9               0.692                0.381   \n",
       "23442        3  2017      9               0.650                0.375   \n",
       "23554        4  2018      9               1.204                0.381   \n",
       "23592        5  2017     11               0.621                0.286   \n",
       "23637        1  2018      6               0.654                0.383   \n",
       "\n",
       "       floor_category  \n",
       "144            другой  \n",
       "349            первый  \n",
       "440            другой  \n",
       "508            другой  \n",
       "608            другой  \n",
       "...               ...  \n",
       "23210          другой  \n",
       "23442          другой  \n",
       "23554          другой  \n",
       "23592          другой  \n",
       "23637          другой  \n",
       "\n",
       "[197 rows x 29 columns]"
      ]
     },
     "execution_count": 24,
     "metadata": {},
     "output_type": "execute_result"
    }
   ],
   "source": [
    "data.query('rooms == 0') #информация о квартирах с количеством комнат равных 0"
   ]
  },
  {
   "cell_type": "markdown",
   "metadata": {},
   "source": [
    "Для изучения данных о стоимости квартиры, высоты потолков, количестве комнат и общей площади были построены гистограммы и диаграммы рассеивания.\n",
    "\n",
    "- Среднее и медианное количество комнат в квартирах совпадает, это значение равно 2. Минимальное количество комнат равно 0, скорее всего квартиры с 0 комнатами придется удалить из выборки. Максимальное количество комнат 19.\n",
    "\n",
    "- Медианное значение стоимости квартир равно 4 650 000, в то время как среднее значение составляет около 6 541 000. Минимальная стоимость квартиры 12190, а максимальная 763 000 000.\n",
    "\n",
    "- Средняя площадь квартиры составляет примерно 60.3 квадратных метра, медианная - 52. Максимальная площадь квартиры равна 900 квадратным метрам, а минимальная - 12.\n",
    "\n",
    "- Средняя и медианная высота потолков около 2.7 метров. Минимальная высота потолка - 1 метр, а максимальная - 100."
   ]
  },
  {
   "cell_type": "code",
   "execution_count": 25,
   "metadata": {},
   "outputs": [
    {
     "data": {
      "image/png": "[encoded data removed]",
      "text/plain": [
       "<Figure size 432x288 with 1 Axes>"
      ]
     },
     "metadata": {
      "needs_background": "light"
     },
     "output_type": "display_data"
    },
    {
     "data": {
      "image/png": "[encoded data removed]",
      "text/plain": [
       "<Figure size 432x288 with 1 Axes>"
      ]
     },
     "metadata": {
      "needs_background": "light"
     },
     "output_type": "display_data"
    }
   ],
   "source": [
    "data['days_exposition'].hist() #построение гистограммы по столбцу days_exposition\n",
    "plt.xlabel('Количество дней, до момента снятия объявления')\n",
    "plt.title('Гистограмма по количеству дней того, сколько объявление висело на сайте')\n",
    "plt.ylabel('Частота')\n",
    "plt.show()\n",
    "data.boxplot('days_exposition', vert = False) #построение диаграммы рассеивания по столбцу days_exposition\n",
    "plt.xlabel('Количество дней, до момента снятия объявления')\n",
    "plt.show()"
   ]
  },
  {
   "cell_type": "code",
   "execution_count": 26,
   "metadata": {},
   "outputs": [
    {
     "data": {
      "text/plain": [
       "count    23570.000000\n",
       "mean       170.193148\n",
       "std        207.234488\n",
       "min          1.000000\n",
       "25%         45.000000\n",
       "50%         95.000000\n",
       "75%        201.000000\n",
       "max       1580.000000\n",
       "Name: days_exposition, dtype: float64"
      ]
     },
     "execution_count": 26,
     "metadata": {},
     "output_type": "execute_result"
    }
   ],
   "source": [
    "data['days_exposition'].describe() #статистика по столбцу days_exposition"
   ]
  },
  {
   "cell_type": "code",
   "execution_count": 27,
   "metadata": {},
   "outputs": [
    {
     "data": {
      "text/html": [
       "<div>\n",
       "<style scoped>\n",
       "    .dataframe tbody tr th:only-of-type {\n",
       "        vertical-align: middle;\n",
       "    }\n",
       "\n",
       "    .dataframe tbody tr th {\n",
       "        vertical-align: top;\n",
       "    }\n",
       "\n",
       "    .dataframe thead tr th {\n",
       "        text-align: left;\n",
       "    }\n",
       "\n",
       "    .dataframe thead tr:last-of-type th {\n",
       "        text-align: right;\n",
       "    }\n",
       "</style>\n",
       "<table border=\"1\" class=\"dataframe\">\n",
       "  <thead>\n",
       "    <tr>\n",
       "      <th></th>\n",
       "      <th>count</th>\n",
       "      <th>median</th>\n",
       "    </tr>\n",
       "    <tr>\n",
       "      <th></th>\n",
       "      <th>days_exposition</th>\n",
       "      <th>days_exposition</th>\n",
       "    </tr>\n",
       "    <tr>\n",
       "      <th>year</th>\n",
       "      <th></th>\n",
       "      <th></th>\n",
       "    </tr>\n",
       "  </thead>\n",
       "  <tbody>\n",
       "    <tr>\n",
       "      <td>2014</td>\n",
       "      <td>15</td>\n",
       "      <td>95.0</td>\n",
       "    </tr>\n",
       "    <tr>\n",
       "      <td>2015</td>\n",
       "      <td>59</td>\n",
       "      <td>95.0</td>\n",
       "    </tr>\n",
       "    <tr>\n",
       "      <td>2016</td>\n",
       "      <td>629</td>\n",
       "      <td>60.0</td>\n",
       "    </tr>\n",
       "    <tr>\n",
       "      <td>2017</td>\n",
       "      <td>4086</td>\n",
       "      <td>45.0</td>\n",
       "    </tr>\n",
       "    <tr>\n",
       "      <td>2018</td>\n",
       "      <td>5716</td>\n",
       "      <td>46.0</td>\n",
       "    </tr>\n",
       "    <tr>\n",
       "      <td>2019</td>\n",
       "      <td>2595</td>\n",
       "      <td>92.0</td>\n",
       "    </tr>\n",
       "  </tbody>\n",
       "</table>\n",
       "</div>"
      ],
      "text/plain": [
       "               count          median\n",
       "     days_exposition days_exposition\n",
       "year                                \n",
       "2014              15            95.0\n",
       "2015              59            95.0\n",
       "2016             629            60.0\n",
       "2017            4086            45.0\n",
       "2018            5716            46.0\n",
       "2019            2595            92.0"
      ]
     },
     "execution_count": 27,
     "metadata": {},
     "output_type": "execute_result"
    }
   ],
   "source": [
    "filt_data = data[data['days_exposition'] < 100].pivot_table(index = 'year', values = 'days_exposition', aggfunc = ['count', \n",
    "                                                                                                                  'median'])\n",
    "filt_data #сводная таблица по объявления, которые были закрыты меньше, чем за сто дней"
   ]
  },
  {
   "cell_type": "code",
   "execution_count": 28,
   "metadata": {},
   "outputs": [
    {
     "data": {
      "text/html": [
       "<div>\n",
       "<style scoped>\n",
       "    .dataframe tbody tr th:only-of-type {\n",
       "        vertical-align: middle;\n",
       "    }\n",
       "\n",
       "    .dataframe tbody tr th {\n",
       "        vertical-align: top;\n",
       "    }\n",
       "\n",
       "    .dataframe thead tr th {\n",
       "        text-align: left;\n",
       "    }\n",
       "\n",
       "    .dataframe thead tr:last-of-type th {\n",
       "        text-align: right;\n",
       "    }\n",
       "</style>\n",
       "<table border=\"1\" class=\"dataframe\">\n",
       "  <thead>\n",
       "    <tr>\n",
       "      <th></th>\n",
       "      <th>count</th>\n",
       "      <th>median</th>\n",
       "    </tr>\n",
       "    <tr>\n",
       "      <th></th>\n",
       "      <th>days_exposition</th>\n",
       "      <th>days_exposition</th>\n",
       "    </tr>\n",
       "    <tr>\n",
       "      <th>year</th>\n",
       "      <th></th>\n",
       "      <th></th>\n",
       "    </tr>\n",
       "  </thead>\n",
       "  <tbody>\n",
       "    <tr>\n",
       "      <td>2014</td>\n",
       "      <td>136</td>\n",
       "      <td>762.0</td>\n",
       "    </tr>\n",
       "    <tr>\n",
       "      <td>2015</td>\n",
       "      <td>1173</td>\n",
       "      <td>558.0</td>\n",
       "    </tr>\n",
       "    <tr>\n",
       "      <td>2016</td>\n",
       "      <td>2765</td>\n",
       "      <td>228.0</td>\n",
       "    </tr>\n",
       "    <tr>\n",
       "      <td>2017</td>\n",
       "      <td>8182</td>\n",
       "      <td>100.0</td>\n",
       "    </tr>\n",
       "    <tr>\n",
       "      <td>2018</td>\n",
       "      <td>8489</td>\n",
       "      <td>75.0</td>\n",
       "    </tr>\n",
       "    <tr>\n",
       "      <td>2019</td>\n",
       "      <td>2825</td>\n",
       "      <td>95.0</td>\n",
       "    </tr>\n",
       "  </tbody>\n",
       "</table>\n",
       "</div>"
      ],
      "text/plain": [
       "               count          median\n",
       "     days_exposition days_exposition\n",
       "year                                \n",
       "2014             136           762.0\n",
       "2015            1173           558.0\n",
       "2016            2765           228.0\n",
       "2017            8182           100.0\n",
       "2018            8489            75.0\n",
       "2019            2825            95.0"
      ]
     },
     "execution_count": 28,
     "metadata": {},
     "output_type": "execute_result"
    }
   ],
   "source": [
    "all_data= data.pivot_table(index = 'year', values = 'days_exposition', aggfunc = ['count', 'median'])\n",
    "all_data #сводная таблица по всем объявлениям"
   ]
  },
  {
   "cell_type": "code",
   "execution_count": 29,
   "metadata": {},
   "outputs": [
    {
     "data": {
      "text/html": [
       "<div>\n",
       "<style scoped>\n",
       "    .dataframe tbody tr th:only-of-type {\n",
       "        vertical-align: middle;\n",
       "    }\n",
       "\n",
       "    .dataframe tbody tr th {\n",
       "        vertical-align: top;\n",
       "    }\n",
       "\n",
       "    .dataframe thead th {\n",
       "        text-align: right;\n",
       "    }\n",
       "</style>\n",
       "<table border=\"1\" class=\"dataframe\">\n",
       "  <thead>\n",
       "    <tr style=\"text-align: right;\">\n",
       "      <th></th>\n",
       "      <th>days_exposition</th>\n",
       "    </tr>\n",
       "    <tr>\n",
       "      <th>year</th>\n",
       "      <th></th>\n",
       "    </tr>\n",
       "  </thead>\n",
       "  <tbody>\n",
       "    <tr>\n",
       "      <td>2014</td>\n",
       "      <td>11.029412</td>\n",
       "    </tr>\n",
       "    <tr>\n",
       "      <td>2015</td>\n",
       "      <td>5.029838</td>\n",
       "    </tr>\n",
       "    <tr>\n",
       "      <td>2016</td>\n",
       "      <td>22.748644</td>\n",
       "    </tr>\n",
       "    <tr>\n",
       "      <td>2017</td>\n",
       "      <td>49.938890</td>\n",
       "    </tr>\n",
       "    <tr>\n",
       "      <td>2018</td>\n",
       "      <td>67.334197</td>\n",
       "    </tr>\n",
       "    <tr>\n",
       "      <td>2019</td>\n",
       "      <td>91.858407</td>\n",
       "    </tr>\n",
       "  </tbody>\n",
       "</table>\n",
       "</div>"
      ],
      "text/plain": [
       "      days_exposition\n",
       "year                 \n",
       "2014        11.029412\n",
       "2015         5.029838\n",
       "2016        22.748644\n",
       "2017        49.938890\n",
       "2018        67.334197\n",
       "2019        91.858407"
      ]
     },
     "execution_count": 29,
     "metadata": {},
     "output_type": "execute_result"
    }
   ],
   "source": [
    "filt_data['count'] / all_data['count'] *100 #доля объявлений закрытых меньше, чем за 100 дней от всех объявлений"
   ]
  },
  {
   "cell_type": "markdown",
   "metadata": {},
   "source": [
    "В среднем с момента публикации объявления до момента продажи проходи 170 дней, медианная продолжительность нахождения объявления на сайте - 95 дней. Максимальное время находления объявления на сайте - 1580 дней, минимальное - 1 день. Видно, что с каждым годом количество закрытых объявлений меньше, чем за сто дней увеличивается."
   ]
  },
  {
   "cell_type": "code",
   "execution_count": 30,
   "metadata": {},
   "outputs": [
    {
     "data": {
      "text/html": [
       "<div>\n",
       "<style scoped>\n",
       "    .dataframe tbody tr th:only-of-type {\n",
       "        vertical-align: middle;\n",
       "    }\n",
       "\n",
       "    .dataframe tbody tr th {\n",
       "        vertical-align: top;\n",
       "    }\n",
       "\n",
       "    .dataframe thead th {\n",
       "        text-align: right;\n",
       "    }\n",
       "</style>\n",
       "<table border=\"1\" class=\"dataframe\">\n",
       "  <thead>\n",
       "    <tr style=\"text-align: right;\">\n",
       "      <th></th>\n",
       "      <th>total_images</th>\n",
       "      <th>last_price</th>\n",
       "      <th>total_area</th>\n",
       "      <th>first_day_exposition</th>\n",
       "      <th>rooms</th>\n",
       "      <th>ceiling_height</th>\n",
       "      <th>floors_total</th>\n",
       "      <th>living_area</th>\n",
       "      <th>floor</th>\n",
       "      <th>is_apartment</th>\n",
       "      <th>...</th>\n",
       "      <th>ponds_around3000</th>\n",
       "      <th>ponds_nearest</th>\n",
       "      <th>days_exposition</th>\n",
       "      <th>price_per_meter</th>\n",
       "      <th>week_day</th>\n",
       "      <th>year</th>\n",
       "      <th>month</th>\n",
       "      <th>ratio_living_total</th>\n",
       "      <th>ratio_kitchen_total</th>\n",
       "      <th>floor_category</th>\n",
       "    </tr>\n",
       "  </thead>\n",
       "  <tbody>\n",
       "    <tr>\n",
       "      <td>0</td>\n",
       "      <td>20</td>\n",
       "      <td>13000000.0</td>\n",
       "      <td>108.00</td>\n",
       "      <td>2019-03-07</td>\n",
       "      <td>3</td>\n",
       "      <td>2.70</td>\n",
       "      <td>16</td>\n",
       "      <td>51.0</td>\n",
       "      <td>8</td>\n",
       "      <td>False</td>\n",
       "      <td>...</td>\n",
       "      <td>2.0</td>\n",
       "      <td>755.0</td>\n",
       "      <td>95.0</td>\n",
       "      <td>120370.370370</td>\n",
       "      <td>3</td>\n",
       "      <td>2019</td>\n",
       "      <td>3</td>\n",
       "      <td>0.472</td>\n",
       "      <td>0.231</td>\n",
       "      <td>другой</td>\n",
       "    </tr>\n",
       "    <tr>\n",
       "      <td>1</td>\n",
       "      <td>7</td>\n",
       "      <td>3350000.0</td>\n",
       "      <td>40.40</td>\n",
       "      <td>2018-12-04</td>\n",
       "      <td>1</td>\n",
       "      <td>2.63</td>\n",
       "      <td>11</td>\n",
       "      <td>18.6</td>\n",
       "      <td>1</td>\n",
       "      <td>False</td>\n",
       "      <td>...</td>\n",
       "      <td>0.0</td>\n",
       "      <td>NaN</td>\n",
       "      <td>81.0</td>\n",
       "      <td>82920.792079</td>\n",
       "      <td>1</td>\n",
       "      <td>2018</td>\n",
       "      <td>12</td>\n",
       "      <td>0.460</td>\n",
       "      <td>0.272</td>\n",
       "      <td>первый</td>\n",
       "    </tr>\n",
       "    <tr>\n",
       "      <td>2</td>\n",
       "      <td>10</td>\n",
       "      <td>5196000.0</td>\n",
       "      <td>56.00</td>\n",
       "      <td>2015-08-20</td>\n",
       "      <td>2</td>\n",
       "      <td>2.70</td>\n",
       "      <td>5</td>\n",
       "      <td>34.3</td>\n",
       "      <td>4</td>\n",
       "      <td>False</td>\n",
       "      <td>...</td>\n",
       "      <td>2.0</td>\n",
       "      <td>574.0</td>\n",
       "      <td>558.0</td>\n",
       "      <td>92785.714286</td>\n",
       "      <td>3</td>\n",
       "      <td>2015</td>\n",
       "      <td>8</td>\n",
       "      <td>0.612</td>\n",
       "      <td>0.148</td>\n",
       "      <td>другой</td>\n",
       "    </tr>\n",
       "    <tr>\n",
       "      <td>4</td>\n",
       "      <td>2</td>\n",
       "      <td>10000000.0</td>\n",
       "      <td>100.00</td>\n",
       "      <td>2018-06-19</td>\n",
       "      <td>2</td>\n",
       "      <td>3.03</td>\n",
       "      <td>14</td>\n",
       "      <td>32.0</td>\n",
       "      <td>13</td>\n",
       "      <td>False</td>\n",
       "      <td>...</td>\n",
       "      <td>1.0</td>\n",
       "      <td>48.0</td>\n",
       "      <td>121.0</td>\n",
       "      <td>100000.000000</td>\n",
       "      <td>1</td>\n",
       "      <td>2018</td>\n",
       "      <td>6</td>\n",
       "      <td>0.320</td>\n",
       "      <td>0.410</td>\n",
       "      <td>другой</td>\n",
       "    </tr>\n",
       "    <tr>\n",
       "      <td>6</td>\n",
       "      <td>6</td>\n",
       "      <td>3700000.0</td>\n",
       "      <td>37.30</td>\n",
       "      <td>2017-11-02</td>\n",
       "      <td>1</td>\n",
       "      <td>2.64</td>\n",
       "      <td>26</td>\n",
       "      <td>10.6</td>\n",
       "      <td>6</td>\n",
       "      <td>False</td>\n",
       "      <td>...</td>\n",
       "      <td>0.0</td>\n",
       "      <td>NaN</td>\n",
       "      <td>155.0</td>\n",
       "      <td>99195.710456</td>\n",
       "      <td>3</td>\n",
       "      <td>2017</td>\n",
       "      <td>11</td>\n",
       "      <td>0.284</td>\n",
       "      <td>0.386</td>\n",
       "      <td>другой</td>\n",
       "    </tr>\n",
       "    <tr>\n",
       "      <td>...</td>\n",
       "      <td>...</td>\n",
       "      <td>...</td>\n",
       "      <td>...</td>\n",
       "      <td>...</td>\n",
       "      <td>...</td>\n",
       "      <td>...</td>\n",
       "      <td>...</td>\n",
       "      <td>...</td>\n",
       "      <td>...</td>\n",
       "      <td>...</td>\n",
       "      <td>...</td>\n",
       "      <td>...</td>\n",
       "      <td>...</td>\n",
       "      <td>...</td>\n",
       "      <td>...</td>\n",
       "      <td>...</td>\n",
       "      <td>...</td>\n",
       "      <td>...</td>\n",
       "      <td>...</td>\n",
       "      <td>...</td>\n",
       "      <td>...</td>\n",
       "    </tr>\n",
       "    <tr>\n",
       "      <td>23690</td>\n",
       "      <td>3</td>\n",
       "      <td>5500000.0</td>\n",
       "      <td>52.00</td>\n",
       "      <td>2018-07-19</td>\n",
       "      <td>2</td>\n",
       "      <td>2.70</td>\n",
       "      <td>5</td>\n",
       "      <td>31.0</td>\n",
       "      <td>2</td>\n",
       "      <td>False</td>\n",
       "      <td>...</td>\n",
       "      <td>0.0</td>\n",
       "      <td>NaN</td>\n",
       "      <td>15.0</td>\n",
       "      <td>105769.230769</td>\n",
       "      <td>3</td>\n",
       "      <td>2018</td>\n",
       "      <td>7</td>\n",
       "      <td>0.596</td>\n",
       "      <td>0.115</td>\n",
       "      <td>другой</td>\n",
       "    </tr>\n",
       "    <tr>\n",
       "      <td>23691</td>\n",
       "      <td>11</td>\n",
       "      <td>9470000.0</td>\n",
       "      <td>72.90</td>\n",
       "      <td>2016-10-13</td>\n",
       "      <td>2</td>\n",
       "      <td>2.75</td>\n",
       "      <td>25</td>\n",
       "      <td>40.3</td>\n",
       "      <td>7</td>\n",
       "      <td>False</td>\n",
       "      <td>...</td>\n",
       "      <td>1.0</td>\n",
       "      <td>806.0</td>\n",
       "      <td>519.0</td>\n",
       "      <td>129903.978052</td>\n",
       "      <td>3</td>\n",
       "      <td>2016</td>\n",
       "      <td>10</td>\n",
       "      <td>0.553</td>\n",
       "      <td>0.145</td>\n",
       "      <td>другой</td>\n",
       "    </tr>\n",
       "    <tr>\n",
       "      <td>23693</td>\n",
       "      <td>9</td>\n",
       "      <td>4600000.0</td>\n",
       "      <td>62.40</td>\n",
       "      <td>2016-08-05</td>\n",
       "      <td>3</td>\n",
       "      <td>2.60</td>\n",
       "      <td>9</td>\n",
       "      <td>40.0</td>\n",
       "      <td>8</td>\n",
       "      <td>False</td>\n",
       "      <td>...</td>\n",
       "      <td>1.0</td>\n",
       "      <td>675.0</td>\n",
       "      <td>239.0</td>\n",
       "      <td>73717.948718</td>\n",
       "      <td>4</td>\n",
       "      <td>2016</td>\n",
       "      <td>8</td>\n",
       "      <td>0.641</td>\n",
       "      <td>0.128</td>\n",
       "      <td>другой</td>\n",
       "    </tr>\n",
       "    <tr>\n",
       "      <td>23695</td>\n",
       "      <td>14</td>\n",
       "      <td>3100000.0</td>\n",
       "      <td>59.00</td>\n",
       "      <td>2018-01-15</td>\n",
       "      <td>3</td>\n",
       "      <td>2.50</td>\n",
       "      <td>5</td>\n",
       "      <td>38.0</td>\n",
       "      <td>4</td>\n",
       "      <td>False</td>\n",
       "      <td>...</td>\n",
       "      <td>NaN</td>\n",
       "      <td>NaN</td>\n",
       "      <td>45.0</td>\n",
       "      <td>52542.372881</td>\n",
       "      <td>0</td>\n",
       "      <td>2018</td>\n",
       "      <td>1</td>\n",
       "      <td>0.644</td>\n",
       "      <td>0.144</td>\n",
       "      <td>другой</td>\n",
       "    </tr>\n",
       "    <tr>\n",
       "      <td>23697</td>\n",
       "      <td>13</td>\n",
       "      <td>11475000.0</td>\n",
       "      <td>76.75</td>\n",
       "      <td>2017-03-28</td>\n",
       "      <td>2</td>\n",
       "      <td>3.00</td>\n",
       "      <td>17</td>\n",
       "      <td>31.3</td>\n",
       "      <td>12</td>\n",
       "      <td>False</td>\n",
       "      <td>...</td>\n",
       "      <td>3.0</td>\n",
       "      <td>196.0</td>\n",
       "      <td>602.0</td>\n",
       "      <td>149511.400651</td>\n",
       "      <td>1</td>\n",
       "      <td>2017</td>\n",
       "      <td>3</td>\n",
       "      <td>0.408</td>\n",
       "      <td>0.304</td>\n",
       "      <td>другой</td>\n",
       "    </tr>\n",
       "  </tbody>\n",
       "</table>\n",
       "<p>19088 rows × 29 columns</p>\n",
       "</div>"
      ],
      "text/plain": [
       "       total_images  last_price  total_area first_day_exposition  rooms  \\\n",
       "0                20  13000000.0      108.00           2019-03-07      3   \n",
       "1                 7   3350000.0       40.40           2018-12-04      1   \n",
       "2                10   5196000.0       56.00           2015-08-20      2   \n",
       "4                 2  10000000.0      100.00           2018-06-19      2   \n",
       "6                 6   3700000.0       37.30           2017-11-02      1   \n",
       "...             ...         ...         ...                  ...    ...   \n",
       "23690             3   5500000.0       52.00           2018-07-19      2   \n",
       "23691            11   9470000.0       72.90           2016-10-13      2   \n",
       "23693             9   4600000.0       62.40           2016-08-05      3   \n",
       "23695            14   3100000.0       59.00           2018-01-15      3   \n",
       "23697            13  11475000.0       76.75           2017-03-28      2   \n",
       "\n",
       "       ceiling_height  floors_total  living_area  floor  is_apartment  ...  \\\n",
       "0                2.70            16         51.0      8         False  ...   \n",
       "1                2.63            11         18.6      1         False  ...   \n",
       "2                2.70             5         34.3      4         False  ...   \n",
       "4                3.03            14         32.0     13         False  ...   \n",
       "6                2.64            26         10.6      6         False  ...   \n",
       "...               ...           ...          ...    ...           ...  ...   \n",
       "23690            2.70             5         31.0      2         False  ...   \n",
       "23691            2.75            25         40.3      7         False  ...   \n",
       "23693            2.60             9         40.0      8         False  ...   \n",
       "23695            2.50             5         38.0      4         False  ...   \n",
       "23697            3.00            17         31.3     12         False  ...   \n",
       "\n",
       "       ponds_around3000  ponds_nearest  days_exposition  price_per_meter  \\\n",
       "0                   2.0          755.0             95.0    120370.370370   \n",
       "1                   0.0            NaN             81.0     82920.792079   \n",
       "2                   2.0          574.0            558.0     92785.714286   \n",
       "4                   1.0           48.0            121.0    100000.000000   \n",
       "6                   0.0            NaN            155.0     99195.710456   \n",
       "...                 ...            ...              ...              ...   \n",
       "23690               0.0            NaN             15.0    105769.230769   \n",
       "23691               1.0          806.0            519.0    129903.978052   \n",
       "23693               1.0          675.0            239.0     73717.948718   \n",
       "23695               NaN            NaN             45.0     52542.372881   \n",
       "23697               3.0          196.0            602.0    149511.400651   \n",
       "\n",
       "      week_day  year  month  ratio_living_total  ratio_kitchen_total  \\\n",
       "0            3  2019      3               0.472                0.231   \n",
       "1            1  2018     12               0.460                0.272   \n",
       "2            3  2015      8               0.612                0.148   \n",
       "4            1  2018      6               0.320                0.410   \n",
       "6            3  2017     11               0.284                0.386   \n",
       "...        ...   ...    ...                 ...                  ...   \n",
       "23690        3  2018      7               0.596                0.115   \n",
       "23691        3  2016     10               0.553                0.145   \n",
       "23693        4  2016      8               0.641                0.128   \n",
       "23695        0  2018      1               0.644                0.144   \n",
       "23697        1  2017      3               0.408                0.304   \n",
       "\n",
       "       floor_category  \n",
       "0              другой  \n",
       "1              первый  \n",
       "2              другой  \n",
       "4              другой  \n",
       "6              другой  \n",
       "...               ...  \n",
       "23690          другой  \n",
       "23691          другой  \n",
       "23693          другой  \n",
       "23695          другой  \n",
       "23697          другой  \n",
       "\n",
       "[19088 rows x 29 columns]"
      ]
     },
     "execution_count": 30,
     "metadata": {},
     "output_type": "execute_result"
    }
   ],
   "source": [
    "filtered_data = data\n",
    "for i in parametrs: #цикл для отфильтрофки датасета, отфильтровываем выбросы\n",
    "    min_r = np.nanpercentile(data[i], 5) \n",
    "    max_r = np.nanpercentile(data[i], 95)\n",
    "    filtered_data = filtered_data[(min_r <= filtered_data[i]) & (filtered_data[i] <= max_r)]\n",
    "    \n",
    "filtered_data"
   ]
  },
  {
   "cell_type": "code",
   "execution_count": 31,
   "metadata": {},
   "outputs": [
    {
     "name": "stdout",
     "output_type": "stream",
     "text": [
      "Зависимость last_price от total_area: 0.7197313672224837\n",
      "\n",
      "Зависимость last_price от rooms: 0.4187062298044657\n",
      "\n",
      "Зависимость last_price от floor: 0.11296268159269751\n",
      "\n",
      "Зависимость last_price от month: 0.005843894570257265\n",
      "\n",
      "Зависимость last_price от year: 0.01410042606078402\n",
      "\n",
      "Зависимость last_price от week_day: -0.00814198999717865\n",
      "\n"
     ]
    }
   ],
   "source": [
    "parameters = ['total_area', 'rooms', 'floor', 'month', 'year', 'week_day']\n",
    "\n",
    "for i in parameters: #цикл для вычисления зависимости last_price от столбцов списке parameters, для датасета filtered_data\n",
    "    print('Зависимость last_price от', i +':', filtered_data['last_price'].corr(filtered_data[i]))\n",
    "    print()"
   ]
  },
  {
   "cell_type": "code",
   "execution_count": 32,
   "metadata": {},
   "outputs": [
    {
     "name": "stdout",
     "output_type": "stream",
     "text": [
      "Зависимость last_price от total_area: 0.6537428966335397\n",
      "\n",
      "Зависимость last_price от rooms: 0.36342062218770693\n",
      "\n",
      "Зависимость last_price от floor: 0.02677043477595816\n",
      "\n",
      "Зависимость last_price от month: 0.002741029419924221\n",
      "\n",
      "Зависимость last_price от year: -0.04292705107683146\n",
      "\n",
      "Зависимость last_price от week_day: 0.0016068614793023986\n",
      "\n"
     ]
    }
   ],
   "source": [
    "for i in parameters: #цикл для вычисления зависимости last_price от столбцов списке parameters,для датасета data\n",
    "    print('Зависимость last_price от', i +':', data['last_price'].corr(data[i]))\n",
    "    print()"
   ]
  },
  {
   "cell_type": "code",
   "execution_count": 33,
   "metadata": {},
   "outputs": [
    {
     "data": {
      "text/plain": [
       "['Санкт-Петербург',\n",
       " 'Мурино',\n",
       " 'Кудрово',\n",
       " 'Шушары',\n",
       " 'Всеволожск',\n",
       " 'Колпино',\n",
       " 'Парголово',\n",
       " 'Пушкин',\n",
       " 'Гатчина',\n",
       " 'Петергоф']"
      ]
     },
     "execution_count": 33,
     "metadata": {},
     "output_type": "execute_result"
    }
   ],
   "source": [
    "cities = filtered_data.groupby('locality_name', \n",
    "                               as_index=False)['rooms'].count().sort_values(by = 'rooms', ascending = False).head(10)\n",
    "#10 населенных пунктов с самым большим количеством объявлений\n",
    "\n",
    "top_ten_cities = []\n",
    "for i in cities['locality_name']: #создание списка из населенных пунктов с самым большим количеством объявлений\n",
    "    top_ten_cities.append(i)\n",
    "top_ten_cities"
   ]
  },
  {
   "cell_type": "code",
   "execution_count": 52,
   "metadata": {},
   "outputs": [
    {
     "data": {
      "text/html": [
       "<div>\n",
       "<style scoped>\n",
       "    .dataframe tbody tr th:only-of-type {\n",
       "        vertical-align: middle;\n",
       "    }\n",
       "\n",
       "    .dataframe tbody tr th {\n",
       "        vertical-align: top;\n",
       "    }\n",
       "\n",
       "    .dataframe thead tr th {\n",
       "        text-align: left;\n",
       "    }\n",
       "\n",
       "    .dataframe thead tr:last-of-type th {\n",
       "        text-align: right;\n",
       "    }\n",
       "</style>\n",
       "<table border=\"1\" class=\"dataframe\">\n",
       "  <thead>\n",
       "    <tr>\n",
       "      <th></th>\n",
       "      <th>count</th>\n",
       "      <th>mean</th>\n",
       "      <th>share</th>\n",
       "    </tr>\n",
       "    <tr>\n",
       "      <th></th>\n",
       "      <th>price_per_meter</th>\n",
       "      <th>price_per_meter</th>\n",
       "      <th></th>\n",
       "    </tr>\n",
       "    <tr>\n",
       "      <th>locality_name</th>\n",
       "      <th></th>\n",
       "      <th></th>\n",
       "      <th></th>\n",
       "    </tr>\n",
       "  </thead>\n",
       "  <tbody>\n",
       "    <tr>\n",
       "      <td>Всеволожск</td>\n",
       "      <td>368</td>\n",
       "      <td>67579.681402</td>\n",
       "      <td>1.556025</td>\n",
       "    </tr>\n",
       "    <tr>\n",
       "      <td>Гатчина</td>\n",
       "      <td>276</td>\n",
       "      <td>69431.144628</td>\n",
       "      <td>1.167019</td>\n",
       "    </tr>\n",
       "    <tr>\n",
       "      <td>Колпино</td>\n",
       "      <td>314</td>\n",
       "      <td>75085.029360</td>\n",
       "      <td>1.327696</td>\n",
       "    </tr>\n",
       "    <tr>\n",
       "      <td>Кудрово</td>\n",
       "      <td>422</td>\n",
       "      <td>94646.220898</td>\n",
       "      <td>1.784355</td>\n",
       "    </tr>\n",
       "    <tr>\n",
       "      <td>Мурино</td>\n",
       "      <td>498</td>\n",
       "      <td>84671.052645</td>\n",
       "      <td>2.105708</td>\n",
       "    </tr>\n",
       "    <tr>\n",
       "      <td>Парголово</td>\n",
       "      <td>314</td>\n",
       "      <td>90379.040965</td>\n",
       "      <td>1.327696</td>\n",
       "    </tr>\n",
       "    <tr>\n",
       "      <td>Петергоф</td>\n",
       "      <td>182</td>\n",
       "      <td>83486.800562</td>\n",
       "      <td>0.769556</td>\n",
       "    </tr>\n",
       "    <tr>\n",
       "      <td>Пушкин</td>\n",
       "      <td>308</td>\n",
       "      <td>101069.076070</td>\n",
       "      <td>1.302326</td>\n",
       "    </tr>\n",
       "    <tr>\n",
       "      <td>Санкт-Петербург</td>\n",
       "      <td>12930</td>\n",
       "      <td>106872.991326</td>\n",
       "      <td>54.672304</td>\n",
       "    </tr>\n",
       "    <tr>\n",
       "      <td>Шушары</td>\n",
       "      <td>411</td>\n",
       "      <td>77548.893904</td>\n",
       "      <td>1.737844</td>\n",
       "    </tr>\n",
       "  </tbody>\n",
       "</table>\n",
       "</div>"
      ],
      "text/plain": [
       "                          count            mean      share\n",
       "                price_per_meter price_per_meter           \n",
       "locality_name                                             \n",
       "Всеволожск                  368    67579.681402   1.556025\n",
       "Гатчина                     276    69431.144628   1.167019\n",
       "Колпино                     314    75085.029360   1.327696\n",
       "Кудрово                     422    94646.220898   1.784355\n",
       "Мурино                      498    84671.052645   2.105708\n",
       "Парголово                   314    90379.040965   1.327696\n",
       "Петергоф                    182    83486.800562   0.769556\n",
       "Пушкин                      308   101069.076070   1.302326\n",
       "Санкт-Петербург           12930   106872.991326  54.672304\n",
       "Шушары                      411    77548.893904   1.737844"
      ]
     },
     "execution_count": 52,
     "metadata": {},
     "output_type": "execute_result"
    }
   ],
   "source": [
    "mean_price = filtered_data.query('locality_name in @top_ten_cities') #делаем срез данных только из 10 населенных пунктов\n",
    "#из списка\n",
    "pivot_mean_price = mean_price.pivot_table(index = 'locality_name', values = 'price_per_meter' ,\n",
    "                      aggfunc = ['count', 'mean']) #сводная таблица, которая отображает среднюю\n",
    "#стоимость за квадратный метр в каждом населенном пункте\n",
    "\n",
    "pivot_mean_price['share'] = pivot_mean_price['count'] / data['locality_name'].count() *100\n",
    "#добавляю столбец с долей объявлений от общего числа\n",
    "pivot_mean_price"
   ]
  },
  {
   "cell_type": "code",
   "execution_count": 35,
   "metadata": {},
   "outputs": [
    {
     "name": "stderr",
     "output_type": "stream",
     "text": [
      "/opt/conda/lib/python3.7/site-packages/ipykernel_launcher.py:2: SettingWithCopyWarning: \n",
      "A value is trying to be set on a copy of a slice from a DataFrame.\n",
      "Try using .loc[row_indexer,col_indexer] = value instead\n",
      "\n",
      "See the caveats in the documentation: http://pandas.pydata.org/pandas-docs/stable/user_guide/indexing.html#returning-a-view-versus-a-copy\n",
      "  \n"
     ]
    },
    {
     "data": {
      "text/html": [
       "<div>\n",
       "<style scoped>\n",
       "    .dataframe tbody tr th:only-of-type {\n",
       "        vertical-align: middle;\n",
       "    }\n",
       "\n",
       "    .dataframe tbody tr th {\n",
       "        vertical-align: top;\n",
       "    }\n",
       "\n",
       "    .dataframe thead th {\n",
       "        text-align: right;\n",
       "    }\n",
       "</style>\n",
       "<table border=\"1\" class=\"dataframe\">\n",
       "  <thead>\n",
       "    <tr style=\"text-align: right;\">\n",
       "      <th></th>\n",
       "      <th>total_images</th>\n",
       "      <th>last_price</th>\n",
       "      <th>total_area</th>\n",
       "      <th>first_day_exposition</th>\n",
       "      <th>rooms</th>\n",
       "      <th>ceiling_height</th>\n",
       "      <th>floors_total</th>\n",
       "      <th>living_area</th>\n",
       "      <th>floor</th>\n",
       "      <th>is_apartment</th>\n",
       "      <th>...</th>\n",
       "      <th>ponds_nearest</th>\n",
       "      <th>days_exposition</th>\n",
       "      <th>price_per_meter</th>\n",
       "      <th>week_day</th>\n",
       "      <th>year</th>\n",
       "      <th>month</th>\n",
       "      <th>ratio_living_total</th>\n",
       "      <th>ratio_kitchen_total</th>\n",
       "      <th>floor_category</th>\n",
       "      <th>city_center_km</th>\n",
       "    </tr>\n",
       "  </thead>\n",
       "  <tbody>\n",
       "    <tr>\n",
       "      <td>0</td>\n",
       "      <td>20</td>\n",
       "      <td>13000000.0</td>\n",
       "      <td>108.00</td>\n",
       "      <td>2019-03-07</td>\n",
       "      <td>3</td>\n",
       "      <td>2.70</td>\n",
       "      <td>16</td>\n",
       "      <td>51.0</td>\n",
       "      <td>8</td>\n",
       "      <td>False</td>\n",
       "      <td>...</td>\n",
       "      <td>755.0</td>\n",
       "      <td>95.0</td>\n",
       "      <td>120370.370370</td>\n",
       "      <td>3</td>\n",
       "      <td>2019</td>\n",
       "      <td>3</td>\n",
       "      <td>0.472</td>\n",
       "      <td>0.231</td>\n",
       "      <td>другой</td>\n",
       "      <td>16</td>\n",
       "    </tr>\n",
       "    <tr>\n",
       "      <td>2</td>\n",
       "      <td>10</td>\n",
       "      <td>5196000.0</td>\n",
       "      <td>56.00</td>\n",
       "      <td>2015-08-20</td>\n",
       "      <td>2</td>\n",
       "      <td>2.70</td>\n",
       "      <td>5</td>\n",
       "      <td>34.3</td>\n",
       "      <td>4</td>\n",
       "      <td>False</td>\n",
       "      <td>...</td>\n",
       "      <td>574.0</td>\n",
       "      <td>558.0</td>\n",
       "      <td>92785.714286</td>\n",
       "      <td>3</td>\n",
       "      <td>2015</td>\n",
       "      <td>8</td>\n",
       "      <td>0.612</td>\n",
       "      <td>0.148</td>\n",
       "      <td>другой</td>\n",
       "      <td>13</td>\n",
       "    </tr>\n",
       "    <tr>\n",
       "      <td>4</td>\n",
       "      <td>2</td>\n",
       "      <td>10000000.0</td>\n",
       "      <td>100.00</td>\n",
       "      <td>2018-06-19</td>\n",
       "      <td>2</td>\n",
       "      <td>3.03</td>\n",
       "      <td>14</td>\n",
       "      <td>32.0</td>\n",
       "      <td>13</td>\n",
       "      <td>False</td>\n",
       "      <td>...</td>\n",
       "      <td>48.0</td>\n",
       "      <td>121.0</td>\n",
       "      <td>100000.000000</td>\n",
       "      <td>1</td>\n",
       "      <td>2018</td>\n",
       "      <td>6</td>\n",
       "      <td>0.320</td>\n",
       "      <td>0.410</td>\n",
       "      <td>другой</td>\n",
       "      <td>8</td>\n",
       "    </tr>\n",
       "    <tr>\n",
       "      <td>7</td>\n",
       "      <td>5</td>\n",
       "      <td>7915000.0</td>\n",
       "      <td>71.60</td>\n",
       "      <td>2019-04-18</td>\n",
       "      <td>2</td>\n",
       "      <td>2.70</td>\n",
       "      <td>24</td>\n",
       "      <td>31.3</td>\n",
       "      <td>22</td>\n",
       "      <td>False</td>\n",
       "      <td>...</td>\n",
       "      <td>NaN</td>\n",
       "      <td>95.0</td>\n",
       "      <td>110544.692737</td>\n",
       "      <td>3</td>\n",
       "      <td>2019</td>\n",
       "      <td>4</td>\n",
       "      <td>0.437</td>\n",
       "      <td>0.264</td>\n",
       "      <td>другой</td>\n",
       "      <td>11</td>\n",
       "    </tr>\n",
       "    <tr>\n",
       "      <td>9</td>\n",
       "      <td>18</td>\n",
       "      <td>5400000.0</td>\n",
       "      <td>61.00</td>\n",
       "      <td>2017-02-26</td>\n",
       "      <td>3</td>\n",
       "      <td>2.50</td>\n",
       "      <td>9</td>\n",
       "      <td>43.6</td>\n",
       "      <td>7</td>\n",
       "      <td>False</td>\n",
       "      <td>...</td>\n",
       "      <td>NaN</td>\n",
       "      <td>289.0</td>\n",
       "      <td>88524.590164</td>\n",
       "      <td>6</td>\n",
       "      <td>2017</td>\n",
       "      <td>2</td>\n",
       "      <td>0.715</td>\n",
       "      <td>0.107</td>\n",
       "      <td>другой</td>\n",
       "      <td>15</td>\n",
       "    </tr>\n",
       "    <tr>\n",
       "      <td>...</td>\n",
       "      <td>...</td>\n",
       "      <td>...</td>\n",
       "      <td>...</td>\n",
       "      <td>...</td>\n",
       "      <td>...</td>\n",
       "      <td>...</td>\n",
       "      <td>...</td>\n",
       "      <td>...</td>\n",
       "      <td>...</td>\n",
       "      <td>...</td>\n",
       "      <td>...</td>\n",
       "      <td>...</td>\n",
       "      <td>...</td>\n",
       "      <td>...</td>\n",
       "      <td>...</td>\n",
       "      <td>...</td>\n",
       "      <td>...</td>\n",
       "      <td>...</td>\n",
       "      <td>...</td>\n",
       "      <td>...</td>\n",
       "      <td>...</td>\n",
       "    </tr>\n",
       "    <tr>\n",
       "      <td>23688</td>\n",
       "      <td>19</td>\n",
       "      <td>9200000.0</td>\n",
       "      <td>101.00</td>\n",
       "      <td>2019-04-01</td>\n",
       "      <td>3</td>\n",
       "      <td>3.05</td>\n",
       "      <td>15</td>\n",
       "      <td>63.0</td>\n",
       "      <td>12</td>\n",
       "      <td>False</td>\n",
       "      <td>...</td>\n",
       "      <td>NaN</td>\n",
       "      <td>23.0</td>\n",
       "      <td>91089.108911</td>\n",
       "      <td>0</td>\n",
       "      <td>2019</td>\n",
       "      <td>4</td>\n",
       "      <td>0.624</td>\n",
       "      <td>0.149</td>\n",
       "      <td>другой</td>\n",
       "      <td>14</td>\n",
       "    </tr>\n",
       "    <tr>\n",
       "      <td>23689</td>\n",
       "      <td>13</td>\n",
       "      <td>3550000.0</td>\n",
       "      <td>35.30</td>\n",
       "      <td>2018-02-28</td>\n",
       "      <td>1</td>\n",
       "      <td>2.86</td>\n",
       "      <td>15</td>\n",
       "      <td>16.3</td>\n",
       "      <td>4</td>\n",
       "      <td>False</td>\n",
       "      <td>...</td>\n",
       "      <td>652.0</td>\n",
       "      <td>29.0</td>\n",
       "      <td>100566.572238</td>\n",
       "      <td>2</td>\n",
       "      <td>2018</td>\n",
       "      <td>2</td>\n",
       "      <td>0.462</td>\n",
       "      <td>0.258</td>\n",
       "      <td>другой</td>\n",
       "      <td>16</td>\n",
       "    </tr>\n",
       "    <tr>\n",
       "      <td>23690</td>\n",
       "      <td>3</td>\n",
       "      <td>5500000.0</td>\n",
       "      <td>52.00</td>\n",
       "      <td>2018-07-19</td>\n",
       "      <td>2</td>\n",
       "      <td>2.70</td>\n",
       "      <td>5</td>\n",
       "      <td>31.0</td>\n",
       "      <td>2</td>\n",
       "      <td>False</td>\n",
       "      <td>...</td>\n",
       "      <td>NaN</td>\n",
       "      <td>15.0</td>\n",
       "      <td>105769.230769</td>\n",
       "      <td>3</td>\n",
       "      <td>2018</td>\n",
       "      <td>7</td>\n",
       "      <td>0.596</td>\n",
       "      <td>0.115</td>\n",
       "      <td>другой</td>\n",
       "      <td>6</td>\n",
       "    </tr>\n",
       "    <tr>\n",
       "      <td>23691</td>\n",
       "      <td>11</td>\n",
       "      <td>9470000.0</td>\n",
       "      <td>72.90</td>\n",
       "      <td>2016-10-13</td>\n",
       "      <td>2</td>\n",
       "      <td>2.75</td>\n",
       "      <td>25</td>\n",
       "      <td>40.3</td>\n",
       "      <td>7</td>\n",
       "      <td>False</td>\n",
       "      <td>...</td>\n",
       "      <td>806.0</td>\n",
       "      <td>519.0</td>\n",
       "      <td>129903.978052</td>\n",
       "      <td>3</td>\n",
       "      <td>2016</td>\n",
       "      <td>10</td>\n",
       "      <td>0.553</td>\n",
       "      <td>0.145</td>\n",
       "      <td>другой</td>\n",
       "      <td>4</td>\n",
       "    </tr>\n",
       "    <tr>\n",
       "      <td>23697</td>\n",
       "      <td>13</td>\n",
       "      <td>11475000.0</td>\n",
       "      <td>76.75</td>\n",
       "      <td>2017-03-28</td>\n",
       "      <td>2</td>\n",
       "      <td>3.00</td>\n",
       "      <td>17</td>\n",
       "      <td>31.3</td>\n",
       "      <td>12</td>\n",
       "      <td>False</td>\n",
       "      <td>...</td>\n",
       "      <td>196.0</td>\n",
       "      <td>602.0</td>\n",
       "      <td>149511.400651</td>\n",
       "      <td>1</td>\n",
       "      <td>2017</td>\n",
       "      <td>3</td>\n",
       "      <td>0.408</td>\n",
       "      <td>0.304</td>\n",
       "      <td>другой</td>\n",
       "      <td>10</td>\n",
       "    </tr>\n",
       "  </tbody>\n",
       "</table>\n",
       "<p>12894 rows × 30 columns</p>\n",
       "</div>"
      ],
      "text/plain": [
       "       total_images  last_price  total_area first_day_exposition  rooms  \\\n",
       "0                20  13000000.0      108.00           2019-03-07      3   \n",
       "2                10   5196000.0       56.00           2015-08-20      2   \n",
       "4                 2  10000000.0      100.00           2018-06-19      2   \n",
       "7                 5   7915000.0       71.60           2019-04-18      2   \n",
       "9                18   5400000.0       61.00           2017-02-26      3   \n",
       "...             ...         ...         ...                  ...    ...   \n",
       "23688            19   9200000.0      101.00           2019-04-01      3   \n",
       "23689            13   3550000.0       35.30           2018-02-28      1   \n",
       "23690             3   5500000.0       52.00           2018-07-19      2   \n",
       "23691            11   9470000.0       72.90           2016-10-13      2   \n",
       "23697            13  11475000.0       76.75           2017-03-28      2   \n",
       "\n",
       "       ceiling_height  floors_total  living_area  floor  is_apartment  ...  \\\n",
       "0                2.70            16         51.0      8         False  ...   \n",
       "2                2.70             5         34.3      4         False  ...   \n",
       "4                3.03            14         32.0     13         False  ...   \n",
       "7                2.70            24         31.3     22         False  ...   \n",
       "9                2.50             9         43.6      7         False  ...   \n",
       "...               ...           ...          ...    ...           ...  ...   \n",
       "23688            3.05            15         63.0     12         False  ...   \n",
       "23689            2.86            15         16.3      4         False  ...   \n",
       "23690            2.70             5         31.0      2         False  ...   \n",
       "23691            2.75            25         40.3      7         False  ...   \n",
       "23697            3.00            17         31.3     12         False  ...   \n",
       "\n",
       "       ponds_nearest  days_exposition  price_per_meter  week_day  year  month  \\\n",
       "0              755.0             95.0    120370.370370         3  2019      3   \n",
       "2              574.0            558.0     92785.714286         3  2015      8   \n",
       "4               48.0            121.0    100000.000000         1  2018      6   \n",
       "7                NaN             95.0    110544.692737         3  2019      4   \n",
       "9                NaN            289.0     88524.590164         6  2017      2   \n",
       "...              ...              ...              ...       ...   ...    ...   \n",
       "23688            NaN             23.0     91089.108911         0  2019      4   \n",
       "23689          652.0             29.0    100566.572238         2  2018      2   \n",
       "23690            NaN             15.0    105769.230769         3  2018      7   \n",
       "23691          806.0            519.0    129903.978052         3  2016     10   \n",
       "23697          196.0            602.0    149511.400651         1  2017      3   \n",
       "\n",
       "       ratio_living_total  ratio_kitchen_total  floor_category  city_center_km  \n",
       "0                   0.472                0.231          другой              16  \n",
       "2                   0.612                0.148          другой              13  \n",
       "4                   0.320                0.410          другой               8  \n",
       "7                   0.437                0.264          другой              11  \n",
       "9                   0.715                0.107          другой              15  \n",
       "...                   ...                  ...             ...             ...  \n",
       "23688               0.624                0.149          другой              14  \n",
       "23689               0.462                0.258          другой              16  \n",
       "23690               0.596                0.115          другой               6  \n",
       "23691               0.553                0.145          другой               4  \n",
       "23697               0.408                0.304          другой              10  \n",
       "\n",
       "[12894 rows x 30 columns]"
      ]
     },
     "execution_count": 35,
     "metadata": {},
     "output_type": "execute_result"
    }
   ],
   "source": [
    "spb_table = filtered_data.query('locality_name == \"Санкт-Петербург\"') #делаю срез только по объявлениям из Санкт-Петербурга\n",
    "spb_table['city_center_km'] = spb_table['cityCenters_nearest']/1000 #добавляю столбец удаленность от центра в километах\n",
    "\n",
    "spb_table = spb_table.dropna(subset = ['city_center_km']) #удаляю данные, в которых удаленность до центра равна Nan\n",
    "spb_table['city_center_km'] = spb_table['city_center_km'].astype('int') \n",
    "#привожу столбец city_center_km в целочисленный тип данных\n",
    "\n",
    "spb_table"
   ]
  },
  {
   "cell_type": "code",
   "execution_count": 36,
   "metadata": {},
   "outputs": [
    {
     "data": {
      "text/html": [
       "<div>\n",
       "<style scoped>\n",
       "    .dataframe tbody tr th:only-of-type {\n",
       "        vertical-align: middle;\n",
       "    }\n",
       "\n",
       "    .dataframe tbody tr th {\n",
       "        vertical-align: top;\n",
       "    }\n",
       "\n",
       "    .dataframe thead tr th {\n",
       "        text-align: left;\n",
       "    }\n",
       "\n",
       "    .dataframe thead tr:last-of-type th {\n",
       "        text-align: right;\n",
       "    }\n",
       "</style>\n",
       "<table border=\"1\" class=\"dataframe\">\n",
       "  <thead>\n",
       "    <tr>\n",
       "      <th></th>\n",
       "      <th>mean</th>\n",
       "      <th>median</th>\n",
       "    </tr>\n",
       "    <tr>\n",
       "      <th></th>\n",
       "      <th>last_price</th>\n",
       "      <th>last_price</th>\n",
       "    </tr>\n",
       "    <tr>\n",
       "      <th>city_center_km</th>\n",
       "      <th></th>\n",
       "      <th></th>\n",
       "    </tr>\n",
       "  </thead>\n",
       "  <tbody>\n",
       "    <tr>\n",
       "      <td>0</td>\n",
       "      <td>8.316393e+06</td>\n",
       "      <td>8000000.0</td>\n",
       "    </tr>\n",
       "    <tr>\n",
       "      <td>1</td>\n",
       "      <td>8.625214e+06</td>\n",
       "      <td>8500000.0</td>\n",
       "    </tr>\n",
       "    <tr>\n",
       "      <td>2</td>\n",
       "      <td>7.960439e+06</td>\n",
       "      <td>7780000.0</td>\n",
       "    </tr>\n",
       "    <tr>\n",
       "      <td>3</td>\n",
       "      <td>7.805212e+06</td>\n",
       "      <td>7500000.0</td>\n",
       "    </tr>\n",
       "    <tr>\n",
       "      <td>4</td>\n",
       "      <td>8.403567e+06</td>\n",
       "      <td>7950000.0</td>\n",
       "    </tr>\n",
       "    <tr>\n",
       "      <td>5</td>\n",
       "      <td>7.946450e+06</td>\n",
       "      <td>7532581.0</td>\n",
       "    </tr>\n",
       "    <tr>\n",
       "      <td>6</td>\n",
       "      <td>7.570633e+06</td>\n",
       "      <td>6737800.0</td>\n",
       "    </tr>\n",
       "    <tr>\n",
       "      <td>7</td>\n",
       "      <td>7.419879e+06</td>\n",
       "      <td>6800000.0</td>\n",
       "    </tr>\n",
       "    <tr>\n",
       "      <td>8</td>\n",
       "      <td>6.806617e+06</td>\n",
       "      <td>6051250.0</td>\n",
       "    </tr>\n",
       "    <tr>\n",
       "      <td>9</td>\n",
       "      <td>5.802275e+06</td>\n",
       "      <td>4999500.0</td>\n",
       "    </tr>\n",
       "    <tr>\n",
       "      <td>10</td>\n",
       "      <td>5.690235e+06</td>\n",
       "      <td>4990000.0</td>\n",
       "    </tr>\n",
       "    <tr>\n",
       "      <td>11</td>\n",
       "      <td>5.648036e+06</td>\n",
       "      <td>5000000.0</td>\n",
       "    </tr>\n",
       "    <tr>\n",
       "      <td>12</td>\n",
       "      <td>5.759347e+06</td>\n",
       "      <td>5095000.0</td>\n",
       "    </tr>\n",
       "    <tr>\n",
       "      <td>13</td>\n",
       "      <td>5.852543e+06</td>\n",
       "      <td>5250000.0</td>\n",
       "    </tr>\n",
       "    <tr>\n",
       "      <td>14</td>\n",
       "      <td>5.532570e+06</td>\n",
       "      <td>4950000.0</td>\n",
       "    </tr>\n",
       "    <tr>\n",
       "      <td>15</td>\n",
       "      <td>5.401902e+06</td>\n",
       "      <td>4862500.0</td>\n",
       "    </tr>\n",
       "    <tr>\n",
       "      <td>16</td>\n",
       "      <td>5.238230e+06</td>\n",
       "      <td>4690000.0</td>\n",
       "    </tr>\n",
       "    <tr>\n",
       "      <td>17</td>\n",
       "      <td>4.867468e+06</td>\n",
       "      <td>4500000.0</td>\n",
       "    </tr>\n",
       "    <tr>\n",
       "      <td>18</td>\n",
       "      <td>5.066271e+06</td>\n",
       "      <td>4500000.0</td>\n",
       "    </tr>\n",
       "    <tr>\n",
       "      <td>19</td>\n",
       "      <td>4.794909e+06</td>\n",
       "      <td>4525000.0</td>\n",
       "    </tr>\n",
       "    <tr>\n",
       "      <td>20</td>\n",
       "      <td>6.509625e+06</td>\n",
       "      <td>6200000.0</td>\n",
       "    </tr>\n",
       "    <tr>\n",
       "      <td>21</td>\n",
       "      <td>5.140019e+06</td>\n",
       "      <td>4725000.0</td>\n",
       "    </tr>\n",
       "    <tr>\n",
       "      <td>22</td>\n",
       "      <td>5.155876e+06</td>\n",
       "      <td>5000000.0</td>\n",
       "    </tr>\n",
       "    <tr>\n",
       "      <td>23</td>\n",
       "      <td>4.479043e+06</td>\n",
       "      <td>4290000.0</td>\n",
       "    </tr>\n",
       "    <tr>\n",
       "      <td>24</td>\n",
       "      <td>3.862235e+06</td>\n",
       "      <td>3480000.0</td>\n",
       "    </tr>\n",
       "    <tr>\n",
       "      <td>25</td>\n",
       "      <td>4.099426e+06</td>\n",
       "      <td>3499500.0</td>\n",
       "    </tr>\n",
       "    <tr>\n",
       "      <td>26</td>\n",
       "      <td>3.375000e+06</td>\n",
       "      <td>3375000.0</td>\n",
       "    </tr>\n",
       "    <tr>\n",
       "      <td>27</td>\n",
       "      <td>8.300000e+06</td>\n",
       "      <td>8300000.0</td>\n",
       "    </tr>\n",
       "    <tr>\n",
       "      <td>28</td>\n",
       "      <td>4.910500e+06</td>\n",
       "      <td>4775000.0</td>\n",
       "    </tr>\n",
       "    <tr>\n",
       "      <td>29</td>\n",
       "      <td>2.450000e+06</td>\n",
       "      <td>2450000.0</td>\n",
       "    </tr>\n",
       "  </tbody>\n",
       "</table>\n",
       "</div>"
      ],
      "text/plain": [
       "                        mean     median\n",
       "                  last_price last_price\n",
       "city_center_km                         \n",
       "0               8.316393e+06  8000000.0\n",
       "1               8.625214e+06  8500000.0\n",
       "2               7.960439e+06  7780000.0\n",
       "3               7.805212e+06  7500000.0\n",
       "4               8.403567e+06  7950000.0\n",
       "5               7.946450e+06  7532581.0\n",
       "6               7.570633e+06  6737800.0\n",
       "7               7.419879e+06  6800000.0\n",
       "8               6.806617e+06  6051250.0\n",
       "9               5.802275e+06  4999500.0\n",
       "10              5.690235e+06  4990000.0\n",
       "11              5.648036e+06  5000000.0\n",
       "12              5.759347e+06  5095000.0\n",
       "13              5.852543e+06  5250000.0\n",
       "14              5.532570e+06  4950000.0\n",
       "15              5.401902e+06  4862500.0\n",
       "16              5.238230e+06  4690000.0\n",
       "17              4.867468e+06  4500000.0\n",
       "18              5.066271e+06  4500000.0\n",
       "19              4.794909e+06  4525000.0\n",
       "20              6.509625e+06  6200000.0\n",
       "21              5.140019e+06  4725000.0\n",
       "22              5.155876e+06  5000000.0\n",
       "23              4.479043e+06  4290000.0\n",
       "24              3.862235e+06  3480000.0\n",
       "25              4.099426e+06  3499500.0\n",
       "26              3.375000e+06  3375000.0\n",
       "27              8.300000e+06  8300000.0\n",
       "28              4.910500e+06  4775000.0\n",
       "29              2.450000e+06  2450000.0"
      ]
     },
     "execution_count": 36,
     "metadata": {},
     "output_type": "execute_result"
    }
   ],
   "source": [
    "spb_pivot = spb_table.pivot_table(index = 'city_center_km', values = 'last_price', aggfunc = ['mean', 'median'])\n",
    "#строю сводную таблицу с информацией по средней и медианной цене в зависимости от удаленности от центра\n",
    "spb_pivot"
   ]
  },
  {
   "cell_type": "code",
   "execution_count": 37,
   "metadata": {},
   "outputs": [
    {
     "data": {
      "text/plain": [
       "Text(0, 0.5, 'Цена квартиры')"
      ]
     },
     "execution_count": 37,
     "metadata": {},
     "output_type": "execute_result"
    },
    {
     "data": {
      "image/png": "[encoded data removed]",
      "text/plain": [
       "<Figure size 1080x504 with 1 Axes>"
      ]
     },
     "metadata": {
      "needs_background": "light"
     },
     "output_type": "display_data"
    }
   ],
   "source": [
    "spb_pivot.plot(kind = 'bar', figsize = (15, 7)) #гистограмма по сводной таблице\n",
    "plt.title('Гистограмма зависимости цены квартиры от расположения к центру города')\n",
    "plt.xlabel('Расположение к центру города, км.')\n",
    "plt.ylabel('Цена квартиры')"
   ]
  },
  {
   "cell_type": "code",
   "execution_count": 38,
   "metadata": {},
   "outputs": [
    {
     "data": {
      "text/plain": [
       "Text(0, 0.5, 'Цена квартиры')"
      ]
     },
     "execution_count": 38,
     "metadata": {},
     "output_type": "execute_result"
    },
    {
     "data": {
      "image/png": "[encoded data removed]",
      "text/plain": [
       "<Figure size 1080x504 with 1 Axes>"
      ]
     },
     "metadata": {
      "needs_background": "light"
     },
     "output_type": "display_data"
    }
   ],
   "source": [
    "spb_pivot.plot(figsize = (15, 7), grid = True) #график по сводной таблице\n",
    "plt.title('График зависимости цены квартиры от расположения к центру города')\n",
    "plt.xlabel('Расположение к центру города, км.')\n",
    "plt.ylabel('Цена квартиры')"
   ]
  },
  {
   "cell_type": "code",
   "execution_count": 39,
   "metadata": {},
   "outputs": [
    {
     "data": {
      "text/plain": [
       "count    1.469000e+03\n",
       "mean     8.125163e+06\n",
       "std      2.675139e+06\n",
       "min      2.100000e+06\n",
       "25%      6.150000e+06\n",
       "50%      7.700000e+06\n",
       "75%      9.800000e+06\n",
       "max      1.530000e+07\n",
       "Name: last_price, dtype: float64"
      ]
     },
     "execution_count": 39,
     "metadata": {},
     "output_type": "execute_result"
    }
   ],
   "source": [
    "spb_table_center = spb_table.query('city_center_km <= 5')\n",
    "spb_table_center['last_price'].describe()\n",
    "#статистика по цене квартир, которые находятся не дальше 5 километров от центра"
   ]
  },
  {
   "cell_type": "code",
   "execution_count": 40,
   "metadata": {},
   "outputs": [
    {
     "data": {
      "text/plain": [
       "Text(0, 0.5, 'Частота')"
      ]
     },
     "execution_count": 40,
     "metadata": {},
     "output_type": "execute_result"
    },
    {
     "data": {
      "image/png": "[encoded data removed]",
      "text/plain": [
       "<Figure size 720x360 with 1 Axes>"
      ]
     },
     "metadata": {
      "needs_background": "light"
     },
     "output_type": "display_data"
    }
   ],
   "source": [
    "spb_table_center['rooms'].plot(kind = 'hist', bins = spb_table_center['rooms'].nunique(), #гистограмма по столбцу rooms\n",
    "                        grid = True, \n",
    "                        title = 'rooms',\n",
    "                        figsize = (10, 5))\n",
    "plt.title('Гистограмма по количеству комнат в квартире в период с 2014 по 2019 год')\n",
    "plt.xlabel('Количество комнат, шт.')\n",
    "plt.ylabel('Частота')"
   ]
  },
  {
   "cell_type": "code",
   "execution_count": 41,
   "metadata": {},
   "outputs": [
    {
     "data": {
      "text/plain": [
       "Text(0, 0.5, 'Частота')"
      ]
     },
     "execution_count": 41,
     "metadata": {},
     "output_type": "execute_result"
    },
    {
     "data": {
      "image/png": "[encoded data removed]",
      "text/plain": [
       "<Figure size 720x360 with 1 Axes>"
      ]
     },
     "metadata": {
      "needs_background": "light"
     },
     "output_type": "display_data"
    }
   ],
   "source": [
    "spb_table_center['ceiling_height'].plot(kind = 'hist', bins = spb_table_center['ceiling_height'].nunique(),\n",
    "                        grid = True, \n",
    "                        title = 'ceiling_height',\n",
    "                        figsize = (10, 5))\n",
    "#гистограмма по столбцу ceiling_height\n",
    "plt.title('Гистограмма по высоте полтоков в квартирах в период с 2014 по 2019 год')\n",
    "plt.xlabel('Высота потолка, метров')\n",
    "plt.ylabel('Частота')"
   ]
  },
  {
   "cell_type": "code",
   "execution_count": 42,
   "metadata": {},
   "outputs": [
    {
     "data": {
      "text/plain": [
       "Text(0, 0.5, 'Частота')"
      ]
     },
     "execution_count": 42,
     "metadata": {},
     "output_type": "execute_result"
    },
    {
     "data": {
      "image/png": "[encoded data removed]",
      "text/plain": [
       "<Figure size 1080x360 with 1 Axes>"
      ]
     },
     "metadata": {
      "needs_background": "light"
     },
     "output_type": "display_data"
    }
   ],
   "source": [
    "size = int((spb_table_center['last_price'].max() - spb_table_center['last_price'].min())/ 100000)\n",
    "spb_table_center['last_price'].plot(kind = 'hist', bins = size,\n",
    "                        grid = True, \n",
    "                        title = 'last_price',\n",
    "                        figsize = (15, 5))\n",
    "#гистограмма по столбцу last_price\n",
    "plt.title('Гистограмма по цене квартир в период с 2014 по 2019 год')\n",
    "plt.xlabel('Цена квартир, млрд.')\n",
    "plt.ylabel('Частота')"
   ]
  },
  {
   "cell_type": "code",
   "execution_count": 43,
   "metadata": {
    "scrolled": true
   },
   "outputs": [
    {
     "data": {
      "text/plain": [
       "Text(0, 0.5, 'Частота')"
      ]
     },
     "execution_count": 43,
     "metadata": {},
     "output_type": "execute_result"
    },
    {
     "data": {
      "image/png": "[encoded data removed]",
      "text/plain": [
       "<Figure size 1080x360 with 1 Axes>"
      ]
     },
     "metadata": {
      "needs_background": "light"
     },
     "output_type": "display_data"
    }
   ],
   "source": [
    "size = int(spb_table_center['total_area'].max() - spb_table_center['total_area'].min())\n",
    "\n",
    "spb_table_center['total_area'].plot(kind = 'hist', bins = size,\n",
    "                        grid = True, \n",
    "                        title = 'total_area',\n",
    "                        figsize = (15, 5))\n",
    "#гистограмма по столбцу total_area\n",
    "plt.title('Гистограмма по площади квартир в период с 2014 по 2019 год')\n",
    "plt.xlabel('Площадь, квадратных метров')\n",
    "plt.ylabel('Частота')"
   ]
  },
  {
   "cell_type": "code",
   "execution_count": 44,
   "metadata": {},
   "outputs": [
    {
     "name": "stdout",
     "output_type": "stream",
     "text": [
      "Зависимость last_price от rooms: 0.3877132681020618\n",
      "\n",
      "Зависимость last_price от floor: 0.1990640533545066\n",
      "\n",
      "Зависимость last_price от city_center_km: -0.025974345739650295\n",
      "\n",
      "Зависимость last_price от week_day: -0.015537820401204721\n",
      "\n",
      "Зависимость last_price от year: 0.03474052667196921\n",
      "\n",
      "Зависимость last_price от month: -0.019226127220714047\n",
      "\n"
     ]
    }
   ],
   "source": [
    "parameters = ['rooms', 'floor', 'city_center_km', 'week_day', 'year', 'month']\n",
    "\n",
    "for i in parameters: #цикл для вычисления зависимости last_price от столбцов списке parameters, для датасета filtered_data\n",
    "    print('Зависимость last_price от', i +':', spb_table_center['last_price'].corr(spb_table_center[i]))\n",
    "    print()"
   ]
  },
  {
   "cell_type": "markdown",
   "metadata": {},
   "source": [
    "**Вывод:** \n",
    "- Коэффициент корреляции цены квартиры и площади равен 0.7. Это говорит о наличии довольно сильной связи между параметрами. Коэффициент кореляции 0.4 между ценой квартиры и количеством комнат в ней, говорит о наличии слабой связи. Эти коэффициенты корреляции относятся к отфильтрованным данным без выброса. В неотфильтрованных данных коэффициенты корреляции ниже.\n",
    "\n",
    "\n",
    "- По графику со средней ценой взависимости от близости расположения квартиры к центру видно, что чем дальше квартира от центра тем цена дешевле. Если квартира находится больше пяти километров от центра, то цена начинает резко снижаться. Исключение составляют квартиры находящиеся в 27 километрах от центра их цена примерно равна цене квартир находящихся не более пяти километров от центра.\n",
    "\n",
    "\n",
    "- Коэффициенты корреляции для квартир в центре Санкт-Петербурга довольно низкие по сравнению с коэффициентами корреляции по всему датасету. Самая высокая зависимость между ценой квартиры и количеством комнат - 0.38. "
   ]
  },
  {
   "cell_type": "markdown",
   "metadata": {},
   "source": [
    "## Общий вывод"
   ]
  },
  {
   "cell_type": "markdown",
   "metadata": {},
   "source": [
    "Целью проекта было исследовать данные - зависимость цены от других столбцов в датасете, медианные и средние значения, изучить зависимость стоимости квартир от расстояния до центра города:\n",
    "\n",
    "- В данных по всем населенным пункта самая сильная зависимость наблюдается между ценой и площадью квартир, а так же между ценой и количеством комнат в квартире. В данных только по Санкт-Петербургу это зависимость ниже.\n",
    "\n",
    "- Чем ближе квартира к центру города, тем выше её стоимость. Искоючение составляют квартиры находящиеся на расстоянии 27 километров от центра, там цена квартиры достигает примерно такого же уровня, как квартиры находящиеся не дальше 5 километров от центра.\n",
    "\n",
    "- Больше всего объявлений приходится на Санкт-Петребург, около 54%.\n",
    "\n",
    "- Топ 10 городов по количеству объявлений: Санкт-Петербург, Мурино, Кудрово, Шушары, Всеволожск, Колпино, Парголово, Пушкин, Гатчина, Петергоф.\n",
    "\n",
    "- Средняя цена квартир в отфильтрованном датасете (без выбросов) равна около 5 миллионнов, а в датасете только по Санк-Петербургу около 6. Медианная величина в отфильтрованном датасете равна около 4.6 миллионов, а в датасете по Санкт-Петербургу - 5.2.\n",
    "\n",
    "- В среднем с момента публикации объявления до момента продажи проходи 170 дней, медианная продолжительность нахождения объявления на сайте - 95 дней. С каждым годом количество закрытых объявлений меньше, чем за сто дней увеличивается."
   ]
  }
 ],
 "metadata": {
  "ExecuteTimeLog": [
   {
    "duration": 1303,
    "start_time": "2021-08-25T06:31:06.804Z"
   },
   {
    "duration": 11,
    "start_time": "2021-08-25T06:38:42.544Z"
   },
   {
    "duration": 45,
    "start_time": "2021-08-25T06:39:14.808Z"
   },
   {
    "duration": 35,
    "start_time": "2021-08-25T06:39:47.243Z"
   },
   {
    "duration": 9,
    "start_time": "2021-08-25T06:40:14.990Z"
   },
   {
    "duration": 424,
    "start_time": "2021-08-25T06:40:31.753Z"
   },
   {
    "duration": 11,
    "start_time": "2021-08-25T06:40:32.493Z"
   },
   {
    "duration": 38,
    "start_time": "2021-08-25T06:40:33.598Z"
   },
   {
    "duration": 9,
    "start_time": "2021-08-25T06:40:34.622Z"
   },
   {
    "duration": 161,
    "start_time": "2021-08-25T06:40:42.935Z"
   },
   {
    "duration": 411,
    "start_time": "2021-08-25T06:40:59.030Z"
   },
   {
    "duration": 128,
    "start_time": "2021-08-25T06:41:04.182Z"
   },
   {
    "duration": 326,
    "start_time": "2021-08-25T06:41:10.466Z"
   },
   {
    "duration": 10,
    "start_time": "2021-08-25T06:41:12.534Z"
   },
   {
    "duration": 390,
    "start_time": "2021-08-25T06:42:07.906Z"
   },
   {
    "duration": 10,
    "start_time": "2021-08-25T06:42:08.460Z"
   },
   {
    "duration": 311,
    "start_time": "2021-08-25T07:01:02.039Z"
   },
   {
    "duration": 10,
    "start_time": "2021-08-25T07:01:04.764Z"
   },
   {
    "duration": 339,
    "start_time": "2021-08-25T07:01:24.067Z"
   },
   {
    "duration": 34,
    "start_time": "2021-08-25T07:01:27.867Z"
   },
   {
    "duration": 17,
    "start_time": "2021-08-25T07:01:31.491Z"
   },
   {
    "duration": 150,
    "start_time": "2021-08-25T07:01:35.467Z"
   },
   {
    "duration": 14,
    "start_time": "2021-08-25T07:32:52.900Z"
   },
   {
    "duration": 461,
    "start_time": "2021-08-25T07:33:11.051Z"
   },
   {
    "duration": 65,
    "start_time": "2021-08-25T07:33:22.171Z"
   },
   {
    "duration": 66,
    "start_time": "2021-08-25T07:33:32.268Z"
   },
   {
    "duration": 8,
    "start_time": "2021-08-25T07:38:47.433Z"
   },
   {
    "duration": 36,
    "start_time": "2021-08-25T08:05:44.436Z"
   },
   {
    "duration": 12,
    "start_time": "2021-08-25T08:05:51.450Z"
   },
   {
    "duration": 13,
    "start_time": "2021-08-25T08:06:17.122Z"
   },
   {
    "duration": 68,
    "start_time": "2021-08-25T08:06:25.642Z"
   },
   {
    "duration": 7,
    "start_time": "2021-08-25T10:58:24.572Z"
   },
   {
    "duration": 8,
    "start_time": "2021-08-27T05:58:51.256Z"
   },
   {
    "duration": 4,
    "start_time": "2021-08-27T05:58:59.188Z"
   },
   {
    "duration": 4860,
    "start_time": "2021-08-27T05:59:06.256Z"
   },
   {
    "duration": 6,
    "start_time": "2021-08-27T05:59:21.317Z"
   },
   {
    "duration": 1180,
    "start_time": "2021-08-27T05:59:56.102Z"
   },
   {
    "duration": 14,
    "start_time": "2021-08-27T05:59:57.284Z"
   },
   {
    "duration": 110,
    "start_time": "2021-08-27T05:59:57.301Z"
   },
   {
    "duration": 38,
    "start_time": "2021-08-27T05:59:57.414Z"
   },
   {
    "duration": 9,
    "start_time": "2021-08-27T05:59:57.454Z"
   },
   {
    "duration": 18,
    "start_time": "2021-08-27T05:59:57.465Z"
   },
   {
    "duration": 12,
    "start_time": "2021-08-27T05:59:57.486Z"
   },
   {
    "duration": 28,
    "start_time": "2021-08-27T05:59:57.503Z"
   },
   {
    "duration": 12,
    "start_time": "2021-08-27T05:59:57.534Z"
   },
   {
    "duration": 271,
    "start_time": "2021-08-31T07:49:08.122Z"
   },
   {
    "duration": 832,
    "start_time": "2021-08-31T07:49:17.667Z"
   },
   {
    "duration": 11,
    "start_time": "2021-08-31T07:49:18.501Z"
   },
   {
    "duration": 78,
    "start_time": "2021-08-31T07:49:18.514Z"
   },
   {
    "duration": 20,
    "start_time": "2021-08-31T07:49:18.594Z"
   },
   {
    "duration": 7,
    "start_time": "2021-08-31T07:49:18.616Z"
   },
   {
    "duration": 12,
    "start_time": "2021-08-31T07:49:18.625Z"
   },
   {
    "duration": 18,
    "start_time": "2021-08-31T07:49:18.638Z"
   },
   {
    "duration": 36,
    "start_time": "2021-08-31T07:49:18.658Z"
   },
   {
    "duration": 11,
    "start_time": "2021-08-31T07:49:18.695Z"
   },
   {
    "duration": 26,
    "start_time": "2021-08-31T07:49:18.707Z"
   },
   {
    "duration": 22,
    "start_time": "2021-08-31T07:50:59.271Z"
   },
   {
    "duration": 21,
    "start_time": "2021-08-31T07:57:48.579Z"
   },
   {
    "duration": 343,
    "start_time": "2021-08-31T10:43:57.107Z"
   },
   {
    "duration": 249,
    "start_time": "2021-08-31T10:44:16.499Z"
   },
   {
    "duration": 1742,
    "start_time": "2021-08-31T11:07:12.831Z"
   },
   {
    "duration": 1786,
    "start_time": "2021-08-31T11:07:27.080Z"
   },
   {
    "duration": 1931,
    "start_time": "2021-08-31T11:08:23.651Z"
   },
   {
    "duration": 1762,
    "start_time": "2021-08-31T11:09:16.695Z"
   },
   {
    "duration": 2551,
    "start_time": "2021-08-31T11:09:23.047Z"
   },
   {
    "duration": 1714,
    "start_time": "2021-08-31T11:09:35.239Z"
   },
   {
    "duration": 3019,
    "start_time": "2021-08-31T11:18:23.617Z"
   },
   {
    "duration": 8,
    "start_time": "2021-08-31T11:27:49.826Z"
   },
   {
    "duration": 26,
    "start_time": "2021-08-31T11:27:53.531Z"
   },
   {
    "duration": 26,
    "start_time": "2021-08-31T12:01:24.209Z"
   },
   {
    "duration": 30,
    "start_time": "2021-08-31T12:01:43.770Z"
   },
   {
    "duration": 27,
    "start_time": "2021-08-31T12:03:03.939Z"
   },
   {
    "duration": 263,
    "start_time": "2021-08-31T12:42:31.396Z"
   },
   {
    "duration": 7,
    "start_time": "2021-08-31T12:55:35.701Z"
   },
   {
    "duration": 36,
    "start_time": "2021-08-31T12:55:59.460Z"
   },
   {
    "duration": 4,
    "start_time": "2021-08-31T13:03:30.755Z"
   },
   {
    "duration": 254,
    "start_time": "2021-08-31T13:03:39.387Z"
   },
   {
    "duration": 4,
    "start_time": "2021-08-31T13:06:34.119Z"
   },
   {
    "duration": 16,
    "start_time": "2021-08-31T13:06:48.599Z"
   },
   {
    "duration": 3,
    "start_time": "2021-08-31T13:11:14.381Z"
   },
   {
    "duration": 248,
    "start_time": "2021-08-31T13:19:54.950Z"
   },
   {
    "duration": 3227,
    "start_time": "2021-08-31T13:20:13.478Z"
   },
   {
    "duration": 3544,
    "start_time": "2021-08-31T13:22:25.695Z"
   },
   {
    "duration": 246,
    "start_time": "2021-08-31T13:25:18.871Z"
   },
   {
    "duration": 335,
    "start_time": "2021-08-31T13:26:31.052Z"
   },
   {
    "duration": 267,
    "start_time": "2021-08-31T13:27:03.298Z"
   },
   {
    "duration": 4,
    "start_time": "2021-08-31T13:27:45.458Z"
   },
   {
    "duration": 3462,
    "start_time": "2021-08-31T13:27:45.971Z"
   },
   {
    "duration": 548,
    "start_time": "2021-08-31T13:28:13.191Z"
   },
   {
    "duration": 98,
    "start_time": "2021-08-31T13:30:49.498Z"
   },
   {
    "duration": 358,
    "start_time": "2021-08-31T13:30:57.720Z"
   },
   {
    "duration": 772,
    "start_time": "2021-09-01T10:44:48.543Z"
   },
   {
    "duration": 10,
    "start_time": "2021-09-01T10:44:49.317Z"
   },
   {
    "duration": 77,
    "start_time": "2021-09-01T10:44:49.329Z"
   },
   {
    "duration": 21,
    "start_time": "2021-09-01T10:44:49.407Z"
   },
   {
    "duration": 10,
    "start_time": "2021-09-01T10:44:49.430Z"
   },
   {
    "duration": 12,
    "start_time": "2021-09-01T10:44:49.441Z"
   },
   {
    "duration": 11,
    "start_time": "2021-09-01T10:44:49.455Z"
   },
   {
    "duration": 33,
    "start_time": "2021-09-01T10:44:49.469Z"
   },
   {
    "duration": 14,
    "start_time": "2021-09-01T10:44:49.504Z"
   },
   {
    "duration": 32,
    "start_time": "2021-09-01T10:44:49.520Z"
   },
   {
    "duration": 39,
    "start_time": "2021-09-01T10:44:49.554Z"
   },
   {
    "duration": 32,
    "start_time": "2021-09-01T10:44:49.595Z"
   },
   {
    "duration": 33,
    "start_time": "2021-09-01T10:44:49.629Z"
   },
   {
    "duration": 61,
    "start_time": "2021-09-01T10:44:49.664Z"
   },
   {
    "duration": 244,
    "start_time": "2021-09-01T10:44:49.727Z"
   },
   {
    "duration": 191,
    "start_time": "2021-09-01T10:44:49.973Z"
   },
   {
    "duration": -160,
    "start_time": "2021-09-01T10:44:50.326Z"
   },
   {
    "duration": -160,
    "start_time": "2021-09-01T10:44:50.328Z"
   },
   {
    "duration": 321,
    "start_time": "2021-09-01T10:45:11.469Z"
   },
   {
    "duration": 15,
    "start_time": "2021-09-01T10:45:49.652Z"
   },
   {
    "duration": 12,
    "start_time": "2021-09-01T10:46:25.266Z"
   },
   {
    "duration": 40,
    "start_time": "2021-09-01T10:47:00.067Z"
   },
   {
    "duration": 36,
    "start_time": "2021-09-01T10:47:05.997Z"
   },
   {
    "duration": 142,
    "start_time": "2021-09-01T10:48:43.922Z"
   },
   {
    "duration": 38,
    "start_time": "2021-09-01T10:48:47.615Z"
   },
   {
    "duration": 7,
    "start_time": "2021-09-01T10:49:36.134Z"
   },
   {
    "duration": 5,
    "start_time": "2021-09-01T11:09:11.934Z"
   },
   {
    "duration": 4,
    "start_time": "2021-09-01T11:11:05.052Z"
   },
   {
    "duration": 5,
    "start_time": "2021-09-01T11:11:09.352Z"
   },
   {
    "duration": 8,
    "start_time": "2021-09-01T11:20:39.757Z"
   },
   {
    "duration": 8,
    "start_time": "2021-09-01T11:21:05.041Z"
   },
   {
    "duration": 9,
    "start_time": "2021-09-01T11:35:14.528Z"
   },
   {
    "duration": 8,
    "start_time": "2021-09-01T11:35:32.319Z"
   },
   {
    "duration": 8,
    "start_time": "2021-09-01T11:36:57.069Z"
   },
   {
    "duration": 4,
    "start_time": "2021-09-01T11:38:28.613Z"
   },
   {
    "duration": 18,
    "start_time": "2021-09-01T11:39:35.917Z"
   },
   {
    "duration": 30,
    "start_time": "2021-09-01T11:50:27.895Z"
   },
   {
    "duration": 4,
    "start_time": "2021-09-01T11:50:45.638Z"
   },
   {
    "duration": 134,
    "start_time": "2021-09-01T11:50:58.078Z"
   },
   {
    "duration": 222,
    "start_time": "2021-09-01T12:06:10.915Z"
   },
   {
    "duration": 32,
    "start_time": "2021-09-01T12:26:52.569Z"
   },
   {
    "duration": 179,
    "start_time": "2021-09-01T12:27:44.041Z"
   },
   {
    "duration": 378,
    "start_time": "2021-09-01T12:27:51.760Z"
   },
   {
    "duration": 370,
    "start_time": "2021-09-01T12:28:34.946Z"
   },
   {
    "duration": 9078,
    "start_time": "2021-09-01T12:28:59.892Z"
   },
   {
    "duration": 9919,
    "start_time": "2021-09-01T12:29:50.164Z"
   },
   {
    "duration": 863,
    "start_time": "2021-09-01T12:30:24.816Z"
   },
   {
    "duration": 1015,
    "start_time": "2021-09-01T12:30:39.537Z"
   },
   {
    "duration": 160,
    "start_time": "2021-09-01T12:32:23.408Z"
   },
   {
    "duration": 117,
    "start_time": "2021-09-01T12:32:31.646Z"
   },
   {
    "duration": 3793,
    "start_time": "2021-09-01T12:32:45.173Z"
   },
   {
    "duration": 1174,
    "start_time": "2021-09-01T12:33:01.818Z"
   },
   {
    "duration": 1071,
    "start_time": "2021-09-01T12:34:02.910Z"
   },
   {
    "duration": 12,
    "start_time": "2021-09-01T12:45:47.276Z"
   },
   {
    "duration": 368,
    "start_time": "2021-09-01T12:55:18.880Z"
   },
   {
    "duration": 11,
    "start_time": "2021-09-01T12:55:35.992Z"
   },
   {
    "duration": 1118,
    "start_time": "2021-09-02T07:42:00.533Z"
   },
   {
    "duration": 10,
    "start_time": "2021-09-02T07:42:01.653Z"
   },
   {
    "duration": 104,
    "start_time": "2021-09-02T07:42:01.665Z"
   },
   {
    "duration": 23,
    "start_time": "2021-09-02T07:42:01.771Z"
   },
   {
    "duration": 32,
    "start_time": "2021-09-02T07:42:01.795Z"
   },
   {
    "duration": 26,
    "start_time": "2021-09-02T07:42:01.829Z"
   },
   {
    "duration": 30,
    "start_time": "2021-09-02T07:42:01.857Z"
   },
   {
    "duration": 21,
    "start_time": "2021-09-02T07:42:01.890Z"
   },
   {
    "duration": 21,
    "start_time": "2021-09-02T07:42:01.914Z"
   },
   {
    "duration": 42,
    "start_time": "2021-09-02T07:42:01.937Z"
   },
   {
    "duration": 11,
    "start_time": "2021-09-02T07:42:01.980Z"
   },
   {
    "duration": 50,
    "start_time": "2021-09-02T07:42:01.993Z"
   },
   {
    "duration": 36,
    "start_time": "2021-09-02T07:42:02.045Z"
   },
   {
    "duration": 8,
    "start_time": "2021-09-02T07:42:02.083Z"
   },
   {
    "duration": 173,
    "start_time": "2021-09-02T07:42:02.093Z"
   },
   {
    "duration": 1048,
    "start_time": "2021-09-02T07:42:02.268Z"
   },
   {
    "duration": 10,
    "start_time": "2021-09-02T07:42:03.318Z"
   },
   {
    "duration": 7,
    "start_time": "2021-09-02T07:42:03.329Z"
   },
   {
    "duration": 3,
    "start_time": "2021-09-02T07:42:03.337Z"
   },
   {
    "duration": 57,
    "start_time": "2021-09-02T07:42:03.341Z"
   },
   {
    "duration": 142,
    "start_time": "2021-09-02T07:42:03.400Z"
   },
   {
    "duration": 2,
    "start_time": "2021-09-02T07:42:03.543Z"
   },
   {
    "duration": 8,
    "start_time": "2021-09-02T07:42:03.548Z"
   },
   {
    "duration": 1146,
    "start_time": "2021-09-02T07:42:03.558Z"
   },
   {
    "duration": 4,
    "start_time": "2021-09-02T07:44:03.784Z"
   },
   {
    "duration": 27270,
    "start_time": "2021-09-02T07:44:04.588Z"
   },
   {
    "duration": 3,
    "start_time": "2021-09-02T07:46:57.697Z"
   },
   {
    "duration": 538,
    "start_time": "2021-09-02T07:46:58.344Z"
   },
   {
    "duration": 144,
    "start_time": "2021-09-02T11:29:29.275Z"
   },
   {
    "duration": 4,
    "start_time": "2021-09-02T11:29:37.628Z"
   },
   {
    "duration": 541,
    "start_time": "2021-09-02T11:29:38.251Z"
   },
   {
    "duration": 22,
    "start_time": "2021-09-02T11:45:55.981Z"
   },
   {
    "duration": 22,
    "start_time": "2021-09-02T11:49:38.892Z"
   },
   {
    "duration": 23,
    "start_time": "2021-09-02T11:50:34.257Z"
   },
   {
    "duration": 23,
    "start_time": "2021-09-02T11:51:03.222Z"
   },
   {
    "duration": 24,
    "start_time": "2021-09-02T11:51:04.054Z"
   },
   {
    "duration": 259,
    "start_time": "2021-09-03T07:29:45.961Z"
   },
   {
    "duration": 11,
    "start_time": "2021-09-03T07:29:46.615Z"
   },
   {
    "duration": 66,
    "start_time": "2021-09-03T07:29:49.982Z"
   },
   {
    "duration": 22,
    "start_time": "2021-09-03T07:29:52.399Z"
   },
   {
    "duration": 7,
    "start_time": "2021-09-03T07:29:55.032Z"
   },
   {
    "duration": 6,
    "start_time": "2021-09-03T07:29:59.231Z"
   },
   {
    "duration": 284,
    "start_time": "2021-09-03T07:35:08.316Z"
   },
   {
    "duration": 11,
    "start_time": "2021-09-03T07:35:28.682Z"
   },
   {
    "duration": 6,
    "start_time": "2021-09-03T07:35:43.469Z"
   },
   {
    "duration": 230,
    "start_time": "2021-09-03T07:39:09.464Z"
   },
   {
    "duration": 5,
    "start_time": "2021-09-06T07:14:33.693Z"
   },
   {
    "duration": 7,
    "start_time": "2021-09-06T07:15:15.589Z"
   },
   {
    "duration": 22,
    "start_time": "2021-09-06T07:15:40.263Z"
   },
   {
    "duration": 8585,
    "start_time": "2021-09-06T07:35:17.808Z"
   },
   {
    "duration": 8882,
    "start_time": "2021-09-06T07:38:44.696Z"
   },
   {
    "duration": 9742,
    "start_time": "2021-09-06T07:40:39.457Z"
   },
   {
    "duration": 5661,
    "start_time": "2021-09-06T07:41:06.056Z"
   },
   {
    "duration": 9351,
    "start_time": "2021-09-06T07:41:21.468Z"
   },
   {
    "duration": 13,
    "start_time": "2021-09-06T10:19:47.679Z"
   },
   {
    "duration": 24,
    "start_time": "2021-09-06T10:19:54.935Z"
   },
   {
    "duration": 15,
    "start_time": "2021-09-06T10:20:27.168Z"
   },
   {
    "duration": 1843,
    "start_time": "2021-09-06T10:20:46.443Z"
   },
   {
    "duration": 13,
    "start_time": "2021-09-06T10:20:48.288Z"
   },
   {
    "duration": 95,
    "start_time": "2021-09-06T10:20:48.303Z"
   },
   {
    "duration": 23,
    "start_time": "2021-09-06T10:20:48.401Z"
   },
   {
    "duration": 13,
    "start_time": "2021-09-06T10:20:48.426Z"
   },
   {
    "duration": 18,
    "start_time": "2021-09-06T10:20:48.441Z"
   },
   {
    "duration": 31,
    "start_time": "2021-09-06T10:20:48.461Z"
   },
   {
    "duration": 10,
    "start_time": "2021-09-06T10:20:48.494Z"
   },
   {
    "duration": 19,
    "start_time": "2021-09-06T10:20:48.507Z"
   },
   {
    "duration": 12,
    "start_time": "2021-09-06T10:20:48.529Z"
   },
   {
    "duration": 7,
    "start_time": "2021-09-06T10:20:48.542Z"
   },
   {
    "duration": 22,
    "start_time": "2021-09-06T10:20:48.551Z"
   },
   {
    "duration": 160,
    "start_time": "2021-09-06T10:20:48.575Z"
   },
   {
    "duration": 12,
    "start_time": "2021-09-06T10:20:48.737Z"
   },
   {
    "duration": 7,
    "start_time": "2021-09-06T10:20:48.751Z"
   },
   {
    "duration": 13,
    "start_time": "2021-09-06T10:20:48.760Z"
   },
   {
    "duration": 8,
    "start_time": "2021-09-06T10:20:48.791Z"
   },
   {
    "duration": 23,
    "start_time": "2021-09-06T10:20:48.801Z"
   },
   {
    "duration": 27,
    "start_time": "2021-09-06T10:20:48.825Z"
   },
   {
    "duration": 59,
    "start_time": "2021-09-06T10:20:48.854Z"
   },
   {
    "duration": 4,
    "start_time": "2021-09-06T10:20:48.915Z"
   },
   {
    "duration": 573,
    "start_time": "2021-09-06T10:20:48.920Z"
   },
   {
    "duration": 25,
    "start_time": "2021-09-06T10:20:49.495Z"
   },
   {
    "duration": 33,
    "start_time": "2021-09-06T10:20:49.523Z"
   },
   {
    "duration": 10007,
    "start_time": "2021-09-06T10:20:49.559Z"
   },
   {
    "duration": 10349,
    "start_time": "2021-09-06T10:21:04.647Z"
   },
   {
    "duration": 18,
    "start_time": "2021-09-06T10:21:42.248Z"
   },
   {
    "duration": 181,
    "start_time": "2021-09-06T10:52:28.301Z"
   },
   {
    "duration": 2195,
    "start_time": "2021-09-06T10:52:54.822Z"
   },
   {
    "duration": 181,
    "start_time": "2021-09-06T10:53:09.942Z"
   },
   {
    "duration": 1098,
    "start_time": "2021-09-06T11:09:28.599Z"
   },
   {
    "duration": 5566,
    "start_time": "2021-09-06T11:09:35.879Z"
   },
   {
    "duration": 288,
    "start_time": "2021-09-06T11:09:55.399Z"
   },
   {
    "duration": 9,
    "start_time": "2021-09-06T11:29:59.497Z"
   },
   {
    "duration": 5,
    "start_time": "2021-09-07T07:59:54.360Z"
   },
   {
    "duration": 252,
    "start_time": "2021-09-07T10:29:14.988Z"
   },
   {
    "duration": 4278,
    "start_time": "2021-09-07T10:29:56.855Z"
   },
   {
    "duration": 279,
    "start_time": "2021-09-07T10:30:13.600Z"
   },
   {
    "duration": 243,
    "start_time": "2021-09-07T10:47:56.803Z"
   },
   {
    "duration": 296,
    "start_time": "2021-09-07T10:48:04.732Z"
   },
   {
    "duration": 184,
    "start_time": "2021-09-07T10:48:59.210Z"
   },
   {
    "duration": 173,
    "start_time": "2021-09-07T10:49:09.202Z"
   },
   {
    "duration": 164,
    "start_time": "2021-09-07T10:49:33.850Z"
   },
   {
    "duration": 376,
    "start_time": "2021-09-07T10:51:59.992Z"
   },
   {
    "duration": 422,
    "start_time": "2021-09-07T10:52:45.369Z"
   },
   {
    "duration": 412,
    "start_time": "2021-09-07T11:07:02.265Z"
   },
   {
    "duration": 800,
    "start_time": "2021-09-07T11:07:20.247Z"
   },
   {
    "duration": 11,
    "start_time": "2021-09-07T11:07:21.048Z"
   },
   {
    "duration": 183,
    "start_time": "2021-09-07T11:07:21.061Z"
   },
   {
    "duration": 22,
    "start_time": "2021-09-07T11:07:21.246Z"
   },
   {
    "duration": 23,
    "start_time": "2021-09-07T11:07:21.270Z"
   },
   {
    "duration": 14,
    "start_time": "2021-09-07T11:07:21.295Z"
   },
   {
    "duration": 22,
    "start_time": "2021-09-07T11:07:21.311Z"
   },
   {
    "duration": 26,
    "start_time": "2021-09-07T11:07:21.336Z"
   },
   {
    "duration": 16,
    "start_time": "2021-09-07T11:07:21.365Z"
   },
   {
    "duration": 12,
    "start_time": "2021-09-07T11:07:21.383Z"
   },
   {
    "duration": 14,
    "start_time": "2021-09-07T11:07:21.397Z"
   },
   {
    "duration": 19,
    "start_time": "2021-09-07T11:07:21.413Z"
   },
   {
    "duration": 160,
    "start_time": "2021-09-07T11:07:21.434Z"
   },
   {
    "duration": 15,
    "start_time": "2021-09-07T11:07:21.596Z"
   },
   {
    "duration": 9,
    "start_time": "2021-09-07T11:07:21.614Z"
   },
   {
    "duration": 26,
    "start_time": "2021-09-07T11:07:21.625Z"
   },
   {
    "duration": 14,
    "start_time": "2021-09-07T11:07:21.652Z"
   },
   {
    "duration": 46,
    "start_time": "2021-09-07T11:07:21.668Z"
   },
   {
    "duration": 25,
    "start_time": "2021-09-07T11:07:21.716Z"
   },
   {
    "duration": 25,
    "start_time": "2021-09-07T11:07:21.743Z"
   },
   {
    "duration": 3,
    "start_time": "2021-09-07T11:07:21.770Z"
   },
   {
    "duration": 580,
    "start_time": "2021-09-07T11:07:21.792Z"
   },
   {
    "duration": 27,
    "start_time": "2021-09-07T11:07:22.375Z"
   },
   {
    "duration": 22,
    "start_time": "2021-09-07T11:07:22.405Z"
   },
   {
    "duration": 10150,
    "start_time": "2021-09-07T11:07:22.429Z"
   },
   {
    "duration": 199,
    "start_time": "2021-09-07T11:07:32.581Z"
   },
   {
    "duration": 9,
    "start_time": "2021-09-07T11:07:32.782Z"
   },
   {
    "duration": 353,
    "start_time": "2021-09-07T11:07:32.793Z"
   },
   {
    "duration": 821,
    "start_time": "2021-09-07T11:07:47.889Z"
   },
   {
    "duration": 553,
    "start_time": "2021-09-07T11:31:34.464Z"
   },
   {
    "duration": 950,
    "start_time": "2021-09-07T11:37:44.905Z"
   },
   {
    "duration": 269,
    "start_time": "2021-09-07T11:38:12.608Z"
   },
   {
    "duration": 530,
    "start_time": "2021-09-07T11:38:23.726Z"
   },
   {
    "duration": 6,
    "start_time": "2021-09-07T11:58:00.649Z"
   },
   {
    "duration": 5,
    "start_time": "2021-09-07T12:00:05.826Z"
   },
   {
    "duration": 5,
    "start_time": "2021-09-07T12:00:22.490Z"
   },
   {
    "duration": 873,
    "start_time": "2021-09-07T12:01:08.664Z"
   },
   {
    "duration": 6,
    "start_time": "2021-09-07T12:01:19.601Z"
   },
   {
    "duration": 7,
    "start_time": "2021-09-07T12:03:18.784Z"
   },
   {
    "duration": 5,
    "start_time": "2021-09-07T12:03:28.576Z"
   },
   {
    "duration": 6596,
    "start_time": "2021-09-07T12:03:45.120Z"
   },
   {
    "duration": 6,
    "start_time": "2021-09-07T12:03:56.096Z"
   },
   {
    "duration": 9,
    "start_time": "2021-09-08T06:40:17.339Z"
   },
   {
    "duration": 76,
    "start_time": "2021-09-08T06:40:44.603Z"
   },
   {
    "duration": 9,
    "start_time": "2021-09-08T06:40:52.348Z"
   },
   {
    "duration": 9,
    "start_time": "2021-09-08T06:43:19.011Z"
   },
   {
    "duration": 244,
    "start_time": "2021-09-08T07:12:35.984Z"
   },
   {
    "duration": 7,
    "start_time": "2021-09-08T07:12:41.528Z"
   },
   {
    "duration": 6673,
    "start_time": "2021-09-08T07:12:42.183Z"
   },
   {
    "duration": 5,
    "start_time": "2021-09-08T07:12:54.614Z"
   },
   {
    "duration": 5,
    "start_time": "2021-09-08T07:12:59.911Z"
   },
   {
    "duration": 6810,
    "start_time": "2021-09-08T07:13:15.367Z"
   },
   {
    "duration": 9,
    "start_time": "2021-09-08T07:13:25.999Z"
   },
   {
    "duration": 9,
    "start_time": "2021-09-08T07:37:07.364Z"
   },
   {
    "duration": 6624,
    "start_time": "2021-09-08T07:37:20.010Z"
   },
   {
    "duration": 5,
    "start_time": "2021-09-08T07:39:18.784Z"
   },
   {
    "duration": 283,
    "start_time": "2021-09-08T07:42:22.103Z"
   },
   {
    "duration": 780,
    "start_time": "2021-09-08T07:47:31.075Z"
   },
   {
    "duration": 256,
    "start_time": "2021-09-08T07:51:54.961Z"
   },
   {
    "duration": 871,
    "start_time": "2021-09-08T07:52:57.871Z"
   },
   {
    "duration": 5,
    "start_time": "2021-09-08T07:53:14.664Z"
   },
   {
    "duration": 14,
    "start_time": "2021-09-08T07:53:30.577Z"
   },
   {
    "duration": 14,
    "start_time": "2021-09-08T07:54:07.039Z"
   },
   {
    "duration": 12,
    "start_time": "2021-09-08T07:54:14.272Z"
   },
   {
    "duration": 822,
    "start_time": "2021-09-08T09:59:22.676Z"
   },
   {
    "duration": 10,
    "start_time": "2021-09-08T09:59:23.500Z"
   },
   {
    "duration": 73,
    "start_time": "2021-09-08T09:59:23.512Z"
   },
   {
    "duration": 21,
    "start_time": "2021-09-08T09:59:23.591Z"
   },
   {
    "duration": 6,
    "start_time": "2021-09-08T09:59:23.613Z"
   },
   {
    "duration": 8,
    "start_time": "2021-09-08T09:59:23.620Z"
   },
   {
    "duration": 13,
    "start_time": "2021-09-08T09:59:23.629Z"
   },
   {
    "duration": 10,
    "start_time": "2021-09-08T09:59:23.645Z"
   },
   {
    "duration": 35,
    "start_time": "2021-09-08T09:59:23.657Z"
   },
   {
    "duration": 10,
    "start_time": "2021-09-08T09:59:23.694Z"
   },
   {
    "duration": 3,
    "start_time": "2021-09-08T09:59:23.706Z"
   },
   {
    "duration": 18,
    "start_time": "2021-09-08T09:59:23.711Z"
   },
   {
    "duration": 160,
    "start_time": "2021-09-08T09:59:23.731Z"
   },
   {
    "duration": 10,
    "start_time": "2021-09-08T09:59:23.893Z"
   },
   {
    "duration": 12,
    "start_time": "2021-09-08T09:59:23.904Z"
   },
   {
    "duration": 10,
    "start_time": "2021-09-08T09:59:23.918Z"
   },
   {
    "duration": 11,
    "start_time": "2021-09-08T09:59:23.929Z"
   },
   {
    "duration": 23,
    "start_time": "2021-09-08T09:59:23.942Z"
   },
   {
    "duration": 49,
    "start_time": "2021-09-08T09:59:23.966Z"
   },
   {
    "duration": 26,
    "start_time": "2021-09-08T09:59:24.017Z"
   },
   {
    "duration": 3,
    "start_time": "2021-09-08T09:59:24.044Z"
   },
   {
    "duration": 549,
    "start_time": "2021-09-08T09:59:24.048Z"
   },
   {
    "duration": 22,
    "start_time": "2021-09-08T09:59:24.600Z"
   },
   {
    "duration": 20,
    "start_time": "2021-09-08T09:59:24.624Z"
   },
   {
    "duration": 9210,
    "start_time": "2021-09-08T09:59:24.645Z"
   },
   {
    "duration": 187,
    "start_time": "2021-09-08T09:59:33.856Z"
   },
   {
    "duration": 7,
    "start_time": "2021-09-08T09:59:34.044Z"
   },
   {
    "duration": 786,
    "start_time": "2021-09-08T09:59:34.053Z"
   },
   {
    "duration": 5,
    "start_time": "2021-09-08T09:59:34.841Z"
   },
   {
    "duration": 19,
    "start_time": "2021-09-08T09:59:34.847Z"
   },
   {
    "duration": 15,
    "start_time": "2021-09-08T09:59:34.868Z"
   },
   {
    "duration": 35,
    "start_time": "2021-09-08T09:59:34.885Z"
   },
   {
    "duration": 28,
    "start_time": "2021-09-08T09:59:34.922Z"
   },
   {
    "duration": 17,
    "start_time": "2021-09-08T09:59:34.952Z"
   },
   {
    "duration": 28,
    "start_time": "2021-09-08T09:59:34.971Z"
   },
   {
    "duration": 10,
    "start_time": "2021-09-08T09:59:35.001Z"
   },
   {
    "duration": 11,
    "start_time": "2021-09-08T10:00:00.048Z"
   },
   {
    "duration": 9,
    "start_time": "2021-09-08T10:02:07.049Z"
   },
   {
    "duration": 11,
    "start_time": "2021-09-08T10:02:27.109Z"
   },
   {
    "duration": 297,
    "start_time": "2021-09-08T10:02:44.513Z"
   },
   {
    "duration": 17,
    "start_time": "2021-09-08T10:09:01.773Z"
   },
   {
    "duration": 361,
    "start_time": "2021-09-08T10:13:19.192Z"
   },
   {
    "duration": 1041,
    "start_time": "2021-09-08T10:13:49.817Z"
   },
   {
    "duration": 13,
    "start_time": "2021-09-08T10:29:52.699Z"
   },
   {
    "duration": 16,
    "start_time": "2021-09-08T10:30:03.851Z"
   },
   {
    "duration": 237,
    "start_time": "2021-09-08T10:32:28.320Z"
   },
   {
    "duration": 284,
    "start_time": "2021-09-08T10:33:08.825Z"
   },
   {
    "duration": 84,
    "start_time": "2021-09-08T10:49:49.326Z"
   },
   {
    "duration": 50,
    "start_time": "2021-09-08T10:50:47.741Z"
   },
   {
    "duration": 18,
    "start_time": "2021-09-08T10:51:00.919Z"
   },
   {
    "duration": 42,
    "start_time": "2021-09-09T07:13:43.136Z"
   },
   {
    "duration": 36,
    "start_time": "2021-09-09T07:15:00.326Z"
   },
   {
    "duration": 242,
    "start_time": "2021-09-09T07:21:51.707Z"
   },
   {
    "duration": 261,
    "start_time": "2021-09-09T07:22:42.010Z"
   },
   {
    "duration": 8,
    "start_time": "2021-09-09T07:23:08.074Z"
   },
   {
    "duration": 33,
    "start_time": "2021-09-09T07:23:24.266Z"
   },
   {
    "duration": 35,
    "start_time": "2021-09-09T07:24:05.539Z"
   },
   {
    "duration": 10,
    "start_time": "2021-09-09T07:25:10.922Z"
   },
   {
    "duration": 10,
    "start_time": "2021-09-09T07:26:27.656Z"
   },
   {
    "duration": 46,
    "start_time": "2021-09-09T07:26:45.079Z"
   },
   {
    "duration": 45,
    "start_time": "2021-09-09T07:27:12.648Z"
   },
   {
    "duration": 262,
    "start_time": "2021-09-09T07:30:00.989Z"
   },
   {
    "duration": 14,
    "start_time": "2021-09-09T07:30:08.302Z"
   },
   {
    "duration": 252,
    "start_time": "2021-09-09T07:30:41.406Z"
   },
   {
    "duration": 24,
    "start_time": "2021-09-09T07:30:50.109Z"
   },
   {
    "duration": 24,
    "start_time": "2021-09-09T07:33:55.327Z"
   },
   {
    "duration": 319,
    "start_time": "2021-09-09T07:34:45.043Z"
   },
   {
    "duration": 441,
    "start_time": "2021-09-09T07:35:01.475Z"
   },
   {
    "duration": 190,
    "start_time": "2021-09-09T07:41:37.702Z"
   },
   {
    "duration": 277,
    "start_time": "2021-09-09T07:42:11.239Z"
   },
   {
    "duration": 264,
    "start_time": "2021-09-09T07:42:51.942Z"
   },
   {
    "duration": 36,
    "start_time": "2021-09-09T08:11:45.765Z"
   },
   {
    "duration": 37,
    "start_time": "2021-09-09T08:44:24.211Z"
   },
   {
    "duration": 292,
    "start_time": "2021-09-09T08:45:03.307Z"
   },
   {
    "duration": 6,
    "start_time": "2021-09-09T08:45:15.386Z"
   },
   {
    "duration": 6,
    "start_time": "2021-09-09T08:45:35.291Z"
   },
   {
    "duration": 53,
    "start_time": "2021-09-09T08:47:21.466Z"
   },
   {
    "duration": 9,
    "start_time": "2021-09-09T08:47:55.195Z"
   },
   {
    "duration": 9,
    "start_time": "2021-09-09T11:42:41.471Z"
   },
   {
    "duration": 10,
    "start_time": "2021-09-09T11:44:28.905Z"
   },
   {
    "duration": 1189,
    "start_time": "2021-09-09T11:53:34.699Z"
   },
   {
    "duration": 13,
    "start_time": "2021-09-09T11:53:35.891Z"
   },
   {
    "duration": 86,
    "start_time": "2021-09-09T11:53:35.907Z"
   },
   {
    "duration": 22,
    "start_time": "2021-09-09T11:53:35.995Z"
   },
   {
    "duration": 14,
    "start_time": "2021-09-09T11:53:36.018Z"
   },
   {
    "duration": 16,
    "start_time": "2021-09-09T11:53:36.034Z"
   },
   {
    "duration": 12,
    "start_time": "2021-09-09T11:53:36.052Z"
   },
   {
    "duration": 28,
    "start_time": "2021-09-09T11:53:36.067Z"
   },
   {
    "duration": 14,
    "start_time": "2021-09-09T11:53:36.097Z"
   },
   {
    "duration": 10,
    "start_time": "2021-09-09T11:53:36.112Z"
   },
   {
    "duration": 10,
    "start_time": "2021-09-09T11:53:36.123Z"
   },
   {
    "duration": 3,
    "start_time": "2021-09-09T11:53:36.135Z"
   },
   {
    "duration": 13,
    "start_time": "2021-09-09T11:53:36.140Z"
   },
   {
    "duration": 170,
    "start_time": "2021-09-09T11:53:36.155Z"
   },
   {
    "duration": 11,
    "start_time": "2021-09-09T11:53:36.326Z"
   },
   {
    "duration": 9,
    "start_time": "2021-09-09T11:53:36.339Z"
   },
   {
    "duration": 14,
    "start_time": "2021-09-09T11:53:36.350Z"
   },
   {
    "duration": 34,
    "start_time": "2021-09-09T11:53:36.365Z"
   },
   {
    "duration": 23,
    "start_time": "2021-09-09T11:53:36.401Z"
   },
   {
    "duration": 26,
    "start_time": "2021-09-09T11:53:36.425Z"
   },
   {
    "duration": 56,
    "start_time": "2021-09-09T11:53:36.453Z"
   },
   {
    "duration": 3,
    "start_time": "2021-09-09T11:53:36.512Z"
   },
   {
    "duration": 581,
    "start_time": "2021-09-09T11:53:36.519Z"
   },
   {
    "duration": 24,
    "start_time": "2021-09-09T11:53:37.102Z"
   },
   {
    "duration": 24,
    "start_time": "2021-09-09T11:53:37.128Z"
   },
   {
    "duration": 10181,
    "start_time": "2021-09-09T11:53:37.153Z"
   },
   {
    "duration": 196,
    "start_time": "2021-09-09T11:53:47.336Z"
   },
   {
    "duration": 6,
    "start_time": "2021-09-09T11:53:47.534Z"
   },
   {
    "duration": 806,
    "start_time": "2021-09-09T11:53:47.542Z"
   },
   {
    "duration": 4,
    "start_time": "2021-09-09T11:53:48.350Z"
   },
   {
    "duration": 8,
    "start_time": "2021-09-09T11:53:48.356Z"
   },
   {
    "duration": 29,
    "start_time": "2021-09-09T11:53:48.365Z"
   },
   {
    "duration": 5,
    "start_time": "2021-09-09T11:53:48.395Z"
   },
   {
    "duration": 10,
    "start_time": "2021-09-09T11:53:48.402Z"
   },
   {
    "duration": 14,
    "start_time": "2021-09-09T11:53:48.413Z"
   },
   {
    "duration": 18,
    "start_time": "2021-09-09T11:53:48.428Z"
   },
   {
    "duration": 21,
    "start_time": "2021-09-09T11:53:48.448Z"
   },
   {
    "duration": 54,
    "start_time": "2021-09-09T11:53:48.471Z"
   },
   {
    "duration": 46,
    "start_time": "2021-09-09T11:53:48.526Z"
   },
   {
    "duration": 37,
    "start_time": "2021-09-09T11:53:48.574Z"
   },
   {
    "duration": 425,
    "start_time": "2021-09-09T11:53:48.612Z"
   },
   {
    "duration": 273,
    "start_time": "2021-09-09T11:53:49.039Z"
   },
   {
    "duration": 9,
    "start_time": "2021-09-09T11:53:49.313Z"
   },
   {
    "duration": 9,
    "start_time": "2021-09-10T05:15:03.364Z"
   },
   {
    "duration": 9,
    "start_time": "2021-09-10T05:15:15.723Z"
   },
   {
    "duration": 148,
    "start_time": "2021-09-10T05:16:24.940Z"
   },
   {
    "duration": 914,
    "start_time": "2021-09-10T05:19:14.295Z"
   },
   {
    "duration": 10,
    "start_time": "2021-09-10T05:19:15.211Z"
   },
   {
    "duration": 72,
    "start_time": "2021-09-10T05:19:15.223Z"
   },
   {
    "duration": 21,
    "start_time": "2021-09-10T05:19:15.297Z"
   },
   {
    "duration": 6,
    "start_time": "2021-09-10T05:19:15.320Z"
   },
   {
    "duration": 12,
    "start_time": "2021-09-10T05:19:15.327Z"
   },
   {
    "duration": 10,
    "start_time": "2021-09-10T05:19:15.340Z"
   },
   {
    "duration": 41,
    "start_time": "2021-09-10T05:19:15.352Z"
   },
   {
    "duration": 8,
    "start_time": "2021-09-10T05:19:15.395Z"
   },
   {
    "duration": 13,
    "start_time": "2021-09-10T05:19:15.405Z"
   },
   {
    "duration": 4,
    "start_time": "2021-09-10T05:19:15.419Z"
   },
   {
    "duration": 26,
    "start_time": "2021-09-10T05:19:15.424Z"
   },
   {
    "duration": 148,
    "start_time": "2021-09-10T05:19:15.452Z"
   },
   {
    "duration": 10,
    "start_time": "2021-09-10T05:19:15.602Z"
   },
   {
    "duration": 156,
    "start_time": "2021-09-10T05:19:15.613Z"
   },
   {
    "duration": 8,
    "start_time": "2021-09-10T05:19:15.771Z"
   },
   {
    "duration": 21,
    "start_time": "2021-09-10T05:19:15.780Z"
   },
   {
    "duration": 11,
    "start_time": "2021-09-10T05:19:15.803Z"
   },
   {
    "duration": 21,
    "start_time": "2021-09-10T05:19:15.816Z"
   },
   {
    "duration": 23,
    "start_time": "2021-09-10T05:19:15.839Z"
   },
   {
    "duration": 50,
    "start_time": "2021-09-10T05:19:15.863Z"
   },
   {
    "duration": 3,
    "start_time": "2021-09-10T05:19:15.914Z"
   },
   {
    "duration": 575,
    "start_time": "2021-09-10T05:19:15.920Z"
   },
   {
    "duration": 22,
    "start_time": "2021-09-10T05:19:16.497Z"
   },
   {
    "duration": 22,
    "start_time": "2021-09-10T05:19:16.521Z"
   },
   {
    "duration": 9131,
    "start_time": "2021-09-10T05:19:16.545Z"
   },
   {
    "duration": 195,
    "start_time": "2021-09-10T05:19:25.678Z"
   },
   {
    "duration": 5,
    "start_time": "2021-09-10T05:19:25.875Z"
   },
   {
    "duration": 786,
    "start_time": "2021-09-10T05:19:25.891Z"
   },
   {
    "duration": 14,
    "start_time": "2021-09-10T05:19:26.678Z"
   },
   {
    "duration": 21,
    "start_time": "2021-09-10T05:19:26.693Z"
   },
   {
    "duration": 20,
    "start_time": "2021-09-10T05:19:26.716Z"
   },
   {
    "duration": 24,
    "start_time": "2021-09-10T05:19:26.737Z"
   },
   {
    "duration": 24,
    "start_time": "2021-09-10T05:19:26.762Z"
   },
   {
    "duration": 20,
    "start_time": "2021-09-10T05:19:26.788Z"
   },
   {
    "duration": 22,
    "start_time": "2021-09-10T05:19:26.809Z"
   },
   {
    "duration": 47,
    "start_time": "2021-09-10T05:19:26.832Z"
   },
   {
    "duration": 44,
    "start_time": "2021-09-10T05:19:26.881Z"
   },
   {
    "duration": 46,
    "start_time": "2021-09-10T05:19:26.927Z"
   },
   {
    "duration": 33,
    "start_time": "2021-09-10T05:19:26.975Z"
   },
   {
    "duration": 420,
    "start_time": "2021-09-10T05:19:27.010Z"
   },
   {
    "duration": 269,
    "start_time": "2021-09-10T05:19:27.432Z"
   },
   {
    "duration": 8,
    "start_time": "2021-09-10T05:19:27.703Z"
   },
   {
    "duration": 195,
    "start_time": "2021-09-10T05:20:33.558Z"
   },
   {
    "duration": 167,
    "start_time": "2021-09-10T05:21:10.786Z"
   },
   {
    "duration": 16,
    "start_time": "2021-09-10T06:02:39.431Z"
   },
   {
    "duration": 122,
    "start_time": "2021-09-10T06:18:39.992Z"
   },
   {
    "duration": 804,
    "start_time": "2021-09-10T06:18:52.246Z"
   },
   {
    "duration": 10,
    "start_time": "2021-09-10T06:18:53.052Z"
   },
   {
    "duration": 80,
    "start_time": "2021-09-10T06:18:53.064Z"
   },
   {
    "duration": 23,
    "start_time": "2021-09-10T06:18:53.146Z"
   },
   {
    "duration": 21,
    "start_time": "2021-09-10T06:18:53.171Z"
   },
   {
    "duration": 8,
    "start_time": "2021-09-10T06:18:53.194Z"
   },
   {
    "duration": 9,
    "start_time": "2021-09-10T06:18:53.203Z"
   },
   {
    "duration": 13,
    "start_time": "2021-09-10T06:18:53.215Z"
   },
   {
    "duration": 171,
    "start_time": "2021-09-10T06:18:53.230Z"
   },
   {
    "duration": 180,
    "start_time": "2021-09-10T06:18:53.402Z"
   },
   {
    "duration": 13,
    "start_time": "2021-09-10T06:18:53.583Z"
   },
   {
    "duration": 155,
    "start_time": "2021-09-10T06:18:53.598Z"
   },
   {
    "duration": 12,
    "start_time": "2021-09-10T06:18:53.755Z"
   },
   {
    "duration": 182,
    "start_time": "2021-09-10T06:18:53.768Z"
   },
   {
    "duration": 5,
    "start_time": "2021-09-10T06:18:53.952Z"
   },
   {
    "duration": 15,
    "start_time": "2021-09-10T06:18:53.958Z"
   },
   {
    "duration": 20,
    "start_time": "2021-09-10T06:18:53.974Z"
   },
   {
    "duration": 21,
    "start_time": "2021-09-10T06:18:53.996Z"
   },
   {
    "duration": 25,
    "start_time": "2021-09-10T06:18:54.018Z"
   },
   {
    "duration": 50,
    "start_time": "2021-09-10T06:18:54.044Z"
   },
   {
    "duration": 3,
    "start_time": "2021-09-10T06:18:54.096Z"
   },
   {
    "duration": 552,
    "start_time": "2021-09-10T06:18:54.100Z"
   },
   {
    "duration": 22,
    "start_time": "2021-09-10T06:18:54.655Z"
   },
   {
    "duration": 28,
    "start_time": "2021-09-10T06:18:54.678Z"
   },
   {
    "duration": 9088,
    "start_time": "2021-09-10T06:18:54.708Z"
   },
   {
    "duration": 193,
    "start_time": "2021-09-10T06:19:03.797Z"
   },
   {
    "duration": 5,
    "start_time": "2021-09-10T06:19:03.992Z"
   },
   {
    "duration": 762,
    "start_time": "2021-09-10T06:19:03.998Z"
   },
   {
    "duration": 5,
    "start_time": "2021-09-10T06:19:04.762Z"
   },
   {
    "duration": 23,
    "start_time": "2021-09-10T06:19:04.769Z"
   },
   {
    "duration": 6,
    "start_time": "2021-09-10T06:19:04.794Z"
   },
   {
    "duration": 24,
    "start_time": "2021-09-10T06:19:04.802Z"
   },
   {
    "duration": 27,
    "start_time": "2021-09-10T06:19:04.828Z"
   },
   {
    "duration": 30,
    "start_time": "2021-09-10T06:19:04.856Z"
   },
   {
    "duration": 35,
    "start_time": "2021-09-10T06:19:04.888Z"
   },
   {
    "duration": 19,
    "start_time": "2021-09-10T06:19:04.925Z"
   },
   {
    "duration": 49,
    "start_time": "2021-09-10T06:19:04.946Z"
   },
   {
    "duration": 44,
    "start_time": "2021-09-10T06:19:04.997Z"
   },
   {
    "duration": 22,
    "start_time": "2021-09-10T06:19:05.042Z"
   },
   {
    "duration": 426,
    "start_time": "2021-09-10T06:19:05.065Z"
   },
   {
    "duration": 271,
    "start_time": "2021-09-10T06:19:05.493Z"
   },
   {
    "duration": 11,
    "start_time": "2021-09-10T06:19:05.766Z"
   },
   {
    "duration": 157,
    "start_time": "2021-09-10T06:21:10.055Z"
   },
   {
    "duration": 14,
    "start_time": "2021-09-10T06:35:18.772Z"
   },
   {
    "duration": 302,
    "start_time": "2021-09-10T07:59:26.666Z"
   },
   {
    "duration": 861,
    "start_time": "2021-09-10T08:03:17.351Z"
   },
   {
    "duration": 13,
    "start_time": "2021-09-10T08:03:18.216Z"
   },
   {
    "duration": 93,
    "start_time": "2021-09-10T08:03:18.231Z"
   },
   {
    "duration": 23,
    "start_time": "2021-09-10T08:03:18.325Z"
   },
   {
    "duration": 6,
    "start_time": "2021-09-10T08:03:18.350Z"
   },
   {
    "duration": 12,
    "start_time": "2021-09-10T08:03:18.358Z"
   },
   {
    "duration": 11,
    "start_time": "2021-09-10T08:03:18.392Z"
   },
   {
    "duration": 16,
    "start_time": "2021-09-10T08:03:18.405Z"
   },
   {
    "duration": 9,
    "start_time": "2021-09-10T08:03:18.423Z"
   },
   {
    "duration": 969,
    "start_time": "2021-09-10T08:03:18.433Z"
   },
   {
    "duration": -158,
    "start_time": "2021-09-10T08:03:19.562Z"
   },
   {
    "duration": -161,
    "start_time": "2021-09-10T08:03:19.566Z"
   },
   {
    "duration": -162,
    "start_time": "2021-09-10T08:03:19.568Z"
   },
   {
    "duration": -166,
    "start_time": "2021-09-10T08:03:19.573Z"
   },
   {
    "duration": -176,
    "start_time": "2021-09-10T08:03:19.584Z"
   },
   {
    "duration": -177,
    "start_time": "2021-09-10T08:03:19.586Z"
   },
   {
    "duration": -189,
    "start_time": "2021-09-10T08:03:19.599Z"
   },
   {
    "duration": -190,
    "start_time": "2021-09-10T08:03:19.601Z"
   },
   {
    "duration": -191,
    "start_time": "2021-09-10T08:03:19.603Z"
   },
   {
    "duration": -204,
    "start_time": "2021-09-10T08:03:19.617Z"
   },
   {
    "duration": -205,
    "start_time": "2021-09-10T08:03:19.619Z"
   },
   {
    "duration": -208,
    "start_time": "2021-09-10T08:03:19.623Z"
   },
   {
    "duration": -217,
    "start_time": "2021-09-10T08:03:19.633Z"
   },
   {
    "duration": -219,
    "start_time": "2021-09-10T08:03:19.635Z"
   },
   {
    "duration": -220,
    "start_time": "2021-09-10T08:03:19.637Z"
   },
   {
    "duration": -232,
    "start_time": "2021-09-10T08:03:19.650Z"
   },
   {
    "duration": -236,
    "start_time": "2021-09-10T08:03:19.654Z"
   },
   {
    "duration": -248,
    "start_time": "2021-09-10T08:03:19.667Z"
   },
   {
    "duration": -250,
    "start_time": "2021-09-10T08:03:19.670Z"
   },
   {
    "duration": -263,
    "start_time": "2021-09-10T08:03:19.684Z"
   },
   {
    "duration": -268,
    "start_time": "2021-09-10T08:03:19.690Z"
   },
   {
    "duration": -277,
    "start_time": "2021-09-10T08:03:19.700Z"
   },
   {
    "duration": -278,
    "start_time": "2021-09-10T08:03:19.702Z"
   },
   {
    "duration": -283,
    "start_time": "2021-09-10T08:03:19.708Z"
   },
   {
    "duration": -292,
    "start_time": "2021-09-10T08:03:19.718Z"
   },
   {
    "duration": -292,
    "start_time": "2021-09-10T08:03:19.720Z"
   },
   {
    "duration": 2608,
    "start_time": "2021-09-10T08:03:40.732Z"
   },
   {
    "duration": 14,
    "start_time": "2021-09-10T08:03:43.342Z"
   },
   {
    "duration": 91,
    "start_time": "2021-09-10T08:03:43.358Z"
   },
   {
    "duration": 23,
    "start_time": "2021-09-10T08:03:43.451Z"
   },
   {
    "duration": 18,
    "start_time": "2021-09-10T08:03:43.476Z"
   },
   {
    "duration": 8,
    "start_time": "2021-09-10T08:03:43.496Z"
   },
   {
    "duration": 13,
    "start_time": "2021-09-10T08:03:43.506Z"
   },
   {
    "duration": 16,
    "start_time": "2021-09-10T08:03:43.521Z"
   },
   {
    "duration": 13,
    "start_time": "2021-09-10T08:03:43.539Z"
   },
   {
    "duration": 772,
    "start_time": "2021-09-10T08:03:43.554Z"
   },
   {
    "duration": 20,
    "start_time": "2021-09-10T08:03:44.328Z"
   },
   {
    "duration": 42,
    "start_time": "2021-09-10T08:03:44.351Z"
   },
   {
    "duration": 25,
    "start_time": "2021-09-10T08:03:44.395Z"
   },
   {
    "duration": 32,
    "start_time": "2021-09-10T08:03:44.422Z"
   },
   {
    "duration": 3,
    "start_time": "2021-09-10T08:03:44.456Z"
   },
   {
    "duration": 587,
    "start_time": "2021-09-10T08:03:44.460Z"
   },
   {
    "duration": 25,
    "start_time": "2021-09-10T08:03:45.049Z"
   },
   {
    "duration": 31,
    "start_time": "2021-09-10T08:03:45.076Z"
   },
   {
    "duration": 9758,
    "start_time": "2021-09-10T08:03:45.109Z"
   },
   {
    "duration": 493,
    "start_time": "2021-09-10T08:03:54.869Z"
   },
   {
    "duration": 7,
    "start_time": "2021-09-10T08:03:55.364Z"
   },
   {
    "duration": 574,
    "start_time": "2021-09-10T08:03:55.372Z"
   },
   {
    "duration": 5,
    "start_time": "2021-09-10T08:03:55.948Z"
   },
   {
    "duration": 19,
    "start_time": "2021-09-10T08:03:55.955Z"
   },
   {
    "duration": 26,
    "start_time": "2021-09-10T08:03:55.976Z"
   },
   {
    "duration": 16,
    "start_time": "2021-09-10T08:03:56.004Z"
   },
   {
    "duration": 18,
    "start_time": "2021-09-10T08:03:56.023Z"
   },
   {
    "duration": 24,
    "start_time": "2021-09-10T08:03:56.043Z"
   },
   {
    "duration": 20,
    "start_time": "2021-09-10T08:03:56.069Z"
   },
   {
    "duration": 38,
    "start_time": "2021-09-10T08:03:56.091Z"
   },
   {
    "duration": 48,
    "start_time": "2021-09-10T08:03:56.131Z"
   },
   {
    "duration": 48,
    "start_time": "2021-09-10T08:03:56.181Z"
   },
   {
    "duration": 24,
    "start_time": "2021-09-10T08:03:56.231Z"
   },
   {
    "duration": 456,
    "start_time": "2021-09-10T08:03:56.257Z"
   },
   {
    "duration": 279,
    "start_time": "2021-09-10T08:03:56.715Z"
   },
   {
    "duration": 10,
    "start_time": "2021-09-10T08:03:56.995Z"
   },
   {
    "duration": 718,
    "start_time": "2021-09-10T08:04:38.763Z"
   },
   {
    "duration": 846,
    "start_time": "2021-09-10T08:05:49.283Z"
   },
   {
    "duration": 5,
    "start_time": "2021-09-10T11:21:08.761Z"
   },
   {
    "duration": 31,
    "start_time": "2021-09-10T11:42:10.780Z"
   },
   {
    "duration": 33,
    "start_time": "2021-09-10T11:52:36.408Z"
   },
   {
    "duration": 810,
    "start_time": "2021-09-10T11:57:46.349Z"
   },
   {
    "duration": 11,
    "start_time": "2021-09-10T11:57:47.164Z"
   },
   {
    "duration": 80,
    "start_time": "2021-09-10T11:57:47.177Z"
   },
   {
    "duration": 33,
    "start_time": "2021-09-10T11:57:47.259Z"
   },
   {
    "duration": 9,
    "start_time": "2021-09-10T11:57:47.294Z"
   },
   {
    "duration": 11,
    "start_time": "2021-09-10T11:57:47.305Z"
   },
   {
    "duration": 10,
    "start_time": "2021-09-10T11:57:47.319Z"
   },
   {
    "duration": 15,
    "start_time": "2021-09-10T11:57:47.331Z"
   },
   {
    "duration": 752,
    "start_time": "2021-09-10T11:57:47.347Z"
   },
   {
    "duration": 22,
    "start_time": "2021-09-10T11:57:48.101Z"
   },
   {
    "duration": 23,
    "start_time": "2021-09-10T11:57:48.124Z"
   },
   {
    "duration": 56,
    "start_time": "2021-09-10T11:57:48.149Z"
   },
   {
    "duration": 3,
    "start_time": "2021-09-10T11:57:48.207Z"
   },
   {
    "duration": 569,
    "start_time": "2021-09-10T11:57:48.212Z"
   },
   {
    "duration": 9348,
    "start_time": "2021-09-10T11:57:48.783Z"
   },
   {
    "duration": 455,
    "start_time": "2021-09-10T11:57:58.133Z"
   },
   {
    "duration": 6,
    "start_time": "2021-09-10T11:57:58.591Z"
   },
   {
    "duration": 534,
    "start_time": "2021-09-10T11:57:58.599Z"
   },
   {
    "duration": 5,
    "start_time": "2021-09-10T11:57:59.135Z"
   },
   {
    "duration": 8,
    "start_time": "2021-09-10T11:57:59.142Z"
   },
   {
    "duration": 7,
    "start_time": "2021-09-10T11:57:59.152Z"
   },
   {
    "duration": 7,
    "start_time": "2021-09-10T11:57:59.162Z"
   },
   {
    "duration": 6,
    "start_time": "2021-09-10T11:57:59.192Z"
   },
   {
    "duration": 7,
    "start_time": "2021-09-10T11:57:59.199Z"
   },
   {
    "duration": 12,
    "start_time": "2021-09-10T11:57:59.208Z"
   },
   {
    "duration": 21,
    "start_time": "2021-09-10T11:57:59.222Z"
   },
   {
    "duration": 71,
    "start_time": "2021-09-10T11:57:59.245Z"
   },
   {
    "duration": 48,
    "start_time": "2021-09-10T11:57:59.318Z"
   },
   {
    "duration": 39,
    "start_time": "2021-09-10T11:57:59.368Z"
   },
   {
    "duration": 410,
    "start_time": "2021-09-10T11:57:59.409Z"
   },
   {
    "duration": 283,
    "start_time": "2021-09-10T11:57:59.821Z"
   },
   {
    "duration": 9,
    "start_time": "2021-09-10T11:58:00.106Z"
   },
   {
    "duration": 276,
    "start_time": "2021-09-10T12:37:51.668Z"
   },
   {
    "duration": 875,
    "start_time": "2021-09-10T12:38:03.329Z"
   },
   {
    "duration": 11,
    "start_time": "2021-09-10T12:38:04.206Z"
   },
   {
    "duration": 78,
    "start_time": "2021-09-10T12:38:04.219Z"
   },
   {
    "duration": 23,
    "start_time": "2021-09-10T12:38:04.299Z"
   },
   {
    "duration": 10,
    "start_time": "2021-09-10T12:38:04.323Z"
   },
   {
    "duration": 22,
    "start_time": "2021-09-10T12:38:04.334Z"
   },
   {
    "duration": 19,
    "start_time": "2021-09-10T12:38:04.358Z"
   },
   {
    "duration": 16,
    "start_time": "2021-09-10T12:38:04.380Z"
   },
   {
    "duration": 762,
    "start_time": "2021-09-10T12:38:04.398Z"
   },
   {
    "duration": 18,
    "start_time": "2021-09-10T12:38:05.162Z"
   },
   {
    "duration": 23,
    "start_time": "2021-09-10T12:38:05.192Z"
   },
   {
    "duration": 34,
    "start_time": "2021-09-10T12:38:05.217Z"
   },
   {
    "duration": 3,
    "start_time": "2021-09-10T12:38:05.253Z"
   },
   {
    "duration": 572,
    "start_time": "2021-09-10T12:38:05.257Z"
   },
   {
    "duration": 9514,
    "start_time": "2021-09-10T12:38:05.831Z"
   },
   {
    "duration": 817,
    "start_time": "2021-09-10T12:39:41.620Z"
   },
   {
    "duration": 16,
    "start_time": "2021-09-10T12:39:42.440Z"
   },
   {
    "duration": 127,
    "start_time": "2021-09-10T12:39:42.459Z"
   },
   {
    "duration": 33,
    "start_time": "2021-09-10T12:39:42.588Z"
   },
   {
    "duration": 8,
    "start_time": "2021-09-10T12:39:42.624Z"
   },
   {
    "duration": 14,
    "start_time": "2021-09-10T12:39:42.634Z"
   },
   {
    "duration": 13,
    "start_time": "2021-09-10T12:39:42.650Z"
   },
   {
    "duration": 31,
    "start_time": "2021-09-10T12:39:42.664Z"
   },
   {
    "duration": 883,
    "start_time": "2021-09-10T12:39:42.698Z"
   },
   {
    "duration": 24,
    "start_time": "2021-09-10T12:39:43.583Z"
   },
   {
    "duration": 23,
    "start_time": "2021-09-10T12:39:43.609Z"
   },
   {
    "duration": 34,
    "start_time": "2021-09-10T12:39:43.634Z"
   },
   {
    "duration": 24,
    "start_time": "2021-09-10T12:39:43.669Z"
   },
   {
    "duration": 561,
    "start_time": "2021-09-10T12:39:43.695Z"
   },
   {
    "duration": 9654,
    "start_time": "2021-09-10T12:39:44.257Z"
   },
   {
    "duration": 827,
    "start_time": "2021-09-10T12:40:25.055Z"
   },
   {
    "duration": 11,
    "start_time": "2021-09-10T12:40:25.887Z"
   },
   {
    "duration": 70,
    "start_time": "2021-09-10T12:40:25.900Z"
   },
   {
    "duration": 38,
    "start_time": "2021-09-10T12:40:25.972Z"
   },
   {
    "duration": 8,
    "start_time": "2021-09-10T12:40:26.012Z"
   },
   {
    "duration": 10,
    "start_time": "2021-09-10T12:40:26.021Z"
   },
   {
    "duration": 8,
    "start_time": "2021-09-10T12:40:26.033Z"
   },
   {
    "duration": 16,
    "start_time": "2021-09-10T12:40:26.043Z"
   },
   {
    "duration": 786,
    "start_time": "2021-09-10T12:40:26.061Z"
   },
   {
    "duration": 21,
    "start_time": "2021-09-10T12:40:26.848Z"
   },
   {
    "duration": 37,
    "start_time": "2021-09-10T12:40:26.870Z"
   },
   {
    "duration": 35,
    "start_time": "2021-09-10T12:40:26.909Z"
   },
   {
    "duration": 4,
    "start_time": "2021-09-10T12:40:26.945Z"
   },
   {
    "duration": 630,
    "start_time": "2021-09-10T12:40:26.950Z"
   },
   {
    "duration": 9199,
    "start_time": "2021-09-10T12:40:27.581Z"
   },
   {
    "duration": 11,
    "start_time": "2021-09-10T12:40:36.781Z"
   },
   {
    "duration": 450,
    "start_time": "2021-09-10T12:40:36.793Z"
   },
   {
    "duration": 6,
    "start_time": "2021-09-10T12:40:37.244Z"
   },
   {
    "duration": 533,
    "start_time": "2021-09-10T12:40:37.252Z"
   },
   {
    "duration": 4,
    "start_time": "2021-09-10T12:40:37.791Z"
   },
   {
    "duration": 7,
    "start_time": "2021-09-10T12:40:37.797Z"
   },
   {
    "duration": 4,
    "start_time": "2021-09-10T12:40:37.806Z"
   },
   {
    "duration": 7,
    "start_time": "2021-09-10T12:40:37.812Z"
   },
   {
    "duration": 5,
    "start_time": "2021-09-10T12:40:37.821Z"
   },
   {
    "duration": 9,
    "start_time": "2021-09-10T12:40:37.827Z"
   },
   {
    "duration": 15,
    "start_time": "2021-09-10T12:40:37.837Z"
   },
   {
    "duration": 46,
    "start_time": "2021-09-10T12:40:37.854Z"
   },
   {
    "duration": 39,
    "start_time": "2021-09-10T12:40:37.901Z"
   },
   {
    "duration": 56,
    "start_time": "2021-09-10T12:40:37.941Z"
   },
   {
    "duration": 21,
    "start_time": "2021-09-10T12:40:37.998Z"
   },
   {
    "duration": 427,
    "start_time": "2021-09-10T12:40:38.020Z"
   },
   {
    "duration": 286,
    "start_time": "2021-09-10T12:40:38.449Z"
   },
   {
    "duration": 9,
    "start_time": "2021-09-10T12:40:38.737Z"
   },
   {
    "duration": 8,
    "start_time": "2021-09-10T12:40:59.024Z"
   },
   {
    "duration": 8,
    "start_time": "2021-09-10T12:41:27.955Z"
   },
   {
    "duration": 10,
    "start_time": "2021-09-10T12:41:46.859Z"
   },
   {
    "duration": 9,
    "start_time": "2021-09-10T12:42:02.195Z"
   },
   {
    "duration": 83,
    "start_time": "2021-09-10T12:42:15.876Z"
   },
   {
    "duration": 9,
    "start_time": "2021-09-10T12:42:33.010Z"
   },
   {
    "duration": 9,
    "start_time": "2021-09-10T12:42:41.833Z"
   },
   {
    "duration": 8,
    "start_time": "2021-09-10T12:42:47.652Z"
   },
   {
    "duration": 8,
    "start_time": "2021-09-10T12:42:57.019Z"
   },
   {
    "duration": 78,
    "start_time": "2021-09-10T12:43:06.762Z"
   },
   {
    "duration": 29462,
    "start_time": "2021-09-10T12:43:20.864Z"
   },
   {
    "duration": 198,
    "start_time": "2021-09-10T12:44:12.817Z"
   },
   {
    "duration": 2529,
    "start_time": "2021-09-10T12:44:24.348Z"
   },
   {
    "duration": 181,
    "start_time": "2021-09-10T12:44:40.161Z"
   },
   {
    "duration": 198,
    "start_time": "2021-09-10T12:44:47.553Z"
   },
   {
    "duration": 216,
    "start_time": "2021-09-10T12:44:54.061Z"
   },
   {
    "duration": 245,
    "start_time": "2021-09-10T12:45:00.833Z"
   },
   {
    "duration": 255,
    "start_time": "2021-09-10T12:45:07.881Z"
   },
   {
    "duration": 263,
    "start_time": "2021-09-10T12:45:14.761Z"
   },
   {
    "duration": 262,
    "start_time": "2021-09-10T12:45:26.211Z"
   },
   {
    "duration": 254,
    "start_time": "2021-09-10T12:46:05.145Z"
   },
   {
    "duration": 5787,
    "start_time": "2021-09-10T12:46:25.826Z"
   },
   {
    "duration": 6085,
    "start_time": "2021-09-10T12:47:44.216Z"
   },
   {
    "duration": 19719,
    "start_time": "2021-09-10T12:48:00.679Z"
   },
   {
    "duration": 11686,
    "start_time": "2021-09-10T12:48:43.583Z"
   },
   {
    "duration": 9739,
    "start_time": "2021-09-10T12:49:11.754Z"
   },
   {
    "duration": 85,
    "start_time": "2021-09-10T12:49:39.034Z"
   },
   {
    "duration": 10536,
    "start_time": "2021-09-10T12:49:45.308Z"
   },
   {
    "duration": 9585,
    "start_time": "2021-09-10T12:50:49.822Z"
   },
   {
    "duration": 10515,
    "start_time": "2021-09-10T12:51:34.076Z"
   },
   {
    "duration": 219,
    "start_time": "2021-09-10T12:53:22.455Z"
   },
   {
    "duration": 260,
    "start_time": "2021-09-10T12:54:04.629Z"
   },
   {
    "duration": 246,
    "start_time": "2021-09-10T12:54:16.359Z"
   },
   {
    "duration": 235,
    "start_time": "2021-09-10T12:54:41.790Z"
   },
   {
    "duration": 264,
    "start_time": "2021-09-10T12:54:54.508Z"
   },
   {
    "duration": 231,
    "start_time": "2021-09-10T12:55:02.037Z"
   },
   {
    "duration": 3374,
    "start_time": "2021-09-11T13:26:54.567Z"
   },
   {
    "duration": 11093,
    "start_time": "2021-09-11T13:27:56.095Z"
   },
   {
    "duration": 207,
    "start_time": "2021-09-11T13:28:55.094Z"
   },
   {
    "duration": 511,
    "start_time": "2021-09-11T13:29:24.428Z"
   },
   {
    "duration": 431,
    "start_time": "2021-09-11T13:29:38.570Z"
   },
   {
    "duration": 415,
    "start_time": "2021-09-11T13:29:59.600Z"
   },
   {
    "duration": 544,
    "start_time": "2021-09-11T13:30:17.151Z"
   },
   {
    "duration": 517,
    "start_time": "2021-09-11T13:30:31.201Z"
   },
   {
    "duration": 509,
    "start_time": "2021-09-11T13:31:26.850Z"
   },
   {
    "duration": 604,
    "start_time": "2021-09-11T13:31:35.034Z"
   },
   {
    "duration": 9879,
    "start_time": "2021-09-11T13:32:40.694Z"
   },
   {
    "duration": 11545,
    "start_time": "2021-09-11T13:33:56.653Z"
   },
   {
    "duration": 18,
    "start_time": "2021-09-11T13:34:49.179Z"
   },
   {
    "duration": 19,
    "start_time": "2021-09-11T13:34:56.117Z"
   },
   {
    "duration": 195,
    "start_time": "2021-09-11T13:37:50.318Z"
   },
   {
    "duration": 510,
    "start_time": "2021-09-11T13:38:00.974Z"
   },
   {
    "duration": 491,
    "start_time": "2021-09-11T13:39:40.193Z"
   },
   {
    "duration": 737,
    "start_time": "2021-09-11T13:40:25.929Z"
   },
   {
    "duration": 5,
    "start_time": "2021-09-11T13:42:07.903Z"
   },
   {
    "duration": 6,
    "start_time": "2021-09-11T13:43:54.543Z"
   },
   {
    "duration": 575,
    "start_time": "2021-09-11T13:44:04.516Z"
   },
   {
    "duration": 32,
    "start_time": "2021-09-11T15:45:56.153Z"
   },
   {
    "duration": 32,
    "start_time": "2021-09-11T15:48:28.937Z"
   },
   {
    "duration": 828,
    "start_time": "2021-09-11T16:14:20.338Z"
   },
   {
    "duration": 12,
    "start_time": "2021-09-11T16:14:21.167Z"
   },
   {
    "duration": 121,
    "start_time": "2021-09-11T16:14:21.182Z"
   },
   {
    "duration": 22,
    "start_time": "2021-09-11T16:14:21.305Z"
   },
   {
    "duration": 9,
    "start_time": "2021-09-11T16:14:21.330Z"
   },
   {
    "duration": 13,
    "start_time": "2021-09-11T16:14:21.342Z"
   },
   {
    "duration": 34,
    "start_time": "2021-09-11T16:14:21.357Z"
   },
   {
    "duration": 24,
    "start_time": "2021-09-11T16:14:21.395Z"
   },
   {
    "duration": 1260,
    "start_time": "2021-09-11T16:14:21.422Z"
   },
   {
    "duration": 34,
    "start_time": "2021-09-11T16:14:22.684Z"
   },
   {
    "duration": 32,
    "start_time": "2021-09-11T16:14:22.720Z"
   },
   {
    "duration": 71,
    "start_time": "2021-09-11T16:14:22.754Z"
   },
   {
    "duration": 4,
    "start_time": "2021-09-11T16:14:22.827Z"
   },
   {
    "duration": 648,
    "start_time": "2021-09-11T16:14:22.833Z"
   },
   {
    "duration": 9491,
    "start_time": "2021-09-11T16:14:23.482Z"
   },
   {
    "duration": 28,
    "start_time": "2021-09-11T16:14:32.975Z"
   },
   {
    "duration": 764,
    "start_time": "2021-09-11T16:14:33.005Z"
   },
   {
    "duration": 434,
    "start_time": "2021-09-11T16:14:33.771Z"
   },
   {
    "duration": -15270,
    "start_time": "2021-09-11T16:14:49.477Z"
   },
   {
    "duration": -15282,
    "start_time": "2021-09-11T16:14:49.490Z"
   },
   {
    "duration": -15295,
    "start_time": "2021-09-11T16:14:49.504Z"
   },
   {
    "duration": -15303,
    "start_time": "2021-09-11T16:14:49.513Z"
   },
   {
    "duration": -15346,
    "start_time": "2021-09-11T16:14:49.557Z"
   },
   {
    "duration": -15358,
    "start_time": "2021-09-11T16:14:49.570Z"
   },
   {
    "duration": -15367,
    "start_time": "2021-09-11T16:14:49.580Z"
   },
   {
    "duration": -15377,
    "start_time": "2021-09-11T16:14:49.591Z"
   },
   {
    "duration": -15388,
    "start_time": "2021-09-11T16:14:49.603Z"
   },
   {
    "duration": -15397,
    "start_time": "2021-09-11T16:14:49.612Z"
   },
   {
    "duration": -15409,
    "start_time": "2021-09-11T16:14:49.625Z"
   },
   {
    "duration": -15415,
    "start_time": "2021-09-11T16:14:49.632Z"
   },
   {
    "duration": -15425,
    "start_time": "2021-09-11T16:14:49.643Z"
   },
   {
    "duration": -15451,
    "start_time": "2021-09-11T16:14:49.670Z"
   },
   {
    "duration": -15459,
    "start_time": "2021-09-11T16:14:49.679Z"
   },
   {
    "duration": -15468,
    "start_time": "2021-09-11T16:14:49.689Z"
   },
   {
    "duration": -15476,
    "start_time": "2021-09-11T16:14:49.698Z"
   },
   {
    "duration": -15484,
    "start_time": "2021-09-11T16:14:49.707Z"
   },
   {
    "duration": 499,
    "start_time": "2021-09-11T16:18:34.753Z"
   },
   {
    "duration": 35,
    "start_time": "2021-09-11T16:22:36.170Z"
   },
   {
    "duration": 5,
    "start_time": "2021-09-11T16:22:59.708Z"
   },
   {
    "duration": 6,
    "start_time": "2021-09-11T16:23:25.185Z"
   },
   {
    "duration": 5,
    "start_time": "2021-09-11T16:24:10.849Z"
   },
   {
    "duration": 6,
    "start_time": "2021-09-11T16:24:24.900Z"
   },
   {
    "duration": 8,
    "start_time": "2021-09-11T16:25:11.363Z"
   },
   {
    "duration": 5,
    "start_time": "2021-09-11T16:25:32.665Z"
   },
   {
    "duration": 5,
    "start_time": "2021-09-11T16:26:11.185Z"
   },
   {
    "duration": 4,
    "start_time": "2021-09-11T17:17:36.847Z"
   },
   {
    "duration": 5,
    "start_time": "2021-09-11T17:18:12.614Z"
   },
   {
    "duration": 6,
    "start_time": "2021-09-11T17:18:52.647Z"
   },
   {
    "duration": 6,
    "start_time": "2021-09-11T17:22:05.021Z"
   },
   {
    "duration": 7,
    "start_time": "2021-09-11T17:22:30.873Z"
   },
   {
    "duration": 847,
    "start_time": "2021-09-11T17:24:12.361Z"
   },
   {
    "duration": 13,
    "start_time": "2021-09-11T17:24:13.210Z"
   },
   {
    "duration": 93,
    "start_time": "2021-09-11T17:24:13.226Z"
   },
   {
    "duration": 25,
    "start_time": "2021-09-11T17:24:13.321Z"
   },
   {
    "duration": 24,
    "start_time": "2021-09-11T17:24:13.348Z"
   },
   {
    "duration": 18,
    "start_time": "2021-09-11T17:24:13.374Z"
   },
   {
    "duration": 19,
    "start_time": "2021-09-11T17:24:13.395Z"
   },
   {
    "duration": 14,
    "start_time": "2021-09-11T17:24:13.417Z"
   },
   {
    "duration": 707,
    "start_time": "2021-09-11T17:24:13.433Z"
   },
   {
    "duration": 23,
    "start_time": "2021-09-11T17:24:14.141Z"
   },
   {
    "duration": 40,
    "start_time": "2021-09-11T17:24:14.166Z"
   },
   {
    "duration": 32,
    "start_time": "2021-09-11T17:24:14.208Z"
   },
   {
    "duration": 3,
    "start_time": "2021-09-11T17:24:14.242Z"
   },
   {
    "duration": 560,
    "start_time": "2021-09-11T17:24:14.246Z"
   },
   {
    "duration": 9204,
    "start_time": "2021-09-11T17:24:14.807Z"
   },
   {
    "duration": 17,
    "start_time": "2021-09-11T17:24:24.013Z"
   },
   {
    "duration": 781,
    "start_time": "2021-09-11T17:24:24.032Z"
   },
   {
    "duration": 491,
    "start_time": "2021-09-11T17:24:24.815Z"
   },
   {
    "duration": 35,
    "start_time": "2021-09-11T17:24:25.308Z"
   },
   {
    "duration": 197,
    "start_time": "2021-09-11T17:24:25.345Z"
   },
   {
    "duration": 6,
    "start_time": "2021-09-11T17:24:25.543Z"
   },
   {
    "duration": 600,
    "start_time": "2021-09-11T17:24:25.551Z"
   },
   {
    "duration": 5,
    "start_time": "2021-09-11T17:24:26.156Z"
   },
   {
    "duration": 7,
    "start_time": "2021-09-11T17:24:26.163Z"
   },
   {
    "duration": 23,
    "start_time": "2021-09-11T17:24:26.172Z"
   },
   {
    "duration": 7,
    "start_time": "2021-09-11T17:24:26.197Z"
   },
   {
    "duration": 10,
    "start_time": "2021-09-11T17:24:26.206Z"
   },
   {
    "duration": 6,
    "start_time": "2021-09-11T17:24:26.217Z"
   },
   {
    "duration": 12,
    "start_time": "2021-09-11T17:24:26.225Z"
   },
   {
    "duration": 21,
    "start_time": "2021-09-11T17:24:26.239Z"
   },
   {
    "duration": 74,
    "start_time": "2021-09-11T17:24:26.262Z"
   },
   {
    "duration": 61,
    "start_time": "2021-09-11T17:24:26.338Z"
   },
   {
    "duration": 23,
    "start_time": "2021-09-11T17:24:26.400Z"
   },
   {
    "duration": 413,
    "start_time": "2021-09-11T17:24:26.424Z"
   },
   {
    "duration": 266,
    "start_time": "2021-09-11T17:24:26.839Z"
   },
   {
    "duration": 9,
    "start_time": "2021-09-11T17:24:27.107Z"
   },
   {
    "duration": 306,
    "start_time": "2021-09-11T17:27:28.759Z"
   },
   {
    "duration": 9,
    "start_time": "2021-09-11T17:28:48.133Z"
   },
   {
    "duration": 2741,
    "start_time": "2021-09-11T18:21:32.235Z"
   },
   {
    "duration": 297,
    "start_time": "2021-09-11T18:21:45.788Z"
   },
   {
    "duration": 769,
    "start_time": "2021-09-11T18:23:03.513Z"
   },
   {
    "duration": 9263,
    "start_time": "2021-09-11T18:23:24.705Z"
   },
   {
    "duration": 525,
    "start_time": "2021-09-11T18:38:12.328Z"
   },
   {
    "duration": 4,
    "start_time": "2021-09-11T18:38:29.092Z"
   },
   {
    "duration": 277,
    "start_time": "2021-09-11T18:39:21.477Z"
   },
   {
    "duration": 261,
    "start_time": "2021-09-11T18:39:36.324Z"
   },
   {
    "duration": 664,
    "start_time": "2021-09-11T18:49:37.649Z"
   },
   {
    "duration": 274,
    "start_time": "2021-09-11T18:49:44.585Z"
   },
   {
    "duration": 248,
    "start_time": "2021-09-11T18:49:55.008Z"
   },
   {
    "duration": 251,
    "start_time": "2021-09-11T18:51:34.471Z"
   },
   {
    "duration": 368,
    "start_time": "2021-09-11T18:51:52.705Z"
   },
   {
    "duration": 241,
    "start_time": "2021-09-11T18:54:58.069Z"
   },
   {
    "duration": 24,
    "start_time": "2021-09-11T18:55:48.127Z"
   },
   {
    "duration": 22,
    "start_time": "2021-09-11T18:56:13.825Z"
   },
   {
    "duration": 78,
    "start_time": "2021-09-11T18:57:32.149Z"
   },
   {
    "duration": 22,
    "start_time": "2021-09-11T18:58:02.648Z"
   },
   {
    "duration": 39,
    "start_time": "2021-09-11T19:00:05.021Z"
   },
   {
    "duration": 69,
    "start_time": "2021-09-11T19:00:22.310Z"
   },
   {
    "duration": 43,
    "start_time": "2021-09-11T19:12:58.653Z"
   },
   {
    "duration": 42,
    "start_time": "2021-09-11T19:20:39.797Z"
   },
   {
    "duration": 27,
    "start_time": "2021-09-11T19:23:37.698Z"
   },
   {
    "duration": 76,
    "start_time": "2021-09-11T19:23:56.517Z"
   },
   {
    "duration": 29,
    "start_time": "2021-09-11T19:24:26.326Z"
   },
   {
    "duration": 22,
    "start_time": "2021-09-11T19:24:38.151Z"
   },
   {
    "duration": 77,
    "start_time": "2021-09-11T19:25:48.945Z"
   },
   {
    "duration": 52,
    "start_time": "2021-09-11T19:31:48.974Z"
   },
   {
    "duration": 10,
    "start_time": "2021-09-11T19:53:41.719Z"
   },
   {
    "duration": 10,
    "start_time": "2021-09-11T19:53:58.755Z"
   },
   {
    "duration": 11,
    "start_time": "2021-09-11T19:54:30.578Z"
   },
   {
    "duration": 13,
    "start_time": "2021-09-11T19:54:41.320Z"
   },
   {
    "duration": 10,
    "start_time": "2021-09-11T19:56:16.023Z"
   },
   {
    "duration": 16,
    "start_time": "2021-09-11T19:59:07.120Z"
   },
   {
    "duration": 9,
    "start_time": "2021-09-11T19:59:53.800Z"
   },
   {
    "duration": 10,
    "start_time": "2021-09-11T20:00:21.937Z"
   },
   {
    "duration": 14,
    "start_time": "2021-09-11T20:03:59.565Z"
   },
   {
    "duration": 18,
    "start_time": "2021-09-11T20:10:23.455Z"
   },
   {
    "duration": 19,
    "start_time": "2021-09-11T20:13:18.602Z"
   },
   {
    "duration": 41,
    "start_time": "2021-09-11T20:14:01.877Z"
   },
   {
    "duration": 52,
    "start_time": "2021-09-11T20:18:42.184Z"
   },
   {
    "duration": 778,
    "start_time": "2021-09-11T20:23:05.950Z"
   },
   {
    "duration": 11,
    "start_time": "2021-09-11T20:23:06.730Z"
   },
   {
    "duration": 87,
    "start_time": "2021-09-11T20:23:06.743Z"
   },
   {
    "duration": 21,
    "start_time": "2021-09-11T20:23:06.832Z"
   },
   {
    "duration": 19,
    "start_time": "2021-09-11T20:23:06.854Z"
   },
   {
    "duration": 19,
    "start_time": "2021-09-11T20:23:06.875Z"
   },
   {
    "duration": 10,
    "start_time": "2021-09-11T20:23:06.895Z"
   },
   {
    "duration": 18,
    "start_time": "2021-09-11T20:23:06.907Z"
   },
   {
    "duration": 737,
    "start_time": "2021-09-11T20:23:06.927Z"
   },
   {
    "duration": 27,
    "start_time": "2021-09-11T20:23:07.666Z"
   },
   {
    "duration": 24,
    "start_time": "2021-09-11T20:23:07.695Z"
   },
   {
    "duration": 32,
    "start_time": "2021-09-11T20:23:07.720Z"
   },
   {
    "duration": 3,
    "start_time": "2021-09-11T20:23:07.754Z"
   },
   {
    "duration": 577,
    "start_time": "2021-09-11T20:23:07.759Z"
   },
   {
    "duration": 9354,
    "start_time": "2021-09-11T20:23:08.338Z"
   },
   {
    "duration": 25,
    "start_time": "2021-09-11T20:23:17.693Z"
   },
   {
    "duration": 829,
    "start_time": "2021-09-11T20:23:17.720Z"
   },
   {
    "duration": 527,
    "start_time": "2021-09-11T20:23:18.551Z"
   },
   {
    "duration": 40,
    "start_time": "2021-09-11T20:23:19.079Z"
   },
   {
    "duration": 311,
    "start_time": "2021-09-11T20:23:19.121Z"
   },
   {
    "duration": 10,
    "start_time": "2021-09-11T20:23:19.434Z"
   },
   {
    "duration": 75,
    "start_time": "2021-09-11T20:23:19.445Z"
   },
   {
    "duration": 10,
    "start_time": "2021-09-11T20:23:19.523Z"
   },
   {
    "duration": 27,
    "start_time": "2021-09-11T20:23:19.535Z"
   },
   {
    "duration": 14,
    "start_time": "2021-09-11T20:23:19.564Z"
   },
   {
    "duration": 28,
    "start_time": "2021-09-11T20:23:19.588Z"
   },
   {
    "duration": 63,
    "start_time": "2021-09-11T20:23:19.617Z"
   },
   {
    "duration": 24,
    "start_time": "2021-09-11T20:23:19.682Z"
   },
   {
    "duration": 486,
    "start_time": "2021-09-11T20:23:19.708Z"
   },
   {
    "duration": 271,
    "start_time": "2021-09-11T20:23:20.196Z"
   },
   {
    "duration": 8,
    "start_time": "2021-09-11T20:23:20.469Z"
   },
   {
    "duration": 65,
    "start_time": "2021-09-11T20:33:18.746Z"
   },
   {
    "duration": 10,
    "start_time": "2021-09-11T20:33:47.611Z"
   },
   {
    "duration": 11,
    "start_time": "2021-09-11T20:39:25.456Z"
   },
   {
    "duration": 3653,
    "start_time": "2021-09-11T20:39:46.519Z"
   },
   {
    "duration": 11,
    "start_time": "2021-09-11T20:40:14.737Z"
   },
   {
    "duration": 2513,
    "start_time": "2021-09-11T20:40:15.816Z"
   },
   {
    "duration": 784,
    "start_time": "2021-09-11T20:42:37.735Z"
   },
   {
    "duration": 1036,
    "start_time": "2021-09-11T20:42:47.241Z"
   },
   {
    "duration": 926,
    "start_time": "2021-09-11T20:43:28.311Z"
   },
   {
    "duration": 1078,
    "start_time": "2021-09-11T20:43:49.454Z"
   },
   {
    "duration": 2187,
    "start_time": "2021-09-11T20:44:01.291Z"
   },
   {
    "duration": 331,
    "start_time": "2021-09-11T20:44:17.992Z"
   },
   {
    "duration": 2271,
    "start_time": "2021-09-11T20:44:26.638Z"
   },
   {
    "duration": 2314,
    "start_time": "2021-09-11T20:44:56.850Z"
   },
   {
    "duration": 420,
    "start_time": "2021-09-11T20:45:13.313Z"
   },
   {
    "duration": 562,
    "start_time": "2021-09-11T20:46:28.255Z"
   },
   {
    "duration": 338,
    "start_time": "2021-09-11T20:46:39.363Z"
   },
   {
    "duration": 514,
    "start_time": "2021-09-11T20:48:00.123Z"
   },
   {
    "duration": 341,
    "start_time": "2021-09-11T20:48:13.271Z"
   },
   {
    "duration": 441,
    "start_time": "2021-09-11T20:49:08.725Z"
   },
   {
    "duration": 520,
    "start_time": "2021-09-11T20:50:15.971Z"
   },
   {
    "duration": 416,
    "start_time": "2021-09-11T20:50:25.128Z"
   },
   {
    "duration": 406,
    "start_time": "2021-09-11T20:50:41.358Z"
   },
   {
    "duration": 406,
    "start_time": "2021-09-11T20:51:43.988Z"
   },
   {
    "duration": 442,
    "start_time": "2021-09-11T20:51:44.745Z"
   },
   {
    "duration": 328,
    "start_time": "2021-09-11T20:52:03.444Z"
   },
   {
    "duration": 263,
    "start_time": "2021-09-11T20:54:37.624Z"
   },
   {
    "duration": 278,
    "start_time": "2021-09-11T20:54:47.017Z"
   },
   {
    "duration": 7,
    "start_time": "2021-09-11T21:01:28.783Z"
   },
   {
    "duration": 9,
    "start_time": "2021-09-11T21:01:59.205Z"
   },
   {
    "duration": 9,
    "start_time": "2021-09-11T21:02:12.786Z"
   },
   {
    "duration": 84,
    "start_time": "2021-09-12T07:01:09.675Z"
   },
   {
    "duration": 81,
    "start_time": "2021-09-12T07:08:18.276Z"
   },
   {
    "duration": 22,
    "start_time": "2021-09-12T07:10:42.130Z"
   },
   {
    "duration": 21,
    "start_time": "2021-09-12T07:11:33.921Z"
   },
   {
    "duration": 22,
    "start_time": "2021-09-12T07:11:43.393Z"
   },
   {
    "duration": 19,
    "start_time": "2021-09-12T07:34:17.596Z"
   },
   {
    "duration": 13,
    "start_time": "2021-09-12T07:35:18.044Z"
   },
   {
    "duration": 16,
    "start_time": "2021-09-12T07:35:51.321Z"
   },
   {
    "duration": 17,
    "start_time": "2021-09-12T07:37:43.094Z"
   },
   {
    "duration": 33,
    "start_time": "2021-09-12T07:41:02.411Z"
   },
   {
    "duration": 16,
    "start_time": "2021-09-12T07:41:46.333Z"
   },
   {
    "duration": 607,
    "start_time": "2021-09-12T07:41:58.447Z"
   },
   {
    "duration": 241,
    "start_time": "2021-09-12T07:41:59.056Z"
   },
   {
    "duration": 12,
    "start_time": "2021-09-12T07:41:59.300Z"
   },
   {
    "duration": 87,
    "start_time": "2021-09-12T07:41:59.314Z"
   },
   {
    "duration": 22,
    "start_time": "2021-09-12T07:41:59.403Z"
   },
   {
    "duration": 23,
    "start_time": "2021-09-12T07:41:59.427Z"
   },
   {
    "duration": 20,
    "start_time": "2021-09-12T07:41:59.451Z"
   },
   {
    "duration": 6,
    "start_time": "2021-09-12T07:41:59.493Z"
   },
   {
    "duration": 12,
    "start_time": "2021-09-12T07:41:59.500Z"
   },
   {
    "duration": 10,
    "start_time": "2021-09-12T07:41:59.513Z"
   },
   {
    "duration": 32,
    "start_time": "2021-09-12T07:41:59.524Z"
   },
   {
    "duration": 343,
    "start_time": "2021-09-12T07:41:59.558Z"
   },
   {
    "duration": -16280,
    "start_time": "2021-09-12T07:42:16.183Z"
   },
   {
    "duration": -16300,
    "start_time": "2021-09-12T07:42:16.204Z"
   },
   {
    "duration": -16315,
    "start_time": "2021-09-12T07:42:16.220Z"
   },
   {
    "duration": -16450,
    "start_time": "2021-09-12T07:42:16.356Z"
   },
   {
    "duration": -16480,
    "start_time": "2021-09-12T07:42:16.387Z"
   },
   {
    "duration": -16501,
    "start_time": "2021-09-12T07:42:16.409Z"
   },
   {
    "duration": -16531,
    "start_time": "2021-09-12T07:42:16.440Z"
   },
   {
    "duration": -16629,
    "start_time": "2021-09-12T07:42:16.539Z"
   },
   {
    "duration": -16689,
    "start_time": "2021-09-12T07:42:16.600Z"
   },
   {
    "duration": -16751,
    "start_time": "2021-09-12T07:42:16.663Z"
   },
   {
    "duration": -16767,
    "start_time": "2021-09-12T07:42:16.680Z"
   },
   {
    "duration": -16783,
    "start_time": "2021-09-12T07:42:16.697Z"
   },
   {
    "duration": -16808,
    "start_time": "2021-09-12T07:42:16.723Z"
   },
   {
    "duration": -16844,
    "start_time": "2021-09-12T07:42:16.760Z"
   },
   {
    "duration": -16898,
    "start_time": "2021-09-12T07:42:16.815Z"
   },
   {
    "duration": -16940,
    "start_time": "2021-09-12T07:42:16.858Z"
   },
   {
    "duration": -16980,
    "start_time": "2021-09-12T07:42:16.899Z"
   },
   {
    "duration": -17054,
    "start_time": "2021-09-12T07:42:16.974Z"
   },
   {
    "duration": -17079,
    "start_time": "2021-09-12T07:42:16.999Z"
   },
   {
    "duration": -17099,
    "start_time": "2021-09-12T07:42:17.020Z"
   },
   {
    "duration": -17118,
    "start_time": "2021-09-12T07:42:17.040Z"
   },
   {
    "duration": -17147,
    "start_time": "2021-09-12T07:42:17.070Z"
   },
   {
    "duration": -17220,
    "start_time": "2021-09-12T07:42:17.144Z"
   },
   {
    "duration": -17249,
    "start_time": "2021-09-12T07:42:17.174Z"
   },
   {
    "duration": -17273,
    "start_time": "2021-09-12T07:42:17.199Z"
   },
   {
    "duration": -17298,
    "start_time": "2021-09-12T07:42:17.225Z"
   },
   {
    "duration": -17355,
    "start_time": "2021-09-12T07:42:17.283Z"
   },
   {
    "duration": -17378,
    "start_time": "2021-09-12T07:42:17.307Z"
   },
   {
    "duration": -17401,
    "start_time": "2021-09-12T07:42:17.331Z"
   },
   {
    "duration": 693,
    "start_time": "2021-09-12T07:44:57.114Z"
   },
   {
    "duration": 249,
    "start_time": "2021-09-12T07:44:57.808Z"
   },
   {
    "duration": 11,
    "start_time": "2021-09-12T07:44:58.058Z"
   },
   {
    "duration": 107,
    "start_time": "2021-09-12T07:44:58.071Z"
   },
   {
    "duration": 35,
    "start_time": "2021-09-12T07:44:58.180Z"
   },
   {
    "duration": 20,
    "start_time": "2021-09-12T07:44:58.216Z"
   },
   {
    "duration": 20,
    "start_time": "2021-09-12T07:44:58.238Z"
   },
   {
    "duration": 12,
    "start_time": "2021-09-12T07:44:58.260Z"
   },
   {
    "duration": 9,
    "start_time": "2021-09-12T07:44:58.292Z"
   },
   {
    "duration": 12,
    "start_time": "2021-09-12T07:44:58.302Z"
   },
   {
    "duration": 717,
    "start_time": "2021-09-12T07:44:58.316Z"
   },
   {
    "duration": 18,
    "start_time": "2021-09-12T07:44:59.034Z"
   },
   {
    "duration": 46,
    "start_time": "2021-09-12T07:44:59.054Z"
   },
   {
    "duration": 19,
    "start_time": "2021-09-12T07:44:59.101Z"
   },
   {
    "duration": 35,
    "start_time": "2021-09-12T07:44:59.122Z"
   },
   {
    "duration": 50,
    "start_time": "2021-09-12T07:44:59.159Z"
   },
   {
    "duration": 34,
    "start_time": "2021-09-12T07:44:59.211Z"
   },
   {
    "duration": 3,
    "start_time": "2021-09-12T07:44:59.247Z"
   },
   {
    "duration": 608,
    "start_time": "2021-09-12T07:44:59.252Z"
   },
   {
    "duration": 9237,
    "start_time": "2021-09-12T07:44:59.861Z"
   },
   {
    "duration": 16,
    "start_time": "2021-09-12T07:45:09.100Z"
   },
   {
    "duration": 796,
    "start_time": "2021-09-12T07:45:09.118Z"
   },
   {
    "duration": 505,
    "start_time": "2021-09-12T07:45:09.918Z"
   },
   {
    "duration": 32,
    "start_time": "2021-09-12T07:45:10.425Z"
   },
   {
    "duration": 327,
    "start_time": "2021-09-12T07:45:10.459Z"
   },
   {
    "duration": 8,
    "start_time": "2021-09-12T07:45:10.788Z"
   },
   {
    "duration": 57,
    "start_time": "2021-09-12T07:45:10.798Z"
   },
   {
    "duration": 9,
    "start_time": "2021-09-12T07:45:10.856Z"
   },
   {
    "duration": 31,
    "start_time": "2021-09-12T07:45:10.866Z"
   },
   {
    "duration": 10,
    "start_time": "2021-09-12T07:45:10.898Z"
   },
   {
    "duration": 20,
    "start_time": "2021-09-12T07:45:10.909Z"
   },
   {
    "duration": 62,
    "start_time": "2021-09-12T07:45:10.931Z"
   },
   {
    "duration": 21,
    "start_time": "2021-09-12T07:45:10.995Z"
   },
   {
    "duration": 458,
    "start_time": "2021-09-12T07:45:11.017Z"
   },
   {
    "duration": 360,
    "start_time": "2021-09-12T07:45:11.477Z"
   },
   {
    "duration": 11,
    "start_time": "2021-09-12T07:45:11.839Z"
   },
   {
    "duration": 200,
    "start_time": "2021-09-12T07:45:11.852Z"
   },
   {
    "duration": 284,
    "start_time": "2021-09-12T07:45:12.054Z"
   },
   {
    "duration": 421,
    "start_time": "2021-09-12T07:45:12.340Z"
   },
   {
    "duration": 349,
    "start_time": "2021-09-12T07:45:12.763Z"
   },
   {
    "duration": 9,
    "start_time": "2021-09-12T07:45:13.114Z"
   },
   {
    "duration": 34,
    "start_time": "2021-09-12T07:46:15.278Z"
   },
   {
    "duration": 37,
    "start_time": "2021-09-12T07:46:44.997Z"
   },
   {
    "duration": 35,
    "start_time": "2021-09-12T07:47:06.671Z"
   },
   {
    "duration": 42,
    "start_time": "2021-09-12T07:47:26.587Z"
   },
   {
    "duration": 91,
    "start_time": "2021-09-12T07:54:17.527Z"
   },
   {
    "duration": 141,
    "start_time": "2021-09-12T07:59:05.713Z"
   },
   {
    "duration": 10,
    "start_time": "2021-09-12T07:59:26.683Z"
   },
   {
    "duration": 59,
    "start_time": "2021-09-12T08:01:31.800Z"
   },
   {
    "duration": 670,
    "start_time": "2021-09-12T08:02:35.209Z"
   },
   {
    "duration": 219,
    "start_time": "2021-09-12T08:02:35.880Z"
   },
   {
    "duration": 11,
    "start_time": "2021-09-12T08:02:36.100Z"
   },
   {
    "duration": 64,
    "start_time": "2021-09-12T08:02:36.113Z"
   },
   {
    "duration": 29,
    "start_time": "2021-09-12T08:02:36.179Z"
   },
   {
    "duration": 22,
    "start_time": "2021-09-12T08:02:36.210Z"
   },
   {
    "duration": 23,
    "start_time": "2021-09-12T08:02:36.233Z"
   },
   {
    "duration": 6,
    "start_time": "2021-09-12T08:02:36.259Z"
   },
   {
    "duration": 33,
    "start_time": "2021-09-12T08:02:36.267Z"
   },
   {
    "duration": 12,
    "start_time": "2021-09-12T08:02:36.302Z"
   },
   {
    "duration": 728,
    "start_time": "2021-09-12T08:02:36.315Z"
   },
   {
    "duration": 18,
    "start_time": "2021-09-12T08:02:37.044Z"
   },
   {
    "duration": 45,
    "start_time": "2021-09-12T08:02:37.063Z"
   },
   {
    "duration": 18,
    "start_time": "2021-09-12T08:02:37.109Z"
   },
   {
    "duration": 21,
    "start_time": "2021-09-12T08:02:37.130Z"
   },
   {
    "duration": 53,
    "start_time": "2021-09-12T08:02:37.153Z"
   },
   {
    "duration": 24,
    "start_time": "2021-09-12T08:02:37.208Z"
   },
   {
    "duration": 33,
    "start_time": "2021-09-12T08:02:37.234Z"
   },
   {
    "duration": 24,
    "start_time": "2021-09-12T08:02:37.269Z"
   },
   {
    "duration": 586,
    "start_time": "2021-09-12T08:02:37.295Z"
   },
   {
    "duration": 9225,
    "start_time": "2021-09-12T08:02:37.883Z"
   },
   {
    "duration": 21,
    "start_time": "2021-09-12T08:02:47.109Z"
   },
   {
    "duration": 753,
    "start_time": "2021-09-12T08:02:47.133Z"
   },
   {
    "duration": 489,
    "start_time": "2021-09-12T08:02:47.888Z"
   },
   {
    "duration": 42,
    "start_time": "2021-09-12T08:02:48.379Z"
   },
   {
    "duration": 311,
    "start_time": "2021-09-12T08:02:48.422Z"
   },
   {
    "duration": 8,
    "start_time": "2021-09-12T08:02:48.735Z"
   },
   {
    "duration": 66,
    "start_time": "2021-09-12T08:02:48.744Z"
   },
   {
    "duration": 10,
    "start_time": "2021-09-12T08:02:48.811Z"
   },
   {
    "duration": 17,
    "start_time": "2021-09-12T08:02:48.822Z"
   },
   {
    "duration": 22,
    "start_time": "2021-09-12T08:02:48.840Z"
   },
   {
    "duration": 36,
    "start_time": "2021-09-12T08:02:48.864Z"
   },
   {
    "duration": 45,
    "start_time": "2021-09-12T08:02:48.902Z"
   },
   {
    "duration": 19,
    "start_time": "2021-09-12T08:02:48.949Z"
   },
   {
    "duration": 428,
    "start_time": "2021-09-12T08:02:48.970Z"
   },
   {
    "duration": 340,
    "start_time": "2021-09-12T08:02:49.400Z"
   },
   {
    "duration": 11,
    "start_time": "2021-09-12T08:02:49.742Z"
   },
   {
    "duration": 203,
    "start_time": "2021-09-12T08:02:49.755Z"
   },
   {
    "duration": 277,
    "start_time": "2021-09-12T08:02:49.959Z"
   },
   {
    "duration": 409,
    "start_time": "2021-09-12T08:02:50.238Z"
   },
   {
    "duration": 341,
    "start_time": "2021-09-12T08:02:50.648Z"
   },
   {
    "duration": 9,
    "start_time": "2021-09-12T08:02:50.990Z"
   },
   {
    "duration": 637,
    "start_time": "2021-09-12T08:03:35.332Z"
   },
   {
    "duration": 242,
    "start_time": "2021-09-12T08:03:35.971Z"
   },
   {
    "duration": 11,
    "start_time": "2021-09-12T08:03:36.215Z"
   },
   {
    "duration": 91,
    "start_time": "2021-09-12T08:03:36.227Z"
   },
   {
    "duration": 21,
    "start_time": "2021-09-12T08:03:36.320Z"
   },
   {
    "duration": 40,
    "start_time": "2021-09-12T08:03:36.343Z"
   },
   {
    "duration": 33,
    "start_time": "2021-09-12T08:03:36.385Z"
   },
   {
    "duration": 6,
    "start_time": "2021-09-12T08:03:36.421Z"
   },
   {
    "duration": 28,
    "start_time": "2021-09-12T08:03:36.428Z"
   },
   {
    "duration": 24,
    "start_time": "2021-09-12T08:03:36.458Z"
   },
   {
    "duration": 756,
    "start_time": "2021-09-12T08:03:36.484Z"
   },
   {
    "duration": 18,
    "start_time": "2021-09-12T08:03:37.241Z"
   },
   {
    "duration": 59,
    "start_time": "2021-09-12T08:03:37.261Z"
   },
   {
    "duration": 14,
    "start_time": "2021-09-12T08:03:37.322Z"
   },
   {
    "duration": 18,
    "start_time": "2021-09-12T08:03:37.338Z"
   },
   {
    "duration": 50,
    "start_time": "2021-09-12T08:03:37.358Z"
   },
   {
    "duration": 32,
    "start_time": "2021-09-12T08:03:37.410Z"
   },
   {
    "duration": 68,
    "start_time": "2021-09-12T08:03:37.444Z"
   },
   {
    "duration": 4,
    "start_time": "2021-09-12T08:03:37.514Z"
   },
   {
    "duration": 668,
    "start_time": "2021-09-12T08:03:37.520Z"
   },
   {
    "duration": 9241,
    "start_time": "2021-09-12T08:03:38.191Z"
   },
   {
    "duration": 18,
    "start_time": "2021-09-12T08:03:47.434Z"
   },
   {
    "duration": 766,
    "start_time": "2021-09-12T08:03:47.454Z"
   },
   {
    "duration": 500,
    "start_time": "2021-09-12T08:03:48.222Z"
   },
   {
    "duration": 33,
    "start_time": "2021-09-12T08:03:48.724Z"
   },
   {
    "duration": 324,
    "start_time": "2021-09-12T08:03:48.759Z"
   },
   {
    "duration": 13,
    "start_time": "2021-09-12T08:03:49.084Z"
   },
   {
    "duration": 54,
    "start_time": "2021-09-12T08:03:49.099Z"
   },
   {
    "duration": 10,
    "start_time": "2021-09-12T08:03:49.154Z"
   },
   {
    "duration": 33,
    "start_time": "2021-09-12T08:03:49.166Z"
   },
   {
    "duration": 23,
    "start_time": "2021-09-12T08:03:49.201Z"
   },
   {
    "duration": 18,
    "start_time": "2021-09-12T08:03:49.226Z"
   },
   {
    "duration": 56,
    "start_time": "2021-09-12T08:03:49.246Z"
   },
   {
    "duration": 20,
    "start_time": "2021-09-12T08:03:49.303Z"
   },
   {
    "duration": 419,
    "start_time": "2021-09-12T08:03:49.324Z"
   },
   {
    "duration": 333,
    "start_time": "2021-09-12T08:03:49.745Z"
   },
   {
    "duration": 19,
    "start_time": "2021-09-12T08:03:50.079Z"
   },
   {
    "duration": 203,
    "start_time": "2021-09-12T08:03:50.100Z"
   },
   {
    "duration": 288,
    "start_time": "2021-09-12T08:03:50.305Z"
   },
   {
    "duration": 439,
    "start_time": "2021-09-12T08:03:50.594Z"
   },
   {
    "duration": 357,
    "start_time": "2021-09-12T08:03:51.034Z"
   },
   {
    "duration": 9,
    "start_time": "2021-09-12T08:03:51.393Z"
   },
   {
    "duration": 17,
    "start_time": "2021-09-12T08:11:56.452Z"
   },
   {
    "duration": 4,
    "start_time": "2021-09-12T08:56:07.240Z"
   },
   {
    "duration": 13,
    "start_time": "2021-09-12T08:56:25.739Z"
   },
   {
    "duration": 14,
    "start_time": "2021-09-12T08:57:06.444Z"
   },
   {
    "duration": 677,
    "start_time": "2021-09-12T08:57:14.561Z"
   },
   {
    "duration": 225,
    "start_time": "2021-09-12T08:57:15.240Z"
   },
   {
    "duration": 11,
    "start_time": "2021-09-12T08:57:15.467Z"
   },
   {
    "duration": 75,
    "start_time": "2021-09-12T08:57:15.480Z"
   },
   {
    "duration": 34,
    "start_time": "2021-09-12T08:57:15.557Z"
   },
   {
    "duration": 23,
    "start_time": "2021-09-12T08:57:15.593Z"
   },
   {
    "duration": 21,
    "start_time": "2021-09-12T08:57:15.619Z"
   },
   {
    "duration": 6,
    "start_time": "2021-09-12T08:57:15.642Z"
   },
   {
    "duration": 16,
    "start_time": "2021-09-12T08:57:15.650Z"
   },
   {
    "duration": 32,
    "start_time": "2021-09-12T08:57:15.668Z"
   },
   {
    "duration": 719,
    "start_time": "2021-09-12T08:57:15.701Z"
   },
   {
    "duration": 20,
    "start_time": "2021-09-12T08:57:16.422Z"
   },
   {
    "duration": 11,
    "start_time": "2021-09-12T08:57:16.444Z"
   },
   {
    "duration": 41,
    "start_time": "2021-09-12T08:57:16.456Z"
   },
   {
    "duration": 20,
    "start_time": "2021-09-12T08:57:16.499Z"
   },
   {
    "duration": 28,
    "start_time": "2021-09-12T08:57:16.521Z"
   },
   {
    "duration": 59,
    "start_time": "2021-09-12T08:57:16.551Z"
   },
   {
    "duration": 3,
    "start_time": "2021-09-12T08:57:16.612Z"
   },
   {
    "duration": 711,
    "start_time": "2021-09-12T08:57:16.617Z"
   },
   {
    "duration": 9783,
    "start_time": "2021-09-12T08:57:17.329Z"
   },
   {
    "duration": 20,
    "start_time": "2021-09-12T08:57:27.113Z"
   },
   {
    "duration": 776,
    "start_time": "2021-09-12T08:57:27.135Z"
   },
   {
    "duration": 495,
    "start_time": "2021-09-12T08:57:27.914Z"
   },
   {
    "duration": 32,
    "start_time": "2021-09-12T08:57:28.411Z"
   },
   {
    "duration": 327,
    "start_time": "2021-09-12T08:57:28.445Z"
   },
   {
    "duration": 19,
    "start_time": "2021-09-12T08:57:28.775Z"
   },
   {
    "duration": 56,
    "start_time": "2021-09-12T08:57:28.796Z"
   },
   {
    "duration": 11,
    "start_time": "2021-09-12T08:57:28.853Z"
   },
   {
    "duration": 32,
    "start_time": "2021-09-12T08:57:28.866Z"
   },
   {
    "duration": 10,
    "start_time": "2021-09-12T08:57:28.900Z"
   },
   {
    "duration": 19,
    "start_time": "2021-09-12T08:57:28.912Z"
   },
   {
    "duration": 76,
    "start_time": "2021-09-12T08:57:28.933Z"
   },
   {
    "duration": 22,
    "start_time": "2021-09-12T08:57:29.012Z"
   },
   {
    "duration": 427,
    "start_time": "2021-09-12T08:57:29.036Z"
   },
   {
    "duration": 355,
    "start_time": "2021-09-12T08:57:29.465Z"
   },
   {
    "duration": 11,
    "start_time": "2021-09-12T08:57:29.822Z"
   },
   {
    "duration": 232,
    "start_time": "2021-09-12T08:57:29.835Z"
   },
   {
    "duration": 317,
    "start_time": "2021-09-12T08:57:30.070Z"
   },
   {
    "duration": 459,
    "start_time": "2021-09-12T08:57:30.391Z"
   },
   {
    "duration": 371,
    "start_time": "2021-09-12T08:57:30.852Z"
   },
   {
    "duration": 10,
    "start_time": "2021-09-12T08:57:31.225Z"
   },
   {
    "duration": 16,
    "start_time": "2021-09-12T09:05:55.081Z"
   },
   {
    "duration": 638,
    "start_time": "2021-09-12T09:06:24.715Z"
   },
   {
    "duration": 218,
    "start_time": "2021-09-12T09:06:25.355Z"
   },
   {
    "duration": 10,
    "start_time": "2021-09-12T09:06:25.575Z"
   },
   {
    "duration": 65,
    "start_time": "2021-09-12T09:06:25.587Z"
   },
   {
    "duration": 22,
    "start_time": "2021-09-12T09:06:25.653Z"
   },
   {
    "duration": 34,
    "start_time": "2021-09-12T09:06:25.676Z"
   },
   {
    "duration": 21,
    "start_time": "2021-09-12T09:06:25.712Z"
   },
   {
    "duration": 6,
    "start_time": "2021-09-12T09:06:25.735Z"
   },
   {
    "duration": 12,
    "start_time": "2021-09-12T09:06:25.743Z"
   },
   {
    "duration": 36,
    "start_time": "2021-09-12T09:06:25.757Z"
   },
   {
    "duration": 733,
    "start_time": "2021-09-12T09:06:25.794Z"
   },
   {
    "duration": 20,
    "start_time": "2021-09-12T09:06:26.529Z"
   },
   {
    "duration": 19,
    "start_time": "2021-09-12T09:06:26.551Z"
   },
   {
    "duration": 34,
    "start_time": "2021-09-12T09:06:26.572Z"
   },
   {
    "duration": 26,
    "start_time": "2021-09-12T09:06:26.608Z"
   },
   {
    "duration": 44,
    "start_time": "2021-09-12T09:06:26.635Z"
   },
   {
    "duration": 33,
    "start_time": "2021-09-12T09:06:26.681Z"
   },
   {
    "duration": 3,
    "start_time": "2021-09-12T09:06:26.716Z"
   },
   {
    "duration": 647,
    "start_time": "2021-09-12T09:06:26.721Z"
   },
   {
    "duration": 9160,
    "start_time": "2021-09-12T09:06:27.369Z"
   },
   {
    "duration": 18,
    "start_time": "2021-09-12T09:06:36.531Z"
   },
   {
    "duration": 801,
    "start_time": "2021-09-12T09:06:36.551Z"
   },
   {
    "duration": 498,
    "start_time": "2021-09-12T09:06:37.357Z"
   },
   {
    "duration": 42,
    "start_time": "2021-09-12T09:06:37.858Z"
   },
   {
    "duration": 310,
    "start_time": "2021-09-12T09:06:37.902Z"
   },
   {
    "duration": 9,
    "start_time": "2021-09-12T09:06:38.214Z"
   },
   {
    "duration": 70,
    "start_time": "2021-09-12T09:06:38.224Z"
   },
   {
    "duration": 12,
    "start_time": "2021-09-12T09:06:38.296Z"
   },
   {
    "duration": 10,
    "start_time": "2021-09-12T09:06:38.310Z"
   },
   {
    "duration": 16,
    "start_time": "2021-09-12T09:06:38.322Z"
   },
   {
    "duration": 19,
    "start_time": "2021-09-12T09:06:38.340Z"
   },
   {
    "duration": 73,
    "start_time": "2021-09-12T09:06:38.361Z"
   },
   {
    "duration": 19,
    "start_time": "2021-09-12T09:06:38.436Z"
   },
   {
    "duration": 434,
    "start_time": "2021-09-12T09:06:38.457Z"
   },
   {
    "duration": 349,
    "start_time": "2021-09-12T09:06:38.893Z"
   },
   {
    "duration": 12,
    "start_time": "2021-09-12T09:06:39.244Z"
   },
   {
    "duration": 200,
    "start_time": "2021-09-12T09:06:39.258Z"
   },
   {
    "duration": 289,
    "start_time": "2021-09-12T09:06:39.460Z"
   },
   {
    "duration": 419,
    "start_time": "2021-09-12T09:06:39.751Z"
   },
   {
    "duration": 338,
    "start_time": "2021-09-12T09:06:40.172Z"
   },
   {
    "duration": 9,
    "start_time": "2021-09-12T09:06:40.511Z"
   },
   {
    "duration": 5,
    "start_time": "2021-09-12T09:10:07.378Z"
   },
   {
    "duration": 5,
    "start_time": "2021-09-12T09:11:56.516Z"
   },
   {
    "duration": 5,
    "start_time": "2021-09-12T09:12:06.797Z"
   },
   {
    "duration": 4,
    "start_time": "2021-09-12T09:14:16.851Z"
   },
   {
    "duration": 5,
    "start_time": "2021-09-12T09:14:26.155Z"
   },
   {
    "duration": 678,
    "start_time": "2021-09-12T09:14:56.394Z"
   },
   {
    "duration": 226,
    "start_time": "2021-09-12T09:14:57.074Z"
   },
   {
    "duration": 11,
    "start_time": "2021-09-12T09:14:57.302Z"
   },
   {
    "duration": 79,
    "start_time": "2021-09-12T09:14:57.316Z"
   },
   {
    "duration": 22,
    "start_time": "2021-09-12T09:14:57.397Z"
   },
   {
    "duration": 25,
    "start_time": "2021-09-12T09:14:57.421Z"
   },
   {
    "duration": 48,
    "start_time": "2021-09-12T09:14:57.448Z"
   },
   {
    "duration": 10,
    "start_time": "2021-09-12T09:14:57.499Z"
   },
   {
    "duration": 10,
    "start_time": "2021-09-12T09:14:57.512Z"
   },
   {
    "duration": 11,
    "start_time": "2021-09-12T09:14:57.524Z"
   },
   {
    "duration": 844,
    "start_time": "2021-09-12T09:14:57.537Z"
   },
   {
    "duration": 27,
    "start_time": "2021-09-12T09:14:58.383Z"
   },
   {
    "duration": 311,
    "start_time": "2021-09-12T09:14:58.412Z"
   },
   {
    "duration": -16821,
    "start_time": "2021-09-12T09:15:15.548Z"
   },
   {
    "duration": -16836,
    "start_time": "2021-09-12T09:15:15.564Z"
   },
   {
    "duration": -16869,
    "start_time": "2021-09-12T09:15:15.599Z"
   },
   {
    "duration": -16969,
    "start_time": "2021-09-12T09:15:15.700Z"
   },
   {
    "duration": -16983,
    "start_time": "2021-09-12T09:15:15.716Z"
   },
   {
    "duration": -17008,
    "start_time": "2021-09-12T09:15:15.742Z"
   },
   {
    "duration": -17021,
    "start_time": "2021-09-12T09:15:15.757Z"
   },
   {
    "duration": -17035,
    "start_time": "2021-09-12T09:15:15.772Z"
   },
   {
    "duration": -17081,
    "start_time": "2021-09-12T09:15:15.819Z"
   },
   {
    "duration": -17104,
    "start_time": "2021-09-12T09:15:15.844Z"
   },
   {
    "duration": -17124,
    "start_time": "2021-09-12T09:15:15.865Z"
   },
   {
    "duration": -17137,
    "start_time": "2021-09-12T09:15:15.881Z"
   },
   {
    "duration": -17153,
    "start_time": "2021-09-12T09:15:15.898Z"
   },
   {
    "duration": -17202,
    "start_time": "2021-09-12T09:15:15.948Z"
   },
   {
    "duration": -17220,
    "start_time": "2021-09-12T09:15:15.967Z"
   },
   {
    "duration": -17232,
    "start_time": "2021-09-12T09:15:15.980Z"
   },
   {
    "duration": -17249,
    "start_time": "2021-09-12T09:15:15.999Z"
   },
   {
    "duration": -17263,
    "start_time": "2021-09-12T09:15:16.014Z"
   },
   {
    "duration": -17283,
    "start_time": "2021-09-12T09:15:16.036Z"
   },
   {
    "duration": -17323,
    "start_time": "2021-09-12T09:15:16.077Z"
   },
   {
    "duration": -17371,
    "start_time": "2021-09-12T09:15:16.127Z"
   },
   {
    "duration": -17385,
    "start_time": "2021-09-12T09:15:16.142Z"
   },
   {
    "duration": -17397,
    "start_time": "2021-09-12T09:15:16.156Z"
   },
   {
    "duration": -17442,
    "start_time": "2021-09-12T09:15:16.202Z"
   },
   {
    "duration": -17474,
    "start_time": "2021-09-12T09:15:16.236Z"
   },
   {
    "duration": -17755,
    "start_time": "2021-09-12T09:15:16.518Z"
   },
   {
    "duration": -17819,
    "start_time": "2021-09-12T09:15:16.583Z"
   },
   {
    "duration": -18640,
    "start_time": "2021-09-12T09:15:17.405Z"
   },
   {
    "duration": 843,
    "start_time": "2021-09-12T09:15:54.665Z"
   },
   {
    "duration": 282,
    "start_time": "2021-09-12T09:15:55.509Z"
   },
   {
    "duration": 13,
    "start_time": "2021-09-12T09:15:55.793Z"
   },
   {
    "duration": 74,
    "start_time": "2021-09-12T09:15:55.808Z"
   },
   {
    "duration": 26,
    "start_time": "2021-09-12T09:15:55.884Z"
   },
   {
    "duration": 21,
    "start_time": "2021-09-12T09:15:55.912Z"
   },
   {
    "duration": 22,
    "start_time": "2021-09-12T09:15:55.935Z"
   },
   {
    "duration": 35,
    "start_time": "2021-09-12T09:15:55.961Z"
   },
   {
    "duration": 11,
    "start_time": "2021-09-12T09:15:55.999Z"
   },
   {
    "duration": 14,
    "start_time": "2021-09-12T09:15:56.012Z"
   },
   {
    "duration": 734,
    "start_time": "2021-09-12T09:15:56.027Z"
   },
   {
    "duration": 18,
    "start_time": "2021-09-12T09:15:56.762Z"
   },
   {
    "duration": 20,
    "start_time": "2021-09-12T09:15:56.781Z"
   },
   {
    "duration": 17,
    "start_time": "2021-09-12T09:15:56.803Z"
   },
   {
    "duration": 19,
    "start_time": "2021-09-12T09:15:56.822Z"
   },
   {
    "duration": 49,
    "start_time": "2021-09-12T09:15:56.843Z"
   },
   {
    "duration": 33,
    "start_time": "2021-09-12T09:15:56.894Z"
   },
   {
    "duration": 3,
    "start_time": "2021-09-12T09:15:56.929Z"
   },
   {
    "duration": 614,
    "start_time": "2021-09-12T09:15:56.933Z"
   },
   {
    "duration": 9329,
    "start_time": "2021-09-12T09:15:57.549Z"
   },
   {
    "duration": 21,
    "start_time": "2021-09-12T09:16:06.880Z"
   },
   {
    "duration": 752,
    "start_time": "2021-09-12T09:16:06.902Z"
   },
   {
    "duration": 496,
    "start_time": "2021-09-12T09:16:07.657Z"
   },
   {
    "duration": 42,
    "start_time": "2021-09-12T09:16:08.155Z"
   },
   {
    "duration": 310,
    "start_time": "2021-09-12T09:16:08.198Z"
   },
   {
    "duration": 8,
    "start_time": "2021-09-12T09:16:08.510Z"
   },
   {
    "duration": 53,
    "start_time": "2021-09-12T09:16:08.520Z"
   },
   {
    "duration": 10,
    "start_time": "2021-09-12T09:16:08.591Z"
   },
   {
    "duration": 9,
    "start_time": "2021-09-12T09:16:08.602Z"
   },
   {
    "duration": 8,
    "start_time": "2021-09-12T09:16:08.613Z"
   },
   {
    "duration": 16,
    "start_time": "2021-09-12T09:16:08.623Z"
   },
   {
    "duration": 75,
    "start_time": "2021-09-12T09:16:08.641Z"
   },
   {
    "duration": 21,
    "start_time": "2021-09-12T09:16:08.717Z"
   },
   {
    "duration": 427,
    "start_time": "2021-09-12T09:16:08.739Z"
   },
   {
    "duration": 348,
    "start_time": "2021-09-12T09:16:09.168Z"
   },
   {
    "duration": 14,
    "start_time": "2021-09-12T09:16:09.518Z"
   },
   {
    "duration": 223,
    "start_time": "2021-09-12T09:16:09.534Z"
   },
   {
    "duration": 278,
    "start_time": "2021-09-12T09:16:09.759Z"
   },
   {
    "duration": 415,
    "start_time": "2021-09-12T09:16:10.039Z"
   },
   {
    "duration": 343,
    "start_time": "2021-09-12T09:16:10.456Z"
   },
   {
    "duration": 9,
    "start_time": "2021-09-12T09:16:10.801Z"
   },
   {
    "duration": 4,
    "start_time": "2021-09-12T09:32:15.259Z"
   },
   {
    "duration": 552,
    "start_time": "2021-09-12T09:32:17.863Z"
   },
   {
    "duration": 7,
    "start_time": "2021-09-12T10:28:30.589Z"
   },
   {
    "duration": 5,
    "start_time": "2021-09-12T10:28:40.253Z"
   },
   {
    "duration": 342,
    "start_time": "2021-09-12T10:33:19.754Z"
   },
   {
    "duration": 260,
    "start_time": "2021-09-12T10:33:38.682Z"
   },
   {
    "duration": 5198,
    "start_time": "2021-09-12T10:33:52.610Z"
   },
   {
    "duration": 10037,
    "start_time": "2021-09-12T10:35:01.619Z"
   },
   {
    "duration": 11736,
    "start_time": "2021-09-12T10:36:54.712Z"
   },
   {
    "duration": 10141,
    "start_time": "2021-09-12T10:56:02.125Z"
   },
   {
    "duration": 42,
    "start_time": "2021-09-12T10:57:52.748Z"
   },
   {
    "duration": 690,
    "start_time": "2021-09-12T11:03:47.987Z"
   },
   {
    "duration": 75,
    "start_time": "2021-09-12T11:05:10.043Z"
   },
   {
    "duration": 117,
    "start_time": "2021-09-12T11:05:39.835Z"
   },
   {
    "duration": 6,
    "start_time": "2021-09-12T11:07:00.176Z"
   },
   {
    "duration": 351,
    "start_time": "2021-09-12T11:12:15.274Z"
   },
   {
    "duration": 356,
    "start_time": "2021-09-12T11:15:13.197Z"
   },
   {
    "duration": 370,
    "start_time": "2021-09-12T11:15:48.571Z"
   },
   {
    "duration": 358,
    "start_time": "2021-09-12T11:16:12.564Z"
   },
   {
    "duration": 9,
    "start_time": "2021-09-12T11:23:42.036Z"
   },
   {
    "duration": 11,
    "start_time": "2021-09-12T11:23:55.902Z"
   },
   {
    "duration": 249,
    "start_time": "2021-09-12T11:24:07.314Z"
   },
   {
    "duration": 15,
    "start_time": "2021-09-12T11:24:15.502Z"
   },
   {
    "duration": 10,
    "start_time": "2021-09-12T11:24:57.559Z"
   },
   {
    "duration": 10,
    "start_time": "2021-09-12T11:26:05.168Z"
   },
   {
    "duration": 248,
    "start_time": "2021-09-12T11:27:51.011Z"
   },
   {
    "duration": 248,
    "start_time": "2021-09-12T11:28:04.047Z"
   },
   {
    "duration": 28,
    "start_time": "2021-09-12T11:28:15.356Z"
   },
   {
    "duration": 22,
    "start_time": "2021-09-12T11:28:46.144Z"
   },
   {
    "duration": 28,
    "start_time": "2021-09-12T11:31:50.481Z"
   },
   {
    "duration": 23,
    "start_time": "2021-09-12T11:32:01.983Z"
   },
   {
    "duration": 26,
    "start_time": "2021-09-12T11:34:11.362Z"
   },
   {
    "duration": 23,
    "start_time": "2021-09-12T11:36:34.543Z"
   },
   {
    "duration": 184,
    "start_time": "2021-09-12T11:36:42.658Z"
   },
   {
    "duration": 27,
    "start_time": "2021-09-12T11:37:22.423Z"
   },
   {
    "duration": 352,
    "start_time": "2021-09-12T11:37:30.778Z"
   },
   {
    "duration": 369,
    "start_time": "2021-09-12T11:38:00.847Z"
   },
   {
    "duration": 22,
    "start_time": "2021-09-12T11:39:27.482Z"
   },
   {
    "duration": 21,
    "start_time": "2021-09-12T11:39:37.125Z"
   },
   {
    "duration": 31,
    "start_time": "2021-09-12T11:44:03.045Z"
   },
   {
    "duration": 7119,
    "start_time": "2021-09-12T11:44:10.558Z"
   },
   {
    "duration": 5884,
    "start_time": "2021-09-12T11:44:34.365Z"
   },
   {
    "duration": 3,
    "start_time": "2021-09-12T11:45:03.127Z"
   },
   {
    "duration": 15,
    "start_time": "2021-09-12T11:45:17.588Z"
   },
   {
    "duration": 9,
    "start_time": "2021-09-12T11:45:36.256Z"
   },
   {
    "duration": 32,
    "start_time": "2021-09-12T11:45:46.205Z"
   },
   {
    "duration": 21,
    "start_time": "2021-09-12T11:45:51.702Z"
   },
   {
    "duration": 23,
    "start_time": "2021-09-12T11:46:59.115Z"
   },
   {
    "duration": 10,
    "start_time": "2021-09-12T11:48:57.773Z"
   },
   {
    "duration": 16,
    "start_time": "2021-09-12T11:49:04.146Z"
   },
   {
    "duration": 17,
    "start_time": "2021-09-12T11:49:24.393Z"
   },
   {
    "duration": 14,
    "start_time": "2021-09-12T11:52:05.725Z"
   },
   {
    "duration": 16,
    "start_time": "2021-09-12T11:52:51.793Z"
   },
   {
    "duration": 11,
    "start_time": "2021-09-12T11:53:07.984Z"
   },
   {
    "duration": 12,
    "start_time": "2021-09-12T11:53:17.692Z"
   },
   {
    "duration": 13,
    "start_time": "2021-09-12T11:53:23.807Z"
   },
   {
    "duration": 11,
    "start_time": "2021-09-12T11:54:44.865Z"
   },
   {
    "duration": 33,
    "start_time": "2021-09-12T11:59:06.285Z"
   },
   {
    "duration": 546,
    "start_time": "2021-09-12T12:06:19.513Z"
   },
   {
    "duration": 84,
    "start_time": "2021-09-12T12:06:58.749Z"
   },
   {
    "duration": 695,
    "start_time": "2021-09-12T12:07:23.729Z"
   },
   {
    "duration": 610,
    "start_time": "2021-09-12T12:07:37.442Z"
   },
   {
    "duration": 659,
    "start_time": "2021-09-12T12:08:05.923Z"
   },
   {
    "duration": 522,
    "start_time": "2021-09-12T12:09:13.905Z"
   },
   {
    "duration": 291,
    "start_time": "2021-09-12T12:09:31.307Z"
   },
   {
    "duration": 217,
    "start_time": "2021-09-12T12:12:00.796Z"
   },
   {
    "duration": 213,
    "start_time": "2021-09-12T12:12:12.553Z"
   },
   {
    "duration": 405,
    "start_time": "2021-09-12T12:12:54.219Z"
   },
   {
    "duration": 440,
    "start_time": "2021-09-12T12:13:30.338Z"
   },
   {
    "duration": 366,
    "start_time": "2021-09-12T12:16:27.477Z"
   },
   {
    "duration": 143,
    "start_time": "2021-09-12T12:23:42.191Z"
   },
   {
    "duration": 887,
    "start_time": "2021-09-12T12:25:33.294Z"
   },
   {
    "duration": 256,
    "start_time": "2021-09-12T12:25:34.183Z"
   },
   {
    "duration": 16,
    "start_time": "2021-09-12T12:25:34.442Z"
   },
   {
    "duration": 114,
    "start_time": "2021-09-12T12:25:34.461Z"
   },
   {
    "duration": 40,
    "start_time": "2021-09-12T12:25:34.577Z"
   },
   {
    "duration": 33,
    "start_time": "2021-09-12T12:25:34.619Z"
   },
   {
    "duration": 61,
    "start_time": "2021-09-12T12:25:34.654Z"
   },
   {
    "duration": 9,
    "start_time": "2021-09-12T12:25:34.719Z"
   },
   {
    "duration": 12,
    "start_time": "2021-09-12T12:25:34.731Z"
   },
   {
    "duration": 18,
    "start_time": "2021-09-12T12:25:34.746Z"
   },
   {
    "duration": 1027,
    "start_time": "2021-09-12T12:25:34.766Z"
   },
   {
    "duration": 22,
    "start_time": "2021-09-12T12:25:35.796Z"
   },
   {
    "duration": 19,
    "start_time": "2021-09-12T12:25:35.820Z"
   },
   {
    "duration": 32,
    "start_time": "2021-09-12T12:25:35.841Z"
   },
   {
    "duration": 120,
    "start_time": "2021-09-12T12:25:35.875Z"
   },
   {
    "duration": 27,
    "start_time": "2021-09-12T12:25:35.998Z"
   },
   {
    "duration": 35,
    "start_time": "2021-09-12T12:25:36.027Z"
   },
   {
    "duration": 28,
    "start_time": "2021-09-12T12:25:36.064Z"
   },
   {
    "duration": 987,
    "start_time": "2021-09-12T12:25:36.094Z"
   },
   {
    "duration": 10734,
    "start_time": "2021-09-12T12:25:37.083Z"
   },
   {
    "duration": 18,
    "start_time": "2021-09-12T12:25:47.819Z"
   },
   {
    "duration": 830,
    "start_time": "2021-09-12T12:25:47.839Z"
   },
   {
    "duration": 518,
    "start_time": "2021-09-12T12:25:48.673Z"
   },
   {
    "duration": 36,
    "start_time": "2021-09-12T12:25:49.193Z"
   },
   {
    "duration": 379,
    "start_time": "2021-09-12T12:25:49.231Z"
   },
   {
    "duration": 9,
    "start_time": "2021-09-12T12:25:49.611Z"
   },
   {
    "duration": 22,
    "start_time": "2021-09-12T12:25:49.621Z"
   },
   {
    "duration": 20,
    "start_time": "2021-09-12T12:25:49.645Z"
   },
   {
    "duration": 34,
    "start_time": "2021-09-12T12:25:49.667Z"
   },
   {
    "duration": 57,
    "start_time": "2021-09-12T12:25:49.703Z"
   },
   {
    "duration": 31,
    "start_time": "2021-09-12T12:25:49.762Z"
   },
   {
    "duration": 12,
    "start_time": "2021-09-12T12:25:49.795Z"
   },
   {
    "duration": 10,
    "start_time": "2021-09-12T12:25:49.809Z"
   },
   {
    "duration": 30,
    "start_time": "2021-09-12T12:25:49.820Z"
   },
   {
    "duration": 86,
    "start_time": "2021-09-12T12:25:49.852Z"
   },
   {
    "duration": 20,
    "start_time": "2021-09-12T12:25:49.940Z"
   },
   {
    "duration": 568,
    "start_time": "2021-09-12T12:25:49.961Z"
   },
   {
    "duration": 392,
    "start_time": "2021-09-12T12:25:50.531Z"
   },
   {
    "duration": 11,
    "start_time": "2021-09-12T12:25:50.925Z"
   },
   {
    "duration": 235,
    "start_time": "2021-09-12T12:25:50.938Z"
   },
   {
    "duration": 302,
    "start_time": "2021-09-12T12:25:51.175Z"
   },
   {
    "duration": 453,
    "start_time": "2021-09-12T12:25:51.479Z"
   },
   {
    "duration": 377,
    "start_time": "2021-09-12T12:25:51.934Z"
   },
   {
    "duration": 10,
    "start_time": "2021-09-12T12:25:52.314Z"
   },
   {
    "duration": 19,
    "start_time": "2021-09-12T12:27:26.526Z"
   },
   {
    "duration": 98,
    "start_time": "2021-09-12T12:27:31.629Z"
   },
   {
    "duration": 682,
    "start_time": "2021-09-12T12:27:46.246Z"
   },
   {
    "duration": 228,
    "start_time": "2021-09-12T12:27:46.930Z"
   },
   {
    "duration": 13,
    "start_time": "2021-09-12T12:27:47.160Z"
   },
   {
    "duration": 78,
    "start_time": "2021-09-12T12:27:47.175Z"
   },
   {
    "duration": 36,
    "start_time": "2021-09-12T12:27:47.255Z"
   },
   {
    "duration": 22,
    "start_time": "2021-09-12T12:27:47.293Z"
   },
   {
    "duration": 24,
    "start_time": "2021-09-12T12:27:47.317Z"
   },
   {
    "duration": 9,
    "start_time": "2021-09-12T12:27:47.344Z"
   },
   {
    "duration": 49,
    "start_time": "2021-09-12T12:27:47.356Z"
   },
   {
    "duration": 13,
    "start_time": "2021-09-12T12:27:47.407Z"
   },
   {
    "duration": 743,
    "start_time": "2021-09-12T12:27:47.422Z"
   },
   {
    "duration": 29,
    "start_time": "2021-09-12T12:27:48.167Z"
   },
   {
    "duration": 18,
    "start_time": "2021-09-12T12:27:48.198Z"
   },
   {
    "duration": 17,
    "start_time": "2021-09-12T12:27:48.218Z"
   },
   {
    "duration": 89,
    "start_time": "2021-09-12T12:27:48.236Z"
   },
   {
    "duration": 32,
    "start_time": "2021-09-12T12:27:48.327Z"
   },
   {
    "duration": 63,
    "start_time": "2021-09-12T12:27:48.361Z"
   },
   {
    "duration": 4,
    "start_time": "2021-09-12T12:27:48.426Z"
   },
   {
    "duration": 949,
    "start_time": "2021-09-12T12:27:48.432Z"
   },
   {
    "duration": 10647,
    "start_time": "2021-09-12T12:27:49.383Z"
   },
   {
    "duration": 20,
    "start_time": "2021-09-12T12:28:00.032Z"
   },
   {
    "duration": 845,
    "start_time": "2021-09-12T12:28:00.054Z"
   },
   {
    "duration": 546,
    "start_time": "2021-09-12T12:28:00.903Z"
   },
   {
    "duration": 49,
    "start_time": "2021-09-12T12:28:01.452Z"
   },
   {
    "duration": 382,
    "start_time": "2021-09-12T12:28:01.502Z"
   },
   {
    "duration": 14,
    "start_time": "2021-09-12T12:28:01.885Z"
   },
   {
    "duration": 43,
    "start_time": "2021-09-12T12:28:01.900Z"
   },
   {
    "duration": 21,
    "start_time": "2021-09-12T12:28:01.945Z"
   },
   {
    "duration": 29,
    "start_time": "2021-09-12T12:28:01.967Z"
   },
   {
    "duration": 67,
    "start_time": "2021-09-12T12:28:01.998Z"
   },
   {
    "duration": 13,
    "start_time": "2021-09-12T12:28:02.067Z"
   },
   {
    "duration": 10,
    "start_time": "2021-09-12T12:28:02.091Z"
   },
   {
    "duration": 10,
    "start_time": "2021-09-12T12:28:02.103Z"
   },
   {
    "duration": 25,
    "start_time": "2021-09-12T12:28:02.115Z"
   },
   {
    "duration": 85,
    "start_time": "2021-09-12T12:28:02.142Z"
   },
   {
    "duration": 22,
    "start_time": "2021-09-12T12:28:02.229Z"
   },
   {
    "duration": 474,
    "start_time": "2021-09-12T12:28:02.253Z"
   },
   {
    "duration": 579,
    "start_time": "2021-09-12T12:28:02.729Z"
   },
   {
    "duration": 13,
    "start_time": "2021-09-12T12:28:03.311Z"
   },
   {
    "duration": 241,
    "start_time": "2021-09-12T12:28:03.327Z"
   },
   {
    "duration": 310,
    "start_time": "2021-09-12T12:28:03.570Z"
   },
   {
    "duration": 725,
    "start_time": "2021-09-12T12:28:03.883Z"
   },
   {
    "duration": 384,
    "start_time": "2021-09-12T12:28:04.611Z"
   },
   {
    "duration": 9,
    "start_time": "2021-09-12T12:28:04.996Z"
   },
   {
    "duration": 71,
    "start_time": "2021-09-12T12:29:13.279Z"
   },
   {
    "duration": 65,
    "start_time": "2021-09-12T12:29:40.146Z"
   },
   {
    "duration": 76,
    "start_time": "2021-09-12T12:30:25.459Z"
   },
   {
    "duration": 31,
    "start_time": "2021-09-12T12:31:24.111Z"
   },
   {
    "duration": 135,
    "start_time": "2021-09-12T12:31:35.986Z"
   },
   {
    "duration": 73,
    "start_time": "2021-09-12T12:33:26.637Z"
   },
   {
    "duration": 700,
    "start_time": "2021-09-12T12:34:09.176Z"
   },
   {
    "duration": 252,
    "start_time": "2021-09-12T12:34:09.878Z"
   },
   {
    "duration": 12,
    "start_time": "2021-09-12T12:34:10.132Z"
   },
   {
    "duration": 71,
    "start_time": "2021-09-12T12:34:10.145Z"
   },
   {
    "duration": 22,
    "start_time": "2021-09-12T12:34:10.218Z"
   },
   {
    "duration": 27,
    "start_time": "2021-09-12T12:34:10.241Z"
   },
   {
    "duration": 41,
    "start_time": "2021-09-12T12:34:10.270Z"
   },
   {
    "duration": 9,
    "start_time": "2021-09-12T12:34:10.315Z"
   },
   {
    "duration": 10,
    "start_time": "2021-09-12T12:34:10.326Z"
   },
   {
    "duration": 12,
    "start_time": "2021-09-12T12:34:10.337Z"
   },
   {
    "duration": 746,
    "start_time": "2021-09-12T12:34:10.350Z"
   },
   {
    "duration": 22,
    "start_time": "2021-09-12T12:34:11.098Z"
   },
   {
    "duration": 13,
    "start_time": "2021-09-12T12:34:11.122Z"
   },
   {
    "duration": 26,
    "start_time": "2021-09-12T12:34:11.137Z"
   },
   {
    "duration": 108,
    "start_time": "2021-09-12T12:34:11.165Z"
   },
   {
    "duration": 51,
    "start_time": "2021-09-12T12:34:11.275Z"
   },
   {
    "duration": 45,
    "start_time": "2021-09-12T12:34:11.328Z"
   },
   {
    "duration": 17,
    "start_time": "2021-09-12T12:34:11.376Z"
   },
   {
    "duration": 646,
    "start_time": "2021-09-12T12:34:11.395Z"
   },
   {
    "duration": 9664,
    "start_time": "2021-09-12T12:34:12.043Z"
   },
   {
    "duration": 19,
    "start_time": "2021-09-12T12:34:21.709Z"
   },
   {
    "duration": 807,
    "start_time": "2021-09-12T12:34:21.730Z"
   },
   {
    "duration": 537,
    "start_time": "2021-09-12T12:34:22.539Z"
   },
   {
    "duration": 43,
    "start_time": "2021-09-12T12:34:23.078Z"
   },
   {
    "duration": 353,
    "start_time": "2021-09-12T12:34:23.122Z"
   },
   {
    "duration": 17,
    "start_time": "2021-09-12T12:34:23.476Z"
   },
   {
    "duration": 26,
    "start_time": "2021-09-12T12:34:23.495Z"
   },
   {
    "duration": 18,
    "start_time": "2021-09-12T12:34:23.522Z"
   },
   {
    "duration": 9,
    "start_time": "2021-09-12T12:34:23.542Z"
   },
   {
    "duration": 78,
    "start_time": "2021-09-12T12:34:23.553Z"
   },
   {
    "duration": 10,
    "start_time": "2021-09-12T12:34:23.633Z"
   },
   {
    "duration": 10,
    "start_time": "2021-09-12T12:34:23.645Z"
   },
   {
    "duration": 43,
    "start_time": "2021-09-12T12:34:23.658Z"
   },
   {
    "duration": 25,
    "start_time": "2021-09-12T12:34:23.703Z"
   },
   {
    "duration": 44,
    "start_time": "2021-09-12T12:34:23.730Z"
   },
   {
    "duration": 33,
    "start_time": "2021-09-12T12:34:23.776Z"
   },
   {
    "duration": 463,
    "start_time": "2021-09-12T12:34:23.811Z"
   },
   {
    "duration": 399,
    "start_time": "2021-09-12T12:34:24.275Z"
   },
   {
    "duration": 16,
    "start_time": "2021-09-12T12:34:24.676Z"
   },
   {
    "duration": 247,
    "start_time": "2021-09-12T12:34:24.695Z"
   },
   {
    "duration": 305,
    "start_time": "2021-09-12T12:34:24.944Z"
   },
   {
    "duration": 451,
    "start_time": "2021-09-12T12:34:25.251Z"
   },
   {
    "duration": 383,
    "start_time": "2021-09-12T12:34:25.704Z"
   },
   {
    "duration": 11,
    "start_time": "2021-09-12T12:34:26.091Z"
   },
   {
    "duration": 85,
    "start_time": "2021-09-12T12:36:02.698Z"
   },
   {
    "duration": 90,
    "start_time": "2021-09-12T12:37:18.215Z"
   },
   {
    "duration": 99,
    "start_time": "2021-09-12T12:38:09.529Z"
   },
   {
    "duration": 734,
    "start_time": "2021-09-12T12:38:23.792Z"
   },
   {
    "duration": 234,
    "start_time": "2021-09-12T12:38:24.528Z"
   },
   {
    "duration": 12,
    "start_time": "2021-09-12T12:38:24.764Z"
   },
   {
    "duration": 70,
    "start_time": "2021-09-12T12:38:24.779Z"
   },
   {
    "duration": 24,
    "start_time": "2021-09-12T12:38:24.852Z"
   },
   {
    "duration": 39,
    "start_time": "2021-09-12T12:38:24.879Z"
   },
   {
    "duration": 23,
    "start_time": "2021-09-12T12:38:24.920Z"
   },
   {
    "duration": 6,
    "start_time": "2021-09-12T12:38:24.945Z"
   },
   {
    "duration": 38,
    "start_time": "2021-09-12T12:38:24.953Z"
   },
   {
    "duration": 16,
    "start_time": "2021-09-12T12:38:24.993Z"
   },
   {
    "duration": 746,
    "start_time": "2021-09-12T12:38:25.010Z"
   },
   {
    "duration": 33,
    "start_time": "2021-09-12T12:38:25.758Z"
   },
   {
    "duration": 15,
    "start_time": "2021-09-12T12:38:25.793Z"
   },
   {
    "duration": 26,
    "start_time": "2021-09-12T12:38:25.810Z"
   },
   {
    "duration": 116,
    "start_time": "2021-09-12T12:38:25.838Z"
   },
   {
    "duration": 37,
    "start_time": "2021-09-12T12:38:25.956Z"
   },
   {
    "duration": 36,
    "start_time": "2021-09-12T12:38:25.995Z"
   },
   {
    "duration": 3,
    "start_time": "2021-09-12T12:38:26.033Z"
   },
   {
    "duration": 655,
    "start_time": "2021-09-12T12:38:26.037Z"
   },
   {
    "duration": 9552,
    "start_time": "2021-09-12T12:38:26.694Z"
   },
   {
    "duration": 17,
    "start_time": "2021-09-12T12:38:36.247Z"
   },
   {
    "duration": 793,
    "start_time": "2021-09-12T12:38:36.266Z"
   },
   {
    "duration": 518,
    "start_time": "2021-09-12T12:38:37.063Z"
   },
   {
    "duration": 41,
    "start_time": "2021-09-12T12:38:37.583Z"
   },
   {
    "duration": 362,
    "start_time": "2021-09-12T12:38:37.626Z"
   },
   {
    "duration": 8,
    "start_time": "2021-09-12T12:38:37.991Z"
   },
   {
    "duration": 29,
    "start_time": "2021-09-12T12:38:38.001Z"
   },
   {
    "duration": 19,
    "start_time": "2021-09-12T12:38:38.031Z"
   },
   {
    "duration": 51,
    "start_time": "2021-09-12T12:38:38.052Z"
   },
   {
    "duration": 51,
    "start_time": "2021-09-12T12:38:38.106Z"
   },
   {
    "duration": 10,
    "start_time": "2021-09-12T12:38:38.159Z"
   },
   {
    "duration": 29,
    "start_time": "2021-09-12T12:38:38.171Z"
   },
   {
    "duration": 11,
    "start_time": "2021-09-12T12:38:38.202Z"
   },
   {
    "duration": 34,
    "start_time": "2021-09-12T12:38:38.215Z"
   },
   {
    "duration": 69,
    "start_time": "2021-09-12T12:38:38.251Z"
   },
   {
    "duration": 25,
    "start_time": "2021-09-12T12:38:38.322Z"
   },
   {
    "duration": 461,
    "start_time": "2021-09-12T12:38:38.348Z"
   },
   {
    "duration": 367,
    "start_time": "2021-09-12T12:38:38.811Z"
   },
   {
    "duration": 21,
    "start_time": "2021-09-12T12:38:39.180Z"
   },
   {
    "duration": 221,
    "start_time": "2021-09-12T12:38:39.203Z"
   },
   {
    "duration": 304,
    "start_time": "2021-09-12T12:38:39.425Z"
   },
   {
    "duration": 446,
    "start_time": "2021-09-12T12:38:39.731Z"
   },
   {
    "duration": 373,
    "start_time": "2021-09-12T12:38:40.179Z"
   },
   {
    "duration": 8,
    "start_time": "2021-09-12T12:38:40.554Z"
   },
   {
    "duration": 753,
    "start_time": "2021-09-12T12:39:53.672Z"
   },
   {
    "duration": 243,
    "start_time": "2021-09-12T12:39:54.427Z"
   },
   {
    "duration": 12,
    "start_time": "2021-09-12T12:39:54.672Z"
   },
   {
    "duration": 77,
    "start_time": "2021-09-12T12:39:54.685Z"
   },
   {
    "duration": 32,
    "start_time": "2021-09-12T12:39:54.764Z"
   },
   {
    "duration": 23,
    "start_time": "2021-09-12T12:39:54.798Z"
   },
   {
    "duration": 34,
    "start_time": "2021-09-12T12:39:54.823Z"
   },
   {
    "duration": 7,
    "start_time": "2021-09-12T12:39:54.860Z"
   },
   {
    "duration": 30,
    "start_time": "2021-09-12T12:39:54.869Z"
   },
   {
    "duration": 35,
    "start_time": "2021-09-12T12:39:54.900Z"
   },
   {
    "duration": 755,
    "start_time": "2021-09-12T12:39:54.937Z"
   },
   {
    "duration": 21,
    "start_time": "2021-09-12T12:39:55.693Z"
   },
   {
    "duration": 27,
    "start_time": "2021-09-12T12:39:55.715Z"
   },
   {
    "duration": 52,
    "start_time": "2021-09-12T12:39:55.745Z"
   },
   {
    "duration": 128,
    "start_time": "2021-09-12T12:39:55.800Z"
   },
   {
    "duration": 23,
    "start_time": "2021-09-12T12:39:55.929Z"
   },
   {
    "duration": 50,
    "start_time": "2021-09-12T12:39:55.954Z"
   },
   {
    "duration": 3,
    "start_time": "2021-09-12T12:39:56.006Z"
   },
   {
    "duration": 651,
    "start_time": "2021-09-12T12:39:56.011Z"
   },
   {
    "duration": 10179,
    "start_time": "2021-09-12T12:39:56.664Z"
   },
   {
    "duration": 19,
    "start_time": "2021-09-12T12:40:06.845Z"
   },
   {
    "duration": 898,
    "start_time": "2021-09-12T12:40:06.865Z"
   },
   {
    "duration": 599,
    "start_time": "2021-09-12T12:40:07.766Z"
   },
   {
    "duration": 48,
    "start_time": "2021-09-12T12:40:08.368Z"
   },
   {
    "duration": 358,
    "start_time": "2021-09-12T12:40:08.418Z"
   },
   {
    "duration": 18,
    "start_time": "2021-09-12T12:40:08.778Z"
   },
   {
    "duration": 23,
    "start_time": "2021-09-12T12:40:08.798Z"
   },
   {
    "duration": 21,
    "start_time": "2021-09-12T12:40:08.823Z"
   },
   {
    "duration": 13,
    "start_time": "2021-09-12T12:40:08.846Z"
   },
   {
    "duration": 89,
    "start_time": "2021-09-12T12:40:08.861Z"
   },
   {
    "duration": 10,
    "start_time": "2021-09-12T12:40:08.952Z"
   },
   {
    "duration": 33,
    "start_time": "2021-09-12T12:40:08.964Z"
   },
   {
    "duration": 10,
    "start_time": "2021-09-12T12:40:08.999Z"
   },
   {
    "duration": 30,
    "start_time": "2021-09-12T12:40:09.011Z"
   },
   {
    "duration": 70,
    "start_time": "2021-09-12T12:40:09.043Z"
   },
   {
    "duration": 21,
    "start_time": "2021-09-12T12:40:09.115Z"
   },
   {
    "duration": 486,
    "start_time": "2021-09-12T12:40:09.137Z"
   },
   {
    "duration": 382,
    "start_time": "2021-09-12T12:40:09.625Z"
   },
   {
    "duration": 12,
    "start_time": "2021-09-12T12:40:10.010Z"
   },
   {
    "duration": 227,
    "start_time": "2021-09-12T12:40:10.023Z"
   },
   {
    "duration": 309,
    "start_time": "2021-09-12T12:40:10.253Z"
   },
   {
    "duration": 461,
    "start_time": "2021-09-12T12:40:10.564Z"
   },
   {
    "duration": 398,
    "start_time": "2021-09-12T12:40:11.027Z"
   },
   {
    "duration": 11,
    "start_time": "2021-09-12T12:40:11.427Z"
   },
   {
    "duration": -15635,
    "start_time": "2021-09-12T13:18:49.436Z"
   },
   {
    "duration": 6521,
    "start_time": "2021-09-12T13:18:38.636Z"
   },
   {
    "duration": 6137,
    "start_time": "2021-09-12T13:19:07.421Z"
   },
   {
    "duration": 6589,
    "start_time": "2021-09-12T13:19:30.282Z"
   },
   {
    "duration": 58,
    "start_time": "2021-09-12T13:19:41.410Z"
   },
   {
    "duration": 33,
    "start_time": "2021-09-12T13:20:35.803Z"
   },
   {
    "duration": 31,
    "start_time": "2021-09-12T13:20:44.841Z"
   },
   {
    "duration": 33,
    "start_time": "2021-09-12T13:21:09.549Z"
   },
   {
    "duration": 83,
    "start_time": "2021-09-12T13:33:46.105Z"
   },
   {
    "duration": 75,
    "start_time": "2021-09-12T13:34:47.847Z"
   },
   {
    "duration": 108,
    "start_time": "2021-09-12T13:35:17.465Z"
   },
   {
    "duration": 7830,
    "start_time": "2021-09-12T13:41:11.565Z"
   },
   {
    "duration": 9135,
    "start_time": "2021-09-12T13:41:26.929Z"
   },
   {
    "duration": 6089,
    "start_time": "2021-09-12T13:41:43.471Z"
   },
   {
    "duration": 5964,
    "start_time": "2021-09-12T13:42:06.116Z"
   },
   {
    "duration": 6352,
    "start_time": "2021-09-12T13:42:23.908Z"
   },
   {
    "duration": 7,
    "start_time": "2021-09-12T13:45:05.632Z"
   },
   {
    "duration": 6,
    "start_time": "2021-09-12T13:46:02.185Z"
   },
   {
    "duration": 6,
    "start_time": "2021-09-12T13:47:14.355Z"
   },
   {
    "duration": 6,
    "start_time": "2021-09-12T13:47:25.125Z"
   }
  ],
  "kernelspec": {
   "display_name": "Python 3",
   "language": "python",
   "name": "python3"
  },
  "language_info": {
   "codemirror_mode": {
    "name": "ipython",
    "version": 3
   },
   "file_extension": ".py",
   "mimetype": "text/x-python",
   "name": "python",
   "nbconvert_exporter": "python",
   "pygments_lexer": "ipython3",
   "version": "3.7.6"
  },
  "toc": {
   "base_numbering": 1,
   "nav_menu": {},
   "number_sections": true,
   "sideBar": true,
   "skip_h1_title": true,
   "title_cell": "Содержание",
   "title_sidebar": "Contents",
   "toc_cell": true,
   "toc_position": {},
   "toc_section_display": true,
   "toc_window_display": true
  }
 },
 "nbformat": 4,
 "nbformat_minor": 2
}
