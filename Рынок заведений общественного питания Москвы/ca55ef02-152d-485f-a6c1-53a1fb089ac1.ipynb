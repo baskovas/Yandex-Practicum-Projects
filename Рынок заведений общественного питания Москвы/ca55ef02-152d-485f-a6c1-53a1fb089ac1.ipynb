{
 "cells": [
  {
   "cell_type": "markdown",
   "metadata": {},
   "source": [
    "**Исследование рынка завединий общественного питания в Москве**"
   ]
  },
  {
   "cell_type": "markdown",
   "metadata": {},
   "source": [
    "**Цель исследования:** \n",
    "- исследовать рынок заведений обественного питания.\n",
    "- сделать выводы о том где лучше открывать звадение, какого типа оно должно быть и какое количество мест в нем должно быть."
   ]
  },
  {
   "cell_type": "markdown",
   "metadata": {},
   "source": [
    "Ссылка на презентацию: https://drive.google.com/file/d/1Rt0yWAnWUZXEvLGvknhaDV7y7FagzuVz/view?usp=sharing"
   ]
  },
  {
   "cell_type": "markdown",
   "metadata": {},
   "source": [
    "**Шаг 1. Подготовка данных к анализу.**"
   ]
  },
  {
   "cell_type": "code",
   "execution_count": 1,
   "metadata": {},
   "outputs": [],
   "source": [
    "#!pip install geocoder --user\n",
    "#установка модуля geocoder, закомментировала, чтобы при перезапуске всех ячеек ноутбука, не начиналась установка"
   ]
  },
  {
   "cell_type": "code",
   "execution_count": 2,
   "metadata": {},
   "outputs": [],
   "source": [
    "import pandas as pd\n",
    "import seaborn as sns\n",
    "import matplotlib.pyplot as plt\n",
    "import geocoder\n",
    "import numpy as np\n",
    "#импорт необходимых модулей"
   ]
  },
  {
   "cell_type": "code",
   "execution_count": 3,
   "metadata": {},
   "outputs": [],
   "source": [
    "try:\n",
    "    rest_data = pd.read_csv('rest_data.csv') \n",
    "except:\n",
    "    rest_data = pd.read_csv('/datasets/rest_data.csv')\n",
    "#записываем данные из csv-файла в переменную"
   ]
  },
  {
   "cell_type": "code",
   "execution_count": 4,
   "metadata": {},
   "outputs": [
    {
     "data": {
      "text/html": [
       "<div>\n",
       "<style scoped>\n",
       "    .dataframe tbody tr th:only-of-type {\n",
       "        vertical-align: middle;\n",
       "    }\n",
       "\n",
       "    .dataframe tbody tr th {\n",
       "        vertical-align: top;\n",
       "    }\n",
       "\n",
       "    .dataframe thead th {\n",
       "        text-align: right;\n",
       "    }\n",
       "</style>\n",
       "<table border=\"1\" class=\"dataframe\">\n",
       "  <thead>\n",
       "    <tr style=\"text-align: right;\">\n",
       "      <th></th>\n",
       "      <th>id</th>\n",
       "      <th>object_name</th>\n",
       "      <th>chain</th>\n",
       "      <th>object_type</th>\n",
       "      <th>address</th>\n",
       "      <th>number</th>\n",
       "    </tr>\n",
       "  </thead>\n",
       "  <tbody>\n",
       "    <tr>\n",
       "      <td>0</td>\n",
       "      <td>151635</td>\n",
       "      <td>СМЕТАНА</td>\n",
       "      <td>нет</td>\n",
       "      <td>кафе</td>\n",
       "      <td>город Москва, улица Егора Абакумова, дом 9</td>\n",
       "      <td>48</td>\n",
       "    </tr>\n",
       "    <tr>\n",
       "      <td>1</td>\n",
       "      <td>77874</td>\n",
       "      <td>Родник</td>\n",
       "      <td>нет</td>\n",
       "      <td>кафе</td>\n",
       "      <td>город Москва, улица Талалихина, дом 2/1, корпус 1</td>\n",
       "      <td>35</td>\n",
       "    </tr>\n",
       "    <tr>\n",
       "      <td>2</td>\n",
       "      <td>24309</td>\n",
       "      <td>Кафе «Академия»</td>\n",
       "      <td>нет</td>\n",
       "      <td>кафе</td>\n",
       "      <td>город Москва, Абельмановская улица, дом 6</td>\n",
       "      <td>95</td>\n",
       "    </tr>\n",
       "    <tr>\n",
       "      <td>3</td>\n",
       "      <td>21894</td>\n",
       "      <td>ПИЦЦЕТОРИЯ</td>\n",
       "      <td>да</td>\n",
       "      <td>кафе</td>\n",
       "      <td>город Москва, Абрамцевская улица, дом 1</td>\n",
       "      <td>40</td>\n",
       "    </tr>\n",
       "    <tr>\n",
       "      <td>4</td>\n",
       "      <td>119365</td>\n",
       "      <td>Кафе «Вишневая метель»</td>\n",
       "      <td>нет</td>\n",
       "      <td>кафе</td>\n",
       "      <td>город Москва, Абрамцевская улица, дом 9, корпус 1</td>\n",
       "      <td>50</td>\n",
       "    </tr>\n",
       "  </tbody>\n",
       "</table>\n",
       "</div>"
      ],
      "text/plain": [
       "       id             object_name chain object_type  \\\n",
       "0  151635                 СМЕТАНА   нет        кафе   \n",
       "1   77874                  Родник   нет        кафе   \n",
       "2   24309         Кафе «Академия»   нет        кафе   \n",
       "3   21894              ПИЦЦЕТОРИЯ    да        кафе   \n",
       "4  119365  Кафе «Вишневая метель»   нет        кафе   \n",
       "\n",
       "                                             address  number  \n",
       "0         город Москва, улица Егора Абакумова, дом 9      48  \n",
       "1  город Москва, улица Талалихина, дом 2/1, корпус 1      35  \n",
       "2          город Москва, Абельмановская улица, дом 6      95  \n",
       "3            город Москва, Абрамцевская улица, дом 1      40  \n",
       "4  город Москва, Абрамцевская улица, дом 9, корпус 1      50  "
      ]
     },
     "execution_count": 4,
     "metadata": {},
     "output_type": "execute_result"
    }
   ],
   "source": [
    "rest_data.head() #вывожу первые пять строк в датасете"
   ]
  },
  {
   "cell_type": "code",
   "execution_count": 5,
   "metadata": {},
   "outputs": [
    {
     "name": "stdout",
     "output_type": "stream",
     "text": [
      "<class 'pandas.core.frame.DataFrame'>\n",
      "RangeIndex: 15366 entries, 0 to 15365\n",
      "Data columns (total 6 columns):\n",
      "id             15366 non-null int64\n",
      "object_name    15366 non-null object\n",
      "chain          15366 non-null object\n",
      "object_type    15366 non-null object\n",
      "address        15366 non-null object\n",
      "number         15366 non-null int64\n",
      "dtypes: int64(2), object(4)\n",
      "memory usage: 720.4+ KB\n"
     ]
    }
   ],
   "source": [
    "rest_data.info() #общая информация о датасете"
   ]
  },
  {
   "cell_type": "code",
   "execution_count": 6,
   "metadata": {},
   "outputs": [
    {
     "data": {
      "text/html": [
       "<div>\n",
       "<style scoped>\n",
       "    .dataframe tbody tr th:only-of-type {\n",
       "        vertical-align: middle;\n",
       "    }\n",
       "\n",
       "    .dataframe tbody tr th {\n",
       "        vertical-align: top;\n",
       "    }\n",
       "\n",
       "    .dataframe thead th {\n",
       "        text-align: right;\n",
       "    }\n",
       "</style>\n",
       "<table border=\"1\" class=\"dataframe\">\n",
       "  <thead>\n",
       "    <tr style=\"text-align: right;\">\n",
       "      <th></th>\n",
       "      <th>count</th>\n",
       "      <th>mean</th>\n",
       "      <th>std</th>\n",
       "      <th>min</th>\n",
       "      <th>25%</th>\n",
       "      <th>50%</th>\n",
       "      <th>75%</th>\n",
       "      <th>max</th>\n",
       "    </tr>\n",
       "  </thead>\n",
       "  <tbody>\n",
       "    <tr>\n",
       "      <td>id</td>\n",
       "      <td>15366.0</td>\n",
       "      <td>119720.066901</td>\n",
       "      <td>73036.130732</td>\n",
       "      <td>838.0</td>\n",
       "      <td>28524.0</td>\n",
       "      <td>144974.5</td>\n",
       "      <td>184262.25</td>\n",
       "      <td>223439.0</td>\n",
       "    </tr>\n",
       "    <tr>\n",
       "      <td>number</td>\n",
       "      <td>15366.0</td>\n",
       "      <td>59.547182</td>\n",
       "      <td>74.736833</td>\n",
       "      <td>0.0</td>\n",
       "      <td>12.0</td>\n",
       "      <td>40.0</td>\n",
       "      <td>80.00</td>\n",
       "      <td>1700.0</td>\n",
       "    </tr>\n",
       "  </tbody>\n",
       "</table>\n",
       "</div>"
      ],
      "text/plain": [
       "          count           mean           std    min      25%       50%  \\\n",
       "id      15366.0  119720.066901  73036.130732  838.0  28524.0  144974.5   \n",
       "number  15366.0      59.547182     74.736833    0.0     12.0      40.0   \n",
       "\n",
       "              75%       max  \n",
       "id      184262.25  223439.0  \n",
       "number      80.00    1700.0  "
      ]
     },
     "execution_count": 6,
     "metadata": {},
     "output_type": "execute_result"
    }
   ],
   "source": [
    "rest_data.describe().T #статистика по датасету"
   ]
  },
  {
   "cell_type": "code",
   "execution_count": 7,
   "metadata": {},
   "outputs": [
    {
     "data": {
      "text/plain": [
       "id             0\n",
       "object_name    0\n",
       "chain          0\n",
       "object_type    0\n",
       "address        0\n",
       "number         0\n",
       "dtype: int64"
      ]
     },
     "execution_count": 7,
     "metadata": {},
     "output_type": "execute_result"
    }
   ],
   "source": [
    "rest_data.isna().sum() #количество пропусков в датасете"
   ]
  },
  {
   "cell_type": "code",
   "execution_count": 8,
   "metadata": {},
   "outputs": [
    {
     "data": {
      "text/html": [
       "<div>\n",
       "<style scoped>\n",
       "    .dataframe tbody tr th:only-of-type {\n",
       "        vertical-align: middle;\n",
       "    }\n",
       "\n",
       "    .dataframe tbody tr th {\n",
       "        vertical-align: top;\n",
       "    }\n",
       "\n",
       "    .dataframe thead th {\n",
       "        text-align: right;\n",
       "    }\n",
       "</style>\n",
       "<table border=\"1\" class=\"dataframe\">\n",
       "  <thead>\n",
       "    <tr style=\"text-align: right;\">\n",
       "      <th></th>\n",
       "      <th>id</th>\n",
       "      <th>object_name</th>\n",
       "      <th>chain</th>\n",
       "      <th>object_type</th>\n",
       "      <th>address</th>\n",
       "      <th>number</th>\n",
       "    </tr>\n",
       "  </thead>\n",
       "  <tbody>\n",
       "    <tr>\n",
       "      <td>9576</td>\n",
       "      <td>166112</td>\n",
       "      <td>ресторан «easy food»</td>\n",
       "      <td>нет</td>\n",
       "      <td>ресторан</td>\n",
       "      <td>город Москва, Днепропетровская улица, дом 2</td>\n",
       "      <td>48</td>\n",
       "    </tr>\n",
       "    <tr>\n",
       "      <td>10686</td>\n",
       "      <td>187587</td>\n",
       "      <td>шаурма</td>\n",
       "      <td>нет</td>\n",
       "      <td>закусочная</td>\n",
       "      <td>город Москва, улица Декабристов, дом 15, строе...</td>\n",
       "      <td>0</td>\n",
       "    </tr>\n",
       "    <tr>\n",
       "      <td>6416</td>\n",
       "      <td>70732</td>\n",
       "      <td>кафе «нияма»</td>\n",
       "      <td>да</td>\n",
       "      <td>кафе</td>\n",
       "      <td>город Москва, проспект Вернадского, дом 14А</td>\n",
       "      <td>98</td>\n",
       "    </tr>\n",
       "    <tr>\n",
       "      <td>2866</td>\n",
       "      <td>111851</td>\n",
       "      <td>прайм</td>\n",
       "      <td>да</td>\n",
       "      <td>кафе</td>\n",
       "      <td>город Москва, Цветной бульвар, дом 11, строение 2</td>\n",
       "      <td>47</td>\n",
       "    </tr>\n",
       "    <tr>\n",
       "      <td>7439</td>\n",
       "      <td>130360</td>\n",
       "      <td>диско-бар «гриль холл»</td>\n",
       "      <td>нет</td>\n",
       "      <td>бар</td>\n",
       "      <td>город Москва, Холодильный переулок, дом 3</td>\n",
       "      <td>150</td>\n",
       "    </tr>\n",
       "    <tr>\n",
       "      <td>8172</td>\n",
       "      <td>74898</td>\n",
       "      <td>бар - ресторан новиков</td>\n",
       "      <td>нет</td>\n",
       "      <td>ресторан</td>\n",
       "      <td>город Москва, Тверская улица, дом 3</td>\n",
       "      <td>62</td>\n",
       "    </tr>\n",
       "    <tr>\n",
       "      <td>6743</td>\n",
       "      <td>144527</td>\n",
       "      <td>кафе</td>\n",
       "      <td>нет</td>\n",
       "      <td>кафе</td>\n",
       "      <td>город Москва, Волоколамское шоссе, дом 67, стр...</td>\n",
       "      <td>5</td>\n",
       "    </tr>\n",
       "    <tr>\n",
       "      <td>15135</td>\n",
       "      <td>207743</td>\n",
       "      <td>пицца хат</td>\n",
       "      <td>да</td>\n",
       "      <td>предприятие быстрого обслуживания</td>\n",
       "      <td>город Москва, Митинская улица, дом 51</td>\n",
       "      <td>18</td>\n",
       "    </tr>\n",
       "    <tr>\n",
       "      <td>12739</td>\n",
       "      <td>183863</td>\n",
       "      <td>каменев василий владимирович</td>\n",
       "      <td>нет</td>\n",
       "      <td>предприятие быстрого обслуживания</td>\n",
       "      <td>город Москва, улица Сущёвский Вал, дом 5, стро...</td>\n",
       "      <td>2</td>\n",
       "    </tr>\n",
       "    <tr>\n",
       "      <td>771</td>\n",
       "      <td>154360</td>\n",
       "      <td>шаурма, выпечка</td>\n",
       "      <td>нет</td>\n",
       "      <td>предприятие быстрого обслуживания</td>\n",
       "      <td>город Москва, Новогиреевская улица, дом 20/34,...</td>\n",
       "      <td>0</td>\n",
       "    </tr>\n",
       "    <tr>\n",
       "      <td>11278</td>\n",
       "      <td>27531</td>\n",
       "      <td>гп шбс «люблино» шк. 687</td>\n",
       "      <td>нет</td>\n",
       "      <td>столовая</td>\n",
       "      <td>город Москва, 1-я улица Текстильщиков, дом 16</td>\n",
       "      <td>220</td>\n",
       "    </tr>\n",
       "    <tr>\n",
       "      <td>6203</td>\n",
       "      <td>20508</td>\n",
       "      <td>подмосковный строитель</td>\n",
       "      <td>нет</td>\n",
       "      <td>бар</td>\n",
       "      <td>город Москва, Ратная улица, дом 10А</td>\n",
       "      <td>15</td>\n",
       "    </tr>\n",
       "    <tr>\n",
       "      <td>5016</td>\n",
       "      <td>28268</td>\n",
       "      <td>столовая</td>\n",
       "      <td>нет</td>\n",
       "      <td>столовая</td>\n",
       "      <td>город Москва, улица Лавочкина, дом 19, строение 2</td>\n",
       "      <td>80</td>\n",
       "    </tr>\n",
       "    <tr>\n",
       "      <td>1810</td>\n",
       "      <td>148402</td>\n",
       "      <td>ресторан «хинкали. вино. мимино»</td>\n",
       "      <td>нет</td>\n",
       "      <td>ресторан</td>\n",
       "      <td>город Москва, 1-й Нагатинский проезд, дом 11, ...</td>\n",
       "      <td>40</td>\n",
       "    </tr>\n",
       "    <tr>\n",
       "      <td>6744</td>\n",
       "      <td>27378</td>\n",
       "      <td>гбоу школа №705</td>\n",
       "      <td>нет</td>\n",
       "      <td>столовая</td>\n",
       "      <td>город Москва, Таллинская улица, дом 3, строение 2</td>\n",
       "      <td>246</td>\n",
       "    </tr>\n",
       "    <tr>\n",
       "      <td>9492</td>\n",
       "      <td>164522</td>\n",
       "      <td>mr. burgerovich</td>\n",
       "      <td>нет</td>\n",
       "      <td>предприятие быстрого обслуживания</td>\n",
       "      <td>город Москва, поселение \"Мосрентген\", Калужско...</td>\n",
       "      <td>32</td>\n",
       "    </tr>\n",
       "    <tr>\n",
       "      <td>5287</td>\n",
       "      <td>138207</td>\n",
       "      <td>самарканд</td>\n",
       "      <td>нет</td>\n",
       "      <td>кафе</td>\n",
       "      <td>город Москва, 82-й километр Московской Кольцев...</td>\n",
       "      <td>90</td>\n",
       "    </tr>\n",
       "    <tr>\n",
       "      <td>4899</td>\n",
       "      <td>21080</td>\n",
       "      <td>роддом 17 пищеблок</td>\n",
       "      <td>нет</td>\n",
       "      <td>столовая</td>\n",
       "      <td>город Москва, улица 800-летия Москвы, дом 22</td>\n",
       "      <td>150</td>\n",
       "    </tr>\n",
       "    <tr>\n",
       "      <td>7099</td>\n",
       "      <td>69359</td>\n",
       "      <td>эликсир</td>\n",
       "      <td>нет</td>\n",
       "      <td>столовая</td>\n",
       "      <td>город Москва, Ленинградский проспект, дом 31А,...</td>\n",
       "      <td>300</td>\n",
       "    </tr>\n",
       "    <tr>\n",
       "      <td>11466</td>\n",
       "      <td>182649</td>\n",
       "      <td>кафе «сололаки»</td>\n",
       "      <td>нет</td>\n",
       "      <td>кафе</td>\n",
       "      <td>город Москва, улица Орджоникидзе, дом 11, стро...</td>\n",
       "      <td>30</td>\n",
       "    </tr>\n",
       "  </tbody>\n",
       "</table>\n",
       "</div>"
      ],
      "text/plain": [
       "           id                       object_name chain  \\\n",
       "9576   166112              ресторан «easy food»   нет   \n",
       "10686  187587                            шаурма   нет   \n",
       "6416    70732                      кафе «нияма»    да   \n",
       "2866   111851                             прайм    да   \n",
       "7439   130360            диско-бар «гриль холл»   нет   \n",
       "8172    74898            бар - ресторан новиков   нет   \n",
       "6743   144527                              кафе   нет   \n",
       "15135  207743                         пицца хат    да   \n",
       "12739  183863      каменев василий владимирович   нет   \n",
       "771    154360                   шаурма, выпечка   нет   \n",
       "11278   27531          гп шбс «люблино» шк. 687   нет   \n",
       "6203    20508            подмосковный строитель   нет   \n",
       "5016    28268                          столовая   нет   \n",
       "1810   148402  ресторан «хинкали. вино. мимино»   нет   \n",
       "6744    27378                   гбоу школа №705   нет   \n",
       "9492   164522                   mr. burgerovich   нет   \n",
       "5287   138207                         самарканд   нет   \n",
       "4899    21080                роддом 17 пищеблок   нет   \n",
       "7099    69359                           эликсир   нет   \n",
       "11466  182649                   кафе «сололаки»   нет   \n",
       "\n",
       "                             object_type  \\\n",
       "9576                            ресторан   \n",
       "10686                         закусочная   \n",
       "6416                                кафе   \n",
       "2866                                кафе   \n",
       "7439                                 бар   \n",
       "8172                            ресторан   \n",
       "6743                                кафе   \n",
       "15135  предприятие быстрого обслуживания   \n",
       "12739  предприятие быстрого обслуживания   \n",
       "771    предприятие быстрого обслуживания   \n",
       "11278                           столовая   \n",
       "6203                                 бар   \n",
       "5016                            столовая   \n",
       "1810                            ресторан   \n",
       "6744                            столовая   \n",
       "9492   предприятие быстрого обслуживания   \n",
       "5287                                кафе   \n",
       "4899                            столовая   \n",
       "7099                            столовая   \n",
       "11466                               кафе   \n",
       "\n",
       "                                                 address  number  \n",
       "9576         город Москва, Днепропетровская улица, дом 2      48  \n",
       "10686  город Москва, улица Декабристов, дом 15, строе...       0  \n",
       "6416         город Москва, проспект Вернадского, дом 14А      98  \n",
       "2866   город Москва, Цветной бульвар, дом 11, строение 2      47  \n",
       "7439           город Москва, Холодильный переулок, дом 3     150  \n",
       "8172                 город Москва, Тверская улица, дом 3      62  \n",
       "6743   город Москва, Волоколамское шоссе, дом 67, стр...       5  \n",
       "15135              город Москва, Митинская улица, дом 51      18  \n",
       "12739  город Москва, улица Сущёвский Вал, дом 5, стро...       2  \n",
       "771    город Москва, Новогиреевская улица, дом 20/34,...       0  \n",
       "11278      город Москва, 1-я улица Текстильщиков, дом 16     220  \n",
       "6203                 город Москва, Ратная улица, дом 10А      15  \n",
       "5016   город Москва, улица Лавочкина, дом 19, строение 2      80  \n",
       "1810   город Москва, 1-й Нагатинский проезд, дом 11, ...      40  \n",
       "6744   город Москва, Таллинская улица, дом 3, строение 2     246  \n",
       "9492   город Москва, поселение \"Мосрентген\", Калужско...      32  \n",
       "5287   город Москва, 82-й километр Московской Кольцев...      90  \n",
       "4899        город Москва, улица 800-летия Москвы, дом 22     150  \n",
       "7099   город Москва, Ленинградский проспект, дом 31А,...     300  \n",
       "11466  город Москва, улица Орджоникидзе, дом 11, стро...      30  "
      ]
     },
     "execution_count": 8,
     "metadata": {},
     "output_type": "execute_result"
    }
   ],
   "source": [
    "rest_data['object_name'] = rest_data['object_name'].str.lower() #привожу наименование объектов общественного к нижнему регистру\n",
    "rest_data.sample(20)"
   ]
  },
  {
   "cell_type": "code",
   "execution_count": 9,
   "metadata": {},
   "outputs": [
    {
     "data": {
      "text/plain": [
       "184"
      ]
     },
     "execution_count": 9,
     "metadata": {},
     "output_type": "execute_result"
    }
   ],
   "source": [
    "rest_data[['object_name', 'address', 'object_type']].duplicated().sum() \n",
    "#количество дубликатов в датасете"
   ]
  },
  {
   "cell_type": "code",
   "execution_count": 10,
   "metadata": {},
   "outputs": [
    {
     "data": {
      "text/html": [
       "<div>\n",
       "<style scoped>\n",
       "    .dataframe tbody tr th:only-of-type {\n",
       "        vertical-align: middle;\n",
       "    }\n",
       "\n",
       "    .dataframe tbody tr th {\n",
       "        vertical-align: top;\n",
       "    }\n",
       "\n",
       "    .dataframe thead th {\n",
       "        text-align: right;\n",
       "    }\n",
       "</style>\n",
       "<table border=\"1\" class=\"dataframe\">\n",
       "  <thead>\n",
       "    <tr style=\"text-align: right;\">\n",
       "      <th></th>\n",
       "      <th>id</th>\n",
       "      <th>object_name</th>\n",
       "      <th>chain</th>\n",
       "      <th>object_type</th>\n",
       "      <th>address</th>\n",
       "      <th>number</th>\n",
       "    </tr>\n",
       "  </thead>\n",
       "  <tbody>\n",
       "    <tr>\n",
       "      <td>115</td>\n",
       "      <td>28614</td>\n",
       "      <td>комбинат питания мгту им.н.э.баумана</td>\n",
       "      <td>нет</td>\n",
       "      <td>буфет</td>\n",
       "      <td>город Москва, Бригадирский переулок, дом 3-5</td>\n",
       "      <td>12</td>\n",
       "    </tr>\n",
       "    <tr>\n",
       "      <td>580</td>\n",
       "      <td>149205</td>\n",
       "      <td>общественное питание</td>\n",
       "      <td>нет</td>\n",
       "      <td>кафе</td>\n",
       "      <td>город Москва, Павелецкая площадь, дом 1</td>\n",
       "      <td>35</td>\n",
       "    </tr>\n",
       "    <tr>\n",
       "      <td>581</td>\n",
       "      <td>149131</td>\n",
       "      <td>общественное питание</td>\n",
       "      <td>нет</td>\n",
       "      <td>кафе</td>\n",
       "      <td>город Москва, Павелецкая площадь, дом 1</td>\n",
       "      <td>39</td>\n",
       "    </tr>\n",
       "    <tr>\n",
       "      <td>1409</td>\n",
       "      <td>151267</td>\n",
       "      <td>альфорно</td>\n",
       "      <td>нет</td>\n",
       "      <td>кафе</td>\n",
       "      <td>город Москва, город Зеленоград, корпус 438</td>\n",
       "      <td>45</td>\n",
       "    </tr>\n",
       "    <tr>\n",
       "      <td>2375</td>\n",
       "      <td>28604</td>\n",
       "      <td>комбинат питания мгту им.н.э.баумана</td>\n",
       "      <td>нет</td>\n",
       "      <td>столовая</td>\n",
       "      <td>город Москва, 2-я Бауманская улица, дом 5, стр...</td>\n",
       "      <td>150</td>\n",
       "    </tr>\n",
       "    <tr>\n",
       "      <td>...</td>\n",
       "      <td>...</td>\n",
       "      <td>...</td>\n",
       "      <td>...</td>\n",
       "      <td>...</td>\n",
       "      <td>...</td>\n",
       "      <td>...</td>\n",
       "    </tr>\n",
       "    <tr>\n",
       "      <td>15173</td>\n",
       "      <td>218542</td>\n",
       "      <td>кофе с собой</td>\n",
       "      <td>да</td>\n",
       "      <td>предприятие быстрого обслуживания</td>\n",
       "      <td>город Москва, Алтуфьевское шоссе, дом 70, корп...</td>\n",
       "      <td>0</td>\n",
       "    </tr>\n",
       "    <tr>\n",
       "      <td>15216</td>\n",
       "      <td>214468</td>\n",
       "      <td>макдоналдс</td>\n",
       "      <td>да</td>\n",
       "      <td>предприятие быстрого обслуживания</td>\n",
       "      <td>город Москва, Варшавское шоссе, дом 87Б</td>\n",
       "      <td>0</td>\n",
       "    </tr>\n",
       "    <tr>\n",
       "      <td>15217</td>\n",
       "      <td>214146</td>\n",
       "      <td>макдоналдс</td>\n",
       "      <td>да</td>\n",
       "      <td>предприятие быстрого обслуживания</td>\n",
       "      <td>город Москва, Кировоградская улица, дом 13А</td>\n",
       "      <td>0</td>\n",
       "    </tr>\n",
       "    <tr>\n",
       "      <td>15363</td>\n",
       "      <td>209186</td>\n",
       "      <td>шоколадница</td>\n",
       "      <td>да</td>\n",
       "      <td>кафе</td>\n",
       "      <td>город Москва, улица Земляной Вал, дом 33</td>\n",
       "      <td>20</td>\n",
       "    </tr>\n",
       "    <tr>\n",
       "      <td>15365</td>\n",
       "      <td>222535</td>\n",
       "      <td>шоколадница</td>\n",
       "      <td>да</td>\n",
       "      <td>кафе</td>\n",
       "      <td>город Москва, Ходынский бульвар, дом 4</td>\n",
       "      <td>10</td>\n",
       "    </tr>\n",
       "  </tbody>\n",
       "</table>\n",
       "<p>184 rows × 6 columns</p>\n",
       "</div>"
      ],
      "text/plain": [
       "           id                           object_name chain  \\\n",
       "115     28614  комбинат питания мгту им.н.э.баумана   нет   \n",
       "580    149205                  общественное питание   нет   \n",
       "581    149131                  общественное питание   нет   \n",
       "1409   151267                              альфорно   нет   \n",
       "2375    28604  комбинат питания мгту им.н.э.баумана   нет   \n",
       "...       ...                                   ...   ...   \n",
       "15173  218542                          кофе с собой    да   \n",
       "15216  214468                            макдоналдс    да   \n",
       "15217  214146                            макдоналдс    да   \n",
       "15363  209186                           шоколадница    да   \n",
       "15365  222535                           шоколадница    да   \n",
       "\n",
       "                             object_type  \\\n",
       "115                                буфет   \n",
       "580                                 кафе   \n",
       "581                                 кафе   \n",
       "1409                                кафе   \n",
       "2375                            столовая   \n",
       "...                                  ...   \n",
       "15173  предприятие быстрого обслуживания   \n",
       "15216  предприятие быстрого обслуживания   \n",
       "15217  предприятие быстрого обслуживания   \n",
       "15363                               кафе   \n",
       "15365                               кафе   \n",
       "\n",
       "                                                 address  number  \n",
       "115         город Москва, Бригадирский переулок, дом 3-5      12  \n",
       "580              город Москва, Павелецкая площадь, дом 1      35  \n",
       "581              город Москва, Павелецкая площадь, дом 1      39  \n",
       "1409          город Москва, город Зеленоград, корпус 438      45  \n",
       "2375   город Москва, 2-я Бауманская улица, дом 5, стр...     150  \n",
       "...                                                  ...     ...  \n",
       "15173  город Москва, Алтуфьевское шоссе, дом 70, корп...       0  \n",
       "15216            город Москва, Варшавское шоссе, дом 87Б       0  \n",
       "15217        город Москва, Кировоградская улица, дом 13А       0  \n",
       "15363           город Москва, улица Земляной Вал, дом 33      20  \n",
       "15365             город Москва, Ходынский бульвар, дом 4      10  \n",
       "\n",
       "[184 rows x 6 columns]"
      ]
     },
     "execution_count": 10,
     "metadata": {},
     "output_type": "execute_result"
    }
   ],
   "source": [
    "rest_data[rest_data[['object_name', 'address', 'object_type']].duplicated()] \n",
    "#выгружаю строки дубликаты"
   ]
  },
  {
   "cell_type": "code",
   "execution_count": 11,
   "metadata": {},
   "outputs": [
    {
     "data": {
      "text/plain": [
       "0"
      ]
     },
     "execution_count": 11,
     "metadata": {},
     "output_type": "execute_result"
    }
   ],
   "source": [
    "rest_data = rest_data.drop_duplicates(subset = ['object_name', 'address', 'object_type']) \n",
    "#удаление дубликатов из датасета\n",
    "rest_data[['object_name', 'address', 'object_type']].duplicated().sum()\n",
    "#количество дубликатов в датасете"
   ]
  },
  {
   "cell_type": "code",
   "execution_count": 12,
   "metadata": {},
   "outputs": [
    {
     "data": {
      "text/plain": [
       "array([False,  True])"
      ]
     },
     "execution_count": 12,
     "metadata": {},
     "output_type": "execute_result"
    }
   ],
   "source": [
    "rest_data['chain'] = rest_data['chain'].map({\"да\": True, \"нет\": False})\n",
    "rest_data['chain'].unique()"
   ]
  },
  {
   "cell_type": "code",
   "execution_count": 13,
   "metadata": {},
   "outputs": [
    {
     "data": {
      "text/plain": [
       "0        NaN\n",
       "1        NaN\n",
       "2        NaN\n",
       "3        NaN\n",
       "4        NaN\n",
       "        ... \n",
       "15359    NaN\n",
       "15360    NaN\n",
       "15361    NaN\n",
       "15362    NaN\n",
       "15364    NaN\n",
       "Name: chain, Length: 15182, dtype: object"
      ]
     },
     "execution_count": 13,
     "metadata": {},
     "output_type": "execute_result"
    }
   ],
   "source": [
    "rest_data['chain'].map({\"да\": True, \"нет\": False})"
   ]
  },
  {
   "cell_type": "code",
   "execution_count": 14,
   "metadata": {},
   "outputs": [
    {
     "name": "stdout",
     "output_type": "stream",
     "text": [
      "<class 'pandas.core.frame.DataFrame'>\n",
      "Int64Index: 15182 entries, 0 to 15364\n",
      "Data columns (total 6 columns):\n",
      "id             15182 non-null int64\n",
      "object_name    15182 non-null object\n",
      "chain          15182 non-null bool\n",
      "object_type    15182 non-null object\n",
      "address        15182 non-null object\n",
      "number         15182 non-null int64\n",
      "dtypes: bool(1), int64(2), object(3)\n",
      "memory usage: 726.5+ KB\n"
     ]
    }
   ],
   "source": [
    "rest_data.info() #проверяю изменился ли тип данных в столбце chain"
   ]
  },
  {
   "cell_type": "markdown",
   "metadata": {},
   "source": [
    "**Вывод:**\n",
    "- пропусков в датасете не было обнаружено.\n",
    "- все значения в стобце object_name привела к нижнему регистру, после чего проверила датасет на количество дубликатов. Проверяла дубликаты по столбцам object_name, address и object_type. Было обнаружено и удалено 184 дубликата.\n",
    "- с помощью функции bool_type, все значения \"да\" и \"нет\" в столбце chain были заменены на значения True и False. Тип данных столбца chain изменился с object на bool."
   ]
  },
  {
   "cell_type": "markdown",
   "metadata": {},
   "source": [
    "**Шаг 2. Анализ данных.**"
   ]
  },
  {
   "cell_type": "markdown",
   "metadata": {},
   "source": [
    "**2.1. Расчет соотношений**"
   ]
  },
  {
   "cell_type": "code",
   "execution_count": 15,
   "metadata": {},
   "outputs": [
    {
     "data": {
      "text/html": [
       "<div>\n",
       "<style scoped>\n",
       "    .dataframe tbody tr th:only-of-type {\n",
       "        vertical-align: middle;\n",
       "    }\n",
       "\n",
       "    .dataframe tbody tr th {\n",
       "        vertical-align: top;\n",
       "    }\n",
       "\n",
       "    .dataframe thead th {\n",
       "        text-align: right;\n",
       "    }\n",
       "</style>\n",
       "<table border=\"1\" class=\"dataframe\">\n",
       "  <thead>\n",
       "    <tr style=\"text-align: right;\">\n",
       "      <th></th>\n",
       "      <th>object_type</th>\n",
       "      <th>id</th>\n",
       "      <th>ratio</th>\n",
       "    </tr>\n",
       "  </thead>\n",
       "  <tbody>\n",
       "    <tr>\n",
       "      <td>5</td>\n",
       "      <td>магазин (отдел кулинарии)</td>\n",
       "      <td>272</td>\n",
       "      <td>1.8</td>\n",
       "    </tr>\n",
       "    <tr>\n",
       "      <td>2</td>\n",
       "      <td>закусочная</td>\n",
       "      <td>347</td>\n",
       "      <td>2.3</td>\n",
       "    </tr>\n",
       "    <tr>\n",
       "      <td>4</td>\n",
       "      <td>кафетерий</td>\n",
       "      <td>393</td>\n",
       "      <td>2.6</td>\n",
       "    </tr>\n",
       "    <tr>\n",
       "      <td>1</td>\n",
       "      <td>буфет</td>\n",
       "      <td>570</td>\n",
       "      <td>3.8</td>\n",
       "    </tr>\n",
       "    <tr>\n",
       "      <td>0</td>\n",
       "      <td>бар</td>\n",
       "      <td>853</td>\n",
       "      <td>5.6</td>\n",
       "    </tr>\n",
       "    <tr>\n",
       "      <td>6</td>\n",
       "      <td>предприятие быстрого обслуживания</td>\n",
       "      <td>1890</td>\n",
       "      <td>12.4</td>\n",
       "    </tr>\n",
       "    <tr>\n",
       "      <td>7</td>\n",
       "      <td>ресторан</td>\n",
       "      <td>2274</td>\n",
       "      <td>15.0</td>\n",
       "    </tr>\n",
       "    <tr>\n",
       "      <td>8</td>\n",
       "      <td>столовая</td>\n",
       "      <td>2575</td>\n",
       "      <td>17.0</td>\n",
       "    </tr>\n",
       "    <tr>\n",
       "      <td>3</td>\n",
       "      <td>кафе</td>\n",
       "      <td>6008</td>\n",
       "      <td>39.6</td>\n",
       "    </tr>\n",
       "  </tbody>\n",
       "</table>\n",
       "</div>"
      ],
      "text/plain": [
       "                         object_type    id  ratio\n",
       "5          магазин (отдел кулинарии)   272    1.8\n",
       "2                         закусочная   347    2.3\n",
       "4                          кафетерий   393    2.6\n",
       "1                              буфет   570    3.8\n",
       "0                                бар   853    5.6\n",
       "6  предприятие быстрого обслуживания  1890   12.4\n",
       "7                           ресторан  2274   15.0\n",
       "8                           столовая  2575   17.0\n",
       "3                               кафе  6008   39.6"
      ]
     },
     "execution_count": 15,
     "metadata": {},
     "output_type": "execute_result"
    }
   ],
   "source": [
    "pvt_count = rest_data.pivot_table(index = 'object_type', values = 'id', aggfunc = 'count').reset_index()\n",
    "pvt_count['ratio'] = round(pvt_count['id']/rest_data['id'].count() *100, 1)\n",
    "pvt_count = pvt_count.sort_values(by = 'ratio', ascending = True) \n",
    "pvt_count #сводная таблица о соотношении видов общественного питания \n",
    "#по количеству, в столбце id - количество видов общественного питания, \n",
    "#в столбце ratio - доля каждого вида объекта общественного питания от общего числа"
   ]
  },
  {
   "cell_type": "code",
   "execution_count": 16,
   "metadata": {},
   "outputs": [
    {
     "data": {
      "image/png": "[encoded data removed]",
      "text/plain": [
       "<Figure size 648x504 with 1 Axes>"
      ]
     },
     "metadata": {
      "needs_background": "light"
     },
     "output_type": "display_data"
    }
   ],
   "source": [
    "plt.figure(figsize= (9,7)) #размер графика\n",
    "sns.barplot( x = 'object_type', y = 'ratio', data = pvt_count, color = '#64adde' )\n",
    "#строю круговую диаграмму\n",
    "plt.title('Cоотношение видов объектов общественного питания по количеству')\n",
    "#наименование диаграммы\n",
    "plt.xticks(rotation= 90)\n",
    "plt.show()"
   ]
  },
  {
   "cell_type": "code",
   "execution_count": 17,
   "metadata": {},
   "outputs": [
    {
     "data": {
      "text/html": [
       "<div>\n",
       "<style scoped>\n",
       "    .dataframe tbody tr th:only-of-type {\n",
       "        vertical-align: middle;\n",
       "    }\n",
       "\n",
       "    .dataframe tbody tr th {\n",
       "        vertical-align: top;\n",
       "    }\n",
       "\n",
       "    .dataframe thead th {\n",
       "        text-align: right;\n",
       "    }\n",
       "</style>\n",
       "<table border=\"1\" class=\"dataframe\">\n",
       "  <thead>\n",
       "    <tr style=\"text-align: right;\">\n",
       "      <th></th>\n",
       "      <th>id</th>\n",
       "      <th>ratio</th>\n",
       "    </tr>\n",
       "    <tr>\n",
       "      <th>chain</th>\n",
       "      <th></th>\n",
       "      <th></th>\n",
       "    </tr>\n",
       "  </thead>\n",
       "  <tbody>\n",
       "    <tr>\n",
       "      <td>False</td>\n",
       "      <td>12234</td>\n",
       "      <td>80.6</td>\n",
       "    </tr>\n",
       "    <tr>\n",
       "      <td>True</td>\n",
       "      <td>2948</td>\n",
       "      <td>19.4</td>\n",
       "    </tr>\n",
       "  </tbody>\n",
       "</table>\n",
       "</div>"
      ],
      "text/plain": [
       "          id  ratio\n",
       "chain              \n",
       "False  12234   80.6\n",
       "True    2948   19.4"
      ]
     },
     "execution_count": 17,
     "metadata": {},
     "output_type": "execute_result"
    }
   ],
   "source": [
    "pvt_chain = rest_data.pivot_table(index = 'chain', values = 'id', aggfunc = 'count')\n",
    "pvt_chain['ratio'] = round(pvt_chain['id']/rest_data['id'].count() *100, 1)\n",
    "pvt_chain #сводная таблица о соотношении сетевых и несетевых заведений по количеству, \n",
    "#в столбце id - количество видов общественного питания, \n",
    "#в столбце ratio - доля сетвых и несетевых заведений от общего числа"
   ]
  },
  {
   "cell_type": "code",
   "execution_count": 18,
   "metadata": {},
   "outputs": [
    {
     "data": {
      "image/png": "[encoded data removed]",
      "text/plain": [
       "<Figure size 504x504 with 1 Axes>"
      ]
     },
     "metadata": {},
     "output_type": "display_data"
    }
   ],
   "source": [
    "colors = sns.color_palette('Paired')[0:2]\n",
    "plt.figure(figsize=(7,7)) #размер графика\n",
    "plt.pie(pvt_chain['ratio'], colors = colors, labels = pvt_chain.index, autopct='%1.0f%%')\n",
    "#строю круговую диаграмму\n",
    "plt.title('Соотношение сетевых и несетевых заведений по количеству')\n",
    "#наименование круговой диаграммы\n",
    "plt.show()"
   ]
  },
  {
   "cell_type": "code",
   "execution_count": 19,
   "metadata": {},
   "outputs": [
    {
     "data": {
      "text/html": [
       "<div>\n",
       "<style scoped>\n",
       "    .dataframe tbody tr th:only-of-type {\n",
       "        vertical-align: middle;\n",
       "    }\n",
       "\n",
       "    .dataframe tbody tr th {\n",
       "        vertical-align: top;\n",
       "    }\n",
       "\n",
       "    .dataframe thead th {\n",
       "        text-align: right;\n",
       "    }\n",
       "</style>\n",
       "<table border=\"1\" class=\"dataframe\">\n",
       "  <thead>\n",
       "    <tr style=\"text-align: right;\">\n",
       "      <th></th>\n",
       "      <th>object_type</th>\n",
       "      <th>id</th>\n",
       "      <th>ratio</th>\n",
       "    </tr>\n",
       "  </thead>\n",
       "  <tbody>\n",
       "    <tr>\n",
       "      <td>8</td>\n",
       "      <td>столовая</td>\n",
       "      <td>3</td>\n",
       "      <td>0.1</td>\n",
       "    </tr>\n",
       "    <tr>\n",
       "      <td>1</td>\n",
       "      <td>буфет</td>\n",
       "      <td>11</td>\n",
       "      <td>1.9</td>\n",
       "    </tr>\n",
       "    <tr>\n",
       "      <td>0</td>\n",
       "      <td>бар</td>\n",
       "      <td>37</td>\n",
       "      <td>4.3</td>\n",
       "    </tr>\n",
       "    <tr>\n",
       "      <td>4</td>\n",
       "      <td>кафетерий</td>\n",
       "      <td>51</td>\n",
       "      <td>13.0</td>\n",
       "    </tr>\n",
       "    <tr>\n",
       "      <td>2</td>\n",
       "      <td>закусочная</td>\n",
       "      <td>56</td>\n",
       "      <td>16.1</td>\n",
       "    </tr>\n",
       "    <tr>\n",
       "      <td>3</td>\n",
       "      <td>кафе</td>\n",
       "      <td>1387</td>\n",
       "      <td>23.1</td>\n",
       "    </tr>\n",
       "    <tr>\n",
       "      <td>7</td>\n",
       "      <td>ресторан</td>\n",
       "      <td>541</td>\n",
       "      <td>23.8</td>\n",
       "    </tr>\n",
       "    <tr>\n",
       "      <td>5</td>\n",
       "      <td>магазин (отдел кулинарии)</td>\n",
       "      <td>78</td>\n",
       "      <td>28.7</td>\n",
       "    </tr>\n",
       "    <tr>\n",
       "      <td>6</td>\n",
       "      <td>предприятие быстрого обслуживания</td>\n",
       "      <td>784</td>\n",
       "      <td>41.5</td>\n",
       "    </tr>\n",
       "  </tbody>\n",
       "</table>\n",
       "</div>"
      ],
      "text/plain": [
       "                         object_type    id  ratio\n",
       "8                           столовая     3    0.1\n",
       "1                              буфет    11    1.9\n",
       "0                                бар    37    4.3\n",
       "4                          кафетерий    51   13.0\n",
       "2                         закусочная    56   16.1\n",
       "3                               кафе  1387   23.1\n",
       "7                           ресторан   541   23.8\n",
       "5          магазин (отдел кулинарии)    78   28.7\n",
       "6  предприятие быстрого обслуживания   784   41.5"
      ]
     },
     "execution_count": 19,
     "metadata": {},
     "output_type": "execute_result"
    }
   ],
   "source": [
    "chain_rest = rest_data[rest_data['chain'] == True]\n",
    "pvt_chain_true = chain_rest.pivot_table(index = 'object_type', values = 'id', aggfunc = 'count').reset_index()\n",
    "pvt_chain_true['ratio'] = round(pvt_chain_true['id']/pvt_count['id'] *100, 1)\n",
    "pvt_chain_true = pvt_chain_true.sort_values(by = 'ratio') \n",
    "pvt_chain_true#сводная таблица о соотношении сетевых видов общественного питания по количеству, \n",
    "#в столбце id - количество видов общественного питания, \n",
    "#в столбце ratio - доля каждого вида объекта общественного питания от общего числа"
   ]
  },
  {
   "cell_type": "code",
   "execution_count": 20,
   "metadata": {},
   "outputs": [
    {
     "data": {
      "image/png": "[encoded data removed]",
      "text/plain": [
       "<Figure size 648x504 with 1 Axes>"
      ]
     },
     "metadata": {
      "needs_background": "light"
     },
     "output_type": "display_data"
    }
   ],
   "source": [
    "plt.figure(figsize= (9,7)) #размер графика\n",
    "sns.barplot( x = 'object_type', y = 'ratio', data = pvt_chain_true, color = '#64adde' )\n",
    "#строю круговую диаграмму\n",
    "plt.title('Доля категорий сетевых заведений от общего числа заведений данного типа')\n",
    "#наименование диаграммы\n",
    "plt.xticks(rotation= 90)\n",
    "plt.show()"
   ]
  },
  {
   "cell_type": "markdown",
   "metadata": {},
   "source": [
    "**Вывод:**\n",
    "- Среди всех заведений больше всего распространены заведения типа: кафе, столовая, ресторан.\n",
    "- Сетевых заведений намного меньше, чем несетевых. Несетевых заведений 81%, а сетевых - 19%.\n",
    "- По соотношению сетевых заведений общественного питания ко всем заведениям лидируют заведения типа: предприятие быстрого обслуживания, магазин(отдел кулинарии), ресторан."
   ]
  },
  {
   "cell_type": "markdown",
   "metadata": {},
   "source": [
    "**2.2.Исследование сетевых заведений**"
   ]
  },
  {
   "cell_type": "code",
   "execution_count": 21,
   "metadata": {},
   "outputs": [
    {
     "data": {
      "text/html": [
       "<div>\n",
       "<style scoped>\n",
       "    .dataframe tbody tr th:only-of-type {\n",
       "        vertical-align: middle;\n",
       "    }\n",
       "\n",
       "    .dataframe tbody tr th {\n",
       "        vertical-align: top;\n",
       "    }\n",
       "\n",
       "    .dataframe thead th {\n",
       "        text-align: right;\n",
       "    }\n",
       "</style>\n",
       "<table border=\"1\" class=\"dataframe\">\n",
       "  <thead>\n",
       "    <tr style=\"text-align: right;\">\n",
       "      <th></th>\n",
       "      <th>count_rest</th>\n",
       "      <th>mean_number</th>\n",
       "    </tr>\n",
       "    <tr>\n",
       "      <th>object_name</th>\n",
       "      <th></th>\n",
       "      <th></th>\n",
       "    </tr>\n",
       "  </thead>\n",
       "  <tbody>\n",
       "    <tr>\n",
       "      <td>kfc</td>\n",
       "      <td>155</td>\n",
       "      <td>55.341935</td>\n",
       "    </tr>\n",
       "    <tr>\n",
       "      <td>шоколадница</td>\n",
       "      <td>154</td>\n",
       "      <td>57.844156</td>\n",
       "    </tr>\n",
       "    <tr>\n",
       "      <td>макдоналдс</td>\n",
       "      <td>148</td>\n",
       "      <td>88.378378</td>\n",
       "    </tr>\n",
       "    <tr>\n",
       "      <td>бургер кинг</td>\n",
       "      <td>136</td>\n",
       "      <td>46.889706</td>\n",
       "    </tr>\n",
       "    <tr>\n",
       "      <td>теремок</td>\n",
       "      <td>94</td>\n",
       "      <td>25.606383</td>\n",
       "    </tr>\n",
       "    <tr>\n",
       "      <td>...</td>\n",
       "      <td>...</td>\n",
       "      <td>...</td>\n",
       "    </tr>\n",
       "    <tr>\n",
       "      <td>кафе «торнадо»</td>\n",
       "      <td>1</td>\n",
       "      <td>80.000000</td>\n",
       "    </tr>\n",
       "    <tr>\n",
       "      <td>кафе «тапчан»</td>\n",
       "      <td>1</td>\n",
       "      <td>70.000000</td>\n",
       "    </tr>\n",
       "    <tr>\n",
       "      <td>кафе «тануки»</td>\n",
       "      <td>1</td>\n",
       "      <td>150.000000</td>\n",
       "    </tr>\n",
       "    <tr>\n",
       "      <td>кафе «суши сет»</td>\n",
       "      <td>1</td>\n",
       "      <td>7.000000</td>\n",
       "    </tr>\n",
       "    <tr>\n",
       "      <td>кофе с собой gate 42</td>\n",
       "      <td>1</td>\n",
       "      <td>4.000000</td>\n",
       "    </tr>\n",
       "  </tbody>\n",
       "</table>\n",
       "<p>576 rows × 2 columns</p>\n",
       "</div>"
      ],
      "text/plain": [
       "                      count_rest  mean_number\n",
       "object_name                                  \n",
       "kfc                          155    55.341935\n",
       "шоколадница                  154    57.844156\n",
       "макдоналдс                   148    88.378378\n",
       "бургер кинг                  136    46.889706\n",
       "теремок                       94    25.606383\n",
       "...                          ...          ...\n",
       "кафе «торнадо»                 1    80.000000\n",
       "кафе «тапчан»                  1    70.000000\n",
       "кафе «тануки»                  1   150.000000\n",
       "кафе «суши сет»                1     7.000000\n",
       "кофе с собой gate 42           1     4.000000\n",
       "\n",
       "[576 rows x 2 columns]"
      ]
     },
     "execution_count": 21,
     "metadata": {},
     "output_type": "execute_result"
    }
   ],
   "source": [
    "pvt_chain_number = chain_rest.pivot_table(index = 'object_name', values = 'number', aggfunc = ['count', 'mean'])\n",
    "#сводная таблица о количестве сетевых заведений и среднем количестве посадочных мест в нем\n",
    "pvt_chain_number.columns = ['count_rest', 'mean_number'] #меняю наименование столбцов\n",
    "pvt_chain_number.sort_values(by = 'count_rest', ascending = False) #сортирую по убываю количетва заведений"
   ]
  },
  {
   "cell_type": "code",
   "execution_count": 22,
   "metadata": {},
   "outputs": [],
   "source": [
    "def count_chain_rest(row, \n",
    "                     min_p = np.percentile(pvt_chain_number['count_rest'], 25),\n",
    "                     max_p = np.percentile(pvt_chain_number['count_rest'], 75)):\n",
    "    \"\"\"Функция для категоризации сетевых заведений по их количеству\"\"\"\n",
    "    if row <= min_p:\n",
    "        return 'маленькое количество филиалов'\n",
    "    elif row > min_p and row <= max_p:\n",
    "        return 'среднее количество филиалов'\n",
    "    return 'большое количество филиалов'"
   ]
  },
  {
   "cell_type": "code",
   "execution_count": 23,
   "metadata": {},
   "outputs": [
    {
     "data": {
      "text/html": [
       "<div>\n",
       "<style scoped>\n",
       "    .dataframe tbody tr th:only-of-type {\n",
       "        vertical-align: middle;\n",
       "    }\n",
       "\n",
       "    .dataframe tbody tr th {\n",
       "        vertical-align: top;\n",
       "    }\n",
       "\n",
       "    .dataframe thead th {\n",
       "        text-align: right;\n",
       "    }\n",
       "</style>\n",
       "<table border=\"1\" class=\"dataframe\">\n",
       "  <thead>\n",
       "    <tr style=\"text-align: right;\">\n",
       "      <th></th>\n",
       "      <th>count_rest</th>\n",
       "      <th>mean_number</th>\n",
       "      <th>categorized_count</th>\n",
       "    </tr>\n",
       "    <tr>\n",
       "      <th>object_name</th>\n",
       "      <th></th>\n",
       "      <th></th>\n",
       "      <th></th>\n",
       "    </tr>\n",
       "  </thead>\n",
       "  <tbody>\n",
       "    <tr>\n",
       "      <td>beverly hills diner</td>\n",
       "      <td>1</td>\n",
       "      <td>88.000000</td>\n",
       "      <td>маленькое количество филиалов</td>\n",
       "    </tr>\n",
       "    <tr>\n",
       "      <td>bierloga</td>\n",
       "      <td>1</td>\n",
       "      <td>75.000000</td>\n",
       "      <td>маленькое количество филиалов</td>\n",
       "    </tr>\n",
       "    <tr>\n",
       "      <td>black &amp; white</td>\n",
       "      <td>1</td>\n",
       "      <td>40.000000</td>\n",
       "      <td>маленькое количество филиалов</td>\n",
       "    </tr>\n",
       "    <tr>\n",
       "      <td>bocconcino</td>\n",
       "      <td>3</td>\n",
       "      <td>66.666667</td>\n",
       "      <td>среднее количество филиалов</td>\n",
       "    </tr>\n",
       "    <tr>\n",
       "      <td>boobo</td>\n",
       "      <td>1</td>\n",
       "      <td>46.000000</td>\n",
       "      <td>маленькое количество филиалов</td>\n",
       "    </tr>\n",
       "    <tr>\n",
       "      <td>...</td>\n",
       "      <td>...</td>\n",
       "      <td>...</td>\n",
       "      <td>...</td>\n",
       "    </tr>\n",
       "    <tr>\n",
       "      <td>ямми микс</td>\n",
       "      <td>1</td>\n",
       "      <td>2.000000</td>\n",
       "      <td>маленькое количество филиалов</td>\n",
       "    </tr>\n",
       "    <tr>\n",
       "      <td>ян примус</td>\n",
       "      <td>1</td>\n",
       "      <td>300.000000</td>\n",
       "      <td>маленькое количество филиалов</td>\n",
       "    </tr>\n",
       "    <tr>\n",
       "      <td>японский ресторан «ваби-саби»</td>\n",
       "      <td>1</td>\n",
       "      <td>155.000000</td>\n",
       "      <td>маленькое количество филиалов</td>\n",
       "    </tr>\n",
       "    <tr>\n",
       "      <td>япоша</td>\n",
       "      <td>2</td>\n",
       "      <td>105.000000</td>\n",
       "      <td>среднее количество филиалов</td>\n",
       "    </tr>\n",
       "    <tr>\n",
       "      <td>ёрш</td>\n",
       "      <td>4</td>\n",
       "      <td>112.250000</td>\n",
       "      <td>большое количество филиалов</td>\n",
       "    </tr>\n",
       "  </tbody>\n",
       "</table>\n",
       "<p>576 rows × 3 columns</p>\n",
       "</div>"
      ],
      "text/plain": [
       "                               count_rest  mean_number  \\\n",
       "object_name                                              \n",
       "beverly hills diner                     1    88.000000   \n",
       "bierloga                                1    75.000000   \n",
       "black & white                           1    40.000000   \n",
       "bocconcino                              3    66.666667   \n",
       "boobo                                   1    46.000000   \n",
       "...                                   ...          ...   \n",
       "ямми микс                               1     2.000000   \n",
       "ян примус                               1   300.000000   \n",
       "японский ресторан «ваби-саби»           1   155.000000   \n",
       "япоша                                   2   105.000000   \n",
       "ёрш                                     4   112.250000   \n",
       "\n",
       "                                           categorized_count  \n",
       "object_name                                                   \n",
       "beverly hills diner            маленькое количество филиалов  \n",
       "bierloga                       маленькое количество филиалов  \n",
       "black & white                  маленькое количество филиалов  \n",
       "bocconcino                       среднее количество филиалов  \n",
       "boobo                          маленькое количество филиалов  \n",
       "...                                                      ...  \n",
       "ямми микс                      маленькое количество филиалов  \n",
       "ян примус                      маленькое количество филиалов  \n",
       "японский ресторан «ваби-саби»  маленькое количество филиалов  \n",
       "япоша                            среднее количество филиалов  \n",
       "ёрш                              большое количество филиалов  \n",
       "\n",
       "[576 rows x 3 columns]"
      ]
     },
     "execution_count": 23,
     "metadata": {},
     "output_type": "execute_result"
    }
   ],
   "source": [
    "pvt_chain_number['categorized_count'] = pvt_chain_number['count_rest'].apply(count_chain_rest)\n",
    "#применяю функцию count_chain_rest к столбцу count_rest\n",
    "pvt_chain_number"
   ]
  },
  {
   "cell_type": "code",
   "execution_count": 24,
   "metadata": {},
   "outputs": [
    {
     "data": {
      "text/html": [
       "<div>\n",
       "<style scoped>\n",
       "    .dataframe tbody tr th:only-of-type {\n",
       "        vertical-align: middle;\n",
       "    }\n",
       "\n",
       "    .dataframe tbody tr th {\n",
       "        vertical-align: top;\n",
       "    }\n",
       "\n",
       "    .dataframe thead th {\n",
       "        text-align: right;\n",
       "    }\n",
       "</style>\n",
       "<table border=\"1\" class=\"dataframe\">\n",
       "  <thead>\n",
       "    <tr style=\"text-align: right;\">\n",
       "      <th></th>\n",
       "      <th>Количество заведений</th>\n",
       "      <th>Среднее количество мест</th>\n",
       "    </tr>\n",
       "    <tr>\n",
       "      <th>categorized_count</th>\n",
       "      <th></th>\n",
       "      <th></th>\n",
       "    </tr>\n",
       "  </thead>\n",
       "  <tbody>\n",
       "    <tr>\n",
       "      <td>большое количество филиалов</td>\n",
       "      <td>123</td>\n",
       "      <td>57.812534</td>\n",
       "    </tr>\n",
       "    <tr>\n",
       "      <td>маленькое количество филиалов</td>\n",
       "      <td>333</td>\n",
       "      <td>59.009009</td>\n",
       "    </tr>\n",
       "    <tr>\n",
       "      <td>среднее количество филиалов</td>\n",
       "      <td>120</td>\n",
       "      <td>60.647222</td>\n",
       "    </tr>\n",
       "  </tbody>\n",
       "</table>\n",
       "</div>"
      ],
      "text/plain": [
       "                               Количество заведений  Среднее количество мест\n",
       "categorized_count                                                           \n",
       "большое количество филиалов                     123                57.812534\n",
       "маленькое количество филиалов                   333                59.009009\n",
       "среднее количество филиалов                     120                60.647222"
      ]
     },
     "execution_count": 24,
     "metadata": {},
     "output_type": "execute_result"
    }
   ],
   "source": [
    "pvt_categorized_rest = pvt_chain_number.pivot_table(index = 'categorized_count', \n",
    "                                                    values = 'mean_number', \n",
    "                                                    aggfunc = ['count', 'mean'])\n",
    "pvt_categorized_rest.columns = ['Количество заведений', 'Среднее количество мест']\n",
    "pvt_categorized_rest #сводная таблица о количестве сетевых заведений \n",
    "#с маленьким, средним и большим количеством филлиалов по городу"
   ]
  },
  {
   "cell_type": "code",
   "execution_count": 25,
   "metadata": {},
   "outputs": [
    {
     "data": {
      "text/html": [
       "<div>\n",
       "<style scoped>\n",
       "    .dataframe tbody tr th:only-of-type {\n",
       "        vertical-align: middle;\n",
       "    }\n",
       "\n",
       "    .dataframe tbody tr th {\n",
       "        vertical-align: top;\n",
       "    }\n",
       "\n",
       "    .dataframe thead th {\n",
       "        text-align: right;\n",
       "    }\n",
       "</style>\n",
       "<table border=\"1\" class=\"dataframe\">\n",
       "  <thead>\n",
       "    <tr style=\"text-align: right;\">\n",
       "      <th></th>\n",
       "      <th>object_type</th>\n",
       "      <th>number</th>\n",
       "    </tr>\n",
       "  </thead>\n",
       "  <tbody>\n",
       "    <tr>\n",
       "      <td>5</td>\n",
       "      <td>магазин (отдел кулинарии)</td>\n",
       "      <td>5.610294</td>\n",
       "    </tr>\n",
       "    <tr>\n",
       "      <td>2</td>\n",
       "      <td>закусочная</td>\n",
       "      <td>7.685879</td>\n",
       "    </tr>\n",
       "    <tr>\n",
       "      <td>4</td>\n",
       "      <td>кафетерий</td>\n",
       "      <td>9.221374</td>\n",
       "    </tr>\n",
       "    <tr>\n",
       "      <td>6</td>\n",
       "      <td>предприятие быстрого обслуживания</td>\n",
       "      <td>20.787302</td>\n",
       "    </tr>\n",
       "    <tr>\n",
       "      <td>3</td>\n",
       "      <td>кафе</td>\n",
       "      <td>39.886984</td>\n",
       "    </tr>\n",
       "    <tr>\n",
       "      <td>0</td>\n",
       "      <td>бар</td>\n",
       "      <td>43.602579</td>\n",
       "    </tr>\n",
       "    <tr>\n",
       "      <td>1</td>\n",
       "      <td>буфет</td>\n",
       "      <td>51.487719</td>\n",
       "    </tr>\n",
       "    <tr>\n",
       "      <td>7</td>\n",
       "      <td>ресторан</td>\n",
       "      <td>97.065963</td>\n",
       "    </tr>\n",
       "    <tr>\n",
       "      <td>8</td>\n",
       "      <td>столовая</td>\n",
       "      <td>130.367767</td>\n",
       "    </tr>\n",
       "  </tbody>\n",
       "</table>\n",
       "</div>"
      ],
      "text/plain": [
       "                         object_type      number\n",
       "5          магазин (отдел кулинарии)    5.610294\n",
       "2                         закусочная    7.685879\n",
       "4                          кафетерий    9.221374\n",
       "6  предприятие быстрого обслуживания   20.787302\n",
       "3                               кафе   39.886984\n",
       "0                                бар   43.602579\n",
       "1                              буфет   51.487719\n",
       "7                           ресторан   97.065963\n",
       "8                           столовая  130.367767"
      ]
     },
     "execution_count": 25,
     "metadata": {},
     "output_type": "execute_result"
    }
   ],
   "source": [
    "pvt_object_number = rest_data.pivot_table(index = 'object_type', values = 'number', aggfunc = 'mean').reset_index()\n",
    "pvt_object_number = pvt_object_number.sort_values(by = 'number') \n",
    "pvt_object_number #сводная таблица о среднем количестве посадочных мест для каждого типа объекта общественного питания"
   ]
  },
  {
   "cell_type": "code",
   "execution_count": 26,
   "metadata": {},
   "outputs": [
    {
     "data": {
      "image/png": "[encoded data removed]",
      "text/plain": [
       "<Figure size 792x360 with 1 Axes>"
      ]
     },
     "metadata": {
      "needs_background": "light"
     },
     "output_type": "display_data"
    }
   ],
   "source": [
    "plt.figure(figsize=(11,5)) #размер графика\n",
    "sns.barplot(x='object_type', y='number', data = pvt_object_number, color = '#64adde')\n",
    "#строю столбчатую диаграмму\n",
    "plt.title('Cреднее количество посадочных мест') #наименование графика\n",
    "plt.xticks(rotation= 90) #располагаю подписи каждого столбца диаграамы под углом\n",
    "plt.xlabel('Наименование видов общественного питания') #наименование оси X\n",
    "plt.ylabel('Количество посадочных мест') #наименование оси Y\n",
    "plt.show()"
   ]
  },
  {
   "cell_type": "markdown",
   "metadata": {},
   "source": [
    "**Вывод:**\n",
    "- Для сетевых заведений характерно: маленькое количество филиалов с средним количеством мест окло 59, и примерно равное количество заведений с средним и большим количеством филиалов с количеством мест около 57 и 60 соответственно.\n",
    "- Среднее количество посадочных мест больше в четевых заведениях типа: столовая, ресторан, буфет."
   ]
  },
  {
   "cell_type": "markdown",
   "metadata": {},
   "source": [
    "**2.3.Рассчет количества заведений на улицах и районах города**"
   ]
  },
  {
   "cell_type": "code",
   "execution_count": 27,
   "metadata": {},
   "outputs": [],
   "source": [
    "def street_name(row):\n",
    "    \"\"\"Функция для выбора улицы из полного адреса\"\"\"\n",
    "    streets_names = ['улица','проспект','шоссе','проезд','бульвар','переулок','набережная','площадь','вал','аллея', 'тупик', \n",
    "                     'квартал', 'линия', 'микрорайон']\n",
    "    street = row.split(',') #разделяю строку по запятой\n",
    "    for i in street: #ищу наименование из списка streets_names в каждом значении из списка street\n",
    "        for st in streets_names:\n",
    "            if st in i: #если значение найдено, то взврааем его \n",
    "                return i\n",
    "    return np.nan #если значение не найдено, то возвращаем Nan"
   ]
  },
  {
   "cell_type": "code",
   "execution_count": 28,
   "metadata": {
    "scrolled": true
   },
   "outputs": [
    {
     "data": {
      "text/html": [
       "<div>\n",
       "<style scoped>\n",
       "    .dataframe tbody tr th:only-of-type {\n",
       "        vertical-align: middle;\n",
       "    }\n",
       "\n",
       "    .dataframe tbody tr th {\n",
       "        vertical-align: top;\n",
       "    }\n",
       "\n",
       "    .dataframe thead th {\n",
       "        text-align: right;\n",
       "    }\n",
       "</style>\n",
       "<table border=\"1\" class=\"dataframe\">\n",
       "  <thead>\n",
       "    <tr style=\"text-align: right;\">\n",
       "      <th></th>\n",
       "      <th>id</th>\n",
       "      <th>object_name</th>\n",
       "      <th>chain</th>\n",
       "      <th>object_type</th>\n",
       "      <th>address</th>\n",
       "      <th>number</th>\n",
       "      <th>street</th>\n",
       "    </tr>\n",
       "  </thead>\n",
       "  <tbody>\n",
       "    <tr>\n",
       "      <td>1405</td>\n",
       "      <td>20199</td>\n",
       "      <td>это</td>\n",
       "      <td>False</td>\n",
       "      <td>кафе</td>\n",
       "      <td>город Москва, город Зеленоград, корпус 401</td>\n",
       "      <td>35</td>\n",
       "      <td>NaN</td>\n",
       "    </tr>\n",
       "    <tr>\n",
       "      <td>1406</td>\n",
       "      <td>68113</td>\n",
       "      <td>френдс</td>\n",
       "      <td>False</td>\n",
       "      <td>кафе</td>\n",
       "      <td>город Москва, город Зеленоград, корпус 435</td>\n",
       "      <td>34</td>\n",
       "      <td>NaN</td>\n",
       "    </tr>\n",
       "    <tr>\n",
       "      <td>1407</td>\n",
       "      <td>20105</td>\n",
       "      <td>кафе «граф монте-кристо»</td>\n",
       "      <td>False</td>\n",
       "      <td>кафе</td>\n",
       "      <td>город Москва, город Зеленоград, корпус 436</td>\n",
       "      <td>40</td>\n",
       "      <td>NaN</td>\n",
       "    </tr>\n",
       "    <tr>\n",
       "      <td>1408</td>\n",
       "      <td>22982</td>\n",
       "      <td>альфорно</td>\n",
       "      <td>False</td>\n",
       "      <td>кафе</td>\n",
       "      <td>город Москва, город Зеленоград, корпус 438</td>\n",
       "      <td>49</td>\n",
       "      <td>NaN</td>\n",
       "    </tr>\n",
       "    <tr>\n",
       "      <td>1410</td>\n",
       "      <td>150537</td>\n",
       "      <td>кафе «вечный зов»</td>\n",
       "      <td>False</td>\n",
       "      <td>кафе</td>\n",
       "      <td>город Москва, город Зеленоград, корпус 834А</td>\n",
       "      <td>30</td>\n",
       "      <td>NaN</td>\n",
       "    </tr>\n",
       "    <tr>\n",
       "      <td>...</td>\n",
       "      <td>...</td>\n",
       "      <td>...</td>\n",
       "      <td>...</td>\n",
       "      <td>...</td>\n",
       "      <td>...</td>\n",
       "      <td>...</td>\n",
       "      <td>...</td>\n",
       "    </tr>\n",
       "    <tr>\n",
       "      <td>14997</td>\n",
       "      <td>216942</td>\n",
       "      <td>шашлычный дворик</td>\n",
       "      <td>False</td>\n",
       "      <td>кафе</td>\n",
       "      <td>город Москва, поселение Десеновское, деревня В...</td>\n",
       "      <td>15</td>\n",
       "      <td>NaN</td>\n",
       "    </tr>\n",
       "    <tr>\n",
       "      <td>14998</td>\n",
       "      <td>216926</td>\n",
       "      <td>кафе «сахли»</td>\n",
       "      <td>False</td>\n",
       "      <td>закусочная</td>\n",
       "      <td>город Москва, поселение Десеновское, деревня В...</td>\n",
       "      <td>10</td>\n",
       "      <td>NaN</td>\n",
       "    </tr>\n",
       "    <tr>\n",
       "      <td>15015</td>\n",
       "      <td>208239</td>\n",
       "      <td>газпромнефть</td>\n",
       "      <td>False</td>\n",
       "      <td>кафе</td>\n",
       "      <td>поселение \"Мосрентген\", деревня Дудкино, владе...</td>\n",
       "      <td>20</td>\n",
       "      <td>NaN</td>\n",
       "    </tr>\n",
       "    <tr>\n",
       "      <td>15137</td>\n",
       "      <td>209920</td>\n",
       "      <td>дюшес</td>\n",
       "      <td>True</td>\n",
       "      <td>ресторан</td>\n",
       "      <td>город Москва, город Зеленоград, Проезд № 4806,...</td>\n",
       "      <td>100</td>\n",
       "      <td>NaN</td>\n",
       "    </tr>\n",
       "    <tr>\n",
       "      <td>15184</td>\n",
       "      <td>220587</td>\n",
       "      <td>пицца паоло</td>\n",
       "      <td>True</td>\n",
       "      <td>кафетерий</td>\n",
       "      <td>город Москва, город Зеленоград, корпус 1627</td>\n",
       "      <td>0</td>\n",
       "      <td>NaN</td>\n",
       "    </tr>\n",
       "  </tbody>\n",
       "</table>\n",
       "<p>318 rows × 7 columns</p>\n",
       "</div>"
      ],
      "text/plain": [
       "           id               object_name  chain object_type  \\\n",
       "1405    20199                       это  False        кафе   \n",
       "1406    68113                    френдс  False        кафе   \n",
       "1407    20105  кафе «граф монте-кристо»  False        кафе   \n",
       "1408    22982                  альфорно  False        кафе   \n",
       "1410   150537         кафе «вечный зов»  False        кафе   \n",
       "...       ...                       ...    ...         ...   \n",
       "14997  216942          шашлычный дворик  False        кафе   \n",
       "14998  216926              кафе «сахли»  False  закусочная   \n",
       "15015  208239              газпромнефть  False        кафе   \n",
       "15137  209920                     дюшес   True    ресторан   \n",
       "15184  220587               пицца паоло   True   кафетерий   \n",
       "\n",
       "                                                 address  number street  \n",
       "1405          город Москва, город Зеленоград, корпус 401      35    NaN  \n",
       "1406          город Москва, город Зеленоград, корпус 435      34    NaN  \n",
       "1407          город Москва, город Зеленоград, корпус 436      40    NaN  \n",
       "1408          город Москва, город Зеленоград, корпус 438      49    NaN  \n",
       "1410         город Москва, город Зеленоград, корпус 834А      30    NaN  \n",
       "...                                                  ...     ...    ...  \n",
       "14997  город Москва, поселение Десеновское, деревня В...      15    NaN  \n",
       "14998  город Москва, поселение Десеновское, деревня В...      10    NaN  \n",
       "15015  поселение \"Мосрентген\", деревня Дудкино, владе...      20    NaN  \n",
       "15137  город Москва, город Зеленоград, Проезд № 4806,...     100    NaN  \n",
       "15184        город Москва, город Зеленоград, корпус 1627       0    NaN  \n",
       "\n",
       "[318 rows x 7 columns]"
      ]
     },
     "execution_count": 28,
     "metadata": {},
     "output_type": "execute_result"
    }
   ],
   "source": [
    "rest_data['street'] = rest_data['address'].apply(street_name) #применяю функцию к столбцу address\n",
    "rest_data[rest_data['street'].isna()] #смотрю как много получилось пропусков"
   ]
  },
  {
   "cell_type": "code",
   "execution_count": 29,
   "metadata": {},
   "outputs": [
    {
     "data": {
      "text/html": [
       "<div>\n",
       "<style scoped>\n",
       "    .dataframe tbody tr th:only-of-type {\n",
       "        vertical-align: middle;\n",
       "    }\n",
       "\n",
       "    .dataframe tbody tr th {\n",
       "        vertical-align: top;\n",
       "    }\n",
       "\n",
       "    .dataframe thead th {\n",
       "        text-align: right;\n",
       "    }\n",
       "</style>\n",
       "<table border=\"1\" class=\"dataframe\">\n",
       "  <thead>\n",
       "    <tr style=\"text-align: right;\">\n",
       "      <th></th>\n",
       "      <th>0</th>\n",
       "      <th>1</th>\n",
       "      <th>2</th>\n",
       "      <th>3</th>\n",
       "      <th>4</th>\n",
       "      <th>5</th>\n",
       "      <th>6</th>\n",
       "    </tr>\n",
       "  </thead>\n",
       "  <tbody>\n",
       "    <tr>\n",
       "      <td>14981</td>\n",
       "      <td>город Москва</td>\n",
       "      <td>поселение Десеновское</td>\n",
       "      <td>деревня Ватутинки</td>\n",
       "      <td>дом 34</td>\n",
       "      <td>None</td>\n",
       "      <td>None</td>\n",
       "      <td>None</td>\n",
       "    </tr>\n",
       "    <tr>\n",
       "      <td>9992</td>\n",
       "      <td>город Москва</td>\n",
       "      <td>Никитский переулок</td>\n",
       "      <td>дом 7</td>\n",
       "      <td>строение 2</td>\n",
       "      <td>None</td>\n",
       "      <td>None</td>\n",
       "      <td>None</td>\n",
       "    </tr>\n",
       "    <tr>\n",
       "      <td>7553</td>\n",
       "      <td>город Москва</td>\n",
       "      <td>Бесединское шоссе</td>\n",
       "      <td>дом 15</td>\n",
       "      <td>None</td>\n",
       "      <td>None</td>\n",
       "      <td>None</td>\n",
       "      <td>None</td>\n",
       "    </tr>\n",
       "    <tr>\n",
       "      <td>14448</td>\n",
       "      <td>город Москва</td>\n",
       "      <td>Ленинградское шоссе</td>\n",
       "      <td>дом 16А</td>\n",
       "      <td>строение 4</td>\n",
       "      <td>None</td>\n",
       "      <td>None</td>\n",
       "      <td>None</td>\n",
       "    </tr>\n",
       "    <tr>\n",
       "      <td>3498</td>\n",
       "      <td>город Москва</td>\n",
       "      <td>Ленинградский проспект</td>\n",
       "      <td>дом 22</td>\n",
       "      <td>None</td>\n",
       "      <td>None</td>\n",
       "      <td>None</td>\n",
       "      <td>None</td>\n",
       "    </tr>\n",
       "    <tr>\n",
       "      <td>14292</td>\n",
       "      <td>город Москва</td>\n",
       "      <td>улица Кржижановского</td>\n",
       "      <td>владение 22</td>\n",
       "      <td>строение 1</td>\n",
       "      <td>None</td>\n",
       "      <td>None</td>\n",
       "      <td>None</td>\n",
       "    </tr>\n",
       "    <tr>\n",
       "      <td>8497</td>\n",
       "      <td>город Москва</td>\n",
       "      <td>поселение Сосенское</td>\n",
       "      <td>Калужское шоссе</td>\n",
       "      <td>22-й километр</td>\n",
       "      <td>дом 10</td>\n",
       "      <td>None</td>\n",
       "      <td>None</td>\n",
       "    </tr>\n",
       "    <tr>\n",
       "      <td>4087</td>\n",
       "      <td>город Москва</td>\n",
       "      <td>улица Мусы Джалиля</td>\n",
       "      <td>дом 27</td>\n",
       "      <td>корпус 3</td>\n",
       "      <td>None</td>\n",
       "      <td>None</td>\n",
       "      <td>None</td>\n",
       "    </tr>\n",
       "    <tr>\n",
       "      <td>2348</td>\n",
       "      <td>город Москва</td>\n",
       "      <td>Бакунинская улица</td>\n",
       "      <td>дом 7</td>\n",
       "      <td>строение 5</td>\n",
       "      <td>None</td>\n",
       "      <td>None</td>\n",
       "      <td>None</td>\n",
       "    </tr>\n",
       "    <tr>\n",
       "      <td>7151</td>\n",
       "      <td>город Москва</td>\n",
       "      <td>улица Клары Цеткин</td>\n",
       "      <td>дом 28</td>\n",
       "      <td>None</td>\n",
       "      <td>None</td>\n",
       "      <td>None</td>\n",
       "      <td>None</td>\n",
       "    </tr>\n",
       "    <tr>\n",
       "      <td>1353</td>\n",
       "      <td>город Москва</td>\n",
       "      <td>Шипиловская улица</td>\n",
       "      <td>дом 17</td>\n",
       "      <td>корпус 2</td>\n",
       "      <td>None</td>\n",
       "      <td>None</td>\n",
       "      <td>None</td>\n",
       "    </tr>\n",
       "    <tr>\n",
       "      <td>14146</td>\n",
       "      <td>город Москва</td>\n",
       "      <td>Шереметьевская улица</td>\n",
       "      <td>дом 20</td>\n",
       "      <td>None</td>\n",
       "      <td>None</td>\n",
       "      <td>None</td>\n",
       "      <td>None</td>\n",
       "    </tr>\n",
       "    <tr>\n",
       "      <td>4218</td>\n",
       "      <td>город Москва</td>\n",
       "      <td>Ленская улица</td>\n",
       "      <td>дом 6</td>\n",
       "      <td>None</td>\n",
       "      <td>None</td>\n",
       "      <td>None</td>\n",
       "      <td>None</td>\n",
       "    </tr>\n",
       "    <tr>\n",
       "      <td>13398</td>\n",
       "      <td>город Москва</td>\n",
       "      <td>Измайловское шоссе</td>\n",
       "      <td>дом 71А</td>\n",
       "      <td>None</td>\n",
       "      <td>None</td>\n",
       "      <td>None</td>\n",
       "      <td>None</td>\n",
       "    </tr>\n",
       "    <tr>\n",
       "      <td>1454</td>\n",
       "      <td>город Москва</td>\n",
       "      <td>Рублёвское шоссе</td>\n",
       "      <td>дом 22</td>\n",
       "      <td>корпус 1</td>\n",
       "      <td>None</td>\n",
       "      <td>None</td>\n",
       "      <td>None</td>\n",
       "    </tr>\n",
       "    <tr>\n",
       "      <td>15223</td>\n",
       "      <td>город Москва</td>\n",
       "      <td>Манежная площадь</td>\n",
       "      <td>дом 1</td>\n",
       "      <td>строение 2</td>\n",
       "      <td>None</td>\n",
       "      <td>None</td>\n",
       "      <td>None</td>\n",
       "    </tr>\n",
       "    <tr>\n",
       "      <td>5861</td>\n",
       "      <td>город Москва</td>\n",
       "      <td>улица Шкулёва</td>\n",
       "      <td>дом 2А</td>\n",
       "      <td>None</td>\n",
       "      <td>None</td>\n",
       "      <td>None</td>\n",
       "      <td>None</td>\n",
       "    </tr>\n",
       "    <tr>\n",
       "      <td>6989</td>\n",
       "      <td>город Москва</td>\n",
       "      <td>Ленинградское шоссе</td>\n",
       "      <td>дом 51</td>\n",
       "      <td>строение 14</td>\n",
       "      <td>None</td>\n",
       "      <td>None</td>\n",
       "      <td>None</td>\n",
       "    </tr>\n",
       "    <tr>\n",
       "      <td>9545</td>\n",
       "      <td>город Москва</td>\n",
       "      <td>город Московский</td>\n",
       "      <td>Радужная улица</td>\n",
       "      <td>дом 10</td>\n",
       "      <td>None</td>\n",
       "      <td>None</td>\n",
       "      <td>None</td>\n",
       "    </tr>\n",
       "    <tr>\n",
       "      <td>8018</td>\n",
       "      <td>город Москва</td>\n",
       "      <td>Нижний Сусальный переулок</td>\n",
       "      <td>дом 5</td>\n",
       "      <td>строение 4</td>\n",
       "      <td>None</td>\n",
       "      <td>None</td>\n",
       "      <td>None</td>\n",
       "    </tr>\n",
       "  </tbody>\n",
       "</table>\n",
       "</div>"
      ],
      "text/plain": [
       "                  0                          1                  2  \\\n",
       "14981  город Москва      поселение Десеновское  деревня Ватутинки   \n",
       "9992   город Москва         Никитский переулок              дом 7   \n",
       "7553   город Москва          Бесединское шоссе             дом 15   \n",
       "14448  город Москва        Ленинградское шоссе            дом 16А   \n",
       "3498   город Москва     Ленинградский проспект             дом 22   \n",
       "14292  город Москва       улица Кржижановского        владение 22   \n",
       "8497   город Москва        поселение Сосенское    Калужское шоссе   \n",
       "4087   город Москва         улица Мусы Джалиля             дом 27   \n",
       "2348   город Москва          Бакунинская улица              дом 7   \n",
       "7151   город Москва         улица Клары Цеткин             дом 28   \n",
       "1353   город Москва          Шипиловская улица             дом 17   \n",
       "14146  город Москва       Шереметьевская улица             дом 20   \n",
       "4218   город Москва              Ленская улица              дом 6   \n",
       "13398  город Москва         Измайловское шоссе            дом 71А   \n",
       "1454   город Москва           Рублёвское шоссе             дом 22   \n",
       "15223  город Москва           Манежная площадь              дом 1   \n",
       "5861   город Москва              улица Шкулёва             дом 2А   \n",
       "6989   город Москва        Ленинградское шоссе             дом 51   \n",
       "9545   город Москва           город Московский     Радужная улица   \n",
       "8018   город Москва  Нижний Сусальный переулок              дом 5   \n",
       "\n",
       "                   3       4     5     6  \n",
       "14981         дом 34    None  None  None  \n",
       "9992      строение 2    None  None  None  \n",
       "7553            None    None  None  None  \n",
       "14448     строение 4    None  None  None  \n",
       "3498            None    None  None  None  \n",
       "14292     строение 1    None  None  None  \n",
       "8497   22-й километр  дом 10  None  None  \n",
       "4087        корпус 3    None  None  None  \n",
       "2348      строение 5    None  None  None  \n",
       "7151            None    None  None  None  \n",
       "1353        корпус 2    None  None  None  \n",
       "14146           None    None  None  None  \n",
       "4218            None    None  None  None  \n",
       "13398           None    None  None  None  \n",
       "1454        корпус 1    None  None  None  \n",
       "15223     строение 2    None  None  None  \n",
       "5861            None    None  None  None  \n",
       "6989     строение 14    None  None  None  \n",
       "9545          дом 10    None  None  None  \n",
       "8018      строение 4    None  None  None  "
      ]
     },
     "execution_count": 29,
     "metadata": {},
     "output_type": "execute_result"
    }
   ],
   "source": [
    "rest_data['address'].str.split(', ', expand=True).sample(20)"
   ]
  },
  {
   "cell_type": "code",
   "execution_count": 30,
   "metadata": {},
   "outputs": [
    {
     "data": {
      "text/html": [
       "<div>\n",
       "<style scoped>\n",
       "    .dataframe tbody tr th:only-of-type {\n",
       "        vertical-align: middle;\n",
       "    }\n",
       "\n",
       "    .dataframe tbody tr th {\n",
       "        vertical-align: top;\n",
       "    }\n",
       "\n",
       "    .dataframe thead th {\n",
       "        text-align: right;\n",
       "    }\n",
       "</style>\n",
       "<table border=\"1\" class=\"dataframe\">\n",
       "  <thead>\n",
       "    <tr style=\"text-align: right;\">\n",
       "      <th></th>\n",
       "      <th>street</th>\n",
       "      <th>id</th>\n",
       "    </tr>\n",
       "  </thead>\n",
       "  <tbody>\n",
       "    <tr>\n",
       "      <td>1428</td>\n",
       "      <td>проспект Мира</td>\n",
       "      <td>196</td>\n",
       "    </tr>\n",
       "    <tr>\n",
       "      <td>1012</td>\n",
       "      <td>Профсоюзная улица</td>\n",
       "      <td>180</td>\n",
       "    </tr>\n",
       "    <tr>\n",
       "      <td>687</td>\n",
       "      <td>Ленинградский проспект</td>\n",
       "      <td>170</td>\n",
       "    </tr>\n",
       "    <tr>\n",
       "      <td>997</td>\n",
       "      <td>Пресненская набережная</td>\n",
       "      <td>165</td>\n",
       "    </tr>\n",
       "    <tr>\n",
       "      <td>401</td>\n",
       "      <td>Варшавское шоссе</td>\n",
       "      <td>162</td>\n",
       "    </tr>\n",
       "    <tr>\n",
       "      <td>690</td>\n",
       "      <td>Ленинский проспект</td>\n",
       "      <td>147</td>\n",
       "    </tr>\n",
       "    <tr>\n",
       "      <td>1424</td>\n",
       "      <td>проспект Вернадского</td>\n",
       "      <td>126</td>\n",
       "    </tr>\n",
       "    <tr>\n",
       "      <td>677</td>\n",
       "      <td>Кутузовский проспект</td>\n",
       "      <td>114</td>\n",
       "    </tr>\n",
       "    <tr>\n",
       "      <td>600</td>\n",
       "      <td>Каширское шоссе</td>\n",
       "      <td>110</td>\n",
       "    </tr>\n",
       "    <tr>\n",
       "      <td>607</td>\n",
       "      <td>Кировоградская улица</td>\n",
       "      <td>107</td>\n",
       "    </tr>\n",
       "  </tbody>\n",
       "</table>\n",
       "</div>"
      ],
      "text/plain": [
       "                       street   id\n",
       "1428            проспект Мира  196\n",
       "1012        Профсоюзная улица  180\n",
       "687    Ленинградский проспект  170\n",
       "997    Пресненская набережная  165\n",
       "401          Варшавское шоссе  162\n",
       "690        Ленинский проспект  147\n",
       "1424     проспект Вернадского  126\n",
       "677      Кутузовский проспект  114\n",
       "600           Каширское шоссе  110\n",
       "607      Кировоградская улица  107"
      ]
     },
     "execution_count": 30,
     "metadata": {},
     "output_type": "execute_result"
    }
   ],
   "source": [
    "pvt_street_count = rest_data.pivot_table(index = 'street', values = 'id', aggfunc = 'count').reset_index()\n",
    "pvt_street = pvt_street_count.sort_values(by ='id', ascending = False).head(10)\n",
    "pvt_street #сводная таблица о топ 10 улицах с самым большим количеством заведений"
   ]
  },
  {
   "cell_type": "code",
   "execution_count": 31,
   "metadata": {},
   "outputs": [
    {
     "data": {
      "image/png": "[encoded data removed]",
      "text/plain": [
       "<Figure size 792x360 with 1 Axes>"
      ]
     },
     "metadata": {
      "needs_background": "light"
     },
     "output_type": "display_data"
    }
   ],
   "source": [
    "plt.figure(figsize=(11,5))\n",
    "sns.barplot(x='street', y='id', data = pvt_street, color = '#64adde')\n",
    "plt.title('Топ-10 улиц по количеству объектов общественного питания')\n",
    "plt.xticks(rotation= 45)\n",
    "plt.xlabel('Наименование улиц')\n",
    "plt.ylabel('Количество объектов общественного питания')\n",
    "plt.show() #строю столбчатую диаграмму по количеству объектов общественного питания на каждой улице"
   ]
  },
  {
   "cell_type": "code",
   "execution_count": 32,
   "metadata": {},
   "outputs": [],
   "source": [
    "def district(row):\n",
    "    \"\"\"Функция по определению района, в котором находится улица\"\"\"\n",
    "    dist = str(geocoder.osm(row+ ', Moscow'))\n",
    "    #используя библиотеку geocoder, передаем строку с улицей в geocoder.osm\n",
    "    dist_split = dist.split(',') #\n",
    "    for i in dist_split: \n",
    "        if 'район' in i:\n",
    "            return i\n",
    "    return np.nan"
   ]
  },
  {
   "cell_type": "code",
   "execution_count": 33,
   "metadata": {},
   "outputs": [
    {
     "data": {
      "text/html": [
       "<div>\n",
       "<style scoped>\n",
       "    .dataframe tbody tr th:only-of-type {\n",
       "        vertical-align: middle;\n",
       "    }\n",
       "\n",
       "    .dataframe tbody tr th {\n",
       "        vertical-align: top;\n",
       "    }\n",
       "\n",
       "    .dataframe thead th {\n",
       "        text-align: right;\n",
       "    }\n",
       "</style>\n",
       "<table border=\"1\" class=\"dataframe\">\n",
       "  <thead>\n",
       "    <tr style=\"text-align: right;\">\n",
       "      <th></th>\n",
       "      <th>street</th>\n",
       "      <th>id</th>\n",
       "      <th>district</th>\n",
       "    </tr>\n",
       "  </thead>\n",
       "  <tbody>\n",
       "    <tr>\n",
       "      <td>1428</td>\n",
       "      <td>проспект Мира</td>\n",
       "      <td>196</td>\n",
       "      <td>Мещанский район</td>\n",
       "    </tr>\n",
       "    <tr>\n",
       "      <td>1012</td>\n",
       "      <td>Профсоюзная улица</td>\n",
       "      <td>180</td>\n",
       "      <td>Обручевский район</td>\n",
       "    </tr>\n",
       "    <tr>\n",
       "      <td>687</td>\n",
       "      <td>Ленинградский проспект</td>\n",
       "      <td>170</td>\n",
       "      <td>район Беговой</td>\n",
       "    </tr>\n",
       "    <tr>\n",
       "      <td>997</td>\n",
       "      <td>Пресненская набережная</td>\n",
       "      <td>165</td>\n",
       "      <td>Пресненский район</td>\n",
       "    </tr>\n",
       "    <tr>\n",
       "      <td>401</td>\n",
       "      <td>Варшавское шоссе</td>\n",
       "      <td>162</td>\n",
       "      <td>район Чертаново Южное</td>\n",
       "    </tr>\n",
       "    <tr>\n",
       "      <td>690</td>\n",
       "      <td>Ленинский проспект</td>\n",
       "      <td>147</td>\n",
       "      <td>Гагаринский район</td>\n",
       "    </tr>\n",
       "    <tr>\n",
       "      <td>1424</td>\n",
       "      <td>проспект Вернадского</td>\n",
       "      <td>126</td>\n",
       "      <td>район Проспект Вернадского</td>\n",
       "    </tr>\n",
       "    <tr>\n",
       "      <td>677</td>\n",
       "      <td>Кутузовский проспект</td>\n",
       "      <td>114</td>\n",
       "      <td>район Дорогомилово</td>\n",
       "    </tr>\n",
       "    <tr>\n",
       "      <td>600</td>\n",
       "      <td>Каширское шоссе</td>\n",
       "      <td>110</td>\n",
       "      <td>район Нагатино-Садовники</td>\n",
       "    </tr>\n",
       "    <tr>\n",
       "      <td>607</td>\n",
       "      <td>Кировоградская улица</td>\n",
       "      <td>107</td>\n",
       "      <td>район Чертаново Центральное</td>\n",
       "    </tr>\n",
       "  </tbody>\n",
       "</table>\n",
       "</div>"
      ],
      "text/plain": [
       "                       street   id                      district\n",
       "1428            проспект Мира  196               Мещанский район\n",
       "1012        Профсоюзная улица  180             Обручевский район\n",
       "687    Ленинградский проспект  170                 район Беговой\n",
       "997    Пресненская набережная  165             Пресненский район\n",
       "401          Варшавское шоссе  162         район Чертаново Южное\n",
       "690        Ленинский проспект  147             Гагаринский район\n",
       "1424     проспект Вернадского  126    район Проспект Вернадского\n",
       "677      Кутузовский проспект  114            район Дорогомилово\n",
       "600           Каширское шоссе  110      район Нагатино-Садовники\n",
       "607      Кировоградская улица  107   район Чертаново Центральное"
      ]
     },
     "execution_count": 33,
     "metadata": {},
     "output_type": "execute_result"
    }
   ],
   "source": [
    "pvt_street['district'] = pvt_street['street'].apply(district) #применяю функцию district к столбцу street\n",
    "pvt_street "
   ]
  },
  {
   "cell_type": "code",
   "execution_count": 34,
   "metadata": {},
   "outputs": [
    {
     "data": {
      "text/html": [
       "<div>\n",
       "<style scoped>\n",
       "    .dataframe tbody tr th:only-of-type {\n",
       "        vertical-align: middle;\n",
       "    }\n",
       "\n",
       "    .dataframe tbody tr th {\n",
       "        vertical-align: top;\n",
       "    }\n",
       "\n",
       "    .dataframe thead th {\n",
       "        text-align: right;\n",
       "    }\n",
       "</style>\n",
       "<table border=\"1\" class=\"dataframe\">\n",
       "  <thead>\n",
       "    <tr style=\"text-align: right;\">\n",
       "      <th></th>\n",
       "      <th>street</th>\n",
       "      <th>id</th>\n",
       "    </tr>\n",
       "  </thead>\n",
       "  <tbody>\n",
       "    <tr>\n",
       "      <td>2</td>\n",
       "      <td>1-й Балтийский переулок</td>\n",
       "      <td>1</td>\n",
       "    </tr>\n",
       "    <tr>\n",
       "      <td>3</td>\n",
       "      <td>1-й Басманный переулок</td>\n",
       "      <td>1</td>\n",
       "    </tr>\n",
       "    <tr>\n",
       "      <td>4</td>\n",
       "      <td>1-й Ботанический проезд</td>\n",
       "      <td>1</td>\n",
       "    </tr>\n",
       "    <tr>\n",
       "      <td>7</td>\n",
       "      <td>1-й Вешняковский проезд</td>\n",
       "      <td>1</td>\n",
       "    </tr>\n",
       "    <tr>\n",
       "      <td>9</td>\n",
       "      <td>1-й Голутвинский переулок</td>\n",
       "      <td>1</td>\n",
       "    </tr>\n",
       "    <tr>\n",
       "      <td>...</td>\n",
       "      <td>...</td>\n",
       "      <td>...</td>\n",
       "    </tr>\n",
       "    <tr>\n",
       "      <td>1947</td>\n",
       "      <td>улица Знаменка</td>\n",
       "      <td>1</td>\n",
       "    </tr>\n",
       "    <tr>\n",
       "      <td>1948</td>\n",
       "      <td>улица Каманина</td>\n",
       "      <td>1</td>\n",
       "    </tr>\n",
       "    <tr>\n",
       "      <td>1951</td>\n",
       "      <td>улица Миклухо-Маклая</td>\n",
       "      <td>1</td>\n",
       "    </tr>\n",
       "    <tr>\n",
       "      <td>1952</td>\n",
       "      <td>улица Обручева</td>\n",
       "      <td>1</td>\n",
       "    </tr>\n",
       "    <tr>\n",
       "      <td>1953</td>\n",
       "      <td>улица Сергея Макеева</td>\n",
       "      <td>1</td>\n",
       "    </tr>\n",
       "  </tbody>\n",
       "</table>\n",
       "<p>592 rows × 2 columns</p>\n",
       "</div>"
      ],
      "text/plain": [
       "                          street  id\n",
       "2        1-й Балтийский переулок   1\n",
       "3         1-й Басманный переулок   1\n",
       "4        1-й Ботанический проезд   1\n",
       "7        1-й Вешняковский проезд   1\n",
       "9      1-й Голутвинский переулок   1\n",
       "...                          ...  ..\n",
       "1947              улица Знаменка   1\n",
       "1948              улица Каманина   1\n",
       "1951        улица Миклухо-Маклая   1\n",
       "1952              улица Обручева   1\n",
       "1953        улица Сергея Макеева   1\n",
       "\n",
       "[592 rows x 2 columns]"
      ]
     },
     "execution_count": 34,
     "metadata": {},
     "output_type": "execute_result"
    }
   ],
   "source": [
    "pvt_one_object = pvt_street_count[pvt_street_count['id'] == 1]\n",
    "pvt_one_object #сводная таблица ао улицам, имеющих одно заведение общественного питания"
   ]
  },
  {
   "cell_type": "code",
   "execution_count": 35,
   "metadata": {},
   "outputs": [
    {
     "name": "stderr",
     "output_type": "stream",
     "text": [
      "/opt/conda/lib/python3.7/site-packages/ipykernel_launcher.py:1: SettingWithCopyWarning: \n",
      "A value is trying to be set on a copy of a slice from a DataFrame.\n",
      "Try using .loc[row_indexer,col_indexer] = value instead\n",
      "\n",
      "See the caveats in the documentation: http://pandas.pydata.org/pandas-docs/stable/user_guide/indexing.html#returning-a-view-versus-a-copy\n",
      "  \"\"\"Entry point for launching an IPython kernel.\n"
     ]
    },
    {
     "data": {
      "text/html": [
       "<div>\n",
       "<style scoped>\n",
       "    .dataframe tbody tr th:only-of-type {\n",
       "        vertical-align: middle;\n",
       "    }\n",
       "\n",
       "    .dataframe tbody tr th {\n",
       "        vertical-align: top;\n",
       "    }\n",
       "\n",
       "    .dataframe thead th {\n",
       "        text-align: right;\n",
       "    }\n",
       "</style>\n",
       "<table border=\"1\" class=\"dataframe\">\n",
       "  <thead>\n",
       "    <tr style=\"text-align: right;\">\n",
       "      <th></th>\n",
       "      <th>street</th>\n",
       "      <th>id</th>\n",
       "      <th>district</th>\n",
       "    </tr>\n",
       "  </thead>\n",
       "  <tbody>\n",
       "    <tr>\n",
       "      <td>2</td>\n",
       "      <td>1-й Балтийский переулок</td>\n",
       "      <td>1</td>\n",
       "      <td>район Аэропорт</td>\n",
       "    </tr>\n",
       "    <tr>\n",
       "      <td>3</td>\n",
       "      <td>1-й Басманный переулок</td>\n",
       "      <td>1</td>\n",
       "      <td>Басманный район</td>\n",
       "    </tr>\n",
       "    <tr>\n",
       "      <td>4</td>\n",
       "      <td>1-й Ботанический проезд</td>\n",
       "      <td>1</td>\n",
       "      <td>район Свиблово</td>\n",
       "    </tr>\n",
       "    <tr>\n",
       "      <td>7</td>\n",
       "      <td>1-й Вешняковский проезд</td>\n",
       "      <td>1</td>\n",
       "      <td>Рязанский район</td>\n",
       "    </tr>\n",
       "    <tr>\n",
       "      <td>9</td>\n",
       "      <td>1-й Голутвинский переулок</td>\n",
       "      <td>1</td>\n",
       "      <td>район Якиманка</td>\n",
       "    </tr>\n",
       "    <tr>\n",
       "      <td>...</td>\n",
       "      <td>...</td>\n",
       "      <td>...</td>\n",
       "      <td>...</td>\n",
       "    </tr>\n",
       "    <tr>\n",
       "      <td>1947</td>\n",
       "      <td>улица Знаменка</td>\n",
       "      <td>1</td>\n",
       "      <td>район Арбат</td>\n",
       "    </tr>\n",
       "    <tr>\n",
       "      <td>1948</td>\n",
       "      <td>улица Каманина</td>\n",
       "      <td>1</td>\n",
       "      <td>район Лианозово</td>\n",
       "    </tr>\n",
       "    <tr>\n",
       "      <td>1951</td>\n",
       "      <td>улица Миклухо-Маклая</td>\n",
       "      <td>1</td>\n",
       "      <td>район Коньково</td>\n",
       "    </tr>\n",
       "    <tr>\n",
       "      <td>1952</td>\n",
       "      <td>улица Обручева</td>\n",
       "      <td>1</td>\n",
       "      <td>Обручевский район</td>\n",
       "    </tr>\n",
       "    <tr>\n",
       "      <td>1953</td>\n",
       "      <td>улица Сергея Макеева</td>\n",
       "      <td>1</td>\n",
       "      <td>Пресненский район</td>\n",
       "    </tr>\n",
       "  </tbody>\n",
       "</table>\n",
       "<p>592 rows × 3 columns</p>\n",
       "</div>"
      ],
      "text/plain": [
       "                          street  id            district\n",
       "2        1-й Балтийский переулок   1      район Аэропорт\n",
       "3         1-й Басманный переулок   1     Басманный район\n",
       "4        1-й Ботанический проезд   1      район Свиблово\n",
       "7        1-й Вешняковский проезд   1     Рязанский район\n",
       "9      1-й Голутвинский переулок   1      район Якиманка\n",
       "...                          ...  ..                 ...\n",
       "1947              улица Знаменка   1         район Арбат\n",
       "1948              улица Каманина   1     район Лианозово\n",
       "1951        улица Миклухо-Маклая   1      район Коньково\n",
       "1952              улица Обручева   1   Обручевский район\n",
       "1953        улица Сергея Макеева   1   Пресненский район\n",
       "\n",
       "[592 rows x 3 columns]"
      ]
     },
     "execution_count": 35,
     "metadata": {},
     "output_type": "execute_result"
    }
   ],
   "source": [
    "pvt_one_object['district'] = pvt_one_object['street'].apply(district) #применяю функцию district к столбцу street\n",
    "pvt_one_object"
   ]
  },
  {
   "cell_type": "code",
   "execution_count": 36,
   "metadata": {},
   "outputs": [],
   "source": [
    "def graph(data, title):\n",
    "    \"\"\"Функция для построения распределения\"\"\"\n",
    "    ax =sns.distplot(data)\n",
    "    ax.set_xlabel('Распределение количества посадочных мест')\n",
    "    ax.set_title(title)\n",
    "    plt.show()"
   ]
  },
  {
   "cell_type": "code",
   "execution_count": 37,
   "metadata": {
    "scrolled": false
   },
   "outputs": [
    {
     "data": {
      "image/png": "[encoded data removed]",
      "text/plain": [
       "<Figure size 432x288 with 1 Axes>"
      ]
     },
     "metadata": {
      "needs_background": "light"
     },
     "output_type": "display_data"
    },
    {
     "data": {
      "image/png": "[encoded data removed]",
      "text/plain": [
       "<Figure size 432x288 with 1 Axes>"
      ]
     },
     "metadata": {
      "needs_background": "light"
     },
     "output_type": "display_data"
    },
    {
     "data": {
      "image/png": "[encoded data removed]",
      "text/plain": [
       "<Figure size 432x288 with 1 Axes>"
      ]
     },
     "metadata": {
      "needs_background": "light"
     },
     "output_type": "display_data"
    },
    {
     "data": {
      "image/png": "[encoded data removed]",
      "text/plain": [
       "<Figure size 432x288 with 1 Axes>"
      ]
     },
     "metadata": {
      "needs_background": "light"
     },
     "output_type": "display_data"
    },
    {
     "data": {
      "image/png": "[encoded data removed]",
      "text/plain": [
       "<Figure size 432x288 with 1 Axes>"
      ]
     },
     "metadata": {
      "needs_background": "light"
     },
     "output_type": "display_data"
    },
    {
     "data": {
      "image/png": "[encoded data removed]",
      "text/plain": [
       "<Figure size 432x288 with 1 Axes>"
      ]
     },
     "metadata": {
      "needs_background": "light"
     },
     "output_type": "display_data"
    },
    {
     "data": {
      "image/png": "[encoded data removed]",
      "text/plain": [
       "<Figure size 432x288 with 1 Axes>"
      ]
     },
     "metadata": {
      "needs_background": "light"
     },
     "output_type": "display_data"
    },
    {
     "data": {
      "image/png": "[encoded data removed]",
      "text/plain": [
       "<Figure size 432x288 with 1 Axes>"
      ]
     },
     "metadata": {
      "needs_background": "light"
     },
     "output_type": "display_data"
    },
    {
     "data": {
      "image/png": "[encoded data removed]",
      "text/plain": [
       "<Figure size 432x288 with 1 Axes>"
      ]
     },
     "metadata": {
      "needs_background": "light"
     },
     "output_type": "display_data"
    },
    {
     "data": {
      "image/png": "[encoded data removed]",
      "text/plain": [
       "<Figure size 432x288 with 1 Axes>"
      ]
     },
     "metadata": {
      "needs_background": "light"
     },
     "output_type": "display_data"
    }
   ],
   "source": [
    "for i in pvt_street['street']: #для всех улиц, строю распределение количества посадочных мест\n",
    "    graph(rest_data[rest_data['street'] == i]['number'], i)"
   ]
  },
  {
   "cell_type": "markdown",
   "metadata": {},
   "source": [
    "**Вывод:**\n",
    "- Для топ 10 улиц по количеству заведений, находящихся на них, характерно что пик распределения мест находится между 0 и 100, но всегда ближе к нулю."
   ]
  },
  {
   "cell_type": "markdown",
   "metadata": {},
   "source": [
    "**Общий вывод:**\n",
    "Целью исследования было проанализировать рынок заведений общественного питания и сделать выводы о том, заведение какого вида лучше открывать и где.\n",
    "\n",
    "Открыть лучше кафе со средним количеством мест около 40, это среднее количество мест для заведений типа кафе.\n",
    "\n",
    "Открывать кафе лучше в одном из районов: Мещанский, Беговой, Пресненский, Гагаринский, Дрогомилово. Эти районы находятся либо в центре либо очень близко к центру, благодаря этому там будет большой поток людей."
   ]
  }
 ],
 "metadata": {
  "ExecuteTimeLog": [
   {
    "duration": 678,
    "start_time": "2021-10-30T10:54:16.793Z"
   },
   {
    "duration": 291,
    "start_time": "2021-10-30T10:54:17.473Z"
   },
   {
    "duration": 26,
    "start_time": "2021-10-30T10:54:36.589Z"
   },
   {
    "duration": 10,
    "start_time": "2021-10-30T10:55:04.731Z"
   },
   {
    "duration": 21,
    "start_time": "2021-10-30T10:57:03.019Z"
   },
   {
    "duration": 10,
    "start_time": "2021-10-30T10:57:16.413Z"
   },
   {
    "duration": 8,
    "start_time": "2021-10-30T10:58:09.290Z"
   },
   {
    "duration": 7,
    "start_time": "2021-10-30T10:58:36.971Z"
   },
   {
    "duration": 1390,
    "start_time": "2021-10-30T10:59:49.350Z"
   },
   {
    "duration": 3,
    "start_time": "2021-10-30T11:01:27.319Z"
   },
   {
    "duration": 7,
    "start_time": "2021-10-30T11:01:54.182Z"
   },
   {
    "duration": 6,
    "start_time": "2021-10-30T11:02:00.643Z"
   },
   {
    "duration": 16,
    "start_time": "2021-10-30T11:02:27.807Z"
   },
   {
    "duration": 9149,
    "start_time": "2021-10-30T11:03:04.371Z"
   },
   {
    "duration": 27,
    "start_time": "2021-10-30T11:05:29.067Z"
   },
   {
    "duration": 21,
    "start_time": "2021-10-30T11:05:43.265Z"
   },
   {
    "duration": 17,
    "start_time": "2021-10-30T11:06:10.349Z"
   },
   {
    "duration": 26,
    "start_time": "2021-10-30T11:06:15.405Z"
   },
   {
    "duration": 9495,
    "start_time": "2021-10-30T11:08:40.794Z"
   },
   {
    "duration": -23332,
    "start_time": "2021-10-30T11:10:10.645Z"
   },
   {
    "duration": 8477,
    "start_time": "2021-10-30T11:10:02.886Z"
   },
   {
    "duration": 344,
    "start_time": "2021-10-30T11:10:29.062Z"
   },
   {
    "duration": 25,
    "start_time": "2021-10-30T11:12:40.821Z"
   },
   {
    "duration": 20,
    "start_time": "2021-10-30T11:14:42.165Z"
   },
   {
    "duration": 19,
    "start_time": "2021-10-30T11:14:55.325Z"
   },
   {
    "duration": 17,
    "start_time": "2021-10-30T11:15:03.222Z"
   },
   {
    "duration": 24,
    "start_time": "2021-10-30T11:15:05.746Z"
   },
   {
    "duration": 29,
    "start_time": "2021-10-30T11:17:27.989Z"
   },
   {
    "duration": 26,
    "start_time": "2021-10-30T11:19:19.542Z"
   },
   {
    "duration": 16,
    "start_time": "2021-10-30T11:19:36.988Z"
   },
   {
    "duration": 15,
    "start_time": "2021-10-30T11:19:49.912Z"
   },
   {
    "duration": 15,
    "start_time": "2021-10-30T11:19:50.756Z"
   },
   {
    "duration": 3,
    "start_time": "2021-10-30T11:24:26.068Z"
   },
   {
    "duration": 672,
    "start_time": "2021-10-30T11:26:29.209Z"
   },
   {
    "duration": 1400,
    "start_time": "2021-10-30T11:27:56.300Z"
   },
   {
    "duration": 10,
    "start_time": "2021-10-30T11:28:06.159Z"
   },
   {
    "duration": 39,
    "start_time": "2021-10-30T11:28:19.175Z"
   },
   {
    "duration": 10,
    "start_time": "2021-10-30T11:28:41.386Z"
   },
   {
    "duration": 609,
    "start_time": "2021-10-30T11:29:15.814Z"
   },
   {
    "duration": 269,
    "start_time": "2021-10-30T11:29:16.425Z"
   },
   {
    "duration": 16,
    "start_time": "2021-10-30T11:29:16.695Z"
   },
   {
    "duration": 9,
    "start_time": "2021-10-30T11:29:16.712Z"
   },
   {
    "duration": 8,
    "start_time": "2021-10-30T11:29:16.723Z"
   },
   {
    "duration": 19,
    "start_time": "2021-10-30T11:29:16.733Z"
   },
   {
    "duration": 38,
    "start_time": "2021-10-30T11:29:16.753Z"
   },
   {
    "duration": 22,
    "start_time": "2021-10-30T11:29:16.793Z"
   },
   {
    "duration": 14,
    "start_time": "2021-10-30T11:29:16.817Z"
   },
   {
    "duration": 45,
    "start_time": "2021-10-30T11:29:16.833Z"
   },
   {
    "duration": 3,
    "start_time": "2021-10-30T11:29:16.879Z"
   },
   {
    "duration": 4,
    "start_time": "2021-10-30T11:29:16.884Z"
   },
   {
    "duration": 5,
    "start_time": "2021-10-30T11:29:39.374Z"
   },
   {
    "duration": 4,
    "start_time": "2021-10-30T11:29:52.465Z"
   },
   {
    "duration": 11,
    "start_time": "2021-10-30T11:29:53.071Z"
   },
   {
    "duration": 5,
    "start_time": "2021-10-30T11:30:27.123Z"
   },
   {
    "duration": 9,
    "start_time": "2021-10-30T11:30:47.006Z"
   },
   {
    "duration": 3,
    "start_time": "2021-10-30T11:32:17.453Z"
   },
   {
    "duration": 8,
    "start_time": "2021-10-30T11:32:18.284Z"
   },
   {
    "duration": 630,
    "start_time": "2021-10-30T11:32:29.893Z"
   },
   {
    "duration": 263,
    "start_time": "2021-10-30T11:32:30.525Z"
   },
   {
    "duration": 14,
    "start_time": "2021-10-30T11:32:30.791Z"
   },
   {
    "duration": 25,
    "start_time": "2021-10-30T11:32:30.807Z"
   },
   {
    "duration": 17,
    "start_time": "2021-10-30T11:32:30.834Z"
   },
   {
    "duration": 24,
    "start_time": "2021-10-30T11:32:30.853Z"
   },
   {
    "duration": 17,
    "start_time": "2021-10-30T11:32:30.879Z"
   },
   {
    "duration": 22,
    "start_time": "2021-10-30T11:32:30.899Z"
   },
   {
    "duration": 13,
    "start_time": "2021-10-30T11:32:30.924Z"
   },
   {
    "duration": 40,
    "start_time": "2021-10-30T11:32:30.938Z"
   },
   {
    "duration": 3,
    "start_time": "2021-10-30T11:32:30.979Z"
   },
   {
    "duration": 13,
    "start_time": "2021-10-30T11:32:30.984Z"
   },
   {
    "duration": 3,
    "start_time": "2021-10-30T11:32:30.999Z"
   },
   {
    "duration": 12,
    "start_time": "2021-10-30T11:32:31.004Z"
   },
   {
    "duration": 6,
    "start_time": "2021-10-30T11:33:38.505Z"
   },
   {
    "duration": 19,
    "start_time": "2021-10-30T16:36:25.629Z"
   },
   {
    "duration": 6,
    "start_time": "2021-10-30T20:19:24.455Z"
   },
   {
    "duration": 16,
    "start_time": "2021-10-30T20:28:12.325Z"
   },
   {
    "duration": 125,
    "start_time": "2021-10-30T20:28:33.013Z"
   },
   {
    "duration": 115,
    "start_time": "2021-10-30T20:28:55.380Z"
   },
   {
    "duration": 13,
    "start_time": "2021-10-30T20:29:14.168Z"
   },
   {
    "duration": 14,
    "start_time": "2021-10-30T20:29:20.185Z"
   },
   {
    "duration": 21,
    "start_time": "2021-10-30T20:33:53.673Z"
   },
   {
    "duration": 16,
    "start_time": "2021-10-30T20:34:08.838Z"
   },
   {
    "duration": 17,
    "start_time": "2021-10-30T20:34:47.229Z"
   },
   {
    "duration": 382,
    "start_time": "2021-11-02T13:09:53.610Z"
   },
   {
    "duration": 649,
    "start_time": "2021-11-02T13:10:03.288Z"
   },
   {
    "duration": 282,
    "start_time": "2021-11-02T13:10:03.939Z"
   },
   {
    "duration": 16,
    "start_time": "2021-11-02T13:10:04.223Z"
   },
   {
    "duration": 9,
    "start_time": "2021-11-02T13:10:04.242Z"
   },
   {
    "duration": 33,
    "start_time": "2021-11-02T13:10:04.253Z"
   },
   {
    "duration": 11,
    "start_time": "2021-11-02T13:10:04.288Z"
   },
   {
    "duration": 21,
    "start_time": "2021-11-02T13:10:04.301Z"
   },
   {
    "duration": 20,
    "start_time": "2021-11-02T13:10:04.324Z"
   },
   {
    "duration": 57,
    "start_time": "2021-11-02T13:10:04.346Z"
   },
   {
    "duration": 13,
    "start_time": "2021-11-02T13:10:04.405Z"
   },
   {
    "duration": 14,
    "start_time": "2021-11-02T13:10:04.420Z"
   },
   {
    "duration": 3,
    "start_time": "2021-11-02T13:10:04.436Z"
   },
   {
    "duration": 39,
    "start_time": "2021-11-02T13:10:04.440Z"
   },
   {
    "duration": 12,
    "start_time": "2021-11-02T13:10:04.481Z"
   },
   {
    "duration": 21,
    "start_time": "2021-11-02T13:10:04.496Z"
   },
   {
    "duration": 16,
    "start_time": "2021-11-02T13:10:04.519Z"
   },
   {
    "duration": 11,
    "start_time": "2021-11-02T13:12:36.748Z"
   },
   {
    "duration": 14,
    "start_time": "2021-11-02T13:12:43.258Z"
   },
   {
    "duration": 15,
    "start_time": "2021-11-02T13:13:50.566Z"
   },
   {
    "duration": 17,
    "start_time": "2021-11-02T13:14:05.540Z"
   },
   {
    "duration": 17,
    "start_time": "2021-11-02T13:14:58.447Z"
   },
   {
    "duration": 389,
    "start_time": "2021-11-04T15:29:33.436Z"
   },
   {
    "duration": 653,
    "start_time": "2021-11-04T15:29:42.430Z"
   },
   {
    "duration": 273,
    "start_time": "2021-11-04T15:29:43.085Z"
   },
   {
    "duration": 15,
    "start_time": "2021-11-04T15:29:43.360Z"
   },
   {
    "duration": 10,
    "start_time": "2021-11-04T15:29:43.377Z"
   },
   {
    "duration": 25,
    "start_time": "2021-11-04T15:29:43.388Z"
   },
   {
    "duration": 11,
    "start_time": "2021-11-04T15:29:43.415Z"
   },
   {
    "duration": 22,
    "start_time": "2021-11-04T15:29:43.428Z"
   },
   {
    "duration": 24,
    "start_time": "2021-11-04T15:29:43.453Z"
   },
   {
    "duration": 58,
    "start_time": "2021-11-04T15:29:43.479Z"
   },
   {
    "duration": 13,
    "start_time": "2021-11-04T15:29:43.539Z"
   },
   {
    "duration": 15,
    "start_time": "2021-11-04T15:29:43.554Z"
   },
   {
    "duration": 3,
    "start_time": "2021-11-04T15:29:43.571Z"
   },
   {
    "duration": 42,
    "start_time": "2021-11-04T15:29:43.576Z"
   },
   {
    "duration": 12,
    "start_time": "2021-11-04T15:29:43.620Z"
   },
   {
    "duration": 23,
    "start_time": "2021-11-04T15:29:43.634Z"
   },
   {
    "duration": 49,
    "start_time": "2021-11-04T15:29:43.659Z"
   },
   {
    "duration": 28,
    "start_time": "2021-11-04T15:29:43.711Z"
   },
   {
    "duration": 439,
    "start_time": "2021-11-04T15:29:43.741Z"
   },
   {
    "duration": 379,
    "start_time": "2021-11-04T15:30:00.817Z"
   },
   {
    "duration": 26,
    "start_time": "2021-11-04T15:30:10.565Z"
   },
   {
    "duration": 36,
    "start_time": "2021-11-04T15:31:01.168Z"
   },
   {
    "duration": 26,
    "start_time": "2021-11-04T15:31:10.065Z"
   },
   {
    "duration": 27,
    "start_time": "2021-11-04T15:37:32.491Z"
   },
   {
    "duration": 28,
    "start_time": "2021-11-04T15:38:01.727Z"
   },
   {
    "duration": 28,
    "start_time": "2021-11-04T15:39:04.601Z"
   },
   {
    "duration": 25,
    "start_time": "2021-11-04T15:39:41.888Z"
   },
   {
    "duration": 366,
    "start_time": "2021-11-04T15:40:56.665Z"
   },
   {
    "duration": 33,
    "start_time": "2021-11-04T15:41:21.307Z"
   },
   {
    "duration": 14,
    "start_time": "2021-11-04T18:10:44.046Z"
   },
   {
    "duration": 295,
    "start_time": "2021-11-05T09:14:53.811Z"
   },
   {
    "duration": 733,
    "start_time": "2021-11-05T09:15:11.236Z"
   },
   {
    "duration": 196,
    "start_time": "2021-11-05T09:15:11.971Z"
   },
   {
    "duration": 22,
    "start_time": "2021-11-05T09:15:12.171Z"
   },
   {
    "duration": 13,
    "start_time": "2021-11-05T09:15:12.196Z"
   },
   {
    "duration": 29,
    "start_time": "2021-11-05T09:15:12.230Z"
   },
   {
    "duration": 10,
    "start_time": "2021-11-05T09:15:12.262Z"
   },
   {
    "duration": 57,
    "start_time": "2021-11-05T09:15:12.275Z"
   },
   {
    "duration": 23,
    "start_time": "2021-11-05T09:15:12.336Z"
   },
   {
    "duration": 33,
    "start_time": "2021-11-05T09:15:12.362Z"
   },
   {
    "duration": 48,
    "start_time": "2021-11-05T09:15:12.397Z"
   },
   {
    "duration": 22,
    "start_time": "2021-11-05T09:15:12.447Z"
   },
   {
    "duration": 15,
    "start_time": "2021-11-05T09:15:12.471Z"
   },
   {
    "duration": 26,
    "start_time": "2021-11-05T09:15:12.488Z"
   },
   {
    "duration": 11,
    "start_time": "2021-11-05T09:15:12.528Z"
   },
   {
    "duration": 44,
    "start_time": "2021-11-05T09:15:12.541Z"
   },
   {
    "duration": 19,
    "start_time": "2021-11-05T09:15:12.587Z"
   },
   {
    "duration": 37,
    "start_time": "2021-11-05T09:15:12.608Z"
   },
   {
    "duration": 36,
    "start_time": "2021-11-05T09:15:12.648Z"
   },
   {
    "duration": 44,
    "start_time": "2021-11-05T09:15:12.686Z"
   },
   {
    "duration": 390,
    "start_time": "2021-11-05T09:15:12.733Z"
   },
   {
    "duration": 100,
    "start_time": "2021-11-05T09:15:40.547Z"
   },
   {
    "duration": 3033,
    "start_time": "2021-11-05T09:22:38.614Z"
   },
   {
    "duration": 3239,
    "start_time": "2021-11-05T09:23:34.804Z"
   },
   {
    "duration": 2929,
    "start_time": "2021-11-05T09:24:59.050Z"
   },
   {
    "duration": 54,
    "start_time": "2021-11-05T12:45:50.416Z"
   },
   {
    "duration": 181,
    "start_time": "2021-11-05T12:46:22.545Z"
   },
   {
    "duration": 202,
    "start_time": "2021-11-05T12:47:12.731Z"
   },
   {
    "duration": 509,
    "start_time": "2021-11-05T12:47:25.845Z"
   },
   {
    "duration": 150,
    "start_time": "2021-11-05T12:47:26.356Z"
   },
   {
    "duration": 16,
    "start_time": "2021-11-05T12:47:26.511Z"
   },
   {
    "duration": 8,
    "start_time": "2021-11-05T12:47:26.529Z"
   },
   {
    "duration": 17,
    "start_time": "2021-11-05T12:47:26.539Z"
   },
   {
    "duration": 35,
    "start_time": "2021-11-05T12:47:26.557Z"
   },
   {
    "duration": 19,
    "start_time": "2021-11-05T12:47:26.594Z"
   },
   {
    "duration": 17,
    "start_time": "2021-11-05T12:47:26.615Z"
   },
   {
    "duration": 20,
    "start_time": "2021-11-05T12:47:26.633Z"
   },
   {
    "duration": 39,
    "start_time": "2021-11-05T12:47:26.655Z"
   },
   {
    "duration": 14,
    "start_time": "2021-11-05T12:47:26.695Z"
   },
   {
    "duration": 3,
    "start_time": "2021-11-05T12:47:26.710Z"
   },
   {
    "duration": 11,
    "start_time": "2021-11-05T12:47:26.714Z"
   },
   {
    "duration": 7,
    "start_time": "2021-11-05T12:47:26.727Z"
   },
   {
    "duration": 15,
    "start_time": "2021-11-05T12:47:26.736Z"
   },
   {
    "duration": 40,
    "start_time": "2021-11-05T12:47:26.752Z"
   },
   {
    "duration": 16,
    "start_time": "2021-11-05T12:47:26.793Z"
   },
   {
    "duration": 22,
    "start_time": "2021-11-05T12:47:26.810Z"
   },
   {
    "duration": 11,
    "start_time": "2021-11-05T12:47:26.834Z"
   },
   {
    "duration": 3,
    "start_time": "2021-11-05T12:47:26.847Z"
   },
   {
    "duration": 47,
    "start_time": "2021-11-05T12:47:26.852Z"
   },
   {
    "duration": 26,
    "start_time": "2021-11-05T12:57:32.653Z"
   },
   {
    "duration": 4,
    "start_time": "2021-11-05T12:58:25.668Z"
   },
   {
    "duration": 24,
    "start_time": "2021-11-05T12:58:26.601Z"
   },
   {
    "duration": 4,
    "start_time": "2021-11-05T12:59:34.965Z"
   },
   {
    "duration": 27,
    "start_time": "2021-11-05T12:59:35.900Z"
   },
   {
    "duration": 3,
    "start_time": "2021-11-05T13:00:21.953Z"
   },
   {
    "duration": 33,
    "start_time": "2021-11-05T13:00:22.652Z"
   },
   {
    "duration": 31,
    "start_time": "2021-11-05T13:01:20.690Z"
   },
   {
    "duration": 38,
    "start_time": "2021-11-05T13:01:40.518Z"
   },
   {
    "duration": 4,
    "start_time": "2021-11-05T13:02:19.922Z"
   },
   {
    "duration": 37,
    "start_time": "2021-11-05T13:02:20.726Z"
   },
   {
    "duration": 4,
    "start_time": "2021-11-05T13:03:13.060Z"
   },
   {
    "duration": 37,
    "start_time": "2021-11-05T13:03:13.729Z"
   },
   {
    "duration": 30,
    "start_time": "2021-11-05T13:04:40.961Z"
   },
   {
    "duration": 60,
    "start_time": "2021-11-05T13:05:18.888Z"
   },
   {
    "duration": 4,
    "start_time": "2021-11-05T13:22:18.956Z"
   },
   {
    "duration": 67,
    "start_time": "2021-11-05T13:22:20.036Z"
   },
   {
    "duration": 37,
    "start_time": "2021-11-05T13:22:42.588Z"
   },
   {
    "duration": 242,
    "start_time": "2021-11-05T13:23:36.276Z"
   },
   {
    "duration": 14,
    "start_time": "2021-11-05T13:46:03.715Z"
   },
   {
    "duration": 17,
    "start_time": "2021-11-05T13:46:12.452Z"
   },
   {
    "duration": 18,
    "start_time": "2021-11-05T13:46:56.982Z"
   },
   {
    "duration": 19,
    "start_time": "2021-11-05T13:47:16.155Z"
   },
   {
    "duration": 361,
    "start_time": "2021-11-06T11:40:58.109Z"
   },
   {
    "duration": 602,
    "start_time": "2021-11-06T11:41:05.665Z"
   },
   {
    "duration": 218,
    "start_time": "2021-11-06T11:41:06.269Z"
   },
   {
    "duration": 15,
    "start_time": "2021-11-06T11:41:06.489Z"
   },
   {
    "duration": 11,
    "start_time": "2021-11-06T11:41:06.506Z"
   },
   {
    "duration": 27,
    "start_time": "2021-11-06T11:41:06.518Z"
   },
   {
    "duration": 8,
    "start_time": "2021-11-06T11:41:06.547Z"
   },
   {
    "duration": 20,
    "start_time": "2021-11-06T11:41:06.556Z"
   },
   {
    "duration": 18,
    "start_time": "2021-11-06T11:41:06.579Z"
   },
   {
    "duration": 52,
    "start_time": "2021-11-06T11:41:06.599Z"
   },
   {
    "duration": 13,
    "start_time": "2021-11-06T11:41:06.653Z"
   },
   {
    "duration": 15,
    "start_time": "2021-11-06T11:41:06.668Z"
   },
   {
    "duration": 3,
    "start_time": "2021-11-06T11:41:06.684Z"
   },
   {
    "duration": 12,
    "start_time": "2021-11-06T11:41:06.688Z"
   },
   {
    "duration": 8,
    "start_time": "2021-11-06T11:41:06.701Z"
   },
   {
    "duration": 45,
    "start_time": "2021-11-06T11:41:06.711Z"
   },
   {
    "duration": 14,
    "start_time": "2021-11-06T11:41:06.757Z"
   },
   {
    "duration": 19,
    "start_time": "2021-11-06T11:41:06.772Z"
   },
   {
    "duration": 52,
    "start_time": "2021-11-06T11:41:06.792Z"
   },
   {
    "duration": 15,
    "start_time": "2021-11-06T11:41:06.846Z"
   },
   {
    "duration": 3,
    "start_time": "2021-11-06T11:41:06.863Z"
   },
   {
    "duration": 47,
    "start_time": "2021-11-06T11:41:06.868Z"
   },
   {
    "duration": 38,
    "start_time": "2021-11-06T11:41:06.917Z"
   },
   {
    "duration": 3,
    "start_time": "2021-11-15T08:31:13.839Z"
   },
   {
    "duration": 1324,
    "start_time": "2021-11-15T08:31:13.844Z"
   },
   {
    "duration": -10,
    "start_time": "2021-11-15T08:31:15.180Z"
   },
   {
    "duration": -13,
    "start_time": "2021-11-15T08:31:15.184Z"
   },
   {
    "duration": -18,
    "start_time": "2021-11-15T08:31:15.190Z"
   },
   {
    "duration": -19,
    "start_time": "2021-11-15T08:31:15.192Z"
   },
   {
    "duration": -21,
    "start_time": "2021-11-15T08:31:15.195Z"
   },
   {
    "duration": -23,
    "start_time": "2021-11-15T08:31:15.198Z"
   },
   {
    "duration": -25,
    "start_time": "2021-11-15T08:31:15.201Z"
   },
   {
    "duration": -26,
    "start_time": "2021-11-15T08:31:15.203Z"
   },
   {
    "duration": -28,
    "start_time": "2021-11-15T08:31:15.206Z"
   },
   {
    "duration": -29,
    "start_time": "2021-11-15T08:31:15.208Z"
   },
   {
    "duration": -31,
    "start_time": "2021-11-15T08:31:15.211Z"
   },
   {
    "duration": -32,
    "start_time": "2021-11-15T08:31:15.213Z"
   },
   {
    "duration": -33,
    "start_time": "2021-11-15T08:31:15.215Z"
   },
   {
    "duration": -35,
    "start_time": "2021-11-15T08:31:15.218Z"
   },
   {
    "duration": -38,
    "start_time": "2021-11-15T08:31:15.222Z"
   },
   {
    "duration": -39,
    "start_time": "2021-11-15T08:31:15.224Z"
   },
   {
    "duration": -42,
    "start_time": "2021-11-15T08:31:15.228Z"
   },
   {
    "duration": -45,
    "start_time": "2021-11-15T08:31:15.232Z"
   },
   {
    "duration": -47,
    "start_time": "2021-11-15T08:31:15.235Z"
   },
   {
    "duration": -49,
    "start_time": "2021-11-15T08:31:15.238Z"
   },
   {
    "duration": -51,
    "start_time": "2021-11-15T08:31:15.241Z"
   },
   {
    "duration": -53,
    "start_time": "2021-11-15T08:31:15.244Z"
   },
   {
    "duration": -54,
    "start_time": "2021-11-15T08:31:15.246Z"
   },
   {
    "duration": -55,
    "start_time": "2021-11-15T08:31:15.248Z"
   },
   {
    "duration": -57,
    "start_time": "2021-11-15T08:31:15.251Z"
   },
   {
    "duration": -60,
    "start_time": "2021-11-15T08:31:15.255Z"
   },
   {
    "duration": -62,
    "start_time": "2021-11-15T08:31:15.258Z"
   },
   {
    "duration": -62,
    "start_time": "2021-11-15T08:31:15.260Z"
   },
   {
    "duration": -65,
    "start_time": "2021-11-15T08:31:15.263Z"
   },
   {
    "duration": -67,
    "start_time": "2021-11-15T08:31:15.266Z"
   },
   {
    "duration": -68,
    "start_time": "2021-11-15T08:31:15.268Z"
   },
   {
    "duration": -70,
    "start_time": "2021-11-15T08:31:15.271Z"
   },
   {
    "duration": -72,
    "start_time": "2021-11-15T08:31:15.274Z"
   },
   {
    "duration": 4,
    "start_time": "2021-11-15T09:09:17.602Z"
   },
   {
    "duration": 1105,
    "start_time": "2021-11-15T09:09:17.607Z"
   },
   {
    "duration": 214,
    "start_time": "2021-11-15T09:09:18.714Z"
   },
   {
    "duration": 14,
    "start_time": "2021-11-15T09:09:18.932Z"
   },
   {
    "duration": 15,
    "start_time": "2021-11-15T09:09:18.948Z"
   },
   {
    "duration": 40,
    "start_time": "2021-11-15T09:09:18.965Z"
   },
   {
    "duration": 8,
    "start_time": "2021-11-15T09:09:19.008Z"
   },
   {
    "duration": 32,
    "start_time": "2021-11-15T09:09:19.018Z"
   },
   {
    "duration": 33,
    "start_time": "2021-11-15T09:09:19.052Z"
   },
   {
    "duration": 24,
    "start_time": "2021-11-15T09:09:19.087Z"
   },
   {
    "duration": 26,
    "start_time": "2021-11-15T09:09:19.113Z"
   },
   {
    "duration": 9,
    "start_time": "2021-11-15T09:09:19.141Z"
   },
   {
    "duration": 22,
    "start_time": "2021-11-15T09:09:19.152Z"
   },
   {
    "duration": 29,
    "start_time": "2021-11-15T09:09:19.176Z"
   },
   {
    "duration": 24,
    "start_time": "2021-11-15T09:09:19.208Z"
   },
   {
    "duration": 179,
    "start_time": "2021-11-15T09:09:19.234Z"
   },
   {
    "duration": 14,
    "start_time": "2021-11-15T09:09:19.414Z"
   },
   {
    "duration": 113,
    "start_time": "2021-11-15T09:09:19.429Z"
   },
   {
    "duration": 16,
    "start_time": "2021-11-15T09:09:19.543Z"
   },
   {
    "duration": 41,
    "start_time": "2021-11-15T09:09:19.560Z"
   },
   {
    "duration": 3,
    "start_time": "2021-11-15T09:09:19.603Z"
   },
   {
    "duration": 12,
    "start_time": "2021-11-15T09:09:19.612Z"
   },
   {
    "duration": 24,
    "start_time": "2021-11-15T09:09:19.626Z"
   },
   {
    "duration": 23,
    "start_time": "2021-11-15T09:09:19.651Z"
   },
   {
    "duration": 265,
    "start_time": "2021-11-15T09:09:19.676Z"
   },
   {
    "duration": 3,
    "start_time": "2021-11-15T09:09:19.943Z"
   },
   {
    "duration": 63,
    "start_time": "2021-11-15T09:09:19.948Z"
   },
   {
    "duration": 21,
    "start_time": "2021-11-15T09:09:20.013Z"
   },
   {
    "duration": 414,
    "start_time": "2021-11-15T09:09:20.036Z"
   },
   {
    "duration": 4,
    "start_time": "2021-11-15T09:09:20.451Z"
   },
   {
    "duration": 1115,
    "start_time": "2021-11-15T09:09:20.456Z"
   },
   {
    "duration": -29,
    "start_time": "2021-11-15T09:09:21.602Z"
   },
   {
    "duration": -32,
    "start_time": "2021-11-15T09:09:21.606Z"
   },
   {
    "duration": -33,
    "start_time": "2021-11-15T09:09:21.608Z"
   },
   {
    "duration": -35,
    "start_time": "2021-11-15T09:09:21.611Z"
   },
   {
    "duration": 8,
    "start_time": "2021-11-15T09:13:01.357Z"
   },
   {
    "duration": 8,
    "start_time": "2021-11-15T09:13:22.837Z"
   },
   {
    "duration": 4635,
    "start_time": "2021-11-15T09:22:18.339Z"
   },
   {
    "duration": 2,
    "start_time": "2021-11-15T09:22:33.582Z"
   },
   {
    "duration": 1230,
    "start_time": "2021-11-15T09:22:33.586Z"
   },
   {
    "duration": 158,
    "start_time": "2021-11-15T09:22:34.818Z"
   },
   {
    "duration": 12,
    "start_time": "2021-11-15T09:22:34.978Z"
   },
   {
    "duration": 10,
    "start_time": "2021-11-15T09:22:34.992Z"
   },
   {
    "duration": 20,
    "start_time": "2021-11-15T09:22:35.004Z"
   },
   {
    "duration": 9,
    "start_time": "2021-11-15T09:22:35.025Z"
   },
   {
    "duration": 22,
    "start_time": "2021-11-15T09:22:35.036Z"
   },
   {
    "duration": 48,
    "start_time": "2021-11-15T09:22:35.060Z"
   },
   {
    "duration": 28,
    "start_time": "2021-11-15T09:22:35.110Z"
   },
   {
    "duration": 51,
    "start_time": "2021-11-15T09:22:35.141Z"
   },
   {
    "duration": 4,
    "start_time": "2021-11-15T09:22:35.194Z"
   },
   {
    "duration": 13,
    "start_time": "2021-11-15T09:22:35.200Z"
   },
   {
    "duration": 21,
    "start_time": "2021-11-15T09:22:35.215Z"
   },
   {
    "duration": 8,
    "start_time": "2021-11-15T09:22:35.237Z"
   },
   {
    "duration": 18,
    "start_time": "2021-11-15T09:22:35.247Z"
   },
   {
    "duration": 178,
    "start_time": "2021-11-15T09:22:35.267Z"
   },
   {
    "duration": 13,
    "start_time": "2021-11-15T09:22:35.447Z"
   },
   {
    "duration": 114,
    "start_time": "2021-11-15T09:22:35.461Z"
   },
   {
    "duration": 24,
    "start_time": "2021-11-15T09:22:35.577Z"
   },
   {
    "duration": 22,
    "start_time": "2021-11-15T09:22:35.602Z"
   },
   {
    "duration": 3,
    "start_time": "2021-11-15T09:22:35.625Z"
   },
   {
    "duration": 11,
    "start_time": "2021-11-15T09:22:35.631Z"
   },
   {
    "duration": 49,
    "start_time": "2021-11-15T09:22:35.645Z"
   },
   {
    "duration": 14,
    "start_time": "2021-11-15T09:22:35.695Z"
   },
   {
    "duration": 260,
    "start_time": "2021-11-15T09:22:35.711Z"
   },
   {
    "duration": 4,
    "start_time": "2021-11-15T09:22:35.972Z"
   },
   {
    "duration": 51,
    "start_time": "2021-11-15T09:22:35.978Z"
   },
   {
    "duration": 18,
    "start_time": "2021-11-15T09:22:36.031Z"
   },
   {
    "duration": 357,
    "start_time": "2021-11-15T09:22:36.051Z"
   },
   {
    "duration": 3,
    "start_time": "2021-11-15T09:22:36.410Z"
   },
   {
    "duration": 4728,
    "start_time": "2021-11-15T09:22:36.415Z"
   },
   {
    "duration": 9,
    "start_time": "2021-11-15T09:22:41.145Z"
   },
   {
    "duration": 297388,
    "start_time": "2021-11-15T09:22:41.156Z"
   },
   {
    "duration": 2,
    "start_time": "2021-11-15T09:27:38.546Z"
   },
   {
    "duration": 2415,
    "start_time": "2021-11-15T09:27:38.550Z"
   },
   {
    "duration": 44,
    "start_time": "2021-11-15T09:28:19.116Z"
   },
   {
    "duration": 3,
    "start_time": "2021-11-17T04:12:27.429Z"
   },
   {
    "duration": 1484,
    "start_time": "2021-11-17T04:12:27.434Z"
   },
   {
    "duration": 20,
    "start_time": "2021-11-17T04:12:28.900Z"
   },
   {
    "duration": 15,
    "start_time": "2021-11-17T04:12:28.907Z"
   },
   {
    "duration": 11,
    "start_time": "2021-11-17T04:12:28.911Z"
   },
   {
    "duration": 5,
    "start_time": "2021-11-17T04:12:28.919Z"
   },
   {
    "duration": 2,
    "start_time": "2021-11-17T04:12:28.923Z"
   },
   {
    "duration": -1,
    "start_time": "2021-11-17T04:12:28.927Z"
   },
   {
    "duration": -5,
    "start_time": "2021-11-17T04:12:28.931Z"
   },
   {
    "duration": -8,
    "start_time": "2021-11-17T04:12:28.935Z"
   },
   {
    "duration": -12,
    "start_time": "2021-11-17T04:12:28.940Z"
   },
   {
    "duration": -15,
    "start_time": "2021-11-17T04:12:28.944Z"
   },
   {
    "duration": -17,
    "start_time": "2021-11-17T04:12:28.947Z"
   },
   {
    "duration": -22,
    "start_time": "2021-11-17T04:12:28.953Z"
   },
   {
    "duration": -25,
    "start_time": "2021-11-17T04:12:28.957Z"
   },
   {
    "duration": -27,
    "start_time": "2021-11-17T04:12:28.960Z"
   },
   {
    "duration": -31,
    "start_time": "2021-11-17T04:12:28.965Z"
   },
   {
    "duration": -33,
    "start_time": "2021-11-17T04:12:28.968Z"
   },
   {
    "duration": -36,
    "start_time": "2021-11-17T04:12:28.972Z"
   },
   {
    "duration": -39,
    "start_time": "2021-11-17T04:12:28.976Z"
   },
   {
    "duration": -42,
    "start_time": "2021-11-17T04:12:28.980Z"
   },
   {
    "duration": -46,
    "start_time": "2021-11-17T04:12:28.985Z"
   },
   {
    "duration": -49,
    "start_time": "2021-11-17T04:12:28.989Z"
   },
   {
    "duration": -50,
    "start_time": "2021-11-17T04:12:28.992Z"
   },
   {
    "duration": -54,
    "start_time": "2021-11-17T04:12:28.997Z"
   },
   {
    "duration": -56,
    "start_time": "2021-11-17T04:12:29.000Z"
   },
   {
    "duration": -60,
    "start_time": "2021-11-17T04:12:29.005Z"
   },
   {
    "duration": -62,
    "start_time": "2021-11-17T04:12:29.008Z"
   },
   {
    "duration": -64,
    "start_time": "2021-11-17T04:12:29.012Z"
   },
   {
    "duration": -68,
    "start_time": "2021-11-17T04:12:29.017Z"
   },
   {
    "duration": -70,
    "start_time": "2021-11-17T04:12:29.020Z"
   },
   {
    "duration": -73,
    "start_time": "2021-11-17T04:12:29.024Z"
   },
   {
    "duration": -75,
    "start_time": "2021-11-17T04:12:29.027Z"
   },
   {
    "duration": -78,
    "start_time": "2021-11-17T04:12:29.031Z"
   },
   {
    "duration": -83,
    "start_time": "2021-11-17T04:12:29.037Z"
   },
   {
    "duration": -86,
    "start_time": "2021-11-17T04:12:29.041Z"
   },
   {
    "duration": -89,
    "start_time": "2021-11-17T04:12:29.045Z"
   },
   {
    "duration": 102259,
    "start_time": "2021-11-17T04:16:07.119Z"
   },
   {
    "duration": 3,
    "start_time": "2021-11-17T04:19:00.410Z"
   },
   {
    "duration": 1299,
    "start_time": "2021-11-17T04:19:00.414Z"
   },
   {
    "duration": 221,
    "start_time": "2021-11-17T04:19:01.716Z"
   },
   {
    "duration": 14,
    "start_time": "2021-11-17T04:19:01.939Z"
   },
   {
    "duration": 17,
    "start_time": "2021-11-17T04:19:01.954Z"
   },
   {
    "duration": 32,
    "start_time": "2021-11-17T04:19:01.973Z"
   },
   {
    "duration": 8,
    "start_time": "2021-11-17T04:19:02.007Z"
   },
   {
    "duration": 27,
    "start_time": "2021-11-17T04:19:02.017Z"
   },
   {
    "duration": 18,
    "start_time": "2021-11-17T04:19:02.047Z"
   },
   {
    "duration": 22,
    "start_time": "2021-11-17T04:19:02.067Z"
   },
   {
    "duration": 26,
    "start_time": "2021-11-17T04:19:02.091Z"
   },
   {
    "duration": 33,
    "start_time": "2021-11-17T04:19:02.119Z"
   },
   {
    "duration": 9,
    "start_time": "2021-11-17T04:19:02.154Z"
   },
   {
    "duration": 14,
    "start_time": "2021-11-17T04:19:02.164Z"
   },
   {
    "duration": 25,
    "start_time": "2021-11-17T04:19:02.180Z"
   },
   {
    "duration": 281,
    "start_time": "2021-11-17T04:19:02.207Z"
   },
   {
    "duration": 14,
    "start_time": "2021-11-17T04:19:02.490Z"
   },
   {
    "duration": 115,
    "start_time": "2021-11-17T04:19:02.506Z"
   },
   {
    "duration": 22,
    "start_time": "2021-11-17T04:19:02.623Z"
   },
   {
    "duration": 314,
    "start_time": "2021-11-17T04:19:02.647Z"
   },
   {
    "duration": 23,
    "start_time": "2021-11-17T04:19:02.963Z"
   },
   {
    "duration": 4,
    "start_time": "2021-11-17T04:19:02.987Z"
   },
   {
    "duration": 13,
    "start_time": "2021-11-17T04:19:02.995Z"
   },
   {
    "duration": 41,
    "start_time": "2021-11-17T04:19:03.010Z"
   },
   {
    "duration": 16,
    "start_time": "2021-11-17T04:19:03.053Z"
   },
   {
    "duration": 266,
    "start_time": "2021-11-17T04:19:03.070Z"
   },
   {
    "duration": 8,
    "start_time": "2021-11-17T04:19:03.338Z"
   },
   {
    "duration": 53,
    "start_time": "2021-11-17T04:19:03.347Z"
   },
   {
    "duration": 55,
    "start_time": "2021-11-17T04:19:03.402Z"
   },
   {
    "duration": 18,
    "start_time": "2021-11-17T04:19:03.459Z"
   },
   {
    "duration": 276,
    "start_time": "2021-11-17T04:19:03.479Z"
   },
   {
    "duration": 3,
    "start_time": "2021-11-17T04:19:03.757Z"
   },
   {
    "duration": 4735,
    "start_time": "2021-11-17T04:19:03.762Z"
   },
   {
    "duration": 11,
    "start_time": "2021-11-17T04:19:08.499Z"
   },
   {
    "duration": 295969,
    "start_time": "2021-11-17T04:19:08.512Z"
   },
   {
    "duration": 3,
    "start_time": "2021-11-17T04:24:04.483Z"
   },
   {
    "duration": 2262,
    "start_time": "2021-11-17T04:24:04.488Z"
   }
  ],
  "kernelspec": {
   "display_name": "Python 3",
   "language": "python",
   "name": "python3"
  },
  "language_info": {
   "codemirror_mode": {
    "name": "ipython",
    "version": 3
   },
   "file_extension": ".py",
   "mimetype": "text/x-python",
   "name": "python",
   "nbconvert_exporter": "python",
   "pygments_lexer": "ipython3",
   "version": "3.7.6"
  },
  "toc": {
   "base_numbering": 1,
   "nav_menu": {},
   "number_sections": true,
   "sideBar": true,
   "skip_h1_title": true,
   "title_cell": "Table of Contents",
   "title_sidebar": "Contents",
   "toc_cell": false,
   "toc_position": {},
   "toc_section_display": true,
   "toc_window_display": false
  }
 },
 "nbformat": 4,
 "nbformat_minor": 2
}
